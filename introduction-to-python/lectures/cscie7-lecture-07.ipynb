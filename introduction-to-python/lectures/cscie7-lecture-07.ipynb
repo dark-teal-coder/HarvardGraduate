{
 "cells": [
  {
   "cell_type": "markdown",
   "metadata": {},
   "source": [
    "# CSCI E7 Introduction to Programming with Python\n",
    "## Lecture 07 Jupyter Notebook\n",
    "Fall 2021 (c) Jeff Parker"
   ]
  },
  {
   "cell_type": "markdown",
   "metadata": {},
   "source": [
    "# Topics\n",
    "\n",
    "- Code like a Pythonista\n",
    "- List Comprehensions\n",
    "- Program Practice\n",
    "- Slice is Forgiving\n",
    "- Tuples\n",
    "- Globals - Threat or Menace?\n",
    "- String Formatting\n",
    "- Tk File Picker"
   ]
  },
  {
   "cell_type": "markdown",
   "metadata": {},
   "source": [
    "## Rules to live by"
   ]
  },
  {
   "cell_type": "markdown",
   "metadata": {},
   "source": [
    "## Desiderata \n",
    "\n",
    "Max Ehrmann\n",
    "\n",
    "Go placidly amid the noise and haste, and remember what peace there may be in silence.\n",
    "\n",
    "As far as possible, without surrender, be on good terms with all persons. Speak your truth quietly and clearly; and listen to others, even to the dull and the ignorant, they too have their story. Avoid loud and aggressive persons, they are vexations to the spirit.\n",
    "\n",
    "If you compare yourself with others, you may become vain and bitter; for always there will be greater and lesser persons than yourself. Enjoy your achievements as well as your plans. Keep interested in your own career, however humble; it is a real possession in the changing fortunes of time.\n",
    "\n",
    "Exercise caution in your business affairs, for the world is full of trickery. But let this not blind you to what virtue there is; many persons strive for high ideals, and everywhere life is full of heroism. Be yourself. Especially, do not feign affection. Neither be cynical about love, for in the face of all aridity and disenchantment it is perennial as the grass.\n",
    "\n",
    "Take kindly to the counsel of the years, gracefully surrendering the things of youth. Nurture strength of spirit to shield you in sudden misfortune. But do not distress yourself with dark imaginings. Many fears are born of fatigue and loneliness.\n",
    "\n",
    "Beyond a wholesome discipline, be gentle with yourself. You are a child of the universe, no less than the trees and the stars; you have a right to be here. And whether or not it is clear to you, no doubt the universe is unfolding as it should.\n",
    "\n",
    "Therefore be at peace with God, whatever you conceive Him to be, and whatever your labors and aspirations, in the noisy confusion of life, keep peace in your soul.\n",
    "\n",
    "With all its sham, drudgery and broken dreams, it is still a beautiful world.\n",
    "\n",
    "Be cheerful. Strive to be happy.\n",
    "\n",
    "https://en.wikipedia.org/wiki/Desiderata"
   ]
  },
  {
   "cell_type": "markdown",
   "metadata": {},
   "source": [
    "# Code Like a Pythonista!\n",
    "\n",
    "### A guide to idiomatic Python\n",
    "\n",
    "### http://www.omahapython.org/IdiomaticPython.html\n",
    "\n",
    "### You know enough Python to start puzzling through this"
   ]
  },
  {
   "cell_type": "markdown",
   "metadata": {},
   "source": [
    "# List Comprehensions"
   ]
  },
  {
   "cell_type": "markdown",
   "metadata": {},
   "source": [
    "### Iterating over something and returning a filtered list is a common operation.  \n",
    "### Common enough that there is an idiom for it.\n",
    "### Before:\n",
    "\n",
    "```python\n",
    "    # Take the following fragment of pseudo-code\n",
    "    new_list = []\n",
    "    for item in collection:\n",
    "        if condition(item):   \n",
    "            new_list.append(item)\n",
    "```\n",
    "\n",
    "### Rewrite as a List Comprehension\n",
    "\n",
    "```python\n",
    "    # and rewrite as the following pseudo-code\n",
    "    new_list = [ item for item in collection \n",
    "                      if condition(item) ]\n",
    "```\n",
    "## We can use for filter, map and reduce\n",
    "- Filter: return those that match\n",
    "- Map: return a transformed list: Pounds to Kilos, or (Ht, Wt) -> BMI\n",
    "- Reduce: Take a list and summarize - take sum, average, stdev, etc...\n",
    "\n",
    "Our examples will focus on Filtering"
   ]
  },
  {
   "cell_type": "markdown",
   "metadata": {},
   "source": [
    "## An Example of List Comprehension"
   ]
  },
  {
   "cell_type": "code",
   "execution_count": null,
   "metadata": {},
   "outputs": [],
   "source": [
    "lst = ['ship', 'set', 'mast']"
   ]
  },
  {
   "cell_type": "code",
   "execution_count": null,
   "metadata": {
    "scrolled": true
   },
   "outputs": [],
   "source": [
    "## Before\n",
    "\n",
    "res = [] \n",
    "for word in lst:\n",
    "    if (len(word) == 4) and (word[-1] == 't'): \n",
    "        res.append(word)"
   ]
  },
  {
   "cell_type": "code",
   "execution_count": null,
   "metadata": {},
   "outputs": [],
   "source": [
    "print(res)"
   ]
  },
  {
   "cell_type": "markdown",
   "metadata": {},
   "source": [
    "## Replace with list comprehension"
   ]
  },
  {
   "cell_type": "code",
   "execution_count": null,
   "metadata": {
    "scrolled": true
   },
   "outputs": [],
   "source": [
    "res = [ word for word in lst \n",
    "            if (len(word) == 4) and (word[-1] == 't') ] "
   ]
  },
  {
   "cell_type": "code",
   "execution_count": null,
   "metadata": {},
   "outputs": [],
   "source": [
    "print(res)"
   ]
  },
  {
   "cell_type": "code",
   "execution_count": null,
   "metadata": {},
   "outputs": [],
   "source": [
    "print([ word for word in lst \n",
    "            if (len(word) == 4) and (word[-1] == 't') ] )"
   ]
  },
  {
   "cell_type": "markdown",
   "metadata": {},
   "source": [
    "# Reversals: Before"
   ]
  },
  {
   "cell_type": "code",
   "execution_count": null,
   "metadata": {},
   "outputs": [],
   "source": [
    "s = ['abut', 'ant', 'fork', 'rat', 'tar', 'tuba', 'zap']"
   ]
  },
  {
   "cell_type": "code",
   "execution_count": null,
   "metadata": {
    "scrolled": true
   },
   "outputs": [],
   "source": [
    "def build_list(lst: list) -> list:\n",
    "    res = []\n",
    "\n",
    "    # Take each word in the list, and see if it's reverse is there as well\n",
    "    for word in lst:\n",
    "        rev = word[::-1]\n",
    "        # Don't include ('tuba', 'abut')\n",
    "        if (rev in lst) and (word <= rev):\n",
    "            res.append([word, rev])\n",
    "    return res\n",
    "\n",
    "print(build_list(s))"
   ]
  },
  {
   "cell_type": "markdown",
   "metadata": {},
   "source": [
    "## Rewrite using List Comprehensions"
   ]
  },
  {
   "cell_type": "code",
   "execution_count": null,
   "metadata": {
    "scrolled": true
   },
   "outputs": [],
   "source": [
    "## List Comprehensions\n",
    "def build_list(lst: list) -> list:\n",
    "    # lst has 113,809 words\n",
    "    \n",
    "    # Find those with a reverse in the dictionary\n",
    "    lst1 = [wrd for wrd in lst \n",
    "                    if (wrd[::-1] in lst)]\n",
    "    # 885 words\n",
    "    # [’tuba’,…,’aa’,…’yay’…’abut’,…]\n",
    "\n",
    "    # Filter out 'tuba' vs 'abut'\n",
    "    lst2 = [wrd for wrd in lst1 \n",
    "                    if (wrd[::-1] >= wrd)]\n",
    "    # 488 words - ‘tuba’ is gone\n",
    "\n",
    "    # Build a list of the pairs of words\n",
    "    return  [[wrd, wrd[::-1]] for wrd in lst2]\n",
    "    # 488 pairs of words\n",
    "    \n",
    "print(build_list(s))"
   ]
  },
  {
   "cell_type": "markdown",
   "metadata": {},
   "source": [
    "## But we can write this as one list comprehension"
   ]
  },
  {
   "cell_type": "code",
   "execution_count": null,
   "metadata": {
    "scrolled": true
   },
   "outputs": [],
   "source": [
    "# After\n",
    "def build_list(lst: list) -> list:\n",
    "    return [[word, word[::-1]] \n",
    "            for word in lst \n",
    "                 if (word <= word[::-1]) and (word[::-1] in lst)]"
   ]
  },
  {
   "cell_type": "code",
   "execution_count": null,
   "metadata": {},
   "outputs": [],
   "source": [
    "print(build_list(s))"
   ]
  },
  {
   "cell_type": "markdown",
   "metadata": {},
   "source": [
    "## How about this?"
   ]
  },
  {
   "cell_type": "code",
   "execution_count": null,
   "metadata": {
    "scrolled": true
   },
   "outputs": [],
   "source": [
    "# After\n",
    "def build_list(lst: list) -> list:\n",
    "    return [[word, word[::-1]] for word in lst if (word <= word[::-1]) and (word[::-1] in lst)]\n",
    "\n",
    "print(build_list(s))"
   ]
  },
  {
   "cell_type": "markdown",
   "metadata": {},
   "source": [
    "## Violates PEP-8"
   ]
  },
  {
   "cell_type": "code",
   "execution_count": null,
   "metadata": {},
   "outputs": [],
   "source": [
    "# After\n",
    "def build_list(lst: list) -> list:\n",
    "    return [[word, word[::-1]] for word in lst if (word <= word[::-1]) and (word[::-1] in lst)]\n",
    "# 234567890123456789012345678901234567890123456789012345678901234567890123456789"
   ]
  },
  {
   "cell_type": "markdown",
   "metadata": {},
   "source": [
    "## List Comprehensions are as fast as a hand coded loop\n",
    "\n",
    "### No great speedup over finding reversals with a list\n",
    "### The bulk of the time is the test for membership.  "
   ]
  },
  {
   "cell_type": "markdown",
   "metadata": {},
   "source": [
    "# Hal Abelson on legibility\n",
    "\n",
    "“Programs must be written for people to read, and only incidentally for machines to execute.”  "
   ]
  },
  {
   "cell_type": "markdown",
   "metadata": {},
   "source": [
    " # Alfred North Whitehead on Notation\n",
    "\n",
    "\"Of course, nothing is more incomprehensible than a symbolism which we do not understand....\n",
    "\n",
    "\"[But by] relieving \n",
    "the brain of all unnecessary work, a good \n",
    "notation sets it free to concentrate on more \n",
    "advanced problems, and in effect increases \n",
    "[our] mental power\""
   ]
  },
  {
   "cell_type": "markdown",
   "metadata": {},
   "source": [
    "## Pythonistas use list comprehension.  \n",
    "\n",
    "### You may not want to use them at first\n",
    "### But to read code out there, you will need to be able to understand them.    "
   ]
  },
  {
   "cell_type": "markdown",
   "metadata": {},
   "source": [
    "## Here is another idiom you will encounter.\n",
    "## What does this cell do?"
   ]
  },
  {
   "cell_type": "code",
   "execution_count": null,
   "metadata": {
    "scrolled": true
   },
   "outputs": [],
   "source": [
    "[print(x) for x in range(3)]"
   ]
  },
  {
   "cell_type": "markdown",
   "metadata": {},
   "source": [
    "## Document this: Catch the return value in variable 'garbage'"
   ]
  },
  {
   "cell_type": "code",
   "execution_count": null,
   "metadata": {
    "scrolled": true
   },
   "outputs": [],
   "source": [
    "garbage = [print(x) for x in range(3)]"
   ]
  },
  {
   "cell_type": "markdown",
   "metadata": {},
   "source": [
    "## What does this cell do?\n",
    "\n",
    "## Idiom: Zero is False.  Non zero integers are True.  \n",
    "\n",
    "## You will encounter this often.\n",
    "\n",
    "## Pythonistas like Guido favor this idiom.  "
   ]
  },
  {
   "cell_type": "code",
   "execution_count": null,
   "metadata": {
    "scrolled": true
   },
   "outputs": [],
   "source": [
    "garbage = [print(x) for x in range(10) if x % 2]"
   ]
  },
  {
   "cell_type": "markdown",
   "metadata": {},
   "source": [
    "# Problem"
   ]
  },
  {
   "cell_type": "markdown",
   "metadata": {},
   "source": [
    "## Find all numbers from 1-1000 that are divisible by 7 and have the digit 3 in them.\n",
    "\n",
    "## We start by implementing the easy part to get going\n",
    "## *Get it running, get it right, then make it fast*\n",
    "We start with the numbers less than 100"
   ]
  },
  {
   "cell_type": "code",
   "execution_count": null,
   "metadata": {
    "scrolled": true
   },
   "outputs": [],
   "source": [
    "# Starting point\n",
    "for i in range(100):\n",
    "    if (i % 7 ) == 0:\n",
    "        print(i)"
   ]
  },
  {
   "cell_type": "markdown",
   "metadata": {},
   "source": [
    "### Start at 1, and simplify the test\n",
    "\n",
    "### 0 is False, and other integers are not False"
   ]
  },
  {
   "cell_type": "code",
   "execution_count": null,
   "metadata": {
    "scrolled": true
   },
   "outputs": [],
   "source": [
    "# Starting point\n",
    "for i in range(1, 100):\n",
    "    if not (i % 7):\n",
    "        print(i)"
   ]
  },
  {
   "cell_type": "markdown",
   "metadata": {},
   "source": [
    "## Rewrite as list comprehension"
   ]
  },
  {
   "cell_type": "code",
   "execution_count": null,
   "metadata": {
    "scrolled": true
   },
   "outputs": [],
   "source": [
    "# Rewrite as list comprehension\n",
    "[i for i in range(1, 1001) \n",
    "     if not (i % 7)]"
   ]
  },
  {
   "cell_type": "markdown",
   "metadata": {},
   "source": [
    "## How can we test if a number contains the digit 3?\n",
    "\n",
    "## We need to get the representations for the number\n",
    "\n",
    "str(num) returns a string"
   ]
  },
  {
   "cell_type": "code",
   "execution_count": null,
   "metadata": {},
   "outputs": [],
   "source": [
    "'3' in str(123)"
   ]
  },
  {
   "cell_type": "code",
   "execution_count": null,
   "metadata": {
    "scrolled": true
   },
   "outputs": [],
   "source": [
    "for i in range(20):\n",
    "    if ('3' in str(i)):\n",
    "        print(i)"
   ]
  },
  {
   "cell_type": "code",
   "execution_count": null,
   "metadata": {
    "scrolled": true
   },
   "outputs": [],
   "source": [
    "# Starting point\n",
    "for i in range(1, 100):\n",
    "    if not (i % 7 ):\n",
    "        if '3' in str(i):\n",
    "            print(i)"
   ]
  },
  {
   "cell_type": "markdown",
   "metadata": {},
   "source": [
    "## Rewrite using List Comprehension\n",
    "\n",
    "Another example of Filtering"
   ]
  },
  {
   "cell_type": "code",
   "execution_count": null,
   "metadata": {
    "scrolled": true
   },
   "outputs": [],
   "source": [
    "[i for i in range(1, 1001) \n",
    "      if not (i % 7) and ('3' in str(i))]"
   ]
  },
  {
   "cell_type": "markdown",
   "metadata": {},
   "source": [
    "# Program Practice\n",
    "## Long words begining with 'y'\n",
    "## How many words of 10 letters or more begin with 'y'?"
   ]
  },
  {
   "cell_type": "code",
   "execution_count": null,
   "metadata": {},
   "outputs": [],
   "source": [
    "with open('../words.txt', 'r') as words:\n",
    "    result = []\n",
    "    for word in words:\n",
    "        if len(word) >= 10 and word[0] == 'y':\n",
    "            result.append(word)\n",
    "\n",
    "    print(result)"
   ]
  },
  {
   "cell_type": "markdown",
   "metadata": {},
   "source": [
    "## Strip() the newline"
   ]
  },
  {
   "cell_type": "code",
   "execution_count": null,
   "metadata": {},
   "outputs": [],
   "source": [
    "with open('../words.txt', 'r') as words:\n",
    "    result = []\n",
    "    for word in words:\n",
    "        if len(word) >= 10 and word[0] == 'y':\n",
    "            result.append(word.strip())\n",
    "\n",
    "    print(result)"
   ]
  },
  {
   "cell_type": "markdown",
   "metadata": {},
   "source": [
    "## Most of these words have 9 letters\n",
    "### We are counting the \\n"
   ]
  },
  {
   "cell_type": "code",
   "execution_count": null,
   "metadata": {},
   "outputs": [],
   "source": [
    "with open('../words.txt', 'r') as words:\n",
    "    result = []\n",
    "    for word in words:\n",
    "        word = word.strip()\n",
    "        if len(word) >= 10 and word[0] == 'y':\n",
    "            result.append(word)\n",
    "\n",
    "    print(result)"
   ]
  },
  {
   "cell_type": "markdown",
   "metadata": {},
   "source": [
    "## Rewrite as a List Comprehension"
   ]
  },
  {
   "cell_type": "code",
   "execution_count": null,
   "metadata": {},
   "outputs": [],
   "source": [
    "with open('../words.txt', 'r') as words:\n",
    "    result = [word.strip() for word in words if len(word) > 10 and word[0] == 'y' ]\n",
    "\n",
    "    print(result)"
   ]
  },
  {
   "cell_type": "markdown",
   "metadata": {},
   "source": [
    "# Nested loops\n",
    "## We can nest Loop Comprehensions to get the product"
   ]
  },
  {
   "cell_type": "code",
   "execution_count": null,
   "metadata": {
    "scrolled": true
   },
   "outputs": [],
   "source": [
    "[(word, ch) for word in ['one', 'two', 'three', 'four'] \n",
    "                for ch in 'aeiou']"
   ]
  },
  {
   "cell_type": "markdown",
   "metadata": {},
   "source": [
    "## Add a condition: list the words, and only the vowels they contain"
   ]
  },
  {
   "cell_type": "code",
   "execution_count": null,
   "metadata": {
    "scrolled": true
   },
   "outputs": [],
   "source": [
    "[(word, ch) for word in ['one', 'two', 'three', 'four'] \n",
    "                for ch in 'aeiou' \n",
    "                    if ch in word]"
   ]
  },
  {
   "cell_type": "markdown",
   "metadata": {},
   "source": [
    "## Pythagorean Triples \n",
    "\n",
    "Looking for $(x, y, z)$ such that\n",
    "\n",
    "$x^2 + y^2 = z^2$\n",
    "\n",
    "Restrict it to integers under 30.  Show each triple only once"
   ]
  },
  {
   "cell_type": "code",
   "execution_count": null,
   "metadata": {
    "scrolled": true
   },
   "outputs": [],
   "source": [
    "[(x,y,z) \n",
    "    for x in range(1,30) \n",
    "        for y in range(x,30) \n",
    "            for z in range(y,30) \n",
    "                if x**2 + y**2 == z**2]"
   ]
  },
  {
   "cell_type": "markdown",
   "metadata": {},
   "source": [
    "## *OK, maybe that was mathematics*"
   ]
  },
  {
   "cell_type": "markdown",
   "metadata": {},
   "source": [
    "# The Danger of a Short List"
   ]
  },
  {
   "cell_type": "code",
   "execution_count": null,
   "metadata": {
    "scrolled": false
   },
   "outputs": [],
   "source": [
    "lst = [1, 2, 3]\n",
    "\n",
    "# Print the first 10 in the lst\n",
    "for i in range(10):\n",
    "    print(lst[i]) "
   ]
  },
  {
   "cell_type": "markdown",
   "metadata": {},
   "source": [
    "## Ways we could protect ourselves\n",
    "- Try-catch IndexError\n",
    "- For i in range(min(10, len(lst))):\n",
    "\n",
    "But there is a simpler way: \n",
    "\n",
    "## \"Slice is Forgiving\""
   ]
  },
  {
   "cell_type": "code",
   "execution_count": null,
   "metadata": {
    "scrolled": true
   },
   "outputs": [],
   "source": [
    "lst = [1, 2, 3]\n",
    "\n",
    "# Print the first 10 in the lst\n",
    "for val in lst[:10]:\n",
    "    print(val) "
   ]
  },
  {
   "cell_type": "markdown",
   "metadata": {},
   "source": [
    "## This allows us to write a one-line Rotation\n",
    "\n",
    "This works even on an empty list"
   ]
  },
  {
   "cell_type": "code",
   "execution_count": null,
   "metadata": {},
   "outputs": [],
   "source": [
    "from typing import List\n",
    "\n",
    "def rotate(lst: List) -> List:\n",
    "    return lst[1:] + lst[:1] \n",
    "\n",
    "rotate([])"
   ]
  },
  {
   "cell_type": "markdown",
   "metadata": {},
   "source": [
    "# Tuples"
   ]
  },
  {
   "cell_type": "code",
   "execution_count": null,
   "metadata": {},
   "outputs": [],
   "source": [
    "t = 1,000,000\n",
    "\n",
    "print(type(t))\n",
    "\n",
    "print(f\"{t = }\")"
   ]
  },
  {
   "cell_type": "code",
   "execution_count": null,
   "metadata": {},
   "outputs": [],
   "source": [
    "t = 'a', 'b', 'c', 'd'\n",
    "\n",
    "print(type(t))\n",
    "\n",
    "print(f\"{t = }\")"
   ]
  },
  {
   "cell_type": "code",
   "execution_count": null,
   "metadata": {},
   "outputs": [],
   "source": [
    "s = (('a'))\n",
    "print(type(s))\n",
    "print(f\"{s = }\")"
   ]
  },
  {
   "cell_type": "markdown",
   "metadata": {},
   "source": [
    "### Now add a trailing comma"
   ]
  },
  {
   "cell_type": "code",
   "execution_count": null,
   "metadata": {},
   "outputs": [],
   "source": [
    "s = 'a',\n",
    "print(type(s))\n",
    "print(f\"{s = }\")"
   ]
  },
  {
   "cell_type": "markdown",
   "metadata": {},
   "source": [
    "### We need the trailing comma to tell that a singleton is a tuple"
   ]
  },
  {
   "cell_type": "code",
   "execution_count": null,
   "metadata": {},
   "outputs": [],
   "source": [
    "s = 'a', 'b',\n",
    "\n",
    "print(type(s))\n",
    "print(f\"{s = }\")"
   ]
  },
  {
   "cell_type": "markdown",
   "metadata": {},
   "source": [
    "### We can index and slice"
   ]
  },
  {
   "cell_type": "code",
   "execution_count": null,
   "metadata": {},
   "outputs": [],
   "source": [
    "t = 'a', 'b', 'c', 'd'\n",
    "print(type(t))\n",
    "print(t[0])\n",
    "print(t[1:3])"
   ]
  },
  {
   "cell_type": "code",
   "execution_count": null,
   "metadata": {},
   "outputs": [],
   "source": [
    "t = tuple('spam')\n",
    "print(f\"{t = }\")\n",
    "print(t[0])\n",
    "print(t[1:3])"
   ]
  },
  {
   "cell_type": "code",
   "execution_count": null,
   "metadata": {},
   "outputs": [],
   "source": [
    "t[3] = 't'"
   ]
  },
  {
   "cell_type": "markdown",
   "metadata": {},
   "source": [
    "## Tuples are immutable.   We can use them as keys in a dictionary"
   ]
  },
  {
   "cell_type": "code",
   "execution_count": null,
   "metadata": {},
   "outputs": [],
   "source": [
    "d = {(1, 2, 3): 'Let me be me'}\n",
    "\n",
    "print(f\"{d = }\")"
   ]
  },
  {
   "cell_type": "markdown",
   "metadata": {},
   "source": [
    "### But we can replace an existing tuple with a new one"
   ]
  },
  {
   "cell_type": "code",
   "execution_count": null,
   "metadata": {},
   "outputs": [],
   "source": [
    "print(f\"{t = }\")"
   ]
  },
  {
   "cell_type": "code",
   "execution_count": null,
   "metadata": {},
   "outputs": [],
   "source": [
    "t = ('A',) + t[1:]\n",
    "print(f\"{t = }\")"
   ]
  },
  {
   "cell_type": "markdown",
   "metadata": {},
   "source": [
    "### Ordered lexicographically "
   ]
  },
  {
   "cell_type": "code",
   "execution_count": null,
   "metadata": {},
   "outputs": [],
   "source": [
    "print((0, 1, 2) < (0, 3, 4))\n",
    "print((0, 1, 2000) < (0, 3, 4)) "
   ]
  },
  {
   "cell_type": "markdown",
   "metadata": {},
   "source": [
    "## Python uses Tuples to return values"
   ]
  },
  {
   "cell_type": "code",
   "execution_count": null,
   "metadata": {},
   "outputs": [],
   "source": [
    "for t in zip('ab', 'cd'):\n",
    "    print(f\"{t = } {type(t) = }\")"
   ]
  },
  {
   "cell_type": "code",
   "execution_count": null,
   "metadata": {},
   "outputs": [],
   "source": [
    "for t in enumerate('soap'):\n",
    "    print(f\"{t = } {type(t) = }\")"
   ]
  },
  {
   "cell_type": "markdown",
   "metadata": {},
   "source": [
    "# Tuples most famous party trick\n",
    "### Before"
   ]
  },
  {
   "cell_type": "code",
   "execution_count": null,
   "metadata": {},
   "outputs": [],
   "source": [
    "a = 4\n",
    "b = 1\n",
    "print(f\"{a = } {b = }\")\n",
    "temp = a\n",
    "a    = b\n",
    "b    = temp\n",
    "print(f\"{a = } {b = }\")"
   ]
  },
  {
   "cell_type": "markdown",
   "metadata": {},
   "source": [
    "### After, with Tuples"
   ]
  },
  {
   "cell_type": "code",
   "execution_count": null,
   "metadata": {},
   "outputs": [],
   "source": [
    "print(f\"{a = } {b = }\")\n",
    "a, b = b, a\n",
    "print(f\"{a = } {b = }\")"
   ]
  },
  {
   "cell_type": "code",
   "execution_count": null,
   "metadata": {},
   "outputs": [],
   "source": [
    "print(f\"{a = } {b = }\")\n",
    "(a, b) = (b, a)\n",
    "print(f\"{a = } {b = }\")"
   ]
  },
  {
   "cell_type": "markdown",
   "metadata": {},
   "source": [
    "## Parsing e-mail addresses"
   ]
  },
  {
   "cell_type": "code",
   "execution_count": null,
   "metadata": {},
   "outputs": [],
   "source": [
    "addr = 'monty@python.org'\n",
    "uname, domain = addr.split('@')\n",
    "print(f\"{uname  = }\")\n",
    "print(f\"{domain = }\")"
   ]
  },
  {
   "cell_type": "markdown",
   "metadata": {},
   "source": [
    "### We can nest tuples"
   ]
  },
  {
   "cell_type": "code",
   "execution_count": null,
   "metadata": {},
   "outputs": [],
   "source": [
    "t = ('a', ('b', 'c', ('d', 'e'), 'f'), 'g')\n",
    "print(f\"{t = }\")\n",
    "print(f\"{t[1] = }\")\n",
    "print(f\"{t[1][2] = }\")"
   ]
  },
  {
   "cell_type": "markdown",
   "metadata": {},
   "source": [
    "### Tuples and lists perform similar roles\n",
    "\n",
    "- Ordered lists of objects\n",
    "- Can nest both types of list\n",
    "- We can modify a list: delete, insert, modify\n",
    "- Tuples are immutable - can use as keys"
   ]
  },
  {
   "cell_type": "markdown",
   "metadata": {},
   "source": [
    "\n",
    "\n",
    "## Global Scope\n",
    "\n",
    "### All local scope"
   ]
  },
  {
   "cell_type": "code",
   "execution_count": null,
   "metadata": {},
   "outputs": [],
   "source": [
    "def second():\n",
    "    val = 1;\n",
    "    print(f\"\\t\\t{val = }\")\n",
    "\n",
    "def first():\n",
    "    val = 3;\n",
    "    print(f\"\\t{val = }\")\n",
    "    second()\n",
    "    print(f\"\\t{val = }\")\n",
    "    \n",
    "# Main program\n",
    "val = 10\n",
    "print(f\"{val = }\")\n",
    "first()\n",
    "print(f\"{val = }\")"
   ]
  },
  {
   "cell_type": "markdown",
   "metadata": {},
   "source": [
    "### Now use Global variable"
   ]
  },
  {
   "cell_type": "code",
   "execution_count": null,
   "metadata": {},
   "outputs": [],
   "source": [
    "def second():\n",
    "    # Remove the local definition\n",
    "    # second now sees the global value\n",
    "    # val = 1\n",
    "    print(f\"\\t\\t{val = }\")\n",
    "\n",
    "def first():\n",
    "    val = 3;\n",
    "    print(f\"\\t{val = }\")\n",
    "    second()\n",
    "    print(f\"\\t{val = }\")\n",
    "# Main program\n",
    "val = 10\n",
    "print(f\"{val = }\")\n",
    "first()\n",
    "print(f\"{val = }\")"
   ]
  },
  {
   "cell_type": "markdown",
   "metadata": {},
   "source": [
    "## Globals considered Harmful"
   ]
  },
  {
   "cell_type": "code",
   "execution_count": null,
   "metadata": {},
   "outputs": [],
   "source": [
    "def second():\n",
    "    print(f\"\\t\\t{lst = }\")\n",
    "    lst.pop()\n",
    "    print(f\"\\t\\t{lst = }\")\n",
    "\n",
    "def first():\n",
    "    lst = ['a', 'b', 'c'];\n",
    "    print(f\"\\t{lst = }\")\n",
    "    second()\n",
    "    print(f\"\\t{lst = }\")\n",
    "\n",
    "# Main program\n",
    "lst = [1, 2, 3]\n",
    "print(f\"{lst = }\")\n",
    "first()\n",
    "print(f\"{lst = }\")"
   ]
  },
  {
   "cell_type": "markdown",
   "metadata": {},
   "source": [
    "## Why is this better?"
   ]
  },
  {
   "cell_type": "code",
   "execution_count": null,
   "metadata": {},
   "outputs": [],
   "source": [
    "def second(lst):\n",
    "    print(f\"\\t{lst = }\")\n",
    "    lst.pop()\n",
    "    print(f\"\\t{lst = }\")\n",
    "\n",
    "# Main program\n",
    "lst = [1, 2, 3]\n",
    "print(f\"{lst = }\")\n",
    "second(lst)\n",
    "print(f\"{lst = }\")"
   ]
  },
  {
   "cell_type": "markdown",
   "metadata": {},
   "source": [
    "## It is better because we can identify a possible culprit"
   ]
  },
  {
   "cell_type": "markdown",
   "metadata": {},
   "source": [
    "# String Formatting\n",
    "\n",
    "## Motivation"
   ]
  },
  {
   "cell_type": "code",
   "execution_count": null,
   "metadata": {
    "scrolled": true
   },
   "outputs": [],
   "source": [
    "shopping = {'milk':1, 'eggs':12, 'bread':2}\n",
    "\n",
    "for w in shopping:\n",
    "    print(f'{shopping[w]} | {w}')"
   ]
  },
  {
   "cell_type": "markdown",
   "metadata": {},
   "source": [
    "## We would like to line things up\n",
    "Include a field width"
   ]
  },
  {
   "cell_type": "code",
   "execution_count": null,
   "metadata": {
    "scrolled": true
   },
   "outputs": [],
   "source": [
    "# Field width of 3\n",
    "for w in shopping:\n",
    "    print(f'{shopping[w]:3} | {w}')"
   ]
  },
  {
   "cell_type": "markdown",
   "metadata": {},
   "source": [
    "Integer in a field of width 3\n",
    "\n",
    "3 Ordinary characters - ‘ | ‘\n",
    "\n",
    "String in variable field - %s\n",
    "\n",
    "       12 | eggs"
   ]
  },
  {
   "cell_type": "markdown",
   "metadata": {},
   "source": [
    "## Stop and Think\n",
    "\n",
    "You have a string holding a phone number: 1234567890\n",
    "    \n",
    "Wish to print in standard form: (123) 456-7890\n",
    "\n",
    "Write with f-string formatting"
   ]
  },
  {
   "cell_type": "code",
   "execution_count": null,
   "metadata": {},
   "outputs": [],
   "source": [
    "s = '1234567890'"
   ]
  },
  {
   "cell_type": "markdown",
   "metadata": {},
   "source": [
    "# WTF - File Picker"
   ]
  },
  {
   "cell_type": "code",
   "execution_count": null,
   "metadata": {},
   "outputs": [],
   "source": [
    "# I have been able to use this in a program - it works well.\n",
    "# See doublesPick.py\n",
    "#\n",
    "\n",
    "from tkinter import Tk\n",
    "from tkinter.filedialog import askopenfilename\n",
    "\n",
    "Tk().withdraw()              # Don't need a full GUI\n",
    "filename = askopenfilename() # show an \"Open\" dialog box \n",
    "\n",
    "print(f\"Filename: {filename}\")"
   ]
  }
 ],
 "metadata": {
  "kernelspec": {
   "display_name": "Python 3",
   "language": "python",
   "name": "python3"
  },
  "language_info": {
   "codemirror_mode": {
    "name": "ipython",
    "version": 3
   },
   "file_extension": ".py",
   "mimetype": "text/x-python",
   "name": "python",
   "nbconvert_exporter": "python",
   "pygments_lexer": "ipython3",
   "version": "3.8.8"
  }
 },
 "nbformat": 4,
 "nbformat_minor": 1
}
