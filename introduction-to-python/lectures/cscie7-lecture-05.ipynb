{
 "cells": [
  {
   "cell_type": "markdown",
   "metadata": {},
   "source": [
    "# CSCI E7 Introduction to Programming with Python\n",
    "## Lecture 05 Jupyter Notebook\n",
    "Fall 2021 (c) Jeff Parker"
   ]
  },
  {
   "cell_type": "markdown",
   "metadata": {},
   "source": [
    "# Lists are used to store items\n",
    "## The contents are often homogenous"
   ]
  },
  {
   "cell_type": "code",
   "execution_count": 8,
   "metadata": {},
   "outputs": [
    {
     "name": "stdout",
     "output_type": "stream",
     "text": [
      "[2, 3, 5, 7, 11]\n",
      "['red', 'blue', 'green']\n"
     ]
    }
   ],
   "source": [
    "primes = [2, 3, 5, 7, 11]\n",
    "colors = ['red', 'blue', 'green']\n",
    "\n",
    "print(primes)\n",
    "print(colors)"
   ]
  },
  {
   "cell_type": "markdown",
   "metadata": {},
   "source": [
    "## But they need not be homogenous"
   ]
  },
  {
   "cell_type": "code",
   "execution_count": 9,
   "metadata": {},
   "outputs": [
    {
     "name": "stdout",
     "output_type": "stream",
     "text": [
      "[2, 'red', 3.0]\n"
     ]
    }
   ],
   "source": [
    "lst = [2, 'red', 3.0]\n",
    "\n",
    "print(lst)"
   ]
  },
  {
   "cell_type": "markdown",
   "metadata": {},
   "source": [
    "## Lists are mutable collections that we can index"
   ]
  },
  {
   "cell_type": "code",
   "execution_count": 10,
   "metadata": {},
   "outputs": [
    {
     "name": "stdout",
     "output_type": "stream",
     "text": [
      "one\n"
     ]
    }
   ],
   "source": [
    "res = ['zero', 'one']\n",
    "\n",
    "print(res[1])"
   ]
  },
  {
   "cell_type": "markdown",
   "metadata": {},
   "source": [
    "## We can modify a list by appending"
   ]
  },
  {
   "cell_type": "code",
   "execution_count": 11,
   "metadata": {},
   "outputs": [
    {
     "name": "stdout",
     "output_type": "stream",
     "text": [
      "['zero', 'one', 'two']\n"
     ]
    }
   ],
   "source": [
    "res = ['zero', 'one']\n",
    "\n",
    "res.append('two')\n",
    "\n",
    "print(res)"
   ]
  },
  {
   "cell_type": "markdown",
   "metadata": {},
   "source": [
    "## ... or by assiging a new value to an existing slot"
   ]
  },
  {
   "cell_type": "code",
   "execution_count": 12,
   "metadata": {},
   "outputs": [
    {
     "name": "stdout",
     "output_type": "stream",
     "text": [
      "['zero', 'one', 'three']\n"
     ]
    }
   ],
   "source": [
    "res[2] = 'three'\n",
    "\n",
    "print(res)"
   ]
  },
  {
   "cell_type": "markdown",
   "metadata": {},
   "source": [
    "## Error to assign to a slot that is empty\n",
    "\n",
    "### *What kind of error is that?*"
   ]
  },
  {
   "cell_type": "code",
   "execution_count": 13,
   "metadata": {},
   "outputs": [
    {
     "ename": "IndexError",
     "evalue": "list assignment index out of range",
     "output_type": "error",
     "traceback": [
      "\u001b[1;31m---------------------------------------------------------------------------\u001b[0m",
      "\u001b[1;31mIndexError\u001b[0m                                Traceback (most recent call last)",
      "\u001b[1;32m~\\AppData\\Local\\Temp/ipykernel_16416/4233023312.py\u001b[0m in \u001b[0;36m<module>\u001b[1;34m\u001b[0m\n\u001b[1;32m----> 1\u001b[1;33m \u001b[0mres\u001b[0m\u001b[1;33m[\u001b[0m\u001b[1;36m3\u001b[0m\u001b[1;33m]\u001b[0m \u001b[1;33m=\u001b[0m \u001b[1;34m'four'\u001b[0m\u001b[1;33m\u001b[0m\u001b[1;33m\u001b[0m\u001b[0m\n\u001b[0m",
      "\u001b[1;31mIndexError\u001b[0m: list assignment index out of range"
     ]
    }
   ],
   "source": [
    "res[3] = 'four'"
   ]
  },
  {
   "cell_type": "markdown",
   "metadata": {},
   "source": [
    "## We can remove an element\n",
    "\n",
    "- pop() removes the last item\n",
    "\n",
    "- pop(n) removes the nth item"
   ]
  },
  {
   "cell_type": "code",
   "execution_count": 14,
   "metadata": {},
   "outputs": [
    {
     "name": "stdout",
     "output_type": "stream",
     "text": [
      "Before: ['zero', 'one', 'three']\n",
      "\n",
      "Popped: three\n",
      "After: ['zero', 'one']\n"
     ]
    }
   ],
   "source": [
    "print(\"Before:\", res)\n",
    "\n",
    "## Remove the last item\n",
    "item = res.pop()\n",
    "\n",
    "print(f\"\\nPopped: {item}\")\n",
    "print(\"After:\", res)"
   ]
  },
  {
   "cell_type": "code",
   "execution_count": 15,
   "metadata": {},
   "outputs": [
    {
     "name": "stdout",
     "output_type": "stream",
     "text": [
      "Before: ['zero', 'one']\n",
      "\n",
      "Popped: zero\n",
      "After: ['one']\n"
     ]
    }
   ],
   "source": [
    "print(\"Before:\", res)\n",
    "\n",
    "## Remove the first item\n",
    "item = res.pop(0)\n",
    "\n",
    "print(f\"\\nPopped: {item}\")\n",
    "print(\"After:\", res)"
   ]
  },
  {
   "cell_type": "markdown",
   "metadata": {},
   "source": [
    "## We can *iterate* across a list\n",
    "### Python lets you iterate over *collections*"
   ]
  },
  {
   "cell_type": "code",
   "execution_count": 16,
   "metadata": {},
   "outputs": [
    {
     "name": "stdout",
     "output_type": "stream",
     "text": [
      "1\n",
      "2\n",
      "3\n",
      "cat\n"
     ]
    }
   ],
   "source": [
    "lst = [1, 2, 3, 'cat']   # hetrogenous list\n",
    "\n",
    "## Print the contents\n",
    "for item in lst:\n",
    "    print(item)  "
   ]
  },
  {
   "cell_type": "markdown",
   "metadata": {},
   "source": [
    "## Do not use range() and len() if you can help it.\n",
    "\n",
    "Iterate as above instead"
   ]
  },
  {
   "cell_type": "code",
   "execution_count": 17,
   "metadata": {},
   "outputs": [
    {
     "name": "stdout",
     "output_type": "stream",
     "text": [
      "1\n",
      "2\n",
      "3\n",
      "cat\n"
     ]
    }
   ],
   "source": [
    "lst = [1, 2, 3, 'cat']   # hetrogenous list\n",
    "\n",
    "## Print the contents\n",
    "for i in range(len(lst)):  # AVOID!!!\n",
    "    print(lst[i]) "
   ]
  },
  {
   "cell_type": "markdown",
   "metadata": {},
   "source": [
    "## Python knows how to print the list "
   ]
  },
  {
   "cell_type": "code",
   "execution_count": 18,
   "metadata": {},
   "outputs": [
    {
     "name": "stdout",
     "output_type": "stream",
     "text": [
      "[1, 2, 3, 'cat']\n"
     ]
    }
   ],
   "source": [
    "print(lst)"
   ]
  },
  {
   "cell_type": "markdown",
   "metadata": {},
   "source": [
    "## We can test inclusion in a list with 'in'"
   ]
  },
  {
   "cell_type": "code",
   "execution_count": 19,
   "metadata": {},
   "outputs": [
    {
     "name": "stdout",
     "output_type": "stream",
     "text": [
      "Found cat in position 3\n"
     ]
    }
   ],
   "source": [
    "if 'cat' in lst:\n",
    "    print(f'Found cat in position {lst.index(\"cat\")}')"
   ]
  },
  {
   "cell_type": "markdown",
   "metadata": {},
   "source": [
    "## We can find the length of a list"
   ]
  },
  {
   "cell_type": "code",
   "execution_count": 20,
   "metadata": {},
   "outputs": [
    {
     "data": {
      "text/plain": [
       "4"
      ]
     },
     "execution_count": 20,
     "metadata": {},
     "output_type": "execute_result"
    }
   ],
   "source": [
    "lst = [1, 2, 3, 'cat']    \n",
    "\n",
    "len(lst)"
   ]
  },
  {
   "cell_type": "markdown",
   "metadata": {},
   "source": [
    "## We index into a list using the familiar syntax"
   ]
  },
  {
   "cell_type": "code",
   "execution_count": 21,
   "metadata": {},
   "outputs": [
    {
     "name": "stdout",
     "output_type": "stream",
     "text": [
      "one\n"
     ]
    }
   ],
   "source": [
    "lst = [\"one\", \"two\", \"three\"]\n",
    "\n",
    "## Print an element\n",
    "print(lst[0])"
   ]
  },
  {
   "cell_type": "markdown",
   "metadata": {},
   "source": [
    "## We can use slicing"
   ]
  },
  {
   "cell_type": "code",
   "execution_count": 22,
   "metadata": {},
   "outputs": [
    {
     "name": "stdout",
     "output_type": "stream",
     "text": [
      "['two', 'three']\n"
     ]
    }
   ],
   "source": [
    "lst = [\"one\", \"two\", \"three\"]\n",
    "\n",
    "## Print a slice\n",
    "print(lst[1:])"
   ]
  },
  {
   "cell_type": "code",
   "execution_count": 23,
   "metadata": {},
   "outputs": [
    {
     "name": "stdout",
     "output_type": "stream",
     "text": [
      "one\n",
      "two\n"
     ]
    }
   ],
   "source": [
    "lst = [\"one\", \"two\", \"three\"]\n",
    "\n",
    "## Print elements in a slice\n",
    "for word in lst[:2]:\n",
    "    print(word)"
   ]
  },
  {
   "cell_type": "code",
   "execution_count": 24,
   "metadata": {},
   "outputs": [
    {
     "name": "stdout",
     "output_type": "stream",
     "text": [
      "three\n"
     ]
    }
   ],
   "source": [
    "print(lst[-1])"
   ]
  },
  {
   "cell_type": "markdown",
   "metadata": {},
   "source": [
    "## Stop and Think\n",
    "\n",
    "Create a list of strings.\n",
    "\n",
    "Use a loop to print the strings of even length."
   ]
  },
  {
   "cell_type": "markdown",
   "metadata": {},
   "source": [
    "# Filtering: Finding matches in a List"
   ]
  },
  {
   "cell_type": "code",
   "execution_count": 25,
   "metadata": {},
   "outputs": [
    {
     "ename": "SyntaxError",
     "evalue": "invalid syntax (Temp/ipykernel_16416/2309059985.py, line 6)",
     "output_type": "error",
     "traceback": [
      "\u001b[1;36m  File \u001b[1;32m\"C:\\Users\\Asus\\AppData\\Local\\Temp/ipykernel_16416/2309059985.py\"\u001b[1;36m, line \u001b[1;32m6\u001b[0m\n\u001b[1;33m    if word[0] = 't':\u001b[0m\n\u001b[1;37m               ^\u001b[0m\n\u001b[1;31mSyntaxError\u001b[0m\u001b[1;31m:\u001b[0m invalid syntax\n"
     ]
    }
   ],
   "source": [
    "# lst = [\"one\", \"two\", \"three\"]\n",
    "# print(lst)\n",
    "\n",
    "# ## Print those that match\n",
    "# for word in lst:\n",
    "#     if word[0] = 't':\n",
    "#         print(f\"Found {word}\")"
   ]
  },
  {
   "cell_type": "markdown",
   "metadata": {},
   "source": [
    "## *What kind of error is that?*\n",
    "## Fix\n",
    "\n",
    "### In Python we use = for assignment and == to test equality\n",
    "\n",
    "### We pronounce '=' as 'gets' and '==' as 'equals'"
   ]
  },
  {
   "cell_type": "code",
   "execution_count": 26,
   "metadata": {},
   "outputs": [
    {
     "name": "stdout",
     "output_type": "stream",
     "text": [
      "Found two\n",
      "Found three\n"
     ]
    }
   ],
   "source": [
    "lst = [\"one\", \"two\", \"three\"]\n",
    "\n",
    "## Print those that match\n",
    "for word in lst:\n",
    "    if word[0] == 't':\n",
    "        print(f\"Found {word}\")"
   ]
  },
  {
   "cell_type": "markdown",
   "metadata": {},
   "source": [
    "## More filtering"
   ]
  },
  {
   "cell_type": "code",
   "execution_count": 27,
   "metadata": {},
   "outputs": [
    {
     "name": "stdout",
     "output_type": "stream",
     "text": [
      "Found two\n"
     ]
    }
   ],
   "source": [
    "lst = [\"one\", \"two\", \"three\"]\n",
    "\n",
    "## Print the words with an 'o'\n",
    "for word in lst:\n",
    "    if (word.find('o') > 0):\n",
    "        print(f\"Found {word}\")"
   ]
  },
  {
   "cell_type": "markdown",
   "metadata": {},
   "source": [
    "## *What kind of error is that?*\n",
    "## Fix"
   ]
  },
  {
   "cell_type": "code",
   "execution_count": 28,
   "metadata": {},
   "outputs": [
    {
     "name": "stdout",
     "output_type": "stream",
     "text": [
      "Found one\n",
      "Found two\n"
     ]
    }
   ],
   "source": [
    "lst = [\"one\", \"two\", \"three\"]\n",
    "\n",
    "## Print the words with an 'o'\n",
    "for word in lst:\n",
    "    if (word.find('o') >= 0):\n",
    "        print(f\"Found {word}\")"
   ]
  },
  {
   "cell_type": "markdown",
   "metadata": {},
   "source": [
    "## What does append() return?"
   ]
  },
  {
   "cell_type": "code",
   "execution_count": 29,
   "metadata": {},
   "outputs": [
    {
     "name": "stdout",
     "output_type": "stream",
     "text": [
      "None\n"
     ]
    }
   ],
   "source": [
    "ret_val = lst.append('four')\n",
    "print(ret_val)"
   ]
  },
  {
   "cell_type": "code",
   "execution_count": 30,
   "metadata": {},
   "outputs": [
    {
     "name": "stdout",
     "output_type": "stream",
     "text": [
      "['one', 'two', 'three', 'four']\n"
     ]
    }
   ],
   "source": [
    "print(lst)"
   ]
  },
  {
   "cell_type": "code",
   "execution_count": 31,
   "metadata": {},
   "outputs": [
    {
     "name": "stdout",
     "output_type": "stream",
     "text": [
      "None\n"
     ]
    }
   ],
   "source": [
    "print(lst.append('five'))"
   ]
  },
  {
   "cell_type": "code",
   "execution_count": 32,
   "metadata": {},
   "outputs": [
    {
     "name": "stdout",
     "output_type": "stream",
     "text": [
      "['one', 'two', 'three', 'four', 'five']\n"
     ]
    }
   ],
   "source": [
    "print(lst)"
   ]
  },
  {
   "cell_type": "markdown",
   "metadata": {},
   "source": [
    "## Many list methods return None\n",
    "\n",
    "The methods update the list, but don't return a useful value\n",
    "\n",
    "Check before using the return value of a list method.  "
   ]
  },
  {
   "cell_type": "markdown",
   "metadata": {},
   "source": [
    "## Lists support many useful functions"
   ]
  },
  {
   "cell_type": "code",
   "execution_count": 33,
   "metadata": {},
   "outputs": [
    {
     "name": "stdout",
     "output_type": "stream",
     "text": [
      "List:\t [5, 90, 78, 45, 2]\n",
      "Length:\t 5\n",
      "Min:\t 2\n",
      "Max:\t 90\n",
      "Sum:\t 220\n"
     ]
    }
   ],
   "source": [
    "lst = [5, 90, 78, 45, 2]\n",
    "\n",
    "print(\"List:\\t\", lst)\n",
    "print(\"Length:\\t\", len(lst))\n",
    "print(\"Min:\\t\", min(lst))\n",
    "print(\"Max:\\t\", max(lst))\n",
    "print(\"Sum:\\t\", sum(lst))"
   ]
  },
  {
   "cell_type": "markdown",
   "metadata": {},
   "source": [
    "## These functions work on many types\n",
    "\n",
    "But not all functions work on all types"
   ]
  },
  {
   "cell_type": "code",
   "execution_count": 34,
   "metadata": {},
   "outputs": [
    {
     "name": "stdout",
     "output_type": "stream",
     "text": [
      "List:\t ['five', 'ninety', 'two']\n",
      "Length:\t 3\n",
      "Min:\t five\n",
      "Max:\t two\n"
     ]
    },
    {
     "ename": "TypeError",
     "evalue": "unsupported operand type(s) for +: 'int' and 'str'",
     "output_type": "error",
     "traceback": [
      "\u001b[1;31m---------------------------------------------------------------------------\u001b[0m",
      "\u001b[1;31mTypeError\u001b[0m                                 Traceback (most recent call last)",
      "\u001b[1;32m~\\AppData\\Local\\Temp/ipykernel_16416/264367812.py\u001b[0m in \u001b[0;36m<module>\u001b[1;34m\u001b[0m\n\u001b[0;32m      5\u001b[0m \u001b[0mprint\u001b[0m\u001b[1;33m(\u001b[0m\u001b[1;34m\"Min:\\t\"\u001b[0m\u001b[1;33m,\u001b[0m \u001b[0mmin\u001b[0m\u001b[1;33m(\u001b[0m\u001b[0mlst\u001b[0m\u001b[1;33m)\u001b[0m\u001b[1;33m)\u001b[0m\u001b[1;33m\u001b[0m\u001b[1;33m\u001b[0m\u001b[0m\n\u001b[0;32m      6\u001b[0m \u001b[0mprint\u001b[0m\u001b[1;33m(\u001b[0m\u001b[1;34m\"Max:\\t\"\u001b[0m\u001b[1;33m,\u001b[0m \u001b[0mmax\u001b[0m\u001b[1;33m(\u001b[0m\u001b[0mlst\u001b[0m\u001b[1;33m)\u001b[0m\u001b[1;33m)\u001b[0m\u001b[1;33m\u001b[0m\u001b[1;33m\u001b[0m\u001b[0m\n\u001b[1;32m----> 7\u001b[1;33m \u001b[0mprint\u001b[0m\u001b[1;33m(\u001b[0m\u001b[1;34m\"Sum:\\t\"\u001b[0m\u001b[1;33m,\u001b[0m \u001b[0msum\u001b[0m\u001b[1;33m(\u001b[0m\u001b[0mlst\u001b[0m\u001b[1;33m)\u001b[0m\u001b[1;33m)\u001b[0m\u001b[1;33m\u001b[0m\u001b[1;33m\u001b[0m\u001b[0m\n\u001b[0m",
      "\u001b[1;31mTypeError\u001b[0m: unsupported operand type(s) for +: 'int' and 'str'"
     ]
    }
   ],
   "source": [
    "lst = ['five', 'ninety', 'two']\n",
    "\n",
    "print(\"List:\\t\", lst)\n",
    "print(\"Length:\\t\", len(lst))\n",
    "print(\"Min:\\t\", min(lst))\n",
    "print(\"Max:\\t\", max(lst))\n",
    "print(\"Sum:\\t\", sum(lst))"
   ]
  },
  {
   "cell_type": "markdown",
   "metadata": {},
   "source": [
    "## Filtering to return a list\n",
    "\n",
    "We want a list of words ending in 't'\n",
    "\n",
    "Printing is a crutch - we will want to make a list and check it twice.\n",
    "\n",
    "Create a new list by appending to the tail of an empty list\n",
    "\n",
    "Items are in same relative order in the new list\n",
    "\n",
    "*We will often use this technique*\n",
    "\n",
    "*We will learn to do this with List Comprehensions*"
   ]
  },
  {
   "cell_type": "code",
   "execution_count": 35,
   "metadata": {},
   "outputs": [
    {
     "name": "stdout",
     "output_type": "stream",
     "text": [
      "['test', 'mast']\n"
     ]
    }
   ],
   "source": [
    "lst = ['ship', 'test', 'set', 'mast', 'leap']\n",
    "\n",
    "## Store our results here\n",
    "res = []\n",
    "\n",
    "## Check each word in the list\n",
    "for word in lst:\n",
    "    \n",
    "    # if it matches\n",
    "    if (len(word) == 4) and (word[-1] == 't'):\n",
    "        \n",
    "        # Add it to our list\n",
    "        res.append(word)\n",
    "        \n",
    "print(res)"
   ]
  },
  {
   "cell_type": "markdown",
   "metadata": {},
   "source": [
    "## Stop and Think\n",
    "\n",
    "Rewrite your previous example.  \n",
    "\n",
    "Write a filter that takes a list strings and returns a list of the strings of even length."
   ]
  },
  {
   "cell_type": "markdown",
   "metadata": {},
   "source": [
    "# Programming Practice\n",
    "## Strings to Lists, and Lists to strings\n",
    "### The list() function turns a string into a list\n",
    "### The string method join() turns a list into a string"
   ]
  },
  {
   "cell_type": "code",
   "execution_count": 36,
   "metadata": {},
   "outputs": [
    {
     "name": "stdout",
     "output_type": "stream",
     "text": [
      "['s', 'u', 'n', 'n', 'y']\n"
     ]
    }
   ],
   "source": [
    "word = \"sunny\"\n",
    "lst = list(word)\n",
    "\n",
    "print(lst)"
   ]
  },
  {
   "cell_type": "markdown",
   "metadata": {},
   "source": [
    "## We can return the favor, and turn a list into a string"
   ]
  },
  {
   "cell_type": "code",
   "execution_count": 37,
   "metadata": {},
   "outputs": [
    {
     "name": "stdout",
     "output_type": "stream",
     "text": [
      "sunny\n"
     ]
    }
   ],
   "source": [
    "lst = ['s', 'u', 'n', 'n', 'y']\n",
    "\n",
    "res = ''.join(lst)\n",
    "print(res)"
   ]
  },
  {
   "cell_type": "markdown",
   "metadata": {},
   "source": [
    "### We can join() around a string"
   ]
  },
  {
   "cell_type": "code",
   "execution_count": 38,
   "metadata": {},
   "outputs": [
    {
     "name": "stdout",
     "output_type": "stream",
     "text": [
      "s_u_n_n_y\n"
     ]
    }
   ],
   "source": [
    "res = '_'.join(lst)\n",
    "print(res)"
   ]
  },
  {
   "cell_type": "markdown",
   "metadata": {},
   "source": [
    "## Hyman Kaplan\n",
    "Leo Rosten wrote a book about an imigrant in New York City.\n",
    "\n",
    "*My introduction to adult education*\n",
    "\n",
    "Hyman Kaplan writes his name with stars between the letters  \n",
    "\n",
    "```python\n",
    "H*Y*M*A*N K*A*P*L*A*N\n",
    "```\n",
    "\n",
    "https://en.wikipedia.org/wiki/Hyman_Kaplan"
   ]
  },
  {
   "cell_type": "code",
   "execution_count": 39,
   "metadata": {},
   "outputs": [
    {
     "name": "stdout",
     "output_type": "stream",
     "text": [
      "H*Y*M*A*N* *K*A*P*L*A*N\n"
     ]
    }
   ],
   "source": [
    "## Goal: H*Y*M*A*N K*A*P*L*A*N\n",
    "\n",
    "lst = list(\"HYMAN KAPLAN\")\n",
    "\n",
    "print('*'.join(lst))"
   ]
  },
  {
   "cell_type": "markdown",
   "metadata": {},
   "source": [
    "## This isn't quite right.  Can we fix it?\n",
    "\n",
    "There are two stars too many.\n",
    "\n",
    "When solving a problem, it is useful to break it down into steps\n",
    "\n",
    "After each step, check your work to be sure you are on track\n",
    "\n",
    "This allows you to correct mistakes, rather than building on them"
   ]
  },
  {
   "cell_type": "code",
   "execution_count": 40,
   "metadata": {},
   "outputs": [
    {
     "name": "stdout",
     "output_type": "stream",
     "text": [
      "['HYMAN', 'KAPLAN']\n"
     ]
    }
   ],
   "source": [
    "name = \"HYMAN KAPLAN\"\n",
    "\n",
    "splt = name.split()  # Split on blanks\n",
    "print(splt)          # See what we have"
   ]
  },
  {
   "cell_type": "code",
   "execution_count": 41,
   "metadata": {},
   "outputs": [
    {
     "name": "stdout",
     "output_type": "stream",
     "text": [
      "['H*Y*M*A*N', 'K*A*P*L*A*N']\n"
     ]
    }
   ],
   "source": [
    "name = \"HYMAN KAPLAN\"\n",
    "splt = name.split()\n",
    "\n",
    "res = []\n",
    "for word in splt:\n",
    "    # Put stars on each word\n",
    "    res.append('*'.join(list(word)))\n",
    "    \n",
    "# List of words with stars\n",
    "print(res)"
   ]
  },
  {
   "cell_type": "code",
   "execution_count": 42,
   "metadata": {},
   "outputs": [
    {
     "name": "stdout",
     "output_type": "stream",
     "text": [
      "H*Y*M*A*N K*A*P*L*A*N\n"
     ]
    }
   ],
   "source": [
    "# Join the words with a space\n",
    "\n",
    "print(' '.join(res))"
   ]
  },
  {
   "cell_type": "markdown",
   "metadata": {},
   "source": [
    "## In one cell"
   ]
  },
  {
   "cell_type": "code",
   "execution_count": 1,
   "metadata": {},
   "outputs": [
    {
     "name": "stdout",
     "output_type": "stream",
     "text": [
      "H*Y*M*A*N K*A*P*L*A*N\n"
     ]
    }
   ],
   "source": [
    "name = \"HYMAN KAPLAN\"\n",
    "\n",
    "res = []\n",
    "for word in name.split():\n",
    "    # Put stars on each word\n",
    "    res.append('*'.join(list(word)))\n",
    "\n",
    "# Join the words with a space\n",
    "print(' '.join(res))"
   ]
  },
  {
   "cell_type": "markdown",
   "metadata": {},
   "source": [
    "# While Loops"
   ]
  },
  {
   "cell_type": "code",
   "execution_count": 44,
   "metadata": {},
   "outputs": [
    {
     "name": "stdout",
     "output_type": "stream",
     "text": [
      "10\n",
      "9\n",
      "8\n",
      "7\n",
      "6\n",
      "5\n",
      "4\n",
      "3\n",
      "2\n",
      "1\n",
      "Blastoff!\n"
     ]
    }
   ],
   "source": [
    "i = 10           # Initialize\n",
    "while i > 0:     # Test\n",
    "    print(i)     # Action\n",
    "    i = i - 1    # Update\n",
    "\n",
    "print('Blastoff!')"
   ]
  },
  {
   "cell_type": "markdown",
   "metadata": {},
   "source": [
    "## For loops make these steps much simpler"
   ]
  },
  {
   "cell_type": "code",
   "execution_count": 45,
   "metadata": {},
   "outputs": [
    {
     "name": "stdout",
     "output_type": "stream",
     "text": [
      "10\n",
      "9\n",
      "8\n",
      "7\n",
      "6\n",
      "5\n",
      "4\n",
      "3\n",
      "2\n",
      "1\n",
      "Blastoff!\n"
     ]
    }
   ],
   "source": [
    "                           # Initialize\n",
    "for i in range(10, 0, -1): # Test\n",
    "                           # Update\n",
    "\n",
    "    print(i)    # Action\n",
    "\n",
    "print('Blastoff!')"
   ]
  },
  {
   "cell_type": "markdown",
   "metadata": {},
   "source": [
    "## Use while loop if you can't predict how long to loop"
   ]
  },
  {
   "cell_type": "code",
   "execution_count": 46,
   "metadata": {},
   "outputs": [],
   "source": [
    "def collatz_sequence(n):\n",
    "    res = []\n",
    "    while n != 1:\n",
    "        res.append(n)\n",
    "        if n % 2 == 0:  # n is even\n",
    "            n = n//2 \n",
    "        else: # n is odd\n",
    "            n = n*3 + 1\n",
    "    return res"
   ]
  },
  {
   "cell_type": "code",
   "execution_count": 47,
   "metadata": {},
   "outputs": [
    {
     "name": "stdout",
     "output_type": "stream",
     "text": [
      "[26, 13, 40, 20, 10, 5, 16, 8, 4, 2]\n"
     ]
    }
   ],
   "source": [
    "print(collatz_sequence(26))"
   ]
  },
  {
   "cell_type": "code",
   "execution_count": 48,
   "metadata": {},
   "outputs": [
    {
     "name": "stdout",
     "output_type": "stream",
     "text": [
      "[27, 82, 41, 124, 62, 31, 94, 47, 142, 71, 214, 107, 322, 161, 484, 242, 121, 364, 182, 91, 274, 137, 412, 206, 103, 310, 155, 466, 233, 700, 350, 175, 526, 263, 790, 395, 1186, 593, 1780, 890, 445, 1336, 668, 334, 167, 502, 251, 754, 377, 1132, 566, 283, 850, 425, 1276, 638, 319, 958, 479, 1438, 719, 2158, 1079, 3238, 1619, 4858, 2429, 7288, 3644, 1822, 911, 2734, 1367, 4102, 2051, 6154, 3077, 9232, 4616, 2308, 1154, 577, 1732, 866, 433, 1300, 650, 325, 976, 488, 244, 122, 61, 184, 92, 46, 23, 70, 35, 106, 53, 160, 80, 40, 20, 10, 5, 16, 8, 4, 2]\n"
     ]
    }
   ],
   "source": [
    "print(collatz_sequence(27))"
   ]
  },
  {
   "cell_type": "markdown",
   "metadata": {},
   "source": [
    "## Would like the Collatz sequence to include final 1"
   ]
  },
  {
   "cell_type": "code",
   "execution_count": 49,
   "metadata": {},
   "outputs": [],
   "source": [
    "def collatz_sequence(n):\n",
    "    res = []\n",
    "    while n != 1:\n",
    "        res.append(n)\n",
    "        if n % 2 == 0:  # n is even\n",
    "            n = n//2 \n",
    "        else: # n is odd\n",
    "            n = n*3 + 1\n",
    "    res.append(1)\n",
    "    return res"
   ]
  },
  {
   "cell_type": "code",
   "execution_count": 50,
   "metadata": {},
   "outputs": [
    {
     "name": "stdout",
     "output_type": "stream",
     "text": [
      "[26, 13, 40, 20, 10, 5, 16, 8, 4, 2, 1]\n"
     ]
    }
   ],
   "source": [
    "print(collatz_sequence(26))"
   ]
  },
  {
   "cell_type": "markdown",
   "metadata": {},
   "source": [
    "# Exceptions\n",
    "\n",
    "### How we handle the unexpected\n",
    "\n",
    "### Insurance: you fear it might happen, but don't know when"
   ]
  },
  {
   "cell_type": "code",
   "execution_count": 51,
   "metadata": {},
   "outputs": [
    {
     "ename": "FileNotFoundError",
     "evalue": "[Errno 2] No such file or directory: 'file.txt'",
     "output_type": "error",
     "traceback": [
      "\u001b[1;31m---------------------------------------------------------------------------\u001b[0m",
      "\u001b[1;31mFileNotFoundError\u001b[0m                         Traceback (most recent call last)",
      "\u001b[1;32m~\\AppData\\Local\\Temp/ipykernel_16416/51556018.py\u001b[0m in \u001b[0;36m<module>\u001b[1;34m\u001b[0m\n\u001b[0;32m      1\u001b[0m \u001b[0mfilename\u001b[0m \u001b[1;33m=\u001b[0m \u001b[1;34m'file.txt'\u001b[0m\u001b[1;33m\u001b[0m\u001b[1;33m\u001b[0m\u001b[0m\n\u001b[0;32m      2\u001b[0m \u001b[1;33m\u001b[0m\u001b[0m\n\u001b[1;32m----> 3\u001b[1;33m \u001b[1;32mwith\u001b[0m \u001b[0mopen\u001b[0m\u001b[1;33m(\u001b[0m\u001b[0mfilename\u001b[0m\u001b[1;33m,\u001b[0m \u001b[1;34m'r'\u001b[0m\u001b[1;33m)\u001b[0m \u001b[1;32mas\u001b[0m \u001b[0mwords\u001b[0m\u001b[1;33m:\u001b[0m\u001b[1;33m\u001b[0m\u001b[1;33m\u001b[0m\u001b[0m\n\u001b[0m\u001b[0;32m      4\u001b[0m     \u001b[1;32mfor\u001b[0m \u001b[0mline\u001b[0m \u001b[1;32min\u001b[0m \u001b[0mwords\u001b[0m\u001b[1;33m:\u001b[0m\u001b[1;33m\u001b[0m\u001b[1;33m\u001b[0m\u001b[0m\n\u001b[0;32m      5\u001b[0m         \u001b[0mline\u001b[0m \u001b[1;33m=\u001b[0m \u001b[0mline\u001b[0m\u001b[1;33m.\u001b[0m\u001b[0mstrip\u001b[0m\u001b[1;33m(\u001b[0m\u001b[1;33m)\u001b[0m\u001b[1;33m\u001b[0m\u001b[1;33m\u001b[0m\u001b[0m\n",
      "\u001b[1;31mFileNotFoundError\u001b[0m: [Errno 2] No such file or directory: 'file.txt'"
     ]
    }
   ],
   "source": [
    "filename = 'file.txt'\n",
    "\n",
    "with open(filename, 'r') as words:\n",
    "    for line in words:\n",
    "        line = line.strip()\n",
    "        if (len(line) == 4) and (line[-1] == 't'):\n",
    "            print(line)"
   ]
  },
  {
   "cell_type": "markdown",
   "metadata": {},
   "source": [
    "## Catching Exceptions and Throwing Exceptions\n",
    "\n",
    "### *Some times you're the windshield, some times you're the bug*\n",
    "\n",
    "https://www.youtube.com/watch?v=698kSq6g3iE\n",
    "\n",
    "First, we take the view of the windshield, which catches the bug\n",
    "\n",
    "## Catch exceptions and deal with them: try/except\n",
    "\n",
    "- Try: \n",
    "        Please attempt this: it might not work\n",
    "- Except: \n",
    "        OK: let's report it, or fix it, or ignore it."
   ]
  },
  {
   "cell_type": "code",
   "execution_count": 52,
   "metadata": {},
   "outputs": [
    {
     "name": "stdout",
     "output_type": "stream",
     "text": [
      "Could not open the file 'file.txt'\n"
     ]
    }
   ],
   "source": [
    "filename = 'file.txt'\n",
    "\n",
    "try:\n",
    "    with open(filename, 'r') as words:\n",
    "        for line in words:\n",
    "            line = line.strip()\n",
    "            if (len(line) == 4) and (line[-1] == 't'):\n",
    "                print(line)\n",
    "except:\n",
    "    print(f\"Could not open the file '{filename}'\")"
   ]
  },
  {
   "cell_type": "markdown",
   "metadata": {},
   "source": [
    "## Deal with different exceptions in different ways"
   ]
  },
  {
   "cell_type": "code",
   "execution_count": null,
   "metadata": {},
   "outputs": [],
   "source": [
    "filename = 'file.txt'\n",
    "\n",
    "try:\n",
    "    with open(filename, 'r') as words:\n",
    "\n",
    "        for line in words:\n",
    "            line = line.strip()\n",
    "            if (len(line) == 4) and (line[-1] == 't'):\n",
    "                print(line)\n",
    "except FileNotFoundError:               # Problem we anticipate\n",
    "    print(f\"Could not find file '{filename}'\")\n",
    "except:                                 # Everything else\n",
    "    print(f\"Could not open file '{filename}'\")"
   ]
  },
  {
   "cell_type": "markdown",
   "metadata": {},
   "source": [
    "## Does it catch assertions?"
   ]
  },
  {
   "cell_type": "code",
   "execution_count": 53,
   "metadata": {},
   "outputs": [
    {
     "name": "stdout",
     "output_type": "stream",
     "text": [
      "In\n",
      "I guess it catches assertions\n"
     ]
    }
   ],
   "source": [
    "try:\n",
    "    print('In')\n",
    "    assert(1 == 2)\n",
    "    print('Out')\n",
    "except:\n",
    "    print('I guess it catches assertions')  "
   ]
  },
  {
   "cell_type": "markdown",
   "metadata": {},
   "source": [
    "## Let's try to read an integer"
   ]
  },
  {
   "cell_type": "code",
   "execution_count": 54,
   "metadata": {},
   "outputs": [
    {
     "name": "stdout",
     "output_type": "stream",
     "text": [
      "3\n",
      "123\n"
     ]
    }
   ],
   "source": [
    "x = int(3.2)\n",
    "print(x)\n",
    "y = int('123')\n",
    "print(y)"
   ]
  },
  {
   "cell_type": "code",
   "execution_count": 55,
   "metadata": {},
   "outputs": [
    {
     "ename": "ValueError",
     "evalue": "invalid literal for int() with base 10: 'one'",
     "output_type": "error",
     "traceback": [
      "\u001b[1;31m---------------------------------------------------------------------------\u001b[0m",
      "\u001b[1;31mValueError\u001b[0m                                Traceback (most recent call last)",
      "\u001b[1;32m~\\AppData\\Local\\Temp/ipykernel_16416/3870387865.py\u001b[0m in \u001b[0;36m<module>\u001b[1;34m\u001b[0m\n\u001b[1;32m----> 1\u001b[1;33m \u001b[0mz\u001b[0m \u001b[1;33m=\u001b[0m \u001b[0mint\u001b[0m\u001b[1;33m(\u001b[0m\u001b[1;34m'one'\u001b[0m\u001b[1;33m)\u001b[0m\u001b[1;33m\u001b[0m\u001b[1;33m\u001b[0m\u001b[0m\n\u001b[0m\u001b[0;32m      2\u001b[0m \u001b[0mprint\u001b[0m\u001b[1;33m(\u001b[0m\u001b[0mz\u001b[0m\u001b[1;33m)\u001b[0m\u001b[1;33m\u001b[0m\u001b[1;33m\u001b[0m\u001b[0m\n",
      "\u001b[1;31mValueError\u001b[0m: invalid literal for int() with base 10: 'one'"
     ]
    }
   ],
   "source": [
    "z = int('one')\n",
    "print(z)"
   ]
  },
  {
   "cell_type": "markdown",
   "metadata": {},
   "source": [
    "## *What kind of bug was that?*"
   ]
  },
  {
   "cell_type": "markdown",
   "metadata": {},
   "source": [
    "## Experience the error so you know what to look for\n",
    "\n",
    "```python\n",
    "--------------------------------------------------------------\n",
    "ValueError                 Traceback (most recent call last)\n",
    "<ipython-input-21-f0b91c72226e> in <module>\n",
    "----> 1 z = int('one')\n",
    "      2 print(z)\n",
    "\n",
    "ValueError: invalid literal for int() with base 10: 'one'\n",
    "```\n",
    "\n",
    "### We saw a ValueError, so prepare to catch a ValueError"
   ]
  },
  {
   "cell_type": "code",
   "execution_count": 56,
   "metadata": {},
   "outputs": [
    {
     "name": "stdout",
     "output_type": "stream",
     "text": [
      "Could not convert 'three' to an integer\n"
     ]
    }
   ],
   "source": [
    "s = 'three'\n",
    "\n",
    "try:\n",
    "    val = int(s)\n",
    "    print(val)\n",
    "except ValueError:\n",
    "    print(f\"Could not convert {repr(s)} to an integer\")"
   ]
  },
  {
   "cell_type": "markdown",
   "metadata": {},
   "source": [
    "# Throwing Exceptions\n",
    "### Sometimes you're the windshield, sometimes you're the bug\n",
    "### *You start slippin' and slidin' so bad you just need to quit*\n",
    "\n",
    "We turn to the bug, who launches himself into space not knowing where he will land\n",
    "\n",
    "We raise an exception that we want someone else to catch\n",
    "\n",
    "We **always** add our own text to tell the windshield what went wrong\n",
    "\n",
    "You can use f-string formatting to produce a useful error message\n",
    "\n",
    "### *Sometimes it all comes together baby*"
   ]
  },
  {
   "cell_type": "code",
   "execution_count": 57,
   "metadata": {},
   "outputs": [
    {
     "ename": "ValueError",
     "evalue": "Strings 'acgt' and 'gtc' aren't the same length",
     "output_type": "error",
     "traceback": [
      "\u001b[1;31m---------------------------------------------------------------------------\u001b[0m",
      "\u001b[1;31mValueError\u001b[0m                                Traceback (most recent call last)",
      "\u001b[1;32m~\\AppData\\Local\\Temp/ipykernel_16416/367715837.py\u001b[0m in \u001b[0;36m<module>\u001b[1;34m\u001b[0m\n\u001b[0;32m      5\u001b[0m     \u001b[1;31m# Do the work to find the distance here...\u001b[0m\u001b[1;33m\u001b[0m\u001b[1;33m\u001b[0m\u001b[0m\n\u001b[0;32m      6\u001b[0m \u001b[1;33m\u001b[0m\u001b[0m\n\u001b[1;32m----> 7\u001b[1;33m \u001b[0mhamming_distance\u001b[0m\u001b[1;33m(\u001b[0m\u001b[1;34m'acgt'\u001b[0m\u001b[1;33m,\u001b[0m \u001b[1;34m'gtc'\u001b[0m\u001b[1;33m)\u001b[0m\u001b[1;33m\u001b[0m\u001b[1;33m\u001b[0m\u001b[0m\n\u001b[0m",
      "\u001b[1;32m~\\AppData\\Local\\Temp/ipykernel_16416/367715837.py\u001b[0m in \u001b[0;36mhamming_distance\u001b[1;34m(s1, s2)\u001b[0m\n\u001b[0;32m      1\u001b[0m \u001b[1;32mdef\u001b[0m \u001b[0mhamming_distance\u001b[0m\u001b[1;33m(\u001b[0m\u001b[0ms1\u001b[0m\u001b[1;33m,\u001b[0m \u001b[0ms2\u001b[0m\u001b[1;33m)\u001b[0m\u001b[1;33m:\u001b[0m\u001b[1;33m\u001b[0m\u001b[1;33m\u001b[0m\u001b[0m\n\u001b[0;32m      2\u001b[0m     \u001b[1;32mif\u001b[0m \u001b[0mlen\u001b[0m\u001b[1;33m(\u001b[0m\u001b[0ms1\u001b[0m\u001b[1;33m)\u001b[0m \u001b[1;33m!=\u001b[0m \u001b[0mlen\u001b[0m\u001b[1;33m(\u001b[0m\u001b[0ms2\u001b[0m\u001b[1;33m)\u001b[0m\u001b[1;33m:\u001b[0m\u001b[1;33m\u001b[0m\u001b[1;33m\u001b[0m\u001b[0m\n\u001b[1;32m----> 3\u001b[1;33m         \u001b[1;32mraise\u001b[0m \u001b[0mValueError\u001b[0m\u001b[1;33m(\u001b[0m\u001b[1;34mf\"Strings {repr(s1)} and {repr(s2)} aren't the same length\"\u001b[0m\u001b[1;33m)\u001b[0m\u001b[1;33m\u001b[0m\u001b[1;33m\u001b[0m\u001b[0m\n\u001b[0m\u001b[0;32m      4\u001b[0m \u001b[1;33m\u001b[0m\u001b[0m\n\u001b[0;32m      5\u001b[0m     \u001b[1;31m# Do the work to find the distance here...\u001b[0m\u001b[1;33m\u001b[0m\u001b[1;33m\u001b[0m\u001b[0m\n",
      "\u001b[1;31mValueError\u001b[0m: Strings 'acgt' and 'gtc' aren't the same length"
     ]
    }
   ],
   "source": [
    "def hamming_distance(s1, s2):\n",
    "    if len(s1) != len(s2):\n",
    "        raise ValueError(f\"Strings {repr(s1)} and {repr(s2)} aren't the same length\")\n",
    "        \n",
    "    # Do the work to find the distance here...\n",
    "\n",
    "hamming_distance('acgt', 'gtc')"
   ]
  },
  {
   "cell_type": "markdown",
   "metadata": {},
   "source": [
    "# Recursion redux\n",
    "## Class experiment"
   ]
  },
  {
   "cell_type": "code",
   "execution_count": 60,
   "metadata": {},
   "outputs": [],
   "source": [
    "debug = True\n",
    "\n",
    "def str_twist(s: str) -> str:\n",
    "    \"Split string into last character and the rest\"\n",
    "\n",
    "    if debug:\n",
    "        print(s)\n",
    "        \n",
    "    if (len(s) == 0):\n",
    "        return ''\n",
    "    else:\n",
    "        return s[-1] + str_twist(s[:-1])"
   ]
  },
  {
   "cell_type": "code",
   "execution_count": 61,
   "metadata": {},
   "outputs": [
    {
     "name": "stdout",
     "output_type": "stream",
     "text": [
      "happy\n",
      "happ\n",
      "hap\n",
      "ha\n",
      "h\n",
      "\n",
      "yppah\n"
     ]
    }
   ],
   "source": [
    "print(str_twist('happy'))"
   ]
  },
  {
   "cell_type": "markdown",
   "metadata": {},
   "source": [
    "# Directory operations\n",
    "## Alternative to Unix find command"
   ]
  },
  {
   "cell_type": "code",
   "execution_count": 62,
   "metadata": {},
   "outputs": [
    {
     "name": "stdout",
     "output_type": "stream",
     "text": [
      " Volume in drive C is OS\n",
      " Volume Serial Number is 9CF3-BBDB\n",
      "\n",
      " Directory of c:\\Users\\Asus\\Coding\\WorkspaceJupyter\n",
      "\n",
      "2021-10-02  00:22    <DIR>          .\n",
      "2021-10-02  00:22    <DIR>          ..\n",
      "2021-09-27  01:30    <DIR>          .ipynb_checkpoints\n",
      "2021-09-11  03:15    <DIR>          .mypy_cache\n",
      "2021-01-19  22:19             2,474 1.1_notebook_quizz_v4.ipynb\n",
      "2021-01-19  22:30             1,979 1.2_notebook_quizz_types.ipynb\n",
      "2019-11-09  14:13         1,112,810 Advanced_python(reference).ipynb\n",
      "2019-11-02  17:19           567,687 Advanced_python(student_version).ipynb\n",
      "2019-11-02  14:39           787,821 basic_python(student)(lesson3).ipynb\n",
      "2019-11-09  15:30            21,812 credit_card(Student_version).ipynb\n",
      "2021-09-07  22:11            13,582 CSCI-E-7_Assignment_01.ipynb\n",
      "2021-09-13  05:40            25,408 CSCI-E-7_Assignment_02.ipynb\n",
      "2021-09-27  06:08           442,216 CSCI-E-7_Assignment_04 - Jupyter Notebook.pdf\n",
      "2021-09-28  02:29            21,747 CSCI-E-7_Assignment_04.ipynb\n",
      "2021-09-04  02:49            65,149 Day1.ipynb\n",
      "2021-09-11  21:59            83,278 Day2.ipynb\n",
      "2021-09-21  04:23            46,754 Day3.ipynb\n",
      "2021-09-28  02:45         2,917,719 Day4.ipynb\n",
      "2021-10-02  00:28            45,610 Day5.ipynb\n",
      "2020-03-22  22:46             7,476 dev274x_m01s01_string_sequences.ipynb\n",
      "2021-09-11  02:48               273 double.py\n",
      "2021-09-13  04:25            39,890 HW2Share.ipynb\n",
      "2019-10-20  17:01             7,473 LCAI Week 01.ipynb\n",
      "2020-02-06  16:56             5,332 learn_os_module.ipynb\n",
      "2019-11-18  17:17           108,238 pandas_pivot_table.ipynb\n",
      "2019-12-28  19:21             9,299 Python Basics for Data Science (IBM) Final Exam.ipynb\n",
      "2021-09-27  05:12                38 sample.txt\n",
      "2021-09-11  01:27               164 script.py\n",
      "2021-09-11  01:19               144 sum.py\n",
      "2021-09-11  01:16               176 system.py\n",
      "2019-11-09  15:30         2,862,995 UCI_Credit_Card.csv\n",
      "2019-12-26  01:49            12,464 Untitled.ipynb\n",
      "2021-09-04  01:08            11,706 Upgrade.ipynb\n",
      "2021-09-27  00:52         1,130,523 words.txt\n",
      "              30 File(s)     10,352,237 bytes\n",
      "\n",
      " Directory of c:\\Users\\Asus\\Coding\\WorkspaceJupyter\\.ipynb_checkpoints\n",
      "\n",
      "2021-09-27  01:30    <DIR>          .\n",
      "2021-09-27  01:30    <DIR>          ..\n",
      "2019-11-09  14:13         1,112,810 Advanced_python(reference)-checkpoint.ipynb\n",
      "2019-11-02  17:19           567,687 Advanced_python(student_version)-checkpoint.ipynb\n",
      "2019-11-02  14:39           787,821 basic_python(student)(lesson3)-checkpoint.ipynb\n",
      "2019-11-09  15:30            21,812 credit_card(Student_version)-checkpoint.ipynb\n",
      "2021-09-28  02:29            21,747 CSCI-E-7_Assignment_04-checkpoint.ipynb\n",
      "2021-09-04  02:32            58,664 Day1-checkpoint.ipynb\n",
      "2021-09-11  01:20            75,076 Day2-checkpoint.ipynb\n",
      "2021-09-20  00:39            34,074 Day3-checkpoint.ipynb\n",
      "2021-09-28  02:45         2,917,719 Day4-checkpoint.ipynb\n",
      "2020-03-22  22:46             7,476 dev274x_m01s01_string_sequences-checkpoint.ipynb\n",
      "2021-09-07  19:00            13,450 Homework1_Ree-checkpoint.ipynb\n",
      "2021-09-13  05:40            25,408 Homework2_Ree-checkpoint.ipynb\n",
      "2021-09-13  02:11            30,873 HW2Share-checkpoint.ipynb\n",
      "2019-10-20  17:01             7,473 LCAI Week 01-checkpoint.ipynb\n",
      "2020-02-06  16:20                72 learn_os_module-checkpoint.ipynb\n",
      "2019-11-18  17:17           108,238 pandas_pivot_table-checkpoint.ipynb\n",
      "2019-12-28  19:21             9,299 Python Basics for Data Science (IBM) Final Exam-checkpoint.ipynb\n",
      "2021-09-19  22:23               885 Real_Python_Basic_Data_Types_in_Python-checkpoint.ipynb\n",
      "2021-09-04  00:04            11,706 Upgrade-checkpoint.ipynb\n",
      "              19 File(s)      5,812,290 bytes\n",
      "\n",
      " Directory of c:\\Users\\Asus\\Coding\\WorkspaceJupyter\\.mypy_cache\n",
      "\n",
      "2021-09-11  03:15    <DIR>          .\n",
      "2021-09-11  03:15    <DIR>          ..\n",
      "2021-09-11  03:15                36 .gitignore\n",
      "2021-09-11  03:20    <DIR>          3.8\n",
      "2021-09-11  03:15               193 CACHEDIR.TAG\n",
      "               2 File(s)            229 bytes\n",
      "\n",
      " Directory of c:\\Users\\Asus\\Coding\\WorkspaceJupyter\\.mypy_cache\\3.8\n",
      "\n",
      "2021-09-11  03:20    <DIR>          .\n",
      "2021-09-11  03:20    <DIR>          ..\n",
      "2021-09-11  03:20                 2 @plugins_snapshot.json\n",
      "2021-09-11  03:15            13,160 abc.data.json\n",
      "2021-09-11  03:15             1,473 abc.meta.json\n",
      "2021-09-11  03:15            52,679 array.data.json\n",
      "2021-09-11  03:15             1,533 array.meta.json\n",
      "2021-09-11  03:15           102,363 ast.data.json\n",
      "2021-09-11  03:15             1,546 ast.meta.json\n",
      "2021-09-11  03:15           790,073 builtins.data.json\n",
      "2021-09-11  03:15             1,585 builtins.meta.json\n",
      "2021-09-11  03:15           117,187 codecs.data.json\n",
      "2021-09-11  03:15             1,552 codecs.meta.json\n",
      "2021-09-11  03:15    <DIR>          collections\n",
      "2021-09-11  03:15            16,146 genericpath.data.json\n",
      "2021-09-11  03:15             1,577 genericpath.meta.json\n",
      "2021-09-11  03:15    <DIR>          importlib\n",
      "2021-09-11  03:15            82,416 io.data.json\n",
      "2021-09-11  03:15             1,565 io.meta.json\n",
      "2021-09-11  03:15            24,148 mmap.data.json\n",
      "2021-09-11  03:15             1,523 mmap.meta.json\n",
      "2021-09-11  03:15            12,309 ntpath.data.json\n",
      "2021-09-11  03:15             1,582 ntpath.meta.json\n",
      "2021-09-11  03:15    <DIR>          os\n",
      "2021-09-11  03:15            83,941 posix.data.json\n",
      "2021-09-11  03:15             1,518 posix.meta.json\n",
      "2021-09-11  03:15            67,260 posixpath.data.json\n",
      "2021-09-11  03:15             1,568 posixpath.meta.json\n",
      "2021-09-11  03:15           160,567 subprocess.data.json\n",
      "2021-09-11  03:15             1,591 subprocess.meta.json\n",
      "2021-09-11  03:15            70,020 sys.data.json\n",
      "2021-09-11  03:15             1,575 sys.meta.json\n",
      "2021-09-11  03:15           100,393 types.data.json\n",
      "2021-09-11  03:15             1,606 types.meta.json\n",
      "2021-09-11  03:15           403,211 typing.data.json\n",
      "2021-09-11  03:15             1,529 typing.meta.json\n",
      "2021-09-11  03:15            34,690 typing_extensions.data.json\n",
      "2021-09-11  03:15             1,530 typing_extensions.meta.json\n",
      "2021-09-11  03:15           104,707 _ast.data.json\n",
      "2021-09-11  03:15             1,504 _ast.meta.json\n",
      "2021-09-11  03:15             3,765 _collections_abc.data.json\n",
      "2021-09-11  03:15             1,514 _collections_abc.meta.json\n",
      "2021-09-11  03:15    <DIR>          _typeshed\n",
      "              37 File(s)      2,266,908 bytes\n",
      "\n",
      " Directory of c:\\Users\\Asus\\Coding\\WorkspaceJupyter\\.mypy_cache\\3.8\\collections\n",
      "\n",
      "2021-09-11  03:15    <DIR>          .\n",
      "2021-09-11  03:15    <DIR>          ..\n",
      "2021-09-11  03:15           233,023 __init__.data.json\n",
      "2021-09-11  03:15             1,556 __init__.meta.json\n",
      "               2 File(s)        234,579 bytes\n",
      "\n",
      " Directory of c:\\Users\\Asus\\Coding\\WorkspaceJupyter\\.mypy_cache\\3.8\\importlib\n",
      "\n",
      "2021-09-11  03:15    <DIR>          .\n",
      "2021-09-11  03:15    <DIR>          ..\n",
      "2021-09-11  03:15            40,279 abc.data.json\n",
      "2021-09-11  03:15             1,613 abc.meta.json\n",
      "2021-09-11  03:15            56,971 machinery.data.json\n",
      "2021-09-11  03:15             1,581 machinery.meta.json\n",
      "2021-09-11  03:15             5,434 __init__.data.json\n",
      "2021-09-11  03:15             1,534 __init__.meta.json\n",
      "               6 File(s)        107,412 bytes\n",
      "\n",
      " Directory of c:\\Users\\Asus\\Coding\\WorkspaceJupyter\\.mypy_cache\\3.8\\os\n",
      "\n",
      "2021-09-11  03:15    <DIR>          .\n",
      "2021-09-11  03:15    <DIR>          ..\n",
      "2021-09-11  03:15             4,681 path.data.json\n",
      "2021-09-11  03:15             1,526 path.meta.json\n",
      "2021-09-11  03:15           146,993 __init__.data.json\n",
      "2021-09-11  03:15             1,645 __init__.meta.json\n",
      "               4 File(s)        154,845 bytes\n",
      "\n",
      " Directory of c:\\Users\\Asus\\Coding\\WorkspaceJupyter\\.mypy_cache\\3.8\\_typeshed\n",
      "\n",
      "2021-09-11  03:15    <DIR>          .\n",
      "2021-09-11  03:15    <DIR>          ..\n",
      "2021-09-11  03:15            43,276 __init__.data.json\n",
      "2021-09-11  03:15             1,600 __init__.meta.json\n",
      "               2 File(s)         44,876 bytes\n",
      "\n",
      "     Total Files Listed:\n",
      "             102 File(s)     18,973,376 bytes\n",
      "              23 Dir(s)  113,481,060,352 bytes free\n"
     ]
    }
   ],
   "source": [
    "## For DOS systems\n",
    "\n",
    "! dir /s"
   ]
  },
  {
   "cell_type": "code",
   "execution_count": 63,
   "metadata": {
    "scrolled": false
   },
   "outputs": [
    {
     "name": "stderr",
     "output_type": "stream",
     "text": [
      "FIND: Parameter format not correct\n",
      "Cannot access file C:\\Users\\Asus\\Coding\\WorkspaceJupyter\\#\n"
     ]
    }
   ],
   "source": [
    "## For UNIX systems\n",
    "\n",
    "! find ~/opt/anaconda3 | more    # 'find' is a Unix Command\n",
    "\n",
    "# 'more' limits output to one screen at a time"
   ]
  },
  {
   "cell_type": "markdown",
   "metadata": {},
   "source": [
    "## I see\n",
    "```python\n",
    "/Users/jparker/opt/anaconda3\n",
    "/Users/jparker/opt/anaconda3/man\n",
    "/Users/jparker/opt/anaconda3/man/man1\n",
    "/Users/jparker/opt/anaconda3/man/man1/bzegrep.1\n",
    "/Users/jparker/opt/anaconda3/man/man1/bzmore.1\n",
    "/Users/jparker/opt/anaconda3/man/man1/bzdiff.1\n",
    "/Users/jparker/opt/anaconda3/man/man1/bzfgrep.1\n",
    "/Users/jparker/opt/anaconda3/man/man1/bzip2.1\n",
    "/Users/jparker/opt/anaconda3/man/man1/bzcmp.1\n",
    "/Users/jparker/opt/anaconda3/man/man1/bzgrep.1\n",
    "/Users/jparker/opt/anaconda3/man/man1/nosetests.1\n",
    "/Users/jparker/opt/anaconda3/man/man1/bzless.1\n",
    "/Users/jparker/opt/anaconda3/conda-meta\n",
    "/Users/jparker/opt/anaconda3/conda-meta/c-ares-1.17.1-h9ed2024_0.json\n",
    "/Users/jparker/opt/anaconda3/conda-meta/prompt-toolkit-3.0.17-pyh06a4308_0.json\n",
    "/Users/jparker/opt/anaconda3/conda-meta/spyder-kernels-1.10.2-py38hecd8cb5_0.json\n",
    "/Users/jparker/opt/anaconda3/conda-meta/contextlib2-0.6.0.post1-py_0.json\n",
    "/Users/jparker/opt/anaconda3/conda-meta/pycodestyle-2.6.0-pyhd3eb1b0_0.json\n",
    "/Users/jparker/opt/anaconda3/conda-meta/ptyprocess-0.7.0-pyhd3eb1b0_2.json\n",
    "/Users/jparker/opt/anaconda3/conda-meta/pyparsing-2.4.7-pyhd3eb1b0_0.json\n",
    "/Users/jparker/opt/anaconda3/conda-meta/brotlipy-0.7.0-py38h9ed2024_1003.json\n",
    "/Users/jparker/opt/anaconda3/conda-meta/bokeh-2.3.1-py38hecd8cb5_0.json\n",
    "...\n",
    "```\n",
    "And so on"
   ]
  },
  {
   "cell_type": "markdown",
   "metadata": {},
   "source": [
    "## We can do this in a Python Program\n",
    "\n",
    "Let's peek at what is in my /etc directory\n",
    "\n",
    "*Windows users should traverse a directory on their machine using 'dir /s'*"
   ]
  },
  {
   "cell_type": "code",
   "execution_count": 64,
   "metadata": {},
   "outputs": [
    {
     "name": "stdout",
     "output_type": "stream",
     "text": [
      "\n"
     ]
    },
    {
     "name": "stderr",
     "output_type": "stream",
     "text": [
      "FIND: Invalid switch\n"
     ]
    }
   ],
   "source": [
    "# Unix command 'find'\n",
    "\n",
    "! find /etc/ | more"
   ]
  },
  {
   "cell_type": "code",
   "execution_count": 65,
   "metadata": {},
   "outputs": [
    {
     "ename": "FileNotFoundError",
     "evalue": "[WinError 3] The system cannot find the path specified: '/etc'",
     "output_type": "error",
     "traceback": [
      "\u001b[1;31m---------------------------------------------------------------------------\u001b[0m",
      "\u001b[1;31mFileNotFoundError\u001b[0m                         Traceback (most recent call last)",
      "\u001b[1;32m~\\AppData\\Local\\Temp/ipykernel_16416/3751084959.py\u001b[0m in \u001b[0;36m<module>\u001b[1;34m\u001b[0m\n\u001b[0;32m      3\u001b[0m \u001b[0mdirname\u001b[0m \u001b[1;33m=\u001b[0m \u001b[1;34m'/etc'\u001b[0m\u001b[1;33m\u001b[0m\u001b[1;33m\u001b[0m\u001b[0m\n\u001b[0;32m      4\u001b[0m \u001b[1;33m\u001b[0m\u001b[0m\n\u001b[1;32m----> 5\u001b[1;33m \u001b[1;32mfor\u001b[0m \u001b[0mname\u001b[0m \u001b[1;32min\u001b[0m \u001b[0mos\u001b[0m\u001b[1;33m.\u001b[0m\u001b[0mlistdir\u001b[0m\u001b[1;33m(\u001b[0m\u001b[0mdirname\u001b[0m\u001b[1;33m)\u001b[0m\u001b[1;33m:\u001b[0m\u001b[1;33m\u001b[0m\u001b[1;33m\u001b[0m\u001b[0m\n\u001b[0m\u001b[0;32m      6\u001b[0m     \u001b[0mprint\u001b[0m\u001b[1;33m(\u001b[0m\u001b[0mname\u001b[0m\u001b[1;33m)\u001b[0m\u001b[1;33m\u001b[0m\u001b[1;33m\u001b[0m\u001b[0m\n",
      "\u001b[1;31mFileNotFoundError\u001b[0m: [WinError 3] The system cannot find the path specified: '/etc'"
     ]
    }
   ],
   "source": [
    "import os\n",
    "\n",
    "dirname = '/etc'\n",
    "\n",
    "for name in os.listdir(dirname):  \n",
    "    print(name)"
   ]
  },
  {
   "cell_type": "markdown",
   "metadata": {},
   "source": [
    "### I see a list of files in my /etc directory\n",
    "```python\n",
    "kcpassword\n",
    "emond.d\n",
    "periodic\n",
    "manpaths\n",
    "services~previous\n",
    "rc.common\n",
    "csh.logout~orig\n",
    "auto_master\n",
    "...\n",
    "```"
   ]
  },
  {
   "cell_type": "markdown",
   "metadata": {},
   "source": [
    "## Want to paste together directory name and file name "
   ]
  },
  {
   "cell_type": "code",
   "execution_count": 66,
   "metadata": {},
   "outputs": [
    {
     "ename": "FileNotFoundError",
     "evalue": "[WinError 3] The system cannot find the path specified: '/etc'",
     "output_type": "error",
     "traceback": [
      "\u001b[1;31m---------------------------------------------------------------------------\u001b[0m",
      "\u001b[1;31mFileNotFoundError\u001b[0m                         Traceback (most recent call last)",
      "\u001b[1;32m~\\AppData\\Local\\Temp/ipykernel_16416/2747414189.py\u001b[0m in \u001b[0;36m<module>\u001b[1;34m\u001b[0m\n\u001b[0;32m      3\u001b[0m \u001b[0mdirname\u001b[0m \u001b[1;33m=\u001b[0m \u001b[1;34m'/etc'\u001b[0m\u001b[1;33m\u001b[0m\u001b[1;33m\u001b[0m\u001b[0m\n\u001b[0;32m      4\u001b[0m \u001b[1;33m\u001b[0m\u001b[0m\n\u001b[1;32m----> 5\u001b[1;33m \u001b[1;32mfor\u001b[0m \u001b[0mname\u001b[0m \u001b[1;32min\u001b[0m \u001b[0mos\u001b[0m\u001b[1;33m.\u001b[0m\u001b[0mlistdir\u001b[0m\u001b[1;33m(\u001b[0m\u001b[0mdirname\u001b[0m\u001b[1;33m)\u001b[0m\u001b[1;33m:\u001b[0m\u001b[1;33m\u001b[0m\u001b[1;33m\u001b[0m\u001b[0m\n\u001b[0m\u001b[0;32m      6\u001b[0m     \u001b[0mprint\u001b[0m\u001b[1;33m(\u001b[0m\u001b[0mdirname\u001b[0m \u001b[1;33m+\u001b[0m \u001b[1;34m'/'\u001b[0m \u001b[1;33m+\u001b[0m \u001b[0mname\u001b[0m\u001b[1;33m)\u001b[0m     \u001b[1;31m# What kind of bug is that?\u001b[0m\u001b[1;33m\u001b[0m\u001b[1;33m\u001b[0m\u001b[0m\n",
      "\u001b[1;31mFileNotFoundError\u001b[0m: [WinError 3] The system cannot find the path specified: '/etc'"
     ]
    }
   ],
   "source": [
    "import os\n",
    "\n",
    "dirname = '/etc'\n",
    "\n",
    "for name in os.listdir(dirname):\n",
    "    print(dirname + '/' + name)     # What kind of bug is that?"
   ]
  },
  {
   "cell_type": "markdown",
   "metadata": {},
   "source": [
    "### What I see\n",
    "```python\n",
    "    /etc/emond.d\n",
    "    /etc/periodic\n",
    "    /etc/manpaths\n",
    "    /etc/services~previous\n",
    "    /etc/dnsextd.conf\n",
    "    /etc/rc.common\n",
    "    ...\n",
    "```\n",
    "       "
   ]
  },
  {
   "cell_type": "markdown",
   "metadata": {},
   "source": [
    "## Unix names are dir/file, but DOS names are dir\\file\n",
    "\n",
    "The code above will not produce legal DOS names\n",
    "\n",
    "## Python has method path.join() to do the right thing\n",
    "\n",
    "Note that this is not the string method join()"
   ]
  },
  {
   "cell_type": "code",
   "execution_count": null,
   "metadata": {},
   "outputs": [],
   "source": [
    "import os\n",
    "\n",
    "## .. is the directory above us\n",
    "dirname = '..'   \n",
    "\n",
    "for name in os.listdir(dirname):\n",
    "    \n",
    "    path = os.path.join(dirname, name)  # Do the right thing\n",
    "    \n",
    "    # Tell user which is which\n",
    "    if os.path.isfile(path):\n",
    "        print('File', path)\n",
    "    else:\n",
    "        print('Directory', path)"
   ]
  },
  {
   "cell_type": "markdown",
   "metadata": {},
   "source": [
    "### What I see\n",
    "```python\n",
    "    Directory ../advanced\n",
    "    Directory ../assignment1\n",
    "    Directory ../AutoGrade\n",
    "    Directory ../day4\n",
    "    Directory ../assignment6\n",
    "    Directory ../day3\n",
    "    ...\n",
    "```\n",
    "### On a DOS based system you see DOS path names"
   ]
  },
  {
   "cell_type": "markdown",
   "metadata": {},
   "source": [
    "## We can build a path name\n",
    "## We know which files are directories\n",
    "## We would like to peek into the directories as well"
   ]
  },
  {
   "cell_type": "code",
   "execution_count": null,
   "metadata": {},
   "outputs": [],
   "source": [
    "## Based on Downey's Think Python, Chapter 14.4\n",
    "\n",
    "import os\n",
    "\n",
    "## Perform a recursive traverse of directories\n",
    "def walk(dirname: str):\n",
    "\n",
    "    # Walk over the files in this directory\n",
    "    for name in os.listdir(dirname):\n",
    "\n",
    "        # Construct a full path\n",
    "        path = os.path.join(dirname, name)\n",
    "\n",
    "        # print filenames, and traverse directories\n",
    "        if os.path.isfile(path):\n",
    "            print(path)\n",
    "        else:\n",
    "            walk(path)\n",
    "\n",
    "            \n",
    "## .. is the directory above us           \n",
    "walk('..')"
   ]
  },
  {
   "cell_type": "markdown",
   "metadata": {},
   "source": [
    "### I see\n",
    "\n",
    "```python\n",
    "    ../advanced/serialize/serialize.py\n",
    "    ../advanced/serialize/course.pickle\n",
    "    ../advanced/serialize/course.json\n",
    "    ../advanced/serialize/pretty-course.json\n",
    "    ../advanced/serialize/__pycache__/pickle.cpython-36.pyc\n",
    "    ../advanced/serialize/debug.py\n",
    "    ../advanced/serialize/load.py\n",
    "    ../assignment1/prog1.py\n",
    "    ...\n",
    "```"
   ]
  },
  {
   "cell_type": "markdown",
   "metadata": {},
   "source": [
    "# Wrap this up as a program"
   ]
  },
  {
   "cell_type": "code",
   "execution_count": null,
   "metadata": {},
   "outputs": [],
   "source": [
    "## walk.py\n",
    "##\n",
    "## List all files below a point in the file system\n",
    "##\n",
    "## Usage:\n",
    "##    python walk.py path\n",
    "##\n",
    "## Based on Downey's Think Python, Chapter 14.4\n",
    "\n",
    "import os\n",
    "import sys\n",
    "\n",
    "# Perform a recursive traverse of directories\n",
    "def traverse(dirname: str):\n",
    "\n",
    "    # Walk over the files in this directory\n",
    "    for name in os.listdir(dirname):\n",
    "\n",
    "        # Construct a full path\n",
    "        path = os.path.join(dirname, name)\n",
    "\n",
    "        # print filenames, and traverse directories\n",
    "        if os.path.isfile(path):\n",
    "            print(path)\n",
    "        else:\n",
    "            traverse(path)\n",
    "\n",
    "\n",
    "## Was there anything on the command line?\n",
    "if len(sys.argv) != 2:\n",
    "    print(\"Usage: python walk.py <path>\")\n",
    "else:\n",
    "    traverse(sys.argv[1])"
   ]
  },
  {
   "cell_type": "code",
   "execution_count": null,
   "metadata": {},
   "outputs": [],
   "source": [
    "! python walk.py .."
   ]
  },
  {
   "cell_type": "markdown",
   "metadata": {},
   "source": [
    "## The cell expects command line parameters\n",
    "We can call function traverse() directly rather than running the cell"
   ]
  },
  {
   "cell_type": "code",
   "execution_count": null,
   "metadata": {},
   "outputs": [],
   "source": [
    "traverse('..')"
   ]
  },
  {
   "cell_type": "markdown",
   "metadata": {},
   "source": [
    "# Program Practice: which?\n",
    "## Another useful Unix command is 'which'\n",
    "\n",
    "We will implement something similar for finding Python Libraries"
   ]
  },
  {
   "cell_type": "code",
   "execution_count": null,
   "metadata": {},
   "outputs": [],
   "source": [
    "# Unix command\n",
    "\n",
    "! which python      # Where is the command python on my machine?"
   ]
  },
  {
   "cell_type": "markdown",
   "metadata": {},
   "source": [
    "```python\n",
    "    /Users/jparker/opt/anaconda3/bin/python\n",
    "```"
   ]
  },
  {
   "cell_type": "code",
   "execution_count": null,
   "metadata": {},
   "outputs": [],
   "source": [
    "# Find your PATH on Windows machine\n",
    "\n",
    "! path"
   ]
  },
  {
   "cell_type": "code",
   "execution_count": null,
   "metadata": {},
   "outputs": [],
   "source": [
    "# Find your PATH on Unix machine\n",
    "\n",
    "! echo $PATH    # Where should the OS look for programs?\n",
    "\n",
    "## Notice that the first directory is\n",
    "##    /Users/jparker/opt/anaconda3/bin"
   ]
  },
  {
   "cell_type": "markdown",
   "metadata": {},
   "source": [
    "## Our goal: Find Python Libraries\n",
    "\n",
    "Where is the Python turtle library defined?\n",
    "\n",
    "'which' is a Unix command that finds programs the OS can run.\n",
    "\n",
    "Our function find_library() looks for Python Libraries"
   ]
  },
  {
   "cell_type": "code",
   "execution_count": null,
   "metadata": {},
   "outputs": [],
   "source": [
    "import sys\n",
    "import os\n",
    "from typing import List\n",
    "\n",
    "def traverse(dir: str, target: str) -> List[str]:\n",
    "    \"Is the command in this directory?\"\n",
    "    N = len(target)\n",
    "    result = []\n",
    "    try:\n",
    "        # Loop over all files in this directory\n",
    "        for w in os.listdir(dir):\n",
    "\n",
    "            # Is it a match?\n",
    "            if (target == w[:N]):\n",
    "                result.append(os.path.join(dir, w))\n",
    "    except IOError:\n",
    "        return []\n",
    "\n",
    "    return result\n",
    "\n",
    "def find_library(target: str) -> str:\n",
    "    \"Get Python's path, and check each element in turn\"\n",
    "\n",
    "    # Look at each element\n",
    "    for w in sys.path:\n",
    "        # Is the target there?\n",
    "        res = traverse(w, target)\n",
    "        if (res):\n",
    "            return res\n",
    "\n",
    "    return \"Could not find \" + target"
   ]
  },
  {
   "cell_type": "code",
   "execution_count": null,
   "metadata": {},
   "outputs": [],
   "source": [
    "find_library('foobar')"
   ]
  },
  {
   "cell_type": "code",
   "execution_count": null,
   "metadata": {},
   "outputs": [],
   "source": [
    "find_library('turtle')"
   ]
  },
  {
   "cell_type": "code",
   "execution_count": null,
   "metadata": {},
   "outputs": [],
   "source": [
    "find_library('turtle.py')"
   ]
  },
  {
   "cell_type": "code",
   "execution_count": null,
   "metadata": {},
   "outputs": [],
   "source": [
    "## Your path will be different\n",
    "## Checking the file: wc is a Unix program that counts lines, words, and characters\n",
    "## Windows users can 'type' the file\n",
    "\n",
    "! wc /Users/jparker/opt/anaconda3/lib/python3.8/turtle.py"
   ]
  },
  {
   "cell_type": "markdown",
   "metadata": {},
   "source": [
    "### A new example"
   ]
  },
  {
   "cell_type": "code",
   "execution_count": null,
   "metadata": {},
   "outputs": [],
   "source": [
    "import this"
   ]
  },
  {
   "cell_type": "code",
   "execution_count": null,
   "metadata": {},
   "outputs": [],
   "source": [
    "find_library('this')"
   ]
  },
  {
   "cell_type": "code",
   "execution_count": null,
   "metadata": {},
   "outputs": [],
   "source": [
    "## cat is a Unix command\n",
    "## Use 'type' command on Windows machines\n",
    "\n",
    "## You will need to use the path to your copy of this.py, found above\n",
    "\n",
    "! cat /Users/jparker/opt/anaconda3/lib/python3.8/this.py"
   ]
  },
  {
   "cell_type": "markdown",
   "metadata": {},
   "source": [
    "# Common mistake\n",
    "## Create a file that occludes a library"
   ]
  },
  {
   "cell_type": "code",
   "execution_count": null,
   "metadata": {},
   "outputs": [],
   "source": [
    "# Unix command to list the files in the local directory\n",
    "\n",
    "! ls "
   ]
  },
  {
   "cell_type": "code",
   "execution_count": null,
   "metadata": {},
   "outputs": [],
   "source": [
    "## Unix command touch creates a file called turtle.py\n",
    "\n",
    "! touch turtle.py"
   ]
  },
  {
   "cell_type": "code",
   "execution_count": null,
   "metadata": {
    "scrolled": true
   },
   "outputs": [],
   "source": [
    "! ls"
   ]
  },
  {
   "cell_type": "code",
   "execution_count": null,
   "metadata": {},
   "outputs": [],
   "source": [
    "! ls turtle*"
   ]
  },
  {
   "cell_type": "code",
   "execution_count": null,
   "metadata": {},
   "outputs": [],
   "source": [
    "find_library('turtle')"
   ]
  },
  {
   "cell_type": "markdown",
   "metadata": {},
   "source": [
    "## It fooled us: does it fool Python?"
   ]
  },
  {
   "cell_type": "code",
   "execution_count": null,
   "metadata": {},
   "outputs": [],
   "source": [
    "import turtle\n",
    "\n",
    "bob = turtle.Turtle()    # Create a turtle Object\n",
    "\n",
    "turtle.mainloop() "
   ]
  },
  {
   "cell_type": "markdown",
   "metadata": {},
   "source": [
    "## Be careful: you may be occluding a library!"
   ]
  },
  {
   "cell_type": "code",
   "execution_count": null,
   "metadata": {},
   "outputs": [],
   "source": [
    "! rm turtle.py"
   ]
  },
  {
   "cell_type": "code",
   "execution_count": null,
   "metadata": {},
   "outputs": [],
   "source": [
    "find_library('turtle')"
   ]
  },
  {
   "cell_type": "markdown",
   "metadata": {},
   "source": [
    "## Stop and Think\n",
    "\n",
    "Do you think that all the Python libraries in the same spot?\n",
    "\n",
    "Can you find a counter example?"
   ]
  },
  {
   "cell_type": "markdown",
   "metadata": {},
   "source": [
    "# Program Practice: Fizz Buzz"
   ]
  },
  {
   "cell_type": "code",
   "execution_count": null,
   "metadata": {},
   "outputs": [],
   "source": [
    "## Write a program that prints the numbers from 1 to 100. \n",
    "## For multiples of 3 print “Fizz” instead of the number,\n",
    "## For multiples of 5 print “Buzz”, \n",
    "## For numbers which are multiples of both 3 and 5 print “FizzBuzz”."
   ]
  },
  {
   "cell_type": "markdown",
   "metadata": {},
   "source": [
    "Here is what I want to see\n",
    "\n",
    "```python\n",
    "    1\n",
    "    2\n",
    "    Fizz\n",
    "    4\n",
    "    Buzz\n",
    "    Fizz\n",
    "    7\n",
    "    8\n",
    "    Fizz\n",
    "    Buzz\n",
    "    11\n",
    "    Fizz\n",
    "    13\n",
    "    14\n",
    "    FizzBuzz\n",
    "    16\n",
    "    ...\n",
    "```"
   ]
  },
  {
   "cell_type": "markdown",
   "metadata": {},
   "source": [
    "## Make it run, make it right, make it fast"
   ]
  },
  {
   "cell_type": "code",
   "execution_count": null,
   "metadata": {},
   "outputs": [],
   "source": [
    "for i in range(20):\n",
    "    print(i)"
   ]
  },
  {
   "cell_type": "markdown",
   "metadata": {},
   "source": [
    "## First attempt"
   ]
  },
  {
   "cell_type": "code",
   "execution_count": null,
   "metadata": {},
   "outputs": [],
   "source": [
    "def fizzbuzz(i):\n",
    "    if i % 3 == 0:\n",
    "        return \"Fizz\"\n",
    "    elif i % 5 == 0:\n",
    "        return \"Buzz\"\n",
    "    else:\n",
    "        return str(i)"
   ]
  },
  {
   "cell_type": "code",
   "execution_count": null,
   "metadata": {},
   "outputs": [],
   "source": [
    "def test():\n",
    "    for i in range(1, 20):\n",
    "        print(fizzbuzz(i))"
   ]
  },
  {
   "cell_type": "code",
   "execution_count": null,
   "metadata": {},
   "outputs": [],
   "source": [
    "test()"
   ]
  },
  {
   "cell_type": "markdown",
   "metadata": {},
   "source": [
    "## We never see FizzBuzz"
   ]
  },
  {
   "cell_type": "code",
   "execution_count": null,
   "metadata": {},
   "outputs": [],
   "source": [
    "def fizzbuzz(i):\n",
    "    if i % 3 == 0:\n",
    "        if i % 5 == 0:\n",
    "            return \"FizzBuzz\"\n",
    "        else:\n",
    "            return \"Fizz\"\n",
    "    elif i % 5 == 0:\n",
    "        return \"Buzz\"\n",
    "    else:\n",
    "        return str(i)"
   ]
  },
  {
   "cell_type": "code",
   "execution_count": null,
   "metadata": {},
   "outputs": [],
   "source": [
    "test()"
   ]
  },
  {
   "cell_type": "markdown",
   "metadata": {},
   "source": [
    "## It is simpler to pull out special case"
   ]
  },
  {
   "cell_type": "code",
   "execution_count": null,
   "metadata": {},
   "outputs": [],
   "source": [
    "def fizzbuzz(i):\n",
    "    if (i % 15 == 0):\n",
    "        return \"FizzBuzz\"\n",
    "    elif i % 3 == 0:\n",
    "        return \"Fizz\"\n",
    "    elif i % 5 == 0:\n",
    "        return \"Buzz\"\n",
    "    else:\n",
    "        return str(i)"
   ]
  },
  {
   "cell_type": "code",
   "execution_count": null,
   "metadata": {},
   "outputs": [],
   "source": [
    "test()"
   ]
  },
  {
   "cell_type": "markdown",
   "metadata": {},
   "source": [
    "# WTF\n",
    "## Look at where we decide what a line separator is"
   ]
  },
  {
   "cell_type": "code",
   "execution_count": null,
   "metadata": {},
   "outputs": [],
   "source": [
    "! python findLibrary.py os"
   ]
  },
  {
   "cell_type": "markdown",
   "metadata": {},
   "source": [
    "What I see\n",
    "\n",
    "```python\n",
    "/Users/jparker/opt/anaconda3/lib/python3.8/os.py\n",
    "```"
   ]
  },
  {
   "cell_type": "code",
   "execution_count": null,
   "metadata": {},
   "outputs": [],
   "source": [
    "! more /Users/jparker/opt/anaconda3/lib/python3.8/os.py"
   ]
  },
  {
   "cell_type": "markdown",
   "metadata": {},
   "source": [
    "```python\n",
    "\"\"\"OS routines for NT or Posix depending on what system we're on.\n",
    "\n",
    "This exports:\n",
    "  - all functions from posix or nt, e.g. unlink, stat, etc.\n",
    "  - os.path is either posixpath or ntpath\n",
    "  - os.name is either 'posix' or 'nt'\n",
    "  - os.curdir is a string representing the current directory (always '.')\n",
    "  - os.pardir is a string representing the parent directory (always '..')\n",
    "  - os.sep is the (or a most common) pathname separator ('/' or '\\\\')\n",
    "  - os.extsep is the extension separator (always '.')\n",
    "  - os.altsep is the alternate pathname separator (None or '/')\n",
    "  - os.pathsep is the component separator used in $PATH etc\n",
    "  - os.linesep is the line separator in text files ('\\r' or '\\n' or '\\r\\n')\n",
    "  - os.defpath is the default search path for executables\n",
    "  - os.devnull is the file path of the null device ('/dev/null', etc.)\n",
    "\n",
    "Programs that import and use 'os' stand a better chance of being\n",
    "portable between different platforms.  Of course, they must then\n",
    "only use functions that are defined by all platforms (e.g., unlink\n",
    "and opendir), and leave all pathname manipulation to os.path\n",
    "(e.g., split and join).\n",
    "\"\"\"\n",
    "```"
   ]
  },
  {
   "cell_type": "markdown",
   "metadata": {},
   "source": [
    "# About 70 lines down\n",
    "```python\n",
    "elif 'nt' in _names:\n",
    "    name = 'nt'\n",
    "    linesep = '\\r\\n'\n",
    "```"
   ]
  },
  {
   "cell_type": "markdown",
   "metadata": {},
   "source": [
    "# Reflection"
   ]
  },
  {
   "cell_type": "markdown",
   "metadata": {},
   "source": [
    "## This article mentions 3 benefits of exceptions.\n",
    "\n",
    "## Restate the three points in your own words\n",
    "\n",
    "http://journals.ecs.soton.ac.uk/java/tutorial/java/exceptions/definition.html\n",
    "    \n",
    "### *Article discusses Java exceptions, but  benefits are the same* "
   ]
  }
 ],
 "metadata": {
  "interpreter": {
   "hash": "b5843a13e7131a14c3c0e364f0390d6592a995e3082c3f83420ac4385eeb2370"
  },
  "kernelspec": {
   "display_name": "Python 3",
   "language": "python",
   "name": "python3"
  },
  "language_info": {
   "codemirror_mode": {
    "name": "ipython",
    "version": 3
   },
   "file_extension": ".py",
   "mimetype": "text/x-python",
   "name": "python",
   "nbconvert_exporter": "python",
   "pygments_lexer": "ipython3",
   "version": "3.8.8"
  }
 },
 "nbformat": 4,
 "nbformat_minor": 1
}
