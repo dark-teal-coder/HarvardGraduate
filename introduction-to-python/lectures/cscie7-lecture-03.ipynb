{
 "cells": [
  {
   "cell_type": "markdown",
   "metadata": {},
   "source": [
    "# CSCI E7 Introduction to Programming with Python\n",
    "## Lecture 03 Jupyter Notebook\n",
    "Fall 2021 (c) Jeff Parker"
   ]
  },
  {
   "cell_type": "markdown",
   "metadata": {},
   "source": [
    "# Topics\n",
    "- Documenting your work\n",
    "- Loops\n",
    "- Turtle Graphics\n",
    "- Using PyCharm to debug a program"
   ]
  },
  {
   "cell_type": "markdown",
   "metadata": {},
   "source": [
    "# Documenting your work\n",
    "\n",
    "## Doc (Document) strings for functions"
   ]
  },
  {
   "cell_type": "code",
   "execution_count": 4,
   "metadata": {},
   "outputs": [
    {
     "name": "stdout",
     "output_type": "stream",
     "text": [
      "Hello, Sam!\n"
     ]
    }
   ],
   "source": [
    "def greeting(name):                   # define greeting() function\n",
    "    return f'Hello, {name}!'          # return a string\n",
    "\n",
    "\n",
    "print(greeting('Sam'))                # call function and print it"
   ]
  },
  {
   "cell_type": "code",
   "execution_count": 5,
   "metadata": {},
   "outputs": [
    {
     "name": "stdout",
     "output_type": "stream",
     "text": [
      "Help on function greeting in module __main__:\n",
      "\n",
      "greeting(name)\n",
      "\n"
     ]
    }
   ],
   "source": [
    "help(greeting)"
   ]
  },
  {
   "cell_type": "markdown",
   "metadata": {},
   "source": [
    "## Let's add Type Hints and try again"
   ]
  },
  {
   "cell_type": "code",
   "execution_count": 22,
   "metadata": {},
   "outputs": [],
   "source": [
    "def greeting(name: str) -> str:        # define greeting() function\n",
    "    return f'Hello, {name}!'          # return a string"
   ]
  },
  {
   "cell_type": "code",
   "execution_count": 23,
   "metadata": {},
   "outputs": [
    {
     "name": "stdout",
     "output_type": "stream",
     "text": [
      "Help on function greeting in module __main__:\n",
      "\n",
      "greeting(name: str) -> str\n",
      "\n"
     ]
    }
   ],
   "source": [
    "help(greeting)"
   ]
  },
  {
   "cell_type": "markdown",
   "metadata": {},
   "source": [
    "## Add a string describing function after the first line\n",
    "### This is called a \"Doc string\" or Document string "
   ]
  },
  {
   "cell_type": "code",
   "execution_count": 8,
   "metadata": {},
   "outputs": [],
   "source": [
    "def greeting(name: str)-> str:        \n",
    "    \"Return a greeting to 'name'\"    # Doc string\n",
    "    return f'Hello, {name}!'"
   ]
  },
  {
   "cell_type": "code",
   "execution_count": 9,
   "metadata": {},
   "outputs": [
    {
     "name": "stdout",
     "output_type": "stream",
     "text": [
      "Help on function greeting in module __main__:\n",
      "\n",
      "greeting(name: str) -> str\n",
      "    Return a greeting to 'name'\n",
      "\n"
     ]
    }
   ],
   "source": [
    "help(greeting)"
   ]
  },
  {
   "cell_type": "markdown",
   "metadata": {},
   "source": [
    "## Let's look at where the doc string was stored\n",
    "\n",
    "Use the builtin function dir().  \n",
    "\n",
    "https://docs.python.org/3/library/functions.html\n",
    "\n",
    "```python\n",
    "dir([object])\n",
    "\n",
    "Without arguments, return the list of names in the current local scope.   With an argument, attempt to return a list of valid attributes for that object.\n",
    "```"
   ]
  },
  {
   "cell_type": "code",
   "execution_count": 10,
   "metadata": {},
   "outputs": [
    {
     "name": "stdout",
     "output_type": "stream",
     "text": [
      "Help on built-in function dir in module builtins:\n",
      "\n",
      "dir(...)\n",
      "    dir([object]) -> list of strings\n",
      "    \n",
      "    If called without an argument, return the names in the current scope.\n",
      "    Else, return an alphabetized list of names comprising (some of) the attributes\n",
      "    of the given object, and of attributes reachable from it.\n",
      "    If the object supplies a method named __dir__, it will be used; otherwise\n",
      "    the default dir() logic is used and returns:\n",
      "      for a module object: the module's attributes.\n",
      "      for a class object:  its attributes, and recursively the attributes\n",
      "        of its bases.\n",
      "      for any other object: its attributes, its class's attributes, and\n",
      "        recursively the attributes of its class's base classes.\n",
      "\n"
     ]
    }
   ],
   "source": [
    "help(dir)"
   ]
  },
  {
   "cell_type": "code",
   "execution_count": 11,
   "metadata": {},
   "outputs": [
    {
     "data": {
      "text/plain": [
       "['__annotations__',\n",
       " '__call__',\n",
       " '__class__',\n",
       " '__closure__',\n",
       " '__code__',\n",
       " '__defaults__',\n",
       " '__delattr__',\n",
       " '__dict__',\n",
       " '__dir__',\n",
       " '__doc__',\n",
       " '__eq__',\n",
       " '__format__',\n",
       " '__ge__',\n",
       " '__get__',\n",
       " '__getattribute__',\n",
       " '__globals__',\n",
       " '__gt__',\n",
       " '__hash__',\n",
       " '__init__',\n",
       " '__init_subclass__',\n",
       " '__kwdefaults__',\n",
       " '__le__',\n",
       " '__lt__',\n",
       " '__module__',\n",
       " '__name__',\n",
       " '__ne__',\n",
       " '__new__',\n",
       " '__qualname__',\n",
       " '__reduce__',\n",
       " '__reduce_ex__',\n",
       " '__repr__',\n",
       " '__setattr__',\n",
       " '__sizeof__',\n",
       " '__str__',\n",
       " '__subclasshook__']"
      ]
     },
     "execution_count": 11,
     "metadata": {},
     "output_type": "execute_result"
    }
   ],
   "source": [
    "dir(greeting)"
   ]
  },
  {
   "cell_type": "code",
   "execution_count": 12,
   "metadata": {},
   "outputs": [
    {
     "data": {
      "text/plain": [
       "\"Return a greeting to 'name'\""
      ]
     },
     "execution_count": 12,
     "metadata": {},
     "output_type": "execute_result"
    }
   ],
   "source": [
    "greeting.__doc__"
   ]
  },
  {
   "cell_type": "markdown",
   "metadata": {},
   "source": [
    "## *We store the doc string for greeting in greeting dunder doc*"
   ]
  },
  {
   "cell_type": "markdown",
   "metadata": {},
   "source": [
    "## *We call _ underbar, and we call __ double underbar.*\n",
    "### This \"Double underbar doc double underbar\" or \"Dunder doc\"\n",
    "\n",
    "### Pronounce the following function name:\n",
    "\n",
    "```python\n",
    "    __Mifflin__()\n",
    "```\n",
    "### *We will look at doc strings for functions we learn today*"
   ]
  },
  {
   "cell_type": "markdown",
   "metadata": {},
   "source": [
    "# Turtle Graphics"
   ]
  },
  {
   "cell_type": "code",
   "execution_count": 1,
   "metadata": {},
   "outputs": [
    {
     "name": "stdout",
     "output_type": "stream",
     "text": [
      "<turtle.Turtle object at 0x0000023B8C64E190>\n"
     ]
    }
   ],
   "source": [
    "import turtle\n",
    "\n",
    "bob = turtle.Turtle()    # Create a turtle Object\n",
    "print(bob)\n",
    "\n",
    "bob.fd(100)              # fd() - Move forward\n",
    "bob.lt(90)               # lt() - Left Turn 90 degrees\n",
    "bob.fd(100)"
   ]
  },
  {
   "cell_type": "markdown",
   "metadata": {},
   "source": [
    "# Stop the SBOD! \n",
    "### https://www.urbandictionary.com/define.php?term=SBOD"
   ]
  },
  {
   "cell_type": "code",
   "execution_count": 1,
   "metadata": {},
   "outputs": [
    {
     "name": "stdout",
     "output_type": "stream",
     "text": [
      "<turtle.Turtle object at 0x000002AED69F0940>\n",
      "Before mainloop()\n",
      "After mainloop()\n"
     ]
    }
   ],
   "source": [
    "import turtle\n",
    "\n",
    "bob = turtle.Turtle()    # Create a turtle Object\n",
    "print(bob)\n",
    "\n",
    "bob.fd(100)              # fd() - Move forward\n",
    "bob.lt(90)               # lt() - Left Turn 90 degrees\n",
    "bob.fd(100)\n",
    "\n",
    "print(\"Before mainloop()\")\n",
    "turtle.mainloop()        # Stop SBOD\n",
    "print(\"After mainloop()\")"
   ]
  },
  {
   "cell_type": "markdown",
   "metadata": {},
   "source": [
    "## What does mainloop() do?"
   ]
  },
  {
   "cell_type": "code",
   "execution_count": 15,
   "metadata": {},
   "outputs": [
    {
     "name": "stdout",
     "output_type": "stream",
     "text": [
      "Help on function mainloop in module turtle:\n",
      "\n",
      "mainloop()\n",
      "    Starts event loop - calling Tkinter's mainloop function.\n",
      "    \n",
      "    No argument.\n",
      "    \n",
      "    Must be last statement in a turtle graphics program.\n",
      "    Must NOT be used if a script is run from within IDLE in -n mode\n",
      "    (No subprocess) - for interactive use of turtle graphics.\n",
      "    \n",
      "    Example:\n",
      "    >>> mainloop()\n",
      "\n"
     ]
    }
   ],
   "source": [
    "import turtle\n",
    "\n",
    "help(turtle.mainloop)"
   ]
  },
  {
   "cell_type": "markdown",
   "metadata": {},
   "source": [
    "## Let's look in the implementation of turtle\n",
    "\n",
    "My copy of the library is in \n",
    "/Users/jparker/opt/anaconda3/lib/python3.8/turtle.py\n",
    "\n",
    "We will learn how to find libraries shortly\n",
    "\n",
    "The definition of function mainloop() starts at line 801:\n",
    "```python\n",
    "def mainloop(self):\n",
    "    \"\"\"Starts event loop - calling Tkinter's mainloop function.\n",
    "\n",
    "    No argument.\n",
    "\n",
    "    Must be last statement in a turtle graphics program.\n",
    "    Must NOT be used if a script is run from within IDLE in -n mode\n",
    "    (No subprocess) - for interactive use of turtle graphics.\n",
    "\n",
    "    Example (for a TurtleScreen instance named screen):\n",
    "    >>> screen.mainloop()\n",
    "```\n",
    "\n",
    "The Docstring is the help text"
   ]
  },
  {
   "cell_type": "markdown",
   "metadata": {},
   "source": [
    "## Running more than once\n",
    "\n",
    "When running the Turtle from a notebook, I find I need to kill the Python process that runs the Turtle programs\n",
    "\n",
    "On MacOS I open Apple/ForceQuit and use that window to kill the Python process\n",
    "\n",
    "The following code helps to avoid this annoyance\n",
    "\n",
    "```python\n",
    "# Wait for the user\n",
    "turtle.mainloop()\n",
    "\n",
    "try:\n",
    "    turtle.bye()\n",
    "except:\n",
    "    print(\"bye\") \n",
    "```\n",
    "\n",
    "Despite the documentation's statement that mainloop() should be last, put this after mainloop.  \n",
    "\n",
    "I'm printing 'bye' to show what is going on here: later I will silently catch the exception."
   ]
  },
  {
   "cell_type": "code",
   "execution_count": 16,
   "metadata": {},
   "outputs": [
    {
     "name": "stdout",
     "output_type": "stream",
     "text": [
      "Help on function bye in module turtle:\n",
      "\n",
      "bye()\n",
      "    Shut the turtlegraphics window.\n",
      "    \n",
      "    Example:\n",
      "    >>> bye()\n",
      "\n"
     ]
    }
   ],
   "source": [
    "import turtle\n",
    "\n",
    "help(turtle.bye)"
   ]
  },
  {
   "cell_type": "markdown",
   "metadata": {},
   "source": [
    "# For loop\n",
    "## When you're having more than one"
   ]
  },
  {
   "cell_type": "code",
   "execution_count": 6,
   "metadata": {},
   "outputs": [
    {
     "name": "stdout",
     "output_type": "stream",
     "text": [
      "bye\n"
     ]
    }
   ],
   "source": [
    "import turtle\n",
    "\n",
    "bob = turtle.Turtle()    # Create a turtle Object\n",
    "\n",
    "for i in range(4):       # for i in [0, 1, 2, 3]\n",
    "    bob.fd(100)          # fd() - Move forward\n",
    "    bob.lt(90)           # lt() - Left Turn\n",
    "\n",
    "turtle.mainloop()        # Stop SBOD\n",
    "\n",
    "try:                     # \n",
    "    turtle.bye()\n",
    "except:\n",
    "    print(\"bye\") "
   ]
  },
  {
   "cell_type": "markdown",
   "metadata": {},
   "source": [
    "## Print 4 numbers"
   ]
  },
  {
   "cell_type": "code",
   "execution_count": 4,
   "metadata": {},
   "outputs": [
    {
     "name": "stdout",
     "output_type": "stream",
     "text": [
      "0\n",
      "1\n",
      "2\n",
      "3\n"
     ]
    }
   ],
   "source": [
    "for i in range(4): \n",
    "    print(i)"
   ]
  },
  {
   "cell_type": "markdown",
   "metadata": {},
   "source": [
    "## Components\n",
    "- for - Keyword\n",
    "- i - Loop variable\n",
    "- range(4) - yields 0, 1, 2, 3\n",
    "- : - start of block\n",
    "- print(i) - Block to repeat"
   ]
  },
  {
   "cell_type": "markdown",
   "metadata": {},
   "source": [
    "## Bart's helper\n",
    "\n",
    "http://bartsblackboard.com/i-will-not-waste-chalk/season-1/3/"
   ]
  },
  {
   "cell_type": "code",
   "execution_count": 5,
   "metadata": {},
   "outputs": [
    {
     "name": "stdout",
     "output_type": "stream",
     "text": [
      "I will not print inside a function\n",
      "I will not print inside a function\n",
      "I will not print inside a function\n",
      "I will not print inside a function\n",
      "I will not print inside a function\n",
      "I will not print inside a function\n",
      "I will not print inside a function\n",
      "I will not print inside a function\n",
      "I will not print inside a function\n",
      "I will not print inside a function\n",
      "I will not print inside a function\n",
      "I will not print inside a function\n",
      "I will not print inside a function\n",
      "I will not print inside a function\n",
      "I will not print inside a function\n",
      "I will not print inside a function\n",
      "I will not print inside a function\n",
      "I will not print inside a function\n",
      "I will not print inside a function\n",
      "I will not print inside a function\n",
      "I will not print inside a function\n",
      "I will not print inside a function\n",
      "I will not print inside a function\n",
      "I will not print inside a function\n",
      "I will not print inside a function\n",
      "I will not print inside a function\n",
      "I will not print inside a function\n",
      "I will not print inside a function\n",
      "I will not print inside a function\n",
      "I will not print inside a function\n",
      "I will not print inside a function\n",
      "I will not print inside a function\n",
      "I will not print inside a function\n",
      "I will not print inside a function\n",
      "I will not print inside a function\n",
      "I will not print inside a function\n",
      "I will not print inside a function\n",
      "I will not print inside a function\n",
      "I will not print inside a function\n",
      "I will not print inside a function\n",
      "I will not print inside a function\n",
      "I will not print inside a function\n",
      "I will not print inside a function\n",
      "I will not print inside a function\n",
      "I will not print inside a function\n",
      "I will not print inside a function\n",
      "I will not print inside a function\n",
      "I will not print inside a function\n",
      "I will not print inside a function\n",
      "I will not print inside a function\n",
      "I will not print inside a function\n",
      "I will not print inside a function\n",
      "I will not print inside a function\n",
      "I will not print inside a function\n",
      "I will not print inside a function\n",
      "I will not print inside a function\n",
      "I will not print inside a function\n",
      "I will not print inside a function\n",
      "I will not print inside a function\n",
      "I will not print inside a function\n",
      "I will not print inside a function\n",
      "I will not print inside a function\n",
      "I will not print inside a function\n",
      "I will not print inside a function\n",
      "I will not print inside a function\n",
      "I will not print inside a function\n",
      "I will not print inside a function\n",
      "I will not print inside a function\n",
      "I will not print inside a function\n",
      "I will not print inside a function\n",
      "I will not print inside a function\n",
      "I will not print inside a function\n",
      "I will not print inside a function\n",
      "I will not print inside a function\n",
      "I will not print inside a function\n",
      "I will not print inside a function\n",
      "I will not print inside a function\n",
      "I will not print inside a function\n",
      "I will not print inside a function\n",
      "I will not print inside a function\n",
      "I will not print inside a function\n",
      "I will not print inside a function\n",
      "I will not print inside a function\n",
      "I will not print inside a function\n",
      "I will not print inside a function\n",
      "I will not print inside a function\n",
      "I will not print inside a function\n",
      "I will not print inside a function\n",
      "I will not print inside a function\n",
      "I will not print inside a function\n",
      "I will not print inside a function\n",
      "I will not print inside a function\n",
      "I will not print inside a function\n",
      "I will not print inside a function\n",
      "I will not print inside a function\n",
      "I will not print inside a function\n",
      "I will not print inside a function\n",
      "I will not print inside a function\n",
      "I will not print inside a function\n",
      "I will not print inside a function\n"
     ]
    }
   ],
   "source": [
    "def help_bart(s):\n",
    "    for i in range(100):\n",
    "        print(s)\n",
    "        \n",
    "help_bart(\"I will not print inside a function\")"
   ]
  },
  {
   "cell_type": "markdown",
   "metadata": {},
   "source": [
    "# We can iterate over a string using indexing"
   ]
  },
  {
   "cell_type": "code",
   "execution_count": 7,
   "metadata": {},
   "outputs": [
    {
     "name": "stdout",
     "output_type": "stream",
     "text": [
      "f\n",
      "r\n",
      "o\n",
      "g\n"
     ]
    }
   ],
   "source": [
    "s = 'frog'\n",
    "\n",
    "for i in range(len(s)):\n",
    "    print(s[i])"
   ]
  },
  {
   "cell_type": "markdown",
   "metadata": {},
   "source": [
    "### More Pythonic to skip range(), len() and iterate directly"
   ]
  },
  {
   "cell_type": "code",
   "execution_count": 8,
   "metadata": {},
   "outputs": [
    {
     "name": "stdout",
     "output_type": "stream",
     "text": [
      "f\n",
      "r\n",
      "o\n",
      "g\n"
     ]
    }
   ],
   "source": [
    "s = 'frog'\n",
    "\n",
    "for ch in s:       # More Pythonic loop\n",
    "    print(ch)"
   ]
  },
  {
   "cell_type": "markdown",
   "metadata": {},
   "source": [
    "Replace\n",
    "```python\n",
    "    for i in range(len(s)):\n",
    "        print(s[i])\n",
    "```\n",
    "with\n",
    "```python\n",
    "    for ch in s:\n",
    "        print(ch)\n",
    "```\n",
    "## Loop variable ch takes on each character in turn\n",
    "\n",
    "## *Better because it is simpler*\n",
    "\n",
    "We don't need len(), range(), and indexing."
   ]
  },
  {
   "cell_type": "markdown",
   "metadata": {},
   "source": [
    "# Iterate over a slice"
   ]
  },
  {
   "cell_type": "code",
   "execution_count": 9,
   "metadata": {},
   "outputs": [
    {
     "name": "stdout",
     "output_type": "stream",
     "text": [
      "r\n",
      "e\n",
      "d\n"
     ]
    }
   ],
   "source": [
    "s = \"small red dog\"\n",
    "\n",
    "for ch in s[6:9]:\n",
    "    print(ch)"
   ]
  },
  {
   "cell_type": "code",
   "execution_count": 10,
   "metadata": {},
   "outputs": [
    {
     "name": "stdout",
     "output_type": "stream",
     "text": [
      "s\n",
      "a\n",
      "l\n"
     ]
    }
   ],
   "source": [
    "s = \"small\"\n",
    "\n",
    "for ch in s[::2]:\n",
    "    print(ch)"
   ]
  },
  {
   "cell_type": "code",
   "execution_count": 11,
   "metadata": {},
   "outputs": [
    {
     "name": "stdout",
     "output_type": "stream",
     "text": [
      "l\n",
      "a\n",
      "s\n"
     ]
    }
   ],
   "source": [
    "s = \"small\"\n",
    "\n",
    "for ch in s[::-2]:\n",
    "    print(ch)"
   ]
  },
  {
   "cell_type": "markdown",
   "metadata": {},
   "source": [
    "# Iterate over a list"
   ]
  },
  {
   "cell_type": "code",
   "execution_count": 12,
   "metadata": {},
   "outputs": [
    {
     "name": "stdout",
     "output_type": "stream",
     "text": [
      "3\n",
      "10\n",
      "5\n",
      "16\n",
      "8\n",
      "4\n",
      "2\n",
      "1\n"
     ]
    }
   ],
   "source": [
    "lst = [3, 10, 5, 16, 8, 4, 2, 1]\n",
    "\n",
    "for i in lst:\n",
    "    print(i)"
   ]
  },
  {
   "cell_type": "code",
   "execution_count": 13,
   "metadata": {},
   "outputs": [
    {
     "name": "stdout",
     "output_type": "stream",
     "text": [
      "one\n",
      "two\n",
      "three\n"
     ]
    }
   ],
   "source": [
    "lst = [\"one\", \"two\", \"three\"]\n",
    "\n",
    "for word in lst:\n",
    "    print(word)"
   ]
  },
  {
   "cell_type": "markdown",
   "metadata": {},
   "source": [
    "## *We can iterate over many Python collections*"
   ]
  },
  {
   "cell_type": "markdown",
   "metadata": {},
   "source": [
    "# Return to task: For loops with a Turtle"
   ]
  },
  {
   "cell_type": "code",
   "execution_count": 17,
   "metadata": {},
   "outputs": [],
   "source": [
    "import turtle\n",
    "\n",
    "bob = turtle.Turtle()\n",
    "\n",
    "for i in range(45): \n",
    "    bob.fd(100)\n",
    "    bob.lt(88)           # A bit less than a right angle\n",
    "    \n",
    "turtle.mainloop() \n",
    "\n",
    "try:\n",
    "    turtle.bye()\n",
    "except:\n",
    "    pass "
   ]
  },
  {
   "cell_type": "markdown",
   "metadata": {},
   "source": [
    "# Write function to draw a square with Turtle"
   ]
  },
  {
   "cell_type": "code",
   "execution_count": 15,
   "metadata": {},
   "outputs": [],
   "source": [
    "import turtle\n",
    "\n",
    "def square():\n",
    "    \"\"\"Use the Turtle to draw a Square\"\"\"\n",
    "    for i in range(4): \n",
    "        bob.fd(100)\n",
    "        bob.lt(90)\n",
    "\n",
    "bob = turtle.Turtle()\n",
    "\n",
    "square()\n",
    "bob.fd(200)\n",
    "square()\n",
    "\n",
    "turtle.mainloop() \n",
    "\n",
    "try:\n",
    "    turtle.bye()\n",
    "except:\n",
    "    pass"
   ]
  },
  {
   "cell_type": "markdown",
   "metadata": {},
   "source": [
    "# What parameters should square() take?\n",
    "## Add Parameter for turtle and edge length?"
   ]
  },
  {
   "cell_type": "code",
   "execution_count": 16,
   "metadata": {},
   "outputs": [],
   "source": [
    "import turtle\n",
    "\n",
    "def square(t, edge):        # Parameter list\n",
    "    \"\"\"Use the Turtle t to draw a Square of size edge\"\"\"   \n",
    "    for i in range(4): \n",
    "        t.fd(edge)\n",
    "        t.lt(90)\n",
    "       \n",
    "    \n",
    "bob = turtle.Turtle()\n",
    "\n",
    "square(bob, 100)              # Arguments are bob and 100\n",
    "bob.fd(200)\n",
    "square(bob, 50)               # Arguments are bob and  50\n",
    "\n",
    "turtle.mainloop() \n",
    "\n",
    "try:\n",
    "    turtle.bye()\n",
    "except:\n",
    "    pass "
   ]
  },
  {
   "cell_type": "markdown",
   "metadata": {},
   "source": [
    "## Polygon: turtle, number of edges, and edge length"
   ]
  },
  {
   "cell_type": "code",
   "execution_count": 25,
   "metadata": {},
   "outputs": [],
   "source": [
    "import turtle\n",
    "\n",
    "def polygon(t, n, edge):\n",
    "    \"\"\"Use Turtle t to draw a polygon with n sides of lenth edge\"\"\"   \n",
    "    angle = 360 / n\n",
    "    for i in range(n):\n",
    "        t.fd(edge)\n",
    "        t.lt(angle)\n",
    "        \n",
    "        \n",
    "bob = turtle.Turtle()\n",
    "\n",
    "polygon(bob, 5, 100)              # Arguments are bob, 5, and 100\n",
    "bob.fd(200)\n",
    "polygon(bob, 7, 50)               # Arguments are bob, 7, and  50\n",
    "\n",
    "turtle.mainloop() \n",
    "\n",
    "try:\n",
    "    turtle.bye()\n",
    "except:\n",
    "    pass"
   ]
  },
  {
   "cell_type": "markdown",
   "metadata": {},
   "source": [
    "# What else does Turtle Library provide?"
   ]
  },
  {
   "cell_type": "code",
   "execution_count": 19,
   "metadata": {},
   "outputs": [
    {
     "data": {
      "text/plain": [
       "['Canvas',\n",
       " 'Pen',\n",
       " 'RawPen',\n",
       " 'RawTurtle',\n",
       " 'Screen',\n",
       " 'ScrolledCanvas',\n",
       " 'Shape',\n",
       " 'TK',\n",
       " 'TNavigator',\n",
       " 'TPen',\n",
       " 'Tbuffer',\n",
       " 'Terminator',\n",
       " 'Turtle',\n",
       " 'TurtleGraphicsError',\n",
       " 'TurtleScreen',\n",
       " 'TurtleScreenBase',\n",
       " 'Vec2D',\n",
       " '_CFG',\n",
       " '_LANGUAGE',\n",
       " '_Root',\n",
       " '_Screen',\n",
       " '_TurtleImage',\n",
       " '__all__',\n",
       " '__builtins__',\n",
       " '__cached__',\n",
       " '__doc__',\n",
       " '__file__',\n",
       " '__forwardmethods',\n",
       " '__func_body',\n",
       " '__loader__',\n",
       " '__methodDict',\n",
       " '__methods',\n",
       " '__name__',\n",
       " '__package__',\n",
       " '__spec__',\n",
       " '__stringBody',\n",
       " '_alias_list',\n",
       " '_make_global_funcs',\n",
       " '_screen_docrevise',\n",
       " '_tg_classes',\n",
       " '_tg_screen_functions',\n",
       " '_tg_turtle_functions',\n",
       " '_tg_utilities',\n",
       " '_turtle_docrevise',\n",
       " '_ver',\n",
       " 'addshape',\n",
       " 'back',\n",
       " 'backward',\n",
       " 'begin_fill',\n",
       " 'begin_poly',\n",
       " 'bgcolor',\n",
       " 'bgpic',\n",
       " 'bk',\n",
       " 'bye',\n",
       " 'circle',\n",
       " 'clear',\n",
       " 'clearscreen',\n",
       " 'clearstamp',\n",
       " 'clearstamps',\n",
       " 'clone',\n",
       " 'color',\n",
       " 'colormode',\n",
       " 'config_dict',\n",
       " 'deepcopy',\n",
       " 'degrees',\n",
       " 'delay',\n",
       " 'distance',\n",
       " 'done',\n",
       " 'dot',\n",
       " 'down',\n",
       " 'end_fill',\n",
       " 'end_poly',\n",
       " 'exitonclick',\n",
       " 'fd',\n",
       " 'fillcolor',\n",
       " 'filling',\n",
       " 'forward',\n",
       " 'get_poly',\n",
       " 'get_shapepoly',\n",
       " 'getcanvas',\n",
       " 'getmethparlist',\n",
       " 'getpen',\n",
       " 'getscreen',\n",
       " 'getshapes',\n",
       " 'getturtle',\n",
       " 'goto',\n",
       " 'heading',\n",
       " 'hideturtle',\n",
       " 'home',\n",
       " 'ht',\n",
       " 'inspect',\n",
       " 'isdown',\n",
       " 'isfile',\n",
       " 'isvisible',\n",
       " 'join',\n",
       " 'left',\n",
       " 'listen',\n",
       " 'lt',\n",
       " 'mainloop',\n",
       " 'math',\n",
       " 'mode',\n",
       " 'numinput',\n",
       " 'onclick',\n",
       " 'ondrag',\n",
       " 'onkey',\n",
       " 'onkeypress',\n",
       " 'onkeyrelease',\n",
       " 'onrelease',\n",
       " 'onscreenclick',\n",
       " 'ontimer',\n",
       " 'pd',\n",
       " 'pen',\n",
       " 'pencolor',\n",
       " 'pendown',\n",
       " 'pensize',\n",
       " 'penup',\n",
       " 'pos',\n",
       " 'position',\n",
       " 'pu',\n",
       " 'radians',\n",
       " 'read_docstrings',\n",
       " 'readconfig',\n",
       " 'register_shape',\n",
       " 'reset',\n",
       " 'resetscreen',\n",
       " 'resizemode',\n",
       " 'right',\n",
       " 'rt',\n",
       " 'screensize',\n",
       " 'seth',\n",
       " 'setheading',\n",
       " 'setpos',\n",
       " 'setposition',\n",
       " 'settiltangle',\n",
       " 'setundobuffer',\n",
       " 'setup',\n",
       " 'setworldcoordinates',\n",
       " 'setx',\n",
       " 'sety',\n",
       " 'shape',\n",
       " 'shapesize',\n",
       " 'shapetransform',\n",
       " 'shearfactor',\n",
       " 'showturtle',\n",
       " 'simpledialog',\n",
       " 'speed',\n",
       " 'split',\n",
       " 'st',\n",
       " 'stamp',\n",
       " 'sys',\n",
       " 'textinput',\n",
       " 'tilt',\n",
       " 'tiltangle',\n",
       " 'time',\n",
       " 'title',\n",
       " 'towards',\n",
       " 'tracer',\n",
       " 'turtles',\n",
       " 'turtlesize',\n",
       " 'types',\n",
       " 'undo',\n",
       " 'undobufferentries',\n",
       " 'up',\n",
       " 'update',\n",
       " 'width',\n",
       " 'window_height',\n",
       " 'window_width',\n",
       " 'write',\n",
       " 'write_docstringdict',\n",
       " 'xcor',\n",
       " 'ycor']"
      ]
     },
     "execution_count": 19,
     "metadata": {},
     "output_type": "execute_result"
    }
   ],
   "source": [
    "import turtle\n",
    "\n",
    "dir(turtle)"
   ]
  },
  {
   "cell_type": "markdown",
   "metadata": {},
   "source": [
    "- Methods we know, such as fd() and lt()\n",
    "- Other methods we might want to investigate\n",
    "- Note the 'Dunder' ('Double Under') methods: (underbar underbar name underbar underbar) methods"
   ]
  },
  {
   "cell_type": "markdown",
   "metadata": {},
   "source": [
    "# Debugging\n",
    "\n",
    "We will look at two Turtle Programs in the PyCharm debugger, documented here:\n",
    "\n",
    "https://www.jetbrains.com/help/pycharm/debugging-code.html\n",
    "\n",
    "You could run these from the Notebook, but the debugger makes it much clearer what is going on.\n",
    "\n",
    "We can put breakpoints in the program to follow the logic.  "
   ]
  },
  {
   "cell_type": "markdown",
   "metadata": {},
   "source": [
    "## *These programs lack documentation*\n",
    "\n",
    "They are well written programs, but lack the comments a beginner needs to follow.  \n",
    "\n",
    "I'll add some comments as we go along.\n",
    "\n",
    "There are more details in the Lecture Slides"
   ]
  },
  {
   "cell_type": "code",
   "execution_count": 24,
   "metadata": {},
   "outputs": [
    {
     "ename": "Terminator",
     "evalue": "",
     "output_type": "error",
     "traceback": [
      "\u001b[1;31m---------------------------------------------------------------------------\u001b[0m",
      "\u001b[1;31mTerminator\u001b[0m                                Traceback (most recent call last)",
      "\u001b[1;32m<ipython-input-24-5cda9fdf5f08>\u001b[0m in \u001b[0;36m<module>\u001b[1;34m\u001b[0m\n\u001b[0;32m     46\u001b[0m \u001b[1;33m\u001b[0m\u001b[0m\n\u001b[0;32m     47\u001b[0m \u001b[1;32mif\u001b[0m \u001b[0m__name__\u001b[0m \u001b[1;33m==\u001b[0m \u001b[1;34m'__main__'\u001b[0m\u001b[1;33m:\u001b[0m\u001b[1;33m\u001b[0m\u001b[1;33m\u001b[0m\u001b[0m\n\u001b[1;32m---> 48\u001b[1;33m     \u001b[0mmain\u001b[0m\u001b[1;33m(\u001b[0m\u001b[1;33m)\u001b[0m\u001b[1;33m\u001b[0m\u001b[1;33m\u001b[0m\u001b[0m\n\u001b[0m\u001b[0;32m     49\u001b[0m     \u001b[0mmainloop\u001b[0m\u001b[1;33m(\u001b[0m\u001b[1;33m)\u001b[0m\u001b[1;33m\u001b[0m\u001b[1;33m\u001b[0m\u001b[0m\n\u001b[0;32m     50\u001b[0m \u001b[1;33m\u001b[0m\u001b[0m\n",
      "\u001b[1;32m<ipython-input-24-5cda9fdf5f08>\u001b[0m in \u001b[0;36mmain\u001b[1;34m()\u001b[0m\n\u001b[0;32m     41\u001b[0m     \u001b[0mreset\u001b[0m\u001b[1;33m(\u001b[0m\u001b[1;33m)\u001b[0m\u001b[1;33m\u001b[0m\u001b[1;33m\u001b[0m\u001b[0m\n\u001b[0;32m     42\u001b[0m     \u001b[0myin\u001b[0m\u001b[1;33m(\u001b[0m\u001b[1;36m200\u001b[0m\u001b[1;33m,\u001b[0m \u001b[1;34m\"black\"\u001b[0m\u001b[1;33m,\u001b[0m \u001b[1;34m\"white\"\u001b[0m\u001b[1;33m)\u001b[0m\u001b[1;33m\u001b[0m\u001b[1;33m\u001b[0m\u001b[0m\n\u001b[1;32m---> 43\u001b[1;33m     \u001b[0myin\u001b[0m\u001b[1;33m(\u001b[0m\u001b[1;36m200\u001b[0m\u001b[1;33m,\u001b[0m \u001b[1;34m\"white\"\u001b[0m\u001b[1;33m,\u001b[0m \u001b[1;34m\"black\"\u001b[0m\u001b[1;33m)\u001b[0m\u001b[1;33m\u001b[0m\u001b[1;33m\u001b[0m\u001b[0m\n\u001b[0m\u001b[0;32m     44\u001b[0m     \u001b[0mht\u001b[0m\u001b[1;33m(\u001b[0m\u001b[1;33m)\u001b[0m\u001b[1;33m\u001b[0m\u001b[1;33m\u001b[0m\u001b[0m\n\u001b[0;32m     45\u001b[0m     \u001b[1;32mreturn\u001b[0m \u001b[1;34m\"Done!\"\u001b[0m\u001b[1;33m\u001b[0m\u001b[1;33m\u001b[0m\u001b[0m\n",
      "\u001b[1;32m<ipython-input-24-5cda9fdf5f08>\u001b[0m in \u001b[0;36myin\u001b[1;34m(radius, color1, color2)\u001b[0m\n\u001b[0;32m     30\u001b[0m     \u001b[0mcolor\u001b[0m\u001b[1;33m(\u001b[0m\u001b[0mcolor1\u001b[0m\u001b[1;33m,\u001b[0m \u001b[0mcolor2\u001b[0m\u001b[1;33m)\u001b[0m\u001b[1;33m\u001b[0m\u001b[1;33m\u001b[0m\u001b[0m\n\u001b[0;32m     31\u001b[0m     \u001b[0mbegin_fill\u001b[0m\u001b[1;33m(\u001b[0m\u001b[1;33m)\u001b[0m\u001b[1;33m\u001b[0m\u001b[1;33m\u001b[0m\u001b[0m\n\u001b[1;32m---> 32\u001b[1;33m     \u001b[0mcircle\u001b[0m\u001b[1;33m(\u001b[0m\u001b[0mradius\u001b[0m\u001b[1;33m*\u001b[0m\u001b[1;36m0.15\u001b[0m\u001b[1;33m)\u001b[0m\u001b[1;33m\u001b[0m\u001b[1;33m\u001b[0m\u001b[0m\n\u001b[0m\u001b[0;32m     33\u001b[0m     \u001b[0mend_fill\u001b[0m\u001b[1;33m(\u001b[0m\u001b[1;33m)\u001b[0m\u001b[1;33m\u001b[0m\u001b[1;33m\u001b[0m\u001b[0m\n\u001b[0;32m     34\u001b[0m     \u001b[0mleft\u001b[0m\u001b[1;33m(\u001b[0m\u001b[1;36m90\u001b[0m\u001b[1;33m)\u001b[0m\u001b[1;33m\u001b[0m\u001b[1;33m\u001b[0m\u001b[0m\n",
      "\u001b[1;32m~\\Coding\\Tools\\Anaconda\\lib\\turtle.py\u001b[0m in \u001b[0;36mcircle\u001b[1;34m(radius, extent, steps)\u001b[0m\n",
      "\u001b[1;32m~\\Coding\\Tools\\Anaconda\\lib\\turtle.py\u001b[0m in \u001b[0;36mcircle\u001b[1;34m(self, radius, extent, steps)\u001b[0m\n\u001b[0;32m   1992\u001b[0m             \u001b[0mself\u001b[0m\u001b[1;33m.\u001b[0m\u001b[0m_go\u001b[0m\u001b[1;33m(\u001b[0m\u001b[0ml\u001b[0m\u001b[1;33m)\u001b[0m\u001b[1;33m\u001b[0m\u001b[1;33m\u001b[0m\u001b[0m\n\u001b[0;32m   1993\u001b[0m             \u001b[0mself\u001b[0m\u001b[1;33m.\u001b[0m\u001b[0mspeed\u001b[0m\u001b[1;33m(\u001b[0m\u001b[1;36m0\u001b[0m\u001b[1;33m)\u001b[0m\u001b[1;33m\u001b[0m\u001b[1;33m\u001b[0m\u001b[0m\n\u001b[1;32m-> 1994\u001b[1;33m             \u001b[0mself\u001b[0m\u001b[1;33m.\u001b[0m\u001b[0m_rotate\u001b[0m\u001b[1;33m(\u001b[0m\u001b[0mw\u001b[0m\u001b[1;33m)\u001b[0m\u001b[1;33m\u001b[0m\u001b[1;33m\u001b[0m\u001b[0m\n\u001b[0m\u001b[0;32m   1995\u001b[0m         \u001b[0mself\u001b[0m\u001b[1;33m.\u001b[0m\u001b[0m_rotate\u001b[0m\u001b[1;33m(\u001b[0m\u001b[1;33m-\u001b[0m\u001b[0mw2\u001b[0m\u001b[1;33m)\u001b[0m\u001b[1;33m\u001b[0m\u001b[1;33m\u001b[0m\u001b[0m\n\u001b[0;32m   1996\u001b[0m         \u001b[1;32mif\u001b[0m \u001b[0mspeed\u001b[0m \u001b[1;33m==\u001b[0m \u001b[1;36m0\u001b[0m\u001b[1;33m:\u001b[0m\u001b[1;33m\u001b[0m\u001b[1;33m\u001b[0m\u001b[0m\n",
      "\u001b[1;32m~\\Coding\\Tools\\Anaconda\\lib\\turtle.py\u001b[0m in \u001b[0;36m_rotate\u001b[1;34m(self, angle)\u001b[0m\n\u001b[0;32m   3277\u001b[0m                 \u001b[0mself\u001b[0m\u001b[1;33m.\u001b[0m\u001b[0m_update\u001b[0m\u001b[1;33m(\u001b[0m\u001b[1;33m)\u001b[0m\u001b[1;33m\u001b[0m\u001b[1;33m\u001b[0m\u001b[0m\n\u001b[0;32m   3278\u001b[0m         \u001b[0mself\u001b[0m\u001b[1;33m.\u001b[0m\u001b[0m_orient\u001b[0m \u001b[1;33m=\u001b[0m \u001b[0mneworient\u001b[0m\u001b[1;33m\u001b[0m\u001b[1;33m\u001b[0m\u001b[0m\n\u001b[1;32m-> 3279\u001b[1;33m         \u001b[0mself\u001b[0m\u001b[1;33m.\u001b[0m\u001b[0m_update\u001b[0m\u001b[1;33m(\u001b[0m\u001b[1;33m)\u001b[0m\u001b[1;33m\u001b[0m\u001b[1;33m\u001b[0m\u001b[0m\n\u001b[0m\u001b[0;32m   3280\u001b[0m \u001b[1;33m\u001b[0m\u001b[0m\n\u001b[0;32m   3281\u001b[0m     \u001b[1;32mdef\u001b[0m \u001b[0m_newLine\u001b[0m\u001b[1;33m(\u001b[0m\u001b[0mself\u001b[0m\u001b[1;33m,\u001b[0m \u001b[0musePos\u001b[0m\u001b[1;33m=\u001b[0m\u001b[1;32mTrue\u001b[0m\u001b[1;33m)\u001b[0m\u001b[1;33m:\u001b[0m\u001b[1;33m\u001b[0m\u001b[1;33m\u001b[0m\u001b[0m\n",
      "\u001b[1;32m~\\Coding\\Tools\\Anaconda\\lib\\turtle.py\u001b[0m in \u001b[0;36m_update\u001b[1;34m(self)\u001b[0m\n\u001b[0;32m   2659\u001b[0m             \u001b[1;32mreturn\u001b[0m\u001b[1;33m\u001b[0m\u001b[1;33m\u001b[0m\u001b[0m\n\u001b[0;32m   2660\u001b[0m         \u001b[1;32melif\u001b[0m \u001b[0mscreen\u001b[0m\u001b[1;33m.\u001b[0m\u001b[0m_tracing\u001b[0m \u001b[1;33m==\u001b[0m \u001b[1;36m1\u001b[0m\u001b[1;33m:\u001b[0m\u001b[1;33m\u001b[0m\u001b[1;33m\u001b[0m\u001b[0m\n\u001b[1;32m-> 2661\u001b[1;33m             \u001b[0mself\u001b[0m\u001b[1;33m.\u001b[0m\u001b[0m_update_data\u001b[0m\u001b[1;33m(\u001b[0m\u001b[1;33m)\u001b[0m\u001b[1;33m\u001b[0m\u001b[1;33m\u001b[0m\u001b[0m\n\u001b[0m\u001b[0;32m   2662\u001b[0m             \u001b[0mself\u001b[0m\u001b[1;33m.\u001b[0m\u001b[0m_drawturtle\u001b[0m\u001b[1;33m(\u001b[0m\u001b[1;33m)\u001b[0m\u001b[1;33m\u001b[0m\u001b[1;33m\u001b[0m\u001b[0m\n\u001b[0;32m   2663\u001b[0m             \u001b[0mscreen\u001b[0m\u001b[1;33m.\u001b[0m\u001b[0m_update\u001b[0m\u001b[1;33m(\u001b[0m\u001b[1;33m)\u001b[0m                  \u001b[1;31m# TurtleScreenBase\u001b[0m\u001b[1;33m\u001b[0m\u001b[1;33m\u001b[0m\u001b[0m\n",
      "\u001b[1;32m~\\Coding\\Tools\\Anaconda\\lib\\turtle.py\u001b[0m in \u001b[0;36m_update_data\u001b[1;34m(self)\u001b[0m\n\u001b[0;32m   2645\u001b[0m \u001b[1;33m\u001b[0m\u001b[0m\n\u001b[0;32m   2646\u001b[0m     \u001b[1;32mdef\u001b[0m \u001b[0m_update_data\u001b[0m\u001b[1;33m(\u001b[0m\u001b[0mself\u001b[0m\u001b[1;33m)\u001b[0m\u001b[1;33m:\u001b[0m\u001b[1;33m\u001b[0m\u001b[1;33m\u001b[0m\u001b[0m\n\u001b[1;32m-> 2647\u001b[1;33m         \u001b[0mself\u001b[0m\u001b[1;33m.\u001b[0m\u001b[0mscreen\u001b[0m\u001b[1;33m.\u001b[0m\u001b[0m_incrementudc\u001b[0m\u001b[1;33m(\u001b[0m\u001b[1;33m)\u001b[0m\u001b[1;33m\u001b[0m\u001b[1;33m\u001b[0m\u001b[0m\n\u001b[0m\u001b[0;32m   2648\u001b[0m         \u001b[1;32mif\u001b[0m \u001b[0mself\u001b[0m\u001b[1;33m.\u001b[0m\u001b[0mscreen\u001b[0m\u001b[1;33m.\u001b[0m\u001b[0m_updatecounter\u001b[0m \u001b[1;33m!=\u001b[0m \u001b[1;36m0\u001b[0m\u001b[1;33m:\u001b[0m\u001b[1;33m\u001b[0m\u001b[1;33m\u001b[0m\u001b[0m\n\u001b[0;32m   2649\u001b[0m             \u001b[1;32mreturn\u001b[0m\u001b[1;33m\u001b[0m\u001b[1;33m\u001b[0m\u001b[0m\n",
      "\u001b[1;32m~\\Coding\\Tools\\Anaconda\\lib\\turtle.py\u001b[0m in \u001b[0;36m_incrementudc\u001b[1;34m(self)\u001b[0m\n\u001b[0;32m   1291\u001b[0m         \u001b[1;32mif\u001b[0m \u001b[1;32mnot\u001b[0m \u001b[0mTurtleScreen\u001b[0m\u001b[1;33m.\u001b[0m\u001b[0m_RUNNING\u001b[0m\u001b[1;33m:\u001b[0m\u001b[1;33m\u001b[0m\u001b[1;33m\u001b[0m\u001b[0m\n\u001b[0;32m   1292\u001b[0m             \u001b[0mTurtleScreen\u001b[0m\u001b[1;33m.\u001b[0m\u001b[0m_RUNNING\u001b[0m \u001b[1;33m=\u001b[0m \u001b[1;32mTrue\u001b[0m\u001b[1;33m\u001b[0m\u001b[1;33m\u001b[0m\u001b[0m\n\u001b[1;32m-> 1293\u001b[1;33m             \u001b[1;32mraise\u001b[0m \u001b[0mTerminator\u001b[0m\u001b[1;33m\u001b[0m\u001b[1;33m\u001b[0m\u001b[0m\n\u001b[0m\u001b[0;32m   1294\u001b[0m         \u001b[1;32mif\u001b[0m \u001b[0mself\u001b[0m\u001b[1;33m.\u001b[0m\u001b[0m_tracing\u001b[0m \u001b[1;33m>\u001b[0m \u001b[1;36m0\u001b[0m\u001b[1;33m:\u001b[0m\u001b[1;33m\u001b[0m\u001b[1;33m\u001b[0m\u001b[0m\n\u001b[0;32m   1295\u001b[0m             \u001b[0mself\u001b[0m\u001b[1;33m.\u001b[0m\u001b[0m_updatecounter\u001b[0m \u001b[1;33m+=\u001b[0m \u001b[1;36m1\u001b[0m\u001b[1;33m\u001b[0m\u001b[1;33m\u001b[0m\u001b[0m\n",
      "\u001b[1;31mTerminator\u001b[0m: "
     ]
    }
   ],
   "source": [
    "#!/usr/bin/env python3\n",
    "\"\"\"       turtle-example-suite:\n",
    "\n",
    "            tdemo_yinyang.py\n",
    "\n",
    "Another drawing suitable as a beginner's\n",
    "programming example.\n",
    "\n",
    "The small circles are drawn by the circle\n",
    "command.\n",
    "\n",
    "\"\"\"\n",
    "\n",
    "from turtle import *\n",
    "\n",
    "def yin(radius, color1, color2):\n",
    "    width(3)\n",
    "    color(\"black\", color1)\n",
    "    begin_fill()\n",
    "    circle(radius/2., 180)\n",
    "    circle(radius, 180)\n",
    "    left(180)\n",
    "    circle(-radius/2., 180)\n",
    "    end_fill()\n",
    "    left(90)\n",
    "    up()\n",
    "    forward(radius*0.35)\n",
    "    right(90)\n",
    "    down()\n",
    "    color(color1, color2)\n",
    "    begin_fill()\n",
    "    circle(radius*0.15)\n",
    "    end_fill()\n",
    "    left(90)\n",
    "    up()\n",
    "    backward(radius*0.35)\n",
    "    down()\n",
    "    left(90)\n",
    "\n",
    "def main():\n",
    "    reset()\n",
    "    yin(200, \"black\", \"white\")\n",
    "    yin(200, \"white\", \"black\")\n",
    "    ht()\n",
    "    return \"Done!\"\n",
    "\n",
    "if __name__ == '__main__':\n",
    "    main()\n",
    "    mainloop()\n",
    "    \n",
    "    try:\n",
    "        turtle.bye()\n",
    "    except:\n",
    "        pass"
   ]
  },
  {
   "cell_type": "markdown",
   "metadata": {},
   "source": [
    "## Paint.py\n",
    "\n",
    "This requires a 3-button mouse to see the full effect.\n",
    "\n",
    "While you might be able to trace what YinYang does without a debugger, it would be difficult to figure \n",
    "out how Paint.py works without a debugger's help"
   ]
  },
  {
   "cell_type": "code",
   "execution_count": null,
   "metadata": {},
   "outputs": [],
   "source": [
    "#!/usr/bin/env python3\n",
    "\"\"\"       turtle-example-suite:\n",
    "\n",
    "            tdemo_paint.py\n",
    "\n",
    "A simple  event-driven paint program\n",
    "\n",
    "- left mouse button moves turtle\n",
    "- middle mouse button changes color\n",
    "- right mouse button toogles betweem pen up\n",
    "(no line drawn when the turtle moves) and\n",
    "pen down (line is drawn). If pen up follows\n",
    "at least two pen-down moves, the polygon that\n",
    "includes the starting point is filled.\n",
    " -------------------------------------------\n",
    " Play around by clicking into the canvas\n",
    " using all three mouse buttons.\n",
    " -------------------------------------------\n",
    "          To exit press STOP button\n",
    " -------------------------------------------\n",
    "\"\"\"\n",
    "from turtle import *\n",
    "\n",
    "def switchupdown(x=0, y=0):\n",
    "    if pen()[\"pendown\"]:\n",
    "        end_fill()\n",
    "        up()\n",
    "    else:\n",
    "        down()\n",
    "        begin_fill()\n",
    "\n",
    "def changecolor(x=0, y=0):\n",
    "    global colors\n",
    "    colors = colors[1:]+colors[:1]\n",
    "    color(colors[0])\n",
    "\n",
    "def main():\n",
    "    global colors\n",
    "    shape(\"circle\")\n",
    "    resizemode(\"user\")\n",
    "    shapesize(.5)\n",
    "    width(3)\n",
    "    colors=[\"red\", \"green\", \"blue\", \"yellow\"]\n",
    "    color(colors[0])\n",
    "    switchupdown()\n",
    "    onscreenclick(goto,1)\n",
    "    onscreenclick(changecolor,2)\n",
    "    onscreenclick(switchupdown,3)\n",
    "    return \"EVENTLOOP\"\n",
    "\n",
    "if __name__ == \"__main__\":\n",
    "    msg = main()\n",
    "    print(msg)\n",
    "    mainloop()\n",
    "    \n",
    "    try:\n",
    "        turtle.bye()\n",
    "    except:\n",
    "        pass"
   ]
  },
  {
   "cell_type": "code",
   "execution_count": null,
   "metadata": {},
   "outputs": [],
   "source": [
    "import turtle\n",
    "\n",
    "help(turtle.goto)"
   ]
  },
  {
   "cell_type": "markdown",
   "metadata": {},
   "source": [
    "## If you don’t know how to program, what can you learn in this class?\n",
    "- Syntax of Python\n",
    "- Semantics of Python\n",
    "\n",
    "### But I want you to learn more\n",
    "- How to express yourself in any language\n",
    "- How to pick good test cases\n",
    "- How to find your own darn bugs"
   ]
  },
  {
   "cell_type": "markdown",
   "metadata": {},
   "source": [
    "# Tips on solving Homework (reprise)\n",
    "- Don't wait until the last minute\n",
    "- *These problems will require thought*\n",
    "- Break the problem into steps\n",
    "- Solve one step at a time, and test each step"
   ]
  },
  {
   "cell_type": "markdown",
   "metadata": {},
   "source": [
    "## We assume you are here to learn to program\n",
    "## We have tried to pick problems: \n",
    "- That are simple enough to do\n",
    "- That address common problems\n",
    "\n",
    "## Many of these problems are classic\n",
    "### *Googling a solution will not teach you how to solve problems yourself*"
   ]
  },
  {
   "cell_type": "markdown",
   "metadata": {},
   "source": [
    "# Inspiration\n",
    "\n",
    "## Go to this page: http://www.fractalcurves.com  \n",
    "\n",
    "Scroll down to the \"Videos about Fractal Curves\" section at the bottom of the page.  Some of these videos are quite long: others are pretty short.  Some of them are 404.   "
   ]
  },
  {
   "cell_type": "markdown",
   "metadata": {},
   "source": [
    "# Wow!  That's Fantastic!\n",
    "## Byte code disassembly\n",
    "\n",
    "Python is compiled into Byte Code, which the interpreter runs"
   ]
  },
  {
   "cell_type": "code",
   "execution_count": null,
   "metadata": {},
   "outputs": [],
   "source": [
    "# https://docs.python.org/3.7/library/dis.html\n",
    "\n",
    "import dis\n",
    "\n",
    "def greet(name:str) -> str:\n",
    "    return \"Hello,\" + name\n",
    "\n",
    "# Disassemble the function greet\n",
    "dis.dis(greet)"
   ]
  },
  {
   "cell_type": "code",
   "execution_count": null,
   "metadata": {},
   "outputs": [],
   "source": [
    "import dis\n",
    "import turtle\n",
    "\n",
    "def square():\n",
    "    \"\"\"Use the Turtle to draw a Square\"\"\"\n",
    "    for i in range(4): \n",
    "        bob.fd(100)\n",
    "        bob.lt(90)\n",
    "\n",
    "\n",
    "dis.dis(square) "
   ]
  },
  {
   "cell_type": "code",
   "execution_count": null,
   "metadata": {},
   "outputs": [],
   "source": []
  }
 ],
 "metadata": {
  "kernelspec": {
   "display_name": "Python 3",
   "language": "python",
   "name": "python3"
  },
  "language_info": {
   "codemirror_mode": {
    "name": "ipython",
    "version": 3
   },
   "file_extension": ".py",
   "mimetype": "text/x-python",
   "name": "python",
   "nbconvert_exporter": "python",
   "pygments_lexer": "ipython3",
   "version": "3.9.7"
  }
 },
 "nbformat": 4,
 "nbformat_minor": 2
}
