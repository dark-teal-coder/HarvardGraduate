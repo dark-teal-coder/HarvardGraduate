{
 "cells": [
  {
   "cell_type": "markdown",
   "metadata": {},
   "source": [
    "# Homework 1\n",
    "## Due Sept 7, 2021, 4PM EST"
   ]
  },
  {
   "cell_type": "markdown",
   "metadata": {},
   "source": [
    "<div class=\"alert alert-block alert-info\">\n",
    "\n",
    "* Preliminaries.  You'll need to list your first and last name with each homework assignment.    \n",
    "    Fill in your name in the box below.\n",
    "\n",
    "* Do your work in this notebook.  There are some cells reserved to hold your answers.\n",
    "\n",
    "* Other cells hold \"Unit Tests\" - small bits of code to test your work.  Run those to be sure you are on track   \n",
    "    It will be easier to provide Unit Tests for all the problems as we learn more\n",
    "    \n",
    "* When you are ready, clear all results (Cell/All Output/Clear) and then run all cells (Cell/Run All).     \n",
    "    This will run the cells in order, and can help you find any errors you might have missed.\n",
    "    \n",
    "* If you find a problem you cannot fix, run the cells below it by hand.  \n",
    "\n",
    "* Save your version of the notebook and save it again as a pdf file (Use the Notebook menu File/Download as/PDF via LaTeX) and submit the .ipynb and .pdf files to Canvas.     \n",
    "    Be sure that we can see the results of each cell in the PDF.\n",
    "* We will do most of the grading based on the PDF.  However, some student work is so incredible that we like to experience it by running it ourselves.  \n",
    "</div>"
   ]
  },
  {
   "cell_type": "code",
   "execution_count": 1,
   "metadata": {},
   "outputs": [],
   "source": [
    "# Fill in your name\n",
    "\n",
    "first_name = 'PREESA'\n",
    "last_name = 'SAEWONG'    # Please change if this is not your last name\n",
    "\n",
    "assert len(first_name) != 0, \"First name is blank\"\n",
    "assert len(last_name) != 0, \"Last name is blank\""
   ]
  },
  {
   "cell_type": "markdown",
   "metadata": {},
   "source": [
    "## Problem 1 (15 points) \n",
    "\n",
    "In the cell below we define two strings\n",
    "\n",
    "```python\n",
    "a= \"+\"\n",
    "\n",
    "b = \"-\"\n",
    "```\n",
    "\n",
    "Using a and b, write a series of Python statements to create the 45-character string below, and assign it to the variable s, using as few operations as possible:\n",
    "\n",
    "```python\n",
    "\"+-+-+-+-+-+-+-+-+-+-+-+-+-+-+-+-+-+-+-+-+-+-+\"\n",
    "```"
   ]
  },
  {
   "cell_type": "code",
   "execution_count": 2,
   "metadata": {},
   "outputs": [],
   "source": [
    "# Do not change this cell\n",
    "\n",
    "a = \"+\"\n",
    "b = \"-\""
   ]
  },
  {
   "cell_type": "markdown",
   "metadata": {},
   "source": [
    "<div class=\"alert alert-block alert-info\">\n",
    "Put your code in the cell below.\n",
    "</div>"
   ]
  },
  {
   "cell_type": "code",
   "execution_count": 3,
   "metadata": {},
   "outputs": [],
   "source": [
    "result = (a + b)*22 + a"
   ]
  },
  {
   "cell_type": "code",
   "execution_count": 4,
   "metadata": {},
   "outputs": [
    {
     "name": "stdout",
     "output_type": "stream",
     "text": [
      "+-+-+-+-+-+-+-+-+-+-+-+-+-+-+-+-+-+-+-+-+-+-+ 45\n"
     ]
    }
   ],
   "source": [
    "# Display\n",
    "\n",
    "print(result, len(result))"
   ]
  },
  {
   "cell_type": "markdown",
   "metadata": {},
   "source": [
    "### Unit Test for Problem 1"
   ]
  },
  {
   "cell_type": "markdown",
   "metadata": {},
   "source": [
    "<div class=\"alert alert-block alert-danger\">\n",
    "Run the cell below to test your value of s.\n",
    "</div>"
   ]
  },
  {
   "cell_type": "code",
   "execution_count": 5,
   "metadata": {},
   "outputs": [
    {
     "name": "stdout",
     "output_type": "stream",
     "text": [
      "Success!\n"
     ]
    }
   ],
   "source": [
    "# This cell will test your string s\n",
    "\n",
    "assert result[:2] == '+-', \"String must start with +-\"\n",
    "assert result[2:] == result[:-2], \"Pattern must repeat\"\n",
    "\n",
    "assert len(result) == 45, \"Wrong length\"\n",
    "\n",
    "print('Success!')"
   ]
  },
  {
   "cell_type": "markdown",
   "metadata": {},
   "source": [
    "## Problem 2 (20 points)\n",
    "\n",
    "In the cell below we define a string called *quotation*.\n",
    "\n",
    "  Write Python expressions to compute each of the values below, and print each in turn.  \n",
    "\n",
    "- The length of the string *quotation*.\n",
    "- The index of the first instance of the word 'country'.  The index of 'Ask' is 0.  \n",
    "- The index of the last instance of the word 'country'.\n",
    "- The number of times 'you' appears in *quotation*, using the string method count()."
   ]
  },
  {
   "cell_type": "markdown",
   "metadata": {},
   "source": [
    "<div class=\"alert alert-block alert-info\">\n",
    "Put your code in the cell below.\n",
    "</div>"
   ]
  },
  {
   "cell_type": "code",
   "execution_count": 6,
   "metadata": {},
   "outputs": [
    {
     "name": "stdout",
     "output_type": "stream",
     "text": [
      "80\n",
      "18\n",
      "72\n",
      "4\n"
     ]
    }
   ],
   "source": [
    "quotation = \"Ask not what your country can do for you – ask what you can do for your country.\"\n",
    "\n",
    "# Place 4 expressions below\n",
    "print(len(quotation))       # Length\n",
    "print(quotation.find(\"country\"))       # Index of first instance of 'country'\n",
    "print(quotation.rfind(\"country\"))       # Index of last instance of 'country'\n",
    "print(quotation.count(\"you\"))       # Number of times 'you' appears in quotation"
   ]
  },
  {
   "cell_type": "markdown",
   "metadata": {},
   "source": [
    "## Problem 3 (20 points)\n",
    "\n",
    "Write a Python fragment to create a string holding the text below.   \n",
    "\n",
    "     Then he said \"I don't know.\""
   ]
  },
  {
   "cell_type": "markdown",
   "metadata": {},
   "source": [
    "<div class=\"alert alert-block alert-info\">\n",
    "Put your code in the cell below.\n",
    "</div>"
   ]
  },
  {
   "cell_type": "code",
   "execution_count": 7,
   "metadata": {},
   "outputs": [
    {
     "name": "stdout",
     "output_type": "stream",
     "text": [
      "Then he said \"I don't know.\"\n"
     ]
    }
   ],
   "source": [
    "statement = \"Then he said \\\"I don't know.\\\"\"\n",
    "print(statement)"
   ]
  },
  {
   "cell_type": "markdown",
   "metadata": {},
   "source": [
    "### Unit Test for Problem 3"
   ]
  },
  {
   "cell_type": "markdown",
   "metadata": {},
   "source": [
    "<div class=\"alert alert-block alert-danger\">\n",
    "Run the cell below to test your value of statement.\n",
    "</div>"
   ]
  },
  {
   "cell_type": "code",
   "execution_count": 8,
   "metadata": {},
   "outputs": [
    {
     "name": "stdout",
     "output_type": "stream",
     "text": [
      "28 Then he said \"I don't know.\"\n",
      "Success!\n"
     ]
    }
   ],
   "source": [
    "# print your string\n",
    "print(len(statement), statement)\n",
    "\n",
    "# Check that it is the right length\n",
    "assert 28 == len(statement), \"Wrong length\"\n",
    "\n",
    "# Check the contents\n",
    "assert 22 == statement.find('know'), \"'know' should be at index 22\"\n",
    "\n",
    "print('Success!')"
   ]
  },
  {
   "cell_type": "markdown",
   "metadata": {},
   "source": [
    "# Problem 4 (20 points)\n",
    "\n",
    "Use the Python string method find( ) to write a fragment that takes a \n",
    "hyphenated phrase such as \"text-processor\" and prints \"processor/text\" \n",
    "\n",
    "Thus \"hard-won\" should print \"won/hard\""
   ]
  },
  {
   "cell_type": "markdown",
   "metadata": {},
   "source": [
    "<div class=\"alert alert-block alert-info\">\n",
    "Put your code in the cell below.\n",
    "</div>"
   ]
  },
  {
   "cell_type": "code",
   "execution_count": 9,
   "metadata": {},
   "outputs": [
    {
     "name": "stdout",
     "output_type": "stream",
     "text": [
      "processor/text\n"
     ]
    }
   ],
   "source": [
    "phrase = \"text-processor\"\n",
    "\n",
    "pos = phrase.find('-')\n",
    "\n",
    "print(phrase[pos+1:] + \"/\" + phrase[0:pos])"
   ]
  },
  {
   "cell_type": "markdown",
   "metadata": {},
   "source": [
    "## Problem 5 (20 Points)\n",
    "\n",
    "The method platform.uname() returns a value that holds information about \n",
    "your system: system name, nodename, release, version, and machine.  \n",
    "\n",
    "We use the function str() below to take the uname method's output and return a string.  \n",
    "\n",
    "Here is the output when I run the cell below on my machine\n",
    "\n",
    "```python\n",
    "uname_result(system='Darwin', node='Macintosh.local', release='19.6.0', version='Darwin Kernel Version 19.6.0: Tue Jun 22 19:49:55 PDT 2021; root:xnu-6153.141.35~1/RELEASE_X86_64', machine='x86_64', processor='i386')\n",
    "```\n",
    "    \n",
    "On a Windows machine, it might print\n",
    "\n",
    "```python\n",
    "uname_result(system='Windows', node='DESKTOP-2JCLBCF', release='10', version='10.0.19041', machine='AMD64', processor='Intel64 Family 6 Model 140 Stepping 1, GenuineIntel')\n",
    "```\n",
    "\n",
    "Use the string methods you have learned to extract and print the system from the string uname.  This may take several steps.  Your code should work on any machine.  Running on a Macintosh, your code should print\n",
    "\n",
    "```python\n",
    "Darwin\n",
    "```\n",
    "\n",
    "On a Windows machine, your code should print\n",
    "\n",
    "```python\n",
    "Windows\n",
    "```"
   ]
  },
  {
   "cell_type": "code",
   "execution_count": 10,
   "metadata": {},
   "outputs": [
    {
     "name": "stdout",
     "output_type": "stream",
     "text": [
      "uname_result(system='Windows', node='LAPTOP-A7QDPUUC', release='10', version='10.0.19041', machine='AMD64', processor='Intel64 Family 6 Model 142 Stepping 10, GenuineIntel')\n"
     ]
    }
   ],
   "source": [
    "import platform\n",
    "\n",
    "uname = str(platform.uname())\n",
    "\n",
    "# Debugging\n",
    "print(uname)"
   ]
  },
  {
   "cell_type": "markdown",
   "metadata": {},
   "source": [
    "<div class=\"alert alert-block alert-info\">\n",
    "Put your code to print the system in the cell below.\n",
    "</div>"
   ]
  },
  {
   "cell_type": "code",
   "execution_count": 11,
   "metadata": {},
   "outputs": [
    {
     "name": "stdout",
     "output_type": "stream",
     "text": [
      "'Windows'\n"
     ]
    }
   ],
   "source": [
    "# Fill in your code below to extract the system from uname\n",
    "keyword = \"system=\"\n",
    "print(uname[uname.find(keyword)+len(keyword):uname.find(\",\")])"
   ]
  },
  {
   "cell_type": "markdown",
   "metadata": {},
   "source": [
    "# Problem 6 (5 points) \n",
    "\n",
    "Use the cell below to write, in English, directions that a robot could perform to decide if the variable word has a double letter.  'look' has a double letter: 'leap' does not, and 'bedew' has two instances of 'e', but no double letters.  \n",
    "\n",
    "You don't know enough Python to write a Python program to do this yet: but think about a concise way to describe what you would check to see if there is a double letter."
   ]
  },
  {
   "cell_type": "markdown",
   "metadata": {},
   "source": [
    "<div class=\"alert alert-block alert-info\">\n",
    "Put your English text describing your algorithm to detect a double letter in the cell below.\n",
    "</div>"
   ]
  },
  {
   "cell_type": "markdown",
   "metadata": {},
   "source": [
    "## Your (English) directions to decide if a word has a double letter"
   ]
  },
  {
   "cell_type": "markdown",
   "metadata": {},
   "source": [
    "# Post Mortem"
   ]
  },
  {
   "cell_type": "code",
   "execution_count": 12,
   "metadata": {},
   "outputs": [],
   "source": [
    "# 1) Iterate through the string from the first character (index is 0) to the last character (index is len(string)-1) to see if it is a letter or something else. \n",
    "# 1.1) If it is something else rather than letter, print something to show it is not a double-letter word. \n",
    "# 1.2) Else, get the index of the character, say, i, and check if the next character (i+1) is the same letter (a letter and same as the previous one). \n",
    "# 1.2.1) If it is not the same letter, print something to show it is not a double-letter word. \n",
    "# 1.2.2) If it is the same letter, print something to show it is a double-letter word. "
   ]
  },
  {
   "cell_type": "markdown",
   "metadata": {},
   "source": [
    "<div class=\"alert alert-block alert-info\">\n",
    "How long did it take you to solve this problem set?  \n",
    "\n",
    "Did anything confuse you or cause difficulty?\n",
    "</div>"
   ]
  },
  {
   "cell_type": "code",
   "execution_count": 13,
   "metadata": {},
   "outputs": [],
   "source": [
    "# Overall, I spent less than an hour on this assignment, less than half an hour on the first 5 problems but mostly on the last problem about algorithm. "
   ]
  }
 ],
 "metadata": {
  "kernelspec": {
   "display_name": "Python 3",
   "language": "python",
   "name": "python3"
  },
  "language_info": {
   "codemirror_mode": {
    "name": "ipython",
    "version": 3
   },
   "file_extension": ".py",
   "mimetype": "text/x-python",
   "name": "python",
   "nbconvert_exporter": "python",
   "pygments_lexer": "ipython3",
   "version": "3.8.8"
  }
 },
 "nbformat": 4,
 "nbformat_minor": 2
}
