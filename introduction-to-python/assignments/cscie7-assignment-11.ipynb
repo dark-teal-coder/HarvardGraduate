{
 "cells": [
  {
   "cell_type": "markdown",
   "metadata": {},
   "source": [
    "# Homework 11\n",
    "## Nov 2021\n",
    "\n",
    "## Fill in your name"
   ]
  },
  {
   "cell_type": "code",
   "execution_count": 10,
   "metadata": {},
   "outputs": [],
   "source": [
    "first_name = \"PREESA\"\n",
    "last_name = \"SAEWONG\"\n",
    "nick_name = \"REE\"\n",
    "\n",
    "assert(len(first_name) != 0)\n",
    "assert(len(last_name)  != 0)\n",
    "assert(len(nick_name) != 0)"
   ]
  },
  {
   "cell_type": "markdown",
   "metadata": {},
   "source": [
    "# Regular Expressions (RE or regexp)\n",
    "\n",
    "RE is a powerful language that lets you specify patterns.  We will use REs to search and to validate in this assignment.  \n",
    "\n",
    "You'll find two videos on REs in Modules/Video Links/Libraries\n",
    "\n",
    "\n",
    "# 1) Four or more\n",
    "\n",
    "You goal is to find the words in Downey's words.txt that have 4 consecutive vowels.  (That is, four vowels in a row)\n",
    "\n",
    "Write a Regular Expression that matches 4 vowels in a row, and use it to search the word list."
   ]
  },
  {
   "cell_type": "code",
   "execution_count": 11,
   "metadata": {},
   "outputs": [],
   "source": [
    "import re\n",
    "\n",
    "\n",
    "pattern1 = r'[^aeiou]*[aeiou]{4}[^aeiou]*'\n",
    "pattern2 = r'^[^aeiou]*[aeiou]{4}[^aeiou]*$'\n",
    "# print(bool(re.search(pattern1, \"cooeeing\")))\n",
    "# print(bool(re.search(pattern2, \"cooeeing\")))\n",
    "\n",
    "def four_vowels(phrase: str) -> bool:\n",
    "    \"\"\"This function checks if the word has at least 4 vowels in a row.\"\"\"\n",
    "    return bool(re.search(pattern1, phrase)) "
   ]
  },
  {
   "cell_type": "markdown",
   "metadata": {},
   "source": [
    "## Unit tests for four_or_more\n",
    "\n",
    "Write a function that uses your RE to search Downey's words.txt.\n",
    "\n",
    "Print all the matches you find."
   ]
  },
  {
   "cell_type": "code",
   "execution_count": 12,
   "metadata": {},
   "outputs": [
    {
     "name": "stdout",
     "output_type": "stream",
     "text": [
      "['aqueous', 'beauish', 'cliqueier', 'cliqueiest', 'cooee', 'cooeed', 'cooeeing', 'cooees', 'epopoeia', 'epopoeias', 'giaour', 'giaours', 'gooier', 'gooiest', 'guaiac', 'guaiacol', 'guaiacols', 'guaiacs', 'guaiacum', 'guaiacums', 'guaiocum', 'guaiocums', 'looie', 'looies', 'louie', 'louies', 'maieutic', 'miaou', 'miaoued', 'miaouing', 'miaous', 'obsequious', 'obsequiously', 'obsequiousness', 'obsequiousnesses', 'onomatopoeia', 'plateaued', 'plateauing', 'queue', 'queued', 'queueing', 'queuer', 'queuers', 'queues', 'queuing', 'sequoia', 'sequoias', 'zoeae', 'zoogloeae']\n"
     ]
    }
   ],
   "source": [
    "def find_4V_words(filepath): \n",
    "    lst = []\n",
    "    with open(filepath, 'r') as file: \n",
    "        for line in file:\n",
    "            word = line.strip()\n",
    "            if four_vowels(word) == True: \n",
    "                lst.append(word)\n",
    "    return lst\n",
    "\n",
    "print(find_4V_words('data/words.txt'))"
   ]
  },
  {
   "cell_type": "markdown",
   "metadata": {},
   "source": [
    "# 2) Valid Integers\n",
    "\n",
    "Write a RE that decides if a string holds a valid integer.  "
   ]
  },
  {
   "cell_type": "code",
   "execution_count": 13,
   "metadata": {},
   "outputs": [],
   "source": [
    "import re\n",
    "\n",
    "\n",
    "def is_integer(s: str) -> bool:\n",
    "    \"\"\"This function checks if this string is a valid integer.\"\"\"\n",
    "    return re.search(r'^[+-]?\\d+$', s) # r'[+-]?\\d+' is greedy by default "
   ]
  },
  {
   "cell_type": "markdown",
   "metadata": {},
   "source": [
    "## Unit Tests"
   ]
  },
  {
   "cell_type": "code",
   "execution_count": 14,
   "metadata": {},
   "outputs": [
    {
     "name": "stdout",
     "output_type": "stream",
     "text": [
      "Success!!\n"
     ]
    }
   ],
   "source": [
    "def test_is_integer():\n",
    "    assert is_integer(\"5\")\n",
    "    assert not is_integer(\"a5\")\n",
    "    assert not is_integer(\"5a\")\n",
    "    assert is_integer(\"5000\")\n",
    "    assert is_integer(\"-999\")\n",
    "    assert is_integer(\"+999\")\n",
    "    assert is_integer(\"00\")\n",
    "    assert not is_integer(\"0.0\")\n",
    "    assert not is_integer(\"-\")\n",
    "    assert not is_integer(\" 5\")\n",
    "    assert not is_integer(\"\")\n",
    "    \n",
    "    print('Success!!')\n",
    "    \n",
    "test_is_integer()"
   ]
  },
  {
   "cell_type": "markdown",
   "metadata": {},
   "source": [
    "# 3) Graph Global Mile records\n",
    "\n",
    "Produce a version of the chart shown in the Canvas Assignment page\n",
    "\n",
    "Take a look at the data here: you can harvest it from the web, or use a CSV file we'll provide.  \n",
    "\n",
    "https://github.com/KarenWest/FundamentalsOfDataAnalysisInLanguageR/blob/master/WorldRecords.csv\n",
    "\n",
    "We haven't discussed many of the points below: you will need to explore the documentation on your own. \n",
    "\n",
    "https://matplotlib.org/3.2.1/contents.html\n",
    "    \n",
    "The CSV file has many records. \n",
    "Plot the world records for the mile.  Let X be the year and Y be the time in seconds.  \n",
    "\n",
    "Map the Mens and Womens records on the same graph in different colors.\n",
    "\n",
    "Since records for men and women were set in different years, you won't be able to use plot().  Use a scatter plot instead.\n",
    "\n",
    "Make sure your X and Y values are numbers, rather than the strings in the table.  \n",
    "Include labels for the X and Y axis, and a legend telling us what the colors mean.\n",
    "\n",
    "Include a horizontal line at y = 240: the 4 minute barrier has been a touchstone and a benchmark for years.    \n",
    "\n",
    "You will want the Y axis to include 0 so that we can judge the times relative to the time it takes to run a mile, but you don't want to include the origin: you don't want to go back to 0 AD.  We don't have good records until the 20th century.  \n",
    "\n",
    "### Hint: here are some matplotlib calls to investigate\n",
    "\n",
    "```python\n",
    "    plt.scatter()     # Be sure to investigate the optional parameters\n",
    "    plt.legend()\n",
    "    plt.xlabel()\n",
    "    plt.ylabel()\n",
    "    plt.ylim()\n",
    "```"
   ]
  },
  {
   "cell_type": "markdown",
   "metadata": {},
   "source": [
    "## Your Solution"
   ]
  },
  {
   "cell_type": "code",
   "execution_count": 15,
   "metadata": {},
   "outputs": [
    {
     "name": "stdout",
     "output_type": "stream",
     "text": [
      "WorldRecords.csv cannot be found!\n"
     ]
    },
    {
     "ename": "TypeError",
     "evalue": "cannot unpack non-iterable NoneType object",
     "output_type": "error",
     "traceback": [
      "\u001b[1;31m---------------------------------------------------------------------------\u001b[0m",
      "\u001b[1;31mTypeError\u001b[0m                                 Traceback (most recent call last)",
      "\u001b[1;32m<ipython-input-15-2ecef7c13729>\u001b[0m in \u001b[0;36m<module>\u001b[1;34m\u001b[0m\n\u001b[0;32m     69\u001b[0m \u001b[1;33m\u001b[0m\u001b[0m\n\u001b[0;32m     70\u001b[0m \u001b[1;33m\u001b[0m\u001b[0m\n\u001b[1;32m---> 71\u001b[1;33m \u001b[0mtime_year_men\u001b[0m\u001b[1;33m,\u001b[0m \u001b[0mtime_year_women\u001b[0m  \u001b[1;33m=\u001b[0m \u001b[0mread_csv\u001b[0m\u001b[1;33m(\u001b[0m\u001b[1;34m'WorldRecords.csv'\u001b[0m\u001b[1;33m)\u001b[0m\u001b[1;33m\u001b[0m\u001b[1;33m\u001b[0m\u001b[0m\n\u001b[0m\u001b[0;32m     72\u001b[0m \u001b[1;31m# print(time_year_men, time_year_women, sep='\\n')\u001b[0m\u001b[1;33m\u001b[0m\u001b[1;33m\u001b[0m\u001b[1;33m\u001b[0m\u001b[0m\n\u001b[0;32m     73\u001b[0m \u001b[0mdraw_scatter_plot\u001b[0m\u001b[1;33m(\u001b[0m\u001b[0mtime_year_men\u001b[0m\u001b[1;33m,\u001b[0m \u001b[0mtime_year_women\u001b[0m\u001b[1;33m)\u001b[0m\u001b[1;33m\u001b[0m\u001b[1;33m\u001b[0m\u001b[0m\n",
      "\u001b[1;31mTypeError\u001b[0m: cannot unpack non-iterable NoneType object"
     ]
    }
   ],
   "source": [
    "from typing import List\n",
    "import matplotlib.pyplot as plt\n",
    "import numpy as np\n",
    "from matplotlib.pyplot import figure\n",
    "\n",
    "\n",
    "def read_csv(filename: str) -> List: \n",
    "    records = []\n",
    "    try:\n",
    "        with open(filename, 'r') as file:\n",
    "            for row in file: \n",
    "                records.append(row.strip().split(\",\"))\n",
    "        ## Remove the header row from the list  \n",
    "        records.pop(0)\n",
    "        time_year_men = []\n",
    "        time_year_women = []\n",
    "        for record in records: \n",
    "            if record[0].startswith('Mens Mile'): \n",
    "                time_year_men.append((record[2], record[-1]))\n",
    "            elif record[0].startswith('Womens Mile'):\n",
    "                time_year_women.append((record[2], record[-1]))\n",
    "        return time_year_men, time_year_women \n",
    "    except FileNotFoundError:\n",
    "        print(f\"{filename} cannot be found!\")\n",
    "    except:\n",
    "        print(f\"{filename} cannot be opened!\")\n",
    "\n",
    "def draw_scatter_plot(time_year_men, time_year_women): \n",
    "    time_men_list = [float(record[0]) for record in time_year_men]\n",
    "    year_men_list = [int(record[1]) for record in time_year_men]\n",
    "    time_women_list = [float(record[0]) for record in time_year_women]\n",
    "    year_women_list = [int(record[1]) for record in time_year_women]\n",
    "\n",
    "    year_men = np.array(year_men_list)\n",
    "    time_men = np.array(time_men_list)\n",
    "    year_women = np.array(year_women_list)\n",
    "    time_women = np.array(time_women_list)\n",
    "    \n",
    "    ## Ref.: https://towardsdatascience.com/change-figure-size-matplotlib-11a409f39584\n",
    "    plt.figure(figsize=(16, 9), dpi=100)\n",
    "    \n",
    "    ## Ref.: https://moonbooks.org/Articles/How-to-add-a-legend-for-a-scatter-plot-in-matplotlib-/\n",
    "    ## Ref.: https://matplotlib.org/stable/api/_as_gen/matplotlib.pyplot.scatter.html\n",
    "    plt.scatter(year_men, time_men, color='#134f5c', marker='x', label='Men')\n",
    "    plt.scatter(year_women, time_women, color='#674ea7', marker='x', label='Women')\n",
    "    plt.legend()\n",
    "    plt.title('Global Mile Records by Gender')\n",
    "    plt.xlabel('Year')\n",
    "    plt.ylabel('Time to run a mile in seconds')\n",
    "\n",
    "    ## For x-axis and y-axis scales  \n",
    "    # print(min(year_men), max(year_men))\n",
    "    # print(min(year_women), max(year_women))\n",
    "    # print(min(time_men), max(time_men))\n",
    "    # print(min(time_women), max(time_women))\n",
    "\n",
    "    ## https://matplotlib.org/stable/api/_as_gen/matplotlib.pyplot.yticks.html\n",
    "    plt.xticks(np.arange(1910, 2000+5, 5))\n",
    "    plt.yticks(np.arange(0, 300+20, 20))\n",
    "    ## Alternative 01: \n",
    "    # plt.xlim(1910, 2000)\n",
    "    # plt.ylim(0, 300)\n",
    "    ## Alternative 02: \n",
    "    # plt.axis([1910, 2000, 0, 300])\n",
    "    ## Ref.: https://www.geeksforgeeks.org/matplotlib-pyplot-axhline-in-python/\n",
    "    plt.axhline(y=240, color='r', linestyle='-')\n",
    "    plt.grid()\n",
    "    plt.show()\n",
    "\n",
    "\n",
    "time_year_men, time_year_women  = read_csv('WorldRecords.csv')\n",
    "# print(time_year_men, time_year_women, sep='\\n')\n",
    "draw_scatter_plot(time_year_men, time_year_women)"
   ]
  },
  {
   "cell_type": "markdown",
   "metadata": {},
   "source": [
    "# 4) People\n",
    "\n",
    "We define a class Person which describes a citizen with a name.\n",
    "Students and Employees are subclasses of Persons.\n",
    "\n",
    "You will need to define or redefine methods for the three classes below to make the unit tests pass.\n",
    "\n",
    "We have made a start defining a Student, but have done nothing for Employee.  Run the Unit Tests to see what you will need to add or change.  \n",
    "\n",
    "Hint: You may make changes in all three classes"
   ]
  },
  {
   "cell_type": "code",
   "execution_count": 1,
   "metadata": {},
   "outputs": [],
   "source": [
    "class Person:\n",
    "    def __init__(self, first, last):\n",
    "        self.firstname = first.title()\n",
    "        self.lastname = last.title()\n",
    "\n",
    "    def __str__(self):\n",
    "        return self.firstname + \" \" + self.lastname\n",
    "\n",
    "    def __eq__(self, other):\n",
    "        return (self.firstname == other.firstname) and (self.lastname == other.lastname)\n",
    "\n",
    "    def is_employed(self):\n",
    "        return False\n",
    "\n",
    "\n",
    "class Student(Person):\n",
    "    \"Person who is a student\"\n",
    "    def __init__(self, first, last, school, _id_):\n",
    "        ## Call Superclass to set common attributes \n",
    "        super().__init__(first, last)\n",
    "        self.school = school\n",
    "        self._id_ = _id_\n",
    "\n",
    "    def __str__(self):\n",
    "        ## Call Superclass to dispaly common information\n",
    "        return f\"{super().__str__()}, {str(self._id_)} at {self.school}\"\n",
    "    \n",
    "    def __eq__(self, other): \n",
    "        boolean = False \n",
    "        ## If both objects belong to Student class\n",
    "        if hasattr(self, 'school') and hasattr(other, 'school'): \n",
    "            boolean = (self.school == other.school)\n",
    "        ## If one object belongs to Student class and another belongs to the Employee class \n",
    "        elif hasattr(self, 'school') and hasattr(other, 'company'): \n",
    "            boolean = False \n",
    "        return super().__eq__(other) and (self._id_ == other._id_) and boolean\n",
    "\n",
    "\n",
    "class Employee(Person):\n",
    "    \"Person who is employed\"\n",
    "    def __init__(self, first, last, company, _id_):\n",
    "        ## Call Superclass to set common attributes \n",
    "        super().__init__(first, last)\n",
    "        self.company = company\n",
    "        self._id_ = _id_\n",
    "    \n",
    "    def __str__(self):\n",
    "        ## Call Superclass to dispaly common information\n",
    "        return f\"{super().__str__()}, {str(self._id_)} at {self.company}\"\n",
    "    \n",
    "    def __eq__(self, other): \n",
    "        boolean = False \n",
    "        ## If both objects belong to Employee class\n",
    "        if hasattr(self, 'company') and hasattr(other, 'company'): \n",
    "            boolean = (self.company == other.company)\n",
    "        ## If one object belongs to Employee class and another belongs to the Student class \n",
    "        elif hasattr(self, 'company') and hasattr(other, 'school'): \n",
    "            boolean = False \n",
    "        return super().__eq__(other) and (self._id_ == other._id_) and boolean"
   ]
  },
  {
   "cell_type": "markdown",
   "metadata": {},
   "source": [
    "## Unit Tests for Person"
   ]
  },
  {
   "cell_type": "code",
   "execution_count": 2,
   "metadata": {},
   "outputs": [
    {
     "name": "stdout",
     "output_type": "stream",
     "text": [
      "Success!\n"
     ]
    }
   ],
   "source": [
    "def test_person():\n",
    "    \n",
    "    # People\n",
    "    man1 = Person(\"Homer\", \"Simpson\")\n",
    "    man2 = Person(\"homer\", \"simpson\")\n",
    "    assert man1 == man2\n",
    "    assert not man1.is_employed()\n",
    "    assert man1.__str__() == 'Homer Simpson'\n",
    "    assert man2.__str__() == 'Homer Simpson'\n",
    "    \n",
    "    # Students\n",
    "    woman1 = Student(\"Marge\", \"Simpson\", 'Simmons', 107)\n",
    "    woman2 = Student(\"Marge\", \"Simpson\", 'Wheelock', 153)\n",
    "    assert woman1.__str__() == \"Marge Simpson, 107 at Simmons\"\n",
    "    assert woman2.__str__() == \"Marge Simpson, 153 at Wheelock\"\n",
    "    assert not woman1 == woman2\n",
    "\n",
    "    # Employees\n",
    "    moe1 = Employee(\"Moe\", \"Szyslak\", 'Tavern', 153)\n",
    "    assert moe1.__str__() == \"Moe Szyslak, 153 at Tavern\"\n",
    "    assert not moe1 == woman2\n",
    "\n",
    "    moe = Employee(\"Moe\", \"Szyslak\", 'Tavern', 153)\n",
    "    assert moe.__str__() == \"Moe Szyslak, 153 at Tavern\"\n",
    "    assert not moe == woman2\n",
    "\n",
    "    waylon = Employee(\"Waylon\", \"Smithers\", \"Springfield Power\", 2)\n",
    "    assert not moe == waylon\n",
    "   \n",
    "    # Cross Check\n",
    "    moe2 = Student(\"Moe\", \"Szyslak\", 'BC', 153)\n",
    "    assert moe2.__str__() == \"Moe Szyslak, 153 at BC\"\n",
    "    assert not moe == moe2\n",
    "    assert not moe2 == moe\n",
    "\n",
    "    print('Success!')\n",
    "    \n",
    "test_person()"
   ]
  },
  {
   "cell_type": "markdown",
   "metadata": {},
   "source": [
    "## Post Mortem\n",
    "\n",
    "How long did it take you to solve this problem set?\n",
    "\n",
    "Did anything confuse you or cause difficulty?"
   ]
  },
  {
   "cell_type": "code",
   "execution_count": 3,
   "metadata": {},
   "outputs": [],
   "source": [
    "## 2 days! \n",
    "## 2021-11-15 03:08:51.851 to 2021-11-15 03:13:51.965\n",
    "## 2021-11-15 04:12:20.662 to 2021-11-15 07:26:56.889\n",
    "## 2021-11-15 04:12:20.662 to 2021-11-15 07:26:56.889\n",
    "## 2021-11-15 22:20:01.889 to 2021-11-16 01:36:04.025\n",
    "## 2021-11-16 02:20:39.614 to 2021-11-16 02:32:00.712\n",
    "## 2021-11-16 03:26:04.014 to 2021-11-16 04:02:45.072\n",
    "\n",
    "## Difficulty: \n",
    "### Problem 3: On scaling x-axis and y-axis \n",
    "### Problem 4: It took me some time to solve the __eq__() parts but I'd finally nail it. "
   ]
  }
 ],
 "metadata": {
  "kernelspec": {
   "display_name": "Python 3",
   "language": "python",
   "name": "python3"
  },
  "language_info": {
   "codemirror_mode": {
    "name": "ipython",
    "version": 3
   },
   "file_extension": ".py",
   "mimetype": "text/x-python",
   "name": "python",
   "nbconvert_exporter": "python",
   "pygments_lexer": "ipython3",
   "version": "3.8.12"
  }
 },
 "nbformat": 4,
 "nbformat_minor": 1
}
