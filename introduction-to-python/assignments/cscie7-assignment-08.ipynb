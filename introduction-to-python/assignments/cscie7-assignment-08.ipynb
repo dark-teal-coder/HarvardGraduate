{
 "cells": [
  {
   "cell_type": "markdown",
   "metadata": {},
   "source": [
    "# Homework 8\n",
    "\n",
    "## 2021\n",
    "\n",
    "### Fill in your name"
   ]
  },
  {
   "cell_type": "code",
   "execution_count": 1,
   "metadata": {},
   "outputs": [],
   "source": [
    "first_name = \"PREESA\"\n",
    "last_name = \"SAEWONG\"\n",
    "nick_name = \"REE\"\n",
    "\n",
    "assert(len(first_name) != 0)\n",
    "assert(len(last_name)  != 0)\n",
    "assert(len(nick_name)  != 0)"
   ]
  },
  {
   "cell_type": "markdown",
   "metadata": {},
   "source": [
    "## Problem 1: Secret Code\n",
    "\n",
    "We looked at ROT-13, a simple substitution cipher, in Office Hours last week.\n",
    "\n",
    "This week we will write another cipher:\n",
    "\n",
    "```text\n",
    "Plain:  abcdefghijklmnopqrstuvwxyz\n",
    "Cipher: zyxwvutsrqponmlkjihgfedcba\n",
    "```\n",
    "\n",
    "To hide our tracks, when we encode, we split the string into blocks of 5 characters.  See the Unit Tests for examples.\n",
    "\n",
    "Write functions encode and decode that take a string and return an encoded or decoded string."
   ]
  },
  {
   "cell_type": "code",
   "execution_count": 2,
   "metadata": {},
   "outputs": [],
   "source": [
    "import string \n",
    "\n",
    "alpha_low = string.ascii_lowercase\n",
    "alpha_low_rev = alpha_low[::-1]\n",
    "\n",
    "def encode(plain_text: str) -> str:\n",
    "    ## Turn the entire string lower case \n",
    "    plain_text = plain_text.lower()\n",
    "    ## Remove spaces and punctuations in the string \n",
    "    plain_text = \"\".join([ch for ch in plain_text if (not ch.isspace()) and (not ch in string.punctuation)])\n",
    "    ## Map each letter with the encoded letter and keep numbers as are \n",
    "    cipher = \"\".join([alpha_low_rev[alpha_low.index(ch)] if (not ch.isdigit()) else (ch) for ch in plain_text])\n",
    "    ## Split every 5 characters in the string and join it with a space \n",
    "    cipher = \" \".join([cipher[i:i+5] for i in range(0, len(cipher), 5)])\n",
    "    return cipher\n",
    "\n",
    "def decode(ciphered_text: str) -> str:\n",
    "    ## Remove spaces in the string \n",
    "    ciphered_text = \"\".join([ch for ch in ciphered_text if (not ch.isspace())])\n",
    "    ## Map each letter with the encoded letter and keep numbers as are \n",
    "    plain_text = \"\".join([alpha_low[alpha_low_rev.index(ch)] if (not ch.isdigit()) else (ch) for ch in ciphered_text])\n",
    "    return plain_text\n"
   ]
  },
  {
   "cell_type": "markdown",
   "metadata": {},
   "source": [
    "## Unit Tests"
   ]
  },
  {
   "cell_type": "code",
   "execution_count": 3,
   "metadata": {},
   "outputs": [
    {
     "name": "stdout",
     "output_type": "stream",
     "text": [
      "Success!\n"
     ]
    }
   ],
   "source": [
    "def test_code():\n",
    "    assert encode(\"no\") == \"ml\"\n",
    "    assert encode(\"yes\") == \"bvh\"\n",
    "    assert encode(\"OMG\") == \"lnt\"\n",
    "    assert encode(\"O M G\") == \"lnt\"\n",
    "    assert encode(\"mindblowingly\") == \"nrmwy oldrm tob\"\n",
    "    assert encode(\"Testing, 1 2 3, testing.\") == \"gvhgr mt123 gvhgr mt\"\n",
    "    assert encode(\"Truth is fiction.\") == \"gifgs rhurx grlm\"\n",
    "\n",
    "    plaintext = \"The quick brown fox jumps over the lazy dog.\"\n",
    "    ciphertext = \"gsvjf rxpyi ldmul cqfnk hlevi gsvoz abwlt\"\n",
    "    assert encode(plaintext) == ciphertext\n",
    "    assert decode(\"zmlyh\") == \"anobs\"\n",
    "    assert decode(\"zmlyh gzxov rhlug vmzhg vkkrm thglm v\") == \"anobstacleisoftenasteppingstone\"\n",
    "    assert decode(\"gvhgr mt123 gvhgr mt\") == \"testing123testing\"\n",
    "\n",
    "    ciphertext = \"gsvjf rxpyi ldmul cqfnk hlevi gsvoz abwlt\"\n",
    "    plaintext = \"thequickbrownfoxjumpsoverthelazydog\"\n",
    "    assert decode(ciphertext) == plaintext\n",
    "\n",
    "    ciphertext = \"zmlyhgzxovrhlugvmzhgvkkrmthglmv\"\n",
    "    plaintext = \"anobstacleisoftenasteppingstone\"\n",
    "    assert decode(ciphertext) == plaintext\n",
    "    \n",
    "    assert decode(encode(\"Testing, 1 2 3, testing.\")) == \"testing123testing\"\n",
    "    \n",
    "    print('Success!')\n",
    "    \n",
    "test_code()"
   ]
  },
  {
   "cell_type": "markdown",
   "metadata": {},
   "source": [
    "## Problem 2: Dates\n",
    "\n",
    "Fill in the defintion of the three method below for a class Date "
   ]
  },
  {
   "cell_type": "code",
   "execution_count": 4,
   "metadata": {},
   "outputs": [],
   "source": [
    "class Date(object):\n",
    "    \"Represent a calendar date\"\n",
    "    \n",
    "    def __init__(self, day=0, month=0, year=0):\n",
    "        \"\"\"Initialize\"\"\"\n",
    "        self.day = day\n",
    "        self.month = month\n",
    "        self.year = year\n",
    "    \n",
    "    def __str__(self):\n",
    "        \"\"\"Print the date as string in this format: M/D/Y\"\"\"\n",
    "        return f\"{self.month}/{self.day}/{self.year}\"\n",
    "    \n",
    "    def before(self, other):\n",
    "        \"\"\"Check if this date comes before the other date\"\"\"\n",
    "        if self.year < other.year: \n",
    "            return True \n",
    "        elif self.year == other.year: \n",
    "            if self.month < other.month: \n",
    "                return True \n",
    "            elif self.month == other.month: \n",
    "                if self.day < other.day: \n",
    "                    return True\n",
    "                ## (self.day < other.day) and (self.day == other.day)\n",
    "                else: \n",
    "                    return False \n",
    "        else: \n",
    "            return False "
   ]
  },
  {
   "cell_type": "markdown",
   "metadata": {},
   "source": [
    "## Unit Tests"
   ]
  },
  {
   "cell_type": "code",
   "execution_count": 5,
   "metadata": {},
   "outputs": [
    {
     "name": "stdout",
     "output_type": "stream",
     "text": [
      "Success!\n"
     ]
    }
   ],
   "source": [
    "def test_dates():\n",
    "    t1 = Date(1, 2, 3)\n",
    "    assert t1.__str__() == '2/1/3'\n",
    "    t2 = Date(4, 5, 2)\n",
    "    assert t2.__str__() == '5/4/2'\n",
    "    \n",
    "    assert not t1.before(t1)\n",
    "    assert t2.before(t1)\n",
    "    assert not t1.before(t2)\n",
    " \n",
    "    t2 = Date(4, 1, 3)\n",
    "    assert t2.__str__() == '1/4/3'\n",
    "    \n",
    "    assert not t1.before(t1)\n",
    "    assert t2.before(t1)\n",
    "\n",
    "    t1 = Date(2, 2, 3)\n",
    "    t2 = Date(1, 2, 3)\n",
    "    assert t2.__str__() == '2/1/3'\n",
    "    \n",
    "    assert not t1.before(t1)\n",
    "    assert not t1.before(t2)\n",
    "    assert t2.before(t1)\n",
    "\n",
    "    print(\"Success!\")\n",
    "    \n",
    "test_dates()"
   ]
  },
  {
   "cell_type": "markdown",
   "metadata": {},
   "source": [
    "## Problem 3: Intervals\n",
    "\n",
    "This problems takes one of the share problems from Day 7 and solves it using Objects.\n",
    "\n",
    "Finish the definition of the class Interval. The interval '[a..b]' includes all the points a, b, and all points between them.\n",
    "Decide if two intervals are equal.  Print an interval as [a..b]. Decide if two intervals overlap, and merge two intervals.  "
   ]
  },
  {
   "cell_type": "code",
   "execution_count": 6,
   "metadata": {},
   "outputs": [],
   "source": [
    "class Interval(object):\n",
    "    \n",
    "    def __init__(self, a, b):\n",
    "        \"\"\"Initialize an inteval\"\"\"\n",
    "        self.a = a\n",
    "        self.b = b \n",
    "    \n",
    "    def __eq__(self, other):\n",
    "        \"\"\"Check if the two intervals are equal\"\"\"\n",
    "        ## Make sure the type of self and other are same \n",
    "        if not isinstance(self, Interval):\n",
    "            self = Interval(self[0], self[1])\n",
    "        if not isinstance(other, Interval):\n",
    "            other = Interval(other[0], other[1]) \n",
    "        p1 = normalize((self.a, self.b))\n",
    "        p2 = normalize((other.a, other.b))\n",
    "        return p1[0] == p2[0] and p1[1] == p2[1]\n",
    "        \n",
    "    def __str__(self):\n",
    "        \"\"\"Return a string representation of the interval object\"\"\"\n",
    "        print(f\"[{self.a}..{self.b}] contains numbers: {list(range(self.a, self.b+1))}\")\n",
    "        return f\"[{self.a}..{self.b}]\"\n",
    "\n",
    "    def intersect(self, other):\n",
    "        \"\"\"This method returns True if the two intervals intersect.\"\"\"\n",
    "        p1 = normalize((self.a, self.b))\n",
    "        p2 = normalize((other.a, other.b))\n",
    "        return contains(p1[0], p2) or contains(p1[1], p2) or contains(p2[0], p1) or contains(p2[1], p1)\n",
    "    \n",
    "    def merge(self, other):\n",
    "        \"\"\"Merge two intersecting Intervals\"\"\"\n",
    "        p1 = normalize((self.a, self.b))\n",
    "        p2 = normalize((other.a, other.b))\n",
    "        return min(p1[0], p2[0]), max(p1[1], p2[1])\n",
    "    \n",
    "## The following are functions, not methods: \n",
    "\n",
    "def contains(x, interval):\n",
    "    \"\"\"This function returns True if the value x is within the closed interval.\"\"\"\n",
    "    return (interval[0] <= x and x <= interval[1])\n",
    "\n",
    "def normalize(interval):\n",
    "    \"\"\"This function takes an interval in the form of (a, b) and turns it into the standard form. \n",
    "    If a <= b, return (a, b). If a > b, return (b, a).\"\"\"\n",
    "    return (min(interval[0], interval[1]), max(interval[0], interval[1]))\n",
    "   "
   ]
  },
  {
   "cell_type": "markdown",
   "metadata": {},
   "source": [
    "## Unit Tests"
   ]
  },
  {
   "cell_type": "code",
   "execution_count": 7,
   "metadata": {},
   "outputs": [
    {
     "name": "stdout",
     "output_type": "stream",
     "text": [
      "[1..3] contains numbers: [1, 2, 3]\n",
      "Success!\n"
     ]
    }
   ],
   "source": [
    "def test_interval():\n",
    "    assert Interval(1, 3) == Interval(1, 3)\n",
    "    assert Interval(1, 3) == Interval(3, 1)\n",
    "    assert Interval(1, 3).__str__() == '[1..3]'\n",
    "    assert Interval(1, 3).intersect(Interval(2, 4))\n",
    "    assert not Interval(1, 3).intersect(Interval(4, 7))\n",
    "    assert Interval(1, 3).merge(Interval(2, 4)) == Interval(1, 4)\n",
    "    \n",
    "    print('Success!')\n",
    "    \n",
    "test_interval()"
   ]
  },
  {
   "cell_type": "code",
   "execution_count": null,
   "metadata": {},
   "outputs": [],
   "source": []
  }
 ],
 "metadata": {
  "kernelspec": {
   "display_name": "Python 3",
   "language": "python",
   "name": "python3"
  },
  "language_info": {
   "codemirror_mode": {
    "name": "ipython",
    "version": 3
   },
   "file_extension": ".py",
   "mimetype": "text/x-python",
   "name": "python",
   "nbconvert_exporter": "python",
   "pygments_lexer": "ipython3",
   "version": "3.8.8"
  }
 },
 "nbformat": 4,
 "nbformat_minor": 1
}
