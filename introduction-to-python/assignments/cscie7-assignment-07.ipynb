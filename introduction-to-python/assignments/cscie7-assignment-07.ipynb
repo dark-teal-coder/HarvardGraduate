{
 "cells": [
  {
   "cell_type": "markdown",
   "metadata": {},
   "source": [
    "# Homework 7\n",
    "## Fill in your name"
   ]
  },
  {
   "cell_type": "code",
   "execution_count": 1,
   "metadata": {},
   "outputs": [],
   "source": [
    "first_name = \"PREESA\"\n",
    "last_name = \"SAEWONG\"\n",
    "nick_name = \"REE\"\n",
    "\n",
    "assert(len(first_name) != 0)\n",
    "assert(len(last_name)  != 0)\n",
    "assert(len(nick_name)  != 0)"
   ]
  },
  {
   "cell_type": "markdown",
   "metadata": {},
   "source": [
    "# Problem 1: List of Squares\n",
    "\n",
    "The List Comprehension below takes an integer N and returns the squares of the first N integers.  \n",
    "\n",
    "Rewrite the function without using List Comprehensions\n",
    "\n",
    "```python\n",
    "    def squares(N):\n",
    "        return [i * i for i in range(N+1)]\n",
    "```"
   ]
  },
  {
   "cell_type": "code",
   "execution_count": 1,
   "metadata": {},
   "outputs": [
    {
     "name": "stdout",
     "output_type": "stream",
     "text": [
      "4\n",
      "[0, 1, 4, 9, 16]\n"
     ]
    }
   ],
   "source": [
    "from typing import List\n",
    "\n",
    "def squares(N: int) -> List[int]: \n",
    "    \"\"\"This function takes an integer N and returns a list of the squares from 0 up to (N*N).\"\"\"\n",
    "    result = []\n",
    "    for i in range(N+1): \n",
    "        result.append(i * i)\n",
    "    return result \n",
    "\n",
    "print(squares(int(input())))"
   ]
  },
  {
   "cell_type": "markdown",
   "metadata": {},
   "source": [
    "### Unit Tests for Squares"
   ]
  },
  {
   "cell_type": "code",
   "execution_count": 3,
   "metadata": {},
   "outputs": [
    {
     "data": {
      "text/plain": [
       "'Success'"
      ]
     },
     "execution_count": 3,
     "metadata": {},
     "output_type": "execute_result"
    }
   ],
   "source": [
    "from typing import List\n",
    "\n",
    "def test_squares():\n",
    "    assert(squares(1) == [0, 1])\n",
    "    assert(squares(4) == [0, 1, 4, 9, 16])\n",
    "    assert(squares(9) == [0, 1, 4, 9, 16, 25, 36, 49, 64, 81])\n",
    "    return 'Success'\n",
    "\n",
    "test_squares()"
   ]
  },
  {
   "cell_type": "markdown",
   "metadata": {},
   "source": [
    "## Problem 2: Whozit\n",
    "\n",
    "The List Comprehension below takes an integer and returns a list.\n",
    "\n",
    "Rewrite Whozit without using a List Comprehension\n",
    "\n",
    "```python\n",
    "    def whozit(n):\n",
    "        return [i for i in range(n) if '3' in str(i)]\n",
    "```"
   ]
  },
  {
   "cell_type": "code",
   "execution_count": 4,
   "metadata": {},
   "outputs": [
    {
     "name": "stdout",
     "output_type": "stream",
     "text": [
      "[3, 13]\n",
      "[3, 13, 23]\n",
      "[3, 13, 23, 30, 31, 32, 33, 34, 35, 36, 37, 38, 39]\n"
     ]
    }
   ],
   "source": [
    "from typing import List\n",
    "\n",
    "def whozit(n: int) -> List[int]:\n",
    "    \"\"\"This function takes an integer, loop from 0 through to the integer and returns a list of the numbers containing 3.\"\"\"\n",
    "    result = []\n",
    "    for i in range(n):\n",
    "        if '3' in str(i): \n",
    "            result.append(i)\n",
    "    return result\n",
    "            \n",
    "print(whozit(20))\n",
    "print(whozit(30))\n",
    "print(whozit(40))"
   ]
  },
  {
   "cell_type": "markdown",
   "metadata": {},
   "source": [
    "### Unit tests for Whozit"
   ]
  },
  {
   "cell_type": "code",
   "execution_count": 5,
   "metadata": {},
   "outputs": [
    {
     "name": "stdout",
     "output_type": "stream",
     "text": [
      "Success\n"
     ]
    }
   ],
   "source": [
    "def test_whozit():\n",
    "    assert whozit(20) == [3, 13]\n",
    "    assert whozit(30) == [3, 13, 23]\n",
    "    assert whozit(40) == [3, 13, 23, 30, 31, 32, 33, 34, 35, 36, 37, 38, 39]\n",
    "    print(\"Success\")\n",
    "    \n",
    "test_whozit()"
   ]
  },
  {
   "cell_type": "markdown",
   "metadata": {},
   "source": [
    "## Problem 3: Loop Garou\n",
    "\n",
    "Rewrite loop_garou as a List Comprehension, and describe what it does\n",
    "\n",
    "```python\n",
    "    def loop_garou(s):\n",
    "        res = []\n",
    "        for ch in s:\n",
    "            if ch in 'aeiou':\n",
    "                res.append(ch)\n",
    "        return '-'.join(res)\n",
    "```"
   ]
  },
  {
   "cell_type": "code",
   "execution_count": 6,
   "metadata": {},
   "outputs": [
    {
     "name": "stdout",
     "output_type": "stream",
     "text": [
      "e-a-e-i-i-e\n",
      "i-o-u-i-a-i-a-u\n"
     ]
    }
   ],
   "source": [
    "def loop_garou(string): \n",
    "    \"\"\"This function takes a string and returns all the vowel characters separated by '-'.\"\"\"\n",
    "#     characters = [ch for ch in string if ch in 'aeiou']\n",
    "#     joined = '-'.join(characters)\n",
    "    return '-'.join([ch for ch in string if ch in 'aeiou'])\n",
    "\n",
    "print(loop_garou('We are his sisters'))\n",
    "print(loop_garou('his cousins and his aunts'))"
   ]
  },
  {
   "cell_type": "markdown",
   "metadata": {},
   "source": [
    "### Unit tests for Loop Garou"
   ]
  },
  {
   "cell_type": "code",
   "execution_count": 7,
   "metadata": {},
   "outputs": [
    {
     "name": "stdout",
     "output_type": "stream",
     "text": [
      "Success\n"
     ]
    }
   ],
   "source": [
    "def test_loop_garou():\n",
    "    assert loop_garou('We are his sisters') == 'e-a-e-i-i-e'\n",
    "    assert loop_garou('his cousins and his aunts') == 'i-o-u-i-a-i-a-u'\n",
    "    print('Success')\n",
    "    \n",
    "test_loop_garou()"
   ]
  },
  {
   "cell_type": "markdown",
   "metadata": {},
   "source": [
    "## Problem 4: Intersection\n",
    "\n",
    "Use List Comprehension to write a function common that takes two lists, and return a list of the items that appear in both lists, in the order they appear in the first list.\n",
    "\n",
    "Given [1, 3, 2, 5, 6, 0, 7] and [7, 4, 3, 2, 1], you should return [1, 3, 2, 7]"
   ]
  },
  {
   "cell_type": "code",
   "execution_count": 8,
   "metadata": {},
   "outputs": [
    {
     "name": "stdout",
     "output_type": "stream",
     "text": [
      "[1, 3, 2, 7]\n",
      "[1, 3, 5]\n",
      "[5, 3, 1]\n",
      "[]\n",
      "[]\n",
      "[0, 6, 12, 18]\n"
     ]
    }
   ],
   "source": [
    "def intersection(list1, list2):\n",
    "    return [i for i in list1 if i in list2] \n",
    "\n",
    "print(intersection([1, 3, 2, 5, 6, 0, 7], [7, 4, 3, 2, 1])) \n",
    "print(intersection([1, 2, 3, 4, 5], [7, 5, 3, 1]))\n",
    "print(intersection([7, 5, 3, 1], [1, 2, 3, 4, 5])) \n",
    "print(intersection([7, 5, 3, 1], []))\n",
    "print(intersection([], [1, 2, 3, 4, 5]))\n",
    "print(intersection([3*i for i in range(7)], [2*i for i in range(10)]))"
   ]
  },
  {
   "cell_type": "markdown",
   "metadata": {},
   "source": [
    "## Unit Tests for Intersection"
   ]
  },
  {
   "cell_type": "code",
   "execution_count": 9,
   "metadata": {},
   "outputs": [
    {
     "name": "stdout",
     "output_type": "stream",
     "text": [
      "Success\n"
     ]
    }
   ],
   "source": [
    "def test_intersection():\n",
    "    assert intersection([1, 3, 2, 5, 6, 0, 7], [7, 4, 3, 2, 1]) == [1, 3, 2, 7]\n",
    "    assert intersection([1, 2, 3, 4, 5], [7, 5, 3, 1]) == [1, 3, 5]\n",
    "    assert intersection([7, 5, 3, 1], [1, 2, 3, 4, 5]) == [5, 3, 1]\n",
    "    assert intersection([7, 5, 3, 1], []) == []\n",
    "    assert intersection([], [1, 2, 3, 4, 5]) == []\n",
    "    assert intersection([3*i for i in range(7)], [2*i for i in range(10)]) == [0, 6, 12, 18]   \n",
    "    print('Success')\n",
    "    \n",
    "test_intersection()"
   ]
  },
  {
   "cell_type": "markdown",
   "metadata": {},
   "source": [
    "## Problem 5: How much space are my pictures taking?\n",
    "\n",
    "Write a function that takes a directory and returns the combined size, in bytes, of all the .jpg files below the directory\n",
    "\n",
    "You may be storing more files in a different format: you can look for those files instead.\n",
    "\n",
    "Hint: This is a filter, followed by a map, followed by a reduce to combine the file sizes into a total.  You don't need to treat it that way: you can just keep track of the running total.  "
   ]
  },
  {
   "cell_type": "code",
   "execution_count": 10,
   "metadata": {},
   "outputs": [],
   "source": [
    "import os\n",
    "import glob\n",
    "\n",
    "def allocation(dirname: str) -> int: \n",
    "    \"\"\"This function takes a directory path and returns the combined size of all JPG files in the directory in bytes.\"\"\"\n",
    "    size = 0\n",
    "    ## https://docs.python.org/3/library/glob.html\n",
    "    ## If recursive=True, the pattern \"**\" will match any files and 0 or more directories, subdirectories and symbolic links to directories.\n",
    "    for path in glob.glob(os.path.join(dirname, '**\\*.jpg'), recursive=True): \n",
    "        print(path)\n",
    "        try: \n",
    "            size += os.path.getsize(path)\n",
    "        except OSError: \n",
    "            print(f\"The file {path} does not exist or cannot be accessed.\")                \n",
    "    return f\"{size} bytes\" "
   ]
  },
  {
   "cell_type": "markdown",
   "metadata": {},
   "source": [
    "### Try your function out\n",
    "\n",
    "You may need to change the directory to find some images"
   ]
  },
  {
   "cell_type": "code",
   "execution_count": 11,
   "metadata": {},
   "outputs": [
    {
     "name": "stdout",
     "output_type": "stream",
     "text": [
      "C:\\Users\\Asus\\Downloads\\New folder\\image01.jpg\n",
      "C:\\Users\\Asus\\Downloads\\New folder\\subfolder\\image02.jpg\n",
      "C:\\Users\\Asus\\Downloads\\New folder\\subfolder\\subfolder2\\image03.jpg\n",
      "137937 bytes\n"
     ]
    }
   ],
   "source": [
    "## Call your function\n",
    "\n",
    "print(allocation('C:\\\\Users\\\\Asus\\\\Downloads\\\\New folder'))"
   ]
  },
  {
   "cell_type": "markdown",
   "metadata": {},
   "source": [
    "## Problem 6: Austin City Limits\n",
    "\n",
    "We will provide a CSV files listing several years worth of shows at Austin City Limits, a concert venue that has spawned a TV show.  \n",
    "\n",
    "Each concert has a number of attributes, including a Genre.  Bubble Gum and and Smooth Jazz are poorly represented, but there are a number of other Genres.  Find the frequency of each Genre, and list them in order,\n",
    "from most popular to least.  "
   ]
  },
  {
   "cell_type": "code",
   "execution_count": 12,
   "metadata": {},
   "outputs": [
    {
     "name": "stdout",
     "output_type": "stream",
     "text": [
      "[('Rock/Folk/Indie', 68), ('Country', 18), ('Singer-Songwriter', 17), ('Jazz/Blues', 13)]\n"
     ]
    }
   ],
   "source": [
    "def read_csv(filename: str) -> List:\n",
    "    \"\"\"This function reads a CSV file specified in the file path and returns the data contained in the file.\"\"\"\n",
    "    try: \n",
    "        with open(filename, 'r') as file:\n",
    "            data = [line.strip().split(',') for line in file]\n",
    "        # print(len(data), data)\n",
    "        return data \n",
    "    except FileNotFoundError: \n",
    "        print(f\"The file {filename} cannot be found.\")\n",
    "    except: \n",
    "        print(f\"An error occurs while reading in the file {filename}\")\n",
    "    return []\n",
    "\n",
    "def count_freq(data: List, col_name: str) -> dict: \n",
    "    \"\"\"This function takes a list of data and returns the frequency of data in the column specified.\"\"\"\n",
    "    ## Separate the header row from the data  \n",
    "    headers = data[0]\n",
    "    data = data[1:]\n",
    "    ## Extract data from one column \n",
    "    col_data = [row[headers.index(col_name)] for row in data]\n",
    "    # print(len(col_data), col_data)\n",
    "    ## Start counting \n",
    "    counts = {}\n",
    "    for entry in col_data:\n",
    "        if entry in counts: \n",
    "            counts[entry] += 1\n",
    "        else: \n",
    "            counts[entry] = 1\n",
    "    ## Sort the dictionary by its values (the 2nd item of each tuple in the list) in the reversed order \n",
    "    ## Key parameter to specify a function to be called on each list element prior to making comparisons\n",
    "    return sorted(counts.items(), key=lambda x: x[1], reverse=True)\n",
    "\n",
    "data_list = read_csv('AustinCityLimits.csv')\n",
    "print(count_freq(data_list, 'Genre'))"
   ]
  },
  {
   "cell_type": "markdown",
   "metadata": {},
   "source": [
    "# Post Mortem"
   ]
  },
  {
   "cell_type": "markdown",
   "metadata": {},
   "source": [
    "How long did it take you to solve this problem set?\n",
    "\n",
    "Did anything confuse you or cause difficulty?"
   ]
  },
  {
   "cell_type": "code",
   "execution_count": 13,
   "metadata": {},
   "outputs": [],
   "source": [
    "## Time: \n",
    "## 2021-10-17 14:48:36.967 to 2021-10-17 16:34:39.567\n",
    "## 2021-10-17 23:02:48.572 to 2021-10-18 02:00:14.557\n",
    "## Difficulty: \n",
    "## This assignment isn't as hard as the last one. I spent most of the time googling the examples and docs. "
   ]
  }
 ],
 "metadata": {
  "kernelspec": {
   "display_name": "Python 3",
   "language": "python",
   "name": "python3"
  },
  "language_info": {
   "codemirror_mode": {
    "name": "ipython",
    "version": 3
   },
   "file_extension": ".py",
   "mimetype": "text/x-python",
   "name": "python",
   "nbconvert_exporter": "python",
   "pygments_lexer": "ipython3",
   "version": "3.8.8"
  }
 },
 "nbformat": 4,
 "nbformat_minor": 1
}
