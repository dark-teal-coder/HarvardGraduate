{
 "cells": [
  {
   "cell_type": "markdown",
   "metadata": {},
   "source": [
    "# Homework 5: Fall 2021\n",
    "## Due Oct 4, 4PM EST\n",
    "### Fill in your name"
   ]
  },
  {
   "cell_type": "code",
   "execution_count": 1,
   "metadata": {},
   "outputs": [],
   "source": [
    "first_name = \"PREESA\"\n",
    "last_name = \"SAEWONG\"\n",
    "\n",
    "assert(len(first_name) != 0)\n",
    "assert(len(last_name) != 0)"
   ]
  },
  {
   "cell_type": "markdown",
   "metadata": {},
   "source": [
    "## Problem 1: Intersection\n",
    "Given two lists, return a list of the items that appear in both lists, in the order they appear in the first list.\n",
    "\n",
    "Given [1, 3, 2, 5, 6, 0, 7] and [7, 4, 3, 2, 1], you should return [1, 3, 2, 7]\n",
    "\n",
    "```python\n"
   ]
  },
  {
   "cell_type": "code",
   "execution_count": 2,
   "metadata": {},
   "outputs": [
    {
     "data": {
      "text/plain": [
       "[1, 3, 2, 7]"
      ]
     },
     "execution_count": 2,
     "metadata": {},
     "output_type": "execute_result"
    }
   ],
   "source": [
    "from typing import List\n",
    "# Define your function here\n",
    "\n",
    "def intersection(list1: List, list2: List) -> List:\n",
    "    result = []\n",
    "    for num in list1: \n",
    "        if num in list2: \n",
    "            result.append(num)\n",
    "    return result \n",
    "\n",
    "intersection([1, 3, 2, 5, 6, 0, 7], [7, 4, 3, 2, 1])"
   ]
  },
  {
   "cell_type": "markdown",
   "metadata": {},
   "source": [
    "<div class=\"alert alert-block alert-info\">\n",
    "Run the Unit Tests below.\n",
    "</div>"
   ]
  },
  {
   "cell_type": "code",
   "execution_count": 3,
   "metadata": {},
   "outputs": [
    {
     "name": "stdout",
     "output_type": "stream",
     "text": [
      "Success!\n"
     ]
    }
   ],
   "source": [
    "def test_intersection():\n",
    "    assert [1, 3, 2, 7] == intersection([1, 3, 2, 5, 6, 0, 7], [7, 4, 3, 2, 1])\n",
    "    assert [1, 2, 3, 4] == intersection([1, 2, 3, 4], [4, 3, 2, 1])\n",
    "    assert [] == intersection([], [4, 3, 2, 1])\n",
    "    assert [] == intersection([1, 2, 3, 4], [])\n",
    "    \n",
    "    print('Success!')\n",
    "    \n",
    "test_intersection()"
   ]
  },
  {
   "cell_type": "markdown",
   "metadata": {},
   "source": [
    "## 2) Rotation\n",
    "\n",
    "Take a list, and 'rotate' it one step. \n",
    "\n",
    "[1, 2, 3, 4] -> [2, 3, 4, 1]"
   ]
  },
  {
   "cell_type": "code",
   "execution_count": 4,
   "metadata": {},
   "outputs": [
    {
     "data": {
      "text/plain": [
       "[2, 3, 4, 5, 1]"
      ]
     },
     "execution_count": 4,
     "metadata": {},
     "output_type": "execute_result"
    }
   ],
   "source": [
    "# Define your function here\n",
    "\n",
    "from typing import List\n",
    "\n",
    "def rotate(lst: List) -> List:\n",
    "    return lst[1:] + lst[:1]\n",
    "\n",
    "rotate([1, 2, 3, 4, 5])"
   ]
  },
  {
   "cell_type": "markdown",
   "metadata": {},
   "source": [
    "<div class=\"alert alert-block alert-info\">\n",
    "Run the Unit Tests below.\n",
    "</div>"
   ]
  },
  {
   "cell_type": "code",
   "execution_count": 5,
   "metadata": {},
   "outputs": [
    {
     "name": "stdout",
     "output_type": "stream",
     "text": [
      "Success!\n"
     ]
    }
   ],
   "source": [
    "def test_rotate():\n",
    "    assert [2, 3, 4, 1] == rotate([1, 2, 3, 4])\n",
    "    assert [] == rotate([])\n",
    "    assert [2] == rotate([2])\n",
    "    assert [1, 2] == rotate([2, 1])\n",
    "    assert ['two', 'three', 'one'] == rotate(['one', 'two', 'three'])\n",
    "    \n",
    "    print('Success!')\n",
    "    \n",
    "test_rotate()"
   ]
  },
  {
   "cell_type": "markdown",
   "metadata": {},
   "source": [
    "## Problem 3: Hamming Distance\n",
    "\n",
    "The Hamming distance between two strings is the number of places where the strings don't agree. \n",
    "\n",
    "We consider 'A' and 'a' to be the same letter. \n",
    "\n",
    "\n",
    "```python\n",
    "    def hamming_distance(word1: str, word2: str) -> int:\n",
    "```\n",
    "\n",
    "### Examples:\n",
    "\n",
    "\n",
    "\n",
    "```python\n",
    "hamming_distance('sugar', 'spice') = 4\n",
    "```\n",
    "as the two strings differ in every spot but the first.\n",
    "\n",
    "```python\n",
    "hamming_distance(\"GGACG\", \"GGTCG\") == 1\n",
    "```\n",
    "as the two strings only differ in the third place: A != T.\n",
    "\n",
    "```python\n",
    "hamming_distance(\"tag\", \"GAT\") == 2\n",
    "```\n",
    "as the strings differ in the first and third place.  We treat 'a' and 'A' as equal.  \n",
    "\n",
    "```python\n",
    "hamming_distance(\"hot\", \"cold\") \n",
    "```\n",
    "is not defined, as the strings have different lengths. Raise an Exception.  \n",
    "\n",
    "### If the strings have different lengths, your function should throw an ValueError exception with text describing the problem in your own words    "
   ]
  },
  {
   "cell_type": "markdown",
   "metadata": {},
   "source": [
    "<div class=\"alert alert-block alert-info\">\n",
    "Fill in your function definition in the cell below.\n",
    "</div>"
   ]
  },
  {
   "cell_type": "code",
   "execution_count": 6,
   "metadata": {},
   "outputs": [
    {
     "name": "stdout",
     "output_type": "stream",
     "text": [
      "4\n",
      "1\n",
      "2\n"
     ]
    },
    {
     "ename": "ValueError",
     "evalue": "Strings hot and cold have different lengths!",
     "output_type": "error",
     "traceback": [
      "\u001b[1;31m---------------------------------------------------------------------------\u001b[0m",
      "\u001b[1;31mValueError\u001b[0m                                Traceback (most recent call last)",
      "\u001b[1;32m<ipython-input-6-71ff298bdda0>\u001b[0m in \u001b[0;36m<module>\u001b[1;34m\u001b[0m\n\u001b[0;32m     19\u001b[0m \u001b[0mprint\u001b[0m\u001b[1;33m(\u001b[0m\u001b[0mhamming_distance\u001b[0m\u001b[1;33m(\u001b[0m\u001b[1;34m\"GGACG\"\u001b[0m\u001b[1;33m,\u001b[0m \u001b[1;34m\"GGTCG\"\u001b[0m\u001b[1;33m)\u001b[0m\u001b[1;33m)\u001b[0m\u001b[1;33m\u001b[0m\u001b[1;33m\u001b[0m\u001b[0m\n\u001b[0;32m     20\u001b[0m \u001b[0mprint\u001b[0m\u001b[1;33m(\u001b[0m\u001b[0mhamming_distance\u001b[0m\u001b[1;33m(\u001b[0m\u001b[1;34m\"tag\"\u001b[0m\u001b[1;33m,\u001b[0m \u001b[1;34m\"GAT\"\u001b[0m\u001b[1;33m)\u001b[0m\u001b[1;33m)\u001b[0m\u001b[1;33m\u001b[0m\u001b[1;33m\u001b[0m\u001b[0m\n\u001b[1;32m---> 21\u001b[1;33m \u001b[0mprint\u001b[0m\u001b[1;33m(\u001b[0m\u001b[0mhamming_distance\u001b[0m\u001b[1;33m(\u001b[0m\u001b[1;34m\"hot\"\u001b[0m\u001b[1;33m,\u001b[0m \u001b[1;34m\"cold\"\u001b[0m\u001b[1;33m)\u001b[0m\u001b[1;33m)\u001b[0m\u001b[1;33m\u001b[0m\u001b[1;33m\u001b[0m\u001b[0m\n\u001b[0m",
      "\u001b[1;32m<ipython-input-6-71ff298bdda0>\u001b[0m in \u001b[0;36mhamming_distance\u001b[1;34m(str_a, str_b)\u001b[0m\n\u001b[0;32m      9\u001b[0m     \u001b[0mcount\u001b[0m \u001b[1;33m=\u001b[0m \u001b[1;36m0\u001b[0m\u001b[1;33m\u001b[0m\u001b[1;33m\u001b[0m\u001b[0m\n\u001b[0;32m     10\u001b[0m     \u001b[1;32mif\u001b[0m \u001b[0mlen\u001b[0m\u001b[1;33m(\u001b[0m\u001b[0mstr_a\u001b[0m\u001b[1;33m)\u001b[0m \u001b[1;33m!=\u001b[0m \u001b[0mlen\u001b[0m\u001b[1;33m(\u001b[0m\u001b[0mstr_b\u001b[0m\u001b[1;33m)\u001b[0m\u001b[1;33m:\u001b[0m\u001b[1;33m\u001b[0m\u001b[1;33m\u001b[0m\u001b[0m\n\u001b[1;32m---> 11\u001b[1;33m         \u001b[1;32mraise\u001b[0m \u001b[0mValueError\u001b[0m\u001b[1;33m(\u001b[0m\u001b[1;34mf\"Strings {str_a} and {str_b} have different lengths!\"\u001b[0m\u001b[1;33m)\u001b[0m\u001b[1;33m\u001b[0m\u001b[1;33m\u001b[0m\u001b[0m\n\u001b[0m\u001b[0;32m     12\u001b[0m     \u001b[1;32mfor\u001b[0m \u001b[0ma\u001b[0m\u001b[1;33m,\u001b[0m \u001b[0mb\u001b[0m \u001b[1;32min\u001b[0m \u001b[0mzip\u001b[0m\u001b[1;33m(\u001b[0m\u001b[0mstr_a\u001b[0m\u001b[1;33m,\u001b[0m \u001b[0mstr_b\u001b[0m\u001b[1;33m)\u001b[0m\u001b[1;33m:\u001b[0m\u001b[1;33m\u001b[0m\u001b[1;33m\u001b[0m\u001b[0m\n\u001b[0;32m     13\u001b[0m \u001b[1;31m#         print(a, b)\u001b[0m\u001b[1;33m\u001b[0m\u001b[1;33m\u001b[0m\u001b[1;33m\u001b[0m\u001b[0m\n",
      "\u001b[1;31mValueError\u001b[0m: Strings hot and cold have different lengths!"
     ]
    }
   ],
   "source": [
    "# Return the number of differences \n",
    "# Takes two strings, return non-negative integer\n",
    "# Throws ValueError if the strings have different length\n",
    "#\n",
    "def hamming_distance(str_a: str, str_b: str) -> int:\n",
    "    \"\"\"This function returns the Hamming distance between the two strands\"\"\"\n",
    "    str_a = str_a.lower()\n",
    "    str_b = str_b.lower()\n",
    "    count = 0\n",
    "    if len(str_a) != len(str_b):\n",
    "        raise ValueError(f\"Strings {str_a} and {str_b} have different lengths!\")\n",
    "    for a, b in zip(str_a, str_b): \n",
    "#         print(a, b)\n",
    "        if a != b: \n",
    "            count += 1 \n",
    "    return count\n",
    "\n",
    "print(hamming_distance('sugar', 'spice'))\n",
    "print(hamming_distance(\"GGACG\", \"GGTCG\"))\n",
    "print(hamming_distance(\"tag\", \"GAT\"))\n",
    "print(hamming_distance(\"hot\", \"cold\"))"
   ]
  },
  {
   "cell_type": "markdown",
   "metadata": {},
   "source": [
    "<div class=\"alert alert-block alert-danger\">\n",
    "Run the Unit Tests below\n",
    "</div>"
   ]
  },
  {
   "cell_type": "code",
   "execution_count": 7,
   "metadata": {},
   "outputs": [
    {
     "name": "stdout",
     "output_type": "stream",
     "text": [
      "Success\n"
     ]
    }
   ],
   "source": [
    "### Test case for hamming_distance()\n",
    "\n",
    "def test_hamming():\n",
    "    assert hamming_distance(\"A\", \"A\") == 0, \"Same string\"\n",
    "    assert hamming_distance(\"GGACTGA\", \"GGACTGA\") == 0, \"Same string\"\n",
    "    assert hamming_distance(\"A\", \"G\") == 1, \"Differ in every place\"\n",
    "    assert hamming_distance(\"AG\", \"CT\") == 2, \"Differ in every place\"\n",
    "    assert hamming_distance(\"AT\", \"CT\") == 1, \"Differ in first place\"\n",
    "    assert hamming_distance(\"GGACG\", \"GGTCG\") == 1, \"Differ in third place\"\n",
    "    assert hamming_distance(\"ggACG\", \"GGtCG\") == 1, \"Differ in third place\"\n",
    "    assert hamming_distance(\"GGACG\", \"ggtCG\") == 1, \"Differ in third place\"\n",
    "    assert hamming_distance(\"ACCAGGG\", \"ACTATGG\") == 2, \"Differ in two places\"\n",
    "    assert hamming_distance(\"AAG\", \"AAA\") == 1, \"Differ in third place\"\n",
    "    assert hamming_distance(\"AAA\", \"AAG\") == 1, \"Differ in third place\"\n",
    "    assert hamming_distance(\"TAG\", \"GAT\") == 2, \"Differ in first and third place\"\n",
    "    assert hamming_distance(\"GATACA\", \"GCATAA\") == 4, \"Differ in four places\"\n",
    "    assert hamming_distance(\"GGACGGATTCTG\", \"AGGACGGATTCT\") == 9, \"Differ in nine places\"\n",
    "\n",
    "    print('Success')\n",
    "\n",
    "test_hamming()"
   ]
  },
  {
   "cell_type": "markdown",
   "metadata": {},
   "source": [
    "<div class=\"alert alert-block alert-danger\">\n",
    "Run the Unit Test below to see if you can raise an Exception.\n",
    "\"If the strings have different lengths, your function should throw an ValueError exception with text describing the problem in your own words\"\n",
    "</div>"
   ]
  },
  {
   "cell_type": "code",
   "execution_count": 8,
   "metadata": {},
   "outputs": [
    {
     "name": "stdout",
     "output_type": "stream",
     "text": [
      "Success\n"
     ]
    }
   ],
   "source": [
    "# Test Case for Raising an Exception\n",
    "#\n",
    "# Your function should throw an ValueError exception if the strings have different lengths\n",
    "#\n",
    "# If you don't, I will\n",
    "#\n",
    "try:\n",
    "    hamming_distance(\"AATG\", \"AAA\")\n",
    "    assert 1 == 2, \"You were supposed to raise an Exception!\"\n",
    "except ValueError:\n",
    "    print(\"Success\")\n",
    "except:\n",
    "    assert 1 == 2, \"You were supposed to raise an ValueError Exception!\""
   ]
  },
  {
   "cell_type": "markdown",
   "metadata": {
    "collapsed": true
   },
   "source": [
    "## Problem 4: Find reversals in Words.txt\n",
    "\n",
    "### Write a program that finds the reversals in Downey's word list.\n",
    "\n",
    "Returns a list representing each word in the file whose reverse is also in the file.\n",
    "\n",
    "Each pair, such as 'abut', 'tuba', should be represented by the first element encountered. \n",
    "\n",
    "Don't report the same pairs twice, and don't list palindromes.\n",
    "\n",
    "```python\n",
    "    def find_reversals_in_file(fileName: str) -> List[str]:\n",
    "```\n",
    "\n",
    "### If you try to open a file that does not exist, you should catch a FileNotFoundError and print an error message in your own words"
   ]
  },
  {
   "cell_type": "markdown",
   "metadata": {},
   "source": [
    "<div class=\"alert alert-block alert-info\">\n",
    "Fill in your function definition in the cell below.\n",
    "</div>"
   ]
  },
  {
   "cell_type": "code",
   "execution_count": 9,
   "metadata": {},
   "outputs": [],
   "source": [
    "from typing import List\n",
    "\n",
    "def find_reversals_in_file(filename: str) -> List[str]:\n",
    "    \"Return a list with the a representative of each pair of reversed element, such as abut and tuba\"\n",
    "    try: \n",
    "        result = []\n",
    "        with open(filename, 'r') as file:\n",
    "            ## Turn the words in the file into a word list \n",
    "            words = []\n",
    "            for line in file:\n",
    "                line = line.strip()\n",
    "                words.append(line)\n",
    "            ## Remove palindromes to shorten the list \n",
    "            for word in words: \n",
    "                if word == word[::-1]:\n",
    "                    words.remove(word)\n",
    "            ## Check if the reversed is also in the text file \n",
    "            for word in words: \n",
    "                if word[::-1] in words: \n",
    "                    result.append(word)\n",
    "                    words.remove(word)\n",
    "                    words.remove(word[::-1])\n",
    "    except FileNotFoundError: \n",
    "        print(f\"The file {filename} is unavailable to the program!\")\n",
    "    return result"
   ]
  },
  {
   "cell_type": "markdown",
   "metadata": {},
   "source": [
    "<div class=\"alert alert-block alert-info\">\n",
    "Call your function in the cell below.  You may change the path to point to your copy of words.txt\n",
    "</div>"
   ]
  },
  {
   "cell_type": "code",
   "execution_count": 10,
   "metadata": {},
   "outputs": [
    {
     "name": "stdout",
     "output_type": "stream",
     "text": [
      "There were 397 reversals\n",
      "abut\n",
      "ad\n",
      "ados\n",
      "agar\n",
      "agas\n",
      "agenes\n",
      "ah\n",
      "aider\n",
      "airts\n",
      "ajar\n"
     ]
    }
   ],
   "source": [
    "# Call your function here\n",
    "lst = find_reversals_in_file(\"words.txt\")\n",
    "\n",
    "print(f\"There were {len(lst)} reversals\")\n",
    "\n",
    "for word in lst[:10]:\n",
    "    print(word)"
   ]
  },
  {
   "cell_type": "markdown",
   "metadata": {},
   "source": [
    "<div class=\"alert alert-block alert-info\">\n",
    "Call your function on a file that doesn't exist\n",
    "    You should catch the exception and print a message in your own words\n",
    "</div>"
   ]
  },
  {
   "cell_type": "code",
   "execution_count": 11,
   "metadata": {},
   "outputs": [
    {
     "name": "stdout",
     "output_type": "stream",
     "text": [
      "The file mxyzptlk.txt is unavailable to the program!\n"
     ]
    }
   ],
   "source": [
    "# Call your function here on a file that doesn't exist\n",
    "# You should catch the exception and print your own useful error message\n",
    "#\n",
    "lst = find_reversals_in_file(\"mxyzptlk.txt\")"
   ]
  },
  {
   "cell_type": "markdown",
   "metadata": {},
   "source": [
    "## Problem 5: Digital Detective\n",
    "\n",
    "*Last year we asked the following problem:*\n",
    "\n",
    "### Sum of Two\n",
    "\n",
    "Write a function that takes an integer target k and a list of integers, and decides if you can represent k as the sum of two different numbers in the list. \n",
    "\n",
    "```python\n",
    "    def sum_of_two(k: int, lst : List[int]) -> bool:\n",
    "```\n",
    "\n",
    "#### Examples:\n",
    "\n",
    "```python\n",
    "sum_of_two(17, [1, 15, 3, 4, 5, 6, 7, 2]) \n",
    "```\n",
    "returns True, as 17 = 15 + 2\n",
    "\n",
    "```python\n",
    "sum_of_two(4, [1, 2])\n",
    "```\n",
    "returns False, as you cannot reuse the 2, and 4 is not 2 + 1."
   ]
  },
  {
   "cell_type": "markdown",
   "metadata": {},
   "source": [
    "### Digital Detective \n",
    "\n",
    "Below is function sum_of_two that passes the test cases but has logic issues and would be simpler if we replaced the 'while' loop with a 'for' loop.  \n",
    "\n",
    "Fix the 3 syntax errors and rewrite the code, replacing the while loop with a for loop.  Add some print statements to help you follow what is going on.\n",
    "\n",
    "In your submission add comments to explain what the algorithm is doing.  \n",
    "\n",
    "There is a bug in the code.  Can you come up with a test case where the algorithm fails?  "
   ]
  },
  {
   "cell_type": "code",
   "execution_count": 12,
   "metadata": {},
   "outputs": [],
   "source": [
    "def sum_of_two(k, lst):\n",
    "    \"Can we represent k as the sum of two distinct numbers in lst?\"\n",
    "    i = 0\n",
    "    j = len(lst) - 1\n",
    "    sum = []\n",
    "    while i < j:\n",
    "        sum = lst[i] + lst[j]\n",
    "        if sum == k: \n",
    "            return True\n",
    "        elif sum < k:\n",
    "            i += 1\n",
    "        else:\n",
    "            j -= 1\n",
    "    return False "
   ]
  },
  {
   "cell_type": "markdown",
   "metadata": {},
   "source": [
    "<div class=\"alert alert-block alert-info\">\n",
    "When you fix the syntax errors, the function will pass all my tests\n",
    "</div>"
   ]
  },
  {
   "cell_type": "code",
   "execution_count": 13,
   "metadata": {},
   "outputs": [
    {
     "name": "stdout",
     "output_type": "stream",
     "text": [
      "Sucess\n"
     ]
    }
   ],
   "source": [
    "def test_sum():\n",
    "    assert not sum_of_two(0, []), \"Empty List\"\n",
    "    assert not sum_of_two(3, [3]), \"Singleton list\"\n",
    "    assert sum_of_two(3, [1, 2]), \"3 = 1 + 2\"\n",
    "    assert sum_of_two(17, [10, 15, 3, 7]),  \"17 = 10 + 7\"\n",
    "    assert sum_of_two(4, [1, 2, 5, 2]), \"4 = 2 + 2\"\n",
    "    assert sum_of_two(4, [0, 1, 2, 4]), \"4 = 0 + 4\"\n",
    "    assert sum_of_two(4, [4, 2, 1, 0]), \"4 = 4 + 0\"\n",
    "    assert sum_of_two(17, [1, 15, 3, 4, 5, 6, 7, 2]), \"17 = 15 + 2\"\n",
    "\n",
    "    assert not sum_of_two(17, [10, 15, 4, 8]), \"Cannot write 17 as sum of elements\"\n",
    "    assert not sum_of_two(4, [1, 2]), \"Can't use the same 2 twice\"\n",
    "\n",
    "    print('Sucess')\n",
    "\n",
    "test_sum()"
   ]
  },
  {
   "cell_type": "markdown",
   "metadata": {},
   "source": [
    "<div class=\"alert alert-block alert-info\">\n",
    "Rewrite the function, replacing the while loop with a for loop, and cleaning up the syntax errors.  \n",
    "\n",
    "Show that it still passes the Unit Tests\n",
    "</div>"
   ]
  },
  {
   "cell_type": "code",
   "execution_count": 14,
   "metadata": {},
   "outputs": [],
   "source": [
    "# def sum_of_two(k: int, num_list: List[int]) -> bool: \n",
    "#     \"Can we represent k as the sum of two distinct numbers in lst?\"\n",
    "#     print(\"num_list:\", num_list)\n",
    "#     for i, num in enumerate(num_list): \n",
    "#         print(i, num)\n",
    "#         diff = k - num\n",
    "#         print(\"diff\", diff)\n",
    "#         del num_list[i]\n",
    "#         ## To remove the number that has been used once \n",
    "#         for \n",
    "#         if (diff in num_list[0:i]) or (diff in num_list[i+1:]): \n",
    "#             print(num_list[0:i])\n",
    "#             print(num_list[i+1:])\n",
    "#             return True \n",
    "#         else: \n",
    "#             return False\n",
    "\n",
    "def sum_of_two(k, lst):\n",
    "    \"Can we represent k as the sum of two distinct numbers in lst?\"\n",
    "#     i = 0\n",
    "    j = len(lst) - 1\n",
    "    sum = []\n",
    "#     while i < j:\n",
    "    for i in range(0, j): \n",
    "#     for i, j in zip(range(x), range(y)):\n",
    "        sum = lst[i] + lst[j]\n",
    "        if sum == k: \n",
    "            return True\n",
    "        elif sum < k:\n",
    "            i += 1\n",
    "        else:\n",
    "            j -= 1\n",
    "    return False \n"
   ]
  },
  {
   "cell_type": "markdown",
   "metadata": {},
   "source": [
    "<div class=\"alert alert-block alert-info\">\n",
    "Run the Unit Tests\n",
    "</div>"
   ]
  },
  {
   "cell_type": "code",
   "execution_count": 15,
   "metadata": {},
   "outputs": [
    {
     "name": "stdout",
     "output_type": "stream",
     "text": [
      "Sucess\n"
     ]
    }
   ],
   "source": [
    "test_sum()"
   ]
  },
  {
   "cell_type": "markdown",
   "metadata": {},
   "source": [
    "<div class=\"alert alert-block alert-info\">\n",
    "The original algorithm has a problem that we will discuss.  \n",
    "    \n",
    "That is, there is an array and a target that fools the algorithm.\n",
    "</div>"
   ]
  },
  {
   "cell_type": "markdown",
   "metadata": {},
   "source": [
    "# Post Mortem"
   ]
  },
  {
   "cell_type": "markdown",
   "metadata": {},
   "source": [
    "How long did it take you to solve this problem set?\n",
    "\n",
    "Did anything confuse you or cause difficulty?"
   ]
  },
  {
   "cell_type": "code",
   "execution_count": 16,
   "metadata": {},
   "outputs": [],
   "source": [
    "# Enter your thoughts\n",
    "## 5 hours and 32 minutes\n",
    "## Last problem bugged me "
   ]
  },
  {
   "cell_type": "code",
   "execution_count": null,
   "metadata": {},
   "outputs": [],
   "source": []
  }
 ],
 "metadata": {
  "kernelspec": {
   "display_name": "Python 3",
   "language": "python",
   "name": "python3"
  },
  "language_info": {
   "codemirror_mode": {
    "name": "ipython",
    "version": 3
   },
   "file_extension": ".py",
   "mimetype": "text/x-python",
   "name": "python",
   "nbconvert_exporter": "python",
   "pygments_lexer": "ipython3",
   "version": "3.8.8"
  }
 },
 "nbformat": 4,
 "nbformat_minor": 1
}
