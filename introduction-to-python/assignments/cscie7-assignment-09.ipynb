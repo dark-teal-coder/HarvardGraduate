{
 "cells": [
  {
   "cell_type": "markdown",
   "metadata": {},
   "source": [
    "# Homework 9\n",
    "\n",
    "## 2021"
   ]
  },
  {
   "cell_type": "code",
   "execution_count": 1,
   "metadata": {},
   "outputs": [],
   "source": [
    "first_name = \"PREESA\"\n",
    "last_name = \"SAEWONG\"\n",
    "nick_name = \"REE\"\n",
    "\n",
    "assert(len(first_name) != 0)\n",
    "assert(len(last_name)  != 0)\n",
    "assert(len(nick_name)  != 0)"
   ]
  },
  {
   "cell_type": "markdown",
   "metadata": {},
   "source": [
    "# 1) Point\n",
    "\n",
    "Modify class Point defined below to provide working versions of __str__() and __eq__().\n",
    "\n",
    "Edit the class so that two Points with the same x and y are the same, and so that points are printed as tuples.\n",
    "\n",
    "## Printing\n",
    "\n",
    "```python\n",
    "one = Point(3, 4)\n",
    "print(one)\n",
    "```\n",
    "### Should produce:\n",
    "```python\n",
    "(3, 4)\n",
    "```\n",
    "\n",
    "## Double Equals\n",
    "\n",
    "```python\n",
    "one = Point(3, 4)\n",
    "two = Point(3, 4)\n",
    "print(one == two)\n",
    "```\n",
    "### Should produce:\n",
    "```python\n",
    "True\n",
    "```"
   ]
  },
  {
   "cell_type": "code",
   "execution_count": 2,
   "metadata": {},
   "outputs": [],
   "source": [
    "class Point(object):\n",
    "    \"\"\"Represents a point in 2-D space.\"\"\"\n",
    "\n",
    "    def __init__(self, x, y):\n",
    "        self.x = x\n",
    "        self.y = y\n",
    "\n",
    "    def __str__(self):\n",
    "        \"\"\"Return string representation of the object\"\"\"\n",
    "        return f\"({self.x}, {self.y})\"\n",
    "    \n",
    "    def __eq__(self, other):\n",
    "        \"\"\"Check if the two objects are same\"\"\"\n",
    "        return self.x == other.x and self.y == other.y"
   ]
  },
  {
   "cell_type": "markdown",
   "metadata": {},
   "source": [
    "## Unit Test for Point"
   ]
  },
  {
   "cell_type": "code",
   "execution_count": 3,
   "metadata": {},
   "outputs": [
    {
     "name": "stdout",
     "output_type": "stream",
     "text": [
      "Success!\n"
     ]
    }
   ],
   "source": [
    "def test_point():\n",
    "    p = Point(3, 4)\n",
    "    q = Point(3, 4)\n",
    "\n",
    "    assert p.__str__() == '(3, 4)', \"Should yield (3 4)\"\n",
    "    assert not p is q\n",
    "    assert p == q, \"Should be equal\"\n",
    "\n",
    "    q = Point(4, 3)\n",
    "    assert not p == q\n",
    "    \n",
    "    print('Success!')\n",
    "    \n",
    "test_point()"
   ]
  },
  {
   "cell_type": "markdown",
   "metadata": {},
   "source": [
    "# 2) Collatz sequence\n",
    "\n",
    "The Collatz sequence, also know as the Hailstone sequence, is a sequence of numbers.\n",
    "\n",
    "If the current number is n, the next number is n / 2 if n is even, and 3n + 1 if n is odd. \n",
    "\n",
    "It has not been shown that there isn't a sequence which never repeats.  \n",
    "All known sequences end by repeating 4, 2, 1, 4, 2, 1, ...   \n",
    "\n",
    "Write a generator collatz(n) **that starts at n** and generates the rest of the sequence down to 1.  \n",
    "Your generator should raise a StopIteration exception after yielding 1.  "
   ]
  },
  {
   "cell_type": "code",
   "execution_count": 4,
   "metadata": {},
   "outputs": [],
   "source": [
    "def collatz(n: int):\n",
    "    \"\"\"Generate the next term in the Collatz sequence\"\"\"\n",
    "    ## 1st time: \n",
    "    ## yield n\n",
    "    ## 2nd time: \n",
    "    ## yield int(n / 2) if (n % 2 == 0) else (n * 3 + 1)\n",
    "    ## 3rd time: \n",
    "    ## yield int(n / 2) if (n % 2 == 0) else (n * 3 + 1)\n",
    "    ## Last time:\n",
    "    ## yield n = 1\n",
    "    limit = 1\n",
    "    while n >= limit: \n",
    "        try: \n",
    "            yield n \n",
    "            if n == 1: raise StopIteration(\"End of the sequence!\")\n",
    "            ## Update number for the next output \n",
    "            n = int(n / 2) if (n % 2 == 0) else (n * 3 + 1)\n",
    "        except StopIteration: \n",
    "            break\n"
   ]
  },
  {
   "cell_type": "markdown",
   "metadata": {},
   "source": [
    "## Unit Tests"
   ]
  },
  {
   "cell_type": "code",
   "execution_count": 5,
   "metadata": {},
   "outputs": [
    {
     "name": "stdout",
     "output_type": "stream",
     "text": [
      "Success!\n"
     ]
    }
   ],
   "source": [
    "def test_collatz():\n",
    "    assert [n for n in collatz(4)] == [4, 2, 1]\n",
    "    assert [n for n in collatz(11)] == [11, 34, 17, 52, 26, 13, 40, 20, 10, 5, 16, 8, 4, 2, 1]\n",
    "    assert [n for n in collatz(29)] == [29, 88, 44, 22, 11, 34, 17, 52, 26, 13, 40, 20, 10, 5, 16, 8, 4, 2, 1]\n",
    "    print('Success!')\n",
    "    \n",
    "test_collatz()"
   ]
  },
  {
   "cell_type": "markdown",
   "metadata": {},
   "source": [
    "# 3) Next Month\n",
    "\n",
    "Write a generator that will return a sequence of month names.  Thus\n",
    "\n",
    "    gen = next_month('October')\n",
    "    \n",
    "should create a generator that yields the strings 'November', 'December', 'January' and so on.  \n",
    "If the caller supplies an illegal month name, your function should raise a ValueError exception with text explaining the problem.  "
   ]
  },
  {
   "cell_type": "code",
   "execution_count": 8,
   "metadata": {},
   "outputs": [],
   "source": [
    "month_names = ['January', 'February', 'March', 'April', 'May', 'June',\n",
    "                'July', 'August', 'September', 'October', 'November', 'December']\n",
    "\n",
    "def next_month(name: str) -> str:\n",
    "    \"\"\"This generator outputs a stream of the following months\"\"\"\n",
    "    global month_names\n",
    "    count = 0\n",
    "    ## Data cleansing - spaces and cases \n",
    "    name = name.strip().title()\n",
    "    ## Exception handling \n",
    "    if name not in month_names: raise ValueError(\"Month name isn't correct!\")\n",
    "    ## The month list has only 12 items and is zero-indexed \n",
    "#     index = (month_names.index(name) + 1) % 12\n",
    "    \n",
    "    while True: \n",
    "        try: \n",
    "            index = (month_names.index(name) + 1) % 12\n",
    "            yield month_names[index]\n",
    "#             if next(next_month(name)) == False: raise StopIteration(\"Reached the end!\")\n",
    "            ## Update index for the next output \n",
    "            index += 1     \n",
    "        except StopIteration: \n",
    "            break\n"
   ]
  },
  {
   "cell_type": "markdown",
   "metadata": {},
   "source": [
    "## Unit Tests"
   ]
  },
  {
   "cell_type": "code",
   "execution_count": 9,
   "metadata": {},
   "outputs": [
    {
     "ename": "AssertionError",
     "evalue": "",
     "output_type": "error",
     "traceback": [
      "\u001b[1;31m---------------------------------------------------------------------------\u001b[0m",
      "\u001b[1;31mAssertionError\u001b[0m                            Traceback (most recent call last)",
      "\u001b[1;32m<ipython-input-9-ab636fbe52c9>\u001b[0m in \u001b[0;36m<module>\u001b[1;34m\u001b[0m\n\u001b[0;32m      8\u001b[0m     \u001b[0mprint\u001b[0m\u001b[1;33m(\u001b[0m\u001b[1;34m'Success!'\u001b[0m\u001b[1;33m)\u001b[0m\u001b[1;33m\u001b[0m\u001b[1;33m\u001b[0m\u001b[0m\n\u001b[0;32m      9\u001b[0m \u001b[1;33m\u001b[0m\u001b[0m\n\u001b[1;32m---> 10\u001b[1;33m \u001b[0mtest_months\u001b[0m\u001b[1;33m(\u001b[0m\u001b[1;33m)\u001b[0m\u001b[1;33m\u001b[0m\u001b[1;33m\u001b[0m\u001b[0m\n\u001b[0m",
      "\u001b[1;32m<ipython-input-9-ab636fbe52c9>\u001b[0m in \u001b[0;36mtest_months\u001b[1;34m()\u001b[0m\n\u001b[0;32m      2\u001b[0m     \u001b[0mgen\u001b[0m \u001b[1;33m=\u001b[0m \u001b[0mnext_month\u001b[0m\u001b[1;33m(\u001b[0m\u001b[1;34m'October'\u001b[0m\u001b[1;33m)\u001b[0m\u001b[1;33m\u001b[0m\u001b[1;33m\u001b[0m\u001b[0m\n\u001b[0;32m      3\u001b[0m     \u001b[0mlst\u001b[0m \u001b[1;33m=\u001b[0m \u001b[1;33m[\u001b[0m\u001b[0mnext\u001b[0m\u001b[1;33m(\u001b[0m\u001b[0mgen\u001b[0m\u001b[1;33m)\u001b[0m \u001b[1;32mfor\u001b[0m \u001b[0mi\u001b[0m \u001b[1;32min\u001b[0m \u001b[0mrange\u001b[0m\u001b[1;33m(\u001b[0m\u001b[1;36m15\u001b[0m\u001b[1;33m)\u001b[0m\u001b[1;33m]\u001b[0m\u001b[1;33m\u001b[0m\u001b[1;33m\u001b[0m\u001b[0m\n\u001b[1;32m----> 4\u001b[1;33m     \u001b[1;32massert\u001b[0m\u001b[1;33m(\u001b[0m\u001b[0mlst\u001b[0m \u001b[1;33m==\u001b[0m \u001b[1;33m[\u001b[0m\u001b[1;34m'November'\u001b[0m\u001b[1;33m,\u001b[0m \u001b[1;34m'December'\u001b[0m\u001b[1;33m,\u001b[0m \u001b[1;34m'January'\u001b[0m\u001b[1;33m,\u001b[0m \u001b[1;34m'February'\u001b[0m\u001b[1;33m,\u001b[0m \u001b[1;34m'March'\u001b[0m\u001b[1;33m,\u001b[0m \u001b[1;34m'April'\u001b[0m\u001b[1;33m,\u001b[0m \u001b[1;34m'May'\u001b[0m\u001b[1;33m,\u001b[0m \u001b[1;34m'June'\u001b[0m\u001b[1;33m,\u001b[0m \u001b[1;34m'July'\u001b[0m\u001b[1;33m,\u001b[0m \u001b[1;34m'August'\u001b[0m\u001b[1;33m,\u001b[0m \u001b[1;34m'September'\u001b[0m\u001b[1;33m,\u001b[0m \u001b[1;34m'October'\u001b[0m\u001b[1;33m,\u001b[0m \u001b[1;34m'November'\u001b[0m\u001b[1;33m,\u001b[0m \u001b[1;34m'December'\u001b[0m\u001b[1;33m,\u001b[0m \u001b[1;34m'January'\u001b[0m\u001b[1;33m]\u001b[0m\u001b[1;33m)\u001b[0m\u001b[1;33m\u001b[0m\u001b[1;33m\u001b[0m\u001b[0m\n\u001b[0m\u001b[0;32m      5\u001b[0m \u001b[1;33m\u001b[0m\u001b[0m\n\u001b[0;32m      6\u001b[0m     \u001b[0mgen\u001b[0m \u001b[1;33m=\u001b[0m \u001b[0mnext_month\u001b[0m\u001b[1;33m(\u001b[0m\u001b[1;34m'december'\u001b[0m\u001b[1;33m)\u001b[0m\u001b[1;33m\u001b[0m\u001b[1;33m\u001b[0m\u001b[0m\n",
      "\u001b[1;31mAssertionError\u001b[0m: "
     ]
    }
   ],
   "source": [
    "def test_months():\n",
    "    gen = next_month('October')\n",
    "    lst = [next(gen) for i in range(15)]\n",
    "    assert(lst == ['November', 'December', 'January', 'February', 'March', 'April', 'May', 'June', 'July', 'August', 'September', 'October', 'November', 'December', 'January'])\n",
    "    \n",
    "    gen = next_month('december')\n",
    "    assert next(gen) == 'January'\n",
    "    print('Success!')\n",
    "    \n",
    "test_months()"
   ]
  },
  {
   "cell_type": "markdown",
   "metadata": {},
   "source": [
    "### The following should raise a ValueError with text explaining the problem"
   ]
  },
  {
   "cell_type": "code",
   "execution_count": 16,
   "metadata": {},
   "outputs": [
    {
     "name": "stdout",
     "output_type": "stream",
     "text": [
      "Success!\n"
     ]
    }
   ],
   "source": [
    "try: # This should throw a Value Error\n",
    "    gen = next_month('Thermador')\n",
    "\n",
    "    m = next(gen)\n",
    "\n",
    "    print(1/0)\n",
    "except ValueError:\n",
    "    print('Success!')"
   ]
  },
  {
   "cell_type": "markdown",
   "metadata": {},
   "source": [
    "## Problem 4: Time after Time\n",
    "\n",
    "You will not write a lot of code for this problem, but it is a realistic introduction to maintaining a piece of software.  Downey's program works, but we want to make two changes.  \n",
    "\n",
    "- Downey prints time as they do in the Army: 17:30:00 hours.  We want to print that as 5:30 PM.  \n",
    "- Downey lets you define the time 25:00:00 - we want to turn over at 23:59:59 to 00:00:00.  \n",
    "\n",
    "My advice is to spend more time thinking and tracing out the logic and less time editing.  \n",
    "\n",
    "### Make a backup of the cell below before you make any changes \n",
    "\n",
    "We will want you to identify your changes, so sign everything you do \n",
    "```python\n",
    "                       # like this - jdp\n",
    "```\n",
    "### Modify Downey's Time2.py file to make the following changes.\n",
    "\n",
    "A) Rewrite the dunder str() method used to print the time.  It currently prints Time(17, 30, 0) as\n",
    "\n",
    "```python\n",
    "    17:30:00\n",
    "```            \n",
    "       \n",
    "Modify it to return \n",
    "\n",
    "```python\n",
    "    5:30 PM\n",
    "```   \n",
    "\n",
    "Hours are numbers between 1 and 12 inclusive, seconds are suppressed, and times end with AM or PM.  Midnight is AM, while noon is PM.  \n",
    "\n",
    "\n",
    "B) Time2.py currently allows you to create times with hours greater than 23.  Modify the class to keep hours less than 24.  \n",
    "\n",
    "C) Sign each change you made with a comment, and provide a list below of the changes you made.  \n",
    "\n",
    "D) Include the tests you have used to verify your changes.\n",
    "\n",
    "Run the unit tests: all times should be within 24 hours\n",
    "\n",
    "### Make your changes in the cell below\n",
    "#### Be sure to make a backup and be sure to sign all your changes"
   ]
  },
  {
   "cell_type": "code",
   "execution_count": 11,
   "metadata": {},
   "outputs": [],
   "source": [
    "\"\"\"\n",
    "  \n",
    "Code example from Think Python, by Allen B. Downey.\n",
    "Available from http://thinkpython.com\n",
    "\n",
    "Copyright 2012 Allen B. Downey.\n",
    "Distributed under the GNU General Public License at gnu.org/licenses/gpl.html.\n",
    "\n",
    "\"\"\"\n",
    "\n",
    "class Time(object):\n",
    "    \"\"\"Represents the time of day.\n",
    "\n",
    "    attributes: hour, minute, second\n",
    "    \"\"\"\n",
    "    def __init__(self, hour=0, minute=0, second=0):\n",
    "        self.hour = hour\n",
    "        self.minute = minute\n",
    "        self.second = second\n",
    "        assert self.is_valid()\n",
    "\n",
    "    ## Part A \n",
    "    def __str__(self):\n",
    "#         half_day, r_hour = divmod(self.hour, 12)\n",
    "#         self.hour = r_hour\n",
    "#         if half_day % 2 == 0: \n",
    "#             am_pm = 'PM'\n",
    "#         else: \n",
    "#             am_pm = 'AM'\n",
    "#         if r_hour == 0: \n",
    "#             self.hour = 12 \n",
    "#         elif self.hour >= 13 and self.hour <= 23: \n",
    "#             self.hour = self.hour - 12\n",
    "        am_pm = 'AM'\n",
    "#         if self.hour >= 24: \n",
    "#             self.hour = self.hour % 24     \n",
    "        if self.hour == 0: \n",
    "            self.hour = 12\n",
    "        elif self.hour == 12: \n",
    "            am_pm = 'PM'\n",
    "        elif self.hour >= 13 and self.hour <= 23: \n",
    "            self.hour = self.hour - 12\n",
    "            am_pm = 'PM'\n",
    "        return \"{0:02d}:{1:02d} {2:s}\".format(self.hour, self.minute, am_pm) \n",
    "\n",
    "    def print_time(self):\n",
    "        print(str(self))\n",
    "\n",
    "    def time_to_int(self):\n",
    "        \"\"\"Computes the number of seconds since midnight.\"\"\"\n",
    "        minutes = self.hour * 60 + self.minute\n",
    "        seconds = minutes * 60 + self.second\n",
    "        return seconds\n",
    "\n",
    "    def is_after(self, other):\n",
    "        \"\"\"Returns True if t1 is after t2; false otherwise.\"\"\"\n",
    "        assert self.is_valid() and other.is_valid()\n",
    "        return self.time_to_int() > other.time_to_int()\n",
    "\n",
    "    def __add__(self, other):\n",
    "        \"\"\"Adds two Time objects or a Time object and a number.\n",
    "\n",
    "        other: Time object or number of seconds\n",
    "        \"\"\"\n",
    "        assert self.is_valid()\n",
    "        if isinstance(other, Time):\n",
    "            return self.add_time(other)\n",
    "        else:\n",
    "            return self.increment(other)\n",
    "\n",
    "    def __radd__(self, other):\n",
    "        \"\"\"Adds two Time objects or a Time object and a number.\"\"\"\n",
    "        return self.__add__(other)\n",
    "\n",
    "    def add_time(self, other):\n",
    "        \"\"\"Adds two time objects.\"\"\"\n",
    "        assert self.is_valid() and other.is_valid()\n",
    "        seconds = self.time_to_int() + other.time_to_int()\n",
    "        return int_to_time(seconds)\n",
    "\n",
    "    def increment(self, seconds):\n",
    "        \"\"\"Returns a new Time that is the sum of this time and seconds.\"\"\"\n",
    "        seconds += self.time_to_int()\n",
    "        return int_to_time(seconds)\n",
    "\n",
    "    ## Part B Changes: \n",
    "    def is_valid(self):\n",
    "        \"\"\"Checks whether a Time object satisfies the invariants.\"\"\"\n",
    "        if self.hour < 0 or self.minute < 0 or self.second < 0:\n",
    "            return False\n",
    "        ## Part B Original: \n",
    "        # if self.minute >= 60 or self.second >= 60:\n",
    "        ## Part B Modified: \n",
    "        if self.hour >= 24 or self.minute >= 60 or self.second >= 60:\n",
    "            return False\n",
    "        return True\n",
    "\n",
    "\n",
    "def int_to_time(seconds):\n",
    "    \"\"\"Makes a new Time object.\n",
    "\n",
    "    seconds: int seconds since midnight.\n",
    "    \"\"\"\n",
    "    minutes, second = divmod(seconds, 60)\n",
    "    hour, minute = divmod(minutes, 60)\n",
    "    time = Time(hour, minute, second)\n",
    "    return time\n"
   ]
  },
  {
   "cell_type": "markdown",
   "metadata": {},
   "source": [
    "## Test the original API"
   ]
  },
  {
   "cell_type": "code",
   "execution_count": 12,
   "metadata": {},
   "outputs": [
    {
     "name": "stdout",
     "output_type": "stream",
     "text": [
      "09:45 AM\n",
      "10:07 AM\n",
      "Is end after start? True\n",
      "Using __str__: 09:45 AM 10:07 AM\n",
      "11:20 AM\n",
      "10:07 AM\n",
      "10:07 AM\n",
      "Example of polymorphism\n",
      "11:01 PM\n"
     ]
    },
    {
     "ename": "AssertionError",
     "evalue": "",
     "output_type": "error",
     "traceback": [
      "\u001b[1;31m---------------------------------------------------------------------------\u001b[0m",
      "\u001b[1;31mAssertionError\u001b[0m                            Traceback (most recent call last)",
      "\u001b[1;32m<ipython-input-12-d6dedf428a40>\u001b[0m in \u001b[0;36m<module>\u001b[1;34m\u001b[0m\n\u001b[0;32m     32\u001b[0m     \u001b[0mprint\u001b[0m\u001b[1;33m(\u001b[0m\u001b[1;34m'Success!'\u001b[0m\u001b[1;33m)\u001b[0m\u001b[1;33m\u001b[0m\u001b[1;33m\u001b[0m\u001b[0m\n\u001b[0;32m     33\u001b[0m \u001b[1;33m\u001b[0m\u001b[0m\n\u001b[1;32m---> 34\u001b[1;33m \u001b[0mmain\u001b[0m\u001b[1;33m(\u001b[0m\u001b[1;33m)\u001b[0m\u001b[1;33m\u001b[0m\u001b[1;33m\u001b[0m\u001b[0m\n\u001b[0m",
      "\u001b[1;32m<ipython-input-12-d6dedf428a40>\u001b[0m in \u001b[0;36mmain\u001b[1;34m()\u001b[0m\n\u001b[0;32m     28\u001b[0m \u001b[1;33m\u001b[0m\u001b[0m\n\u001b[0;32m     29\u001b[0m     \u001b[1;31m# A time that is invalid\u001b[0m\u001b[1;33m\u001b[0m\u001b[1;33m\u001b[0m\u001b[1;33m\u001b[0m\u001b[0m\n\u001b[1;32m---> 30\u001b[1;33m     \u001b[0mt1\u001b[0m \u001b[1;33m=\u001b[0m \u001b[0mTime\u001b[0m\u001b[1;33m(\u001b[0m\u001b[1;36m50\u001b[0m\u001b[1;33m)\u001b[0m\u001b[1;33m\u001b[0m\u001b[1;33m\u001b[0m\u001b[0m\n\u001b[0m\u001b[0;32m     31\u001b[0m     \u001b[0mprint\u001b[0m\u001b[1;33m(\u001b[0m\u001b[0mt1\u001b[0m\u001b[1;33m)\u001b[0m\u001b[1;33m\u001b[0m\u001b[1;33m\u001b[0m\u001b[0m\n\u001b[0;32m     32\u001b[0m     \u001b[0mprint\u001b[0m\u001b[1;33m(\u001b[0m\u001b[1;34m'Success!'\u001b[0m\u001b[1;33m)\u001b[0m\u001b[1;33m\u001b[0m\u001b[1;33m\u001b[0m\u001b[0m\n",
      "\u001b[1;32m<ipython-input-11-1b936782bb26>\u001b[0m in \u001b[0;36m__init__\u001b[1;34m(self, hour, minute, second)\u001b[0m\n\u001b[0;32m     18\u001b[0m         \u001b[0mself\u001b[0m\u001b[1;33m.\u001b[0m\u001b[0mminute\u001b[0m \u001b[1;33m=\u001b[0m \u001b[0mminute\u001b[0m\u001b[1;33m\u001b[0m\u001b[1;33m\u001b[0m\u001b[0m\n\u001b[0;32m     19\u001b[0m         \u001b[0mself\u001b[0m\u001b[1;33m.\u001b[0m\u001b[0msecond\u001b[0m \u001b[1;33m=\u001b[0m \u001b[0msecond\u001b[0m\u001b[1;33m\u001b[0m\u001b[1;33m\u001b[0m\u001b[0m\n\u001b[1;32m---> 20\u001b[1;33m         \u001b[1;32massert\u001b[0m \u001b[0mself\u001b[0m\u001b[1;33m.\u001b[0m\u001b[0mis_valid\u001b[0m\u001b[1;33m(\u001b[0m\u001b[1;33m)\u001b[0m\u001b[1;33m\u001b[0m\u001b[1;33m\u001b[0m\u001b[0m\n\u001b[0m\u001b[0;32m     21\u001b[0m \u001b[1;33m\u001b[0m\u001b[0m\n\u001b[0;32m     22\u001b[0m     \u001b[1;31m## Part A\u001b[0m\u001b[1;33m\u001b[0m\u001b[1;33m\u001b[0m\u001b[1;33m\u001b[0m\u001b[0m\n",
      "\u001b[1;31mAssertionError\u001b[0m: "
     ]
    }
   ],
   "source": [
    "# Test some of the features of Class Time - jdp\n",
    "def main():    # jdp\n",
    "    start = Time(9, 45, 00)\n",
    "    start.print_time()\n",
    "\n",
    "    end = start.increment(1337)\n",
    "    end.print_time()\n",
    "\n",
    "    print('Is end after start?', end=\" \")\n",
    "    print(end.is_after(start))\n",
    "\n",
    "    # Testing __str__\n",
    "    print(f'Using __str__: {start} {end}')\n",
    "\n",
    "    # Testing addition\n",
    "    start = Time(9, 45)\n",
    "    duration = Time(1, 35)\n",
    "    print(start + duration)\n",
    "    print(start + 1337)\n",
    "    print(1337 + start)\n",
    "\n",
    "    print('Example of polymorphism')\n",
    "    t1 = Time(7, 43)\n",
    "    t2 = Time(7, 41)\n",
    "    t3 = Time(7, 37)\n",
    "    total = sum([t1, t2, t3])\n",
    "    print(total)\n",
    "\n",
    "    # A time that is invalid\n",
    "    t1 = Time(50)\n",
    "    print(t1)\n",
    "    print('Success!')\n",
    "    \n",
    "main()"
   ]
  },
  {
   "cell_type": "markdown",
   "metadata": {},
   "source": [
    "## Your tests\n",
    "\n",
    "Put your tests in the cell below.  These might be assertions, or might be simple print statements\n",
    "\n",
    "You should have at least three tests"
   ]
  },
  {
   "cell_type": "code",
   "execution_count": 13,
   "metadata": {},
   "outputs": [
    {
     "name": "stdout",
     "output_type": "stream",
     "text": [
      "06:30 PM\n",
      "Error occurred!\n"
     ]
    }
   ],
   "source": [
    "try: \n",
    "    print(Time(18, 30, 0))\n",
    "    print(Time(24, 30, 0))\n",
    "    print(Time(0))\n",
    "    print(Time(0, 0))\n",
    "    print(Time(0, 0, 0))\n",
    "except: \n",
    "    print(f\"Error occurred!\")"
   ]
  },
  {
   "cell_type": "markdown",
   "metadata": {},
   "source": [
    "## List your changes\n",
    "\n",
    "Copy the changes you made to the cell below.  This is easy to do if you have signed all your edits.\n",
    "\n",
    "If you didn't sign, refer to your backup of the original and compare line by line.  This is a good place to use a diff function.\n",
    "\n",
    "If you didn't make a backup, download the assignment again and compare the original with your version."
   ]
  },
  {
   "cell_type": "code",
   "execution_count": 14,
   "metadata": {},
   "outputs": [],
   "source": [
    "## Part A Changes: \n",
    "def __str__(self):\n",
    "    ## Part A Original: \n",
    "    # return '%.2d:%.2d:%.2d' % (self.hour, self.minute, self.second)\n",
    "    ## Part A Modified: \n",
    "    am_pm = 'AM'\n",
    "    if self.hour > 12: \n",
    "        self.hour = self.hour - 12\n",
    "        am_pm = 'AM'\n",
    "    return \"{0:d}:{1:d} {2:s}\".format(self.hour, self.minute, am_pm)\n",
    "\n",
    "## Part B Changes: \n",
    "def is_valid(self):\n",
    "    \"\"\"Checks whether a Time object satisfies the invariants.\"\"\"\n",
    "    if self.hour < 0 or self.minute < 0 or self.second < 0:\n",
    "        return False\n",
    "    ## Part B Original: \n",
    "    # if self.minute >= 60 or self.second >= 60:\n",
    "    ## Part B Modified: \n",
    "    if self.hour >= 24 or self.minute >= 60 or self.second >= 60:\n",
    "        return False\n",
    "    return True"
   ]
  },
  {
   "cell_type": "markdown",
   "metadata": {},
   "source": [
    "## More Unit Tests"
   ]
  },
  {
   "cell_type": "code",
   "execution_count": 15,
   "metadata": {},
   "outputs": [
    {
     "ename": "AssertionError",
     "evalue": "",
     "output_type": "error",
     "traceback": [
      "\u001b[1;31m---------------------------------------------------------------------------\u001b[0m",
      "\u001b[1;31mAssertionError\u001b[0m                            Traceback (most recent call last)",
      "\u001b[1;32m<ipython-input-15-35084376c7aa>\u001b[0m in \u001b[0;36m<module>\u001b[1;34m\u001b[0m\n\u001b[0;32m     27\u001b[0m     \u001b[0mprint\u001b[0m\u001b[1;33m(\u001b[0m\u001b[1;34m'Success!'\u001b[0m\u001b[1;33m)\u001b[0m\u001b[1;33m\u001b[0m\u001b[1;33m\u001b[0m\u001b[0m\n\u001b[0;32m     28\u001b[0m \u001b[1;33m\u001b[0m\u001b[0m\n\u001b[1;32m---> 29\u001b[1;33m \u001b[0mtest_time\u001b[0m\u001b[1;33m(\u001b[0m\u001b[1;33m)\u001b[0m\u001b[1;33m\u001b[0m\u001b[1;33m\u001b[0m\u001b[0m\n\u001b[0m",
      "\u001b[1;32m<ipython-input-15-35084376c7aa>\u001b[0m in \u001b[0;36mtest_time\u001b[1;34m()\u001b[0m\n\u001b[0;32m     11\u001b[0m     \u001b[1;31m# Test changes to keep time within 24 hours\u001b[0m\u001b[1;33m\u001b[0m\u001b[1;33m\u001b[0m\u001b[1;33m\u001b[0m\u001b[0m\n\u001b[0;32m     12\u001b[0m     \u001b[1;31m# We look at different ways to create a time object\u001b[0m\u001b[1;33m\u001b[0m\u001b[1;33m\u001b[0m\u001b[1;33m\u001b[0m\u001b[0m\n\u001b[1;32m---> 13\u001b[1;33m     \u001b[1;32massert\u001b[0m \u001b[0mTime\u001b[0m\u001b[1;33m(\u001b[0m\u001b[1;36m25\u001b[0m\u001b[1;33m,\u001b[0m \u001b[1;36m45\u001b[0m\u001b[1;33m,\u001b[0m \u001b[1;36m00\u001b[0m\u001b[1;33m)\u001b[0m\u001b[1;33m.\u001b[0m\u001b[0m__str__\u001b[0m\u001b[1;33m(\u001b[0m\u001b[1;33m)\u001b[0m \u001b[1;33m==\u001b[0m \u001b[1;34m'01:45 AM'\u001b[0m\u001b[1;33m\u001b[0m\u001b[1;33m\u001b[0m\u001b[0m\n\u001b[0m\u001b[0;32m     14\u001b[0m \u001b[1;33m\u001b[0m\u001b[0m\n\u001b[0;32m     15\u001b[0m     \u001b[0mt\u001b[0m \u001b[1;33m=\u001b[0m \u001b[0mTime\u001b[0m\u001b[1;33m(\u001b[0m\u001b[1;36m20\u001b[0m\u001b[1;33m,\u001b[0m \u001b[1;36m45\u001b[0m\u001b[1;33m,\u001b[0m \u001b[1;36m00\u001b[0m\u001b[1;33m)\u001b[0m \u001b[1;33m+\u001b[0m \u001b[0mTime\u001b[0m\u001b[1;33m(\u001b[0m\u001b[1;36m20\u001b[0m\u001b[1;33m,\u001b[0m \u001b[1;36m45\u001b[0m\u001b[1;33m,\u001b[0m \u001b[1;36m00\u001b[0m\u001b[1;33m)\u001b[0m\u001b[1;33m\u001b[0m\u001b[1;33m\u001b[0m\u001b[0m\n",
      "\u001b[1;32m<ipython-input-11-1b936782bb26>\u001b[0m in \u001b[0;36m__init__\u001b[1;34m(self, hour, minute, second)\u001b[0m\n\u001b[0;32m     18\u001b[0m         \u001b[0mself\u001b[0m\u001b[1;33m.\u001b[0m\u001b[0mminute\u001b[0m \u001b[1;33m=\u001b[0m \u001b[0mminute\u001b[0m\u001b[1;33m\u001b[0m\u001b[1;33m\u001b[0m\u001b[0m\n\u001b[0;32m     19\u001b[0m         \u001b[0mself\u001b[0m\u001b[1;33m.\u001b[0m\u001b[0msecond\u001b[0m \u001b[1;33m=\u001b[0m \u001b[0msecond\u001b[0m\u001b[1;33m\u001b[0m\u001b[1;33m\u001b[0m\u001b[0m\n\u001b[1;32m---> 20\u001b[1;33m         \u001b[1;32massert\u001b[0m \u001b[0mself\u001b[0m\u001b[1;33m.\u001b[0m\u001b[0mis_valid\u001b[0m\u001b[1;33m(\u001b[0m\u001b[1;33m)\u001b[0m\u001b[1;33m\u001b[0m\u001b[1;33m\u001b[0m\u001b[0m\n\u001b[0m\u001b[0;32m     21\u001b[0m \u001b[1;33m\u001b[0m\u001b[0m\n\u001b[0;32m     22\u001b[0m     \u001b[1;31m## Part A\u001b[0m\u001b[1;33m\u001b[0m\u001b[1;33m\u001b[0m\u001b[1;33m\u001b[0m\u001b[0m\n",
      "\u001b[1;31mAssertionError\u001b[0m: "
     ]
    }
   ],
   "source": [
    "def test_time():\n",
    "    # Test __str__()\n",
    "    assert Time(0, 0, 0).__str__() == '12:00 AM'\n",
    "    assert Time(0, 1, 2).__str__() == '12:01 AM'\n",
    "    assert Time(0, 1, 59).__str__() == '12:01 AM'\n",
    "    assert Time(11, 30, 59).__str__() == '11:30 AM'\n",
    "    \n",
    "    assert Time(12, 0, 3).__str__() == '12:00 PM'\n",
    "    assert Time(23, 2, 13).__str__() == '11:02 PM'\n",
    "\n",
    "    # Test changes to keep time within 24 hours\n",
    "    # We look at different ways to create a time object\n",
    "    assert Time(25, 45, 00).__str__() == '01:45 AM'\n",
    "    \n",
    "    t = Time(20, 45, 00) + Time(20, 45, 00)\n",
    "    assert t.__str__() == '05:30 PM'\n",
    "    \n",
    "    t = Time(23, 45, 00) + 72000\n",
    "    assert t.__str__() == '07:45 PM'\n",
    "    \n",
    "    t = 72000 + Time(23, 45, 00)\n",
    "    assert t.__str__() == '07:45 PM'\n",
    "    \n",
    "    assert Time(25, 45, 00).increment(72000).__str__() == '09:45 PM'\n",
    "    assert int_to_time(180000).__str__() == '02:00 AM'\n",
    "    \n",
    "    print('Success!')\n",
    "    \n",
    "test_time()"
   ]
  }
 ],
 "metadata": {
  "kernelspec": {
   "display_name": "Python 3",
   "language": "python",
   "name": "python3"
  },
  "language_info": {
   "codemirror_mode": {
    "name": "ipython",
    "version": 3
   },
   "file_extension": ".py",
   "mimetype": "text/x-python",
   "name": "python",
   "nbconvert_exporter": "python",
   "pygments_lexer": "ipython3",
   "version": "3.8.8"
  }
 },
 "nbformat": 4,
 "nbformat_minor": 2
}
