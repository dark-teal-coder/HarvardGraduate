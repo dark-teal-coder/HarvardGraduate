{
 "cells": [
  {
   "cell_type": "markdown",
   "metadata": {},
   "source": [
    "# Homework 5: Fall 2021\n",
    "## Due Oct 4, 4PM EST\n",
    "### Fill in your name"
   ]
  },
  {
   "cell_type": "code",
   "execution_count": null,
   "metadata": {},
   "outputs": [],
   "source": [
    "first_name = \"\"\n",
    "last_name = \"\"\n",
    "\n",
    "assert(len(first_name) != 0)\n",
    "assert(len(last_name) != 0)"
   ]
  },
  {
   "cell_type": "markdown",
   "metadata": {},
   "source": [
    "## Problem 1: Intersection\n",
    "Given two lists, return a list of the items that appear in both lists, in the order they appear in the first list.\n",
    "\n",
    "Given [1, 3, 2, 5, 6, 0, 7] and [7, 4, 3, 2, 1], you should return [1, 3, 2, 7]\n",
    "\n",
    "```python\n"
   ]
  },
  {
   "cell_type": "markdown",
   "metadata": {},
   "source": [
    "## Solution\n",
    "### Another case of Filtering"
   ]
  },
  {
   "cell_type": "code",
   "execution_count": null,
   "metadata": {},
   "outputs": [],
   "source": [
    "from typing import List\n",
    "# Define your function here\n",
    "\n",
    "def intersection(lst1: List, lst2: List) -> List:\n",
    "    result = []\n",
    "    for item in lst1:\n",
    "        if item in lst2:\n",
    "            # item is in both lists\n",
    "            result.append(item)\n",
    "            \n",
    "    return result"
   ]
  },
  {
   "cell_type": "code",
   "execution_count": null,
   "metadata": {},
   "outputs": [],
   "source": [
    "def test_intersection():\n",
    "    assert [1, 3, 2, 7] == intersection([1, 3, 2, 5, 6, 0, 7], [7, 4, 3, 2, 1])\n",
    "    assert [1, 2, 3, 4] == intersection([1, 2, 3, 4], [4, 3, 2, 1])\n",
    "    assert [] == intersection([], [4, 3, 2, 1])\n",
    "    assert [] == intersection([1, 2, 3, 4], [])\n",
    "\n",
    "    print('Success!')\n",
    "    \n",
    "test_intersection()"
   ]
  },
  {
   "cell_type": "markdown",
   "metadata": {},
   "source": [
    "## 2) Rotation\n",
    "\n",
    "Take a list, and 'rotate' it one step. \n",
    "\n",
    "[1, 2, 3, 4] -> [2, 3, 4, 1]"
   ]
  },
  {
   "cell_type": "markdown",
   "metadata": {},
   "source": [
    "## Student Submission"
   ]
  },
  {
   "cell_type": "code",
   "execution_count": null,
   "metadata": {},
   "outputs": [],
   "source": [
    "lst = [1, 2, 3, 4]\n",
    "\n",
    "from typing import List\n",
    "\n",
    "def rotate(lst, n):\n",
    "    if n > 0:\n",
    "        lst.insert(0, lst.pop(-1))\n",
    "        rotate(lst, n-1)\n",
    "\n",
    "rotate(lst, 1)\n",
    "print(lst)"
   ]
  },
  {
   "cell_type": "code",
   "execution_count": null,
   "metadata": {},
   "outputs": [],
   "source": [
    "def test_rotate():\n",
    "    assert [2, 3, 4, 1] == rotate([1, 2, 3, 4])\n",
    "    assert [] == rotate([])\n",
    "    assert [2] == rotate([2])\n",
    "    assert [1, 2] == rotate([2, 1])\n",
    "    assert ['two', 'three', 'one'] == rotate(['one', 'two', 'three'])\n",
    "    \n",
    "    print('Success!')\n",
    "    \n",
    "test_rotate()"
   ]
  },
  {
   "cell_type": "markdown",
   "metadata": {},
   "source": [
    "## Let's see what is going on\n",
    "\n",
    "```python\n",
    "from typing import List\n",
    "\n",
    "def rotate(lst, n):\n",
    "    if n > 0:\n",
    "        lst.insert(0, lst.pop(-1))\n",
    "        rotate(lst, n-1)\n",
    "```\n",
    "First, we don't use List: why include it?\n",
    "```python\n",
    "from typing import List\n",
    "```\n",
    "\n",
    "1) The function requires 2 parameters: ours only required 1.\n",
    "\n",
    "2) When we rotate one place, \n",
    "```\n",
    "rotate([1, 2, 3, 4], 1)\n",
    "```\n",
    "This function gives\n",
    "```\n",
    "[4, 1, 2, 3]\n",
    "```\n",
    "where we wanted to get\n",
    "```\n",
    "[2, 3, 4, 1]\n",
    "```\n",
    "3) Finally, this is a recursive routine, and a good example of Tail Recursion, which is easy to remove.\n",
    "\n",
    "It is simpler and more efficient to just iterate.  \n",
    "```python\n",
    "def rotate(lst, n):\n",
    "    for i in range(n):\n",
    "        lst.insert(0, lst.pop(-1))\n",
    "```"
   ]
  },
  {
   "cell_type": "markdown",
   "metadata": {},
   "source": [
    "## My solution"
   ]
  },
  {
   "cell_type": "code",
   "execution_count": null,
   "metadata": {},
   "outputs": [],
   "source": [
    "from typing import List\n",
    "\n",
    "def rotate(lst: List) -> List:\n",
    "    return lst[1:] + lst[:1] \n",
    "\n",
    "test_rotate()"
   ]
  },
  {
   "cell_type": "markdown",
   "metadata": {},
   "source": [
    "## Problem 3: Hamming Distance\n",
    "\n",
    "The Hamming distance between two strings is the number of places where the strings don't agree. \n",
    "\n",
    "We consider 'A' and 'a' to be the same letter. \n",
    "\n",
    "\n",
    "```python\n",
    "    def hamming_distance(word1: str, word2: str) -> int:\n",
    "```\n",
    "\n",
    "### Examples:\n",
    "\n",
    "\n",
    "\n",
    "```python\n",
    "hamming_distance('sugar', 'spice') = 4\n",
    "```\n",
    "as the two strings differ in every spot but the first.\n",
    "\n",
    "```python\n",
    "hamming_distance(\"GGACG\", \"GGTCG\") == 1\n",
    "```\n",
    "as the two strings only differ in the third place: A != T.\n",
    "\n",
    "```python\n",
    "hamming_distance(\"tag\", \"GAT\") == 2\n",
    "```\n",
    "as the strings differ in the first and third place.  We treat 'a' and 'A' as equal.  \n",
    "\n",
    "```python\n",
    "hamming_distance(\"hot\", \"cold\") \n",
    "```\n",
    "is not defined, as the strings have different lengths. Raise an Exception.  \n",
    "\n",
    "### If the strings have different lengths, your function should throw an ValueError exception with text describing the problem in your own words    "
   ]
  },
  {
   "cell_type": "markdown",
   "metadata": {},
   "source": [
    "<div class=\"alert alert-block alert-info\">\n",
    "Fill in your function definition in the cell below.\n",
    "</div>"
   ]
  },
  {
   "cell_type": "code",
   "execution_count": null,
   "metadata": {},
   "outputs": [],
   "source": [
    "# Return the number of differences \n",
    "# Takes two strings, return non-negative integer\n",
    "# Throws ValueError if the strings have different length\n",
    "#\n",
    "def hamming_distance(strand_a, strand_b):\n",
    "    if len(strand_a) != len(strand_b):\n",
    "        raise ValueError(f'Strings {strand_a}, {strand_b} should have the same length')\n",
    "        \n",
    "    count = 0\n",
    "    strand_a = strand_a.lower()\n",
    "    strand_b = strand_b.lower()\n",
    "     \n",
    "    for pos, val in enumerate(strand_a):\n",
    "        if strand_b[pos] != val:\n",
    "            count = count + 1\n",
    "    return count"
   ]
  },
  {
   "cell_type": "code",
   "execution_count": null,
   "metadata": {},
   "outputs": [],
   "source": [
    "# Return the number of differences \n",
    "# Takes two strings, return non-negative integer\n",
    "# Throws ValueError if the strings have different length\n",
    "#\n",
    "def hamming_distance(strand_a, strand_b):\n",
    "    if len(strand_a) != len(strand_b):\n",
    "        raise ValueError(f'Strings {strand_a}, {strand_b} should have the same length')\n",
    "        \n",
    "    count = 0\n",
    "    strand_a = strand_a.lower()\n",
    "    strand_b = strand_b.lower()\n",
    "     \n",
    "    for pos in range(len(strand_a)):   \n",
    "        if strand_a[pos] != strand_b[pos]:\n",
    "            count = count + 1\n",
    "            \n",
    "    return count"
   ]
  },
  {
   "cell_type": "code",
   "execution_count": null,
   "metadata": {},
   "outputs": [],
   "source": [
    "hamming_distance(\"AATG\", \"AAA\")"
   ]
  },
  {
   "cell_type": "markdown",
   "metadata": {},
   "source": [
    "<div class=\"alert alert-block alert-danger\">\n",
    "Run the Unit Tests below\n",
    "</div>"
   ]
  },
  {
   "cell_type": "code",
   "execution_count": null,
   "metadata": {},
   "outputs": [],
   "source": [
    "### Test case for hamming_distance()\n",
    "\n",
    "def test_hamming():\n",
    "    assert hamming_distance(\"A\", \"A\") == 0, \"Same string\"\n",
    "    assert hamming_distance(\"GGACTGA\", \"GGACTGA\") == 0, \"Same string\"\n",
    "    assert hamming_distance(\"A\", \"G\") == 1, \"Differ in every place\"\n",
    "    assert hamming_distance(\"AG\", \"CT\") == 2, \"Differ in every place\"\n",
    "    assert hamming_distance(\"AT\", \"CT\") == 1, \"Differ in first place\"\n",
    "    assert hamming_distance(\"GGACG\", \"GGTCG\") == 1, \"Differ in third place\"\n",
    "    assert hamming_distance(\"ggACG\", \"GGtCG\") == 1, \"Differ in third place\"\n",
    "    assert hamming_distance(\"GGACG\", \"ggtCG\") == 1, \"Differ in third place\"\n",
    "    assert hamming_distance(\"ACCAGGG\", \"ACTATGG\") == 2, \"Differ in two places\"\n",
    "    assert hamming_distance(\"AAG\", \"AAA\") == 1, \"Differ in third place\"\n",
    "    assert hamming_distance(\"AAA\", \"AAG\") == 1, \"Differ in third place\"\n",
    "    assert hamming_distance(\"TAG\", \"GAT\") == 2, \"Differ in first and third place\"\n",
    "    assert hamming_distance(\"GATACA\", \"GCATAA\") == 4, \"Differ in four places\"\n",
    "    assert hamming_distance(\"GGACGGATTCTG\", \"AGGACGGATTCT\") == 9, \"Differ in nine places\"\n",
    "\n",
    "    print('Success')\n",
    "\n",
    "test_hamming()"
   ]
  },
  {
   "cell_type": "markdown",
   "metadata": {},
   "source": [
    "<div class=\"alert alert-block alert-danger\">\n",
    "Run the Unit Test below to see if you can raise an Exception.\n",
    "\"If the strings have different lengths, your function should throw an ValueError exception with text describing the problem in your own words\"\n",
    "</div>"
   ]
  },
  {
   "cell_type": "code",
   "execution_count": null,
   "metadata": {},
   "outputs": [],
   "source": [
    "# Test Case for Raising an Exception\n",
    "#\n",
    "# Your function should throw an ValueError exception if the strings have different lengths\n",
    "#\n",
    "# If you don't, I will\n",
    "#\n",
    "try:\n",
    "    hamming_distance(\"AATG\", \"AAA\")\n",
    "    assert 1 == 2, \"You were supposed to raise an Exception!\"\n",
    "except ValueError:\n",
    "    print(\"Success\")\n",
    "except:\n",
    "    assert 1 == 2, \"You were supposed to raise an ValueError Exception!\""
   ]
  },
  {
   "cell_type": "markdown",
   "metadata": {
    "collapsed": true
   },
   "source": [
    "## Problem 4: Find reversals in Words.txt\n",
    "\n",
    "### Write a program that finds the reversals in Downey's word list.\n",
    "\n",
    "Returns a list representing each word in the file whose reverse is also in the file.\n",
    "\n",
    "Each pair, such as 'abut', 'tuba', should be represented by the first element encountered. \n",
    "\n",
    "Don't report the same pairs twice, and don't list palindromes.\n",
    "\n",
    "```python\n",
    "    def find_reversals_in_file(fileName: str) -> List[str]:\n",
    "```\n",
    "\n",
    "### If you try to open a file that does not exist, you should catch a FileNotFoundError and print an error message in your own words"
   ]
  },
  {
   "cell_type": "markdown",
   "metadata": {},
   "source": [
    "<div class=\"alert alert-block alert-info\">\n",
    "Fill in your function definition in the cell below.\n",
    "</div>"
   ]
  },
  {
   "cell_type": "markdown",
   "metadata": {},
   "source": [
    "## Student Submission"
   ]
  },
  {
   "cell_type": "code",
   "execution_count": null,
   "metadata": {},
   "outputs": [],
   "source": [
    "def find_reversals_in_file(filename):\n",
    "    res = []   #start an empty list to collect results\n",
    "    try:\n",
    "        with open(filename, 'r') as words_from_file:\n",
    "            for line in words_from_file:\n",
    "                if line[::-1] in words_from_file:\n",
    "                    print(line[::-1])\n",
    "            return res\n",
    "    except:    #exception if file cannot be opened\n",
    "        print(f\"Could not open the file '{filename}'\")\n",
    "\n",
    "\n",
    "# Call your function here\n",
    "lst = find_reversals_in_file(\"../../Programs/words.txt\")\n",
    "\n",
    "print(f\"There were {len(lst)} reversals\")\n",
    "\n",
    "for word in lst[:10]:\n",
    "    print(word)"
   ]
  },
  {
   "cell_type": "markdown",
   "metadata": {},
   "source": [
    "## What is going on?\n",
    "```python\n",
    "if line[::-1] in words_from_file:\n",
    "```\n",
    "I can ask if something is in a string or in a list.  They are \"Randomly Accessible\".  \n",
    "But a file is \"Sequentially Accessible\" like a deck of cards: we can only see one card at a time"
   ]
  },
  {
   "cell_type": "markdown",
   "metadata": {},
   "source": [
    "## New submission"
   ]
  },
  {
   "cell_type": "code",
   "execution_count": null,
   "metadata": {},
   "outputs": [],
   "source": [
    "def find_reversals_in_file(filename):\n",
    "            \n",
    "    reversals = []        \n",
    "    try: \n",
    "        f = open(filename)\n",
    "        words = f.readlines() \n",
    "        f.close()  \n",
    "        \n",
    "        for i in range(len(words)):      \n",
    "            word = words[i].strip()             \n",
    "            reverse = word[::-1]            \n",
    "            if word != reverse and word not in reversals and reverse not in reversals:\n",
    "                if reverse in words:                    \n",
    "                    reversals.append(word)\n",
    "    except FileNotFoundError:        \n",
    "        print(f\"File {filename} Not Found\")        \n",
    "        \n",
    "    return reversals\n",
    "\n",
    "lst = find_reversals_in_file('short.txt')\n",
    "print(f\"{lst = }\")"
   ]
  },
  {
   "cell_type": "markdown",
   "metadata": {},
   "source": [
    "## Comments on\n",
    "```python\n",
    "    except:        \n",
    "        print(\"File Not Found\")        \n",
    "        raise FileNotFoundError\n",
    "```\n",
    "First, you don't know what the error is.  Could be FileNotFound, but could be protection issue\n",
    "\n",
    "Second, this is your own words, but you now so much more!  Tell the user what filename you were looking for.\n",
    "\n",
    "## But what is going on?"
   ]
  },
  {
   "cell_type": "code",
   "execution_count": null,
   "metadata": {},
   "outputs": [],
   "source": [
    "def find_reversals_in_file(filename):\n",
    "            \n",
    "    reversals = []        \n",
    "    try: \n",
    "        f = open(filename)\n",
    "        words = f.readlines()        \n",
    "        f.close()  \n",
    "        \n",
    "        for i in range(len(words)):      \n",
    "            word = words[i].strip()             \n",
    "            reverse = word[::-1]            \n",
    "            if word != reverse and word not in reversals and reverse not in reversals:\n",
    "                if reverse in words:                    \n",
    "                    reversals.append(word)\n",
    "                    \n",
    "        print(f\"{words = }\")                ##### Add a print statement\n",
    "    except:        \n",
    "        print(\"File Not Found\")        \n",
    "        raise FileNotFoundError\n",
    "        \n",
    "    return reversals\n",
    "\n",
    "lst = find_reversals_in_file('short.txt')\n",
    "print(f\"{lst = }\")"
   ]
  },
  {
   "cell_type": "markdown",
   "metadata": {},
   "source": [
    "## New Solution"
   ]
  },
  {
   "cell_type": "code",
   "execution_count": null,
   "metadata": {},
   "outputs": [],
   "source": [
    "def find_reversals_in_file(filename):\n",
    "    with open(filename, 'r') as my_file:\n",
    "        for word in my_file:\n",
    "            reversal = word[::-1]\n",
    "            if word[::-1] == reversal:\n",
    "                print(reversal)\n",
    "\n",
    "lst = find_reversals_in_file('words.txt')\n",
    "print(f\"\\n{lst = }\")"
   ]
  },
  {
   "cell_type": "markdown",
   "metadata": {},
   "source": [
    "```python\n",
    "    with open(filename, 'r') as my_file:\n",
    "        for word in filename:\n",
    "```"
   ]
  },
  {
   "cell_type": "markdown",
   "metadata": {},
   "source": [
    "## My Solution"
   ]
  },
  {
   "cell_type": "code",
   "execution_count": null,
   "metadata": {},
   "outputs": [],
   "source": [
    "def read_file(filename):\n",
    "    \"Read words from a file and return list of words\"\n",
    "    res = []\n",
    "\n",
    "    try:\n",
    "        with open(filename, 'r') as words:\n",
    "            for word in words:\n",
    "                res.append(word.lower().strip())\n",
    "\n",
    "        return res\n",
    "\n",
    "    except FileNotFoundError:\n",
    "        print(f\"Could not find file: {filename}\")\n",
    "    except:\n",
    "        print(f\"Could not open file: {filename}\")\n",
    "\n",
    "    return []\n",
    "\n",
    "\n",
    "def find_reversals(lst):\n",
    "    \"Find reversals in a list\"\n",
    "    res = []\n",
    "    for word in lst:\n",
    "        if word not in res:\n",
    "            rev = word[::-1]\n",
    "            # We know that words.txt is sorted, so reverse should be > word\n",
    "            if rev > word and rev not in res and rev in lst:\n",
    "                res.append(word)\n",
    "    return res\n",
    "\n",
    "\n",
    "def find_reversals_in_file(filename):\n",
    "    \"Return a list with each pair of reversed elements, such as abut and tuba\"\n",
    "    return find_reversals(read_file(filename))"
   ]
  },
  {
   "cell_type": "markdown",
   "metadata": {},
   "source": [
    "<div class=\"alert alert-block alert-info\">\n",
    "Call your function in the cell below.  You may change the path to point to your copy of words.txt\n",
    "</div>"
   ]
  },
  {
   "cell_type": "code",
   "execution_count": null,
   "metadata": {},
   "outputs": [],
   "source": [
    "# Call your function here\n",
    "lst = find_reversals_in_file(\"words.txt\")\n",
    "\n",
    "print(f\"There were {len(lst)} reversals\")\n",
    "\n",
    "for word in lst[:10]:\n",
    "    print(f\"{word}\\t{word[::-1]}\")"
   ]
  },
  {
   "cell_type": "markdown",
   "metadata": {},
   "source": [
    "<div class=\"alert alert-block alert-info\">\n",
    "Call your function on a file that doesn't exist\n",
    "    You should catch the exception and print a message in your own words\n",
    "</div>"
   ]
  },
  {
   "cell_type": "code",
   "execution_count": null,
   "metadata": {},
   "outputs": [],
   "source": [
    "# Call your function here on a file that doesn't exist\n",
    "# You should catch the exception and print your own useful error message\n",
    "#\n",
    "lst = find_reversals_in_file(\"mxyzptlk.txt\")"
   ]
  },
  {
   "cell_type": "markdown",
   "metadata": {},
   "source": [
    "## Problem 5: Digital Detective\n",
    "\n",
    "*Last year we asked the following problem:*\n",
    "\n",
    "### Sum of Two\n",
    "\n",
    "Write a function that takes an integer target k and a list of integers, and decides if you can represent k as the sum of two different numbers in the list. \n",
    "\n",
    "```python\n",
    "    def sum_of_two(k: int, lst : List[int]) -> bool:\n",
    "```\n",
    "\n",
    "#### Examples:\n",
    "\n",
    "```python\n",
    "sum_of_two(17, [1, 15, 3, 4, 5, 6, 7, 2]) \n",
    "```\n",
    "returns True, as 17 = 15 + 2\n",
    "\n",
    "```python\n",
    "sum_of_two(4, [1, 2])\n",
    "```\n",
    "returns False, as you cannot reuse the 2, and 4 is not 2 + 1."
   ]
  },
  {
   "cell_type": "markdown",
   "metadata": {},
   "source": [
    "### Digital Detective \n",
    "\n",
    "Below is function sum_of_two that passes the test cases but has logic issues and would be simpler if we replaced the 'while' loop with a 'for' loop.  \n",
    "\n",
    "Fix the 3 syntax errors and rewrite the code, replacing the while loop with a for loop.  Add some print statements to help you follow what is going on.\n",
    "\n",
    "In your submission add comments to explain what the algorithm is doing.  \n",
    "\n",
    "There is a bug in the code.  Can you come up with a test case where the algorithm fails?  "
   ]
  },
  {
   "cell_type": "code",
   "execution_count": null,
   "metadata": {},
   "outputs": [],
   "source": [
    "def sum_of_two(k, lst):\n",
    "    \"Can we represent k as the sum of two distinct numbers in lst?\"\n",
    "    i = 0\n",
    "    j = len (lst) - 1\n",
    "    sum = []\n",
    "    while i < j:\n",
    "        sum = lst[i] + lst[j]\n",
    "        print(f\"{i = } {j = } {sum = }\")\n",
    "        if sum == k:\n",
    "            return True\n",
    "        elif sum < k:\n",
    "            i += 1\n",
    "        else:\n",
    "            j -= 1\n",
    "    return False \n",
    "\n",
    "sum_of_two(4, [1, 2])"
   ]
  },
  {
   "cell_type": "markdown",
   "metadata": {},
   "source": [
    "<div class=\"alert alert-block alert-info\">\n",
    "When you fix the syntax errors, the function will pass all my tests\n",
    "</div>"
   ]
  },
  {
   "cell_type": "code",
   "execution_count": null,
   "metadata": {},
   "outputs": [],
   "source": [
    "def test_sum():\n",
    "    assert not sum_of_two(0, []), \"Empty List\"\n",
    "    assert not sum_of_two(3, [3]), \"Singleton list\"\n",
    "    assert sum_of_two(3, [1, 2]), \"3 = 1 + 2\"\n",
    "    assert sum_of_two(17, [10, 15, 3, 7]),  \"17 = 10 + 7\"\n",
    "    assert sum_of_two(4, [1, 2, 5, 2]), \"4 = 2 + 2\"\n",
    "    assert sum_of_two(4, [0, 1, 2, 4]), \"4 = 0 + 4\"\n",
    "    assert sum_of_two(4, [4, 2, 1, 0]), \"4 = 4 + 0\"\n",
    "    assert sum_of_two(17, [1, 15, 3, 4, 5, 6, 7, 2]), \"17 = 15 + 2\"\n",
    "\n",
    "    assert not sum_of_two(17, [10, 15, 4, 8]), \"Cannot write 17 as sum of elements\"\n",
    "    assert not sum_of_two(4, [1, 2]), \"Can't use the same 2 twice\"\n",
    "\n",
    "    print('Sucess')\n",
    "\n"
   ]
  },
  {
   "cell_type": "markdown",
   "metadata": {},
   "source": [
    "<div class=\"alert alert-block alert-info\">\n",
    "Rewrite the function, replacing the while loop with a for loop, and cleaning up the syntax errors.  \n",
    "\n",
    "Show that it still passes the Unit Tests\n",
    "</div>"
   ]
  },
  {
   "cell_type": "markdown",
   "metadata": {},
   "source": [
    "## Student Effort"
   ]
  },
  {
   "cell_type": "code",
   "execution_count": null,
   "metadata": {},
   "outputs": [],
   "source": [
    "def sum_of_two(k, lst):\n",
    "    \n",
    "    i = 0\n",
    "    j = len(lst) - 1\n",
    "    sum = []\n",
    "    for i in range(len(lst)):\n",
    "        sum = lst[i] + lst[j]\n",
    "        print(f\"{i = } {j = } {sum = }\")\n",
    "        \n",
    "        if sum == k:\n",
    "            return True\n",
    "        elif sum < k:\n",
    "            i += 1\n",
    "        else:\n",
    "            j -= 1\n",
    "    return False \n",
    "\n",
    "sum_of_two(4, [1, 2])"
   ]
  },
  {
   "cell_type": "markdown",
   "metadata": {},
   "source": [
    "## Add a print statement to track what is going on"
   ]
  },
  {
   "cell_type": "code",
   "execution_count": null,
   "metadata": {},
   "outputs": [],
   "source": [
    "def sum_of_two(k, lst):\n",
    "    \n",
    "    i = 0\n",
    "    j = len(lst) - 1\n",
    "    for i in range(len(lst)):\n",
    "        sum = lst[i] + lst[j]\n",
    "        print(f\"\\t{i = }, {j = } {sum = }\")\n",
    "        if sum == k:\n",
    "            print(f\"\\t{i = }, {j = }\\n\")\n",
    "            return True\n",
    "        elif sum < k:\n",
    "            i += 1\n",
    "        else:\n",
    "            j -= 1\n",
    "    return False \n",
    "\n",
    "assert sum_of_two(17, [3, 7, 10, 15]),  \"17 = 10 + 7\"\n",
    "assert sum_of_two(17, [1, 2, 15, 3, 4, 5, 6, 7]), \"17 = 15 + 2\"\n",
    "    \n",
    "assert not sum_of_two(4, [1, 2]), \"Can't use the same 2 twice\""
   ]
  },
  {
   "cell_type": "code",
   "execution_count": null,
   "metadata": {},
   "outputs": [],
   "source": [
    "def sum_of_two(k, lst):\n",
    "    \n",
    "    i = 0\n",
    "    j = len(lst) - 1\n",
    "    sum = []\n",
    "    for i in range(len(lst)):\n",
    "        sum = lst[i] + lst[j]\n",
    "        if sum == k:\n",
    "            print(f\"{i = }, {j = }\")\n",
    "            return True\n",
    "        elif sum < k:\n",
    "            i += 1\n",
    "        else:\n",
    "            j -= 1\n",
    "    return False \n",
    "\n",
    "assert not sum_of_two(4, [1, 2]), \"Can't use the same 2 twice\""
   ]
  },
  {
   "cell_type": "markdown",
   "metadata": {},
   "source": [
    "## Fencepost Error!  Don't go so far!"
   ]
  },
  {
   "cell_type": "code",
   "execution_count": null,
   "metadata": {},
   "outputs": [],
   "source": [
    "def sum_of_two(k, lst):\n",
    "    \"Can we represent k as the sum of two distinct numbers in lst?\"\n",
    "    i = 0\n",
    "    j = len (lst) - 1\n",
    "    lst = sorted(lst)\n",
    "    for count in range(len(lst) - 1):\n",
    "        sm = lst[i] + lst[j]       # Sum is builtin\n",
    "        if sm == k:\n",
    "            return True\n",
    "        elif sm < k:\n",
    "            i += 1\n",
    "        else:\n",
    "            j -= 1\n",
    "    return False \n",
    "\n",
    "test_sum()"
   ]
  },
  {
   "cell_type": "markdown",
   "metadata": {},
   "source": [
    "<div class=\"alert alert-block alert-info\">\n",
    "The original algorithm has a problem that we will discuss.  \n",
    "    \n",
    "That is, there is an array and a target that fools the algorithm.\n",
    "</div>"
   ]
  },
  {
   "cell_type": "markdown",
   "metadata": {},
   "source": [
    "## The algorithm assumes the array is sorted"
   ]
  },
  {
   "cell_type": "code",
   "execution_count": null,
   "metadata": {},
   "outputs": [],
   "source": [
    "assert sum_of_two(10, [3, 4, 6])  # Correct\n",
    "\n",
    "assert sum_of_two(10, [4, 6, 3])  # Wrong"
   ]
  },
  {
   "cell_type": "markdown",
   "metadata": {},
   "source": [
    "## Quadratic Solution"
   ]
  },
  {
   "cell_type": "code",
   "execution_count": null,
   "metadata": {},
   "outputs": [],
   "source": [
    "def sum_of_two(k, lst):\n",
    "    \"Can we represent k as the sum of two distinct numbers in lst?\"\n",
    "    for i in range(len(lst) - 1):\n",
    "        print(f\"\\n{i}  \", end = \"\")\n",
    "        for j in range(i + 1, len(lst)):\n",
    "            print(f\"{j}\", end = \"\")\n",
    "            sm = lst[i] + lst[j]\n",
    "            \n",
    "            if sm == k:\n",
    "                return True\n",
    "             \n",
    "    return False \n",
    "\n",
    "sum_of_two(10, [1, 1, 1, 1, 1, 1, 1, 1, 1, 1])  "
   ]
  },
  {
   "cell_type": "markdown",
   "metadata": {},
   "source": [
    "## Also Quadratic, but has Python search list"
   ]
  },
  {
   "cell_type": "code",
   "execution_count": null,
   "metadata": {},
   "outputs": [],
   "source": [
    "def sum_of_two(k, lst):\n",
    "    \"Can we represent k as the sum of two distinct numbers in lst?\"\n",
    "    for i in range(len(lst) - 1):\n",
    "        diff = k - lst[i]\n",
    "        if diff in lst[i+1:]:\n",
    "            return True\n",
    "             \n",
    "    return False \n",
    "\n",
    "test_sum()\n",
    "assert sum_of_two(10, [3, 4, 6])  \n",
    "assert sum_of_two(10, [4, 6, 3])  "
   ]
  },
  {
   "cell_type": "markdown",
   "metadata": {},
   "source": [
    "# Post Mortem"
   ]
  },
  {
   "cell_type": "markdown",
   "metadata": {},
   "source": [
    "How long did it take you to solve this problem set?\n",
    "\n",
    "Did anything confuse you or cause difficulty?"
   ]
  },
  {
   "cell_type": "code",
   "execution_count": null,
   "metadata": {},
   "outputs": [],
   "source": [
    "# Enter your thoughts\n"
   ]
  }
 ],
 "metadata": {
  "kernelspec": {
   "display_name": "Python 3",
   "language": "python",
   "name": "python3"
  },
  "language_info": {
   "codemirror_mode": {
    "name": "ipython",
    "version": 3
   },
   "file_extension": ".py",
   "mimetype": "text/x-python",
   "name": "python",
   "nbconvert_exporter": "python",
   "pygments_lexer": "ipython3",
   "version": "3.8.10"
  }
 },
 "nbformat": 4,
 "nbformat_minor": 1
}
