{
 "cells": [
  {
   "cell_type": "markdown",
   "metadata": {},
   "source": [
    "# Homework 10 Solutions\n",
    "## 2021"
   ]
  },
  {
   "cell_type": "markdown",
   "metadata": {},
   "source": [
    "# Problem 1: Subslice\n",
    "List A is a subslice of list B if you can find x and y such that\n",
    "```\n",
    "A = B[x:y]\n",
    "```\n",
    "Write a function that decides if A is a subslice of B"
   ]
  },
  {
   "cell_type": "code",
   "execution_count": null,
   "metadata": {},
   "outputs": [],
   "source": [
    "# We want to know if A is a prefix of a suffix of B\n",
    "\n",
    "def is_prefix(a, b):\n",
    "    \"\"\"Is A a prefix of B?\"\"\"\n",
    "    return a == b[:len(a)]"
   ]
  },
  {
   "cell_type": "code",
   "execution_count": null,
   "metadata": {},
   "outputs": [],
   "source": [
    "# Try each suffix of B in turn\n",
    "\n",
    "def is_subslice(a, b):\n",
    "    \"\"\"Is A a slice from B?\"\"\"\n",
    "    for i in range(len(b) - len(a) + 1):\n",
    "        if is_prefix(a, b[i:]):\n",
    "            return True\n",
    "        \n",
    "    return False"
   ]
  },
  {
   "cell_type": "markdown",
   "metadata": {},
   "source": [
    "## Unit Test"
   ]
  },
  {
   "cell_type": "code",
   "execution_count": null,
   "metadata": {},
   "outputs": [],
   "source": [
    "def test_subslice():\n",
    "    assert(is_subslice([], []))\n",
    "    assert(is_subslice([], [1, 2, 3, 4, 5]))\n",
    "    assert(is_subslice([1, 2, 3], [1, 2, 3, 4, 5]))\n",
    "    assert(is_subslice([3, 4, 5], [1, 2, 3, 4, 5]))\n",
    "    assert(is_subslice([3, 4, 5], [1, 2, 3, 4, 5]))\n",
    "    assert(is_subslice([3, 4, 5], [1, 2, 3, 4, 5]))\n",
    "    assert(is_subslice([5, 3, 4], [5, 1, 2, 5, 3, 4, 5, 3, 2, 1]))\n",
    "    assert(is_subslice([], [1, 2, 3, 4, 5]))\n",
    "    assert(is_subslice([3, 4], [1, 2, 3, 4, 5]))\n",
    "    assert(is_subslice([1, 2, 3], [1, 2, 3]))\n",
    "    assert(is_subslice([1, 2, 3], [1, 2, 1, 2, 3, 4, 5])) # If at first you don't succeed\n",
    "    assert(not is_subslice([1, 2], [12]))\n",
    "    assert(not is_subslice([1, 2], [2, 1]))\n",
    "    assert(not is_subslice([1, 2, 3, 4, 5], [2, 3, 4]))\n",
    "    assert(not is_subslice([1, 3, 5], [1, 2, 3, 4, 5])) # This is a subset, but isn't a subslice\n",
    "    \n",
    "    print('Success!')\n",
    "    \n",
    "test_subslice()"
   ]
  },
  {
   "cell_type": "markdown",
   "metadata": {},
   "source": [
    "# Problem 2: Word Lengths\n",
    "We are interested in the distribution of word lengths in English words.\n",
    "\n",
    "Write a function wordLengths() that takes a path to a list of words\n",
    "and returns a list with tuples holding the number of words of each word length.\n",
    "\n",
    "Sort your list by length of word.  \n",
    "\n",
    "#### Here are my partial results: words.txt holds 85 words of length 2, 908 words of length 3, and 3 words of length 21.   \n",
    "\n",
    "```python\n",
    "[(2, 85), (3, 908), ... (21, 3)]\n",
    "```"
   ]
  },
  {
   "cell_type": "code",
   "execution_count": null,
   "metadata": {},
   "outputs": [],
   "source": [
    " def wordLengths(filepath):\n",
    "    pass"
   ]
  },
  {
   "cell_type": "markdown",
   "metadata": {},
   "source": [
    "## My Solution\n",
    "\n",
    "First, let's solve with a dictionary"
   ]
  },
  {
   "cell_type": "code",
   "execution_count": null,
   "metadata": {},
   "outputs": [],
   "source": [
    "from collections import defaultdict\n",
    "\n",
    "def wordLengths(filepath):\n",
    "    wordsOfLen = defaultdict(int)\n",
    "    try: \n",
    "        with open(filepath) as fin:\n",
    "\n",
    "            for word in fin:\n",
    "                word = word.strip()\n",
    "\n",
    "                wordsOfLen[len(word)] += 1\n",
    "    except:\n",
    "        print(f'No luck counting word lengths in {filepath}')\n",
    "\n",
    "    return sorted([(i, wordsOfLen[i]) for i in wordsOfLen])"
   ]
  },
  {
   "cell_type": "markdown",
   "metadata": {},
   "source": [
    "## Let's time the program"
   ]
  },
  {
   "cell_type": "code",
   "execution_count": null,
   "metadata": {},
   "outputs": [],
   "source": [
    "%%time\n",
    "\n",
    "filepath = '../../Programs/words.txt'\n",
    "\n",
    "lst = wordLengths(filepath)\n",
    "print(len(lst))"
   ]
  },
  {
   "cell_type": "markdown",
   "metadata": {},
   "source": [
    "### Unit Tests"
   ]
  },
  {
   "cell_type": "code",
   "execution_count": null,
   "metadata": {},
   "outputs": [],
   "source": [
    "filepath = '../../Programs/words.txt'\n",
    "\n",
    "def test_wordLengths(filepath):\n",
    "    lst = wordLengths(filepath)\n",
    "    print(lst)\n",
    "    \n",
    "    print(lst[0])\n",
    "    assert lst[0] == (2, 85)\n",
    "    assert lst[1] == (3, 908)\n",
    "    assert lst[5] == (7, 21727)\n",
    "    assert lst[-1] == (21, 3)\n",
    "    \n",
    "    print('\\nSuccess!')\n",
    "\n",
    "test_wordLengths(filepath)"
   ]
  },
  {
   "cell_type": "markdown",
   "metadata": {},
   "source": [
    "## Next, use a List to hold the counts"
   ]
  },
  {
   "cell_type": "code",
   "execution_count": null,
   "metadata": {},
   "outputs": [],
   "source": [
    "from sys import getsizeof\n",
    "\n",
    "def wordLengths(filepath):\n",
    "    MAX = 50\n",
    "    wordsOfLen = [0] * MAX\n",
    "    try: \n",
    "        with open(filepath) as fin:\n",
    "\n",
    "            for word in fin:\n",
    "                word = word.strip()\n",
    "\n",
    "                wordsOfLen[len(word)] += 1\n",
    "    except:\n",
    "        print(f'No luck counting word lengths in {filepath}')\n",
    "\n",
    "    return [(i, val) for i, val in enumerate(wordsOfLen) if wordsOfLen[i] > 0]"
   ]
  },
  {
   "cell_type": "markdown",
   "metadata": {},
   "source": [
    "## Time the program"
   ]
  },
  {
   "cell_type": "code",
   "execution_count": null,
   "metadata": {},
   "outputs": [],
   "source": [
    "%%time\n",
    "\n",
    "filepath = '../../Programs/words.txt'\n",
    "\n",
    "lst = wordLengths(filepath)\n",
    "print(len(lst))"
   ]
  },
  {
   "cell_type": "markdown",
   "metadata": {},
   "source": [
    "## Test cases for wordLengths"
   ]
  },
  {
   "cell_type": "code",
   "execution_count": null,
   "metadata": {},
   "outputs": [],
   "source": [
    "test_wordLengths(filepath)"
   ]
  },
  {
   "cell_type": "markdown",
   "metadata": {},
   "source": [
    "## But how big should we make the List?\n",
    "\n",
    "### We can resize on the fly - apply EAFP"
   ]
  },
  {
   "cell_type": "code",
   "execution_count": null,
   "metadata": {},
   "outputs": [],
   "source": [
    "from sys import getsizeof\n",
    "\n",
    "def wordLengths(filepath):\n",
    "\n",
    "    wordsOfLen = []\n",
    "    try: \n",
    "        with open(filepath) as fin:\n",
    "\n",
    "\n",
    "            for word in fin:\n",
    "                word = word.strip()\n",
    "\n",
    "                # Is there room in the array for this word length?\n",
    "                try:\n",
    "                    wordsOfLen[len(word)] += 1\n",
    "                except IndexError:\n",
    "                    # Add enough empty cells to fit\n",
    "                    wordsOfLen = wordsOfLen + [0] * (len(word) - len(wordsOfLen) + 1)\n",
    "                    wordsOfLen[len(word)] = 1\n",
    "    except:\n",
    "        print(f'No luck counting word lengths in {filepath}')\n",
    "\n",
    "    if debug:\n",
    "        print(\"Bytes required to store list: \", getsizeof(wordsOfLen))\n",
    "    \n",
    "    return [(i, val) for i, val in enumerate(wordsOfLen) if wordsOfLen[i] > 0]"
   ]
  },
  {
   "cell_type": "markdown",
   "metadata": {},
   "source": [
    "## Time it"
   ]
  },
  {
   "cell_type": "code",
   "execution_count": null,
   "metadata": {},
   "outputs": [],
   "source": [
    "%%time\n",
    "\n",
    "filepath = '../../Programs/words.txt'\n",
    "\n",
    "lst = wordLengths(filepath)\n",
    "print(len(lst))"
   ]
  },
  {
   "cell_type": "markdown",
   "metadata": {},
   "source": [
    "## Test it"
   ]
  },
  {
   "cell_type": "code",
   "execution_count": null,
   "metadata": {},
   "outputs": [],
   "source": [
    "test_wordLengths(filepath)"
   ]
  },
  {
   "cell_type": "markdown",
   "metadata": {},
   "source": [
    "### *While lists are more compact and a bit faster than a Dictionary, a Dictionary is less fuss to size*"
   ]
  },
  {
   "cell_type": "markdown",
   "metadata": {},
   "source": [
    "# Problem 3: Draw a bar chart of the word lengths\n",
    "Use matplotlib to draw a bar chart of the word lengths. You may want to peek at the documentation\n",
    "\n",
    "https://matplotlib.org/3.3.1/gallery/pyplots/pyplot_text.html#sphx-glr-gallery-pyplots-pyplot-text-py\n",
    "\n",
    "or at this tutorial\n",
    "\n",
    "https://datatofish.com/bar-chart-python-matplotlib/\n",
    "\n",
    "Does the bar chart lineup with your results from problem 1?"
   ]
  },
  {
   "cell_type": "markdown",
   "metadata": {},
   "source": [
    "## My Solution drawing a Histogram"
   ]
  },
  {
   "cell_type": "code",
   "execution_count": null,
   "metadata": {},
   "outputs": [],
   "source": [
    "import matplotlib.pyplot as plt\n",
    "\n",
    "def plot_histogram(filepath):\n",
    "    \"\"\"PLot a histogram of the data\"\"\"\n",
    "    try: \n",
    "        fin = open(filepath)\n",
    "        lst = [len(word.strip()) for word in fin ]\n",
    "        bins =[i for i in range(max(lst)+ 1)]\n",
    "        plt.hist(lst, bins)\n",
    "        \n",
    "        # Add some documentation\n",
    "        plt.title('Frequency of words of given length')\n",
    "        plt.xlabel('Word Length')\n",
    "        plt.ylabel('Frequency')\n",
    "        plt.show()\n",
    "    except:\n",
    "        print('No luck!')\n",
    "        return"
   ]
  },
  {
   "cell_type": "code",
   "execution_count": null,
   "metadata": {},
   "outputs": [],
   "source": [
    "%%time\n",
    "\n",
    "filepath = '../../Programs/words.txt'\n",
    "\n",
    "plot_histogram(filepath)"
   ]
  },
  {
   "cell_type": "markdown",
   "metadata": {},
   "source": [
    "### Notice that the bars are jammed together, and it isn't obvious how many words of length 5 there are"
   ]
  },
  {
   "cell_type": "markdown",
   "metadata": {},
   "source": [
    "## My Solution drawing a Bar Chart"
   ]
  },
  {
   "cell_type": "code",
   "execution_count": null,
   "metadata": {},
   "outputs": [],
   "source": [
    "debug = False"
   ]
  },
  {
   "cell_type": "code",
   "execution_count": null,
   "metadata": {},
   "outputs": [],
   "source": [
    "import matplotlib.pyplot as plt\n",
    "\n",
    "def plot_bar_chart(filepath):\n",
    "    \"\"\"Plot a Bar Chart of the Data\"\"\"\n",
    "    try: \n",
    "        lst = wordLengths(filepath)\n",
    "        \n",
    "        xValues = [x for (x, y) in lst]\n",
    "        yValues = [y for (x, y) in lst]\n",
    "        plt.bar(xValues, yValues)\n",
    "        \n",
    "        # Add some documentation\n",
    "        plt.title('Frequency of words of given length')\n",
    "        plt.xlabel('Word Length')\n",
    "        plt.ylabel('Frequency')\n",
    "        plt.show()\n",
    "    except:\n",
    "        print(f'Could not plot values for {filepath}')\n",
    "        return"
   ]
  },
  {
   "cell_type": "markdown",
   "metadata": {},
   "source": [
    "## Unit test of draw Bar Chart"
   ]
  },
  {
   "cell_type": "code",
   "execution_count": null,
   "metadata": {},
   "outputs": [],
   "source": [
    "%%time\n",
    "filepath = '../../Programs/words.txt'\n",
    "\n",
    "plot_bar_chart(filepath)"
   ]
  },
  {
   "cell_type": "markdown",
   "metadata": {},
   "source": [
    "### The gaps make it a bit easier to read off the different heights.  \n",
    "It is clear which bar represents words of length 5\n",
    "## However, 12.5 isn't a useful x value.\n",
    "Let's try Jules' suggestion, using the plt.xticks function"
   ]
  },
  {
   "cell_type": "code",
   "execution_count": null,
   "metadata": {},
   "outputs": [],
   "source": [
    "# I want a list of x values to mark with a tick\n",
    "# I want to start at 1 and go as far as I need to\n",
    "list(range(1, max(1, 3, 10), 2))"
   ]
  },
  {
   "cell_type": "code",
   "execution_count": null,
   "metadata": {},
   "outputs": [],
   "source": [
    "import matplotlib.pyplot as plt\n",
    "\n",
    "def plot_bar_chart(filepath):\n",
    "    \"\"\"Plot a Bar Chart of the Data\"\"\"\n",
    "    try: \n",
    "        lst = wordLengths(filepath)\n",
    "        \n",
    "        xValues = [x for (x, y) in lst]\n",
    "        yValues = [y for (x, y) in lst]\n",
    "        \n",
    "        plt.bar(xValues, yValues)\n",
    "        plt.xticks(list(range(0, max(xValues), 2)))  # Thanks, Jules!\n",
    "        \n",
    "        # Add some documentation\n",
    "        plt.title('Frequency of words of given length')\n",
    "        plt.xlabel('Word Length')\n",
    "        plt.ylabel('Frequency')\n",
    "        plt.show()\n",
    "    except:\n",
    "        print(f'Could not plot values for {filepath}')\n",
    "        return"
   ]
  },
  {
   "cell_type": "code",
   "execution_count": null,
   "metadata": {},
   "outputs": [],
   "source": [
    "%%time\n",
    "filepath = '../../Programs/words.txt'\n",
    "\n",
    "plot_bar_chart(filepath)"
   ]
  },
  {
   "cell_type": "markdown",
   "metadata": {},
   "source": [
    "# Problem 4: Count Pairs\n",
    "\n",
    "Write a program to count the frequency of each pair of letters in a Fasta file.\n",
    "\n",
    "For example, the file pACYC184.fasta holds a DNA sequence of length 4245, which starts as\n",
    "\n",
    "```python\n",
    "GAATTCCGG...\n",
    "```\n",
    "\n",
    "That holds the pairs GA, AA, AT, TT, TC, CC, CG, GG, ...\n",
    "\n",
    "You could store your data in a 2D array, a list of 4 lists of length 4, \n",
    "or you could store your data in a Dictionary mapping strings of length 2 to integers.    \n",
    "\n",
    "Count the frequency of each pair, and print a chart.  For pACYC184.fasta, the chart should look like this:\n",
    "\n",
    "```python\n",
    "        A       G       C       T \n",
    "A     251     212     231     262 \n",
    "G     229     287     361     216 \n",
    "C     288     312     291     276 \n",
    "T     188     282     284     274 \n",
    "```\n",
    "The function print_pair_count() has 'print' in the title, so you may print from the function.\n",
    "\n",
    "I suggest having functions to read the data, count the pairs, and print the chart.  "
   ]
  },
  {
   "cell_type": "code",
   "execution_count": null,
   "metadata": {},
   "outputs": [],
   "source": [
    "def readFastaFile(fileName: str) -> str:\n",
    "    \"Read in a fasta file\"\n",
    "\n",
    "    try:\n",
    "        f = open(fileName, 'r')\n",
    "        \n",
    "        # First line in Fasta format is header\n",
    "        line = f.readline()\n",
    "\n",
    "        # Read rest of file\n",
    "        text = f.read()\n",
    "\n",
    "        # Remove cruft\n",
    "        text = text.replace('\\n', '')\n",
    "        text = text.upper()\n",
    "\n",
    "        return text\n",
    "\n",
    "    except FileNotFoundError:\n",
    "        return f\"Could not find file {fileName}\"\n",
    "    except IOError as e:\n",
    "        return f\"IO Error {e}\"\n",
    "    except Error as e:\n",
    "        return f\"Error {e}\""
   ]
  },
  {
   "cell_type": "markdown",
   "metadata": {},
   "source": [
    "### Check that we handle simple errors"
   ]
  },
  {
   "cell_type": "code",
   "execution_count": null,
   "metadata": {},
   "outputs": [],
   "source": [
    "readFastaFile('Foobar')"
   ]
  },
  {
   "cell_type": "markdown",
   "metadata": {},
   "source": [
    "## Define the routine to print"
   ]
  },
  {
   "cell_type": "code",
   "execution_count": null,
   "metadata": {},
   "outputs": [],
   "source": [
    "def printDigrams(pairsCount: Dict[str, int]):\n",
    "    \"Print the digrams\"\n",
    "\n",
    "    ##  bases = ['A', 'G', 'C', 'T']\n",
    "    bases =  'AGCT'\n",
    "\n",
    "    # Print the column headings\n",
    "    print(' ', end=' ')\n",
    "    for ch in bases:\n",
    "        # Right justify in a field of width 7\n",
    "        print(ch.rjust(7), end=' ')\n",
    "    print()\n",
    "\n",
    "    # Print the body of the table\n",
    "    for ch1 in bases:\n",
    "        # Print row heading\n",
    "        print(ch1, end=' ')\n",
    "\n",
    "        for ch2 in bases:\n",
    "            # Print the column\n",
    "            digram = ch1 + ch2\n",
    "            if (digram in pairsCount):\n",
    "                count = pairsCount[digram]\n",
    "            else:\n",
    "                count = 0\n",
    "\n",
    "            # Print count, with formating\n",
    "            print(repr(count).rjust(7), end=' ')\n",
    "        print()"
   ]
  },
  {
   "cell_type": "markdown",
   "metadata": {},
   "source": [
    "## Define the routine to count"
   ]
  },
  {
   "cell_type": "code",
   "execution_count": null,
   "metadata": {},
   "outputs": [],
   "source": [
    "from typing import Dict\n",
    "from collections import defaultdict\n",
    "\n",
    "def countDigrams(fileName: str) -> Dict[str, int]:\n",
    "    \"Count the pairs in the file\"\n",
    "\n",
    "    text = readFastaFile(fileName)\n",
    "\n",
    "    pairsCount = defaultdict(int)\n",
    "\n",
    "    # Go over all pairs in the sequence\n",
    "    for x in range(len(text) - 1):\n",
    "        pair = text[x:x+2]\n",
    "\n",
    "        # Increment count - LBYL\n",
    "        pairsCount[pair] = pairsCount[pair] + 1\n",
    "\n",
    "    return pairsCount"
   ]
  },
  {
   "cell_type": "markdown",
   "metadata": {},
   "source": [
    "## And call them all..."
   ]
  },
  {
   "cell_type": "code",
   "execution_count": null,
   "metadata": {},
   "outputs": [],
   "source": [
    "DEBUG = True\n",
    "\n",
    "def print_pair_count(filename):\n",
    "    pairsCount = countDigrams(filename)\n",
    "    printDigrams(pairsCount)"
   ]
  },
  {
   "cell_type": "markdown",
   "metadata": {},
   "source": [
    "## Let's revisit the counting\n",
    "\n",
    "We can zip() it and Count it and simplify the function.\n",
    "\n",
    "See the discussion below."
   ]
  },
  {
   "cell_type": "code",
   "execution_count": null,
   "metadata": {},
   "outputs": [],
   "source": [
    "from typing import Dict\n",
    "from collections import Counter\n",
    "\n",
    "def countDigrams(fileName: str) -> Dict[str, int]:\n",
    "    \"Count the pairs in the file\"\n",
    "\n",
    "    text = readFastaFile(fileName)\n",
    "    return Counter(a+b for a, b in zip(text[:-1], text[1:]))"
   ]
  },
  {
   "cell_type": "markdown",
   "metadata": {},
   "source": [
    "## Let's walk through this slowly\n",
    "\n",
    "Let's take an example:\n",
    "\n",
    "```\n",
    "text = AGCTTTTCATTCTGACTGCAACGGGCAAT\n",
    "\n",
    "text[:-1] = AGCTTTTCATTCTGACTGCAACGGGCAA\n",
    "text[1:]  = GCTTTTCATTCTGACTGCAACGGGCAAT\n",
    "\n",
    "zip(text[:-1], ext[1:])\n",
    "```\n",
    "gives the stream of tuples ('A', 'G'), ('G', 'C'), ('C', 'T')....\n",
    "\n",
    "```\n",
    "(a+b for a, b in zip(text[:-1], text[1:])) \n",
    "```\n",
    "gives the stream of pairs 'AG', 'GC', 'CT', ...\n",
    "\n",
    "### Counters are a type of Dictionary - See Downey Chapter 19\n",
    "\n",
    "```\n",
    "Counter(a+b for a, b in zip(text[:-1], text[1:]))\n",
    "```"
   ]
  },
  {
   "cell_type": "markdown",
   "metadata": {},
   "source": [
    "## Unit Tests"
   ]
  },
  {
   "cell_type": "code",
   "execution_count": null,
   "metadata": {},
   "outputs": [],
   "source": [
    "print_pair_count('../../Data/pACYC184.fasta')"
   ]
  },
  {
   "cell_type": "code",
   "execution_count": null,
   "metadata": {},
   "outputs": [],
   "source": [
    "print_pair_count('../../Data/pKLMF-FX.fasta')"
   ]
  },
  {
   "cell_type": "code",
   "execution_count": null,
   "metadata": {},
   "outputs": [],
   "source": [
    "print_pair_count('../../Data/ecoli.fasta')"
   ]
  },
  {
   "cell_type": "code",
   "execution_count": null,
   "metadata": {},
   "outputs": [],
   "source": [
    "print_pair_count('../../Data/Human22.fasta')"
   ]
  },
  {
   "cell_type": "markdown",
   "metadata": {},
   "source": [
    "The Biologists point to DNA Methylation as reason for the low CG count.  \n",
    "\n",
    "https://www.ncbi.nlm.nih.gov/pmc/articles/PMC3174260/"
   ]
  },
  {
   "cell_type": "markdown",
   "metadata": {},
   "source": [
    "# Problem 5: The Extension School\n",
    "Use Beautiful Soup to examine the base landing page https://www.extension.harvard.edu\n",
    "\n",
    "How many links are there?\n",
    "\n",
    "Links may be relatve or absolute:\n",
    "    /academics/programs/academic-gap-year/ is a relative link: you get an absolute link by adding the base\n",
    "            \n",
    "    https://www.extension.harvard.edu/academics/programs/academic-gap-year/\n",
    "    \n",
    "How many links are relative?  How many are relative, and how many are absolute?\n",
    "\n",
    "(Why would a relative path be useful?)\n",
    "\n",
    "How many links appear twice?\n",
    "\n",
    "Which links appear three times?  "
   ]
  },
  {
   "cell_type": "code",
   "execution_count": null,
   "metadata": {},
   "outputs": [],
   "source": [
    "from bs4 import BeautifulSoup\n",
    "import requests\n",
    "\n",
    "base = 'https://extension.harvard.edu'\n",
    "\n",
    "# Request the webpage\n",
    "webpage = requests.get(base)\n",
    "webtext = webpage.text\n",
    "soup = BeautifulSoup(webtext, \"html.parser\") "
   ]
  },
  {
   "cell_type": "markdown",
   "metadata": {},
   "source": [
    "## Find all the links"
   ]
  },
  {
   "cell_type": "code",
   "execution_count": null,
   "metadata": {},
   "outputs": [],
   "source": [
    "links = soup.find_all('a')"
   ]
  },
  {
   "cell_type": "markdown",
   "metadata": {},
   "source": [
    "## How many links are there?"
   ]
  },
  {
   "cell_type": "code",
   "execution_count": null,
   "metadata": {},
   "outputs": [],
   "source": [
    "print(len(links))"
   ]
  },
  {
   "cell_type": "markdown",
   "metadata": {},
   "source": [
    "## Pull out the link from the cruft\n",
    "\n",
    "Look at the first five segments"
   ]
  },
  {
   "cell_type": "code",
   "execution_count": null,
   "metadata": {},
   "outputs": [],
   "source": [
    "print(links[:5])"
   ]
  },
  {
   "cell_type": "markdown",
   "metadata": {},
   "source": [
    "## Pull out the link from the cruft, and show that"
   ]
  },
  {
   "cell_type": "code",
   "execution_count": null,
   "metadata": {},
   "outputs": [],
   "source": [
    "lst = [path['href'] for path in links]\n",
    "print(lst[:5])"
   ]
  },
  {
   "cell_type": "code",
   "execution_count": null,
   "metadata": {},
   "outputs": [],
   "source": [
    "len(lst)"
   ]
  },
  {
   "cell_type": "markdown",
   "metadata": {},
   "source": [
    "## How many are relative links?"
   ]
  },
  {
   "cell_type": "code",
   "execution_count": null,
   "metadata": {},
   "outputs": [],
   "source": [
    "## In this version, we look at the links to check our logic\n",
    "\n",
    "count = 1\n",
    "for path in lst:\n",
    "    if not path.startswith('http'):\n",
    "            print(count, path)\n",
    "            count = count + 1"
   ]
  },
  {
   "cell_type": "code",
   "execution_count": null,
   "metadata": {},
   "outputs": [],
   "source": [
    "## In this version, we just count\n",
    "\n",
    "len([path for path in lst if not path.startswith('http')]) "
   ]
  },
  {
   "cell_type": "markdown",
   "metadata": {},
   "source": [
    "## How many links appear exactly twice?"
   ]
  },
  {
   "cell_type": "code",
   "execution_count": null,
   "metadata": {},
   "outputs": [],
   "source": [
    "from collections import defaultdict\n",
    "\n",
    "d = defaultdict(int)\n",
    "for s in lst:\n",
    "    d[s] = d[s] + 1\n",
    "    \n",
    "count = 0\n",
    "for val in d:\n",
    "    if d[val] == 2:\n",
    "        count = count + 1\n",
    "        \n",
    "print(f\"{count} links appear twice\")"
   ]
  },
  {
   "cell_type": "markdown",
   "metadata": {},
   "source": [
    "## Which links appear three or more times?"
   ]
  },
  {
   "cell_type": "code",
   "execution_count": null,
   "metadata": {},
   "outputs": [],
   "source": [
    "## List the links that appear more than twice\n",
    "\n",
    "for val in d:\n",
    "    if d[val] > 2:\n",
    "        print(val, d[val]) "
   ]
  },
  {
   "cell_type": "code",
   "execution_count": null,
   "metadata": {},
   "outputs": [],
   "source": []
  }
 ],
 "metadata": {
  "kernelspec": {
   "display_name": "Python 3",
   "language": "python",
   "name": "python3"
  },
  "language_info": {
   "codemirror_mode": {
    "name": "ipython",
    "version": 3
   },
   "file_extension": ".py",
   "mimetype": "text/x-python",
   "name": "python",
   "nbconvert_exporter": "python",
   "pygments_lexer": "ipython3",
   "version": "3.8.8"
  }
 },
 "nbformat": 4,
 "nbformat_minor": 1
}
