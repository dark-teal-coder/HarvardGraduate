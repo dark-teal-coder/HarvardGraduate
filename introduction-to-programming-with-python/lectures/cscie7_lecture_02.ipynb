{
 "cells": [
  {
   "cell_type": "markdown",
   "metadata": {},
   "source": [
    "# CSCI E7 Introduction to Programming with Python\n",
    "## Lecture 02 Jupyter Notebook\n",
    "Fall 2021 (c) Jeff Parker"
   ]
  },
  {
   "cell_type": "markdown",
   "metadata": {},
   "source": [
    "# Review Day 1\n",
    "\n",
    "## Investigate the documentation"
   ]
  },
  {
   "cell_type": "code",
   "execution_count": 1,
   "metadata": {},
   "outputs": [
    {
     "name": "stdout",
     "output_type": "stream",
     "text": [
      "35\n"
     ]
    }
   ],
   "source": [
    "## what does rfind() do in general?\n",
    "## See https://docs.python.org/3/library/stdtypes.html\n",
    "\n",
    "s = 'department of redundancy department'\n",
    " \n",
    "print(len(s))"
   ]
  },
  {
   "cell_type": "code",
   "execution_count": 2,
   "metadata": {},
   "outputs": [
    {
     "name": "stdout",
     "output_type": "stream",
     "text": [
      "0\n"
     ]
    }
   ],
   "source": [
    "## find\n",
    "\n",
    "print(s.find('department'))"
   ]
  },
  {
   "cell_type": "code",
   "execution_count": 3,
   "metadata": {},
   "outputs": [
    {
     "name": "stdout",
     "output_type": "stream",
     "text": [
      "25\n"
     ]
    }
   ],
   "source": [
    "## rfind\n",
    "\n",
    "print(s.rfind('department'))"
   ]
  },
  {
   "cell_type": "code",
   "execution_count": 4,
   "metadata": {},
   "outputs": [
    {
     "ename": "NameError",
     "evalue": "name 'rfind' is not defined",
     "output_type": "error",
     "traceback": [
      "\u001b[1;31m---------------------------------------------------------------------------\u001b[0m",
      "\u001b[1;31mNameError\u001b[0m                                 Traceback (most recent call last)",
      "\u001b[1;32m~\\AppData\\Local\\Temp/ipykernel_11516/3944282686.py\u001b[0m in \u001b[0;36m<module>\u001b[1;34m\u001b[0m\n\u001b[0;32m      1\u001b[0m \u001b[1;31m## Is there on-line help?\u001b[0m\u001b[1;33m\u001b[0m\u001b[1;33m\u001b[0m\u001b[1;33m\u001b[0m\u001b[0m\n\u001b[0;32m      2\u001b[0m \u001b[1;33m\u001b[0m\u001b[0m\n\u001b[1;32m----> 3\u001b[1;33m \u001b[0mhelp\u001b[0m\u001b[1;33m(\u001b[0m\u001b[0mrfind\u001b[0m\u001b[1;33m)\u001b[0m\u001b[1;33m\u001b[0m\u001b[1;33m\u001b[0m\u001b[0m\n\u001b[0m",
      "\u001b[1;31mNameError\u001b[0m: name 'rfind' is not defined"
     ]
    }
   ],
   "source": [
    "## Is there on-line help?\n",
    "\n",
    "help(rfind)"
   ]
  },
  {
   "cell_type": "code",
   "execution_count": null,
   "metadata": {},
   "outputs": [],
   "source": [
    "help(s.rfind)"
   ]
  },
  {
   "cell_type": "code",
   "execution_count": 5,
   "metadata": {},
   "outputs": [
    {
     "name": "stdout",
     "output_type": "stream",
     "text": [
      "\u001b[1;31mDocstring:\u001b[0m\n",
      "S.rfind(sub[, start[, end]]) -> int\n",
      "\n",
      "Return the highest index in S where substring sub is found,\n",
      "such that sub is contained within S[start:end].  Optional\n",
      "arguments start and end are interpreted as in slice notation.\n",
      "\n",
      "Return -1 on failure.\n",
      "\u001b[1;31mType:\u001b[0m      builtin_function_or_method\n"
     ]
    }
   ],
   "source": [
    "s.rfind?"
   ]
  },
  {
   "cell_type": "markdown",
   "metadata": {},
   "source": [
    "## *rfind() was useful in the homework*"
   ]
  },
  {
   "cell_type": "markdown",
   "metadata": {},
   "source": [
    "## Notes from the TFs\n",
    "\n",
    "- Windows users: \n",
    "    - Don’t use IE to work with Canvas\n",
    "    - Use Command Prompt rather than PowerShell.\n",
    "- When writing posts for BBoard, note if you are using Mac or Windows or Linux.  \n",
    "- Share a few commands that will help others as some are getting used to the terminal commands too. \n",
    "- Add your name to your Notebook via a Markdown cell.  Also add comments.\n",
    "- If you learned something new share on the Ed BBoard"
   ]
  },
  {
   "cell_type": "markdown",
   "metadata": {},
   "source": [
    "# Functions\n",
    "\n",
    "We have been using functions"
   ]
  },
  {
   "cell_type": "code",
   "execution_count": 6,
   "metadata": {},
   "outputs": [
    {
     "name": "stdout",
     "output_type": "stream",
     "text": [
      "6\n"
     ]
    }
   ],
   "source": [
    "## Function len()\n",
    "\n",
    "s = 'onetwo'\n",
    "\n",
    "print(len(s))"
   ]
  },
  {
   "cell_type": "markdown",
   "metadata": {},
   "source": [
    "## len() is a function\n",
    "\n",
    "len() maps strings to non-negative integers\n",
    "\n",
    "### Above len() takes a string *argument*, and *returns* an integer "
   ]
  },
  {
   "cell_type": "code",
   "execution_count": 7,
   "metadata": {},
   "outputs": [
    {
     "name": "stdout",
     "output_type": "stream",
     "text": [
      "Help on built-in function len in module builtins:\n",
      "\n",
      "len(obj, /)\n",
      "    Return the number of items in a container.\n",
      "\n"
     ]
    }
   ],
   "source": [
    "help(len)"
   ]
  },
  {
   "cell_type": "markdown",
   "metadata": {},
   "source": [
    "## Here are some functions we have been using"
   ]
  },
  {
   "cell_type": "code",
   "execution_count": 8,
   "metadata": {},
   "outputs": [
    {
     "data": {
      "text/plain": [
       "builtin_function_or_method"
      ]
     },
     "execution_count": 8,
     "metadata": {},
     "output_type": "execute_result"
    }
   ],
   "source": [
    "## len()\n",
    "\n",
    "type(len)"
   ]
  },
  {
   "cell_type": "code",
   "execution_count": 9,
   "metadata": {},
   "outputs": [
    {
     "data": {
      "text/plain": [
       "builtin_function_or_method"
      ]
     },
     "execution_count": 9,
     "metadata": {},
     "output_type": "execute_result"
    }
   ],
   "source": [
    "## print()\n",
    "\n",
    "type(print)"
   ]
  },
  {
   "cell_type": "code",
   "execution_count": 10,
   "metadata": {},
   "outputs": [
    {
     "name": "stdout",
     "output_type": "stream",
     "text": [
      "Help on built-in function print in module builtins:\n",
      "\n",
      "print(...)\n",
      "    print(value, ..., sep=' ', end='\\n', file=sys.stdout, flush=False)\n",
      "    \n",
      "    Prints the values to a stream, or to sys.stdout by default.\n",
      "    Optional keyword arguments:\n",
      "    file:  a file-like object (stream); defaults to the current sys.stdout.\n",
      "    sep:   string inserted between values, default a space.\n",
      "    end:   string appended after the last value, default a newline.\n",
      "    flush: whether to forcibly flush the stream.\n",
      "\n"
     ]
    }
   ],
   "source": [
    "## help()\n",
    "\n",
    "help(print)"
   ]
  },
  {
   "cell_type": "markdown",
   "metadata": {},
   "source": [
    "## Functions are used to codify a well-defined activity\n",
    "### In a French Restaurant - making white sauce\n",
    "White sauce is the basis of many other items\n",
    "### In the movies - The Wilhelm Scream \n",
    "#### www.youtube.com/watch?v=cdbYsoEasio"
   ]
  },
  {
   "cell_type": "markdown",
   "metadata": {},
   "source": [
    "# What happens when you call a function?"
   ]
  },
  {
   "cell_type": "code",
   "execution_count": 11,
   "metadata": {},
   "outputs": [
    {
     "ename": "NameError",
     "evalue": "name 'prnt' is not defined",
     "output_type": "error",
     "traceback": [
      "\u001b[1;31m---------------------------------------------------------------------------\u001b[0m",
      "\u001b[1;31mNameError\u001b[0m                                 Traceback (most recent call last)",
      "\u001b[1;32m~\\AppData\\Local\\Temp/ipykernel_11516/3469870813.py\u001b[0m in \u001b[0;36m<module>\u001b[1;34m\u001b[0m\n\u001b[0;32m      2\u001b[0m     \u001b[0mprnt\u001b[0m\u001b[1;33m(\u001b[0m\u001b[1;34m'Bamba'\u001b[0m\u001b[1;33m)\u001b[0m\u001b[1;33m\u001b[0m\u001b[1;33m\u001b[0m\u001b[0m\n\u001b[0;32m      3\u001b[0m \u001b[1;33m\u001b[0m\u001b[0m\n\u001b[1;32m----> 4\u001b[1;33m \u001b[0mchorus\u001b[0m\u001b[1;33m(\u001b[0m\u001b[1;33m)\u001b[0m\u001b[1;33m\u001b[0m\u001b[1;33m\u001b[0m\u001b[0m\n\u001b[0m",
      "\u001b[1;32m~\\AppData\\Local\\Temp/ipykernel_11516/3469870813.py\u001b[0m in \u001b[0;36mchorus\u001b[1;34m()\u001b[0m\n\u001b[0;32m      1\u001b[0m \u001b[1;32mdef\u001b[0m \u001b[0mchorus\u001b[0m\u001b[1;33m(\u001b[0m\u001b[1;33m)\u001b[0m\u001b[1;33m:\u001b[0m\u001b[1;33m\u001b[0m\u001b[1;33m\u001b[0m\u001b[0m\n\u001b[1;32m----> 2\u001b[1;33m     \u001b[0mprnt\u001b[0m\u001b[1;33m(\u001b[0m\u001b[1;34m'Bamba'\u001b[0m\u001b[1;33m)\u001b[0m\u001b[1;33m\u001b[0m\u001b[1;33m\u001b[0m\u001b[0m\n\u001b[0m\u001b[0;32m      3\u001b[0m \u001b[1;33m\u001b[0m\u001b[0m\n\u001b[0;32m      4\u001b[0m \u001b[0mchorus\u001b[0m\u001b[1;33m(\u001b[0m\u001b[1;33m)\u001b[0m\u001b[1;33m\u001b[0m\u001b[1;33m\u001b[0m\u001b[0m\n",
      "\u001b[1;31mNameError\u001b[0m: name 'prnt' is not defined"
     ]
    }
   ],
   "source": [
    "def chorus():\n",
    "    prnt('Bamba')\n",
    "\n",
    "chorus()"
   ]
  },
  {
   "cell_type": "markdown",
   "metadata": {},
   "source": [
    "## Python is keeping track of (at least) two spots\n",
    "\n",
    "```python\n",
    "----> 4 chorus()   # Spot calling the function\n",
    "```\n",
    "\n",
    "and\n",
    "```python\n",
    "      1 def chorus():\n",
    "----> 2     prnt('Bamba')\n",
    "```\n",
    "the spot in the function that had a problem.\n",
    "\n",
    "## Fix our definition"
   ]
  },
  {
   "cell_type": "code",
   "execution_count": 12,
   "metadata": {},
   "outputs": [
    {
     "name": "stdout",
     "output_type": "stream",
     "text": [
      "Bamba-bamba\n",
      "Bamba-bamba\n",
      "Bamba-bamba\n",
      "Bam\n"
     ]
    }
   ],
   "source": [
    "def chorus():              # 'def', function name, parameters, colon\n",
    "    print(\"Bamba-bamba\")   # Body of the function\n",
    "    print(\"Bamba-bamba\")\n",
    "    print(\"Bamba-bamba\")\n",
    "    print(\"Bam\")\n",
    "    \n",
    "chorus()                   # Function call"
   ]
  },
  {
   "cell_type": "markdown",
   "metadata": {},
   "source": [
    "## Run over compontents"
   ]
  },
  {
   "cell_type": "markdown",
   "metadata": {
    "collapsed": true
   },
   "source": [
    "## Stack Diagram\n",
    "\n",
    "Who is calling whom?  main() calls chorus().  chorus calls print().\n",
    "\n",
    "```python\n",
    "    main()\n",
    "\n",
    "    chorus()\n",
    "    \n",
    "    print()\n",
    "```"
   ]
  },
  {
   "cell_type": "markdown",
   "metadata": {},
   "source": [
    "## Longer Example"
   ]
  },
  {
   "cell_type": "code",
   "execution_count": 13,
   "metadata": {},
   "outputs": [
    {
     "name": "stdout",
     "output_type": "stream",
     "text": [
      " a 1\n",
      "\t b 1\n",
      "\t\t c\n",
      "\t b 2\n",
      " a 2\n"
     ]
    }
   ],
   "source": [
    "def c():               \n",
    "    print('\\t\\t c')\n",
    "    \n",
    "def b():               \n",
    "    print('\\t b 1')\n",
    "    c()\n",
    "    print('\\t b 2')\n",
    "    \n",
    "def a():   \n",
    "    print(' a 1')\n",
    "    b()\n",
    "    print(' a 2')\n",
    "    \n",
    "a()               "
   ]
  },
  {
   "cell_type": "markdown",
   "metadata": {},
   "source": [
    "## *Python pauses main while function is running*"
   ]
  },
  {
   "cell_type": "markdown",
   "metadata": {},
   "source": [
    "## Stop and Think\n",
    "\n",
    "- Can a function call a function that calls a function?\n",
    "\n",
    "- Can a function call itself?\n",
    "\n",
    "- len() can find the length of things other than strings.   Give two examples.  "
   ]
  },
  {
   "cell_type": "code",
   "execution_count": 14,
   "metadata": {},
   "outputs": [
    {
     "data": {
      "text/plain": [
       "3"
      ]
     },
     "execution_count": 14,
     "metadata": {},
     "output_type": "execute_result"
    }
   ],
   "source": [
    "list1 = [1, 2, 3]\n",
    "len(list1)"
   ]
  },
  {
   "cell_type": "markdown",
   "metadata": {},
   "source": [
    "# Functions with parameters"
   ]
  },
  {
   "cell_type": "code",
   "execution_count": 15,
   "metadata": {},
   "outputs": [
    {
     "name": "stdout",
     "output_type": "stream",
     "text": [
      "Hello, Sam\n",
      "Hello, Dave\n",
      "Hello, Sam and Dave\n"
     ]
    }
   ],
   "source": [
    "def print_greeting(name):              # Parameter List\n",
    "    print(f\"Hello, {name}\")\n",
    "\n",
    "print_greeting('Sam')                  # Argument List\n",
    "print_greeting('Dave')\n",
    "print_greeting('Sam and Dave')"
   ]
  },
  {
   "cell_type": "markdown",
   "metadata": {},
   "source": [
    "## Example from Real Life: Legal Contract\n",
    "\n",
    "https://www.youtube.com/watch?v=6u8AgUXPpLM"
   ]
  },
  {
   "cell_type": "code",
   "execution_count": 16,
   "metadata": {},
   "outputs": [
    {
     "name": "stdout",
     "output_type": "stream",
     "text": [
      "Groucho will give to Chico the rights ...\n"
     ]
    }
   ],
   "source": [
    "## Party of the first part gives party of the second part...\n",
    "def contract(first, second):\n",
    "    return f\"{first} will give to {second} the rights ...\"\n",
    "\n",
    "\n",
    "print(contract('Groucho', 'Chico'))"
   ]
  },
  {
   "cell_type": "markdown",
   "metadata": {},
   "source": [
    "## Assert\n",
    "\n",
    "Assert() takes a Boolean condition and halts if it is not True.  \n",
    "\n",
    "This can be useful when debugging to check your assumptions\n",
    "\n",
    "We will use assert() in our Unit Tests to test your programs"
   ]
  },
  {
   "cell_type": "code",
   "execution_count": 17,
   "metadata": {},
   "outputs": [],
   "source": [
    "assert((1 + 1) == 2)"
   ]
  },
  {
   "cell_type": "code",
   "execution_count": 18,
   "metadata": {},
   "outputs": [
    {
     "ename": "AssertionError",
     "evalue": "",
     "output_type": "error",
     "traceback": [
      "\u001b[1;31m---------------------------------------------------------------------------\u001b[0m",
      "\u001b[1;31mAssertionError\u001b[0m                            Traceback (most recent call last)",
      "\u001b[1;32m~\\AppData\\Local\\Temp/ipykernel_11516/3060478941.py\u001b[0m in \u001b[0;36m<module>\u001b[1;34m\u001b[0m\n\u001b[1;32m----> 1\u001b[1;33m \u001b[1;32massert\u001b[0m\u001b[1;33m(\u001b[0m\u001b[1;34m'black'\u001b[0m \u001b[1;33m==\u001b[0m \u001b[1;34m'white'\u001b[0m\u001b[1;33m)\u001b[0m\u001b[1;33m\u001b[0m\u001b[1;33m\u001b[0m\u001b[0m\n\u001b[0m",
      "\u001b[1;31mAssertionError\u001b[0m: "
     ]
    }
   ],
   "source": [
    "assert('black' == 'white')"
   ]
  },
  {
   "cell_type": "markdown",
   "metadata": {},
   "source": [
    "## Stop and Think\n",
    "\n",
    "Notice that we used '==' in the assertions above.  \n",
    "\n",
    "What happens if we use '=' instead?\n",
    "\n",
    "What is the difference between '==' and '='?\n",
    "\n",
    "What is the difference between '==' and 'is'?"
   ]
  },
  {
   "cell_type": "markdown",
   "metadata": {},
   "source": [
    "# Python, the OS, & Command Line Parameters\n",
    "## What is your environment?\n",
    "\n",
    "We will explore this different ways.  We start with OS command line programs\n",
    "\n",
    "The command line is discussed in **Python the Hardway**\n",
    "\n",
    "https://learnpythonthehardway.org/book/appendixa.html"
   ]
  },
  {
   "cell_type": "code",
   "execution_count": null,
   "metadata": {},
   "outputs": [],
   "source": [
    "## From the DOS prompt\n",
    "# Display the DOS Environment\n",
    "! set                   "
   ]
  },
  {
   "cell_type": "code",
   "execution_count": null,
   "metadata": {},
   "outputs": [],
   "source": [
    "## From the Unix Prompt\n",
    "## ! Tells the Notebook to pass the command through to the Operation System (OS)\n",
    "\n",
    "! env                   # Display the Unit Environment"
   ]
  },
  {
   "cell_type": "markdown",
   "metadata": {},
   "source": [
    "### When I run this on my machine, I see something like this:\n",
    "\n",
    "```python\n",
    " TERM_PROGRAM=Apple_Terminal\n",
    " SHELL=/bin/bash\n",
    " TERM=xterm-color\n",
    " CLICOLOR=1\n",
    " TMPDIR=/var/folders/sl/5k920rfn1r92jm2_02hg61lr0000gn/T/\n",
    " Apple_PubSub_Socket_Render=/private/tmp/com.apple.launchd.CyKKXecMN1/Render\n",
    " TERM_PROGRAM_VERSION=421.2\n",
    " TERM_SESSION_ID=0EDED937-A575-4CE0-B061-7231107AD8CB\n",
    " USER=jparker\n",
    " SSH_AUTH_SOCK=/private/tmp/com.apple.launchd.KfsNEifAWf/Listeners\n",
    " JPY_PARENT_PID=2601\n",
    " PAGER=cat\n",
    " VIRTUAL_ENV=/Users/jparker/Library/Enthought/Canopy_64bit/User\n",
    " PATH=//anaconda/bin:/Library/Frameworks/Python.framework/Versions/3.5/bin:/Users/jparker/Library/Enthought/Canopy_64bit/User/bin:/usr/local/bin:/usr/bin:/bin:/usr/sbin:/sbin:/Library/TeX/texbin:/opt/X11/bin:/usr/local/git/bin:/usr/local/git/bin/:/Users/jparker/bin/\n",
    " _=/usr/bin/env\n",
    " PWD=/Users/jparker/Documents/courses/Python/Programs/day2\n",
    " LANG=en_US.UTF-8\n",
    " XPC_FLAGS=0x0\n",
    " XPC_SERVICE_NAME=0\n",
    " HOME=/Users/jparker\n",
    " SHLVL=2\n",
    " LOGNAME=jparker\n",
    " DISPLAY=/private/tmp/com.apple.launchd.BXFujiny00/org.macosforge.xquartz:0\n",
    " GIT_PAGER=cat\n",
    "```"
   ]
  },
  {
   "cell_type": "markdown",
   "metadata": {},
   "source": [
    "## An important part of your environment is your path"
   ]
  },
  {
   "cell_type": "code",
   "execution_count": null,
   "metadata": {},
   "outputs": [],
   "source": [
    "## From the DOS prompt\n",
    "\n",
    "! PATH"
   ]
  },
  {
   "cell_type": "code",
   "execution_count": null,
   "metadata": {},
   "outputs": [],
   "source": [
    "## From the Unix prompt\n",
    "\n",
    "! echo $PATH"
   ]
  },
  {
   "cell_type": "markdown",
   "metadata": {},
   "source": [
    "### When I run this on my machine, I see something like this:\n",
    "\n",
    "```python\n",
    "/Users/jparker/opt/anaconda3/bin:/Users/jparker/opt/anaconda3/condabin:/usr/local/bin:/usr/bin:/bin:/usr/sbin:/sbin:/Library/TeX/texbin:/opt/X11/bin:/usr/local/git/bin:/Users/jparker/bin\n",
    "```"
   ]
  },
  {
   "cell_type": "code",
   "execution_count": null,
   "metadata": {},
   "outputs": [],
   "source": [
    "## Pick this appart\n",
    "\n",
    "s = '/Users/jparker/opt/anaconda3/bin:/Users/jparker/opt/anaconda3/condabin:/usr/local/bin:/usr/bin:/bin:/usr/sbin:/sbin:/Library/TeX/texbin:/opt/X11/bin:/usr/local/git/bin:/Users/jparker/bin'\n",
    "\n",
    "lst = s.split(':')\n",
    "for line in lst:\n",
    "    print(line)"
   ]
  },
  {
   "cell_type": "markdown",
   "metadata": {},
   "source": [
    "## The Python Path\n",
    "### Python also has a version of Path: where to look for libraries"
   ]
  },
  {
   "cell_type": "code",
   "execution_count": null,
   "metadata": {},
   "outputs": [],
   "source": [
    "import sys              # Import the System Library sys\n",
    "\n",
    "for line in sys.path:   # For each string 'line' in the list \n",
    "    print(line)"
   ]
  },
  {
   "cell_type": "markdown",
   "metadata": {},
   "source": [
    "### When I run this, I see something like this:\n",
    "\n",
    "The idea is the same: there is where I will look for resources.\n",
    "\n",
    "This path incudes directories for the notebook: you would get fewer items at the command line\n",
    "\n",
    "```python\n",
    "/Users/jparker/Documents/courses/Python/Programs/day2\n",
    "/Users/jparker/opt/anaconda3/lib/python38.zip\n",
    "/Users/jparker/opt/anaconda3/lib/python3.8\n",
    "/Users/jparker/opt/anaconda3/lib/python3.8/lib-dynload\n",
    "\n",
    "/Users/jparker/opt/anaconda3/lib/python3.8/site-packages\n",
    "/Users/jparker/opt/anaconda3/lib/python3.8/site-packages/aeosa\n",
    "/Users/jparker/opt/anaconda3/lib/python3.8/site-packages/IPython/extensions\n",
    "/Users/jparker/.ipython\n",
    "```"
   ]
  },
  {
   "cell_type": "markdown",
   "metadata": {},
   "source": [
    "## What else does sys know?"
   ]
  },
  {
   "cell_type": "code",
   "execution_count": null,
   "metadata": {},
   "outputs": [],
   "source": [
    "import sys\n",
    "\n",
    "dir(sys)"
   ]
  },
  {
   "cell_type": "code",
   "execution_count": null,
   "metadata": {},
   "outputs": [],
   "source": [
    "## What does dir() do?\n",
    "\n",
    "help(dir)"
   ]
  },
  {
   "cell_type": "markdown",
   "metadata": {},
   "source": [
    "## What kind of things are these attributes?"
   ]
  },
  {
   "cell_type": "code",
   "execution_count": null,
   "metadata": {},
   "outputs": [],
   "source": [
    "import sys\n",
    "\n",
    "print(type(sys.copyright))"
   ]
  },
  {
   "cell_type": "code",
   "execution_count": 19,
   "metadata": {},
   "outputs": [
    {
     "name": "stdout",
     "output_type": "stream",
     "text": [
      "Copyright (c) 2001-2021 Python Software Foundation.\n",
      "All Rights Reserved.\n",
      "\n",
      "Copyright (c) 2000 BeOpen.com.\n",
      "All Rights Reserved.\n",
      "\n",
      "Copyright (c) 1995-2001 Corporation for National Research Initiatives.\n",
      "All Rights Reserved.\n",
      "\n",
      "Copyright (c) 1991-1995 Stichting Mathematisch Centrum, Amsterdam.\n",
      "All Rights Reserved.\n"
     ]
    }
   ],
   "source": [
    "## What is the copyright?\n",
    "\n",
    "print(sys.copyright)"
   ]
  },
  {
   "cell_type": "markdown",
   "metadata": {},
   "source": [
    "## What about getrefcount?\n",
    "\n",
    "Get Reference Count: How many references are there to an object?\n",
    "\n",
    "*How many people have my phone number?*"
   ]
  },
  {
   "cell_type": "code",
   "execution_count": 20,
   "metadata": {},
   "outputs": [
    {
     "name": "stdout",
     "output_type": "stream",
     "text": [
      "<class 'builtin_function_or_method'>\n"
     ]
    }
   ],
   "source": [
    "print(type(sys.getrefcount))"
   ]
  },
  {
   "cell_type": "code",
   "execution_count": 21,
   "metadata": {},
   "outputs": [
    {
     "name": "stdout",
     "output_type": "stream",
     "text": [
      "Help on built-in function getrefcount in module sys:\n",
      "\n",
      "getrefcount(object, /)\n",
      "    Return the reference count of object.\n",
      "    \n",
      "    The count returned is generally one higher than you might expect,\n",
      "    because it includes the (temporary) reference as an argument to\n",
      "    getrefcount().\n",
      "\n",
      "None\n"
     ]
    }
   ],
   "source": [
    "print(help(sys.getrefcount))"
   ]
  },
  {
   "cell_type": "code",
   "execution_count": 22,
   "metadata": {},
   "outputs": [
    {
     "name": "stdout",
     "output_type": "stream",
     "text": [
      "3\n"
     ]
    }
   ],
   "source": [
    "s = 'cattywampus'\n",
    "\n",
    "print(sys.getrefcount(s))"
   ]
  },
  {
   "cell_type": "code",
   "execution_count": 23,
   "metadata": {},
   "outputs": [],
   "source": [
    "t = s"
   ]
  },
  {
   "cell_type": "code",
   "execution_count": 24,
   "metadata": {},
   "outputs": [
    {
     "name": "stdout",
     "output_type": "stream",
     "text": [
      "3\n"
     ]
    }
   ],
   "source": [
    "print(sys.getrefcount(s))"
   ]
  },
  {
   "cell_type": "code",
   "execution_count": 25,
   "metadata": {},
   "outputs": [],
   "source": [
    "s = ''"
   ]
  },
  {
   "cell_type": "code",
   "execution_count": 26,
   "metadata": {},
   "outputs": [
    {
     "name": "stdout",
     "output_type": "stream",
     "text": [
      "2\n"
     ]
    }
   ],
   "source": [
    "print(sys.getrefcount(t))"
   ]
  },
  {
   "cell_type": "code",
   "execution_count": 27,
   "metadata": {},
   "outputs": [
    {
     "name": "stdout",
     "output_type": "stream",
     "text": [
      "8\n"
     ]
    }
   ],
   "source": [
    "u = t\n",
    "v = t\n",
    "w = t\n",
    "x = t\n",
    "y = t\n",
    "z = t\n",
    "\n",
    "print(sys.getrefcount(t))"
   ]
  },
  {
   "cell_type": "markdown",
   "metadata": {},
   "source": [
    "## Bottom line\n",
    "- Python keeps references to objects\n",
    "- It keeps track of how many references are out there"
   ]
  },
  {
   "cell_type": "markdown",
   "metadata": {},
   "source": [
    "# Command line programs use arguments\n",
    "\n",
    "Let's consider programs that make copies of a file.  We need two parameters:\n",
    "\n",
    "```python\n",
    "original.py - the name of existing file\n",
    "new.py - name of copy we are making\n",
    "```\n",
    "\n",
    "```python\n",
    "## The DOS file copy program\n",
    "copy original.py new.py  \n",
    "\n",
    "## The Unix file copy program\n",
    "cp original.py new.py  \n",
    "```\n",
    "### The system argument vector sys.argv passes in command line parameters\n",
    "\n",
    "## We will meet the program mypy below\n",
    "\n",
    "mypy takes a command line parameter for the file it should check.\n",
    "\n",
    "```python\n",
    "## Check type hints\n",
    "mypy double.py     \n",
    "```"
   ]
  },
  {
   "cell_type": "code",
   "execution_count": 28,
   "metadata": {},
   "outputs": [
    {
     "name": "stdout",
     "output_type": "stream",
     "text": [
      "<class 'list'>\n"
     ]
    }
   ],
   "source": [
    "import sys\n",
    "\n",
    "print(type(sys.argv))"
   ]
  },
  {
   "cell_type": "code",
   "execution_count": 29,
   "metadata": {},
   "outputs": [
    {
     "name": "stdout",
     "output_type": "stream",
     "text": [
      "['c:\\\\Users\\\\Asus\\\\Coding\\\\Tools\\\\Anaconda\\\\lib\\\\site-packages\\\\ipykernel_launcher.py', '--ip=127.0.0.1', '--stdin=9003', '--control=9001', '--hb=9000', '--Session.signature_scheme=\"hmac-sha256\"', '--Session.key=b\"0701f795-bcca-4227-8d35-df87f3447b97\"', '--shell=9002', '--transport=\"tcp\"', '--iopub=9004', '--f=c:\\\\Users\\\\Asus\\\\AppData\\\\Roaming\\\\jupyter\\\\runtime\\\\kernel-v2-16984zNlfxcIaqMVc.json']\n"
     ]
    }
   ],
   "source": [
    "print(sys.argv)"
   ]
  },
  {
   "cell_type": "code",
   "execution_count": 30,
   "metadata": {},
   "outputs": [
    {
     "name": "stdout",
     "output_type": "stream",
     "text": [
      "c:\\Users\\Asus\\Coding\\Tools\\Anaconda\\lib\\site-packages\\ipykernel_launcher.py\n",
      "--ip=127.0.0.1\n",
      "--stdin=9003\n",
      "--control=9001\n",
      "--hb=9000\n",
      "--Session.signature_scheme=\"hmac-sha256\"\n",
      "--Session.key=b\"0701f795-bcca-4227-8d35-df87f3447b97\"\n",
      "--shell=9002\n",
      "--transport=\"tcp\"\n",
      "--iopub=9004\n",
      "--f=c:\\Users\\Asus\\AppData\\Roaming\\jupyter\\runtime\\kernel-v2-16984zNlfxcIaqMVc.json\n"
     ]
    }
   ],
   "source": [
    "for w in sys.argv:\n",
    "    print(w)"
   ]
  },
  {
   "cell_type": "markdown",
   "metadata": {},
   "source": [
    "## Stop and Think\n",
    "\n",
    "You should have a path to the ipykernel_launcher.py in the output above.  Mine is in:\n",
    "\n",
    "/Users/jparker/opt/anaconda3/lib/python3.8/site-packages/ipykernel_launcher.py\n",
    "\n",
    "Take a look at the file.  \n",
    "\n",
    "What does CWD mean in this context?  (Hint: it is not Chronic Wasting Disease)\n",
    "\n",
    "Can you imagine why having the CWD on your path might be a threat?  \n",
    "(Hint: Beware of Greeks bearing gifts)"
   ]
  },
  {
   "cell_type": "markdown",
   "metadata": {},
   "source": [
    "# Our first python script\n",
    "\n",
    "We can run the program below from the command line or from a cell in a notebook\n",
    "\n",
    "The results will be different\n",
    "\n",
    "The value of sys.platform remains the same, but the arguments and path are part of the program's environment, and they will differ.  "
   ]
  },
  {
   "cell_type": "code",
   "execution_count": 31,
   "metadata": {},
   "outputs": [
    {
     "name": "stdout",
     "output_type": "stream",
     "text": [
      "Arguments:, ['c:\\\\Users\\\\Asus\\\\Coding\\\\Tools\\\\Anaconda\\\\lib\\\\site-packages\\\\ipykernel_launcher.py', '--ip=127.0.0.1', '--stdin=9003', '--control=9001', '--hb=9000', '--Session.signature_scheme=\"hmac-sha256\"', '--Session.key=b\"0701f795-bcca-4227-8d35-df87f3447b97\"', '--shell=9002', '--transport=\"tcp\"', '--iopub=9004', '--f=c:\\\\Users\\\\Asus\\\\AppData\\\\Roaming\\\\jupyter\\\\runtime\\\\kernel-v2-16984zNlfxcIaqMVc.json']\n",
      "\n",
      "Platform: win32\n",
      "\n",
      "Path:\n",
      "c:\\Users\\Asus\\Coding\\harvard-graduate\\introduction-to-programming-with-python\\lectures\n",
      "c:\\Users\\Asus\\Coding\\Tools\\Anaconda\\python38.zip\n",
      "c:\\Users\\Asus\\Coding\\Tools\\Anaconda\\DLLs\n",
      "c:\\Users\\Asus\\Coding\\Tools\\Anaconda\\lib\n",
      "c:\\Users\\Asus\\Coding\\Tools\\Anaconda\n",
      "\n",
      "c:\\Users\\Asus\\Coding\\Tools\\Anaconda\\lib\\site-packages\n",
      "c:\\Users\\Asus\\Coding\\Tools\\Anaconda\\lib\\site-packages\\locket-0.2.1-py3.8.egg\n",
      "c:\\Users\\Asus\\Coding\\Tools\\Anaconda\\lib\\site-packages\\win32\n",
      "c:\\Users\\Asus\\Coding\\Tools\\Anaconda\\lib\\site-packages\\win32\\lib\n",
      "c:\\Users\\Asus\\Coding\\Tools\\Anaconda\\lib\\site-packages\\Pythonwin\n",
      "c:\\Users\\Asus\\Coding\\Tools\\Anaconda\\lib\\site-packages\\IPython\\extensions\n",
      "C:\\Users\\Asus\\.ipython\n"
     ]
    }
   ],
   "source": [
    "# system.py\n",
    "#\n",
    "# Explore variables the system knows\n",
    "# Usage:\n",
    "#      % python system.py arguments\n",
    "#\n",
    "# Jeff Parker, June 2013\n",
    "\n",
    "import sys\n",
    "\n",
    "print(f\"Arguments:, {sys.argv}\\n\")\n",
    "\n",
    "print(f\"Platform: {sys.platform}\\n\")\n",
    "\n",
    "print(\"Path:\")\n",
    "# Print each component in the path\n",
    "for p in sys.path:\n",
    "    print(p)"
   ]
  },
  {
   "cell_type": "markdown",
   "metadata": {},
   "source": [
    "### Run the cell above\n",
    "### Now create a text file called system.py with the program above\n",
    "### Place it in the same directory as the notebook, and run it by calling \n",
    "\n",
    "```python\n",
    "    python system.py one two three\n",
    "```"
   ]
  },
  {
   "cell_type": "code",
   "execution_count": 32,
   "metadata": {},
   "outputs": [
    {
     "name": "stderr",
     "output_type": "stream",
     "text": [
      "python: can't open file 'system.py': [Errno 2] No such file or directory\n"
     ]
    }
   ],
   "source": [
    "## Command Line Arguments will be system.py (name of program) \n",
    "## and one, two, three\n",
    "\n",
    "! python system.py one two three"
   ]
  },
  {
   "cell_type": "markdown",
   "metadata": {},
   "source": [
    "### When I run the cell above, the OS runs the program and prints\n",
    "\n",
    "```python\n",
    "Arguments: ['system.py', 'one', 'two', 'three']\n",
    "\n",
    "Platform:  darwin\n",
    "\n",
    "Path:\n",
    "/Users/jparker/Documents/courses/Python/Programs/day2\n",
    "/Users/jparker/anaconda3/lib/python38.zip\n",
    "/Users/jparker/anaconda3/lib/python3.8\n",
    "/Users/jparker/anaconda3/lib/python3.8/lib-dynload\n",
    "/Users/jparker/anaconda3/lib/python3.8/site-packages\n",
    "/Users/jparker/anaconda3/lib/python3.8/site-packages/aeosa\n",
    "/Users/jparker/opt/anaconda3/lib/python3.8/site-packages/locket-0.2.1-py3.8.egg\n",
    "```"
   ]
  },
  {
   "cell_type": "markdown",
   "metadata": {},
   "source": [
    "### *Path and arguments differ from results with notebook*"
   ]
  },
  {
   "cell_type": "markdown",
   "metadata": {},
   "source": [
    "## Interactive Mode vs script mode\n",
    "\n",
    "Another difference between running in a Notebook cell and running at the command line"
   ]
  },
  {
   "cell_type": "code",
   "execution_count": 33,
   "metadata": {},
   "outputs": [
    {
     "data": {
      "text/plain": [
       "42"
      ]
     },
     "execution_count": 33,
     "metadata": {},
     "output_type": "execute_result"
    }
   ],
   "source": [
    "# sum.py\n",
    "#\n",
    "# Show the difference between interactive and script mode\n",
    "# Usage:\n",
    "#      % python sum.py\n",
    "#\n",
    "# Jeff Parker, June 2019\n",
    "\n",
    "17 + 25"
   ]
  },
  {
   "cell_type": "code",
   "execution_count": 34,
   "metadata": {},
   "outputs": [
    {
     "name": "stderr",
     "output_type": "stream",
     "text": [
      "Cannot access file C:\\Users\\Asus\\Coding\\harvard-graduate\\introduction-to-programming-with-python\\lectures\\sum.py\n"
     ]
    }
   ],
   "source": [
    "# A script holding the program above\n",
    "! more sum.py"
   ]
  },
  {
   "cell_type": "markdown",
   "metadata": {},
   "source": [
    "## I see\n",
    "\n",
    "```python\n",
    "# sum.py\n",
    "#\n",
    "# Show the difference between interactive and script mode\n",
    "# Usage:\n",
    "#      % python sum.py\n",
    "#\n",
    "# Jeff Parker, June 2019\n",
    "\n",
    "17 + 25\n",
    "```"
   ]
  },
  {
   "cell_type": "code",
   "execution_count": 35,
   "metadata": {},
   "outputs": [
    {
     "name": "stderr",
     "output_type": "stream",
     "text": [
      "python: can't open file 'sum.py': [Errno 2] No such file or directory\n"
     ]
    }
   ],
   "source": [
    "! python sum.py    # Nothing is printed"
   ]
  },
  {
   "cell_type": "markdown",
   "metadata": {},
   "source": [
    "## To get something from a script, we must call print()\n",
    "Write a new version"
   ]
  },
  {
   "cell_type": "code",
   "execution_count": 36,
   "metadata": {},
   "outputs": [
    {
     "name": "stdout",
     "output_type": "stream",
     "text": [
      "42\n"
     ]
    }
   ],
   "source": [
    "# script.py\n",
    "#\n",
    "# Show the difference between interactive and script mode\n",
    "# Usage:\n",
    "#      % python script.py\n",
    "#\n",
    "# Jeff Parker, June 2019\n",
    "\n",
    "n = 17 + 25\n",
    "print(n)"
   ]
  },
  {
   "cell_type": "code",
   "execution_count": 37,
   "metadata": {},
   "outputs": [
    {
     "name": "stderr",
     "output_type": "stream",
     "text": [
      "python: can't open file 'script.py': [Errno 2] No such file or directory\n"
     ]
    }
   ],
   "source": [
    "! python script.py"
   ]
  },
  {
   "cell_type": "markdown",
   "metadata": {},
   "source": [
    "## Commenting Scripts: always include following:\n",
    "We have more suggestions on Canvas: Modules/Resources/Documenting your Program"
   ]
  },
  {
   "cell_type": "code",
   "execution_count": 38,
   "metadata": {},
   "outputs": [],
   "source": [
    "# programName.py\n",
    "#\n",
    "# Purpose of the program\n",
    "# Usage\n",
    "#     % python programName.py <params>\n",
    "#\n",
    "# Author and Date"
   ]
  },
  {
   "cell_type": "markdown",
   "metadata": {},
   "source": [
    "## Stop and Think\n",
    "\n",
    "Why do we need the Usage line?\n",
    "\n",
    "What would the usage line for the OS's copy program look like?\n",
    "\n",
    "Have you ever called a program with the wrong arguments?  What happened?"
   ]
  },
  {
   "cell_type": "markdown",
   "metadata": {},
   "source": [
    "# The Return value of a function\n",
    "\n",
    "Functions *return* a value to the caller.\n",
    "\n",
    "Sometimes we use the return value - len(s)\n",
    "\n",
    "- len() *returns* an integer representing the length of the argument.\n",
    "\n",
    "Sometimes we ignore the return value - print(s)\n",
    "\n",
    "- What does print() return?"
   ]
  },
  {
   "cell_type": "code",
   "execution_count": 39,
   "metadata": {},
   "outputs": [
    {
     "name": "stdout",
     "output_type": "stream",
     "text": [
      "6 <class 'int'>\n"
     ]
    }
   ],
   "source": [
    "s = 'onetwo'\n",
    "\n",
    "ret_val = len(s)\n",
    "print(ret_val, type(ret_val))   # What does len() return?  "
   ]
  },
  {
   "cell_type": "code",
   "execution_count": 40,
   "metadata": {},
   "outputs": [
    {
     "name": "stdout",
     "output_type": "stream",
     "text": [
      "onetwo\n",
      "None <class 'NoneType'>\n"
     ]
    }
   ],
   "source": [
    "ret_val = print(s)\n",
    "print(ret_val, type(ret_val))   # What does print() return?  "
   ]
  },
  {
   "cell_type": "code",
   "execution_count": 41,
   "metadata": {},
   "outputs": [
    {
     "name": "stdout",
     "output_type": "stream",
     "text": [
      "Hello, Sam\n",
      "None <class 'NoneType'>\n"
     ]
    }
   ],
   "source": [
    "def print_greeting(name: str):              # Reminder\n",
    "    print(\"Hello, \" + name)\n",
    "\n",
    "x = print_greeting('Sam')\n",
    "print(x, type(x))   # What does the function return?  "
   ]
  },
  {
   "cell_type": "markdown",
   "metadata": {},
   "source": [
    "## print() and print_greeting() are \"void functions\"  \n",
    "\n",
    "They may do something useful, but they do not return a value\n",
    "\n",
    "*Well, they return **None**, but None isn't a useful value*\n",
    " \n",
    "### Downey calls functions that return a value 'Fruitful Functions\"\n",
    "\n",
    "Void functions could be called Fruitless Functions"
   ]
  },
  {
   "cell_type": "code",
   "execution_count": 42,
   "metadata": {},
   "outputs": [
    {
     "name": "stdout",
     "output_type": "stream",
     "text": [
      "Hello, Sam <class 'str'>\n"
     ]
    }
   ],
   "source": [
    "def greeting(name: str):              # Reminder\n",
    "    return \"Hello, \" + name\n",
    "\n",
    "ret_val = greeting('Sam')\n",
    "print(ret_val, type(ret_val))   # What does the function return?  "
   ]
  },
  {
   "cell_type": "markdown",
   "metadata": {},
   "source": [
    "## Composing Functions\n",
    "## We can compose fruitful functions\n",
    "### I feed the value that len() returns to function type()\n",
    "```python\n",
    "    type( len(s) )\n",
    "```\n",
    "### I feed the value that type() returns to function print()\n",
    "\n",
    "```python\n",
    "    print( type( len(s) ) )\n",
    "```"
   ]
  },
  {
   "cell_type": "code",
   "execution_count": 43,
   "metadata": {},
   "outputs": [
    {
     "name": "stdout",
     "output_type": "stream",
     "text": [
      "<class 'int'>\n"
     ]
    }
   ],
   "source": [
    "print(type(len('Hello')))"
   ]
  },
  {
   "cell_type": "markdown",
   "metadata": {},
   "source": [
    "## What will this do?\n",
    "```python\n",
    "    len(print(type('Hello')))\n",
    "```\n",
    "- I feed the value type() returns to function print()\n",
    "- I feed the value print() returns to function len()"
   ]
  },
  {
   "cell_type": "code",
   "execution_count": 44,
   "metadata": {},
   "outputs": [
    {
     "name": "stdout",
     "output_type": "stream",
     "text": [
      "<class 'str'>\n"
     ]
    },
    {
     "ename": "TypeError",
     "evalue": "object of type 'NoneType' has no len()",
     "output_type": "error",
     "traceback": [
      "\u001b[1;31m---------------------------------------------------------------------------\u001b[0m",
      "\u001b[1;31mTypeError\u001b[0m                                 Traceback (most recent call last)",
      "\u001b[1;32m~\\AppData\\Local\\Temp/ipykernel_11516/434905908.py\u001b[0m in \u001b[0;36m<module>\u001b[1;34m\u001b[0m\n\u001b[1;32m----> 1\u001b[1;33m \u001b[0mlen\u001b[0m\u001b[1;33m(\u001b[0m\u001b[0mprint\u001b[0m\u001b[1;33m(\u001b[0m\u001b[0mtype\u001b[0m\u001b[1;33m(\u001b[0m\u001b[1;34m'Hello'\u001b[0m\u001b[1;33m)\u001b[0m\u001b[1;33m)\u001b[0m\u001b[1;33m)\u001b[0m\u001b[1;33m\u001b[0m\u001b[1;33m\u001b[0m\u001b[0m\n\u001b[0m",
      "\u001b[1;31mTypeError\u001b[0m: object of type 'NoneType' has no len()"
     ]
    }
   ],
   "source": [
    "len(print(type('Hello')))"
   ]
  },
  {
   "cell_type": "markdown",
   "metadata": {},
   "source": [
    "- type() returns <class ‘str’>\n",
    "- print() *prints* but *returns* None\n",
    "- len() complains"
   ]
  },
  {
   "cell_type": "markdown",
   "metadata": {},
   "source": [
    "## Parker's Prohibition\n",
    "## *Never print in a function - return the result*\n",
    "\n",
    "## Exceptions\n",
    "- Functions with 'print' in the name, such as print_greeting()\n",
    "- While debugging\n",
    "- When we have encountered an error and want to tell the user, but see below\n",
    "\n",
    "*When we encounter an error, we will learn how to throw an exception*"
   ]
  },
  {
   "cell_type": "markdown",
   "metadata": {
    "collapsed": true
   },
   "source": [
    "## *What is wrong with printing?*\n",
    "\n",
    "Do you want len() to print the length of a string?\n",
    "\n",
    "Or should len() return the length so you can use it?\n",
    "\n",
    "### *I found an interesting change machine at the laundromat*\n",
    "It has LEDs that show how many bills you put in, but it never returns a coin."
   ]
  },
  {
   "cell_type": "markdown",
   "metadata": {},
   "source": [
    "## Stop and Think\n",
    "\n",
    "What is the return value of greeting()?\n",
    "\n",
    "What is the return value of print_greeting()?\n",
    "\n",
    "What does sys.getrefcount() take as a parameter, and what does it return?"
   ]
  },
  {
   "cell_type": "markdown",
   "metadata": {},
   "source": [
    "# Type Hints\n",
    "## We can declare what kind of arguments we expect\n",
    "I will use Type Hints to help document functions"
   ]
  },
  {
   "cell_type": "code",
   "execution_count": 45,
   "metadata": {},
   "outputs": [
    {
     "name": "stdout",
     "output_type": "stream",
     "text": [
      "Hello, Sam\n"
     ]
    }
   ],
   "source": [
    "def print_greeting(name: str):          # Parameter List\n",
    "    print(f\"Hello, {name}\")\n",
    "\n",
    "print_greeting('Sam')                   # Argument List"
   ]
  },
  {
   "cell_type": "code",
   "execution_count": 46,
   "metadata": {},
   "outputs": [
    {
     "name": "stdout",
     "output_type": "stream",
     "text": [
      "Hello, 2\n"
     ]
    }
   ],
   "source": [
    "print_greeting(2)                       # We are not passing in a string"
   ]
  },
  {
   "cell_type": "code",
   "execution_count": 47,
   "metadata": {},
   "outputs": [
    {
     "name": "stdout",
     "output_type": "stream",
     "text": [
      "Hello, [1, 2, 3]\n"
     ]
    }
   ],
   "source": [
    "print_greeting([1, 2, 3])"
   ]
  },
  {
   "cell_type": "markdown",
   "metadata": {},
   "source": [
    "## Double() takes a string and returns a string"
   ]
  },
  {
   "cell_type": "code",
   "execution_count": 48,
   "metadata": {},
   "outputs": [],
   "source": [
    "def double(s: str) -> str:              # Take a string and return a string\n",
    "    return s + s"
   ]
  },
  {
   "cell_type": "markdown",
   "metadata": {},
   "source": [
    "## Python ignores type hints"
   ]
  },
  {
   "cell_type": "code",
   "execution_count": 49,
   "metadata": {},
   "outputs": [
    {
     "name": "stdout",
     "output_type": "stream",
     "text": [
      "Sock it to me! Sock it to me! \n"
     ]
    }
   ],
   "source": [
    "# RIP Aretha\n",
    "print(double('Sock it to me! '))"
   ]
  },
  {
   "cell_type": "code",
   "execution_count": 50,
   "metadata": {},
   "outputs": [
    {
     "name": "stdout",
     "output_type": "stream",
     "text": [
      "4\n"
     ]
    }
   ],
   "source": [
    "print(double(2))"
   ]
  },
  {
   "cell_type": "code",
   "execution_count": 51,
   "metadata": {},
   "outputs": [
    {
     "name": "stdout",
     "output_type": "stream",
     "text": [
      "[1, 2, 3, 1, 2, 3]\n"
     ]
    }
   ],
   "source": [
    "print(double([1, 2, 3]))"
   ]
  },
  {
   "cell_type": "markdown",
   "metadata": {},
   "source": [
    "## We can use the mypy program to check type hints\n",
    "\n",
    "We create a small program to test double()"
   ]
  },
  {
   "cell_type": "code",
   "execution_count": 52,
   "metadata": {},
   "outputs": [
    {
     "name": "stderr",
     "output_type": "stream",
     "text": [
      "Cannot access file C:\\Users\\Asus\\Coding\\harvard-graduate\\introduction-to-programming-with-python\\lectures\\double.py\n"
     ]
    }
   ],
   "source": [
    "! more double.py"
   ]
  },
  {
   "cell_type": "markdown",
   "metadata": {},
   "source": [
    "```python\n",
    "# double.py\n",
    "#\n",
    "# Return twice as much\n",
    "#\n",
    "# Usage:\n",
    "#      % python double.py\n",
    "#\n",
    "# Jeff Parker, Sept. 2019\n",
    "\n",
    "\n",
    "# Double a string\n",
    "def double(s: str) -> str:\n",
    "    return s + s\n",
    "\n",
    "\n",
    "# RIP Aretha\n",
    "print(double('Sock it to me! '))\n",
    "print(double(2))\n",
    "print(double([1, 2, 3]))\n",
    "```"
   ]
  },
  {
   "cell_type": "code",
   "execution_count": 53,
   "metadata": {},
   "outputs": [
    {
     "name": "stderr",
     "output_type": "stream",
     "text": [
      "python: can't open file 'double.py': [Errno 2] No such file or directory\n"
     ]
    }
   ],
   "source": [
    "! python double.py"
   ]
  },
  {
   "cell_type": "markdown",
   "metadata": {},
   "source": [
    "## Although it doesn't match the types, double runs\n",
    "\n",
    "Let's use mypy to see if we are following the type hints\n",
    "\n",
    "If you don't have mypy installed, see instructions below"
   ]
  },
  {
   "cell_type": "code",
   "execution_count": 54,
   "metadata": {},
   "outputs": [
    {
     "name": "stderr",
     "output_type": "stream",
     "text": [
      "usage: mypy [-h] [-v] [-V] [more options; see below]\n",
      "            [-m MODULE] [-p PACKAGE] [-c PROGRAM_TEXT] [files ...]\n",
      "mypy: error: Missing target module, package, files, or command.\n"
     ]
    }
   ],
   "source": [
    "! mypy"
   ]
  },
  {
   "cell_type": "markdown",
   "metadata": {},
   "source": [
    "## Programs that expect command line parameters should complain\n",
    "\n",
    "It is best if they tell you what they expected to see\n",
    "\n",
    "This should match what the programmer put in the Usage line of her comments\n",
    "\n",
    "mypy takes a command line parameter telling it what file to check"
   ]
  },
  {
   "cell_type": "code",
   "execution_count": 55,
   "metadata": {},
   "outputs": [
    {
     "name": "stderr",
     "output_type": "stream",
     "text": [
      "mypy: can't read file 'double.py': No such file or directory\n"
     ]
    }
   ],
   "source": [
    "! mypy double.py"
   ]
  },
  {
   "cell_type": "markdown",
   "metadata": {},
   "source": [
    "You may see something like\n",
    "\n",
    "```python\n",
    "     zsh:1: command not found: mypy\n",
    "```\n",
    "This means you need to install mypy - see instructions below."
   ]
  },
  {
   "cell_type": "markdown",
   "metadata": {},
   "source": [
    "## What I see from mypy:\n",
    "```python\n",
    "double.py:18: error: Argument 1 to \"double\" has incompatible type \"int\"; expected \"str\"\n",
    "double.py:19: error: Argument 1 to \"double\" has incompatible type \"List[int]\"; expected \"str\"\n",
    "Found 2 errors in 1 file (checked 1 source file)\n",
    "```\n",
    "\n",
    "This tells us that we are calling double() with an unexpected type of parameter: an integer in the first case, and a list of integers in the second."
   ]
  },
  {
   "cell_type": "markdown",
   "metadata": {},
   "source": [
    "## Installing mypy\n",
    "\n",
    "If you don't have mypy, you can install it.\n",
    "\n",
    "After installing, make sure that your PATH variable points to it..."
   ]
  },
  {
   "cell_type": "code",
   "execution_count": 56,
   "metadata": {},
   "outputs": [],
   "source": [
    "! conda install mypy"
   ]
  },
  {
   "cell_type": "markdown",
   "metadata": {},
   "source": [
    "You will see output like this from Anaconda when you install mypy.  Your details will differ: this was for a 3.7 base.  \n",
    "\n",
    "```python\n",
    "conda install mypy\n",
    "Collecting package metadata (repodata.json): done\n",
    "Solving environment: done\n",
    "\n",
    "## Package Plan ##\n",
    "\n",
    "  environment location: /Users/jparker/anaconda3\n",
    "\n",
    "  added / updated specs:\n",
    "    - mypy\n",
    "\n",
    "\n",
    "The following packages will be downloaded:\n",
    "\n",
    "    package                    |            build\n",
    "    ---------------------------|-----------------\n",
    "    conda-4.7.11               |           py37_0         3.0 MB\n",
    "    mypy-0.660                 |           py37_0         1.3 MB\n",
    "    mypy_extensions-0.4.1      |           py37_0           8 KB\n",
    "    typed-ast-1.1.0            |   py37h1de35cc_0         183 KB\n",
    "    ------------------------------------------------------------\n",
    "                                           Total:         4.6 MB\n",
    "\n",
    "The following NEW packages will be INSTALLED:\n",
    "\n",
    "  mypy               pkgs/main/osx-64::mypy-0.660-py37_0\n",
    "  mypy_extensions    pkgs/main/osx-64::mypy_extensions-0.4.1-py37_0\n",
    "  typed-ast          pkgs/main/osx-64::typed-ast-1.1.0-py37h1de35cc_0\n",
    "\n",
    "The following packages will be UPDATED:\n",
    "\n",
    "  conda                                       4.7.10-py37_0 --> 4.7.11-py37_0\n",
    "\n",
    "\n",
    "Proceed ([y]/n)? y\n",
    "\n",
    "\n",
    "Downloading and Extracting Packages\n",
    "mypy-0.660           | 1.3 MB    | ########################################## | 100% \n",
    "typed-ast-1.1.0      | 183 KB    | ########################################## | 100% \n",
    "conda-4.7.11         | 3.0 MB    | ########################################## | 100% \n",
    "mypy_extensions-0.4. | 8 KB      | ########################################## | 100% \n",
    "Preparing transaction: done\n",
    "Verifying transaction: done\n",
    "Executing transaction: done\n",
    "```"
   ]
  },
  {
   "cell_type": "markdown",
   "metadata": {},
   "source": [
    "## For more on mypy and type hints, see\n",
    "\n",
    "https://mypy.readthedocs.io/en/latest/type_inference_and_annotations.html"
   ]
  },
  {
   "cell_type": "markdown",
   "metadata": {},
   "source": [
    "## Stop and Think\n",
    "\n",
    "What is the purpose of Type Hints?\n",
    "\n",
    "My medication tells me to take no more than 2 pills every 8 hours.    \n",
    "\n",
    "The Marriage vows ask the couple to care for each other in sickness and in health.\n",
    "\n",
    "Can you think of another examples IRL of similar caveats?"
   ]
  },
  {
   "cell_type": "markdown",
   "metadata": {},
   "source": [
    "# Scope\n",
    "The scope of a variable is where the variable is known\n",
    "\n",
    "In Boston, my friend Buzz lives in Newburyport\n",
    "\n",
    "In Boulder, my friend Buzz is from St. Paul"
   ]
  },
  {
   "cell_type": "code",
   "execution_count": null,
   "metadata": {},
   "outputs": [],
   "source": [
    "# What variables are in scope in the notebook?\n",
    "\n",
    "%who"
   ]
  },
  {
   "cell_type": "markdown",
   "metadata": {},
   "source": [
    "## Example with multiple scope"
   ]
  },
  {
   "cell_type": "code",
   "execution_count": null,
   "metadata": {},
   "outputs": [],
   "source": [
    "i = 1\n",
    "\n",
    "def example():\n",
    "    i = 5\n",
    "    print(f\"\\t i is {i} in function example()\")\n",
    "\n",
    "    \n",
    "print(f\"i is {i} in main()\")\n",
    "example()\n",
    "print(f\"i is {i} in main()\")"
   ]
  },
  {
   "cell_type": "markdown",
   "metadata": {},
   "source": [
    "# In the function we redefine i to be 5\n",
    "### This is said to 'occlude' the global value 1\n",
    "During a solar eclipse, the moon occludes the sun.\n",
    "https://en.wikipedia.org/wiki/Occultation\n",
    "### When we leave the function, the global value is visible again.\n",
    "After the eclipse is over, we can see the sun again."
   ]
  },
  {
   "cell_type": "markdown",
   "metadata": {},
   "source": [
    "## How to decide what the name 'Buzz' refers to\n",
    "### Scope in Python is LEGB - Local, Enclosed, Global, then Builtin\n",
    "\n",
    "- Local: We try to resolve name in the Local name space\n",
    "\n",
    "- Enclosing: Next we look in the Enclosing definitions\n",
    "\n",
    "- Globasls: Next we look in Globals\n",
    "\n",
    "- Builtins: Finally we look in Builtins"
   ]
  },
  {
   "cell_type": "markdown",
   "metadata": {},
   "source": [
    "## Poorly chosen variable name can occlude a builtin\n",
    "\n",
    "This is a common mistake: Caveat Emptor!\n",
    "\n",
    "Since we look in L, E, and G before we look in B, easy to mess up\n",
    "\n",
    "We'll see two common victims: str and list\n",
    "\n",
    "### str() takes an object and returns a string\n",
    "### We also use repr() below, which returns the representation"
   ]
  },
  {
   "cell_type": "code",
   "execution_count": null,
   "metadata": {},
   "outputs": [],
   "source": [
    "help(repr)"
   ]
  },
  {
   "cell_type": "code",
   "execution_count": null,
   "metadata": {},
   "outputs": [],
   "source": [
    "n = 17\n",
    "print(f\"n = {n} \\t\\t {type(n)}\\n\")\n",
    "\n",
    "s = str(n)\n",
    "print(f\"s = {repr(s)} \\t {type(s)}\\n\")\n",
    "\n",
    "print(f\"str \\t\\t {type(str)}\")"
   ]
  },
  {
   "cell_type": "markdown",
   "metadata": {},
   "source": [
    "### To recap: str is a type, and str() takes an object and returns a string \n",
    "## Now override str"
   ]
  },
  {
   "cell_type": "code",
   "execution_count": null,
   "metadata": {},
   "outputs": [],
   "source": [
    "str = 'guppy'\n",
    "n = 17\n",
    "\n",
    "s = str(n)   # Same statement as above, but"
   ]
  },
  {
   "cell_type": "code",
   "execution_count": null,
   "metadata": {},
   "outputs": [],
   "source": [
    "type(str)"
   ]
  },
  {
   "cell_type": "markdown",
   "metadata": {},
   "source": [
    "### *That is, str is no longer a type: it is a simple string*\n",
    "\n",
    "In fact, str now has type str.  "
   ]
  },
  {
   "cell_type": "markdown",
   "metadata": {},
   "source": [
    "## Repeat the experiment with class list"
   ]
  },
  {
   "cell_type": "code",
   "execution_count": null,
   "metadata": {},
   "outputs": [],
   "source": [
    "x = list('cat')\n",
    "print(x)"
   ]
  },
  {
   "cell_type": "code",
   "execution_count": null,
   "metadata": {},
   "outputs": [],
   "source": [
    "type(list)"
   ]
  },
  {
   "cell_type": "code",
   "execution_count": null,
   "metadata": {},
   "outputs": [],
   "source": [
    "# Now we override the meaning of list\n",
    "\n",
    "list = [1, 2, 3]"
   ]
  },
  {
   "cell_type": "code",
   "execution_count": null,
   "metadata": {},
   "outputs": [],
   "source": [
    "y = list('cat')   # Same statement as above, but\n",
    "print(y)"
   ]
  },
  {
   "cell_type": "code",
   "execution_count": null,
   "metadata": {},
   "outputs": [],
   "source": [
    "type(list)"
   ]
  },
  {
   "cell_type": "markdown",
   "metadata": {},
   "source": [
    "## How to fix this?\n",
    "\n",
    "First, look at the environment.\n",
    "\n",
    "You will see that we have defined variables str and list"
   ]
  },
  {
   "cell_type": "code",
   "execution_count": null,
   "metadata": {},
   "outputs": [],
   "source": [
    "%who"
   ]
  },
  {
   "cell_type": "markdown",
   "metadata": {},
   "source": [
    "## Next, hit Kernel/Restart in your Notebook\n",
    "### Then look again at the environment"
   ]
  },
  {
   "cell_type": "code",
   "execution_count": null,
   "metadata": {},
   "outputs": [],
   "source": [
    "%who"
   ]
  },
  {
   "cell_type": "markdown",
   "metadata": {},
   "source": [
    "## Once you have restarted the Kernel, you will see\n",
    "```python\n",
    "Interactive namespace is empty.\n",
    "```\n",
    "and you will have access to the original meaning of list() and str()"
   ]
  },
  {
   "cell_type": "code",
   "execution_count": null,
   "metadata": {},
   "outputs": [],
   "source": [
    "x = str(17)\n",
    "print(repr(x))\n",
    "\n",
    "y = list('cat')\n",
    "print(y)"
   ]
  },
  {
   "cell_type": "markdown",
   "metadata": {},
   "source": [
    "## Stop and Think\n",
    "\n",
    "In the program fragment below, we have a function which occludes the name list.\n",
    "\n",
    "The first call, list('cat'), will work.  \n",
    "\n",
    "We then call example, which redefines list.  \n",
    "\n",
    "Will the final call, list('dog'), work?\n",
    "\n",
    "## Put some skin in the game!\n",
    "### Don't run the program until you have a hypothesis! \n",
    "\n",
    "You can cut and paste the text below into the cell and run it once you have a hypothesis.\n",
    "\n",
    "```python\n",
    "def example():\n",
    "    list = [1, 2, 3]\n",
    "    print(list)\n",
    "    \n",
    "x = list('cat')\n",
    "print(x)\n",
    "example()\n",
    "x = list('dog')\n",
    "print(x)\n",
    "```"
   ]
  },
  {
   "cell_type": "code",
   "execution_count": null,
   "metadata": {},
   "outputs": [],
   "source": [
    "## Run the example\n",
    "\n",
    "..."
   ]
  },
  {
   "cell_type": "markdown",
   "metadata": {},
   "source": [
    "# Why use Functions?  Four reasons\n",
    "\n",
    "The competent programmer is fully aware of \n",
    "the limited size of his own skull. He therefore \n",
    "approaches his task with full humility, \n",
    "and avoids clever tricks ... \n",
    "-- Edsger Dijkstra "
   ]
  },
  {
   "cell_type": "markdown",
   "metadata": {},
   "source": [
    "## 1) Fix Errors only once\n",
    "### Example suggested by Don Knuth in the CACM, April 1984\n",
    "### http://www.cs.bme.hu/~friedl/alg/knuth_song_complexity.pdf\n",
    "\n",
    "\"However, the advent of modern drugs has led to demands for still less memory, and the ultimate improvement of Theorem 1 has consequently just been announced:\n",
    "\n",
    "\"THEOREM 2.\n",
    "There exist arbitrarily long songs of complexity O(1).\""
   ]
  },
  {
   "cell_type": "code",
   "execution_count": null,
   "metadata": {},
   "outputs": [],
   "source": [
    "## See https://www.youtube.com/watch?v=q3svW8PM_jc\n",
    "\n",
    "def grunt():\n",
    "    print(\"uh-huh\")\n",
    "          \n",
    "          \n",
    "def chorus():\n",
    "    print(\"That's the way\")\n",
    "    grunt()\n",
    "    print(\"I like it\")\n",
    "    grunt()\n",
    "    print()\n",
    "    \n",
    "chorus()"
   ]
  },
  {
   "cell_type": "markdown",
   "metadata": {},
   "source": [
    "### In fact, that is not correct.  grunt() should be:"
   ]
  },
  {
   "cell_type": "code",
   "execution_count": null,
   "metadata": {},
   "outputs": [],
   "source": [
    "## Only need to fix this in one place\n",
    "##\n",
    "def grunt():\n",
    "    print(\"uh-huh\")\n",
    "    print(\"uh-huh\")"
   ]
  },
  {
   "cell_type": "markdown",
   "metadata": {},
   "source": [
    "## 2) Only write each task once"
   ]
  },
  {
   "cell_type": "code",
   "execution_count": null,
   "metadata": {},
   "outputs": [],
   "source": [
    "def hit_single():\n",
    "    chorus()\n",
    "    chorus()\n",
    "    chorus() \n",
    "    chorus()\n",
    "    chorus()\n",
    "    chorus()\n",
    "    \n",
    "hit_single()"
   ]
  },
  {
   "cell_type": "markdown",
   "metadata": {},
   "source": [
    "## 3) Separation of concerns"
   ]
  },
  {
   "cell_type": "code",
   "execution_count": null,
   "metadata": {},
   "outputs": [],
   "source": [
    "def sausage():\n",
    "    ...\n",
    "\n",
    "sausage()       # I don’t want to know the details"
   ]
  },
  {
   "cell_type": "markdown",
   "metadata": {
    "collapsed": true
   },
   "source": [
    "## 4) Debugging"
   ]
  },
  {
   "cell_type": "markdown",
   "metadata": {
    "collapsed": true
   },
   "source": [
    "### Decompose your program into functions - makes it easier to debug\n",
    "### Verify that each function is working\n",
    "### Then assemble the components\n",
    "### Allows you to take a leap of faith: \n",
    "### \"grunt() is working, so problem is elsewhere\""
   ]
  },
  {
   "cell_type": "markdown",
   "metadata": {},
   "source": [
    "## Stop and Think\n",
    "\n",
    "Think of three complex tasks can you perform on autopilot, such as brushing your teeth.  \n",
    "\n",
    "If you drive, you can probably make a 'three point turn'. \n",
    "\n",
    "https://en.wikipedia.org/wiki/Three-point_turn\n",
    "\n",
    "Do you remember learning a three point turn?  Do you remember the attention it took?\n",
    "\n",
    "A function can codify a complex task so that we don't have to rethink it each time.  "
   ]
  },
  {
   "cell_type": "markdown",
   "metadata": {},
   "source": [
    "# Python Library of the Week - \n",
    "## https://pymotw.com/3/index.html"
   ]
  },
  {
   "cell_type": "code",
   "execution_count": null,
   "metadata": {},
   "outputs": [],
   "source": [
    "import platform                             # Not supported by Python Tutor\n",
    "\n",
    "print('Ver:  ', platform.python_version())  # Note use of whitespace to lineup output\n",
    "print('Build:', platform.python_build())"
   ]
  },
  {
   "cell_type": "markdown",
   "metadata": {},
   "source": [
    "### I saw\n",
    "```python\n",
    "Ver:   3.8.8\n",
    "Build: ('default', 'Apr 13 2021 12:59:45')\n",
    "```"
   ]
  },
  {
   "cell_type": "markdown",
   "metadata": {},
   "source": [
    "## Animal, vegetable, or mineral?"
   ]
  },
  {
   "cell_type": "code",
   "execution_count": null,
   "metadata": {},
   "outputs": [],
   "source": [
    "print(type(platform.python_version()))"
   ]
  },
  {
   "cell_type": "code",
   "execution_count": null,
   "metadata": {},
   "outputs": [],
   "source": [
    "print(type(platform.python_build()))"
   ]
  },
  {
   "cell_type": "code",
   "execution_count": null,
   "metadata": {},
   "outputs": [],
   "source": [
    "platform.python_build()[1]"
   ]
  },
  {
   "cell_type": "markdown",
   "metadata": {
    "collapsed": true
   },
   "source": [
    "## Stop and think\n",
    "\n",
    "Use platform.system() call to find name of your Operating System (OS)"
   ]
  },
  {
   "cell_type": "markdown",
   "metadata": {
    "collapsed": true
   },
   "source": [
    "# Drop days\n",
    "- We want you to succeed\n",
    "- But if you are struggling, please take stock\n",
    "- Do you have the time to continue?\n",
    "- There will be another version this Spring "
   ]
  },
  {
   "cell_type": "markdown",
   "metadata": {},
   "source": [
    "# Wow, That's Fantastic!"
   ]
  },
  {
   "cell_type": "markdown",
   "metadata": {},
   "source": [
    "## Turtle Graphics: A peek ahead to next week"
   ]
  },
  {
   "cell_type": "code",
   "execution_count": null,
   "metadata": {},
   "outputs": [],
   "source": [
    "# If you can't run this on your system, you can run on https://trinket.io\n",
    "#\n",
    "import turtle\n",
    "\n",
    "# Create a turtle ojbect\n",
    "bob = turtle.Turtle()\n",
    "\n",
    "# Draw a picture\n",
    "for i in range(45):\n",
    "    # Draw an edge\n",
    "    bob.fd(200)\n",
    "    bob.lt(86)\n",
    "    \n",
    "turtle.mainloop()"
   ]
  },
  {
   "cell_type": "markdown",
   "metadata": {},
   "source": [
    "# Summary\n",
    "- Scripts vs Interactive Mode\n",
    "- Functions\n",
    "- Scope\n",
    "- Libraries such as sys and platform can talk to OS - allows us to explore the world beyond our program"
   ]
  }
 ],
 "metadata": {
  "kernelspec": {
   "display_name": "Python 3.8.12 ('base')",
   "language": "python",
   "name": "python3"
  },
  "language_info": {
   "codemirror_mode": {
    "name": "ipython",
    "version": 3
   },
   "file_extension": ".py",
   "mimetype": "text/x-python",
   "name": "python",
   "nbconvert_exporter": "python",
   "pygments_lexer": "ipython3",
   "version": "3.8.12"
  },
  "vscode": {
   "interpreter": {
    "hash": "2011e8f1b66e4ca782a16183c079a9a8ceaa771eb94b3143f514bb5560527e59"
   }
  }
 },
 "nbformat": 4,
 "nbformat_minor": 2
}
