{
 "cells": [
  {
   "cell_type": "markdown",
   "metadata": {},
   "source": [
    "# CSCI E7 Introduction to Programming with Python\n",
    "## Lecture 06 Jupyter Notebook\n",
    "Fall 2021 (c) Jeff Parker"
   ]
  },
  {
   "cell_type": "markdown",
   "metadata": {},
   "source": [
    "# Timing a program"
   ]
  },
  {
   "cell_type": "markdown",
   "metadata": {},
   "source": [
    "## Use a Jupyter command to time operations¶"
   ]
  },
  {
   "cell_type": "code",
   "execution_count": 2,
   "metadata": {},
   "outputs": [
    {
     "name": "stdout",
     "output_type": "stream",
     "text": [
      "Wall time: 132 ms\n"
     ]
    },
    {
     "name": "stderr",
     "output_type": "stream",
     "text": [
      "python: can't open file '../assignment5/reversals.py': [Errno 2] No such file or directory\n"
     ]
    }
   ],
   "source": [
    "%%time\n",
    "\n",
    "! python ../assignment5/reversals.py ../words.txt "
   ]
  },
  {
   "cell_type": "markdown",
   "metadata": {},
   "source": [
    "```python\n",
    "CPU times: user 1.72 s, sys: 475 ms, total: 2.19 s\n",
    "Wall time: 1min 41s\n",
    "```"
   ]
  },
  {
   "cell_type": "markdown",
   "metadata": {},
   "source": [
    "101 seconds\n",
    "\n",
    "## Shortlist: Remove items we have tested"
   ]
  },
  {
   "cell_type": "code",
   "execution_count": 3,
   "metadata": {},
   "outputs": [
    {
     "name": "stdout",
     "output_type": "stream",
     "text": [
      "Wall time: 101 ms\n"
     ]
    },
    {
     "name": "stderr",
     "output_type": "stream",
     "text": [
      "python: can't open file '../assignment5/reversalsShortlist.py': [Errno 2] No such file or directory\n"
     ]
    }
   ],
   "source": [
    "%%time\n",
    "\n",
    "! python ../assignment5/reversalsShortlist.py ../words.txt "
   ]
  },
  {
   "cell_type": "markdown",
   "metadata": {},
   "source": [
    "```python\n",
    "CPU times: user 803 ms, sys: 241 ms, total: 1.04 s\n",
    "Wall time: 1min 2s\n",
    "```"
   ]
  },
  {
   "cell_type": "markdown",
   "metadata": {},
   "source": [
    "62 seconds\n",
    "\n",
    "### This is faster, but still unacceptable for most users.  "
   ]
  },
  {
   "cell_type": "markdown",
   "metadata": {},
   "source": [
    "## Hold the words in a Dictionary rather than a list"
   ]
  },
  {
   "cell_type": "code",
   "execution_count": 4,
   "metadata": {},
   "outputs": [
    {
     "name": "stdout",
     "output_type": "stream",
     "text": [
      "Wall time: 99.4 ms\n"
     ]
    },
    {
     "name": "stderr",
     "output_type": "stream",
     "text": [
      "python: can't open file '../assignment5/reversalDict.py': [Errno 2] No such file or directory\n"
     ]
    }
   ],
   "source": [
    " %%time\n",
    "\n",
    "! python ../assignment5/reversalDict.py ../words.txt "
   ]
  },
  {
   "cell_type": "markdown",
   "metadata": {},
   "source": [
    "```python\n",
    "CPU times: user 31.3 ms, sys: 14.3 ms, total: 45.6 ms\n",
    "Wall time: 2.19 s\n",
    "```"
   ]
  },
  {
   "cell_type": "markdown",
   "metadata": {},
   "source": [
    "### 30 times faster than improved version "
   ]
  },
  {
   "cell_type": "markdown",
   "metadata": {},
   "source": [
    "# Dictionaries\n",
    "## Mapping between *keys* and *values*"
   ]
  },
  {
   "cell_type": "code",
   "execution_count": 5,
   "metadata": {},
   "outputs": [
    {
     "name": "stdout",
     "output_type": "stream",
     "text": [
      "{}\n"
     ]
    }
   ],
   "source": [
    "eng2sp = dict()\n",
    "print(eng2sp)"
   ]
  },
  {
   "cell_type": "code",
   "execution_count": 6,
   "metadata": {},
   "outputs": [
    {
     "name": "stdout",
     "output_type": "stream",
     "text": [
      "{'one': 'uno'}\n"
     ]
    }
   ],
   "source": [
    "eng2sp['one'] = 'uno'\n",
    "print(eng2sp)"
   ]
  },
  {
   "cell_type": "markdown",
   "metadata": {},
   "source": [
    "## Can test if a key is in the dictionary and return value\n",
    "The speed of this test gives dictionaries their value"
   ]
  },
  {
   "cell_type": "code",
   "execution_count": 7,
   "metadata": {},
   "outputs": [
    {
     "name": "stdout",
     "output_type": "stream",
     "text": [
      "Found it\n",
      "one: uno\n"
     ]
    }
   ],
   "source": [
    "if ('one' in eng2sp):\n",
    "    print(\"Found it\")\n",
    "    print(f\"one: {eng2sp['one']}\")"
   ]
  },
  {
   "cell_type": "markdown",
   "metadata": {},
   "source": [
    "## Can Add an entry"
   ]
  },
  {
   "cell_type": "code",
   "execution_count": 8,
   "metadata": {},
   "outputs": [],
   "source": [
    "eng2sp['two'] = 'dos'"
   ]
  },
  {
   "cell_type": "markdown",
   "metadata": {},
   "source": [
    "## Can iterate over all the keys"
   ]
  },
  {
   "cell_type": "code",
   "execution_count": 9,
   "metadata": {},
   "outputs": [
    {
     "name": "stdout",
     "output_type": "stream",
     "text": [
      "one uno\n",
      "two dos\n"
     ]
    }
   ],
   "source": [
    "for word in eng2sp:\n",
    "    print(word, eng2sp[word])"
   ]
  },
  {
   "cell_type": "markdown",
   "metadata": {},
   "source": [
    "## Can initialize with multiple entries"
   ]
  },
  {
   "cell_type": "code",
   "execution_count": 10,
   "metadata": {},
   "outputs": [
    {
     "name": "stdout",
     "output_type": "stream",
     "text": [
      "{'one': 'uno', 'two': 'dos', 'three': 'tres'}\n"
     ]
    }
   ],
   "source": [
    "eng2sp = {'one': 'uno', 'two' : 'dos', 'three': 'tres'}\n",
    "print(eng2sp)"
   ]
  },
  {
   "cell_type": "markdown",
   "metadata": {},
   "source": [
    "### What will happen?"
   ]
  },
  {
   "cell_type": "code",
   "execution_count": 11,
   "metadata": {},
   "outputs": [
    {
     "name": "stdout",
     "output_type": "stream",
     "text": [
      "dos\n"
     ]
    }
   ],
   "source": [
    "print(eng2sp['two'])"
   ]
  },
  {
   "cell_type": "code",
   "execution_count": 12,
   "metadata": {},
   "outputs": [
    {
     "ename": "KeyError",
     "evalue": "'four'",
     "output_type": "error",
     "traceback": [
      "\u001b[1;31m---------------------------------------------------------------------------\u001b[0m",
      "\u001b[1;31mKeyError\u001b[0m                                  Traceback (most recent call last)",
      "\u001b[1;32m<ipython-input-12-0c5b4554d872>\u001b[0m in \u001b[0;36m<module>\u001b[1;34m\u001b[0m\n\u001b[1;32m----> 1\u001b[1;33m \u001b[0mprint\u001b[0m\u001b[1;33m(\u001b[0m\u001b[0meng2sp\u001b[0m\u001b[1;33m[\u001b[0m\u001b[1;34m'four'\u001b[0m\u001b[1;33m]\u001b[0m\u001b[1;33m)\u001b[0m\u001b[1;33m\u001b[0m\u001b[1;33m\u001b[0m\u001b[0m\n\u001b[0m",
      "\u001b[1;31mKeyError\u001b[0m: 'four'"
     ]
    }
   ],
   "source": [
    "print(eng2sp['four'])"
   ]
  },
  {
   "cell_type": "markdown",
   "metadata": {},
   "source": [
    "## Catch the error that was generated"
   ]
  },
  {
   "cell_type": "code",
   "execution_count": 13,
   "metadata": {},
   "outputs": [
    {
     "name": "stdout",
     "output_type": "stream",
     "text": [
      "'four' was not in the dictionary\n"
     ]
    }
   ],
   "source": [
    "key = 'four'\n",
    "\n",
    "try:\n",
    "    print(eng2sp[key])\n",
    "except KeyError:\n",
    "    print(f\"'{key}' was not in the dictionary\")"
   ]
  },
  {
   "cell_type": "markdown",
   "metadata": {},
   "source": [
    "## Dictionaries support len()"
   ]
  },
  {
   "cell_type": "code",
   "execution_count": 14,
   "metadata": {},
   "outputs": [
    {
     "data": {
      "text/plain": [
       "3"
      ]
     },
     "execution_count": 14,
     "metadata": {},
     "output_type": "execute_result"
    }
   ],
   "source": [
    "len(eng2sp)"
   ]
  },
  {
   "cell_type": "markdown",
   "metadata": {},
   "source": [
    "## Can test if key is in dictionary\n",
    "\n",
    "We have seen this above..."
   ]
  },
  {
   "cell_type": "code",
   "execution_count": 15,
   "metadata": {},
   "outputs": [
    {
     "data": {
      "text/plain": [
       "True"
      ]
     },
     "execution_count": 15,
     "metadata": {},
     "output_type": "execute_result"
    }
   ],
   "source": [
    "'one' in eng2sp"
   ]
  },
  {
   "cell_type": "markdown",
   "metadata": {},
   "source": [
    "## ... but not optimized to test for values"
   ]
  },
  {
   "cell_type": "code",
   "execution_count": 16,
   "metadata": {},
   "outputs": [
    {
     "data": {
      "text/plain": [
       "False"
      ]
     },
     "execution_count": 16,
     "metadata": {},
     "output_type": "execute_result"
    }
   ],
   "source": [
    "'uno' in eng2sp"
   ]
  },
  {
   "cell_type": "markdown",
   "metadata": {},
   "source": [
    "## Can build collection of the dictionary values and test against that\n",
    "### Search for values isn't as fast as searching for keys"
   ]
  },
  {
   "cell_type": "code",
   "execution_count": 17,
   "metadata": {},
   "outputs": [
    {
     "name": "stdout",
     "output_type": "stream",
     "text": [
      "dict_values(['uno', 'dos', 'tres'])\n"
     ]
    }
   ],
   "source": [
    "'uno' in eng2sp.values()\n",
    "print(eng2sp.values())"
   ]
  },
  {
   "cell_type": "markdown",
   "metadata": {},
   "source": [
    "## Pretty Print\n",
    "\n",
    "Python will print a dictionary"
   ]
  },
  {
   "cell_type": "code",
   "execution_count": 18,
   "metadata": {},
   "outputs": [
    {
     "name": "stdout",
     "output_type": "stream",
     "text": [
      "{'one': 'uno', 'two': 'dos', 'three': 'tres'}\n"
     ]
    }
   ],
   "source": [
    "print(eng2sp)"
   ]
  },
  {
   "cell_type": "markdown",
   "metadata": {},
   "source": [
    "## You can do better than the default"
   ]
  },
  {
   "cell_type": "code",
   "execution_count": 19,
   "metadata": {},
   "outputs": [
    {
     "name": "stdout",
     "output_type": "stream",
     "text": [
      "one: \tuno\n",
      "two: \tdos\n",
      "three: \ttres\n"
     ]
    }
   ],
   "source": [
    "def printDict(d: dict):\n",
    "    for w in d:\n",
    "        print(f\"{w}: \\t{d[w]}\")\n",
    "\n",
    "printDict(eng2sp)"
   ]
  },
  {
   "cell_type": "markdown",
   "metadata": {},
   "source": [
    "## How are Dictionaries implemented?\n",
    "### Hashing - look at Lecture Notes"
   ]
  },
  {
   "cell_type": "markdown",
   "metadata": {},
   "source": [
    "## A Dictionary can hold a list as a Value"
   ]
  },
  {
   "cell_type": "code",
   "execution_count": 20,
   "metadata": {},
   "outputs": [
    {
     "name": "stdout",
     "output_type": "stream",
     "text": [
      "{'one': [1, 2, 3]}\n"
     ]
    }
   ],
   "source": [
    "d = {}\n",
    "d['one'] = [1, 2, 3]\n",
    "print(d)"
   ]
  },
  {
   "cell_type": "markdown",
   "metadata": {},
   "source": [
    "## But we cannot use a list as key\n",
    "\n",
    "Keys must be immutable objects, and we can modify a list"
   ]
  },
  {
   "cell_type": "code",
   "execution_count": 21,
   "metadata": {},
   "outputs": [
    {
     "ename": "TypeError",
     "evalue": "unhashable type: 'list'",
     "output_type": "error",
     "traceback": [
      "\u001b[1;31m---------------------------------------------------------------------------\u001b[0m",
      "\u001b[1;31mTypeError\u001b[0m                                 Traceback (most recent call last)",
      "\u001b[1;32m<ipython-input-21-bc8330708c64>\u001b[0m in \u001b[0;36m<module>\u001b[1;34m\u001b[0m\n\u001b[0;32m      1\u001b[0m \u001b[0mlst\u001b[0m \u001b[1;33m=\u001b[0m \u001b[1;33m[\u001b[0m\u001b[1;36m4\u001b[0m\u001b[1;33m,\u001b[0m \u001b[1;36m5\u001b[0m\u001b[1;33m,\u001b[0m \u001b[1;36m6\u001b[0m\u001b[1;33m]\u001b[0m\u001b[1;33m\u001b[0m\u001b[1;33m\u001b[0m\u001b[0m\n\u001b[1;32m----> 2\u001b[1;33m \u001b[0md\u001b[0m\u001b[1;33m[\u001b[0m\u001b[0mlst\u001b[0m\u001b[1;33m]\u001b[0m \u001b[1;33m=\u001b[0m \u001b[1;34m'two'\u001b[0m\u001b[1;33m\u001b[0m\u001b[1;33m\u001b[0m\u001b[0m\n\u001b[0m",
      "\u001b[1;31mTypeError\u001b[0m: unhashable type: 'list'"
     ]
    }
   ],
   "source": [
    "lst = [4, 5, 6]\n",
    "d[lst] = 'two'"
   ]
  },
  {
   "cell_type": "markdown",
   "metadata": {},
   "source": [
    "## *Mutable objects have changing hash values*\n",
    "## *This is unsuitable for the key of a dictionary*"
   ]
  },
  {
   "cell_type": "markdown",
   "metadata": {},
   "source": [
    "## Application: Counting frequency\n",
    "\n",
    "We are using the \"Look before you Leap\" (LBYL) idiom.  "
   ]
  },
  {
   "cell_type": "code",
   "execution_count": 22,
   "metadata": {},
   "outputs": [
    {
     "name": "stdout",
     "output_type": "stream",
     "text": [
      "{'A': 1, 'l': 2, ' ': 1, 'a': 2, 'b': 1, 'o': 1, 'r': 1, 'd': 1}\n"
     ]
    }
   ],
   "source": [
    "def countChars(text: str) -> dict:\n",
    "    counts = {}\n",
    "\n",
    "    for ch in text:\n",
    "        if (ch in counts):      # LBYL\n",
    "            counts[ch] = counts[ch] + 1\n",
    "        else:\n",
    "            counts[ch] = 1\n",
    "    return counts\n",
    "\n",
    "print(countChars('All aboard'))"
   ]
  },
  {
   "cell_type": "markdown",
   "metadata": {},
   "source": [
    "# Return to the problem of finding reversals"
   ]
  },
  {
   "cell_type": "markdown",
   "metadata": {},
   "source": [
    "We made very small changes\n",
    "\n",
    "Replaced list with a dictionary\n",
    "\n",
    "Program ran much faster - well under a second\n",
    "\n",
    "The right data structure can make a huge difference"
   ]
  },
  {
   "cell_type": "markdown",
   "metadata": {},
   "source": [
    "### I have edited the list below to highlight the essential differences\n",
    "\n",
    "```python\n",
    "% diff reversal.py reversalDict.py \n",
    "1c1\n",
    "< # reversal.py\n",
    "---\n",
    "There are a number of other differences in the comments.  \n",
    "\n",
    "14,16c16\n",
    "< # Takes a list and returns a list of lower case words\n",
    "< # Given  lst = ['art', 'Rat', 'Radar', 'tar', 'vista']\n",
    "< # returns ['rat', 'radar']\n",
    "---\n",
    "> # Takes a list and a Dictionary and returns a list of lower case words\n",
    "18,19c18,19\n",
    "< def find_reversals(words: List[str]) -> List[str]:\n",
    "<     \"Look for reversals in a list\"\n",
    "---\n",
    "> def find_reversals(order: List[str], words: Dict[str, None]) -> List[str]:\n",
    ">     \"Look for reversals in a Dict\"\n",
    "51a52,60\n",
    "> def build_dict(lst: List[str]) -> Dict[str, None]:\n",
    ">     \"Take list and populate a Dictionary\"\n",
    ">     res = {}\n",
    ">     \n",
    ">     for word in lst:\n",
    ">         res[word] = None\n",
    "> \n",
    ">     return res\n",
    ">\n",
    "56,58c65,67\n",
    "<     lst  = read_file(sys.argv[1])\n",
    "<     CProfile.run('revs = find_reversals(lst)')\n",
    "---\n",
    ">     lst = read(sys.argv[1]))\n",
    ">     dict = build_dict(lst)\n",
    ">     cProfile.run('revs = find_reversals(lst, dict)')\n",
    "```"
   ]
  },
  {
   "cell_type": "code",
   "execution_count": 23,
   "metadata": {},
   "outputs": [
    {
     "name": "stdout",
     "output_type": "stream",
     "text": [
      "Usage: python reversals <filename>\n"
     ]
    }
   ],
   "source": [
    "# reversalDict.py \n",
    "#\n",
    "# Look for reversals in a file of words using a dictionary to store words\n",
    "# Usage:\n",
    "#      % python reversalDict.py words.txt\n",
    "#\n",
    "# Jeff Parker, July, 2018\n",
    "#\n",
    "# This version profiles the work\n",
    "\n",
    "from typing import List, Dict\n",
    "import sys\n",
    "import cProfile\n",
    "\n",
    "\n",
    "# Takes a list and a Dictionary and returns a list of lower case words\n",
    "#\n",
    "def find_reversals(order: List[str], words: Dict[str, None]) -> List[str]:\n",
    "    \"Look for reversals in a Dict\"\n",
    "\n",
    "    # Initialize results\n",
    "    results = []\n",
    "\n",
    "    # Look for reversals\n",
    "    for word in order:\n",
    "        rev = word[::-1]\n",
    "        if (word < rev) and (rev in words) and (word not in results):\n",
    "            results.append(word)\n",
    "\n",
    "    # Return with results\n",
    "    return results\n",
    "\n",
    "\n",
    "def read_file(filename: str) -> List[str]:\n",
    "    \"Read words from a text file and buid a list\"  \n",
    "    res = []\n",
    "\n",
    "    try:\n",
    "        with open(filename, 'r') as words:\n",
    "            for word in words:\n",
    "                res.append(word.lower().strip())\n",
    "\n",
    "        return res\n",
    "\n",
    "    except FileNotFoundError:\n",
    "        print(f\"Could not find file {filename}\")\n",
    "    except:\n",
    "        print(f\"Could not open file {filename}\")\n",
    "\n",
    "    return []\n",
    "\n",
    "def build_dict(lst: List[str]) -> Dict[str, None]:\n",
    "    \"Take list and populate a Dictionary\"\n",
    "    res = {}\n",
    "    \n",
    "    for word in lst:\n",
    "        res[word] = None\n",
    "\n",
    "    return res\n",
    "\n",
    "\n",
    "if (len(sys.argv) != 2):\n",
    "    print(\"Usage: python reversals <filename>\")\n",
    "else:\n",
    "    lst = read(sys.argv[1])\n",
    "    dict = build_dict(lst)\n",
    "    cProfile.run('revs = find_reversals(lst, dict)')\n",
    "\n",
    "    print(len(revs))\n",
    "\n",
    "    for word in revs:\n",
    "        print(word, word[::-1])"
   ]
  },
  {
   "cell_type": "markdown",
   "metadata": {},
   "source": [
    "# Homework: Matching Parentheses"
   ]
  },
  {
   "cell_type": "markdown",
   "metadata": {},
   "source": [
    "## You will be asked to match parens: "
   ]
  },
  {
   "cell_type": "code",
   "execution_count": 24,
   "metadata": {},
   "outputs": [],
   "source": [
    "#  is_valid_parens('{()[{}]}') should return True\n",
    "#  is_valid_parens('{()[{}}')  should return False\n",
    "#\n",
    "def is_valid_parens(s: str) -> bool:\n",
    "    pass"
   ]
  },
  {
   "cell_type": "markdown",
   "metadata": {},
   "source": [
    "## Use a Stack\n",
    "\n",
    "Please use a stack.  It makes the problem much simpler, and gives you a solution that will let you identify the spot where the problem appears.  "
   ]
  },
  {
   "cell_type": "code",
   "execution_count": 25,
   "metadata": {},
   "outputs": [
    {
     "name": "stdout",
     "output_type": "stream",
     "text": [
      "['{']\n",
      "['{', '(']\n",
      "( )\n",
      "['{']\n"
     ]
    }
   ],
   "source": [
    "# Walk through example '{()[{}]}'\n",
    "s = '{()[{}]}'\n",
    "\n",
    "stack = []     # Holds pending open parens\n",
    "\n",
    "# Process each character in turn\n",
    "\n",
    "ch = '{'\n",
    "stack.append(ch)    # This is an open paren, so Push\n",
    "print(stack)\n",
    "\n",
    "ch = '('\n",
    "stack.append(ch)    # This is an open paren, so Push\n",
    "print(stack)\n",
    "\n",
    "ch = ')'\n",
    "item = stack.pop()   # This is a close paren, so remove the last thing we pushed\n",
    "print(item, ch)\n",
    "print(stack)\n",
    "\n",
    "# Are item and ch a pair? \n",
    "# If so, continue\n",
    "# If not, we don't have a match - return False\n",
    "\n",
    "# Continue processing the string s "
   ]
  },
  {
   "cell_type": "markdown",
   "metadata": {},
   "source": [
    "## What can go wrong?\n",
    "- Wrong thing on the stack\n",
    "    - I have a closing paren, and the open paren on stack doesn't match\n",
    "- Too little on stack\n",
    "    - I try to pop(), and there is nothing left on stack \n",
    "- Too much on stack\n",
    "    - When the input string is done, there are still open parens on the stack "
   ]
  },
  {
   "cell_type": "markdown",
   "metadata": {},
   "source": [
    "## How to guard against popping empty stack?  \n",
    "- LBYL\n",
    "- EAFP"
   ]
  },
  {
   "cell_type": "markdown",
   "metadata": {},
   "source": [
    "# Dictionary updates\n",
    "How to guard against access errors\n",
    "- LBYL\n",
    "- EAFP\n",
    "- Defaultdict\n",
    "\n",
    "## What is the problem?"
   ]
  },
  {
   "cell_type": "code",
   "execution_count": 26,
   "metadata": {},
   "outputs": [
    {
     "name": "stdout",
     "output_type": "stream",
     "text": [
      "{}\n"
     ]
    },
    {
     "ename": "KeyError",
     "evalue": "'a'",
     "output_type": "error",
     "traceback": [
      "\u001b[1;31m---------------------------------------------------------------------------\u001b[0m",
      "\u001b[1;31mKeyError\u001b[0m                                  Traceback (most recent call last)",
      "\u001b[1;32m<ipython-input-26-78d74c48d668>\u001b[0m in \u001b[0;36m<module>\u001b[1;34m\u001b[0m\n\u001b[0;32m      3\u001b[0m \u001b[1;33m\u001b[0m\u001b[0m\n\u001b[0;32m      4\u001b[0m \u001b[1;31m# Danger, Will Robinson!\u001b[0m\u001b[1;33m\u001b[0m\u001b[1;33m\u001b[0m\u001b[1;33m\u001b[0m\u001b[0m\n\u001b[1;32m----> 5\u001b[1;33m \u001b[0md\u001b[0m\u001b[1;33m[\u001b[0m\u001b[1;34m'a'\u001b[0m\u001b[1;33m]\u001b[0m \u001b[1;33m=\u001b[0m \u001b[0md\u001b[0m\u001b[1;33m[\u001b[0m\u001b[1;34m'a'\u001b[0m\u001b[1;33m]\u001b[0m \u001b[1;33m+\u001b[0m \u001b[1;36m1\u001b[0m\u001b[1;33m\u001b[0m\u001b[1;33m\u001b[0m\u001b[0m\n\u001b[0m\u001b[0;32m      6\u001b[0m \u001b[0mprint\u001b[0m\u001b[1;33m(\u001b[0m\u001b[0md\u001b[0m\u001b[1;33m)\u001b[0m\u001b[1;33m\u001b[0m\u001b[1;33m\u001b[0m\u001b[0m\n",
      "\u001b[1;31mKeyError\u001b[0m: 'a'"
     ]
    }
   ],
   "source": [
    "d = {}\n",
    "print(d)\n",
    "\n",
    "# Danger, Will Robinson!\n",
    "d['a'] = d['a'] + 1\n",
    "print(d)"
   ]
  },
  {
   "cell_type": "markdown",
   "metadata": {},
   "source": [
    "##  Look Before You Leap (LBYL) update"
   ]
  },
  {
   "cell_type": "code",
   "execution_count": 27,
   "metadata": {},
   "outputs": [
    {
     "name": "stdout",
     "output_type": "stream",
     "text": [
      "{}\n",
      "{'a': 1}\n",
      "{'a': 2}\n"
     ]
    }
   ],
   "source": [
    "d = {}\n",
    "\n",
    "# Increment count using Look Before You Leap (LBYL)\n",
    "def record(ch, counts):\n",
    "    if (ch in counts):\n",
    "        counts[ch] = counts[ch] + 1\n",
    "    else:\n",
    "        counts[ch] = 1\n",
    "        \n",
    "print(d)\n",
    "record('a', d)\n",
    "print(d)\n",
    "record('a', d)\n",
    "print(d)"
   ]
  },
  {
   "cell_type": "markdown",
   "metadata": {},
   "source": [
    "## Easier to Ask Forgiveness than Permission (EAFP)"
   ]
  },
  {
   "cell_type": "code",
   "execution_count": 28,
   "metadata": {},
   "outputs": [
    {
     "name": "stdout",
     "output_type": "stream",
     "text": [
      "{}\n",
      "{'a': 1}\n",
      "{'a': 2}\n"
     ]
    }
   ],
   "source": [
    "d = {}\n",
    "\n",
    "# EAFP Easier to Ask Forgiveness than Permission\n",
    "def record(ch, counts):\n",
    "    try:\n",
    "        counts[ch] = counts[ch] + 1\n",
    "    except KeyError:\n",
    "        counts[ch] = 1\n",
    "\n",
    "   \n",
    "print(d)\n",
    "record('a', d)\n",
    "print(d)\n",
    "record('a', d)\n",
    "print(d)"
   ]
  },
  {
   "cell_type": "markdown",
   "metadata": {},
   "source": [
    "## Defaultdict: no muss, no fuss\n",
    "\n",
    "Dictionary will populate on access\n",
    "\n",
    "We can specify default values, but KISS for first example"
   ]
  },
  {
   "cell_type": "code",
   "execution_count": 29,
   "metadata": {},
   "outputs": [
    {
     "name": "stdout",
     "output_type": "stream",
     "text": [
      "defaultdict(<class 'int'>, {})\n",
      "defaultdict(<class 'int'>, {'a': 1})\n",
      "defaultdict(<class 'int'>, {'a': 2})\n"
     ]
    }
   ],
   "source": [
    "from collections import defaultdict\n",
    "\n",
    "d = defaultdict(int)     # Values are integers, starting at default value 0\n",
    "                         # We can create other types of defaultdict\n",
    "\n",
    "# Default Dict takes care of initializing to default value\n",
    "def record(ch, counts):\n",
    "    counts[ch] = counts[ch] + 1\n",
    " \n",
    "print(d)\n",
    "record('a', d)\n",
    "print(d)\n",
    "record('a', d)\n",
    "print(d)"
   ]
  },
  {
   "cell_type": "markdown",
   "metadata": {},
   "source": [
    "## *Default Dict provided simplest code*"
   ]
  },
  {
   "cell_type": "markdown",
   "metadata": {},
   "source": [
    "# Program Practice\n",
    "## Guessing Game\n",
    "## Introduces Random Numbers and user input"
   ]
  },
  {
   "cell_type": "code",
   "execution_count": null,
   "metadata": {},
   "outputs": [
    {
     "name": "stdout",
     "output_type": "stream",
     "text": [
      "Guess my number between 0 and 100!\n"
     ]
    }
   ],
   "source": [
    "import random\n",
    "\n",
    "# Initialize random number generator\n",
    "random.seed()\n",
    "\n",
    "# Pick a number between 0 and 100\n",
    "secret = random.randint(1, 99)\n",
    "\n",
    "print(\"Guess my number between 0 and 100!\")\n",
    "\n",
    "count    = 0\n",
    "response = 0\n",
    "\n",
    "while (response != secret):\n",
    "\n",
    "    # Get a number from the user\n",
    "    response = int(input('Guess a number!'))\n",
    "\n",
    "    count = count + 1\n",
    "\n",
    "    # Respond to the user\n",
    "    if (response < secret):\n",
    "        print(\"Too low! Guess again!\")\n",
    "    elif (response > secret):\n",
    "        print(\"Too high! Guess again!\")\n",
    "    else:\n",
    "        print(\"Lucky guess!\")\n",
    "\n",
    "print(\"It took\", count, \"guesses\")"
   ]
  },
  {
   "cell_type": "markdown",
   "metadata": {},
   "source": [
    "# References\n",
    "## Start with Scope\n",
    "## What happens when we change var in a function?\n",
    "\n",
    "*Notice the use of '=' in the f-string to print the variable name.*\n",
    "\n",
    "```python\n",
    "print(f'a = {a}')\n",
    "print(f'{a = }')   # Better, because it is simpler\n",
    "```"
   ]
  },
  {
   "cell_type": "code",
   "execution_count": null,
   "metadata": {},
   "outputs": [],
   "source": [
    "i = 1\n",
    "\n",
    "def test(i, s, lst):\n",
    "    print(f'\\t {i = }, {s = }, {lst = }')\n",
    "    i = i + 1\n",
    "    s = s[1:]\n",
    "    lst.pop()\n",
    "    print(f'\\t {i = }, {s = }, {lst = }')\n",
    "    \n",
    " \n",
    "# Initialize\n",
    "i = 1\n",
    "s = 'hello'\n",
    "lst = ['a', 'b', 'c']\n",
    "print(f'{i = }, {s = }, {lst = }')\n",
    "\n",
    "# Call the function\n",
    "test(i, s, lst)\n",
    "\n",
    "# See what we have now\n",
    "print(f'{i = }, {s = }, {lst = }')"
   ]
  },
  {
   "cell_type": "markdown",
   "metadata": {},
   "source": [
    "## In Python, we pass parameters by reference\n",
    "If your object is immutable, it remains unchanged.\n",
    "\n",
    "Strings and integers are immutable.\n",
    "\n",
    "Lists are mutable.\n",
    "\n",
    "## *Moral: be careful with a list*"
   ]
  },
  {
   "cell_type": "markdown",
   "metadata": {},
   "source": [
    "# Deep Copy\n",
    "What happens when we make a copy?  What do we have in common?"
   ]
  },
  {
   "cell_type": "code",
   "execution_count": null,
   "metadata": {},
   "outputs": [],
   "source": [
    "a = [1, 2, 3]\n",
    "print(f'{a = }')\n",
    "\n",
    "b = a\n",
    "print(f'{b = }')\n",
    "\n",
    "print(f\"a == b: {a == b}\")\n",
    "print(f\"a is b: {a is b}\")\n",
    "\n",
    "print('\\nPop b')\n",
    "b.pop()\n",
    "print(f'{a = }')\n",
    "print(f'{b = }')\n",
    "print()\n",
    "\n",
    "print(\"a == b\", a == b)"
   ]
  },
  {
   "cell_type": "markdown",
   "metadata": {},
   "source": [
    "![Sharing](img/figure1.jpg)"
   ]
  },
  {
   "cell_type": "code",
   "execution_count": null,
   "metadata": {},
   "outputs": [],
   "source": [
    "a == b"
   ]
  },
  {
   "cell_type": "code",
   "execution_count": null,
   "metadata": {},
   "outputs": [],
   "source": [
    "a is b"
   ]
  },
  {
   "cell_type": "markdown",
   "metadata": {},
   "source": [
    "## Make a copy of list a"
   ]
  },
  {
   "cell_type": "code",
   "execution_count": null,
   "metadata": {},
   "outputs": [],
   "source": [
    "a = [1, 2, 3]\n",
    "print(f'{a = }')\n",
    "\n",
    "b = a[:]         # Make a copy of a\n",
    "print(f'{b = }')\n",
    "print()\n",
    "\n",
    "print(f\"a == b: {a == b}\")\n",
    "print(f\"a is b: {a is b}\")\n",
    "\n",
    "print('\\nPop b')\n",
    "b.pop()\n",
    "print(f'{a = }')\n",
    "print(f'{b = }')\n",
    "print()\n",
    "\n",
    "print(\"a == b\", a == b)"
   ]
  },
  {
   "cell_type": "markdown",
   "metadata": {},
   "source": [
    "![Copy](img/figure2.jpg)"
   ]
  },
  {
   "cell_type": "code",
   "execution_count": null,
   "metadata": {},
   "outputs": [],
   "source": [
    "a == b"
   ]
  },
  {
   "cell_type": "code",
   "execution_count": null,
   "metadata": {},
   "outputs": [],
   "source": [
    "a is b"
   ]
  },
  {
   "cell_type": "markdown",
   "metadata": {},
   "source": [
    "## What about nested lists?"
   ]
  },
  {
   "cell_type": "code",
   "execution_count": null,
   "metadata": {},
   "outputs": [],
   "source": [
    "a = [1, [2, 3]]\n",
    "print(f'{a = }')\n",
    "\n",
    "b = a[:]         # Make a copy of a\n",
    "print(f'{b = }')\n",
    "print()\n",
    "\n",
    "print(\"a == b\", a == b)\n",
    "print(\"a is b\", a is b)\n",
    "\n",
    "print('\\nPop b')\n",
    "b.pop()\n",
    "print(f'{a = }')\n",
    "print(f'{b = }')"
   ]
  },
  {
   "cell_type": "markdown",
   "metadata": {},
   "source": [
    "![Copy](img/figure3.jpg)"
   ]
  },
  {
   "cell_type": "code",
   "execution_count": null,
   "metadata": {},
   "outputs": [],
   "source": [
    "a == b"
   ]
  },
  {
   "cell_type": "code",
   "execution_count": null,
   "metadata": {},
   "outputs": [],
   "source": [
    "a is b"
   ]
  },
  {
   "cell_type": "markdown",
   "metadata": {},
   "source": [
    "## Now modify the nested sublist"
   ]
  },
  {
   "cell_type": "code",
   "execution_count": null,
   "metadata": {},
   "outputs": [],
   "source": [
    "a = [1, [2, 3]]\n",
    "print(f'{a = }')\n",
    "\n",
    "b = a[:]         # Make a copy of a\n",
    "print(f'{b = }')\n",
    "print()\n",
    "\n",
    "print(\"a == b:\", a == b)\n",
    "print(\"a is b:\", a is b)\n",
    "\n",
    "print('\\nPop b')\n",
    "b[1].pop()\n",
    "print(f'{a = }')\n",
    "print(f'{b = }')"
   ]
  },
  {
   "cell_type": "markdown",
   "metadata": {},
   "source": [
    "# What?!@!"
   ]
  },
  {
   "cell_type": "code",
   "execution_count": null,
   "metadata": {},
   "outputs": [],
   "source": [
    "a = [1, [2, 3]]\n",
    "print(f'{a = }')\n",
    "\n",
    "b = a[:]         # Make a copy of a\n",
    "print(f'{b = }')\n",
    "print()\n",
    "\n",
    "print('*****************')\n",
    "print(\"a[1] == b[1]:\", a[1] == b[1])\n",
    "print(\"a[1] is b[1]:\", a[1] is b[1])\n",
    "print('*****************')\n",
    "\n",
    "print('\\nPop b')\n",
    "b[1].pop()\n",
    "print(f'{a = }')\n",
    "print(f'{b = }')"
   ]
  },
  {
   "cell_type": "markdown",
   "metadata": {},
   "source": [
    "### *The lists are different, but they share a common sublist - see figure*"
   ]
  },
  {
   "cell_type": "markdown",
   "metadata": {},
   "source": [
    "## Try it again"
   ]
  },
  {
   "cell_type": "code",
   "execution_count": null,
   "metadata": {},
   "outputs": [],
   "source": [
    "a = [1, 'a', 'b', 'c', [2, 3]]\n",
    "print(f'{a = }')\n",
    "\n",
    "b = a[:]         # Make a copy of a\n",
    "print(f'{b = }')\n",
    "print()\n",
    "\n",
    "print(\"a[-1] == b[-1]:\", a[-1] == b[-1])\n",
    "print(\"a[-1] is b[-1]:\", a[-1] is b[-1])\n",
    "\n",
    "print('\\nPop b')\n",
    "b[-1].pop()\n",
    "print(f'{a = }')\n",
    "print(f'{b = }')"
   ]
  },
  {
   "cell_type": "markdown",
   "metadata": {},
   "source": [
    "# Deep copy\n",
    "We need more than a superficial copy"
   ]
  },
  {
   "cell_type": "code",
   "execution_count": null,
   "metadata": {},
   "outputs": [],
   "source": [
    "import copy\n",
    "\n",
    "a = [1, 'a', 'b', 'c', [2, 3]]\n",
    "print(f'{a = }')\n",
    "\n",
    "b = copy.deepcopy(a)\n",
    "print(f'{b = }')\n",
    "print()\n",
    "\n",
    "print(\"a[-1] == b[-1]\", a[-1] == b[-1])\n",
    "print(\"a[-1] is b[-1]\", a[-1] is b[-1])\n",
    "\n",
    "print('\\nPop b')\n",
    "b[-1].pop()\n",
    "print(f'{a = }')\n",
    "print(f'{b = }')"
   ]
  },
  {
   "cell_type": "markdown",
   "metadata": {},
   "source": [
    "![Deep Copy](img/figure4.jpg)"
   ]
  },
  {
   "cell_type": "markdown",
   "metadata": {},
   "source": [
    "## Not enough to copy: sometimes we need deep copy"
   ]
  },
  {
   "cell_type": "markdown",
   "metadata": {},
   "source": [
    "# Sets"
   ]
  },
  {
   "cell_type": "markdown",
   "metadata": {},
   "source": [
    "###  Unordered, mutable collection of unique & immutable objects.\n",
    "- Unique = no duplicate elements\n",
    "- Immutable = no mutable elements (e.g., no lists)"
   ]
  },
  {
   "cell_type": "code",
   "execution_count": null,
   "metadata": {},
   "outputs": [],
   "source": [
    "s = set()\n",
    "print(s)"
   ]
  },
  {
   "cell_type": "code",
   "execution_count": null,
   "metadata": {},
   "outputs": [],
   "source": [
    "s = {'Alpha', 'Beta', 'Alpha'}\n",
    "print(type(s))\n",
    "print(s)"
   ]
  },
  {
   "cell_type": "code",
   "execution_count": null,
   "metadata": {},
   "outputs": [],
   "source": [
    "s = set('She sells sea shells')\n",
    "print(s)"
   ]
  },
  {
   "cell_type": "code",
   "execution_count": null,
   "metadata": {},
   "outputs": [],
   "source": [
    "t = (1, 2, 3, 1)\n",
    "print(t)\n",
    "print(type(t))"
   ]
  },
  {
   "cell_type": "code",
   "execution_count": null,
   "metadata": {},
   "outputs": [],
   "source": [
    "t = (1, 2, 3, 1)\n",
    "s = set(t)\n",
    "print(s)"
   ]
  },
  {
   "cell_type": "code",
   "execution_count": null,
   "metadata": {},
   "outputs": [],
   "source": [
    "s = set([1, 2, 3], [4, 5, 6])\n",
    "print(s)"
   ]
  },
  {
   "cell_type": "code",
   "execution_count": null,
   "metadata": {},
   "outputs": [],
   "source": [
    "s = set([1, 2, 3])\n",
    "print(s)"
   ]
  },
  {
   "cell_type": "code",
   "execution_count": null,
   "metadata": {},
   "outputs": [],
   "source": [
    "s = set()\n",
    "s.add('a')\n",
    "print(s)\n",
    "s.add('b')\n",
    "print(s)"
   ]
  },
  {
   "cell_type": "markdown",
   "metadata": {},
   "source": [
    "## Can we use sets as a key?"
   ]
  },
  {
   "cell_type": "code",
   "execution_count": null,
   "metadata": {},
   "outputs": [],
   "source": [
    "d = {}\n",
    "\n",
    "d[s] = 1\n",
    "print(d)"
   ]
  },
  {
   "cell_type": "markdown",
   "metadata": {},
   "source": [
    "## Let's freeze it!\n",
    "\n",
    "https://www.youtube.com/watch?v=wrfOpXApxYQ "
   ]
  },
  {
   "cell_type": "code",
   "execution_count": null,
   "metadata": {},
   "outputs": [],
   "source": [
    "s = frozenset(s)\n",
    "print(s)"
   ]
  },
  {
   "cell_type": "code",
   "execution_count": null,
   "metadata": {},
   "outputs": [],
   "source": [
    "d = {}\n",
    "\n",
    "d[s] = 1\n",
    "print(d)"
   ]
  },
  {
   "cell_type": "code",
   "execution_count": null,
   "metadata": {},
   "outputs": [],
   "source": [
    "s.add('c')"
   ]
  },
  {
   "cell_type": "code",
   "execution_count": null,
   "metadata": {},
   "outputs": [],
   "source": [
    "hash('adam')"
   ]
  },
  {
   "cell_type": "code",
   "execution_count": null,
   "metadata": {},
   "outputs": [],
   "source": [
    "hash(set('adam'))"
   ]
  },
  {
   "cell_type": "code",
   "execution_count": null,
   "metadata": {},
   "outputs": [],
   "source": [
    "hash(frozenset('adam'))"
   ]
  },
  {
   "cell_type": "markdown",
   "metadata": {
    "collapsed": true
   },
   "source": [
    "# Excel Files in Comma Separated Value form\n",
    "## Banklist.csv - CSV file with Failed Banks"
   ]
  },
  {
   "cell_type": "code",
   "execution_count": null,
   "metadata": {},
   "outputs": [],
   "source": [
    "! head banklist.csv  # Unix command to show first lines of the CSV file banklist"
   ]
  },
  {
   "cell_type": "markdown",
   "metadata": {},
   "source": [
    "```python\n",
    "Bank Name,City,ST,CERT,Acquiring Institution,Closing Date,Updated Date\n",
    "Fayette County Bank,Saint Elmo,IL,1802,\"United Fidelity Bank, fsb\",26-May-17,26-Jul-17\n",
    "\"Guaranty Bank, (d/b/a BestBank in Georgia & Michigan) \",Milwaukee,WI,30003,First-Citizens Bank & Trust Company,5-May-17,26-Jul-17\n",
    "First NBC Bank,New Orleans,LA,58302,Whitney Bank,28-Apr-17,26-Jul-17\n",
    "Proficio Bank,Cottonwood Heights,UT,35495,Cache Valley Bank,3-Mar-17,18-May-17\n",
    "Seaway Bank and Trust Company,Chicago,IL,19328,State Bank of Texas,27-Jan-17,18-May-17\n",
    "Harvest Community Bank,Pennsville,NJ,34951,First-Citizens Bank & Trust Company,13-Jan-17,18-May-17\n",
    "Allied Bank,Mulberry,AR,91,Today's Bank,23-Sep-16,17-Nov-16\n",
    "The Woodbury Banking Company,Woodbury,GA,11297,United Bank,19-Aug-16,1-Jun-17\n",
    "First CornerStone Bank,King of Prussia,PA,35312,First-Citizens Bank & Trust Company,6-May-16,6-Sep-16\n",
    "```"
   ]
  },
  {
   "cell_type": "code",
   "execution_count": null,
   "metadata": {},
   "outputs": [],
   "source": [
    "## What are the columns?\n",
    "! head -1 banklist.csv  # Unix command to show first line of the CSV file banklist"
   ]
  },
  {
   "cell_type": "code",
   "execution_count": null,
   "metadata": {},
   "outputs": [],
   "source": [
    "from collections import defaultdict\n",
    "\n",
    "f = open('banklist.csv', 'rt')\n",
    "try:\n",
    "    d = defaultdict(int)\n",
    "    for row in f:       # Get a line\n",
    "        row = row.split(',') \n",
    "        state = row[2]  # Get state\n",
    "        d[state] = 1 + d[state]\n",
    "except:\n",
    "    print(\"Musta goofed up somewhere!\")\n",
    "    d = {}\n",
    "    \n",
    "print(len(d))"
   ]
  },
  {
   "cell_type": "markdown",
   "metadata": {},
   "source": [
    "## What?!@#$\n",
    "### *How can we have 81 states?*"
   ]
  },
  {
   "cell_type": "code",
   "execution_count": null,
   "metadata": {},
   "outputs": [],
   "source": [
    "print(d)"
   ]
  },
  {
   "cell_type": "markdown",
   "metadata": {},
   "source": [
    "## Quick check - Let's look at some of those odd states\n",
    "\n",
    "```python\n",
    "    # Check for states that aren't 2 characters long\n",
    "    if (len(state) != 2):         \n",
    "        print(state, row)\n",
    "```"
   ]
  },
  {
   "cell_type": "code",
   "execution_count": null,
   "metadata": {},
   "outputs": [],
   "source": [
    "from collections import defaultdict\n",
    "\n",
    "f = open('banklist.csv', 'rt')\n",
    "try:\n",
    "    d = defaultdict(int)\n",
    "    for row in f:  # Get a line\n",
    "        row = row.split(',') \n",
    "        state = row[2]  # Get state\n",
    "        \n",
    "        # Check for states that aren't 2 characters long\n",
    "        if (len(state) != 2):         \n",
    "            print(f\"State: {state} \\n\\t Row: {row}\\n\")\n",
    "          \n",
    "        d[state] = 1 + d[state]\n",
    "except:\n",
    "    print(\"Musta goofed up somewhere!\")\n",
    "    d = {}\n",
    "                        \n",
    "print(len(d))"
   ]
  },
  {
   "cell_type": "markdown",
   "metadata": {},
   "source": [
    "## What are we dealing with?"
   ]
  },
  {
   "cell_type": "code",
   "execution_count": null,
   "metadata": {},
   "outputs": [],
   "source": [
    "# What is going on with the Guaranty Bank of Milwaukee?\n",
    "! grep 'Guaranty Bank' banklist.csv"
   ]
  },
  {
   "cell_type": "markdown",
   "metadata": {},
   "source": [
    "```python\n",
    "\"Guaranty Bank, (d/b/a BestBank in Georgia & Michigan) \",Milwaukee,WI,30003,First-Citizens Bank & Trust Company,5-May-17,26-Jul-17\n",
    "...\n",
    "```\n",
    "## Why is the state Milwaukee, rather than WI?\n",
    "\n",
    "## And where did the quotes come from?"
   ]
  },
  {
   "cell_type": "markdown",
   "metadata": {},
   "source": [
    "## Look at simple file with three contacts\n",
    "\n",
    "There are no quotation marks in the Excel xls file.   "
   ]
  },
  {
   "cell_type": "markdown",
   "metadata": {},
   "source": [
    "![csvfile](img/Addresses.jpg)"
   ]
  },
  {
   "cell_type": "code",
   "execution_count": null,
   "metadata": {},
   "outputs": [],
   "source": [
    "## Export as a csv and take a peek\n",
    "\n",
    "! more Addresses.csv"
   ]
  },
  {
   "cell_type": "markdown",
   "metadata": {},
   "source": [
    "```python\n",
    "<U+FEFF>Number,Name,Address\n",
    "1,\"Karpathy, Zoltan\",123 Main Street\n",
    "2,\"Gates, Bill\",\"456 MS Blvrd, Redmond, Washington\"\n",
    "3,\"Joker, The\",\n",
    "Addresses.csv (END)\n",
    "```\n",
    "### *Note <U+FEFF> at head.  We will revisit when we Pickle*"
   ]
  },
  {
   "cell_type": "markdown",
   "metadata": {},
   "source": [
    "## If a cell has a comma, Excel wraps cell as a string\n",
    "When Excel exports to CSV, wraps cells with commas in quotes.\n",
    "\n",
    "When Excel imports a CSV file, treats blocks in quotes as one cell."
   ]
  },
  {
   "cell_type": "markdown",
   "metadata": {},
   "source": [
    "## Import without precaution"
   ]
  },
  {
   "cell_type": "code",
   "execution_count": null,
   "metadata": {},
   "outputs": [],
   "source": [
    "f = open('Addresses.csv', 'rt')\n",
    "try:\n",
    "    for row in f:  # Get a line\n",
    "        row = row.strip()\n",
    "        print(row)                # What does the row look like?\n",
    "        lst = row.split(',') \n",
    "        print(lst, \"\\n\")          # How did it wind up after split?\n",
    "except:\n",
    "    print(\"Musta goofed up somewhere!\")"
   ]
  },
  {
   "cell_type": "markdown",
   "metadata": {},
   "source": [
    "```python\n",
    "2,\"Gates, Bill\",\"456 MS Blvrd, Redmond, Washington\"\n",
    "['2', '\"Gates', ' Bill\"', '\"456 MS Blvrd', ' Redmond', ' Washington\"'] \n",
    "```\n",
    "### *There are 6 elements of the list, even though it only took 3 cells*\n",
    "\n",
    "## We are splitting at the ',' as requested\n",
    "```python\n",
    "2, \"Gates, Bill\",\"456 MS Blvrd, Redmond, Washington\"  \n",
    "\n",
    "2 | \"Gates | Bill\" | \"456 MS Blvrd | Redmond | Washington\" \n",
    "```"
   ]
  },
  {
   "cell_type": "markdown",
   "metadata": {},
   "source": [
    "## The CSV reader knows how to deal with this\n",
    "\n",
    "Read the file with csv reader - see line 8\n",
    "\n",
    "```python\n",
    "    reader = csv.reader(f)\n",
    "    for row in reader:\n",
    "```"
   ]
  },
  {
   "cell_type": "code",
   "execution_count": 3,
   "metadata": {},
   "outputs": [
    {
     "name": "stdout",
     "output_type": "stream",
     "text": [
      "45\n"
     ]
    }
   ],
   "source": [
    "# Introduce CSV reader\n",
    "import csv   # Comma Separated Values\n",
    "\n",
    "import sys   # Read command line\n",
    "from collections import defaultdict\n",
    "\n",
    "f = open('banklist.csv', 'rt')\n",
    "try:\n",
    "    d = defaultdict(int)\n",
    "    reader = csv.reader(f)\n",
    "    for row in reader:\n",
    "        state = row[2]\n",
    "        if (len(state) != 2):\n",
    "            print(row)\n",
    "        d[state] = 1 + d[state]\n",
    "except:\n",
    "    print(\"Musta goofed up somewhere!\")\n",
    "                        \n",
    "print(len(d))"
   ]
  },
  {
   "cell_type": "markdown",
   "metadata": {},
   "source": [
    "### Only 45 states"
   ]
  },
  {
   "cell_type": "code",
   "execution_count": 4,
   "metadata": {},
   "outputs": [
    {
     "name": "stdout",
     "output_type": "stream",
     "text": [
      "WY\n"
     ]
    }
   ],
   "source": [
    "print(max(d))"
   ]
  },
  {
   "cell_type": "code",
   "execution_count": 5,
   "metadata": {},
   "outputs": [
    {
     "ename": "NameError",
     "evalue": "name 'WY' is not defined",
     "output_type": "error",
     "traceback": [
      "\u001b[1;31m---------------------------------------------------------------------------\u001b[0m",
      "\u001b[1;31mNameError\u001b[0m                                 Traceback (most recent call last)",
      "\u001b[1;32m<ipython-input-5-dff8bf8b6f01>\u001b[0m in \u001b[0;36m<module>\u001b[1;34m\u001b[0m\n\u001b[1;32m----> 1\u001b[1;33m \u001b[0mprint\u001b[0m\u001b[1;33m(\u001b[0m\u001b[0md\u001b[0m\u001b[1;33m[\u001b[0m\u001b[0mWY\u001b[0m\u001b[1;33m]\u001b[0m\u001b[1;33m)\u001b[0m\u001b[1;33m\u001b[0m\u001b[1;33m\u001b[0m\u001b[0m\n\u001b[0m",
      "\u001b[1;31mNameError\u001b[0m: name 'WY' is not defined"
     ]
    }
   ],
   "source": [
    "print(d[WY])"
   ]
  },
  {
   "cell_type": "code",
   "execution_count": 6,
   "metadata": {},
   "outputs": [
    {
     "name": "stdout",
     "output_type": "stream",
     "text": [
      "1\n"
     ]
    }
   ],
   "source": [
    "print(d['WY'])"
   ]
  },
  {
   "cell_type": "markdown",
   "metadata": {},
   "source": [
    "### *Wyoming doesn't have many failures: it is just last alphabetically*"
   ]
  },
  {
   "cell_type": "code",
   "execution_count": null,
   "metadata": {},
   "outputs": [],
   "source": [
    "mx = 0\n",
    "st = ''\n",
    "for state in d:\n",
    "    if d[state] > mx:\n",
    "        mx = d[state]\n",
    "        st  = state\n",
    "        \n",
    "print(mx, st)"
   ]
  },
  {
   "cell_type": "markdown",
   "metadata": {},
   "source": [
    "## We can sort the list.  "
   ]
  },
  {
   "cell_type": "code",
   "execution_count": null,
   "metadata": {},
   "outputs": [],
   "source": [
    "lst = []\n",
    "for state in d:\n",
    "    lst.append([state, d[state]])\n",
    "    \n",
    "print(sorted(lst))"
   ]
  },
  {
   "cell_type": "markdown",
   "metadata": {},
   "source": [
    "## Hmmm.  Put frequency first to get useful order\n",
    "### List the states in order by the number of failures"
   ]
  },
  {
   "cell_type": "code",
   "execution_count": null,
   "metadata": {},
   "outputs": [],
   "source": [
    "lst = []\n",
    "for state in d:\n",
    "    lst.append([d[state], state])\n",
    "    \n",
    "print(sorted(lst))"
   ]
  },
  {
   "cell_type": "code",
   "execution_count": null,
   "metadata": {},
   "outputs": [],
   "source": [
    "print(sorted(lst, reverse=True))"
   ]
  },
  {
   "cell_type": "markdown",
   "metadata": {},
   "source": [
    "## Note that one of the states is 'ST'\n",
    "\n",
    "```python\n",
    "[[1, 'HI'], [1, 'MA'], [1, 'NH'], [1, 'SD'], [1, 'ST'], ....\n",
    "```\n",
    "\n",
    "### This is a bug: We are treating the first line as valid input\n",
    "\n",
    "```python\n",
    "Bank Name,City, ST, CERT,Acquiring Institution,Closing Date,Updated Date\n",
    "\n",
    "Fayette County Bank,Saint Elmo,IL,1802,\"United Fidelity Bank, fsb\",26-May-17,26-Jul-17\n",
    "```"
   ]
  },
  {
   "cell_type": "markdown",
   "metadata": {},
   "source": [
    "## Don't take first row\n",
    "\n",
    "### *Edit after recording*\n",
    "\n",
    "We haven't checked for errors above, and we are treating ST as a valid State"
   ]
  },
  {
   "cell_type": "code",
   "execution_count": null,
   "metadata": {},
   "outputs": [],
   "source": [
    "def read_dict(filename):\n",
    "    \"Read in a CSV file, count instances of each Zip code\"\n",
    "\n",
    "    try:                             # Try to open file: EAFP\n",
    "        f = open(filename, 'rt')\n",
    "    except FileNotFoundError:\n",
    "        print(f\"Could not find '{filename}'\")\n",
    "        return {}\n",
    "\n",
    "    try:                             # Wrap file in CSV reader\n",
    "        reader = csv.reader(f)\n",
    "\n",
    "        # Dictionary as Counter Design Pattern\n",
    "        # Create a Default Dictionary to hold count for each state Code\n",
    "        d = defaultdict(int)\n",
    "\n",
    "        # Get a new line from File\n",
    "        first = True\n",
    "        for row in reader:\n",
    "            if not first:\n",
    "                # State is third element\n",
    "                state = row[2]\n",
    "\n",
    "                # Count this state code\n",
    "                d[state] = 1 + d[state]\n",
    "\n",
    "            first = False\n",
    "\n",
    "        f.close()\n",
    "        return d\n",
    "\n",
    "    except:\n",
    "        print(f\"Attempted to read '{filename}' as CSV file\")\n",
    "        f.close()\n",
    "        return {}"
   ]
  },
  {
   "cell_type": "markdown",
   "metadata": {},
   "source": [
    "## Compare the best and the worst"
   ]
  },
  {
   "cell_type": "code",
   "execution_count": null,
   "metadata": {},
   "outputs": [],
   "source": [
    "# Iterate over the dictionary and build a list with [count, state]\n",
    "res = [[d[state], state] for state in d]\n",
    "\n",
    "# Display the best states: those with lowest count\n",
    "res.sort()\n",
    "for pair in res[:10]:\n",
    "    print(pair)\n",
    "\n",
    "print()\n",
    "\n",
    "# Display the worst states\n",
    "for pair in res[-10:]:\n",
    "    print(pair)"
   ]
  },
  {
   "cell_type": "markdown",
   "metadata": {},
   "source": [
    "## We will read CSV files in a future homework\n",
    "There are many datasets published as CSV files\n",
    "\n",
    "Good example of the utility of Python Libraries"
   ]
  },
  {
   "cell_type": "markdown",
   "metadata": {},
   "source": [
    "# WTF\n",
    "# How does Python implement dictionaries?\n",
    "\n",
    "https://www.laurentluce.com/posts/python-dictionary-implementation/\n",
    "\n",
    "Also see Raymond Hettinger video in Person, Place, or Thing"
   ]
  },
  {
   "cell_type": "code",
   "execution_count": null,
   "metadata": {},
   "outputs": [],
   "source": []
  }
 ],
 "metadata": {
  "kernelspec": {
   "display_name": "Python 3",
   "language": "python",
   "name": "python3"
  },
  "language_info": {
   "codemirror_mode": {
    "name": "ipython",
    "version": 3
   },
   "file_extension": ".py",
   "mimetype": "text/x-python",
   "name": "python",
   "nbconvert_exporter": "python",
   "pygments_lexer": "ipython3",
   "version": "3.8.8"
  }
 },
 "nbformat": 4,
 "nbformat_minor": 1
}
