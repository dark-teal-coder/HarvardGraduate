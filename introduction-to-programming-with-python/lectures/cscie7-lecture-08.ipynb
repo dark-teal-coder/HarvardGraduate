{
 "cells": [
  {
   "cell_type": "markdown",
   "metadata": {},
   "source": [
    "# CSCI E7 Introduction to Programming with Python\n",
    "## Lecture 08 Jupyter Notebook\n",
    "Fall 2021 (c) Jeff Parker"
   ]
  },
  {
   "cell_type": "markdown",
   "metadata": {},
   "source": [
    "# Objects\n",
    "## An object models something that exists in the world\n",
    "\n",
    "Objects belong to classes, which specify attributes and behavior\n",
    "\n",
    "Downey discusses Objects in Chapters 15-18\n",
    "Also see https://docs.python.org/3/tutorial/classes.html"
   ]
  },
  {
   "cell_type": "markdown",
   "metadata": {},
   "source": [
    "# Motivation\n",
    "\n",
    "## OO Goals\n",
    "\n",
    "- Encapsulation: Split Interface from Implementation\n",
    "- You should be able to change how we implement a Dictionary\n",
    "    - If we preserve Interface, old programs still work\n",
    "    - In fact, this was recently done in CPython\n",
    "- Protect the Implementation from poorly-written programs\n",
    "- Inherit functionality from superclass\n",
    "- Objects belong to classes\n",
    "- Classes define methods that specify how to respond to requests\n",
    "\n",
    "To recap: Classes define attributes and behavior "
   ]
  },
  {
   "cell_type": "markdown",
   "metadata": {},
   "source": [
    "## What is OO Programing?\n",
    "\n",
    "- Everything is an object\n",
    "    - *It’s turtles all the way down*\n",
    "- You don’t act on an object\n",
    "    - You ask the object to do something\n",
    "    - Object decides how it wants to do that, or if it wants to do that."
   ]
  },
  {
   "cell_type": "markdown",
   "metadata": {},
   "source": [
    "## The methods of the list class"
   ]
  },
  {
   "cell_type": "code",
   "execution_count": 1,
   "metadata": {},
   "outputs": [
    {
     "data": {
      "text/plain": [
       "['__add__',\n",
       " '__class__',\n",
       " '__contains__',\n",
       " '__delattr__',\n",
       " '__delitem__',\n",
       " '__dir__',\n",
       " '__doc__',\n",
       " '__eq__',\n",
       " '__format__',\n",
       " '__ge__',\n",
       " '__getattribute__',\n",
       " '__getitem__',\n",
       " '__gt__',\n",
       " '__hash__',\n",
       " '__iadd__',\n",
       " '__imul__',\n",
       " '__init__',\n",
       " '__init_subclass__',\n",
       " '__iter__',\n",
       " '__le__',\n",
       " '__len__',\n",
       " '__lt__',\n",
       " '__mul__',\n",
       " '__ne__',\n",
       " '__new__',\n",
       " '__reduce__',\n",
       " '__reduce_ex__',\n",
       " '__repr__',\n",
       " '__reversed__',\n",
       " '__rmul__',\n",
       " '__setattr__',\n",
       " '__setitem__',\n",
       " '__sizeof__',\n",
       " '__str__',\n",
       " '__subclasshook__',\n",
       " 'append',\n",
       " 'clear',\n",
       " 'copy',\n",
       " 'count',\n",
       " 'extend',\n",
       " 'index',\n",
       " 'insert',\n",
       " 'pop',\n",
       " 'remove',\n",
       " 'reverse',\n",
       " 'sort']"
      ]
     },
     "execution_count": 1,
     "metadata": {},
     "output_type": "execute_result"
    }
   ],
   "source": [
    "lst = [1, 2, 3]\n",
    "dir(lst)"
   ]
  },
  {
   "cell_type": "code",
   "execution_count": 2,
   "metadata": {},
   "outputs": [
    {
     "data": {
      "text/plain": [
       "<function list.__dir__()>"
      ]
     },
     "execution_count": 2,
     "metadata": {},
     "output_type": "execute_result"
    }
   ],
   "source": [
    "lst.__dir__"
   ]
  },
  {
   "cell_type": "code",
   "execution_count": 3,
   "metadata": {},
   "outputs": [
    {
     "data": {
      "text/plain": [
       "['__repr__',\n",
       " '__hash__',\n",
       " '__getattribute__',\n",
       " '__lt__',\n",
       " '__le__',\n",
       " '__eq__',\n",
       " '__ne__',\n",
       " '__gt__',\n",
       " '__ge__',\n",
       " '__iter__',\n",
       " '__init__',\n",
       " '__len__',\n",
       " '__getitem__',\n",
       " '__setitem__',\n",
       " '__delitem__',\n",
       " '__add__',\n",
       " '__mul__',\n",
       " '__rmul__',\n",
       " '__contains__',\n",
       " '__iadd__',\n",
       " '__imul__',\n",
       " '__new__',\n",
       " '__reversed__',\n",
       " '__sizeof__',\n",
       " 'clear',\n",
       " 'copy',\n",
       " 'append',\n",
       " 'insert',\n",
       " 'extend',\n",
       " 'pop',\n",
       " 'remove',\n",
       " 'index',\n",
       " 'count',\n",
       " 'reverse',\n",
       " 'sort',\n",
       " '__doc__',\n",
       " '__str__',\n",
       " '__setattr__',\n",
       " '__delattr__',\n",
       " '__reduce_ex__',\n",
       " '__reduce__',\n",
       " '__subclasshook__',\n",
       " '__init_subclass__',\n",
       " '__format__',\n",
       " '__dir__',\n",
       " '__class__']"
      ]
     },
     "execution_count": 3,
     "metadata": {},
     "output_type": "execute_result"
    }
   ],
   "source": [
    "lst.__dir__()"
   ]
  },
  {
   "cell_type": "code",
   "execution_count": 4,
   "metadata": {},
   "outputs": [
    {
     "name": "stdout",
     "output_type": "stream",
     "text": [
      "Help on built-in function __dir__:\n",
      "\n",
      "__dir__() method of builtins.list instance\n",
      "    Default dir() implementation.\n",
      "\n"
     ]
    }
   ],
   "source": [
    "help(lst.__dir__)"
   ]
  },
  {
   "cell_type": "code",
   "execution_count": 5,
   "metadata": {},
   "outputs": [
    {
     "data": {
      "text/plain": [
       "'[1, 2, 3]'"
      ]
     },
     "execution_count": 5,
     "metadata": {},
     "output_type": "execute_result"
    }
   ],
   "source": [
    "lst.__str__()"
   ]
  },
  {
   "cell_type": "code",
   "execution_count": 6,
   "metadata": {},
   "outputs": [
    {
     "data": {
      "text/plain": [
       "<method-wrapper '__str__' of list object at 0x0000017DEB058100>"
      ]
     },
     "execution_count": 6,
     "metadata": {},
     "output_type": "execute_result"
    }
   ],
   "source": [
    "lst.__str__"
   ]
  },
  {
   "cell_type": "markdown",
   "metadata": {},
   "source": [
    "# Programmer Defined Types\n",
    "## Run through Downey's examples in Chapter 15\n",
    "## Define a class Point"
   ]
  },
  {
   "cell_type": "code",
   "execution_count": 39,
   "metadata": {},
   "outputs": [],
   "source": [
    "## Class definitions cannot be empty. Put in the pass statement to avoid getting an error\n",
    "## SyntaxError: unexpected EOF while parsing\n",
    "class Point:\n",
    "    \"Represents a point in 2-D space\""
   ]
  },
  {
   "cell_type": "markdown",
   "metadata": {},
   "source": [
    "## What have we accomplished?"
   ]
  },
  {
   "cell_type": "code",
   "execution_count": 8,
   "metadata": {},
   "outputs": [
    {
     "name": "stdout",
     "output_type": "stream",
     "text": [
      "<class '__main__.Point'>\n"
     ]
    }
   ],
   "source": [
    "print(Point)"
   ]
  },
  {
   "cell_type": "code",
   "execution_count": 9,
   "metadata": {},
   "outputs": [
    {
     "name": "stdout",
     "output_type": "stream",
     "text": [
      "['__class__', '__delattr__', '__dict__', '__dir__', '__doc__', '__eq__', '__format__', '__ge__', '__getattribute__', '__gt__', '__hash__', '__init__', '__init_subclass__', '__le__', '__lt__', '__module__', '__ne__', '__new__', '__reduce__', '__reduce_ex__', '__repr__', '__setattr__', '__sizeof__', '__str__', '__subclasshook__', '__weakref__']\n"
     ]
    }
   ],
   "source": [
    "print(dir(Point))"
   ]
  },
  {
   "cell_type": "markdown",
   "metadata": {},
   "source": [
    "### *We didn't define any of these methods - they were inherited*"
   ]
  },
  {
   "cell_type": "code",
   "execution_count": 10,
   "metadata": {},
   "outputs": [
    {
     "name": "stdout",
     "output_type": "stream",
     "text": [
      "Help on method_descriptor:\n",
      "\n",
      "__dir__(self, /)\n",
      "    Default dir() implementation.\n",
      "\n"
     ]
    }
   ],
   "source": [
    "help(Point.__dir__)"
   ]
  },
  {
   "cell_type": "markdown",
   "metadata": {},
   "source": [
    "## Now create an object of type Point"
   ]
  },
  {
   "cell_type": "code",
   "execution_count": 11,
   "metadata": {},
   "outputs": [
    {
     "name": "stdout",
     "output_type": "stream",
     "text": [
      "<__main__.Point object at 0x0000017DEB062A30>\n"
     ]
    }
   ],
   "source": [
    "p = Point()\n",
    "\n",
    "print(p)"
   ]
  },
  {
   "cell_type": "markdown",
   "metadata": {},
   "source": [
    "## p is a Point\n",
    "By that we mean 'p is an instance of class Point'"
   ]
  },
  {
   "cell_type": "markdown",
   "metadata": {},
   "source": [
    "## Add some attributes to our point"
   ]
  },
  {
   "cell_type": "code",
   "execution_count": 12,
   "metadata": {},
   "outputs": [
    {
     "name": "stdout",
     "output_type": "stream",
     "text": [
      "3.0 4.0\n"
     ]
    }
   ],
   "source": [
    "p.x = 3.0\n",
    "p.y = 4.0\n",
    "\n",
    "print(p.x, p.y)"
   ]
  },
  {
   "cell_type": "markdown",
   "metadata": {},
   "source": [
    "# *This is most unusual*\n",
    "\n",
    "Most OO languages don't let you add attributes on the fly like this"
   ]
  },
  {
   "cell_type": "markdown",
   "metadata": {},
   "source": [
    "## Print p"
   ]
  },
  {
   "cell_type": "code",
   "execution_count": 13,
   "metadata": {},
   "outputs": [
    {
     "name": "stdout",
     "output_type": "stream",
     "text": [
      "<__main__.Point object at 0x0000017DEB062A30>\n"
     ]
    }
   ],
   "source": [
    "print(p)"
   ]
  },
  {
   "cell_type": "markdown",
   "metadata": {},
   "source": [
    "# Format a standard Point representation"
   ]
  },
  {
   "cell_type": "code",
   "execution_count": 14,
   "metadata": {},
   "outputs": [
    {
     "name": "stdout",
     "output_type": "stream",
     "text": [
      "(3.0, 4.0)\n"
     ]
    }
   ],
   "source": [
    "print(f'({p.x}, {p.y})')"
   ]
  },
  {
   "cell_type": "markdown",
   "metadata": {},
   "source": [
    "## Define a function to print points"
   ]
  },
  {
   "cell_type": "code",
   "execution_count": 15,
   "metadata": {},
   "outputs": [
    {
     "name": "stdout",
     "output_type": "stream",
     "text": [
      "(3.0, 4.0)\n"
     ]
    }
   ],
   "source": [
    "def print_point(p: Point):\n",
    "    print(f'({p.x}, {p.y})')\n",
    "    \n",
    "print_point(p)"
   ]
  },
  {
   "cell_type": "code",
   "execution_count": 16,
   "metadata": {},
   "outputs": [
    {
     "name": "stdout",
     "output_type": "stream",
     "text": [
      "<__main__.Point object at 0x0000017DEB062A30>\n"
     ]
    }
   ],
   "source": [
    "print(p)"
   ]
  },
  {
   "cell_type": "markdown",
   "metadata": {},
   "source": [
    "## *We will see how to define a class method shortly*\n",
    "\n",
    "We would like to be able to say print(p) and get this output."
   ]
  },
  {
   "cell_type": "markdown",
   "metadata": {},
   "source": [
    "# New class: Rectangles"
   ]
  },
  {
   "cell_type": "markdown",
   "metadata": {},
   "source": [
    "## We have a choice of representations for a Rectangle\n",
    "\n",
    "Assume rectangle runs parallel to X and Y axes\n",
    "\n",
    "- Upper Left corner and width and height\n",
    "\n",
    "- Opposite corners"
   ]
  },
  {
   "cell_type": "markdown",
   "metadata": {},
   "source": [
    "## Which representation should we pick?\n",
    "- First involves less guesswork\n",
    "- In second case, we don't know relative positions \n",
    "    - Which of the four corners does the first point represent?\n",
    "    - However, may be more natural for someone picking points with a mouse"
   ]
  },
  {
   "cell_type": "code",
   "execution_count": 17,
   "metadata": {},
   "outputs": [],
   "source": [
    "class Rectangle:\n",
    "    \"Represents rectangle: width, height, corner\""
   ]
  },
  {
   "cell_type": "code",
   "execution_count": 18,
   "metadata": {},
   "outputs": [],
   "source": [
    "box = Rectangle()\n",
    "box.width = 100\n",
    "box.height = 200\n",
    "box.corner = Point()\n",
    "box.corner.x = 0.0\n",
    "box.corner.y = 0.0"
   ]
  },
  {
   "cell_type": "markdown",
   "metadata": {},
   "source": [
    "# Functions that return a user-defined object"
   ]
  },
  {
   "cell_type": "code",
   "execution_count": 19,
   "metadata": {},
   "outputs": [
    {
     "name": "stdout",
     "output_type": "stream",
     "text": [
      "(50.0, 100.0)\n"
     ]
    }
   ],
   "source": [
    "def find_center(rect):\n",
    "    p = Point()\n",
    "    p.x = rect.corner.x + rect.width/2\n",
    "    p.y = rect.corner.y + rect.height/2\n",
    "    return p\n",
    "    \n",
    "p = find_center(box)\n",
    "print_point(p)"
   ]
  },
  {
   "cell_type": "markdown",
   "metadata": {},
   "source": [
    "## Python Tutor can graph objects\n",
    "\n",
    "You need jpeg Box.jpg in the img subdirectory to view this..."
   ]
  },
  {
   "cell_type": "markdown",
   "metadata": {},
   "source": [
    "<img src=\"img/Box.jpg\">"
   ]
  },
  {
   "cell_type": "markdown",
   "metadata": {},
   "source": [
    "# Objects are mutable"
   ]
  },
  {
   "cell_type": "code",
   "execution_count": 20,
   "metadata": {},
   "outputs": [
    {
     "name": "stdout",
     "output_type": "stream",
     "text": [
      "(75.0, 150.0)\n"
     ]
    }
   ],
   "source": [
    "# Let's change box\n",
    "\n",
    "box.width = box.width + 50\n",
    "box.height = box.height + 100\n",
    "\n",
    "print_point(find_center(box))"
   ]
  },
  {
   "cell_type": "markdown",
   "metadata": {},
   "source": [
    "# We can copy objects"
   ]
  },
  {
   "cell_type": "code",
   "execution_count": 21,
   "metadata": {},
   "outputs": [],
   "source": [
    "p1 = Point()\n",
    "p1.x = 3.0\n",
    "p1.y = 4.0"
   ]
  },
  {
   "cell_type": "code",
   "execution_count": 22,
   "metadata": {},
   "outputs": [],
   "source": [
    "import copy\n",
    "\n",
    "p2 = copy.copy(p1)"
   ]
  },
  {
   "cell_type": "code",
   "execution_count": 23,
   "metadata": {},
   "outputs": [
    {
     "name": "stdout",
     "output_type": "stream",
     "text": [
      "(3.0, 4.0)\n",
      "(3.0, 4.0)\n"
     ]
    }
   ],
   "source": [
    "print_point(p1)\n",
    "print_point(p2)"
   ]
  },
  {
   "cell_type": "code",
   "execution_count": 24,
   "metadata": {},
   "outputs": [
    {
     "data": {
      "text/plain": [
       "False"
      ]
     },
     "execution_count": 24,
     "metadata": {},
     "output_type": "execute_result"
    }
   ],
   "source": [
    "p1 is p2"
   ]
  },
  {
   "cell_type": "code",
   "execution_count": 25,
   "metadata": {},
   "outputs": [
    {
     "data": {
      "text/plain": [
       "False"
      ]
     },
     "execution_count": 25,
     "metadata": {},
     "output_type": "execute_result"
    }
   ],
   "source": [
    "p1 == p2"
   ]
  },
  {
   "cell_type": "markdown",
   "metadata": {},
   "source": [
    "## Different instances, but they have identical values\n",
    "### Perhaps they *should* be ==, but we haven't made that happen\n",
    "### We will learn to 'override' the == operator"
   ]
  },
  {
   "cell_type": "markdown",
   "metadata": {},
   "source": [
    "## I can make an alias for p1"
   ]
  },
  {
   "cell_type": "code",
   "execution_count": 26,
   "metadata": {},
   "outputs": [],
   "source": [
    "p3 = p1"
   ]
  },
  {
   "cell_type": "code",
   "execution_count": 27,
   "metadata": {},
   "outputs": [
    {
     "data": {
      "text/plain": [
       "True"
      ]
     },
     "execution_count": 27,
     "metadata": {},
     "output_type": "execute_result"
    }
   ],
   "source": [
    "p3 is p1"
   ]
  },
  {
   "cell_type": "code",
   "execution_count": 28,
   "metadata": {},
   "outputs": [
    {
     "data": {
      "text/plain": [
       "True"
      ]
     },
     "execution_count": 28,
     "metadata": {},
     "output_type": "execute_result"
    }
   ],
   "source": [
    "p3 == p1"
   ]
  },
  {
   "cell_type": "code",
   "execution_count": 29,
   "metadata": {},
   "outputs": [
    {
     "name": "stdout",
     "output_type": "stream",
     "text": [
      "1640325590224\n",
      "1640325590224\n"
     ]
    }
   ],
   "source": [
    "print(id(p1))\n",
    "print(id(p3))"
   ]
  },
  {
   "cell_type": "markdown",
   "metadata": {},
   "source": [
    "# Copy a rectangle"
   ]
  },
  {
   "cell_type": "code",
   "execution_count": 30,
   "metadata": {},
   "outputs": [
    {
     "name": "stdout",
     "output_type": "stream",
     "text": [
      "(0.0, 0.0)\n"
     ]
    }
   ],
   "source": [
    "box2 = copy.copy(box)\n",
    "\n",
    "print_point(box2.corner)"
   ]
  },
  {
   "cell_type": "code",
   "execution_count": 31,
   "metadata": {},
   "outputs": [
    {
     "data": {
      "text/plain": [
       "False"
      ]
     },
     "execution_count": 31,
     "metadata": {},
     "output_type": "execute_result"
    }
   ],
   "source": [
    "box == box2"
   ]
  },
  {
   "cell_type": "markdown",
   "metadata": {},
   "source": [
    "## Different Rectangles that share a point"
   ]
  },
  {
   "cell_type": "markdown",
   "metadata": {},
   "source": [
    "<img src=\"img/CopyBox.jpg\">"
   ]
  },
  {
   "cell_type": "code",
   "execution_count": 32,
   "metadata": {},
   "outputs": [
    {
     "data": {
      "text/plain": [
       "True"
      ]
     },
     "execution_count": 32,
     "metadata": {},
     "output_type": "execute_result"
    }
   ],
   "source": [
    "box.corner == box2.corner"
   ]
  },
  {
   "cell_type": "code",
   "execution_count": 33,
   "metadata": {},
   "outputs": [
    {
     "name": "stdout",
     "output_type": "stream",
     "text": [
      "1640326108784 1640325589168\n"
     ]
    }
   ],
   "source": [
    "print(id(box), id(box2))"
   ]
  },
  {
   "cell_type": "code",
   "execution_count": 34,
   "metadata": {},
   "outputs": [
    {
     "name": "stdout",
     "output_type": "stream",
     "text": [
      "1640326109024 1640326109024\n"
     ]
    },
    {
     "data": {
      "text/plain": [
       "True"
      ]
     },
     "execution_count": 34,
     "metadata": {},
     "output_type": "execute_result"
    }
   ],
   "source": [
    "print(id(box.corner), id(box2.corner))\n",
    "\n",
    "id(box.corner) == id(box2.corner)"
   ]
  },
  {
   "cell_type": "markdown",
   "metadata": {},
   "source": [
    "# Deep Copy"
   ]
  },
  {
   "cell_type": "code",
   "execution_count": 35,
   "metadata": {},
   "outputs": [
    {
     "name": "stdout",
     "output_type": "stream",
     "text": [
      "1640326108784 1640326110992\n",
      "False\n"
     ]
    }
   ],
   "source": [
    "box3 = copy.deepcopy(box)\n",
    "\n",
    "print(id(box), id(box3))\n",
    "print(id(box) == id(box3))"
   ]
  },
  {
   "cell_type": "markdown",
   "metadata": {},
   "source": [
    "## Are the corners different?"
   ]
  },
  {
   "cell_type": "code",
   "execution_count": 36,
   "metadata": {},
   "outputs": [
    {
     "name": "stdout",
     "output_type": "stream",
     "text": [
      "1640326109024 1640326110320\n"
     ]
    },
    {
     "data": {
      "text/plain": [
       "False"
      ]
     },
     "execution_count": 36,
     "metadata": {},
     "output_type": "execute_result"
    }
   ],
   "source": [
    "print(id(box.corner), id(box3.corner))\n",
    "\n",
    "id(box.corner) == id(box3.corner)"
   ]
  },
  {
   "cell_type": "markdown",
   "metadata": {},
   "source": [
    "# Chapter 16: Time after Time\n",
    "\n",
    "https://www.youtube.com/watch?v=SV7Mp_UyfKc\n",
    "\n",
    "## Downey's first definition of time\n",
    "### The functions below are not embedded in the Class block\n",
    "### Later we will use the Class block to define *methods*"
   ]
  },
  {
   "cell_type": "code",
   "execution_count": 40,
   "metadata": {},
   "outputs": [
    {
     "name": "stdout",
     "output_type": "stream",
     "text": [
      "Starts at 12:00:00\n"
     ]
    }
   ],
   "source": [
    "# Think Python, by Allen B. Downey\n",
    "# time1.py\n",
    "\n",
    "class Time(object):\n",
    "    \"\"\"Represents the time of day.\n",
    "       \n",
    "    attributes: hour, minute, second\n",
    "    \"\"\"\n",
    "\n",
    "## The following functions aren't embedded in the class block:\n",
    "\n",
    "def print_time(t):\n",
    "    print('%.2d:%.2d:%.2d' % \n",
    "         (t.hour, t.minute, t.second))\n",
    "\n",
    "def is_after(t1, t2):\n",
    "    \"\"\"Returns True if t1 is after t2\"\"\"\n",
    "    return (t1.hour, t1.minute, t1.second) > (t2.hour, t2.minute, t2.second)\n",
    "\n",
    "def main():\n",
    "    noon_time        = Time()\n",
    "    noon_time.hour   = 12\n",
    "    noon_time.minute = 0\n",
    "    noon_time.second = 0\n",
    "\n",
    "    print('Starts at', end=\" \")   # Starts at ...\n",
    "    print_time(noon_time)         # ... 12:00:00\n",
    "    \n",
    "main()       "
   ]
  },
  {
   "cell_type": "markdown",
   "metadata": {},
   "source": [
    "## Class defines a blueprint for making Time objects"
   ]
  },
  {
   "cell_type": "markdown",
   "metadata": {},
   "source": [
    "### A Time object needs three attributes: hour, minute, second\n",
    "\n",
    "We haven't created anything that enforces or checks that this is true"
   ]
  },
  {
   "cell_type": "code",
   "execution_count": null,
   "metadata": {},
   "outputs": [],
   "source": [
    "def print_time(t):\n",
    "    print('%.2d:%.2d:%.2d' % \n",
    "         (t.hour, t.minute, t.second))\n",
    "    \n",
    "\n",
    "noon_time        = Time()\n",
    "noon_time.hour   = 12\n",
    "noon_time.minute = 0\n",
    "noon_time.second = 0\n",
    "\n",
    "print_time(noon_time)         # ... 12:00:00"
   ]
  },
  {
   "cell_type": "markdown",
   "metadata": {},
   "source": [
    "## Where does it all go?"
   ]
  },
  {
   "cell_type": "code",
   "execution_count": null,
   "metadata": {},
   "outputs": [],
   "source": [
    "print(noon_time.__dict__)"
   ]
  },
  {
   "cell_type": "markdown",
   "metadata": {},
   "source": [
    "### Is this time valid?"
   ]
  },
  {
   "cell_type": "code",
   "execution_count": null,
   "metadata": {},
   "outputs": [],
   "source": [
    "def valid_time(time):\n",
    "    \"\"\"Checks whether a Time object satisfies the invariants.\"\"\"\n",
    "    if time.hour < 0 or time.minute < 0 or time.second < 0:\n",
    "        return False\n",
    "    if time.minute >= 60 or time.second >= 60:\n",
    "        return False\n",
    "    return True\n",
    "\n",
    "def main():\n",
    "    noon_time        = Time()\n",
    "    noon_time.hour   = 125\n",
    "    noon_time.minute = 0\n",
    "    noon_time.second = 0\n",
    "\n",
    "    print_time(noon_time)         # ... 12:00:00\n",
    "    if (valid_time(noon_time)):\n",
    "        print(\"Valid time\")\n",
    "    else:\n",
    "        print(\"Not a Valid time\")\n",
    "        \n",
    "main()"
   ]
  },
  {
   "cell_type": "markdown",
   "metadata": {},
   "source": [
    "### Does not check that hours < 24\n",
    "\n",
    "You will take that on in the Homework"
   ]
  },
  {
   "cell_type": "markdown",
   "metadata": {},
   "source": [
    "## How can we compare times?\n",
    "\n",
    "If I have two times, which comes first?\n",
    "\n",
    "We will assume they happen in the same day"
   ]
  },
  {
   "cell_type": "code",
   "execution_count": null,
   "metadata": {},
   "outputs": [],
   "source": [
    "def is_after(t1, t2):\n",
    "    \"\"\"Returns True if t1 is after t2\"\"\"\n",
    "    if (t1.hour > t2.hour):\n",
    "        return True\n",
    "    "
   ]
  },
  {
   "cell_type": "markdown",
   "metadata": {},
   "source": [
    "## What kind of bug is that?\n",
    "\n",
    "Is time(25, 0, 0) after time(3, 0, 0) or before?\n",
    "\n",
    "This problem only arises because we let hours be greater than 23.  "
   ]
  },
  {
   "cell_type": "markdown",
   "metadata": {},
   "source": [
    "## *Can I compare minutes now?*\n",
    "\n",
    "Have I extracted all the information from the hours?"
   ]
  },
  {
   "cell_type": "code",
   "execution_count": null,
   "metadata": {},
   "outputs": [],
   "source": [
    "def is_after(t1, t2):\n",
    "    \"\"\"Returns True if t1 is after t2\"\"\"\n",
    "    if (t1.hour > t2.hour):\n",
    "        return True\n",
    "    elif (t1.hour < t2.hour):\n",
    "        return False\n",
    "    else: \n",
    "        # Hours are the same. Check the minutes now\n",
    "        ..."
   ]
  },
  {
   "cell_type": "markdown",
   "metadata": {},
   "source": [
    "## Must be a better way...\n",
    "\n",
    "Use Tuple ordering to compare two times"
   ]
  },
  {
   "cell_type": "code",
   "execution_count": null,
   "metadata": {},
   "outputs": [],
   "source": [
    "def is_after(t1, t2):\n",
    "    \"\"\"Returns True if t1 is after t2\"\"\"\n",
    "    return (t1.hour, t1.minute, t1.second) > (t2.hour, t2.minute, t2.second)"
   ]
  },
  {
   "cell_type": "markdown",
   "metadata": {},
   "source": [
    "## Alternatives\n",
    "\n",
    "### We could convert time to seconds past midnight\n",
    "\n",
    "### Then we can compare two times by comparing two integers"
   ]
  },
  {
   "cell_type": "markdown",
   "metadata": {},
   "source": [
    "# Limitations\n",
    "## One pleasure of Python is ease of creating objects"
   ]
  },
  {
   "cell_type": "code",
   "execution_count": null,
   "metadata": {},
   "outputs": [],
   "source": [
    "lst   = [1, 2, 3]\n",
    "tup   = ('a', 'b')\n",
    "d     = {'soup': 2, 'nuts': 0}"
   ]
  },
  {
   "cell_type": "markdown",
   "metadata": {},
   "source": [
    "## But what did we need to do for our time objects?"
   ]
  },
  {
   "cell_type": "code",
   "execution_count": null,
   "metadata": {},
   "outputs": [],
   "source": [
    "noon_time        = Time()\n",
    "noon_time.hour   = 12\n",
    "noon_time.minute = 0\n",
    "noon_time.second = 0"
   ]
  },
  {
   "cell_type": "markdown",
   "metadata": {},
   "source": [
    "## Another pleasure is printing objects\n",
    "```python\n",
    "print(lst, tup, d)    # Can mix types\n",
    "```"
   ]
  },
  {
   "cell_type": "code",
   "execution_count": null,
   "metadata": {},
   "outputs": [],
   "source": [
    "print(lst, tup, d)"
   ]
  },
  {
   "cell_type": "markdown",
   "metadata": {},
   "source": [
    "## But we needed a special function to print our time objects"
   ]
  },
  {
   "cell_type": "code",
   "execution_count": null,
   "metadata": {},
   "outputs": [],
   "source": [
    "print_time(noon_time)"
   ]
  },
  {
   "cell_type": "code",
   "execution_count": null,
   "metadata": {},
   "outputs": [],
   "source": [
    "print(noon_time)"
   ]
  },
  {
   "cell_type": "markdown",
   "metadata": {},
   "source": [
    "# time2 - Second Definition of Time\n",
    "## Dunder init and dunder str are defined in Class block"
   ]
  },
  {
   "cell_type": "code",
   "execution_count": 37,
   "metadata": {},
   "outputs": [
    {
     "name": "stdout",
     "output_type": "stream",
     "text": [
      "The time is 05:45:32 now\n"
     ]
    }
   ],
   "source": [
    "# Downey times2.py\n",
    "#\n",
    "# We just included two methods below to make a point\n",
    "# Downey defines a much fuller set of methods, which we will show below\n",
    "#\n",
    "class Time(object):\n",
    "    \n",
    "    def __init__(self, hour: int=0, minute: int=0, second: int=0):\n",
    "        self.hour = hour\n",
    "        self.minute = minute\n",
    "        self.second = second\n",
    "\n",
    "    def __str__(self):\n",
    "        return '%.2d:%.2d:%.2d' % (self.hour, self.minute, self.second)\n",
    "\n",
    "t = Time(5, 45, 32)\n",
    "print(f\"The time is {t} now\")  # Can mix with other types"
   ]
  },
  {
   "cell_type": "markdown",
   "metadata": {},
   "source": [
    "## Optional parameters to dunder init:\n",
    "\n",
    "```python\n",
    "def __init__(self, hour: int=0, minute: int=0, second: int=0):\n",
    "```\n",
    "\n",
    "These are dunder methods - magic methods.\n",
    "\n",
    "We never call explicitly call dunder __init__ - it is called when we create a new instance\n",
    "\n",
    "We don't explicitly call dunder __str__ either - it is called by print\n",
    "\n",
    "https://docs.python.org/3/reference/datamodel.html"
   ]
  },
  {
   "cell_type": "code",
   "execution_count": null,
   "metadata": {},
   "outputs": [],
   "source": [
    "t = Time(5, 45, 32)\n",
    "print(t) "
   ]
  },
  {
   "cell_type": "markdown",
   "metadata": {},
   "source": [
    "## Just specify hour and minute\n",
    "\n",
    "We use the default parameter for seconds"
   ]
  },
  {
   "cell_type": "code",
   "execution_count": null,
   "metadata": {},
   "outputs": [],
   "source": [
    "t1 = Time(5, 45)\n",
    "print(t1)"
   ]
  },
  {
   "cell_type": "markdown",
   "metadata": {},
   "source": [
    "## Just specify hour\n",
    "\n",
    "We use the default parameter for miniutes and seconds"
   ]
  },
  {
   "cell_type": "code",
   "execution_count": null,
   "metadata": {},
   "outputs": [],
   "source": [
    "t2 = Time(5)     # Minute and second = 0\n",
    "print(t2)"
   ]
  },
  {
   "cell_type": "markdown",
   "metadata": {},
   "source": [
    "## Don't define anything! \n",
    "Use all three default parameters"
   ]
  },
  {
   "cell_type": "code",
   "execution_count": null,
   "metadata": {},
   "outputs": [],
   "source": [
    "t3 = Time()      # Hour, minute and second = 0\n",
    "print(t3)"
   ]
  },
  {
   "cell_type": "markdown",
   "metadata": {},
   "source": [
    "## Find the Defining Class\n",
    "### Method Resolution Order (MRO)"
   ]
  },
  {
   "cell_type": "code",
   "execution_count": null,
   "metadata": {},
   "outputs": [],
   "source": [
    "help(type(int).mro)"
   ]
  },
  {
   "cell_type": "code",
   "execution_count": null,
   "metadata": {},
   "outputs": [],
   "source": [
    "t = Time(1, 2, 3)\n",
    "\n",
    "help(t.mro)"
   ]
  },
  {
   "cell_type": "code",
   "execution_count": null,
   "metadata": {},
   "outputs": [],
   "source": [
    "help(Time.mro)"
   ]
  },
  {
   "cell_type": "markdown",
   "metadata": {},
   "source": [
    "## Use the MRO to find where a method is defined"
   ]
  },
  {
   "cell_type": "code",
   "execution_count": null,
   "metadata": {},
   "outputs": [],
   "source": [
    "def find_defining_class(obj, method_name=str):\n",
    "    \"\"\"Finds and returns the class object that will provide \n",
    "    the definition of method_name (as a string) if it is\n",
    "    invoked on obj.\n",
    "\n",
    "    obj: any python object\n",
    "    method_name: string method name\n",
    "    \"\"\"\n",
    "    for ty in type(obj).mro():\n",
    "        if method_name in ty.__dict__:\n",
    "            return ty\n",
    "    return None"
   ]
  },
  {
   "cell_type": "code",
   "execution_count": null,
   "metadata": {},
   "outputs": [],
   "source": [
    "print(find_defining_class(lst, '__str__'))"
   ]
  },
  {
   "cell_type": "code",
   "execution_count": null,
   "metadata": {},
   "outputs": [],
   "source": [
    "t = Time()\n",
    "\n",
    "print(find_defining_class(t, '__str__'))"
   ]
  },
  {
   "cell_type": "markdown",
   "metadata": {},
   "source": [
    "## Create time object given seconds since midnight"
   ]
  },
  {
   "cell_type": "code",
   "execution_count": null,
   "metadata": {},
   "outputs": [],
   "source": [
    "def int_to_time(seconds: int) -> Time:\n",
    "    \"\"\"Makes a new Time object.\n",
    "\n",
    "    seconds: int seconds since midnight.\n",
    "    \"\"\"\n",
    "    time = Time()\n",
    "    minutes, time.second = divmod(seconds, 60)\n",
    "    time.hour, time.minute = divmod(minutes, 60)\n",
    "    return time"
   ]
  },
  {
   "cell_type": "code",
   "execution_count": null,
   "metadata": {},
   "outputs": [],
   "source": [
    "t = int_to_time(10000)\n",
    "print(t)"
   ]
  },
  {
   "cell_type": "markdown",
   "metadata": {
    "collapsed": true
   },
   "source": [
    "## Convert back from time to seconds"
   ]
  },
  {
   "cell_type": "code",
   "execution_count": null,
   "metadata": {},
   "outputs": [],
   "source": [
    "def time_to_int(time: Time) -> int:\n",
    "    \"\"\"Computes the number of seconds since midnight.\n",
    "\n",
    "    time: Time object.\n",
    "    \"\"\"\n",
    "    minutes = time.hour * 60 + time.minute\n",
    "    seconds = minutes * 60 + time.second\n",
    "    return seconds"
   ]
  },
  {
   "cell_type": "code",
   "execution_count": null,
   "metadata": {},
   "outputs": [],
   "source": [
    "print(time_to_int(t))"
   ]
  },
  {
   "cell_type": "markdown",
   "metadata": {},
   "source": [
    "## We can add times\n",
    "### Convert to int, add the integers, and convert back to time"
   ]
  },
  {
   "cell_type": "code",
   "execution_count": null,
   "metadata": {},
   "outputs": [],
   "source": [
    "def add_times(t1: Time, t2: Time) -> Time:\n",
    "    \"\"\"Adds two time objects.\"\"\"\n",
    "    assert valid_time(t1) and valid_time(t2)\n",
    "    seconds = time_to_int(t1) + time_to_int(t2)\n",
    "    return int_to_time(seconds)"
   ]
  },
  {
   "cell_type": "code",
   "execution_count": null,
   "metadata": {},
   "outputs": [],
   "source": [
    "print(add_times(Time(1, 2, 3), Time(3, 4, 5)))"
   ]
  },
  {
   "cell_type": "markdown",
   "metadata": {},
   "source": [
    "# All of Downey's class Time2"
   ]
  },
  {
   "cell_type": "code",
   "execution_count": null,
   "metadata": {},
   "outputs": [],
   "source": [
    "\"\"\"\n",
    "Time2.py\n",
    "\n",
    "Copyright 2012 Allen B. Downey.\n",
    "\"\"\"\n",
    "\n",
    "class Time(object):\n",
    "    \"\"\"Represents the time of day.\n",
    "       \n",
    "    attributes: hour, minute, second\n",
    "    \"\"\"\n",
    "    def __init__(self, hour=0, minute=0, second=0):\n",
    "        self.hour = hour\n",
    "        self.minute = minute\n",
    "        self.second = second\n",
    "\n",
    "    def __str__(self):\n",
    "        return '%.2d:%.2d:%.2d' % (self.hour, self.minute, self.second)\n",
    "\n",
    "    def print_time(self):\n",
    "        print(str(self))\n",
    "\n",
    "    def time_to_int(self):\n",
    "        \"\"\"Computes the number of seconds since midnight.\"\"\"\n",
    "        minutes = self.hour * 60 + self.minute\n",
    "        seconds = minutes * 60 + self.second\n",
    "        return seconds\n",
    "\n",
    "    def is_after(self, other):\n",
    "        \"\"\"Returns True if t1 is after t2; false otherwise.\"\"\"\n",
    "        return self.time_to_int() > other.time_to_int()\n",
    "\n",
    "    def __add__(self, other):\n",
    "        \"\"\"Adds two Time objects or a Time object and a number.\n",
    "\n",
    "        other: Time object or number of seconds\n",
    "        \"\"\"\n",
    "        if isinstance(other, Time):\n",
    "            return self.add_time(other)\n",
    "        else:\n",
    "            return self.increment(other)\n",
    "\n",
    "    def __radd__(self, other):\n",
    "        \"\"\"Adds two Time objects or a Time object and a number.\"\"\"\n",
    "        return self.__add__(other)\n",
    "\n",
    "    def add_time(self, other):\n",
    "        \"\"\"Adds two time objects.\"\"\"\n",
    "        assert self.is_valid() and other.is_valid()\n",
    "        seconds = self.time_to_int() + other.time_to_int()\n",
    "        return int_to_time(seconds)\n",
    "\n",
    "    def increment(self, seconds):\n",
    "        \"\"\"Returns a new Time that is the sum of this time and seconds.\"\"\"\n",
    "        seconds += self.time_to_int()\n",
    "        return int_to_time(seconds)\n",
    "\n",
    "    def is_valid(self):\n",
    "        \"\"\"Checks whether a Time object satisfies the invariants.\"\"\"\n",
    "        if self.hour < 0 or self.minute < 0 or self.second < 0:\n",
    "            return False\n",
    "        if self.minute >= 60 or self.second >= 60:\n",
    "            return False\n",
    "        return True\n",
    "\n",
    "\n",
    "def int_to_time(seconds):\n",
    "    \"\"\"Makes a new Time object.\n",
    "\n",
    "    seconds: int seconds since midnight.\n",
    "    \"\"\"\n",
    "    minutes, second = divmod(seconds, 60)\n",
    "    hour, minute = divmod(minutes, 60)\n",
    "    time = Time(hour, minute, second)\n",
    "    return time"
   ]
  },
  {
   "cell_type": "markdown",
   "metadata": {},
   "source": [
    "# Functions vs Methods\n",
    "## In Time1, we had functions\n",
    "\n",
    "```python\n",
    "print_time(noon_time)\n",
    "end_time = add_times(noon_time, run_time)\n",
    "print_time(end_time)\n",
    "```"
   ]
  },
  {
   "cell_type": "markdown",
   "metadata": {},
   "source": [
    "## Now we have methods "
   ]
  },
  {
   "cell_type": "code",
   "execution_count": null,
   "metadata": {},
   "outputs": [],
   "source": [
    "start = Time(9, 45, 00)\n",
    "start.print_time()\n",
    "print()\n",
    "\n",
    "end = start.increment(1337)\n",
    "end.print_time()\n",
    "\n",
    "# Or just call ordinary print()\n",
    "print(end)"
   ]
  },
  {
   "cell_type": "markdown",
   "metadata": {},
   "source": [
    "# Check the attributes\n",
    "\n",
    "The dictionary dunder dict holds the attributes"
   ]
  },
  {
   "cell_type": "code",
   "execution_count": null,
   "metadata": {},
   "outputs": [],
   "source": [
    "t = Time(20, 35, 00)\n",
    "\n",
    "print(t.__dict__)"
   ]
  },
  {
   "cell_type": "markdown",
   "metadata": {},
   "source": [
    "## Time2 In Use"
   ]
  },
  {
   "cell_type": "code",
   "execution_count": null,
   "metadata": {},
   "outputs": [],
   "source": [
    "def main():\n",
    "    start = Time(9, 45, 00)\n",
    "    print(\"Start:\", start) \n",
    "\n",
    "    one = Time(20, 35, 00)\n",
    "    print(one)\n",
    "    two = Time(20, 40, 00)\n",
    "    print(two)\n",
    "    three = one + two\n",
    "    print(three)\n",
    "    print(f\"{one} + {two} = {three}\")\n",
    "\n",
    "    assert start.is_valid()\n",
    "\n",
    "    end = start.increment(1337)\n",
    "    print(f\"end = {end}\")\n",
    "\n",
    "    print('Is end after start?', end=\" \")\n",
    "    print(end.is_after(start))\n",
    "\n",
    "    print('Using __str__', end=\" \")\n",
    "    print(start, end)   \n",
    "\n",
    "    start = Time(9, 45)\n",
    "    duration = Time(1, 35)\n",
    "    \n",
    "    # Three faces of addition\n",
    "    print(start + duration)\n",
    "    print(start + 1337)\n",
    "    print(1337 + start)\n",
    "\n",
    "    print('Example of polymorphism')\n",
    "    t1 = Time(7, 43)\n",
    "    t2 = Time(7, 41)\n",
    "    t3 = Time(7, 37)\n",
    "    total = sum([t1, t2, t3])\n",
    "    print(total)\n",
    "\n",
    "\n",
    "# if __name__ == '__main__':\n",
    "main()"
   ]
  },
  {
   "cell_type": "markdown",
   "metadata": {},
   "source": [
    "## Compare times by converting to int"
   ]
  },
  {
   "cell_type": "code",
   "execution_count": null,
   "metadata": {},
   "outputs": [],
   "source": [
    "    def time_to_int(self):\n",
    "        \"\"\"Computes the number of seconds since midnight.\"\"\"\n",
    "        minutes = self.hour * 60 + self.minute\n",
    "        seconds = minutes * 60 + self.second\n",
    "        return seconds\n",
    "\n",
    "    def is_after(self, other):\n",
    "        \"\"\"Returns True if t1 is after t2; false otherwise.\"\"\"\n",
    "        return self.time_to_int() > other.time_to_int()"
   ]
  },
  {
   "cell_type": "markdown",
   "metadata": {},
   "source": [
    "# Adding times"
   ]
  },
  {
   "cell_type": "code",
   "execution_count": null,
   "metadata": {},
   "outputs": [],
   "source": [
    "def add_time(self, other):\n",
    "    \"\"\"Adds two time objects.\"\"\"\n",
    "    seconds = self.time_to_int() + other.time_to_int()\n",
    "    return int_to_time(seconds)\n",
    "\n",
    "def increment(self, seconds):\n",
    "    \"\"\"Returns a new Time = self + seconds.\"\"\"\n",
    "    seconds += self.time_to_int()\n",
    "    return int_to_time(seconds)"
   ]
  },
  {
   "cell_type": "markdown",
   "metadata": {},
   "source": [
    "## We have some more magic methods"
   ]
  },
  {
   "cell_type": "markdown",
   "metadata": {
    "collapsed": true
   },
   "source": [
    "### While we can call add_time(), we'd rather say t1 + t2"
   ]
  },
  {
   "cell_type": "code",
   "execution_count": null,
   "metadata": {},
   "outputs": [],
   "source": [
    "t_one = Time(20, 35, 0)\n",
    "t_two = Time(20, 40, 0)\n",
    "print(t_one, t_two)\n",
    "\n",
    "t_three = t_one + t_two\n",
    "\n",
    "print(f\"{t_one} + {t_two} == {t_three}\")"
   ]
  },
  {
   "cell_type": "markdown",
   "metadata": {},
   "source": [
    "## Magic Method dunder add\n",
    "\n",
    "## Uses type based dispatch: test type with isinstance()\n",
    "\n",
    "Integers take one path, Times take another"
   ]
  },
  {
   "cell_type": "code",
   "execution_count": null,
   "metadata": {},
   "outputs": [],
   "source": [
    "    def __add__(self, other):\n",
    "        \"\"\"Adds two Time objects or a Time object and a number.\n",
    "\n",
    "        other: Time object or number of seconds\n",
    "        \"\"\"\n",
    "        if isinstance(other, Time):\n",
    "            return self.add_time(other)\n",
    "        else:\n",
    "            return self.increment(other)"
   ]
  },
  {
   "cell_type": "code",
   "execution_count": null,
   "metadata": {},
   "outputs": [],
   "source": [
    "start = Time(9, 45)\n",
    "duration = Time(1, 35)\n",
    "print(start + duration) # Add two times\n",
    "print(start + 1337)     # Add a time plus 1337 seconds"
   ]
  },
  {
   "cell_type": "markdown",
   "metadata": {},
   "source": [
    "## Magic Methods aren't really magic"
   ]
  },
  {
   "cell_type": "code",
   "execution_count": null,
   "metadata": {},
   "outputs": [],
   "source": [
    "print(start + duration)"
   ]
  },
  {
   "cell_type": "code",
   "execution_count": null,
   "metadata": {},
   "outputs": [],
   "source": [
    "print(start + [1, 2, 3])"
   ]
  },
  {
   "cell_type": "markdown",
   "metadata": {},
   "source": [
    "## What happens when we say a + b?\n",
    "\n",
    "We ask object a to add b to itself\n",
    "\n",
    "## *We haven't made provisions to add a list to time*"
   ]
  },
  {
   "cell_type": "markdown",
   "metadata": {},
   "source": [
    "# Polymorphism"
   ]
  },
  {
   "cell_type": "markdown",
   "metadata": {},
   "source": [
    "## We saw polymorphism before\n",
    "\n",
    "#### len() finds length of strings, or lists, or dictionaries, or tuples, or ...\n",
    "#### max() could find max of ints, or strings, or tuples, or ...  "
   ]
  },
  {
   "cell_type": "code",
   "execution_count": null,
   "metadata": {},
   "outputs": [],
   "source": [
    "## Because we define __add__, we can use Python methods \n",
    "## that only uses +, such as sum\n",
    "\n",
    "t1 = Time(7, 43)\n",
    "t2 = Time(7, 41)\n",
    "t3 = Time(7, 37)\n",
    "\n",
    "print(sum([t1, t2, t3]))"
   ]
  },
  {
   "cell_type": "markdown",
   "metadata": {},
   "source": [
    "## What if I cross my arguments?\n",
    "\n",
    "I can add an integer to a time: what if I add a time to an integer?\n",
    "\n",
    "```python\n",
    "    def __add__(self, other):\n",
    "        if isinstance(other, Time):\n",
    "            return self.add_time(other)\n",
    "        else:\n",
    "            return self.increment(other)\n",
    "```\n",
    "### *Predict what will happen*"
   ]
  },
  {
   "cell_type": "code",
   "execution_count": null,
   "metadata": {},
   "outputs": [],
   "source": [
    "print(start)\n",
    "\n",
    "print(333 + start)"
   ]
  },
  {
   "cell_type": "markdown",
   "metadata": {},
   "source": [
    "## How does it know?\n",
    "\n",
    "This should dispatch to class int, the class for 1337\n",
    "\n",
    "But ints don't know from time\n",
    "\n",
    "### *Use the debugger to validate that dunder radd is called*\n",
    "\n",
    "Put a breakpoint in dunder radd\n",
    "\n",
    "```python\n",
    "# This looks just like __add__, but is used behind the scenes\n",
    "# We look for a match for __add__(a, b) \n",
    "# If not found, we look for match for __radd__(b, a)\n",
    "#\n",
    "def __radd__(self, other):\n",
    "    \"\"\"Adds two Time objects or \n",
    "       a Time object and a number.\"\"\"\n",
    "    return self.__add__(other)\n",
    "```"
   ]
  },
  {
   "cell_type": "code",
   "execution_count": null,
   "metadata": {},
   "outputs": [],
   "source": [
    "print(1337 + start) "
   ]
  },
  {
   "cell_type": "markdown",
   "metadata": {},
   "source": [
    "# Weaknesses in Python Object encapsulation"
   ]
  },
  {
   "cell_type": "code",
   "execution_count": null,
   "metadata": {},
   "outputs": [],
   "source": [
    "t = Time(1, 2, 3)\n",
    "print(t.__dict__)"
   ]
  },
  {
   "cell_type": "code",
   "execution_count": null,
   "metadata": {},
   "outputs": [],
   "source": [
    "t.huor = 12     #### !!!\n",
    "t.minit = 5     #### !!!\n",
    "t.secondary = 3 #### !!!"
   ]
  },
  {
   "cell_type": "code",
   "execution_count": null,
   "metadata": {},
   "outputs": [],
   "source": [
    "print(t.__dict__)"
   ]
  },
  {
   "cell_type": "code",
   "execution_count": null,
   "metadata": {},
   "outputs": [],
   "source": [
    "print(vars(t))"
   ]
  },
  {
   "cell_type": "markdown",
   "metadata": {},
   "source": [
    "## Use Introspection to print all the attributes"
   ]
  },
  {
   "cell_type": "code",
   "execution_count": null,
   "metadata": {},
   "outputs": [],
   "source": [
    "# Traverse the object's attributes\n",
    "def print_attributes(obj):\n",
    "    for attr in vars(obj):\n",
    "        print(attr, getattr(obj, attr))\n",
    "\n",
    "print_attributes(t)"
   ]
  },
  {
   "cell_type": "markdown",
   "metadata": {},
   "source": [
    "# Inheritance\n",
    "\n",
    "Inheritance is a big theme in Object Oriented Programming\n",
    "\n",
    "Today I just want to show an example of Inheritance in action\n",
    "\n",
    "## There are different kinds of exceptions.  \n",
    "\n",
    "The exceptions form an Inheritance Hierarchy\n",
    "\n",
    "    IndexError, IndexError, he's our man\n",
    "    If he can't do it, LookupError can!\n",
    "\n",
    "## Read about them here:\n",
    "https://docs.python.org/3/tutorial/errors.html"
   ]
  },
  {
   "cell_type": "code",
   "execution_count": null,
   "metadata": {},
   "outputs": [],
   "source": [
    "import sys\n",
    "\n",
    "try:\n",
    "    f = open('myfile.txt')\n",
    "    s = f.readline()\n",
    "    i = int(s.strip())\n",
    "except OSError as err:\n",
    "    print(f\"OS error: {err}\")\n",
    "except ValueError:\n",
    "    print(\"Could not convert data to an integer.\")\n",
    "except:\n",
    "    print(f\"Unexpected error: {sys.exc_info()[0]}\")\n",
    "    raise"
   ]
  },
  {
   "cell_type": "markdown",
   "metadata": {},
   "source": [
    "### We handle the except clauses in the order they are written\n",
    "### We can group some exceptions together"
   ]
  },
  {
   "cell_type": "code",
   "execution_count": null,
   "metadata": {},
   "outputs": [],
   "source": [
    "# Run the following command at the command line\n",
    "# Notice how the tool produces bold text...\n",
    "# N\bNA\bAM\bME\bE\n",
    "\n",
    "! pydoc3 builtins"
   ]
  },
  {
   "cell_type": "markdown",
   "metadata": {},
   "source": [
    "<img src=\"img/exception_hierarchy.jpg\">"
   ]
  },
  {
   "cell_type": "markdown",
   "metadata": {},
   "source": [
    "## The Exceptions"
   ]
  },
  {
   "cell_type": "markdown",
   "metadata": {},
   "source": [
    "```python\n",
    "CLASSES\n",
    "    object\n",
    "        BaseException\n",
    "            Exception\n",
    "                ArithmeticError\n",
    "                    FloatingPointError\n",
    "                    OverflowError\n",
    "                    ZeroDivisionError\n",
    "                AssertionError\n",
    "                AttributeError\n",
    "                BufferError\n",
    "                EOFError\n",
    "                ImportError\n",
    "                LookupError\n",
    "                    IndexError\n",
    "                    KeyError\n",
    "                MemoryError\n",
    "                NameError\n",
    "                    UnboundLocalError\n",
    "                OSError\n",
    "                    BlockingIOError\n",
    "                    ChildProcessError\n",
    "                    ConnectionError\n",
    "                        BrokenPipeError\n",
    "                        ConnectionAbortedError\n",
    "                        ConnectionRefusedError\n",
    "                        ConnectionResetError\n",
    "                    FileExistsError\n",
    "                    FileNotFoundError\n",
    "                    InterruptedError\n",
    "                    IsADirectoryError\n",
    "                    NotADirectoryError\n",
    "                    PermissionError\n",
    "                    ProcessLookupError\n",
    "                    TimeoutError\n",
    "                ReferenceError\n",
    "                RuntimeError\n",
    "                    NotImplementedError\n",
    "                    RecursionError\n",
    "                StopAsyncIteration\n",
    "                StopIteration\n",
    "                SyntaxError\n",
    "                    IndentationError\n",
    "                        TabError\n",
    "                SystemError\n",
    "                TypeError\n",
    "                ValueError\n",
    "                    UnicodeError\n",
    "                        UnicodeDecodeError\n",
    "                        UnicodeEncodeError\n",
    "                        UnicodeTranslateError\n",
    "                Warning\n",
    "                    BytesWarning\n",
    "                    DeprecationWarning\n",
    "                    FutureWarning\n",
    "                    ImportWarning          \n",
    "                    PendingDeprecationWarning\n",
    "                    ResourceWarning\n",
    "                    RuntimeWarning\n",
    "                    SyntaxWarning\n",
    "                    UnicodeWarning\n",
    "                    UserWarning\n",
    "            GeneratorExit\n",
    "            KeyboardInterrupt\n",
    "            SystemExit\n",
    "```"
   ]
  },
  {
   "cell_type": "markdown",
   "metadata": {},
   "source": [
    "## We can use this hierarchy.  \n",
    "### You can define your own exceptions, and group them together\n",
    "```python\n",
    "Exception\n",
    "    ArithmeticError\n",
    "        FloatingPointError\n",
    "        OverflowError\n",
    "        ZeroDivisionError\n",
    "        ...\n",
    "    LookupError\n",
    "        IndexError\n",
    "        KeyError\n",
    "    MemoryError\n",
    "    ...\n",
    "```\n",
    "\n",
    "## Let's add a new LookupError\n",
    "```python\n",
    "class GoofedUpError(LookupError):\n",
    "    \"\"\"Used Bing instread of Google\"\"\"\n",
    "    pass\n",
    "```"
   ]
  },
  {
   "cell_type": "code",
   "execution_count": null,
   "metadata": {},
   "outputs": [],
   "source": [
    "class GoofedUpError(LookupError):\n",
    "    \"\"\"Used Bing instread of Google\"\"\"\n",
    "    pass\n",
    "\n",
    "if 1 < 2:\n",
    "    raise GoofedUpError('Musta goofed up somewhere!')"
   ]
  },
  {
   "cell_type": "markdown",
   "metadata": {},
   "source": [
    "## LookupError recognizes this exception\n",
    "We will catch our new error as a LookupError, our superclass"
   ]
  },
  {
   "cell_type": "code",
   "execution_count": null,
   "metadata": {},
   "outputs": [],
   "source": [
    "class GoofedUpError(LookupError):\n",
    "    \"\"\"Used Bing instread of Google\"\"\"\n",
    "    pass\n",
    "\n",
    "try:\n",
    "    if 1 < 2:\n",
    "        raise GoofedUpError('Musta goofed up somewhere!')\n",
    "except LookupError:\n",
    "    print(\"Recite 10 Pater Nosters and call me in the morning.\") "
   ]
  },
  {
   "cell_type": "markdown",
   "metadata": {},
   "source": [
    "## Use exception types to classify errors - try #1"
   ]
  },
  {
   "cell_type": "code",
   "execution_count": null,
   "metadata": {},
   "outputs": [],
   "source": [
    "# This is a zero division error\n",
    "try:\n",
    "    x = 1/0\n",
    "except LookupError:\n",
    "    print('LookupError')\n",
    "except IndexError:\n",
    "    print('IndexError')\n",
    "except ArithmeticError:\n",
    "    print('ArithmeticError')\n",
    "except ZeroDivisionError:\n",
    "    print('ZeroDivisionError')\n",
    "except:\n",
    "    print('Some other error')"
   ]
  },
  {
   "cell_type": "markdown",
   "metadata": {},
   "source": [
    "## A ZeroDivisionError is a kind of ArithmeticError\n",
    "#### We caught general ArithmeticError before ZeroDivisionError\n",
    "```python\n",
    "try:\n",
    "    x = 1/0\n",
    "    ...\n",
    "except ArithmeticError:\n",
    "    print('ArithmeticError')\n",
    "except ZeroDivisionError:\n",
    "    print('ZeroDivisionError')\n",
    "...\n",
    "```"
   ]
  },
  {
   "cell_type": "markdown",
   "metadata": {},
   "source": [
    "## Reorder the list"
   ]
  },
  {
   "cell_type": "code",
   "execution_count": null,
   "metadata": {},
   "outputs": [],
   "source": [
    "# This is a zero division error\n",
    "try:\n",
    "    x = 1/0\n",
    "except LookupError:\n",
    "    print('LookupError')\n",
    "except IndexError:\n",
    "    print('IndexError')\n",
    "except ZeroDivisionError:\n",
    "    print('ZeroDivisionError')\n",
    "except ArithmeticError:\n",
    "    print('ArithmeticError')\n",
    "except:\n",
    "    print('Some other error')"
   ]
  },
  {
   "cell_type": "markdown",
   "metadata": {},
   "source": [
    "## Example 2: Index Error"
   ]
  },
  {
   "cell_type": "code",
   "execution_count": null,
   "metadata": {},
   "outputs": [],
   "source": [
    "# This is an index error\n",
    "lst = []\n",
    "try:\n",
    "    x = lst[0]\n",
    "except LookupError:\n",
    "    print('LookupError')\n",
    "except IndexError:\n",
    "    print('IndexError')\n",
    "except ArithmeticError:\n",
    "    print('ArithmeticError')\n",
    "except ZeroDivisionError:\n",
    "    print('ZeroDivisionError')\n",
    "except:\n",
    "    print('Some other error')"
   ]
  },
  {
   "cell_type": "markdown",
   "metadata": {},
   "source": [
    "## Here is the method resolution order for IndexError"
   ]
  },
  {
   "cell_type": "code",
   "execution_count": null,
   "metadata": {},
   "outputs": [],
   "source": [
    "help(LookupError)"
   ]
  },
  {
   "cell_type": "markdown",
   "metadata": {},
   "source": [
    "```python\n",
    "    class IndexError(LookupError)\n",
    "     |  Sequence index out of range.\n",
    "     |  \n",
    "     |  Method resolution order:\n",
    "     |      IndexError\n",
    "     |      LookupError\n",
    "     |      Exception\n",
    "     |      BaseException\n",
    "     |      object\n",
    "     ...\n",
    "```"
   ]
  },
  {
   "cell_type": "markdown",
   "metadata": {},
   "source": [
    "## Stop and Think\n",
    "### Reorder tests to match the Exception Hierarchy"
   ]
  },
  {
   "cell_type": "markdown",
   "metadata": {},
   "source": [
    "## Time2 in the Homework "
   ]
  },
  {
   "cell_type": "markdown",
   "metadata": {},
   "source": [
    "- Civilian display of time: 5:45 PM rather than 17:45:00  \n",
    "- 12:01 AM rather than  0:01:23\n",
    "- 12:00 PM rather than 12:00:00\n",
    "-  1:00 PM rather than 13:00:00\n",
    "- Make hours range between 0 and 23, however we construct a time        "
   ]
  },
  {
   "cell_type": "code",
   "execution_count": null,
   "metadata": {},
   "outputs": [],
   "source": []
  }
 ],
 "metadata": {
  "kernelspec": {
   "display_name": "Python 3",
   "language": "python",
   "name": "python3"
  },
  "language_info": {
   "codemirror_mode": {
    "name": "ipython",
    "version": 3
   },
   "file_extension": ".py",
   "mimetype": "text/x-python",
   "name": "python",
   "nbconvert_exporter": "python",
   "pygments_lexer": "ipython3",
   "version": "3.8.8"
  }
 },
 "nbformat": 4,
 "nbformat_minor": 1
}
