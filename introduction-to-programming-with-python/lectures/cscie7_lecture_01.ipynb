{
 "cells": [
  {
   "cell_type": "markdown",
   "metadata": {},
   "source": [
    "# CSCI E7 Introduction to Programming with Python\n",
    "## Lecture 01 Jupyter Notebook\n",
    "Fall 2021 (c) Jeff Parker"
   ]
  },
  {
   "cell_type": "markdown",
   "metadata": {},
   "source": [
    "## How to Run a Jupyter Notebook\n",
    "\n",
    "Method 01: Use the Anaconda Navigator to launch a notebook \n",
    "- Launch the Navigator, navigate to the directory with the notebook you wish to run and click on the notebook\n",
    "\n",
    "Method 02: Use the command line\n",
    "\n",
    "The command line is discussed in Appendix A: Command Line Crash Course of **Learn Python The Hard Way**\n",
    "\n",
    "https://learnpythonthehardway.org/book/appendixa.html\n",
    "\n",
    "At the command line, change directory (cd) to the directory with the notebook you want to run, and type\n",
    "```\n",
    "    python\n",
    "    jupyter notebook\n",
    "```"
   ]
  },
  {
   "cell_type": "markdown",
   "metadata": {},
   "source": [
    "## Check Python Version\n",
    "We will be using version 3.8 or later. "
   ]
  },
  {
   "cell_type": "code",
   "execution_count": 1,
   "metadata": {},
   "outputs": [
    {
     "name": "stdout",
     "output_type": "stream",
     "text": [
      "3.8.12 (default, Oct 12 2021, 03:01:40) [MSC v.1916 64 bit (AMD64)]\n"
     ]
    }
   ],
   "source": [
    "## Run this cell\n",
    "\n",
    "import sys            # Import the library sys (short for system)\n",
    "\n",
    "print(sys.version)    # Print the version"
   ]
  },
  {
   "cell_type": "markdown",
   "metadata": {},
   "source": [
    "You want to see 3.8 or later;  Here is what I saw today:\n",
    "```python\n",
    "3.8.8 (default, Apr 13 2021, 12:59:45) \n",
    "[Clang 10.0.0 ]\n",
    "```\n",
    "\n",
    "When I run this on a machine that hasn't been updated, I see something like this:\n",
    "\n",
    "```python\n",
    "  3.5.6 |Anaconda custom (64-bit)| (default, Aug 26 2018, 16:30:03) \n",
    "  [GCC 4.2.1 Compatible Clang 4.0.1 (tags/RELEASE_401/final)]\n",
    "```\n",
    "\n",
    "### You may have multiple versions of Python installed.  \n",
    "### Your PATH variable determines which one you see first, or if you see one at all.  \n",
    "## How to check your Path\n",
    "\n",
    "The PATH variable is discussed in Appendix 1 of **Python The Hardway**\n",
    "\n",
    "https://learnpythonthehardway.org/book/appendix-a-cli/ex2.html\n",
    "\n",
    "### *We use ! to send a line to the Operating System (OS)*"
   ]
  },
  {
   "cell_type": "code",
   "execution_count": 2,
   "metadata": {},
   "outputs": [
    {
     "name": "stdout",
     "output_type": "stream",
     "text": [
      "PATH=c:\\Users\\Asus\\Coding\\Tools\\Anaconda;C:\\Users\\Asus\\Coding\\Tools\\Anaconda;C:\\Users\\Asus\\Coding\\Tools\\Anaconda\\Library\\mingw-w64\\bin;C:\\Users\\Asus\\Coding\\Tools\\Anaconda\\Library\\usr\\bin;C:\\Users\\Asus\\Coding\\Tools\\Anaconda\\Library\\bin;C:\\Users\\Asus\\Coding\\Tools\\Anaconda\\Scripts;C:\\Users\\Asus\\Coding\\Tools\\Anaconda\\bin;C:\\Users\\Asus\\Coding\\Tools\\Anaconda\\condabin;C:\\Program Files (x86)\\Common Files\\Intel\\Shared Libraries\\redist\\intel64\\compiler;C:\\Program Files (x86)\\Intel\\Intel(R) Management Engine Components\\iCLS;C:\\Program Files\\Intel\\Intel(R) Management Engine Components\\iCLS;C:\\WINDOWS\\system32;C:\\WINDOWS;C:\\WINDOWS\\System32\\Wbem;C:\\WINDOWS\\System32\\WindowsPowerShell\\v1.0;C:\\WINDOWS\\System32\\OpenSSH;C:\\Program Files (x86)\\Intel\\Intel(R) Management Engine Components\\DAL;C:\\Program Files\\Intel\\Intel(R) Management Engine Components\\DAL;C:\\Program Files (x86)\\Intel\\Intel(R) Management Engine Components\\IPT;C:\\Program Files\\Intel\\Intel(R) Management Engine Components\\IPT;C:\\Program Files\\Intel\\WiFi\\bin;C:\\Program Files\\Common Files\\Intel\\WirelessCommon;C:\\Program Files\\Java\\jdk-12.0.2\\bin;C:\\Program Files\\Git\\cmd;C:\\Program Files\\GitHub CLI;C:\\Program Files\\PowerShell\\7;C:\\Users\\Asus\\AppData\\Roaming\\TinyTeX\\bin\\win32;C:\\Users\\Asus\\AppData\\Local\\Programs\\Python\\Python39\\Scripts;C:\\Users\\Asus\\AppData\\Local\\Programs\\Python\\Python39;C:\\Users\\Asus\\AppData\\Local\\Programs\\Python\\Python39;C:\\Users\\Asus\\Coding\\Tools\\Anaconda;C:\\Users\\Asus\\Coding\\Tools\\Anaconda\\Library\\mingw-w64\\bin;C:\\Users\\Asus\\Coding\\Tools\\Anaconda\\Library\\usr\\bin;C:\\Users\\Asus\\Coding\\Tools\\Anaconda\\Library\\bin;C:\\Users\\Asus\\Coding\\Tools\\Anaconda\\Scripts;C:\\Program Files (x86)\\Common Files\\Intel\\Shared Libraries\\redist\\intel64\\compiler;C:\\Program Files (x86)\\Intel\\Intel(R) Management Engine Components\\iCLS;C:\\Program Files\\Intel\\Intel(R) Management Engine Components\\iCLS;C:\\Windows\\system32;C:\\Windows;C:\\Windows\\System32\\Wbem;C:;C:\\Users\\Asus\\AppData\\Local\\Programs\\Microsoft VS Code\\bin;C:\\Users\\Asus\\AppData\\Local\\GitHubDesktop\\bin;C:\\Users\\Asus\\AppData\\Local\\Programs\\MiKTeX\\miktex\\bin\\x64;C:\\Users\\Asus\\AppData\\Local\\Microsoft\\WindowsApps\n"
     ]
    }
   ],
   "source": [
    "## Look at the path on a Windows System\n",
    "\n",
    "! PATH"
   ]
  },
  {
   "cell_type": "code",
   "execution_count": 3,
   "metadata": {},
   "outputs": [
    {
     "name": "stdout",
     "output_type": "stream",
     "text": [
      "$PATH\n"
     ]
    }
   ],
   "source": [
    "## Look at the path on a Unix System\n",
    "\n",
    "! echo $PATH"
   ]
  },
  {
   "cell_type": "markdown",
   "metadata": {},
   "source": [
    "## If you path does not include the directory where python is installed,\n",
    "\n",
    "reboot the system and check again.  If the path has not changed, you will need to augment your path.  Check your system's documentation."
   ]
  },
  {
   "cell_type": "markdown",
   "metadata": {},
   "source": [
    "### If you already have an Anaconda distribution, you can update it at the command line\n",
    "\n",
    "```python\n",
    "    conda update conda\n",
    "    conda update anaconda\n",
    "    conda update python\n",
    "\n",
    "```"
   ]
  },
  {
   "cell_type": "markdown",
   "metadata": {},
   "source": [
    "## *Stop and think: Do you have Python 3.8 or later?*\n",
    "\n",
    "Run the first cell on your machine to see\n",
    "\n",
    "If not, plan to upgrade your system.  I hope to be on 3.9 this Fall.  "
   ]
  },
  {
   "cell_type": "markdown",
   "metadata": {},
   "source": [
    "# First steps in Python\n",
    "\n",
    "## We can print a 'text string'"
   ]
  },
  {
   "cell_type": "code",
   "execution_count": 4,
   "metadata": {},
   "outputs": [
    {
     "name": "stdout",
     "output_type": "stream",
     "text": [
      "Hello, World!\n"
     ]
    }
   ],
   "source": [
    "print('Hello, World!')"
   ]
  },
  {
   "cell_type": "markdown",
   "metadata": {},
   "source": [
    "## We can create variables of various types"
   ]
  },
  {
   "cell_type": "code",
   "execution_count": 5,
   "metadata": {},
   "outputs": [
    {
     "name": "stdout",
     "output_type": "stream",
     "text": [
      "Hola!\n",
      "17\n",
      "3.141592653589793\n"
     ]
    }
   ],
   "source": [
    "greeting = \"Hola!\"\n",
    "n = 17\n",
    "pi = 3.141592653589793\n",
    "\n",
    "print(greeting)\n",
    "print(n)\n",
    "print(pi)"
   ]
  },
  {
   "cell_type": "markdown",
   "metadata": {},
   "source": [
    "## What happens when we reassign a variable?\n",
    "Try to predict what will happen in each cell\n",
    "\n",
    "You won't always be right, but having skin in the game helps you learn."
   ]
  },
  {
   "cell_type": "code",
   "execution_count": 6,
   "metadata": {},
   "outputs": [
    {
     "name": "stdout",
     "output_type": "stream",
     "text": [
      "completely different\n"
     ]
    }
   ],
   "source": [
    "message = 'And now for something'\n",
    "message = \"completely different\"\n",
    "\n",
    "print(message)"
   ]
  },
  {
   "cell_type": "markdown",
   "metadata": {},
   "source": [
    "## Initialize two variables"
   ]
  },
  {
   "cell_type": "code",
   "execution_count": 7,
   "metadata": {},
   "outputs": [
    {
     "name": "stdout",
     "output_type": "stream",
     "text": [
      "hot cold\n"
     ]
    }
   ],
   "source": [
    "a = 'hot'\n",
    "b = 'cold'\n",
    "\n",
    "print(a,b)"
   ]
  },
  {
   "cell_type": "markdown",
   "metadata": {},
   "source": [
    "## Now exchange their values\n",
    "\n",
    "Predict what will be printed"
   ]
  },
  {
   "cell_type": "code",
   "execution_count": 8,
   "metadata": {},
   "outputs": [
    {
     "name": "stdout",
     "output_type": "stream",
     "text": [
      "cold cold\n",
      "cold cold\n"
     ]
    }
   ],
   "source": [
    "a = b\n",
    "\n",
    "print(a, b)\n",
    "\n",
    "b = a\n",
    "\n",
    "print(a, b)"
   ]
  },
  {
   "cell_type": "markdown",
   "metadata": {},
   "source": [
    "### *Can you explain what happened?*\n",
    "## Proper way to swap two elements"
   ]
  },
  {
   "cell_type": "code",
   "execution_count": 9,
   "metadata": {},
   "outputs": [
    {
     "name": "stdout",
     "output_type": "stream",
     "text": [
      "hot cold\n",
      "cold hot\n"
     ]
    }
   ],
   "source": [
    "a = 'hot'\n",
    "b = 'cold'\n",
    "\n",
    "print(a, b)\n",
    "\n",
    "## Introduce a third variable\n",
    "c = b\n",
    "b = a\n",
    "a = c\n",
    "\n",
    "print(a, b)"
   ]
  },
  {
   "cell_type": "markdown",
   "metadata": {},
   "source": [
    "### *We will learn a more Pythonic way to exchange two values*"
   ]
  },
  {
   "cell_type": "markdown",
   "metadata": {},
   "source": [
    "## Variable Names in Python\n",
    "We discuss picking good variable names in Modules/Resources/Documenting Your Work\n",
    "\n",
    "- A variable name must start with a letter or the underscore character _.\n",
    "- A variable name cannot start with a number.\n",
    "- A variable name can only contain letters, digits and underscores (A-z, 0-9, and _ )\n",
    "\n",
    "## Why are the following variable names invalid?"
   ]
  },
  {
   "cell_type": "code",
   "execution_count": 10,
   "metadata": {},
   "outputs": [
    {
     "ename": "SyntaxError",
     "evalue": "invalid syntax (Temp/ipykernel_18196/3381618747.py, line 1)",
     "output_type": "error",
     "traceback": [
      "\u001b[1;36m  File \u001b[1;32m\"C:\\Users\\Asus\\AppData\\Local\\Temp/ipykernel_18196/3381618747.py\"\u001b[1;36m, line \u001b[1;32m1\u001b[0m\n\u001b[1;33m    76trombones = 'big parade'\u001b[0m\n\u001b[1;37m      ^\u001b[0m\n\u001b[1;31mSyntaxError\u001b[0m\u001b[1;31m:\u001b[0m invalid syntax\n"
     ]
    }
   ],
   "source": [
    "76trombones = 'big parade'"
   ]
  },
  {
   "cell_type": "markdown",
   "metadata": {},
   "source": [
    "### Learn to inspect error statements: what do they tell us?\n",
    "\n",
    "```python\n",
    "  File \"<ipython-input-12-ee59a172c534>\", line 1\n",
    "    76trombones = 'big parade'\n",
    "      ^\n",
    "SyntaxError: invalid syntax\n",
    "```\n",
    "\n",
    "### This is a Syntax Error\n",
    "\n",
    "Digits are legal, but they cannot be the first character of a variable name."
   ]
  },
  {
   "cell_type": "code",
   "execution_count": null,
   "metadata": {},
   "outputs": [],
   "source": [
    "trombones76 = 'big parade'\n",
    "\n",
    "print(trombones76)"
   ]
  },
  {
   "cell_type": "markdown",
   "metadata": {},
   "source": [
    "## What is wrong with these?"
   ]
  },
  {
   "cell_type": "code",
   "execution_count": null,
   "metadata": {},
   "outputs": [],
   "source": [
    "more@ = 1000000"
   ]
  },
  {
   "cell_type": "code",
   "execution_count": null,
   "metadata": {},
   "outputs": [],
   "source": [
    "class = 'Advanced Zymurgy'"
   ]
  },
  {
   "cell_type": "markdown",
   "metadata": {},
   "source": [
    "### \"Beware of any variable that appears in green.\"  - Joe Pallin"
   ]
  },
  {
   "cell_type": "code",
   "execution_count": null,
   "metadata": {},
   "outputs": [],
   "source": [
    "import keyword\n",
    "\n",
    "## Print the list of keywords\n",
    "print(keyword.kwlist)"
   ]
  },
  {
   "cell_type": "code",
   "execution_count": null,
   "metadata": {},
   "outputs": [],
   "source": [
    "## Print the tenth keyword\n",
    "\n",
    "print(keyword.kwlist[9])"
   ]
  },
  {
   "cell_type": "markdown",
   "metadata": {},
   "source": [
    "## Comments help reader follow your thinking, or confuse them.  \n",
    "## *The choice is yours*"
   ]
  },
  {
   "cell_type": "code",
   "execution_count": null,
   "metadata": {},
   "outputs": [],
   "source": [
    "a = 10   # The '#' sign starts a comment\n",
    "b =  3   # The number of faces of Eve in the 1957 feature film"
   ]
  },
  {
   "cell_type": "markdown",
   "metadata": {},
   "source": [
    "## Python can perform aritmetic"
   ]
  },
  {
   "cell_type": "code",
   "execution_count": null,
   "metadata": {},
   "outputs": [],
   "source": [
    "a = 10\n",
    "b = 3\n",
    "\n",
    "print('a +  b = ', a + b)   # Add\n",
    "print('a *  b = ', a * b)   # Multiply\n",
    "print('a /  b = ', a / b)   # Division\n",
    "print('a // b = ', a // b)  # Integer division\n",
    "print('a %  b = ', a % b)   # Remainder\n",
    "print('a ** b = ', a ** b)  # Exponentiation"
   ]
  },
  {
   "cell_type": "markdown",
   "metadata": {},
   "source": [
    "## We can create (very) big numbers"
   ]
  },
  {
   "cell_type": "code",
   "execution_count": null,
   "metadata": {},
   "outputs": [],
   "source": [
    "a = 123\n",
    "b = 456\n",
    "\n",
    "print(a ** b) "
   ]
  },
  {
   "cell_type": "markdown",
   "metadata": {},
   "source": [
    "### *Most computer languages would not support this*"
   ]
  },
  {
   "cell_type": "markdown",
   "metadata": {},
   "source": [
    "## Stop and Think\n",
    "\n",
    "Which are valid variable names?\n",
    "```python\n",
    "+four+\n",
    "-score-\n",
    "_seven_\n",
    "```\n",
    "\n",
    "Are the variables names 'roger' and 'Roger' the same or different?\n",
    "\n",
    "Prove you are right with short program fragments in the cell below"
   ]
  },
  {
   "cell_type": "code",
   "execution_count": null,
   "metadata": {},
   "outputs": [],
   "source": [
    "print('roger'=='Roger')"
   ]
  },
  {
   "cell_type": "markdown",
   "metadata": {},
   "source": [
    "## *To create new cells to play with, use '+' box in notebook header*"
   ]
  },
  {
   "cell_type": "markdown",
   "metadata": {},
   "source": [
    "# Python strings\n",
    "A string can hold a sequence of characters.\n",
    "\n",
    "In Python 3, strings can hold Unicode."
   ]
  },
  {
   "cell_type": "code",
   "execution_count": null,
   "metadata": {},
   "outputs": [],
   "source": [
    "a = 'one'\n",
    "print(a)\n",
    "\n",
    "b = 'two'\n",
    "print(b)\n",
    "\n",
    "c = \"\\U0001f638\"\n",
    "print(c)"
   ]
  },
  {
   "cell_type": "markdown",
   "metadata": {},
   "source": [
    "## We can add strings and we can multiply a string by an integer\n",
    "\n",
    "Predict what each cell will produce"
   ]
  },
  {
   "cell_type": "code",
   "execution_count": null,
   "metadata": {},
   "outputs": [],
   "source": [
    "print(a + b)"
   ]
  },
  {
   "cell_type": "code",
   "execution_count": null,
   "metadata": {},
   "outputs": [],
   "source": [
    "print(a*2)"
   ]
  },
  {
   "cell_type": "code",
   "execution_count": null,
   "metadata": {},
   "outputs": [],
   "source": [
    "print(c*12)"
   ]
  },
  {
   "cell_type": "markdown",
   "metadata": {},
   "source": [
    "## Two ways to define strings: single or double quotes"
   ]
  },
  {
   "cell_type": "code",
   "execution_count": null,
   "metadata": {},
   "outputs": [],
   "source": [
    "a = 'one'\n",
    "b = \"two\"\n",
    "s = a + b\n",
    "\n",
    "print(s)"
   ]
  },
  {
   "cell_type": "markdown",
   "metadata": {},
   "source": [
    "## Having two ways allows us to embed quotes"
   ]
  },
  {
   "cell_type": "code",
   "execution_count": null,
   "metadata": {},
   "outputs": [],
   "source": [
    "quote = 'He said \"Bravo!\"'\n",
    "\n",
    "print(quote)"
   ]
  },
  {
   "cell_type": "code",
   "execution_count": null,
   "metadata": {},
   "outputs": [],
   "source": [
    "quote = \"I don't know.\"\n",
    "\n",
    "print(quote)"
   ]
  },
  {
   "cell_type": "markdown",
   "metadata": {},
   "source": [
    "## What does this do?"
   ]
  },
  {
   "cell_type": "code",
   "execution_count": null,
   "metadata": {},
   "outputs": [],
   "source": [
    "print('Hello, World!\")"
   ]
  },
  {
   "cell_type": "markdown",
   "metadata": {},
   "source": [
    "## *What kind of error?*"
   ]
  },
  {
   "cell_type": "markdown",
   "metadata": {},
   "source": [
    "## Fix it..."
   ]
  },
  {
   "cell_type": "code",
   "execution_count": null,
   "metadata": {},
   "outputs": [],
   "source": [
    "print(\"Hello, World!\")"
   ]
  },
  {
   "cell_type": "markdown",
   "metadata": {},
   "source": [
    "## String Indexing\n",
    "\n",
    "Allows us to access a single character"
   ]
  },
  {
   "cell_type": "code",
   "execution_count": null,
   "metadata": {},
   "outputs": [],
   "source": [
    "s = 'onetwo'\n",
    "\n",
    "print(s)\n",
    "print(s[1] + s[0])"
   ]
  },
  {
   "cell_type": "markdown",
   "metadata": {},
   "source": [
    "## Assignment"
   ]
  },
  {
   "cell_type": "code",
   "execution_count": null,
   "metadata": {},
   "outputs": [],
   "source": [
    "s[0] = 't'\n",
    "print(s)"
   ]
  },
  {
   "cell_type": "markdown",
   "metadata": {},
   "source": [
    "## *This is not a syntax error: the syntax works on a list*\n",
    "\n",
    "```python\n",
    "    s[0] = 't'\n",
    "```\n",
    "\n",
    "Python cannot tell if this is an error until it runs it and sees what variable s holds"
   ]
  },
  {
   "cell_type": "code",
   "execution_count": null,
   "metadata": {},
   "outputs": [],
   "source": [
    "# Create a Python list and store reference in s\n",
    "s = ['a', 'b', 'c']"
   ]
  },
  {
   "cell_type": "code",
   "execution_count": null,
   "metadata": {},
   "outputs": [],
   "source": [
    "s[0] = 't'    # We can assign a value into a List object\n",
    "\n",
    "print(s)"
   ]
  },
  {
   "cell_type": "code",
   "execution_count": null,
   "metadata": {},
   "outputs": [],
   "source": [
    "s = 'abc'"
   ]
  },
  {
   "cell_type": "code",
   "execution_count": null,
   "metadata": {},
   "outputs": [],
   "source": [
    "s[0] = 't'    # Syntax is the same\n",
    "\n",
    "print(s)"
   ]
  },
  {
   "cell_type": "markdown",
   "metadata": {},
   "source": [
    "## This is a run-time error\n",
    "## *Strings are immutable* - that is, you can't change them\n",
    "### *Python cannot tell it is an error until we run it*"
   ]
  },
  {
   "cell_type": "markdown",
   "metadata": {},
   "source": [
    "## Strings have a Length"
   ]
  },
  {
   "cell_type": "code",
   "execution_count": null,
   "metadata": {},
   "outputs": [],
   "source": [
    "s = 'pepper'\n",
    "\n",
    "print(s, len(s))"
   ]
  },
  {
   "cell_type": "markdown",
   "metadata": {},
   "source": [
    "## What does this print?"
   ]
  },
  {
   "cell_type": "code",
   "execution_count": null,
   "metadata": {},
   "outputs": [],
   "source": [
    "print(s[6])"
   ]
  },
  {
   "cell_type": "markdown",
   "metadata": {},
   "source": [
    "## Another Run Time error\n",
    "We don't know until run time how long string is\n",
    "## How to access the last item"
   ]
  },
  {
   "cell_type": "code",
   "execution_count": null,
   "metadata": {},
   "outputs": [],
   "source": [
    "print(s, len(s))\n",
    "print(s[5])"
   ]
  },
  {
   "cell_type": "code",
   "execution_count": null,
   "metadata": {},
   "outputs": [],
   "source": [
    "print(s[6 - 1])"
   ]
  },
  {
   "cell_type": "markdown",
   "metadata": {},
   "source": [
    "## Python provides syntax to access the last item\n",
    "You don't need to know the length of the string to use this form"
   ]
  },
  {
   "cell_type": "code",
   "execution_count": null,
   "metadata": {},
   "outputs": [],
   "source": [
    "print(s[-1])"
   ]
  },
  {
   "cell_type": "markdown",
   "metadata": {},
   "source": [
    "## We can use other negative indices"
   ]
  },
  {
   "cell_type": "code",
   "execution_count": null,
   "metadata": {},
   "outputs": [],
   "source": [
    "print(s[-3])"
   ]
  },
  {
   "cell_type": "markdown",
   "metadata": {},
   "source": [
    "# Different types of Whitespace\n",
    "### https://www.petefreitag.com/cheatsheets/ascii-codes/"
   ]
  },
  {
   "cell_type": "code",
   "execution_count": null,
   "metadata": {},
   "outputs": [],
   "source": [
    "print(\"->\", ' ', \"<-\")     # Space"
   ]
  },
  {
   "cell_type": "code",
   "execution_count": null,
   "metadata": {},
   "outputs": [],
   "source": [
    "print(\"->\", '\\t', \"<-\")    # Tab "
   ]
  },
  {
   "cell_type": "code",
   "execution_count": null,
   "metadata": {},
   "outputs": [],
   "source": [
    "print(\"->\", '\\n', \"<-\")    # Newline"
   ]
  },
  {
   "cell_type": "code",
   "execution_count": null,
   "metadata": {},
   "outputs": [],
   "source": [
    "print(\"->\", '\\r', \"<-\")    # Carriage Return"
   ]
  },
  {
   "cell_type": "markdown",
   "metadata": {},
   "source": [
    "https://www.youtube.com/watch?v=ed5NZI0T5ZQ"
   ]
  },
  {
   "cell_type": "markdown",
   "metadata": {},
   "source": [
    "## Each type of whitespace in practice"
   ]
  },
  {
   "cell_type": "code",
   "execution_count": null,
   "metadata": {},
   "outputs": [],
   "source": [
    "print(\"Hello, Sam\")    # Space"
   ]
  },
  {
   "cell_type": "code",
   "execution_count": null,
   "metadata": {},
   "outputs": [],
   "source": [
    "print(\"Hello,\\tSam\")    # Tab"
   ]
  },
  {
   "cell_type": "code",
   "execution_count": null,
   "metadata": {},
   "outputs": [],
   "source": [
    "print(\"Hello,\\nSam\")    # Newline"
   ]
  },
  {
   "cell_type": "code",
   "execution_count": null,
   "metadata": {},
   "outputs": [],
   "source": [
    "print(\"Hello,\\rSam\")    # Carriage Return"
   ]
  },
  {
   "cell_type": "markdown",
   "metadata": {},
   "source": [
    "# String Methods"
   ]
  },
  {
   "cell_type": "markdown",
   "metadata": {},
   "source": [
    "### We have used the function len()\n",
    "### Let's look at *methods* that detect upper and lower case\n",
    "### Syntax is \n",
    "```python\n",
    "     object.method_name ( parameters )\n",
    "```\n",
    "## Naming Convention for methods that return a Boolean: \n",
    "\n",
    "#### isAttribute()\n",
    "\n",
    "```python\n",
    "    isalpha(), islower(), isupper()\n",
    "```"
   ]
  },
  {
   "cell_type": "code",
   "execution_count": null,
   "metadata": {},
   "outputs": [],
   "source": [
    "s = 'onetwo'\n",
    "\n",
    "print(s.islower())"
   ]
  },
  {
   "cell_type": "code",
   "execution_count": null,
   "metadata": {},
   "outputs": [],
   "source": [
    "s = 'OneTwo'\n",
    "\n",
    "print(s.islower())"
   ]
  },
  {
   "cell_type": "code",
   "execution_count": null,
   "metadata": {},
   "outputs": [],
   "source": [
    "s = 'OneTwo'\n",
    "\n",
    "print(s.isUpper())"
   ]
  },
  {
   "cell_type": "code",
   "execution_count": null,
   "metadata": {},
   "outputs": [],
   "source": [
    "s = 'OneTwo'\n",
    "\n",
    "print(s.isupper())"
   ]
  },
  {
   "cell_type": "code",
   "execution_count": null,
   "metadata": {},
   "outputs": [],
   "source": [
    "s = \"SAD!\"\n",
    "\n",
    "print(s.isupper())"
   ]
  },
  {
   "cell_type": "code",
   "execution_count": null,
   "metadata": {},
   "outputs": [],
   "source": [
    "s = 'groovy'\n",
    "\n",
    "print(s.iscopacetic(s))"
   ]
  },
  {
   "cell_type": "markdown",
   "metadata": {},
   "source": [
    "## Convert to Lower Case\n",
    "\n",
    "### Convention for methods returning variant of an object: 'verb'"
   ]
  },
  {
   "cell_type": "code",
   "execution_count": null,
   "metadata": {},
   "outputs": [],
   "source": [
    "s = \"SAD!\"\n",
    "\n",
    "s = s.lower()\n",
    "\n",
    "print(s)"
   ]
  },
  {
   "cell_type": "markdown",
   "metadata": {},
   "source": [
    "## lower() vs islower()\n",
    "\n",
    "### islower() is a question - is you lower?\n",
    "\n",
    "### lower() is an imperative verb - \"Convert to lower case!\""
   ]
  },
  {
   "cell_type": "markdown",
   "metadata": {},
   "source": [
    "# Searching for a substring with method find()\n",
    "\n",
    "Let's look for the letter 'e'"
   ]
  },
  {
   "cell_type": "code",
   "execution_count": null,
   "metadata": {},
   "outputs": [],
   "source": [
    "s = 'onetwo'\n",
    "\n",
    "print(s.find('e'))"
   ]
  },
  {
   "cell_type": "markdown",
   "metadata": {},
   "source": [
    "## Highlight position of letter "
   ]
  },
  {
   "cell_type": "code",
   "execution_count": null,
   "metadata": {},
   "outputs": [],
   "source": [
    "## Find 't'\n",
    "\n",
    "s = 'onetwo'\n",
    "\n",
    "print(s)\n",
    "print(' '*s.find('t') + '^')"
   ]
  },
  {
   "cell_type": "markdown",
   "metadata": {},
   "source": [
    "```python\n",
    "print(' '*s.find('t') + '^')\n",
    "```\n",
    "\n",
    "### Break this down\n",
    "\n",
    "Find the position of t\n",
    "```python\n",
    "s.find('t')\n",
    "```\n",
    "\n",
    "Produce that many spaces\n",
    "```python\n",
    "' '*s.find('t')\n",
    "```\n",
    "\n",
    "Add a '^' as a marker in the final spot\n",
    "```python\n",
    "' '*s.find('t') + '^'\n",
    "```\n",
    "\n",
    "Print the whole mishpocha\n",
    "```python\n",
    "print(' '*s.find('t') + '^')\n",
    "```"
   ]
  },
  {
   "cell_type": "code",
   "execution_count": null,
   "metadata": {},
   "outputs": [],
   "source": [
    "## Find 'x'\n",
    "\n",
    "s = \"Quick Red Fox\"\n",
    "\n",
    "print(s)\n",
    "print(' '*s.find('x') + '^')"
   ]
  },
  {
   "cell_type": "code",
   "execution_count": null,
   "metadata": {},
   "outputs": [],
   "source": [
    "## Find 'z'\n",
    "\n",
    "print(s)\n",
    "print(' '*s.find('z') + '^')\n"
   ]
  },
  {
   "cell_type": "markdown",
   "metadata": {},
   "source": [
    "## OK.  That's didn't work."
   ]
  },
  {
   "cell_type": "code",
   "execution_count": null,
   "metadata": {},
   "outputs": [],
   "source": [
    "s.find('z')"
   ]
  },
  {
   "cell_type": "markdown",
   "metadata": {},
   "source": [
    "## *find() returns -1 when it doesn't find the substring*\n",
    "## Let's look at the Documentation\n",
    "\n",
    "To become self sufficient in any computer language, you will need to learn to read the documentation.  \n",
    "\n",
    "This isn't easy at first\n",
    "\n",
    "Search for find() here:\n",
    "https://docs.python.org/3/library/stdtypes.html\n",
    "\n",
    "```python\n",
    "str.find(sub[, start[, end]])\n",
    "    Return the lowest index in the string where substring sub is found within the slice s[start:end]. Optional arguments start and end are interpreted as in slice notation. \n",
    "\n",
    "    Return -1 if sub is not found.\n",
    "```\n",
    "\n",
    "Let's break this down,  Start with the first line, which tells you how to call find()\n",
    "```python\n",
    "str.find(sub[, start[, end]])\n",
    "```\n",
    "\n",
    "Method find() takes one required parameter, sub, and two optional parameters, start and end.  \n",
    "\n",
    "Legal calls are:\n",
    "```python\n",
    "str.find('x')         # Find x in the string\n",
    "\n",
    "str.find('x', 10)     # Find x in the string starting at 10\n",
    "\n",
    "str.find('x', 10, 20) # Find x in the string from 10 to 19\n",
    "```\n",
    "\n",
    "And notice the final line:\n",
    "    \n",
    "```python\n",
    "Return -1 if sub is not found.\n",
    "```"
   ]
  },
  {
   "cell_type": "code",
   "execution_count": null,
   "metadata": {},
   "outputs": [],
   "source": [
    "## We can also check documentation right in notebook\n",
    "\n",
    "s.find?"
   ]
  },
  {
   "cell_type": "code",
   "execution_count": null,
   "metadata": {},
   "outputs": [],
   "source": [
    "## Or we can call help()\n",
    "\n",
    "help(s.find)"
   ]
  },
  {
   "cell_type": "code",
   "execution_count": null,
   "metadata": {},
   "outputs": [],
   "source": [
    "## Note that we can't lookup a string method without a string instance\n",
    "\n",
    "help(find)"
   ]
  },
  {
   "cell_type": "markdown",
   "metadata": {},
   "source": [
    "## *We will soon see where this information is stored*"
   ]
  },
  {
   "cell_type": "markdown",
   "metadata": {},
   "source": [
    "## String Slice\n",
    "\n",
    "Often we want a substing.  Python defines \"Slice notation\" for this"
   ]
  },
  {
   "cell_type": "code",
   "execution_count": null,
   "metadata": {},
   "outputs": [],
   "source": [
    "s = 'onetwo'\n",
    "\n",
    "print(s)\n",
    "print(s[0:2])"
   ]
  },
  {
   "cell_type": "code",
   "execution_count": null,
   "metadata": {},
   "outputs": [],
   "source": [
    "print(s[4:6])"
   ]
  },
  {
   "cell_type": "markdown",
   "metadata": {},
   "source": [
    "![Slice Diagram](img/Slice.jpg)\n",
    "\n",
    "I am displaying Slice.jpg, a file in the subdirectory img.\n",
    "\n",
    "To view this image on your system, you will need to download the jpg and place it in a subdirectory called img.  \n",
    "\n",
    "Alas, this is how we share figures in notebooks."
   ]
  },
  {
   "cell_type": "code",
   "execution_count": null,
   "metadata": {},
   "outputs": [],
   "source": [
    "print(s[:2])   # Up to, but not including, s[2]"
   ]
  },
  {
   "cell_type": "code",
   "execution_count": null,
   "metadata": {},
   "outputs": [],
   "source": [
    "print(s[4:])   # s[4] and beyond"
   ]
  },
  {
   "cell_type": "code",
   "execution_count": null,
   "metadata": {},
   "outputs": [],
   "source": [
    "print(s[:])    # Everything"
   ]
  },
  {
   "cell_type": "code",
   "execution_count": null,
   "metadata": {},
   "outputs": [],
   "source": [
    "print(s[::2])   # Skip by 2"
   ]
  },
  {
   "cell_type": "markdown",
   "metadata": {},
   "source": [
    "## Slice Conventions\n",
    "\n",
    "While the conventions used to define a slice may seem odd, they are quite logical.\n",
    "\n",
    "Here is Edsger Dijkstra discussing the convention, years before Python \n",
    "\n",
    "https://www.cs.utexas.edu/users/EWD/ewd08xx/EWD831.PDF"
   ]
  },
  {
   "cell_type": "markdown",
   "metadata": {},
   "source": [
    "## Slice is Forgiving"
   ]
  },
  {
   "cell_type": "code",
   "execution_count": null,
   "metadata": {},
   "outputs": [],
   "source": [
    "s = 'Short String'\n",
    "\n",
    "len(s)"
   ]
  },
  {
   "cell_type": "code",
   "execution_count": null,
   "metadata": {},
   "outputs": [],
   "source": [
    "s[12]"
   ]
  },
  {
   "cell_type": "code",
   "execution_count": null,
   "metadata": {},
   "outputs": [],
   "source": [
    "s[10:20]"
   ]
  },
  {
   "cell_type": "code",
   "execution_count": null,
   "metadata": {},
   "outputs": [],
   "source": [
    "s[100:200]"
   ]
  },
  {
   "cell_type": "markdown",
   "metadata": {},
   "source": [
    "## *Slice is Forgiving*"
   ]
  },
  {
   "cell_type": "markdown",
   "metadata": {},
   "source": [
    "## Stop and Think\n",
    "\n",
    "1) What do these slices produce?\n",
    "```python\n",
    "s = 'onetwo'   \n",
    "print(s[::3])    # ???\n",
    "print(s[3::2])   # ???\n",
    "```\n",
    "2) Investigate the Documentation: What does rfind() do in general?\n",
    "\n",
    "```python   \n",
    "print(s.rfind('pattern'))\n",
    "```\n",
    "See https://docs.python.org/3/library/stdtypes.html or use help() or '?'\n",
    "\n",
    "3) Use the first optional parameter to string method find() and write an expression that \n",
    "finds the first copy of a symbol in the back half of a string\n",
    "```python\n",
    "text = 'xx marks the x spot x'   \n",
    "substring = 'x'\n",
    "```\n",
    "Your expression should yield 13, not 0, 1, or 20"
   ]
  },
  {
   "cell_type": "markdown",
   "metadata": {},
   "source": [
    "# Three types of errors"
   ]
  },
  {
   "cell_type": "code",
   "execution_count": null,
   "metadata": {},
   "outputs": [],
   "source": [
    "## Syntax error - will not run\n",
    "\n",
    "s = 'onetwo\""
   ]
  },
  {
   "cell_type": "code",
   "execution_count": null,
   "metadata": {},
   "outputs": [],
   "source": [
    "## Runtime error - runs, but produces an error\n",
    "s = 'onetwo'\n",
    "\n",
    "s[1] = 't'"
   ]
  },
  {
   "cell_type": "code",
   "execution_count": null,
   "metadata": {},
   "outputs": [],
   "source": [
    "## Semantic Error - runs to completion, but produces the wrong output\n",
    "\n",
    "a = 'one '\n",
    "c = 'two '\n",
    "b = 'three '\n",
    "\n",
    "s = a + b + c\n",
    "print(s)"
   ]
  },
  {
   "cell_type": "markdown",
   "metadata": {},
   "source": [
    "## Stop and think\n",
    "\n",
    "What type of error is this?\n",
    "```python\n",
    "print(1/0)\n",
    "```\n",
    "What type of error is this?\n",
    "```python\n",
    "s = 'cheese'\n",
    "print(s[100])\n",
    "```"
   ]
  },
  {
   "cell_type": "markdown",
   "metadata": {},
   "source": [
    "# Python Libraries - https://pymotw.com/3/\n",
    "## The Batteries included.  For handing dates:"
   ]
  },
  {
   "cell_type": "code",
   "execution_count": null,
   "metadata": {},
   "outputs": [],
   "source": [
    "print(datetime.date.today())       # What day is it today?"
   ]
  },
  {
   "cell_type": "markdown",
   "metadata": {},
   "source": [
    "## *What kind of error is this?*\n",
    "\n",
    "```python\n",
    "------------------------------------------------------------\n",
    "NameError                                 Traceback (most recent call last)\n",
    "<ipython-input-1-389e1c27fe18> in <module>\n",
    "----> 1 print(datetime.date.today())       # What day is it today?\n",
    "\n",
    "NameError: name 'datetime' is not defined\n",
    "```\n",
    "\n",
    "## datetime is not part of core Python\n",
    "\n",
    "## We need to import the library\n",
    "\n",
    "Let's explain the steps."
   ]
  },
  {
   "cell_type": "code",
   "execution_count": null,
   "metadata": {},
   "outputs": [],
   "source": [
    "# Import the datetime library\n",
    "import datetime\n",
    "\n",
    "print(datetime.date.today())       # What day is it today?"
   ]
  },
  {
   "cell_type": "code",
   "execution_count": null,
   "metadata": {},
   "outputs": [],
   "source": [
    "print(datetime.date(2021, 9, 4))"
   ]
  },
  {
   "cell_type": "markdown",
   "metadata": {},
   "source": [
    "My datetime library is found in the Python file datetime.py\n",
    "### /Users/jparker/opt/anaconda3/lib/python3.8/datetime.py\n",
    "\n",
    "Yours will be in a simlar spot relative to your anaconda3 directory.  \n",
    "\n",
    "You can take a look at the file now: you will be make some sense of it soon"
   ]
  },
  {
   "cell_type": "code",
   "execution_count": null,
   "metadata": {},
   "outputs": [],
   "source": [
    "! head -n 10 /Users/jparker/opt/anaconda3/lib/python3.8/datetime.py"
   ]
  },
  {
   "cell_type": "markdown",
   "metadata": {},
   "source": [
    "## We can access the attributes of a date"
   ]
  },
  {
   "cell_type": "code",
   "execution_count": null,
   "metadata": {},
   "outputs": [],
   "source": [
    "import datetime\n",
    "\n",
    "print(datetime.date.today().year)"
   ]
  },
  {
   "cell_type": "code",
   "execution_count": null,
   "metadata": {},
   "outputs": [],
   "source": [
    "print(datetime.date.today().month)"
   ]
  },
  {
   "cell_type": "code",
   "execution_count": null,
   "metadata": {},
   "outputs": [],
   "source": [
    "print(datetime.date.today().day)"
   ]
  },
  {
   "cell_type": "markdown",
   "metadata": {},
   "source": [
    "## Stop and Think\n",
    "\n",
    "datetime.py defines a constant MAXYEAR.  What is the value assigned to MAXYEAR?"
   ]
  },
  {
   "cell_type": "markdown",
   "metadata": {},
   "source": [
    "# For next week\n",
    "\n",
    "Download the PyCharm IDE and play with it.\n",
    "\n",
    "www.jetbrains.com/pycharm/download/\n",
    "\n",
    "I will show you how to create a program in PyCharm next week.\n",
    "\n",
    "In two weeks we will look at the PyCharm Debugger.  "
   ]
  },
  {
   "cell_type": "markdown",
   "metadata": {},
   "source": [
    "# Wow, That's Fantastic!\n",
    "### *A regular feature: a look beyond what we know now.*\n",
    "\n",
    "I won't try to explain everything in the WTF section"
   ]
  },
  {
   "cell_type": "code",
   "execution_count": null,
   "metadata": {},
   "outputs": [],
   "source": [
    "import this"
   ]
  },
  {
   "cell_type": "markdown",
   "metadata": {},
   "source": [
    "## Stop and Think\n",
    "\n",
    "Find the library this.py and take a peek.  It is short: under 30 lines, but it isn't clear what it does.  In fact, it is deliberately confusing: we say that the code is obfuscated.  \n",
    "\n",
    "```python\n",
    "Ornhgvshy vf orggre guna htyl.\n",
    "```\n",
    "\n",
    "We'll be able to decode this in a month.  "
   ]
  },
  {
   "cell_type": "markdown",
   "metadata": {},
   "source": [
    "# Questions?  \n",
    "## Ask on Piazza"
   ]
  },
  {
   "cell_type": "markdown",
   "metadata": {},
   "source": [
    "How is the pace?  To fast?  Too slow?"
   ]
  },
  {
   "cell_type": "code",
   "execution_count": null,
   "metadata": {},
   "outputs": [],
   "source": []
  },
  {
   "cell_type": "code",
   "execution_count": null,
   "metadata": {},
   "outputs": [],
   "source": []
  }
 ],
 "metadata": {
  "kernelspec": {
   "display_name": "Python 3.8.12 ('base')",
   "language": "python",
   "name": "python3"
  },
  "language_info": {
   "codemirror_mode": {
    "name": "ipython",
    "version": 3
   },
   "file_extension": ".py",
   "mimetype": "text/x-python",
   "name": "python",
   "nbconvert_exporter": "python",
   "pygments_lexer": "ipython3",
   "version": "3.8.12"
  },
  "vscode": {
   "interpreter": {
    "hash": "2011e8f1b66e4ca782a16183c079a9a8ceaa771eb94b3143f514bb5560527e59"
   }
  }
 },
 "nbformat": 4,
 "nbformat_minor": 2
}
