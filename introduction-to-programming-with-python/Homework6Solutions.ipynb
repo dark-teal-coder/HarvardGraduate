{
 "cells": [
  {
   "cell_type": "markdown",
   "metadata": {},
   "source": [
    "# Homework 6 Solutions: Fall 2021"
   ]
  },
  {
   "cell_type": "markdown",
   "metadata": {},
   "source": [
    "# Problem 1:  Game Scores\n",
    "\n",
    "You are writing a library for a video game.  Each user has a list of all their scores.  \n",
    "\n",
    "You must take a list of scores, and return the most recent score, the best score, and the top three scores.\n",
    "\n",
    "Hint: To find the top three, investigate the Python list method sort() and function sorted()"
   ]
  },
  {
   "cell_type": "markdown",
   "metadata": {},
   "source": [
    "<div class=\"alert alert-block alert-info\">\n",
    "Fill in your function below.\n",
    "</div>"
   ]
  },
  {
   "cell_type": "code",
   "execution_count": null,
   "metadata": {},
   "outputs": [],
   "source": [
    "from typing import List\n",
    "\n",
    "def recent(scores: List[int]) -> int:\n",
    "    \"\"\"The most recent score\"\"\"\n",
    "    return scores[-1]\n",
    "\n",
    "\n",
    "def best(scores: List[int]) -> int:\n",
    "    \"\"\"The best score\"\"\"\n",
    "    return max(scores)\n",
    "\n",
    "\n",
    "def top_triple(scores: List[int]) -> List[int]:\n",
    "    \"\"\"The three best scores\"\"\"\n",
    "    return sorted(scores, reverse=True)[:3]  # Slice is Forgiving"
   ]
  },
  {
   "cell_type": "markdown",
   "metadata": {},
   "source": [
    "### Sort the list without changing the list\n",
    "\n",
    "sort() alters the list.\n",
    "\n",
    "sorted() copies the list, and sorts the copy\n",
    "\n",
    "**We sort the list 'scores' in reverse order**\n",
    "\n",
    "Both sort() and sorted() take an optional Boolean parameter 'reverse'\n",
    "\n",
    "*Because it is optional, you need to specify it*\n",
    "\n",
    "```python\n",
    "    return sorted(scores, reverse = True)\n",
    "```"
   ]
  },
  {
   "cell_type": "markdown",
   "metadata": {},
   "source": [
    "### Test cases for Game Scores"
   ]
  },
  {
   "cell_type": "code",
   "execution_count": null,
   "metadata": {},
   "outputs": [],
   "source": [
    "def test_game_scores():\n",
    "    assert recent([100, 0, 90, 30]) == 30\n",
    "    assert best([40, 100, 70]) == 100\n",
    "    \n",
    "    \n",
    "    scores = [10, 30, 90, 30, 100, 20, 10, 0, 30, 40, 40, 70, 33]  \n",
    "    assert recent(scores) == 33\n",
    "    assert top_triple(scores) == [100, 90, 70]\n",
    "    assert best(scores) == 100\n",
    "    assert recent(scores) == 33, \"Did you reorder the list?\"\n",
    "    \n",
    "    assert top_triple([20, 10, 30]) == [30, 20, 10]\n",
    "    assert top_triple([40, 20, 40, 30]) == [40, 40, 30] \n",
    "    assert top_triple([30, 70]) == [70, 30] \n",
    "    assert top_triple([30]) == [30] \n",
    "    assert top_triple([]) == [] \n",
    "    \n",
    "    return('Success!')\n",
    "\n",
    "test_game_scores()"
   ]
  },
  {
   "cell_type": "markdown",
   "metadata": {},
   "source": [
    "# Problem 2: Mystical Listicle\n",
    "\n",
    "You are given a list.  Some of the items in the list are themselves lists.  Sublists will not contain lists.  \n",
    "\n",
    "Return a list of the items in order.\n",
    "\n",
    "You can use the method isinstance() to tell if an item is a list."
   ]
  },
  {
   "cell_type": "code",
   "execution_count": null,
   "metadata": {},
   "outputs": [],
   "source": [
    "## Demo of isinstance()\n",
    "\n",
    "lst = [1, [2], [3, 4]]\n",
    "\n",
    "for item in lst:\n",
    "    if isinstance(item, list):\n",
    "        print(item)"
   ]
  },
  {
   "cell_type": "markdown",
   "metadata": {},
   "source": [
    "<div class=\"alert alert-block alert-info\">\n",
    "Fill in your function below.\n",
    "</div>"
   ]
  },
  {
   "cell_type": "code",
   "execution_count": null,
   "metadata": {},
   "outputs": [],
   "source": [
    "from typing import List\n",
    "\n",
    "def listicle(lst: List) -> List:\n",
    "    \"\"\"Flatten a list\"\"\"\n",
    "    result = []\n",
    "    for item in lst:\n",
    "        if isinstance(item, list):\n",
    "            result = result + item\n",
    "        else:\n",
    "            result.append(item)\n",
    "            \n",
    "    return result"
   ]
  },
  {
   "cell_type": "markdown",
   "metadata": {},
   "source": [
    "### Unit Tests"
   ]
  },
  {
   "cell_type": "code",
   "execution_count": null,
   "metadata": {},
   "outputs": [],
   "source": [
    "def test_listicle():\n",
    "    assert listicle([]) == []\n",
    "    assert listicle([1]) == [1]\n",
    "    assert listicle([0, 1, 2]) == [0, 1, 2]\n",
    "    assert listicle([1, [2]]) == [1, 2]\n",
    "    assert listicle([[1], 2]) == [1, 2]\n",
    "    assert listicle([1, [2, 3, 4, 5, 6, 7], 8]) == [1, 2, 3, 4, 5, 6, 7, 8]\n",
    "    assert listicle([[]]) == []  \n",
    "    assert listicle([1, []]) == [1] \n",
    "    assert listicle([1, [], 2]) == [1, 2] \n",
    "    \n",
    "    print('Success!')\n",
    "    \n",
    "test_listicle()\n",
    "    "
   ]
  },
  {
   "cell_type": "markdown",
   "metadata": {},
   "source": [
    "# Problem 3: Parentheses\n",
    "### Decide if a string contains valid nested parentheses\n",
    "\n",
    "You are given a string consisting only of parentheses - (, ), {, }, [, and ]. Write a Boolean function is_valid_parens() that takes a string and decides if it consists of valid nested parenthesis.\n",
    "\n",
    "Hint: Your function should take open parentheses, such as '(',  and 'push it on a stack' and should take closing parentheses, and pop the stack and compare.  If the close parenthesis doesn't match the open parenthesis on top of the stack, the string is invalid.  If the stack is empty too soon, or is not empty when you finish the string, the string is invalid.  \n",
    "\n",
    "You can read about stacks here: \n",
    "\n",
    "https://en.wikipedia.org/wiki/Stack_(abstract_data_type)\n",
    "\n",
    "Implement your stack with a list, pushing and poping the final element.  "
   ]
  },
  {
   "cell_type": "markdown",
   "metadata": {},
   "source": [
    "<div class=\"alert alert-block alert-info\">\n",
    "Fill in your function below.\n",
    "</div>"
   ]
  },
  {
   "cell_type": "code",
   "execution_count": null,
   "metadata": {},
   "outputs": [],
   "source": [
    "# Takes a string, and returns a Boolean \n",
    "#  '{()[{}]}' is valid:    return True\n",
    "#  '{()[{}}' is not:       return False\n",
    "def is_valid_parens(s):\n",
    "    \"\"\"Is this a well-nested set of parentheses?\"\"\"\n",
    "    stack = []   \n",
    "    pairs = {'[':']', '{':'}', '(':')'}   # a dictionary for things that count as pairs\n",
    "    \n",
    "    # loop through each character in the string\n",
    "    for ch in s:\n",
    "        # Is this an open paren?\n",
    "        if ch in pairs:\n",
    "            stack.append(ch)\n",
    "        else:\n",
    "            # Close paren\n",
    "            try: \n",
    "                cur = stack.pop()\n",
    "            except IndexError:\n",
    "                return False\n",
    "            \n",
    "            # Does the pair match?\n",
    "            if pairs[cur] != ch:\n",
    "                return False\n",
    "\n",
    "    # If the list is empty, we have a valid expression\n",
    "    return len(stack) == 0 "
   ]
  },
  {
   "cell_type": "markdown",
   "metadata": {},
   "source": [
    "### Test case for is_valid_parens()"
   ]
  },
  {
   "cell_type": "code",
   "execution_count": null,
   "metadata": {},
   "outputs": [],
   "source": [
    "def test_parens():\n",
    "    assert(is_valid_parens(\"\"))\n",
    "    assert(is_valid_parens(\"[]\"))\n",
    "    assert(is_valid_parens('{()[{}]}'))\n",
    "    assert(is_valid_parens(\"{}\"))\n",
    "    assert(is_valid_parens(\"{[]}\"))\n",
    "    assert(is_valid_parens(\"{}[]\"))\n",
    "    assert(is_valid_parens(\"([{}({}[])])\"))\n",
    "\n",
    "    assert not is_valid_parens('{()[{}}]'), 'Interlaced parentheses'\n",
    "    assert not is_valid_parens(\"[[\"), \"Unmatched opens\"\n",
    "    assert not is_valid_parens(\"}{\"), \"Unmatched close\"\n",
    "    assert not is_valid_parens(\"{]\"), \"Mismatched parentheses\"\n",
    "    assert not is_valid_parens(\"{[])\"), \"Mismatched parentheses\"\n",
    "    assert not is_valid_parens(\"{[)][]}\"), \"Mismatched parentheses\"\n",
    "    assert not is_valid_parens(\"([{])\"), \"Mismatched parentheses\"\n",
    "    assert not is_valid_parens(\"[({]})\"), \"Mismatched parentheses\"\n",
    "    \n",
    "    return 'Success!'\n",
    "\n",
    "test_parens()"
   ]
  },
  {
   "cell_type": "markdown",
   "metadata": {},
   "source": [
    "# Problem 4: Find Large Files\n",
    "\n",
    "Write a function that takes a directory and a size in bytes, \n",
    "and returns a list of files in the directory or below that \n",
    "are larger than the size.  \n",
    "\n",
    "*For example, you can use this function to look for files larger than 1 Meg below your Home directory.*\n",
    "\n",
    "You will find a Python function that gives you the size of a file in the os.path library: \n",
    "\n",
    "https://pymotw.com/3/os.path/"
   ]
  },
  {
   "cell_type": "markdown",
   "metadata": {},
   "source": [
    "<div class=\"alert alert-block alert-info\">\n",
    "Fill in your function below.\n",
    "</div>"
   ]
  },
  {
   "cell_type": "code",
   "execution_count": null,
   "metadata": {},
   "outputs": [],
   "source": [
    "import os\n",
    "\n",
    "def find_large_files(dirname, filesize):\n",
    "    \"\"\"Return a list of large files below this point\"\"\"\n",
    "\n",
    "    result = []                                    \n",
    "\n",
    "    # Walk over the files in this directory\n",
    "    for name in os.listdir(dirname):\n",
    "    \n",
    "        # Construct a full path\n",
    "        path = os.path.join(dirname, name)\n",
    "\n",
    "        # print filenames, and traverse directories\n",
    "        if os.path.isfile(path):\n",
    "            if os.path.getsize(path) > filesize:         # Check file type\n",
    "                result.append(path)               \n",
    "        else:\n",
    "            result = result + find_large_files(path, filesize)   \n",
    "\n",
    "    return result                                 "
   ]
  },
  {
   "cell_type": "markdown",
   "metadata": {},
   "source": [
    "## Add some error handling"
   ]
  },
  {
   "cell_type": "code",
   "execution_count": null,
   "metadata": {},
   "outputs": [],
   "source": [
    "import os\n",
    "\n",
    "def find_large_files(dirname, filesize):\n",
    "    \"\"\"Return a list of large files below this point\"\"\"\n",
    "\n",
    "    result = []                                    \n",
    "\n",
    "    # Walk over the files in this directory\n",
    "    for name in os.listdir(dirname):\n",
    "    \n",
    "        # Construct a full path\n",
    "        path = os.path.join(dirname, name)\n",
    "\n",
    "        # print filenames, and traverse directories\n",
    "        if os.path.isfile(path):\n",
    "            try:\n",
    "                if os.path.getsize(path) > filesize:         # Check file type\n",
    "                    result.append(path)      \n",
    "            except:\n",
    "                print(f\"Could not getsize of {path}\")\n",
    "        else:\n",
    "            result = result + find_large_files(path, filesize)   \n",
    "\n",
    "    return result                                 "
   ]
  },
  {
   "cell_type": "markdown",
   "metadata": {},
   "source": [
    "## Show your program in action\n",
    "Give the parameters and show the results for your program\n",
    "\n",
    "I looked for files larger than a Megabyte found below the directory one step up.   "
   ]
  },
  {
   "cell_type": "code",
   "execution_count": null,
   "metadata": {},
   "outputs": [],
   "source": [
    "lst = find_large_files('..', 1048576)\n",
    "print(len(lst))\n",
    "\n",
    "for path in lst:\n",
    "    print(path)"
   ]
  },
  {
   "cell_type": "markdown",
   "metadata": {},
   "source": [
    "# Problem 5: Wine and Beer\n",
    "\n",
    "Find the top beer and wine suppliers listed in a CSV file.\n",
    "\n",
    "The CSV file Beer_Wine.csv lists beer and wine suppliers to one state. Each line of the file records a different supplier, and includes a 5 or 9 digit zip code. When you see a 9-digit zip code, truncate the last 4 digits.  Find the 5-digit zip codes that hold the most suppliers to the state. \n",
    "\n",
    "Your function should return a list of lists, with the frequency and the zip code. Organize the list in decreasing order of frequency.\n",
    "Here are three items from my list of 720 zip codes\n",
    "```python\n",
    "    [ ... [9, '65616'], [8, '94573'], [8, '63103'] ...]\n",
    "```\n",
    "This tells me that Branson, Missouri, has 9 beer or wine suppliers to the state, and Rutherford, California, has 8.\n",
    "Print the number of suppliers and the zip code for the 10 most common zip codes in the file.\n",
    "\n",
    "Use the csv library to read the textfile. Use the idiom \"Dictionary as a Counter\" (section 11.1 of Downey) to count the number of times you see each zip code. Traverse the Dictionary and build a list of lists, and use the functions sort() or sorted() to organize your list so the most common zip codes are first.\n",
    "\n",
    "To validate your results, you can check the three zip codes above, and you can use Google to map the zip code to a location and check that that is a likely source for wine or beer."
   ]
  },
  {
   "cell_type": "markdown",
   "metadata": {},
   "source": [
    "<div class=\"alert alert-block alert-info\">\n",
    "Fill in your function below.\n",
    "</div>"
   ]
  },
  {
   "cell_type": "markdown",
   "metadata": {},
   "source": [
    "## Validation\n",
    "\n",
    "Here is a simple validator for zip codes\n",
    "\n",
    "It checks the length, and that all characters are digits using sets.\n",
    "\n",
    "This will have the side effect of discarding the header, where the field reads 'Zip Code'"
   ]
  },
  {
   "cell_type": "code",
   "execution_count": null,
   "metadata": {},
   "outputs": [],
   "source": [
    "import string\n",
    "\n",
    "def is_valid_zip(zip_string):\n",
    "    \"\"\"Is this a valid zip code?\"\"\"\n",
    "\n",
    "    # Is the length right?\n",
    "    if not (len(zip_string) in [5, 9]):\n",
    "        return False\n",
    "\n",
    "    # Is each character in zip a digit?\n",
    "    return set(zip_string).issubset(set(string.digits))"
   ]
  },
  {
   "cell_type": "markdown",
   "metadata": {},
   "source": [
    "## Try this out"
   ]
  },
  {
   "cell_type": "code",
   "execution_count": null,
   "metadata": {},
   "outputs": [],
   "source": [
    "for s in ['1234', '12345', '123456', '123456789', 'abcde', '123r5']:\n",
    "    print(f'{s = }\\t {is_valid_zip(s)}')"
   ]
  },
  {
   "cell_type": "markdown",
   "metadata": {},
   "source": [
    "### Read in the Data\n",
    "\n",
    "This uses the validation routine, tossing out rows we think are invalid\n",
    "\n",
    "In practice, you would want at least a count of how many were tossed\n",
    "\n",
    "### Defaultdict\n",
    "\n",
    "Used to simplify the coding\n",
    "\n",
    "### Exceptions\n",
    "\n",
    "We'll handle an unexpected error below"
   ]
  },
  {
   "cell_type": "code",
   "execution_count": null,
   "metadata": {},
   "outputs": [],
   "source": [
    "# Beer and Wine problem\n",
    "# Find the top zip codes\n",
    "#\n",
    "# Jeff Parker\t2021\n",
    "\n",
    "from typing import List\n",
    "\n",
    "import sys\n",
    "import csv\n",
    "from collections import defaultdict\n",
    "\n",
    "def import_file(fileName):\n",
    "    \"\"\"Takes a filename, returns a dictionary of zip codes\"\"\"\n",
    "\n",
    "    # Dictionary as Counter Design Pattern\n",
    "    # Dictionary to hold count for each Zip Code\n",
    "    # We use a Default Dict to simplify the coding\n",
    "    d = defaultdict(int)\n",
    "\n",
    "    try:                             # Try to open file: EFAP\n",
    "        with open(fileName, 'rt') as f:\n",
    "            reader = csv.reader(f)\n",
    "\n",
    "            # Get a new line from file\n",
    "            for row in reader:\n",
    "                zip_string = row[1]\n",
    "\n",
    "                # If this is a valid zip code\n",
    "                if is_valid_zip(zip_string):\n",
    "\n",
    "                    # Trim it to 5 digits\n",
    "                    zip_string = zip_string[:5]\n",
    "                    d[zip_string] = 1 + d[zip_string]\n",
    "\n",
    "    except FileNotFoundError:\n",
    "        print(f\"No such file: {fileName}\")\n",
    "    except Exception as err:\n",
    "        print(f\"Exception: {err}\")\n",
    "\n",
    "    return d"
   ]
  },
  {
   "cell_type": "markdown",
   "metadata": {},
   "source": [
    "### Test the general Exception statement"
   ]
  },
  {
   "cell_type": "code",
   "execution_count": null,
   "metadata": {},
   "outputs": [],
   "source": [
    "res = import_file('..')"
   ]
  },
  {
   "cell_type": "markdown",
   "metadata": {},
   "source": [
    "### What I see\n",
    "\n",
    "```python\n",
    "Exception: [Errno 21] Is a directory: '..'\n",
    "```\n",
    "\n",
    "This is generated by the two lines below: I didn't expect this error, so I'm depending on Python to describe it. \n",
    "\n",
    "```python\n",
    "    except Exception as err:\n",
    "        print(f\"Exception: {err}\")\n",
    "```"
   ]
  },
  {
   "cell_type": "markdown",
   "metadata": {},
   "source": [
    "### Take the Dictionary and return a sorted list\n",
    "\n",
    "**We sort the list 'res' in reverse order**\n",
    "\n",
    "Both sort() and sorted() take an optional Boolean parameter 'reverse'\n",
    "\n",
    "*Because it is optional, you need to specify it*\n",
    "\n",
    "```python\n",
    "    return sorted(res, reverse = True)\n",
    "```"
   ]
  },
  {
   "cell_type": "code",
   "execution_count": null,
   "metadata": {},
   "outputs": [],
   "source": [
    "def build_list(d):\n",
    "    \"\"\"Take the dictionary and return a list of most popular Zip Codes\"\"\"\n",
    "\n",
    "    # Build a list of count and zipcode\n",
    "    res = [[d[zip], zip] for zip in d]\n",
    "\n",
    "    # Sort so the largest are first\n",
    "    res.sort(reverse=True)\n",
    "\n",
    "    return res\n",
    "\n",
    "\n",
    "def list_zips(filename):\n",
    "    return build_list(import_file(filename))"
   ]
  },
  {
   "cell_type": "markdown",
   "metadata": {},
   "source": [
    "## Main function from .py file\n",
    "\n",
    "I wrote this as a program to run from the command line.\n",
    "\n",
    "This isn't useful in a notebook: we'll call it directly below"
   ]
  },
  {
   "cell_type": "code",
   "execution_count": null,
   "metadata": {},
   "outputs": [],
   "source": [
    "# Read in file name from command line\n",
    "if (len(sys.argv) < 2):\n",
    "    print(\"Usage:\", sys.argv[0], \"<filename>\")\n",
    "else:\n",
    "    # Get a dictionary counting instances of each zip code\n",
    "    d   = import_file(sys.argv[1])\n",
    "    \n",
    "    # Build a sorted list from the dictionary\n",
    "    lst = build_list(d)\n",
    "\n",
    "    for pair in lst[:10]:\n",
    "        print(pair)"
   ]
  },
  {
   "cell_type": "markdown",
   "metadata": {},
   "source": [
    "## We need to call it directly"
   ]
  },
  {
   "cell_type": "code",
   "execution_count": null,
   "metadata": {},
   "outputs": [],
   "source": [
    "lst = list_zips(\"../../Data/Beer_Wine.csv\")\n",
    "\n",
    "print(len(lst))\n",
    "for pair in lst[:10]:\n",
    "    print(pair)"
   ]
  },
  {
   "cell_type": "markdown",
   "metadata": {},
   "source": [
    "## Does this make sense?\n",
    "\n",
    "Zip code 94558 is in Napa County, wine country.  "
   ]
  },
  {
   "cell_type": "markdown",
   "metadata": {},
   "source": [
    "https://www.unitedstateszipcodes.org/94558/"
   ]
  },
  {
   "cell_type": "markdown",
   "metadata": {},
   "source": [
    "# Find the longest sequence of consecutive zip codes\n",
    "\n",
    "64110, 64111, and 64112 are all Zip codes found in the file.\n",
    "\n",
    "Find the longest sequence of consecutive zip codes in the file.  If two sequences have the same length, print the first one.  \n",
    "\n",
    "### Approach\n",
    "\n",
    "My first draft took the list \n",
    "```python\n",
    "    [ ... [9, '65616'], [8, '94573'], [8, '63103'] ...]\n",
    "```\n",
    "and transformed it into\n",
    "```python\n",
    "    [ ... ['65616', 9], ['94573', 8], ['63103', 8] ...]\n",
    "```\n",
    "This version transforms it into this list\n",
    "```python\n",
    "    [ ... '65616', '94573', '63103' ...]\n",
    "```"
   ]
  },
  {
   "cell_type": "code",
   "execution_count": null,
   "metadata": {},
   "outputs": [],
   "source": [
    "# While writing this, I had multiple print statements\n",
    "# I am leaving them in to show the kinds of things I print\n",
    "# The DEBUG flag lets me turn off the print statements when I think it works\n",
    "# ... and yet leaves the print statements in place should I find it doesn't work\n",
    "DEBUG = True\n",
    "\n",
    "def find_longest_sequence(lst):\n",
    "    \"\"\"Find the longest sequence of consecutive zip Codes\"\"\"\n",
    "    \n",
    "    # Take existing list and pull out only the zip code, toss frequency\n",
    "    new_lst = []\n",
    "    for item in lst:\n",
    "        # Transform the strings into integers\n",
    "        new_lst.append(int(item[1]))\n",
    "        \n",
    "    # Today we would write this as a List Comprehension\n",
    "    # new_lst = [int(item[1]) for item in lst]\n",
    "    \n",
    "    # Did we get the list right?  \n",
    "    #    Print after every transformation\n",
    "    if DEBUG:\n",
    "        for item in lst[:10]:\n",
    "            print(item)\n",
    "    \n",
    "    # Sort the zip codes to find consecutive elements\n",
    "    # I am making a copy: I could have called sort() here\n",
    "    lst = sorted(new_lst)\n",
    "    \n",
    "    # We 'prime the pump' and get the first element\n",
    "    prev = lst[0]\n",
    "    \n",
    "    pos = -1             # Current position\n",
    "    max_len = 1          # Longest sequence so far\n",
    "    max_pos = -1         # Starting point of longest sequence\n",
    "    ln = 1               # Length of current run\n",
    "    \n",
    "    # Traverse the rest of the list\n",
    "    for pos, curr in enumerate(lst[1:]):\n",
    "        # Watch each step\n",
    "        if DEBUG:\n",
    "            print(f\"{pos = } {curr = }\")\n",
    "            \n",
    "        # Is this a consecutive zip code?\n",
    "        if prev + 1 == curr:\n",
    "            ln = ln + 1\n",
    "            if ln > max_len:\n",
    "                max_len = ln\n",
    "                max_pos = pos - ln + 2   # List starts at pos = -1\n",
    "                \n",
    "                # Are we seeing the sequences?\n",
    "                if DEBUG:\n",
    "                    print(f\"\\t{max_pos = } {max_len = }\")\n",
    "        else:\n",
    "            # Not consecutive\n",
    "            ln = 1\n",
    "            \n",
    "            if DEBUG:\n",
    "                print(f\"\\t reset\")\n",
    "        \n",
    "        prev = curr\n",
    "        \n",
    "    # Prepare the result.  To check my work, I pull directly from the list\n",
    "    # While I could print this here, I'll soon have the return value to print\n",
    "    result = []\n",
    "    for pos in range(max_pos, max_pos + max_len):\n",
    "        result.append(lst[pos])\n",
    "        \n",
    "    return result"
   ]
  },
  {
   "cell_type": "markdown",
   "metadata": {},
   "source": [
    "## Print the zip codes in the longest consecutive sequence in the file"
   ]
  },
  {
   "cell_type": "code",
   "execution_count": null,
   "metadata": {},
   "outputs": [],
   "source": [
    "seq = find_longest_sequence(lst)\n",
    "\n",
    "print(seq)"
   ]
  },
  {
   "cell_type": "markdown",
   "metadata": {},
   "source": [
    "## Turn off Debugging and run again"
   ]
  },
  {
   "cell_type": "code",
   "execution_count": null,
   "metadata": {},
   "outputs": [],
   "source": [
    "DEBUG = False\n",
    "\n",
    "seq = find_longest_sequence(lst)\n",
    "\n",
    "print(seq)"
   ]
  },
  {
   "cell_type": "code",
   "execution_count": null,
   "metadata": {},
   "outputs": [],
   "source": []
  }
 ],
 "metadata": {
  "kernelspec": {
   "display_name": "Python 3",
   "language": "python",
   "name": "python3"
  },
  "language_info": {
   "codemirror_mode": {
    "name": "ipython",
    "version": 3
   },
   "file_extension": ".py",
   "mimetype": "text/x-python",
   "name": "python",
   "nbconvert_exporter": "python",
   "pygments_lexer": "ipython3",
   "version": "3.8.10"
  }
 },
 "nbformat": 4,
 "nbformat_minor": 1
}
