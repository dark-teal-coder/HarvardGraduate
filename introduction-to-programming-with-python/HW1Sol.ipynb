{
 "cells": [
  {
   "cell_type": "markdown",
   "metadata": {},
   "source": [
    "# Homework 1 Solutions\n",
    "## Sept 2021 "
   ]
  },
  {
   "cell_type": "markdown",
   "metadata": {},
   "source": [
    "## Quiz 1"
   ]
  },
  {
   "cell_type": "markdown",
   "metadata": {},
   "source": [
    "### Problem #1"
   ]
  },
  {
   "cell_type": "markdown",
   "metadata": {},
   "source": [
    "Which of the strings below is not a valid Python variable name?  \n",
    "\n",
    "__init__\n",
    "\n",
    "CSCI_S_7\n",
    "\n",
    "CSCI E 7\n",
    "\n",
    "a"
   ]
  },
  {
   "cell_type": "code",
   "execution_count": null,
   "metadata": {},
   "outputs": [],
   "source": [
    "__init__ = 3\n",
    "CSCI_S_7 = 3\n",
    "CSCI E 7 = 3\n",
    "a        = 3"
   ]
  },
  {
   "cell_type": "markdown",
   "metadata": {},
   "source": [
    "## Problem #2"
   ]
  },
  {
   "cell_type": "markdown",
   "metadata": {},
   "source": [
    "What is printed below?\n",
    "\n",
    "print((10 + 2) // 3)\n",
    "\n",
    "3\n",
    "\n",
    "4\n",
    "\n",
    "6\n",
    "\n",
    "4.0"
   ]
  },
  {
   "cell_type": "code",
   "execution_count": null,
   "metadata": {},
   "outputs": [],
   "source": [
    "print((10 + 2) // 3)"
   ]
  },
  {
   "cell_type": "markdown",
   "metadata": {},
   "source": [
    "### Problem #3"
   ]
  },
  {
   "cell_type": "markdown",
   "metadata": {},
   "source": [
    "What is printed below?\n",
    "\n",
    "print('seven'[::2])\n",
    "\n",
    "sn\n",
    "\n",
    "se\n",
    "\n",
    "eve\n",
    "\n",
    "en\n",
    "\n",
    "svn"
   ]
  },
  {
   "cell_type": "code",
   "execution_count": null,
   "metadata": {},
   "outputs": [],
   "source": [
    "'seven'[::2]"
   ]
  },
  {
   "cell_type": "markdown",
   "metadata": {},
   "source": [
    "## Problem 1 (15 points) \n",
    "\n",
    "In the cell below we define two strings\n",
    "\n",
    "```python\n",
    "a= \"+\"\n",
    "\n",
    "b = \"-\"\n",
    "```\n",
    "\n",
    "Using a and b, write a series of Python statements to create the 45-character string below, and assign it to the variable result, using as few operations as possible:\n",
    "\n",
    "```python\n",
    "\"+-+-+-+-+-+-+-+-+-+-+-+-+-+-+-+-+-+-+-+-+-+-+\"\n",
    "```"
   ]
  },
  {
   "cell_type": "code",
   "execution_count": null,
   "metadata": {},
   "outputs": [],
   "source": [
    "# Do not change this cell\n",
    "\n",
    "a = \"+\"\n",
    "b = \"-\""
   ]
  },
  {
   "cell_type": "code",
   "execution_count": null,
   "metadata": {},
   "outputs": [],
   "source": [
    "s2 = a + b\n",
    "s4 = s2 + s2\n",
    "s8 = s4 + s4\n",
    "s16 = s8 + s8\n",
    "s32 = s16 + s16\n",
    "\n",
    "result = s32 + s8 + s4 + a\n",
    "result"
   ]
  },
  {
   "cell_type": "markdown",
   "metadata": {},
   "source": [
    "<div class=\"alert alert-block alert-info\">\n",
    "Student effort\n",
    "</div>"
   ]
  },
  {
   "cell_type": "code",
   "execution_count": null,
   "metadata": {},
   "outputs": [],
   "source": [
    "result = a + b\n",
    "print((result*45)[0:45])"
   ]
  },
  {
   "cell_type": "markdown",
   "metadata": {},
   "source": [
    "### Unit Test for Problem 1"
   ]
  },
  {
   "cell_type": "markdown",
   "metadata": {},
   "source": [
    "<div class=\"alert alert-block alert-danger\">\n",
    "Run the cell below to test your value of s.\n",
    "    \n",
    "This week we learn about functions: it will be useful to put the Unit Tests in a function, so I can call them again and again.\n",
    "</div>"
   ]
  },
  {
   "cell_type": "code",
   "execution_count": null,
   "metadata": {},
   "outputs": [],
   "source": [
    "# This cell will test your string s\n",
    "def unit_test_1():\n",
    "    assert result[:2] == '+-', \"String must start with +-\"\n",
    "    assert result[2:] == result[:-2], \"Pattern must repeat\"\n",
    "\n",
    "    assert len(result) == 45, \"Wrong length\"\n",
    "\n",
    "    print('Success!')\n",
    "    \n",
    "unit_test_1()"
   ]
  },
  {
   "cell_type": "code",
   "execution_count": null,
   "metadata": {},
   "outputs": [],
   "source": [
    "print(result)\n",
    "print(len(result))"
   ]
  },
  {
   "cell_type": "code",
   "execution_count": null,
   "metadata": {},
   "outputs": [],
   "source": [
    "# Note that we passed the first two tests\n",
    "print(f\"->{result[2:]}<-\")\n",
    "print(f\"->{result[:-2]}<-\")"
   ]
  },
  {
   "cell_type": "markdown",
   "metadata": {},
   "source": [
    "## It ain't enough to print it\n",
    "\n",
    "This is a general problem: it is easy to confuse /printing/ something with /storing/ it ."
   ]
  },
  {
   "cell_type": "code",
   "execution_count": null,
   "metadata": {},
   "outputs": [],
   "source": [
    "result = a + b\n",
    "result = (result*45)[0:45]    # Overkill -\n",
    "\n",
    "unit_test_1()"
   ]
  },
  {
   "cell_type": "code",
   "execution_count": null,
   "metadata": {},
   "outputs": [],
   "source": [
    "result = a + b\n",
    "result = (result*23)[0:45]   # We don't need 45 copies of '+-'\n",
    "\n",
    "unit_test_1()"
   ]
  },
  {
   "cell_type": "markdown",
   "metadata": {},
   "source": [
    "## Problem 2 (20 points)\n",
    "\n",
    "In the cell below we define a string called *quotation*.\n",
    "\n",
    "  Write Python expressions to compute each of the values below, and print each in turn.  \n",
    "\n",
    "- The length of the string *quotation*.\n",
    "- The index of the first instance of the word 'country'.  The index of 'Ask' is 0.  \n",
    "- The index of the last instance of the word 'country'.\n",
    "- The number of times 'you' appears in *quotation*, using the string method count()."
   ]
  },
  {
   "cell_type": "markdown",
   "metadata": {},
   "source": [
    "<div class=\"alert alert-block alert-info\">\n",
    "Put your code in the cell below.\n",
    "</div>"
   ]
  },
  {
   "cell_type": "code",
   "execution_count": null,
   "metadata": {},
   "outputs": [],
   "source": [
    "quotation = \"Ask not what your country can do for you – ask what you can do for your country.\"\n",
    "\n",
    "# Place 4 expressions below\n",
    "print(len(quotation))       # Length\n",
    "print(quotation.find('country'))    # Index of first instance of 'country'\n",
    "print(quotation.rfind('country'))   # Index of last instance of 'country'\n",
    "print(quotation.count('you'))       # Number of times 'you' appears in quotation"
   ]
  },
  {
   "cell_type": "markdown",
   "metadata": {},
   "source": [
    "## Problem 3 (20 points)\n",
    "\n",
    "Write a Python fragment to create a string holding the text below.   \n",
    "\n",
    "     Then he said \"I don't know.\""
   ]
  },
  {
   "cell_type": "markdown",
   "metadata": {},
   "source": [
    "<div class=\"alert alert-block alert-info\">\n",
    "Put your code in the cell below.\n",
    "</div>"
   ]
  },
  {
   "cell_type": "code",
   "execution_count": null,
   "metadata": {},
   "outputs": [],
   "source": [
    "# Student effort\n",
    "\n",
    "statement = \"Then he said 'I don't know.'\"  ## Not what we were looking for, but passes the tests\n",
    "\n",
    "print(statement)"
   ]
  },
  {
   "cell_type": "markdown",
   "metadata": {},
   "source": [
    "### Unit Test for Problem 3"
   ]
  },
  {
   "cell_type": "markdown",
   "metadata": {},
   "source": [
    "<div class=\"alert alert-block alert-danger\">\n",
    "Run the cell below to test your value of statement.\n",
    "</div>"
   ]
  },
  {
   "cell_type": "code",
   "execution_count": null,
   "metadata": {},
   "outputs": [],
   "source": [
    "# print your string\n",
    "print(len(statement), statement)\n",
    "\n",
    "# Check that it is the right length\n",
    "assert 28 == len(statement), \"Wrong length\"\n",
    "\n",
    "# Check the contents\n",
    "assert 22 == statement.find('know'), \"'know' should be at index 22\"\n",
    "\n",
    "print('Success!')"
   ]
  },
  {
   "cell_type": "markdown",
   "metadata": {},
   "source": [
    "## Out Unit Tests are not bullet-proof\n",
    "\n",
    "We can try a bit harder"
   ]
  },
  {
   "cell_type": "code",
   "execution_count": null,
   "metadata": {},
   "outputs": [],
   "source": [
    "# Fix for \"Then he said 'I don't know'\"\n",
    "assert 13 == statement.find('\"'), '\" should be at index 13'\n",
    "assert 19 == statement.find(\"'\"), \"' should be at index 19\""
   ]
  },
  {
   "cell_type": "code",
   "execution_count": null,
   "metadata": {},
   "outputs": [],
   "source": [
    "## Make it a function\n",
    "\n",
    "def unit_test_3():\n",
    "    # print your string\n",
    "    print(len(statement), statement)\n",
    "\n",
    "    # Check that it is the right length\n",
    "    assert 28 == len(statement), \"Wrong length\"\n",
    "\n",
    "    # Check the contents\n",
    "    assert 22 == statement.find('know'), \"'know' should be at index 22\"\n",
    "\n",
    "    # Fix for \"Then he said 'I don't know'\"\n",
    "    assert 13 == statement.find('\"'), '\" should be at index 13'\n",
    "    assert 19 == statement.find(\"'\"), \"' should be at index 19\"\n",
    "\n",
    "    print('Success!')\n",
    "    \n",
    "unit_test_3()"
   ]
  },
  {
   "cell_type": "markdown",
   "metadata": {},
   "source": [
    "## My Solution"
   ]
  },
  {
   "cell_type": "code",
   "execution_count": null,
   "metadata": {},
   "outputs": [],
   "source": [
    "# What I had in mind: assemble from three pieces\n",
    "\n",
    "statement = 'Then he said \"I ' + \"don't\" + ' know.\"'\n",
    "\n",
    "unit_test_3()"
   ]
  },
  {
   "cell_type": "markdown",
   "metadata": {},
   "source": [
    "## Students came up with many other solutions"
   ]
  },
  {
   "cell_type": "code",
   "execution_count": null,
   "metadata": {},
   "outputs": [],
   "source": [
    "# We can use the escape character to surpress the usual behavior\n",
    "\n",
    "statement = 'Then he said \\\"I don\\'t know.\\\"'\n",
    "\n",
    "unit_test_3()"
   ]
  },
  {
   "cell_type": "code",
   "execution_count": null,
   "metadata": {},
   "outputs": [],
   "source": [
    "# We can patch using replace()\n",
    "\n",
    "start = 'Then he said \"I donZt know.\"'\n",
    "\n",
    "statement = start.replace('Z', \"'\")\n",
    "\n",
    "unit_test_3()"
   ]
  },
  {
   "cell_type": "code",
   "execution_count": null,
   "metadata": {},
   "outputs": [],
   "source": [
    "# Triple quotes also works - who knew?\n",
    "\n",
    "statement = '''Then he said \"I don't know.\"'''\n",
    "\n",
    "unit_test_3()"
   ]
  },
  {
   "cell_type": "markdown",
   "metadata": {},
   "source": [
    "# Problem 4 (20 points)\n",
    "\n",
    "Use the Python string method find( ) to write a fragment that takes a \n",
    "hyphenated phrase such as \"text-processor\" and prints \"processor/text\" \n",
    "\n",
    "Thus \"hard-won\" should print \"won/hard\""
   ]
  },
  {
   "cell_type": "markdown",
   "metadata": {},
   "source": [
    "<div class=\"alert alert-block alert-info\">\n",
    "Put your code in the cell below.\n",
    "</div>"
   ]
  },
  {
   "cell_type": "code",
   "execution_count": null,
   "metadata": {},
   "outputs": [],
   "source": [
    "phrase = \"text-processor\"\n",
    "\n",
    "pos = phrase.find('-')\n",
    "\n",
    "# Flip front and back and make a new sandwich\n",
    "print(phrase[pos+1:], '/', phrase[:pos])"
   ]
  },
  {
   "cell_type": "code",
   "execution_count": null,
   "metadata": {},
   "outputs": [],
   "source": [
    "a = 'a'\n",
    "b = 'b'\n",
    "c = 'c'\n",
    "print(a, b, c)"
   ]
  },
  {
   "cell_type": "markdown",
   "metadata": {},
   "source": [
    "## print() introduces a space by default\n",
    "\n",
    "We will learn how to override this by specifying what to add"
   ]
  },
  {
   "cell_type": "code",
   "execution_count": null,
   "metadata": {},
   "outputs": [],
   "source": [
    "phrase = \"text-processor\"\n",
    "\n",
    "pos = phrase.find('-')\n",
    "\n",
    "# Flip front and back and make a new sandwich\n",
    "print(phrase[pos+1:], end = '')\n",
    "print('/', end = '')\n",
    "print(phrase[:pos])"
   ]
  },
  {
   "cell_type": "markdown",
   "metadata": {},
   "source": [
    "## It is simpler to use string addition to paste the parts together"
   ]
  },
  {
   "cell_type": "code",
   "execution_count": null,
   "metadata": {},
   "outputs": [],
   "source": [
    "phrase = \"text-processor\"\n",
    "\n",
    "pos = phrase.find('-')\n",
    "\n",
    "# Flip front and back and make a new sandwich\n",
    "phrase = phrase[pos+1:] + '/' + phrase[:pos]\n",
    "\n",
    "print(phrase)"
   ]
  },
  {
   "cell_type": "markdown",
   "metadata": {},
   "source": [
    "## We will also learn to use f-string formatting to get more control"
   ]
  },
  {
   "cell_type": "code",
   "execution_count": null,
   "metadata": {},
   "outputs": [],
   "source": [
    "phrase = \"text-processor\"\n",
    "\n",
    "pos = phrase.find('-')\n",
    "\n",
    "# Flip front and back and make a new sandwich\n",
    "# Display using f-string formatting\n",
    "print(f\"{phrase[pos+1:]}/{phrase[:pos]}\") "
   ]
  },
  {
   "cell_type": "markdown",
   "metadata": {},
   "source": [
    "## Problem 5 (20 Points)\n",
    "\n",
    "The method platform.uname() returns a value that holds information about \n",
    "your system: system name, nodename, release, version, and machine.  \n",
    "\n",
    "We use the function str() below to take the uname method's output and return a string.  \n",
    "\n",
    "Here is the output when I run the cell below on my machine\n",
    "\n",
    "```python\n",
    "uname_result(system='Darwin', node='Macintosh.local', release='19.6.0', version='Darwin Kernel Version 19.6.0: Tue Jun 22 19:49:55 PDT 2021; root:xnu-6153.141.35~1/RELEASE_X86_64', machine='x86_64', processor='i386')\n",
    "```\n",
    "    \n",
    "On a Windows machine, it might print\n",
    "\n",
    "```python\n",
    "uname_result(system='Windows', node='DESKTOP-2JCLBCF', release='10', version='10.0.19041', machine='AMD64', processor='Intel64 Family 6 Model 140 Stepping 1, GenuineIntel')\n",
    "```\n",
    "\n",
    "Use the string methods you have learned to extract and print the system from the string uname.  This may take several steps.  Your code should work on any machine.  Running on a Macintosh, your code should print\n",
    "\n",
    "```python\n",
    "Darwin\n",
    "```\n",
    "\n",
    "On a Windows machine, your code should print\n",
    "\n",
    "```python\n",
    "Windows\n",
    "```"
   ]
  },
  {
   "cell_type": "code",
   "execution_count": null,
   "metadata": {},
   "outputs": [],
   "source": [
    "import platform\n",
    "\n",
    "uname = str(platform.uname())\n",
    "\n",
    "# Debugging\n",
    "print(uname)\n",
    "type(uname)"
   ]
  },
  {
   "cell_type": "markdown",
   "metadata": {},
   "source": [
    "<div class=\"alert alert-block alert-info\">\n",
    "Put your code to print the system in the cell below.\n",
    "</div>"
   ]
  },
  {
   "cell_type": "markdown",
   "metadata": {},
   "source": [
    "## What I had in mind\n",
    "\n",
    "We want to find the first two instances of single quote, '\n",
    "\n",
    "Find only returns one\n",
    "\n",
    "We could solve by finding the first, slicing it off, and then finding the next one.  We do this in two steps"
   ]
  },
  {
   "cell_type": "code",
   "execution_count": null,
   "metadata": {},
   "outputs": [],
   "source": [
    "# Fill in your code below to extract the system from uname\n",
    "# First of two steps\n",
    "\n",
    "# Find the start\n",
    "pos = uname.find(\"'\")\n",
    "result = uname[pos+1:]\n",
    "print(result)               # Check what he have so far"
   ]
  },
  {
   "cell_type": "markdown",
   "metadata": {},
   "source": [
    "### *Check your intermediate steps: find out if you are on the right track*"
   ]
  },
  {
   "cell_type": "code",
   "execution_count": null,
   "metadata": {},
   "outputs": [],
   "source": [
    "# Snip off the back end\n",
    "\n",
    "pos = result.find(\"'\")      # Find the next remaining \"'\"\n",
    "print(result[:pos])         # Snip it off"
   ]
  },
  {
   "cell_type": "markdown",
   "metadata": {},
   "source": [
    "## Another Approach: find() has features we haven't taken advantage of"
   ]
  },
  {
   "cell_type": "code",
   "execution_count": null,
   "metadata": {},
   "outputs": [],
   "source": [
    "help(str.find)"
   ]
  },
  {
   "cell_type": "markdown",
   "metadata": {},
   "source": [
    "```python\n",
    "find(...)\n",
    "    s.find(sub[, start[, end]]) -> int\n",
    "    \n",
    "    Return the lowest index in S where substring sub is found,\n",
    "    such that sub is contained within S[start:end].\n",
    "```\n",
    "\n",
    "This gives us a new approach: we can find the second by searching past the first using find."
   ]
  },
  {
   "cell_type": "code",
   "execution_count": null,
   "metadata": {},
   "outputs": [],
   "source": [
    "uname = str(platform.uname())\n",
    "\n",
    "pos1 = uname.find(\"'\")            # Find the first\n",
    "pos2 = uname.find(\"'\", pos1 + 1)  # Find the next one\n",
    "\n",
    "print(uname[pos1+1:pos2])         # Print the slice between the two"
   ]
  },
  {
   "cell_type": "markdown",
   "metadata": {},
   "source": [
    "# Problem 6 (5 points) \n",
    "\n",
    "Use the cell below to write, in English, directions that a robot could perform to decide if the variable word has a double letter.  'look' has a double letter: 'leap' does not, and 'bedew' has two instances of 'e', but no double letters.  \n",
    "\n",
    "You don't know enough Python to write a Python program to do this yet: but think about a concise way to describe what you would check to see if there is a double letter."
   ]
  },
  {
   "cell_type": "markdown",
   "metadata": {},
   "source": [
    "<div class=\"alert alert-block alert-info\">\n",
    "Put your English text describing your algorithm to detect a double letter in the cell below.\n",
    "</div>"
   ]
  },
  {
   "cell_type": "markdown",
   "metadata": {},
   "source": [
    "## Your (English) directions to decide if a word has a double letter\n",
    "\n",
    "Take the adjacent pairs of letters in the word.  \n",
    "\n",
    "A word of length 8, such as 'adjacent' will have 7 adjacent pairs:\n",
    "\n",
    "(a, d), (d, j), (j, a), (a, c), (c, e), (e, n), (n, t)\n",
    "\n",
    "For each pair of adjacent letter, compare the two characters.  If they match, report a double letter. \n",
    "\n",
    "If you have checked all pairs, and there were no matches, report that there were no double letters."
   ]
  },
  {
   "cell_type": "markdown",
   "metadata": {},
   "source": [
    "### *We will be able to write Python to test for double letters soon*"
   ]
  },
  {
   "cell_type": "markdown",
   "metadata": {},
   "source": [
    "# Post Mortem"
   ]
  },
  {
   "cell_type": "markdown",
   "metadata": {},
   "source": [
    "<div class=\"alert alert-block alert-info\">\n",
    "How long did it take you to solve this problem set?  \n",
    "\n",
    "Did anything confuse you or cause difficulty?\n",
    "</div>"
   ]
  },
  {
   "cell_type": "code",
   "execution_count": null,
   "metadata": {},
   "outputs": [],
   "source": [
    "# Your thoughts...\n"
   ]
  }
 ],
 "metadata": {
  "kernelspec": {
   "display_name": "Python 3",
   "language": "python",
   "name": "python3"
  },
  "language_info": {
   "codemirror_mode": {
    "name": "ipython",
    "version": 3
   },
   "file_extension": ".py",
   "mimetype": "text/x-python",
   "name": "python",
   "nbconvert_exporter": "python",
   "pygments_lexer": "ipython3",
   "version": "3.8.10"
  }
 },
 "nbformat": 4,
 "nbformat_minor": 2
}
