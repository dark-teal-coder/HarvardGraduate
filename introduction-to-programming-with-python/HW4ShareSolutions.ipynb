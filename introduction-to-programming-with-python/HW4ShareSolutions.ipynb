{
 "cells": [
  {
   "cell_type": "markdown",
   "metadata": {},
   "source": [
    "# HW 4 Share\n",
    "\n",
    "These are problems I am happy to discuss in Section or on Piazza\n",
    "\n",
    "Some are easy, while some are harder than problems we assign.\n",
    "\n",
    "The first problem assembles items into a list to return, and then prints the list.  You will need that in HW #4"
   ]
  },
  {
   "cell_type": "markdown",
   "metadata": {},
   "source": [
    "## 1) Odd Numbers\n",
    "\n",
    "Take a list of numbers, and return a list of odd numbers\n",
    "\n",
    "We start with an empty list\n",
    "\n",
    "```python\n",
    "    # Create an empty list\n",
    "    result = []\n",
    "```\n",
    "\n",
    "When we have something to add, we append() (add it to the end)\n",
    "\n",
    "```python\n",
    "        if num % 2:\n",
    "            result.append(num)\n",
    "```\n",
    "\n",
    "When we are done, we return the list\n",
    "\n",
    "```python\n",
    "    # Return the new list of odd numbers\n",
    "    return result\n",
    "```\n",
    "\n",
    "The caller takes the result, and prints all the items in the list, using a for loop.  \n",
    "\n",
    "\n",
    "```python\n",
    "    lst = odd_numbers([1, 2, 3, 4, 5, 6])\n",
    "    \n",
    "    for num in lst:\n",
    "        print(num)\n",
    "```\n",
    "\n",
    "There is a much clumsier way to print the items, shown below.  See how ugly it is compared to the Pythonic version above.  \n",
    "\n",
    "```python\n",
    "    for i in range(len(lst)):\n",
    "        print(lst[i])\n",
    "```\n",
    "\n",
    "*Pythonic - See the discussion here: https://blog.startifact.com/posts/older/what-is-pythonic.html *"
   ]
  },
  {
   "cell_type": "code",
   "execution_count": null,
   "metadata": {},
   "outputs": [],
   "source": [
    "def odd_numbers(lst):\n",
    "    \"Take a list of numbers, and return a list of odd numbers\"\n",
    "    \n",
    "    # Create an empty list\n",
    "    result = []\n",
    "    \n",
    "    # For each number in the input list\n",
    "    for num in lst:\n",
    "        \n",
    "        # If the number is odd...\n",
    "        if num % 2:\n",
    "            # ... add it to the results\n",
    "            result.append(num)\n",
    "    \n",
    "    # Return the new list of odd numbers\n",
    "    return result\n",
    "\n",
    "lst = odd_numbers([1, 2, 3, 4, 5, 6])\n",
    "    \n",
    "print(lst)"
   ]
  },
  {
   "cell_type": "code",
   "execution_count": null,
   "metadata": {},
   "outputs": [],
   "source": [
    "def test_odd_numbers():\n",
    "    assert [] == odd_numbers([2, 4, 6, 8, 10, 12])\n",
    "    assert [1, 3, 5] == odd_numbers([1, 2, 3, 4, 5, 6])\n",
    "    \n",
    "    print('Success!')\n",
    "    \n",
    "test_odd_numbers()"
   ]
  },
  {
   "cell_type": "markdown",
   "metadata": {},
   "source": [
    "## 2) Upper Case\n",
    "\n",
    "Take a string and return a string holding the upper case letters."
   ]
  },
  {
   "cell_type": "code",
   "execution_count": null,
   "metadata": {},
   "outputs": [],
   "source": [
    "def find_upper_case(word):\n",
    "    result = []\n",
    "    \n",
    "    for ch in word:\n",
    "        if (ch.isupper()):\n",
    "            result.append(ch)\n",
    "    \n",
    "    return result\n",
    " \n",
    "print(find_upper_case('Integrated Development Environment'))"
   ]
  },
  {
   "cell_type": "code",
   "execution_count": null,
   "metadata": {},
   "outputs": [],
   "source": [
    "ch = 'a'\n",
    "print(ch.upper())\n",
    "print(ch.isupper())"
   ]
  },
  {
   "cell_type": "code",
   "execution_count": null,
   "metadata": {},
   "outputs": [],
   "source": [
    "def test_upper_case():\n",
    "    assert 'IDE'     == find_upper_case('Integrated Development Environment')\n",
    "    assert 'ACRONYM' == find_upper_case('A Contrived Reduction Of Nouns Yielding Mnemonics')\n",
    "    \n",
    "    print('Success')\n",
    "    \n",
    "test_upper_case()"
   ]
  },
  {
   "cell_type": "markdown",
   "metadata": {},
   "source": [
    "### *The test fails.  We return a list, and test_upper_case() wants a string.*\n",
    "\n",
    "You could do this by hand, but we will learn the method join() that converts a list to a string"
   ]
  },
  {
   "cell_type": "markdown",
   "metadata": {},
   "source": [
    "## 3) First double letter\n",
    "Given a string, return the first recurring character that appears in a double letter, or None if there is no recurring character.\n",
    "\n",
    "Given the string \"acabbac\", return \"b\". Given the string \"aba\", return None.  There are two a's, but they do not form a double letter."
   ]
  },
  {
   "cell_type": "markdown",
   "metadata": {},
   "source": [
    "## We solve this two ways: \n",
    "### Using Previous and Current (prev and ch)\n",
    "### Using string indexing"
   ]
  },
  {
   "cell_type": "code",
   "execution_count": null,
   "metadata": {},
   "outputs": [],
   "source": [
    "def find_double(word):\n",
    "    prev = None\n",
    "    for ch in word:\n",
    "        if prev == ch:\n",
    "            return ch\n",
    "        prev = ch\n",
    "        \n",
    "    return None\n",
    "\n",
    "print(find_double(\"acabbac\"))"
   ]
  },
  {
   "cell_type": "markdown",
   "metadata": {},
   "source": [
    "## Unit Test"
   ]
  },
  {
   "cell_type": "code",
   "execution_count": null,
   "metadata": {},
   "outputs": [],
   "source": [
    "def test_double():\n",
    "    assert 'b' == find_double('acabbac')\n",
    "    assert None == find_double('abcdef')\n",
    "    assert 'a' == find_double('baadd')\n",
    "    assert None == find_double('ababacec')\n",
    "    \n",
    "    print('Success')\n",
    "    \n",
    "test_double()"
   ]
  },
  {
   "cell_type": "markdown",
   "metadata": {},
   "source": [
    "### String indexing"
   ]
  },
  {
   "cell_type": "code",
   "execution_count": null,
   "metadata": {},
   "outputs": [],
   "source": [
    "def find_double(word):\n",
    "    for i in range(len(word) - 1):\n",
    "        if word[i] == word[i+1]:\n",
    "            return word[i]\n",
    "        \n",
    "    return None\n",
    "\n",
    "print(find_double(\"acabbac\"))\n",
    "print(find_double(\"acabac\"))"
   ]
  },
  {
   "cell_type": "code",
   "execution_count": null,
   "metadata": {},
   "outputs": [],
   "source": [
    "## Test it!\n",
    "\n",
    "test_double()"
   ]
  },
  {
   "cell_type": "markdown",
   "metadata": {},
   "source": [
    "## 3B) First duplicate letter\n",
    "Given a string, return the first recurring character that appears in a double letter, or None if there is no recurring character.\n",
    "Given the string \"acabbac\", return \"b\". Given the string \"aba\", return 'a'.  "
   ]
  },
  {
   "cell_type": "code",
   "execution_count": null,
   "metadata": {},
   "outputs": [],
   "source": [
    "s = 'abbbacd'\n",
    "list(s)"
   ]
  },
  {
   "cell_type": "code",
   "execution_count": null,
   "metadata": {},
   "outputs": [],
   "source": [
    "def find_repeat(word):\n",
    "    lst = list(word)\n",
    "    for ch in lst:\n",
    "        lst.pop(0)\n",
    "        if ch in lst:\n",
    "            return ch\n",
    "    \n",
    "    return None\n",
    "\n",
    "print(find_repeat(\"cabba\"))\n",
    "print(find_repeat(\"cabac\"))"
   ]
  },
  {
   "cell_type": "markdown",
   "metadata": {},
   "source": [
    "## Our old test doesn't work!!\n",
    "\n",
    "Rewrite the test below to work for find_repeat()"
   ]
  },
  {
   "cell_type": "code",
   "execution_count": null,
   "metadata": {},
   "outputs": [],
   "source": [
    "def test_repeat():\n",
    "    assert 'b' == find_repeat('acabbac')\n",
    "    assert None == find_repeat('abcdef')\n",
    "    assert 'a' == find_repeat('baadd')\n",
    "    assert None == find_repeat('ababacec')\n",
    "    \n",
    "    print('Success')\n",
    "    \n",
    "test_repeat()"
   ]
  },
  {
   "cell_type": "markdown",
   "metadata": {},
   "source": [
    "## 4) Double Trouble\n",
    "Find all words in Downey's words.txt with double letters."
   ]
  },
  {
   "cell_type": "code",
   "execution_count": null,
   "metadata": {},
   "outputs": [],
   "source": [
    "! ls words.txt"
   ]
  },
  {
   "cell_type": "code",
   "execution_count": null,
   "metadata": {},
   "outputs": [],
   "source": [
    "print(\"Find words with double letters\\n\")\n",
    "\n",
    "with open('words.txt') as words:\n",
    "    results = []\n",
    "    for line in words:\n",
    "        \n",
    "        line = line.strip()                 # <<<<<<<\n",
    "        \n",
    "        if find_double(line):\n",
    "            results.append(line)\n",
    "            \n",
    "\n",
    "print(len(results))\n",
    "print(results)"
   ]
  },
  {
   "cell_type": "markdown",
   "metadata": {},
   "source": [
    "### What I see\n",
    "\n",
    "```python\n",
    "Find words with double letters\n",
    "\n",
    "25103\n",
    "['aa', 'aah', 'aahed', 'aahing', 'aahs', 'aal', 'aalii', 'aaliis', 'aals', 'aardvark', 'aardvarks', 'aardwolf', 'aardwolves', 'aas', 'aasvogel', 'aasvogels', 'abattis', 'abattises', 'abattoir', 'abattoirs', 'abbacies', 'abbacy', 'abbatial', 'abbe', 'abbes', 'abbess', ...\n",
    "```"
   ]
  },
  {
   "cell_type": "markdown",
   "metadata": {},
   "source": [
    "## 5) Slim \n",
    "\n",
    "Take a List and remove duplicates"
   ]
  },
  {
   "cell_type": "code",
   "execution_count": null,
   "metadata": {},
   "outputs": [],
   "source": [
    "def slim(lst):\n",
    "    result = []\n",
    "    for item in lst:\n",
    "        if item not in result:\n",
    "            result.append(item)\n",
    "            \n",
    "    return result\n",
    "\n",
    "print(slim([1, 1, 1, 1, 1, 1, 1]))\n",
    "print(slim([1, 2, 1, 2, 1, 2, 1, 2]))\n",
    "print(slim([1, 2, 1, 2, 3, 2, 2, 1, 3]))"
   ]
  },
  {
   "cell_type": "code",
   "execution_count": null,
   "metadata": {},
   "outputs": [],
   "source": [
    "def test_slim():\n",
    "    assert [1] == slim([1, 1, 1])\n",
    "    assert [1, 2] == slim([1, 2, 1, 2])\n",
    "    assert [1, 2, 3] == slim([1, 2, 1, 2, 3, 2, 2, 1, 3])\n",
    "    assert ['pig', 'cow'] == slim(['pig', 'cow', 'cow', 'pig', 'cow'])\n",
    "    \n",
    "    print('Success')\n",
    "    \n",
    "test_slim()"
   ]
  },
  {
   "cell_type": "markdown",
   "metadata": {},
   "source": [
    "## 6) Shortest Representatives\n",
    "Given a string, return the shortest substring containing all the characters in the word. For example, given the string \"abbaacaab\", you should return \"baac\".\n",
    "If there are two minimal substrings, you can return either one. 'caab' would also be valid above, though our simple test won't accept it."
   ]
  },
  {
   "cell_type": "code",
   "execution_count": null,
   "metadata": {},
   "outputs": [],
   "source": [
    "def find_shortest(s, unique, mx):\n",
    "    \"\"\"Take a string s and list unique.  \n",
    "    Find smallest pos such that s[:pos] has all letters in unique\"\"\"\n",
    "    positions = []\n",
    "    for ch in unique:\n",
    "        pos = s.find(ch)\n",
    "        if pos == -1:\n",
    "            return mx\n",
    "        positions.append(pos)\n",
    "        \n",
    "    # Show what we are doing here\n",
    "    print(s)\n",
    "    print(positions, max(positions))\n",
    "    print()\n",
    "    \n",
    "    # We need to adjust index to get length\n",
    "    return max(positions) + 1\n",
    "\n",
    "def shortest(word):\n",
    "    \"Find shortest substring will all unique letters\"\n",
    "    unique = slim(list(word)) # What letters do we need?\n",
    "    pos = -1                  # Where is best spot?\n",
    "    mx = len(word) + 1        # Sentinel that marks failure\n",
    "    mn = len(word)            # Shortest we hav seen so far\n",
    "    \n",
    "    # Starting at each spot...              \n",
    "    for i in range(len(word)):\n",
    "        # ... see how long the substring starting here needs to be\n",
    "        ln = find_shortest(word[i:], unique, mx)\n",
    "                  \n",
    "        # If it is better than our smallest\n",
    "        if ln < mn:\n",
    "            # remember the position and the length\n",
    "            pos = i\n",
    "            mn = ln\n",
    "            \n",
    "    return word[pos:pos + mn]\n",
    "\n",
    "shortest(\"abbaacaab\")"
   ]
  },
  {
   "cell_type": "code",
   "execution_count": null,
   "metadata": {},
   "outputs": [],
   "source": [
    "def test_shortest():\n",
    "    assert len(shortest(\"abbaacaab\")) == 4\n",
    "    assert shortest(\"abbaacaaab\") == 'baac'\n",
    "    \n",
    "    print('Success')\n",
    "    \n",
    "test_slim()"
   ]
  },
  {
   "cell_type": "code",
   "execution_count": null,
   "metadata": {},
   "outputs": [],
   "source": []
  }
 ],
 "metadata": {
  "kernelspec": {
   "display_name": "Python 3",
   "language": "python",
   "name": "python3"
  },
  "language_info": {
   "codemirror_mode": {
    "name": "ipython",
    "version": 3
   },
   "file_extension": ".py",
   "mimetype": "text/x-python",
   "name": "python",
   "nbconvert_exporter": "python",
   "pygments_lexer": "ipython3",
   "version": "3.8.10"
  }
 },
 "nbformat": 4,
 "nbformat_minor": 4
}
