{
 "cells": [
  {
   "cell_type": "markdown",
   "metadata": {},
   "source": [
    "# Homework 8 Solutions\n",
    "\n",
    "## 2021"
   ]
  },
  {
   "cell_type": "markdown",
   "metadata": {},
   "source": [
    "## Problem 1: Secret Code\n",
    "\n",
    "We looked at ROT-13, a simple substitution cipher, in Office Hours last week.\n",
    "\n",
    "This week we will write another cipher:\n",
    "\n",
    "```text\n",
    "Plain:  abcdefghijklmnopqrstuvwxyz\n",
    "Cipher: zyxwvutsrqponmlkjihgfedcba\n",
    "```\n",
    "\n",
    "To hide our tracks, when we encode, we split the string into blocks of 5 characters.  See the Unit Tests for examples.\n",
    "\n",
    "Write functions encode and decode that take a string and return an encoded or decoded string.\n",
    "\n",
    "I used a while loop to split the string into blocks.  We can predict the number of iterations, and use a for loop.  Remember that Slice is Forgiving.  \n",
    "\n",
    "```python\n",
    "    res = []\n",
    "    for i in range((len(text) + 4)//5):\n",
    "        res.append(text[:5])\n",
    "        text = text[5:]\n",
    "```\n",
    "I prefer the look of the while loop.  \n",
    "```python\n",
    "    res = []\n",
    "    while text:\n",
    "        res.append(text[:5])\n",
    "        text = text[5:]\n",
    "```\n"
   ]
  },
  {
   "cell_type": "code",
   "execution_count": 26,
   "metadata": {},
   "outputs": [],
   "source": [
    "import string\n",
    "\n",
    "def encode(text: str) -> str:\n",
    "    text = text.lower().replace(' ', '')\n",
    "\n",
    "    \n",
    "    # Make translation table\n",
    "    d = {}\n",
    "    \n",
    "    # First, add the lower-case letters\n",
    "    before = string.ascii_lowercase  # abcd...z\n",
    "    after = before[::-1]\n",
    "    for bef, aft in zip(before, after):\n",
    "        d[bef] = aft\n",
    "        \n",
    "    # Then add the numbers, mapped to themselves...\n",
    "    for ch in string.digits:\n",
    "        d[ch] = ch\n",
    "    \n",
    "    # Translate the text that is a letter or a number\n",
    "    code = [d[ch] for ch in text if ch.isalnum()]\n",
    "    text = ''.join(code)\n",
    "\n",
    "    # Break encoded text into a list of blocks\n",
    "    res = []\n",
    "    while text:\n",
    "        res.append(text[:5])\n",
    "        text = text[5:]\n",
    "\n",
    "    # Paste blocks back into a string\n",
    "    return ' '.join(res)\n",
    "\n",
    "\n",
    "def decode(ciphered_text: str) -> str:\n",
    "    # Encode it, and \n",
    "    result = encode(ciphered_text)\n",
    "\n",
    "    # remove the blanks\n",
    "    return result.replace(' ', '')"
   ]
  },
  {
   "cell_type": "markdown",
   "metadata": {},
   "source": [
    "## Unit Tests"
   ]
  },
  {
   "cell_type": "code",
   "execution_count": 27,
   "metadata": {},
   "outputs": [
    {
     "name": "stdout",
     "output_type": "stream",
     "text": [
      "Success!\n"
     ]
    }
   ],
   "source": [
    "def test_code():\n",
    "    assert encode(\"no\") == \"ml\"\n",
    "    assert encode(\"yes\") == \"bvh\"\n",
    "    assert encode(\"OMG\") == \"lnt\"\n",
    "    assert encode(\"O M G\") == \"lnt\"\n",
    "    assert encode(\"mindblowingly\") == \"nrmwy oldrm tob\"\n",
    "    assert encode(\"Testing, 1 2 3, testing.\") == \"gvhgr mt123 gvhgr mt\"\n",
    "    assert encode(\"Truth is fiction.\") == \"gifgs rhurx grlm\"\n",
    "\n",
    "    plaintext = \"The quick brown fox jumps over the lazy dog.\"\n",
    "    ciphertext = \"gsvjf rxpyi ldmul cqfnk hlevi gsvoz abwlt\"\n",
    "    assert encode(plaintext) == ciphertext\n",
    "    assert decode(\"zmlyh\") == \"anobs\"\n",
    "    assert decode(\"zmlyh gzxov rhlug vmzhg vkkrm thglm v\") == \"anobstacleisoftenasteppingstone\"\n",
    "    assert decode(\"gvhgr mt123 gvhgr mt\") == \"testing123testing\"\n",
    "\n",
    "    ciphertext = \"gsvjf rxpyi ldmul cqfnk hlevi gsvoz abwlt\"\n",
    "    plaintext = \"thequickbrownfoxjumpsoverthelazydog\"\n",
    "    assert decode(ciphertext) == plaintext\n",
    "\n",
    "    ciphertext = \"zmlyhgzxovrhlugvmzhgvkkrmthglmv\"\n",
    "    plaintext = \"anobstacleisoftenasteppingstone\"\n",
    "    assert decode(ciphertext) == plaintext\n",
    "    \n",
    "    assert decode(encode(\"Testing, 1 2 3, testing.\")) == \"testing123testing\"\n",
    "    \n",
    "    print('Success!')\n",
    "    \n",
    "test_code()"
   ]
  },
  {
   "cell_type": "markdown",
   "metadata": {},
   "source": [
    "## Problem 2: Dates\n",
    "\n",
    "Fill in the defintion of the three method below for a class Date "
   ]
  },
  {
   "cell_type": "markdown",
   "metadata": {},
   "source": [
    "## My solution\n",
    "\n",
    "My first attempt compared the tuples (d, m, y) rather than (y, m, d).  I was caught in the act.  "
   ]
  },
  {
   "cell_type": "code",
   "execution_count": null,
   "metadata": {},
   "outputs": [],
   "source": [
    "## The use of tuples in before() is similar to what is done with Time in Time2\n",
    "\n",
    "class Date(object):\n",
    "    \"Represents a Calendar date\"\n",
    "    \n",
    "    def __init__(self, day=0, month=0, year=0):\n",
    "        \"\"\"Initialize\"\"\"\n",
    "        self.day = day\n",
    "        self.month = month\n",
    "        self.year = year\n",
    "\n",
    "\n",
    "    def __str__(self):\n",
    "        \"\"\"Return a printable string representing the date: 'm/d/y'\"\"\"\n",
    "        return f\"{self.month}/{self.day}/{self.year}\"\n",
    "    \n",
    "\n",
    "    def before(self, other):\n",
    "        \"\"\"Is this date before other?\"\"\"\n",
    "        return (self.year, self.month, self.day) < (other.year, other.month, other.day)"
   ]
  },
  {
   "cell_type": "markdown",
   "metadata": {},
   "source": [
    "## Unit Tests"
   ]
  },
  {
   "cell_type": "code",
   "execution_count": null,
   "metadata": {},
   "outputs": [],
   "source": [
    "def test_dates():\n",
    "    t1 = Date(1, 2, 3)\n",
    "    assert t1.__str__() == '2/1/3'\n",
    "    t2 = Date(4, 5, 2)\n",
    "    assert t2.__str__() == '5/4/2'\n",
    "    \n",
    "    assert not t1.before(t1)\n",
    "    assert t2.before(t1)\n",
    "    assert not t1.before(t2)\n",
    " \n",
    "    t2 = Date(4, 1, 3)\n",
    "    assert t2.__str__() == '1/4/3'\n",
    "    \n",
    "    assert not t1.before(t1)\n",
    "    assert t2.before(t1)\n",
    "\n",
    "    t1 = Date(2, 2, 3)\n",
    "    t2 = Date(1, 2, 3)\n",
    "    assert t2.__str__() == '2/1/3'\n",
    "    \n",
    "    assert not t1.before(t1)\n",
    "    assert not t1.before(t2)\n",
    "    assert t2.before(t1)\n",
    "\n",
    "    print(\"Success!\")\n",
    "    \n",
    "test_dates()"
   ]
  },
  {
   "cell_type": "markdown",
   "metadata": {},
   "source": [
    "## Problem 3: Intervals\n",
    "\n",
    "This problems takes one of the share problems from Day 7 and solves it using Objects.\n",
    "\n",
    "Finish the definition of the class Interval.  The interval '[a..b]' includes all it\n",
    "Decide if two intervals are equal.  Print an interval as [a..b].  \n",
    "Decide if two intervals overlap, and merge two intervals.  \n",
    "\n",
    "### Errata\n",
    "\n",
    "I should have made contains() a method rather than a function\n",
    "\n",
    "I have added a method contains(), and used it to define the function contains() and the method intersect().\n",
    "\n",
    "```python\n",
    "    def intersect(self, other: Interval):\n",
    "        \"\"\"Do these intervals intersect?\"\"\"\n",
    "        return self.contains(other.min) or self.contains(other.max)  \\\n",
    "            or other.contains(self.min) or other.contains(self.max) \n",
    "    \n",
    "    \n",
    "    def contains(self, i: int):\n",
    "        \"\"\"Is the value i within the interval?\"\"\"\n",
    "        return (self.min <= i and i <= self.max)\n",
    "\n",
    "    \n",
    "def contains(p: Interval, i: int):\n",
    "    \"\"\"Is the value i within the closed interval p?\"\"\"\n",
    "    return p.contains(i)\n",
    "```\n",
    "\n",
    "You could also have defined the function contains() on it's own and used that in intersects\n",
    "```python\n",
    "    def intersect(self, other: Interval):\n",
    "        \"\"\"Do these intervals intersect?\"\"\"\n",
    "        return contains(self, other.min) or contains(self, other.max)  \\\n",
    "            or contains(other, self.min) or contains(other, self.max) \n",
    "\n",
    "\n",
    "def contains(p: Interval, i: int):\n",
    "    \"\"\"Is the value i within the closed interval p?\"\"\"\n",
    "    return (p.min <= i and i <= p.max)\n",
    "```\n",
    "\n",
    "\n",
    "\n",
    "Notice that we can find help for both versions of contains.  Looking at the 'signature' (parameters and return value) we see that the parameters differ.  "
   ]
  },
  {
   "cell_type": "code",
   "execution_count": 29,
   "metadata": {},
   "outputs": [],
   "source": [
    "class Interval(object):\n",
    "    \n",
    "    def __init__(self, a: int, b: int):\n",
    "        \"\"\"Initialize an inteval\"\"\"\n",
    "        self.min = min(a, b)\n",
    "        self.max = max(a, b)\n",
    "        \n",
    "        \n",
    "    def __eq__(self, other: Interval):\n",
    "        \"\"\"Are two intervals equal?\"\"\"\n",
    "        return self.min == other.min and self.max == other.max\n",
    "    \n",
    "    \n",
    "    def __str__(self):\n",
    "        \"\"\"Return string representing Interval\"\"\"\n",
    "        return f\"[{self.min}..{self.max}]\"\n",
    "    \n",
    "    \n",
    "    def intersect(self, other: Interval):\n",
    "        \"\"\"Do these intervals intersect?\"\"\"\n",
    "        return self.contains(other.min) or self.contains(other.max)  \\\n",
    "            or other.contains(self.min) or other.contains(self.max) \n",
    "    \n",
    "    \n",
    "    def merge(self, other: Interval):\n",
    "        \"\"\"Merge two intersecting Intervals\"\"\"\n",
    "        if not self.intersect(other):\n",
    "            raise ValueError(f\"Intervals {self} and {other} don't intersect\")\n",
    "        return Interval(min(self.min, other.min), max(self.max, other.max))\n",
    "    \n",
    "    \n",
    "    def contains(self, i: int):\n",
    "        \"\"\"Is the value i within the interval?\"\"\"\n",
    "        return (self.min <= i and i <= self.max)\n",
    "\n",
    "    \n",
    "def contains(p: Interval, i: int):\n",
    "    \"\"\"Is the value i within the closed interval p?\"\"\"\n",
    "    return p.contains(i)"
   ]
  },
  {
   "cell_type": "markdown",
   "metadata": {},
   "source": [
    "## Unit Tests"
   ]
  },
  {
   "cell_type": "code",
   "execution_count": 30,
   "metadata": {},
   "outputs": [
    {
     "name": "stdout",
     "output_type": "stream",
     "text": [
      "Success!\n"
     ]
    }
   ],
   "source": [
    "def test_interval():\n",
    "    assert Interval(1, 3) == Interval(1, 3)\n",
    "    assert Interval(1, 3) == Interval(3, 1)\n",
    "    assert Interval(1, 3).__str__() == '[1..3]'\n",
    "    assert Interval(1, 3).intersect(Interval(2, 4))\n",
    "    assert not Interval(1, 3).intersect(Interval(4, 7))\n",
    "    assert Interval(1, 3).merge(Interval(2, 4)) == Interval(1, 4)\n",
    "    \n",
    "    print('Success!')\n",
    "    \n",
    "test_interval()"
   ]
  },
  {
   "cell_type": "code",
   "execution_count": 31,
   "metadata": {},
   "outputs": [
    {
     "name": "stdout",
     "output_type": "stream",
     "text": [
      "Help on function contains in module __main__:\n",
      "\n",
      "contains(self, i: int)\n",
      "    Is the value i within the interval?\n",
      "\n"
     ]
    }
   ],
   "source": [
    "# Look at method contains()\n",
    "#    Yes, help calls it a function rather than a method....\n",
    "\n",
    "help(Interval.contains)"
   ]
  },
  {
   "cell_type": "code",
   "execution_count": 32,
   "metadata": {},
   "outputs": [
    {
     "name": "stdout",
     "output_type": "stream",
     "text": [
      "Help on function contains in module __main__:\n",
      "\n",
      "contains(p: __main__.Interval, i: int)\n",
      "    Is the value i within the closed interval p?\n",
      "\n"
     ]
    }
   ],
   "source": [
    "# Look at function contains()\n",
    "\n",
    "help(contains)"
   ]
  },
  {
   "cell_type": "markdown",
   "metadata": {},
   "source": [
    "## Try to merge non-intersecting Intervals\n",
    "\n",
    "We didn't ask you to raise an exception, but this is what it might look like."
   ]
  },
  {
   "cell_type": "code",
   "execution_count": 33,
   "metadata": {},
   "outputs": [
    {
     "ename": "ValueError",
     "evalue": "Intervals [1..3] and [6..16] don't intersect",
     "output_type": "error",
     "traceback": [
      "\u001b[0;31m---------------------------------------------------------------------------\u001b[0m",
      "\u001b[0;31mValueError\u001b[0m                                Traceback (most recent call last)",
      "\u001b[0;32m<ipython-input-33-aebb7ef45087>\u001b[0m in \u001b[0;36m<module>\u001b[0;34m\u001b[0m\n\u001b[0;32m----> 1\u001b[0;31m \u001b[0mInterval\u001b[0m\u001b[0;34m(\u001b[0m\u001b[0;36m1\u001b[0m\u001b[0;34m,\u001b[0m \u001b[0;36m3\u001b[0m\u001b[0;34m)\u001b[0m\u001b[0;34m.\u001b[0m\u001b[0mmerge\u001b[0m\u001b[0;34m(\u001b[0m\u001b[0mInterval\u001b[0m\u001b[0;34m(\u001b[0m\u001b[0;36m16\u001b[0m\u001b[0;34m,\u001b[0m \u001b[0;36m6\u001b[0m\u001b[0;34m)\u001b[0m\u001b[0;34m)\u001b[0m\u001b[0;34m\u001b[0m\u001b[0;34m\u001b[0m\u001b[0m\n\u001b[0m",
      "\u001b[0;32m<ipython-input-29-54180306a249>\u001b[0m in \u001b[0;36mmerge\u001b[0;34m(self, other)\u001b[0m\n\u001b[1;32m     22\u001b[0m         \u001b[0;34m\"\"\"Merge two intersecting Intervals\"\"\"\u001b[0m\u001b[0;34m\u001b[0m\u001b[0;34m\u001b[0m\u001b[0m\n\u001b[1;32m     23\u001b[0m         \u001b[0;32mif\u001b[0m \u001b[0;32mnot\u001b[0m \u001b[0mself\u001b[0m\u001b[0;34m.\u001b[0m\u001b[0mintersect\u001b[0m\u001b[0;34m(\u001b[0m\u001b[0mother\u001b[0m\u001b[0;34m)\u001b[0m\u001b[0;34m:\u001b[0m\u001b[0;34m\u001b[0m\u001b[0;34m\u001b[0m\u001b[0m\n\u001b[0;32m---> 24\u001b[0;31m             \u001b[0;32mraise\u001b[0m \u001b[0mValueError\u001b[0m\u001b[0;34m(\u001b[0m\u001b[0;34mf\"Intervals {self} and {other} don't intersect\"\u001b[0m\u001b[0;34m)\u001b[0m\u001b[0;34m\u001b[0m\u001b[0;34m\u001b[0m\u001b[0m\n\u001b[0m\u001b[1;32m     25\u001b[0m         \u001b[0;32mreturn\u001b[0m \u001b[0mInterval\u001b[0m\u001b[0;34m(\u001b[0m\u001b[0mmin\u001b[0m\u001b[0;34m(\u001b[0m\u001b[0mself\u001b[0m\u001b[0;34m.\u001b[0m\u001b[0mmin\u001b[0m\u001b[0;34m,\u001b[0m \u001b[0mother\u001b[0m\u001b[0;34m.\u001b[0m\u001b[0mmin\u001b[0m\u001b[0;34m)\u001b[0m\u001b[0;34m,\u001b[0m \u001b[0mmax\u001b[0m\u001b[0;34m(\u001b[0m\u001b[0mself\u001b[0m\u001b[0;34m.\u001b[0m\u001b[0mmax\u001b[0m\u001b[0;34m,\u001b[0m \u001b[0mother\u001b[0m\u001b[0;34m.\u001b[0m\u001b[0mmax\u001b[0m\u001b[0;34m)\u001b[0m\u001b[0;34m)\u001b[0m\u001b[0;34m\u001b[0m\u001b[0;34m\u001b[0m\u001b[0m\n\u001b[1;32m     26\u001b[0m \u001b[0;34m\u001b[0m\u001b[0m\n",
      "\u001b[0;31mValueError\u001b[0m: Intervals [1..3] and [6..16] don't intersect"
     ]
    }
   ],
   "source": [
    "Interval(1, 3).merge(Interval(16, 6))"
   ]
  }
 ],
 "metadata": {
  "kernelspec": {
   "display_name": "Python 3",
   "language": "python",
   "name": "python3"
  },
  "language_info": {
   "codemirror_mode": {
    "name": "ipython",
    "version": 3
   },
   "file_extension": ".py",
   "mimetype": "text/x-python",
   "name": "python",
   "nbconvert_exporter": "python",
   "pygments_lexer": "ipython3",
   "version": "3.8.8"
  }
 },
 "nbformat": 4,
 "nbformat_minor": 1
}
