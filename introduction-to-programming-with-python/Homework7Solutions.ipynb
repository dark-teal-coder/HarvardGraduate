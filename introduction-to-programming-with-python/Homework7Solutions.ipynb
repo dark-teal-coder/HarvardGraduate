{
 "cells": [
  {
   "cell_type": "markdown",
   "metadata": {},
   "source": [
    "# Homework 7 Solutions"
   ]
  },
  {
   "cell_type": "markdown",
   "metadata": {},
   "source": [
    "## Problem 1: List of Squares\n",
    "\n",
    "The List Comprehension below takes an integer N and returns the squares of the first N integers.  \n",
    "\n",
    "Rewrite the function without using List Comprehensions\n",
    "\n",
    "```python\n",
    "    def squares(N):\n",
    "        return [i * i for i in range(N+1)]\n",
    "```"
   ]
  },
  {
   "cell_type": "code",
   "execution_count": 1,
   "metadata": {},
   "outputs": [],
   "source": [
    "# Takes an integer and returns a list of the squares up to N*N\n",
    "# squares(4) would return [0, 1, 4, 9, 16]\n",
    "def squares(N):\n",
    "    \"\"\"Return a sequence of squares\"\"\"\n",
    "    res = []\n",
    "    \n",
    "    for i in range(N+1):\n",
    "        res.append(i*i)\n",
    "        \n",
    "    return res"
   ]
  },
  {
   "cell_type": "markdown",
   "metadata": {},
   "source": [
    "### Unit Tests for Squares"
   ]
  },
  {
   "cell_type": "code",
   "execution_count": 2,
   "metadata": {},
   "outputs": [
    {
     "data": {
      "text/plain": [
       "'Pass'"
      ]
     },
     "execution_count": 2,
     "metadata": {},
     "output_type": "execute_result"
    }
   ],
   "source": [
    "def test_squares():\n",
    "    \"\"\"Test squares()\"\"\"\n",
    "    assert(squares(1) == [0, 1])\n",
    "    assert(squares(4) == [0, 1, 4, 9, 16])\n",
    "    assert(squares(9) == [0, 1, 4, 9, 16, 25, 36, 49, 64, 81])\n",
    "    \n",
    "    return 'Pass'\n",
    "\n",
    "test_squares()"
   ]
  },
  {
   "cell_type": "markdown",
   "metadata": {},
   "source": [
    "## Problem 2: Whozit\n",
    "\n",
    "The List Comprehension below takes an integer and returns a list.\n",
    "\n",
    "Rewrite Whozit without using a List Comprehension\n",
    "\n",
    "```python\n",
    "    def whozit(n):\n",
    "        return [i for i in range(n) if '3' in str(i)]\n",
    "```"
   ]
  },
  {
   "cell_type": "code",
   "execution_count": 3,
   "metadata": {},
   "outputs": [],
   "source": [
    "def whozit(n):\n",
    "    \"\"\"Return the numbers in range(n) that include the digit '3'\"\"\"\n",
    "    res = []\n",
    "    \n",
    "    for i in range(n):\n",
    "        if '3' in str(i):\n",
    "            res.append(i)\n",
    "            \n",
    "    return res"
   ]
  },
  {
   "cell_type": "markdown",
   "metadata": {},
   "source": [
    "### Unit tests for Whozit"
   ]
  },
  {
   "cell_type": "code",
   "execution_count": 4,
   "metadata": {},
   "outputs": [
    {
     "name": "stdout",
     "output_type": "stream",
     "text": [
      "Success\n"
     ]
    }
   ],
   "source": [
    "def test_whozit():\n",
    "    assert whozit(20) == [3, 13]\n",
    "    assert whozit(30) == [3, 13, 23]\n",
    "    assert whozit(40) == [3, 13, 23, 30, 31, 32, 33, 34, 35, 36, 37, 38, 39]\n",
    "\n",
    "    print(\"Success\")\n",
    "    \n",
    "test_whozit()"
   ]
  },
  {
   "cell_type": "markdown",
   "metadata": {},
   "source": [
    "## Problem 3: Loop Garou\n",
    "\n",
    "Rewrite loop_garou as a List Comprehension, and describe what it does\n",
    "\n",
    "```python\n",
    "    def loop_garou(s):\n",
    "        res = []\n",
    "        for ch in s:\n",
    "            if ch in 'aeiou':\n",
    "                res.append(ch)\n",
    "        return '-'.join(res)\n",
    "```"
   ]
  },
  {
   "cell_type": "code",
   "execution_count": 5,
   "metadata": {},
   "outputs": [],
   "source": [
    "def loop_garou(s):\n",
    "    \"\"\"Return the vowels in the string seperated by a dash\"\"\"\n",
    "    \n",
    "    return '-'.join([ch for ch in s if ch in 'aeiou'])"
   ]
  },
  {
   "cell_type": "markdown",
   "metadata": {},
   "source": [
    "### Unit tests for Loop Garou"
   ]
  },
  {
   "cell_type": "code",
   "execution_count": 6,
   "metadata": {},
   "outputs": [
    {
     "name": "stdout",
     "output_type": "stream",
     "text": [
      "Success\n"
     ]
    }
   ],
   "source": [
    "def test_loop_garou():\n",
    "    assert loop_garou('We are his sisters') == 'e-a-e-i-i-e'\n",
    "    assert loop_garou('his cousins and his aunts') == 'i-o-u-i-a-i-a-u'\n",
    "    \n",
    "    print('Success')\n",
    "    \n",
    "test_loop_garou()"
   ]
  },
  {
   "cell_type": "markdown",
   "metadata": {},
   "source": [
    "## Problem 4: Common Elements\n",
    "\n",
    "Write a function common that takes two lists, and return a list of the items that appear in both lists, in the order they appear in the first list.\n",
    "\n",
    "Given [1, 3, 2, 5, 6, 0, 7] and [7, 4, 3, 2, 1], you should return [1, 3, 2, 7]"
   ]
  },
  {
   "cell_type": "code",
   "execution_count": 7,
   "metadata": {},
   "outputs": [],
   "source": [
    "def common(lst1, lst2):\n",
    "    return [val for val in lst1 if val in lst2]"
   ]
  },
  {
   "cell_type": "markdown",
   "metadata": {},
   "source": [
    "### Unit Tests for Common"
   ]
  },
  {
   "cell_type": "code",
   "execution_count": 8,
   "metadata": {},
   "outputs": [
    {
     "name": "stdout",
     "output_type": "stream",
     "text": [
      "Success\n"
     ]
    }
   ],
   "source": [
    "def test_common():\n",
    "    assert common([1, 3, 2, 5, 6, 0, 7], [7, 4, 3, 2, 1]) == [1, 3, 2, 7]\n",
    "    assert common([1, 2, 3, 4, 5], [7, 5, 3, 1]) == [1, 3, 5]\n",
    "    assert common([7, 5, 3, 1], [1, 2, 3, 4, 5]) == [5, 3, 1]\n",
    "    assert common([3*i for i in range(7)], [2*i for i in range(10)]) == [0, 6, 12, 18]\n",
    "      \n",
    "    print('Success')\n",
    "    \n",
    "test_common()"
   ]
  },
  {
   "cell_type": "markdown",
   "metadata": {},
   "source": [
    "## Problem 5: How much space are my pictures taking?\n",
    "\n",
    "Write a function that takes a directory and returns the combined size, in bytes, of all the .jpg files below the directory\n",
    "\n",
    "You may be storing more files in a different format: you can look for those files instead.\n",
    "\n",
    "Hint: This is a filter, followed by a map, followed by a reduce to combine the file sizes into a total.  You don't need to treat it that way: you can just keep track of the running total.  \n",
    "\n",
    "    def allocation(dirname: str) -> int:"
   ]
  },
  {
   "cell_type": "code",
   "execution_count": 9,
   "metadata": {},
   "outputs": [],
   "source": [
    "import os\n",
    "\n",
    "def walk(dirname: str, ext: str) -> int:\n",
    "    \"Perform a recursive traverse of directories and return sum of file sizes of given type\"\n",
    "\n",
    "    # How much space\n",
    "    fileAllocation = 0\n",
    "\n",
    "    # Walk over the files in this directory\n",
    "    for name in os.listdir(dirname):\n",
    "\n",
    "        # Construct a full path\n",
    "        path = os.path.join(dirname, name)\n",
    "\n",
    "        # Check file sizes, and traverse subdirectories\n",
    "        if os.path.isfile(path):\n",
    "            if path.endswith(ext):\n",
    "                fileAllocation = fileAllocation + os.path.getsize(path)\n",
    "        else:\n",
    "            fileAllocation = fileAllocation + walk(path, ext)\n",
    "\n",
    "    return fileAllocation"
   ]
  },
  {
   "cell_type": "markdown",
   "metadata": {},
   "source": [
    "## Our function can count .jpg or .py files\n",
    "\n",
    "Call it with extension '.jpg'"
   ]
  },
  {
   "cell_type": "code",
   "execution_count": 10,
   "metadata": {},
   "outputs": [],
   "source": [
    "def allocation(dirname: str) -> int:\n",
    "    ext = 'jpg'\n",
    "    \n",
    "    if not os.path.isdir(dirname):\n",
    "        print(f\"Sorry: {dirname} is not a directory\")\n",
    "    else:\n",
    "        return walk(dirname, ext)"
   ]
  },
  {
   "cell_type": "markdown",
   "metadata": {},
   "source": [
    "## How many jpg files do I have below ..?\n",
    "\n",
    "I only have two, but they are in different directories"
   ]
  },
  {
   "cell_type": "code",
   "execution_count": 21,
   "metadata": {},
   "outputs": [
    {
     "name": "stdout",
     "output_type": "stream",
     "text": [
      "../Google/google-python-exercises/copyspecial/zz__something__.jpg\r\n",
      "../Solutions/KeepCalm.jpg\r\n"
     ]
    }
   ],
   "source": [
    "! find .. | grep jpg$ "
   ]
  },
  {
   "cell_type": "markdown",
   "metadata": {},
   "source": [
    "## Now try the program"
   ]
  },
  {
   "cell_type": "code",
   "execution_count": 11,
   "metadata": {},
   "outputs": [
    {
     "name": "stdout",
     "output_type": "stream",
     "text": [
      "116604\n"
     ]
    }
   ],
   "source": [
    "print(allocation('..'))"
   ]
  },
  {
   "cell_type": "markdown",
   "metadata": {},
   "source": [
    "## Test the general version\n",
    "\n",
    "How many bytes of Python files do we have in directory day5?"
   ]
  },
  {
   "cell_type": "code",
   "execution_count": 12,
   "metadata": {},
   "outputs": [
    {
     "name": "stdout",
     "output_type": "stream",
     "text": [
      "      61     182    1686 ../../Programs/day5/Officialwhich.py\r\n",
      "      58     175    1276 ../../Programs/day5/bigram.py\r\n",
      "      16      51     341 ../../Programs/day5/cross0.5.py\r\n",
      "      15      50     318 ../../Programs/day5/cross0.6.py\r\n",
      "      19      65     438 ../../Programs/day5/cross0.7.py\r\n",
      "      21      72     506 ../../Programs/day5/cross0.8.py\r\n",
      "      14      49     287 ../../Programs/day5/cross0.py\r\n",
      "      33      93     597 ../../Programs/day5/cross1.py\r\n",
      "      33      80     569 ../../Programs/day5/cross2.py\r\n",
      "      31      70     537 ../../Programs/day5/crossword.py\r\n",
      "      10      24     142 ../../Programs/day5/filter.py\r\n",
      "      40     130    1114 ../../Programs/day5/findFiles.py\r\n",
      "      57     151    1300 ../../Programs/day5/findLargest.py\r\n",
      "      88     227    2190 ../../Programs/day5/findLargest_UnitTest.py\r\n",
      "      55     153    1074 ../../Programs/day5/findLibrary.py\r\n",
      "      49     160    1238 ../../Programs/day5/findPhotos.py\r\n",
      "       9      16     165 ../../Programs/day5/is_legal.py\r\n",
      "      55     181    1228 ../../Programs/day5/od.py\r\n",
      "      55     181    1239 ../../Programs/day5/od1.py\r\n",
      "      29      66     503 ../../Programs/day5/palindrome.py\r\n",
      "      26      65     452 ../../Programs/day5/printString.py\r\n",
      "      42      99     848 ../../Programs/day5/pure_vowel_test.py\r\n",
      "      14      40     335 ../../Programs/day5/pure_vowels.py\r\n",
      "      25      57     454 ../../Programs/day5/search.py\r\n",
      "      34     118     819 ../../Programs/day5/stripComments.py\r\n",
      "       6      10     110 ../../Programs/day5/sviske.py\r\n",
      "      14      31     224 ../../Programs/day5/utils.py\r\n",
      "      36      90     647 ../../Programs/day5/vowels.py\r\n",
      "      25      69     473 ../../Programs/day5/vowels.re.py\r\n",
      "      34      87     616 ../../Programs/day5/vowels2.py\r\n",
      "      51     118     947 ../../Programs/day5/vowels_test.py\r\n",
      "      62     157    1378 ../../Programs/day5/vowels_unit_test.py\r\n",
      "      38     106     812 ../../Programs/day5/walk.py\r\n",
      "      45     121     921 ../../Programs/day5/walklist.py\r\n",
      "      30      86     527 ../../Programs/day5/wc.py\r\n",
      "      29      88     548 ../../Programs/day5/wc1.py\r\n",
      "      58     168    1208 ../../Programs/day5/which.py\r\n",
      "    1317    3686   28067 total\r\n"
     ]
    }
   ],
   "source": [
    "! wc ../../Programs/day5/*.py"
   ]
  },
  {
   "cell_type": "markdown",
   "metadata": {},
   "source": [
    "### *So we expect to see 28067 bytes*"
   ]
  },
  {
   "cell_type": "code",
   "execution_count": 13,
   "metadata": {},
   "outputs": [
    {
     "data": {
      "text/plain": [
       "28067"
      ]
     },
     "execution_count": 13,
     "metadata": {},
     "output_type": "execute_result"
    }
   ],
   "source": [
    "walk('../../Programs/day5', '.py')"
   ]
  },
  {
   "cell_type": "markdown",
   "metadata": {},
   "source": [
    "## Problem 6: Austin City Limits\n",
    "\n",
    "We will provide a CSV files listing several years worth of shows at Austin City Limits, a concert venue that has spawned a TV show.  \n",
    "\n",
    "Each concert has a number of attributes, including a Genre.  Bubble Gum and and Smooth Jazz are poorly represented, but there are a number of other Genres.  Find the frequency of each Genre, and list them in order. \n",
    "\n",
    "https://github.com/KarenWest/FundamentalsOfDataAnalysisInLanguageR/blob/master/AustinCityLimits.csv"
   ]
  },
  {
   "cell_type": "code",
   "execution_count": 14,
   "metadata": {},
   "outputs": [],
   "source": [
    "# Austin City Limits problem\n",
    "#\n",
    "# Jeff Parker   Oct 2021\n",
    "\n",
    "import sys\n",
    "import csv\n",
    "import string\n",
    "from collections import defaultdict\n",
    "\n",
    "\n",
    "def import_file(fileName, pos):\n",
    "    \"Takes a filename, returns a dictionary of Genres\"\n",
    "\n",
    "    # Dictionary as Counter Design Pattern\n",
    "    # Dictionary to hold count for each item\n",
    "    # We use a Default Dict to simplify the coding\n",
    "    d = defaultdict(int)\n",
    "\n",
    "    try:                             # Try to open file: EFAP\n",
    "        with open(fileName, 'rt') as f:\n",
    "            reader = csv.reader(f)\n",
    "            \n",
    "            first = True\n",
    "\n",
    "            # Get a new line from file\n",
    "            for row in reader:\n",
    "                if not first:\n",
    "                    item = row[pos]\n",
    "                    d[item] = d[item] + 1\n",
    "                else:\n",
    "                    first = False\n",
    "\n",
    "    except FileNotFoundError:\n",
    "        print(f\"No such file: {fileName}\")\n",
    "    except Exception as err:\n",
    "        print(f\"Exception: {err}\")\n",
    "\n",
    "    return d\n",
    "\n",
    "def build_list(d):\n",
    "    \"Take the dictionary and return a list of most popular genres\"\n",
    "\n",
    "    # Build a list of count and Genre\n",
    "    res = [[d[item], item] for item in d]\n",
    "\n",
    "    # Sort so the largest are first\n",
    "    return sorted(res, reverse=True)"
   ]
  },
  {
   "cell_type": "markdown",
   "metadata": {},
   "source": [
    "## Run from Command Line\n",
    "\n",
    "This doesn't work in a notebook, part infinity"
   ]
  },
  {
   "cell_type": "code",
   "execution_count": 15,
   "metadata": {},
   "outputs": [
    {
     "name": "stdout",
     "output_type": "stream",
     "text": [
      "No such file: -f\n"
     ]
    }
   ],
   "source": [
    "# Read in file name from command line\n",
    "if (len(sys.argv) < 2):\n",
    "    print(\"Usage:\", sys.argv[0], \"<filename>\")\n",
    "else:\n",
    "    # Get a dictionary counting instances of each genre\n",
    "    d = import_file(sys.argv[1], 8)\n",
    "\n",
    "    # Build a sorted list from the dictionary\n",
    "    lst = build_list(d)\n",
    "    for pair in lst[:10]:\n",
    "        print(pair)"
   ]
  },
  {
   "cell_type": "markdown",
   "metadata": {},
   "source": [
    "## Run from Notebook\n",
    "\n",
    "You will need to change the path"
   ]
  },
  {
   "cell_type": "code",
   "execution_count": 16,
   "metadata": {},
   "outputs": [
    {
     "name": "stdout",
     "output_type": "stream",
     "text": [
      "[68, 'Rock/Folk/Indie']\n",
      "[18, 'Country']\n",
      "[17, 'Singer-Songwriter']\n",
      "[13, 'Jazz/Blues']\n"
     ]
    }
   ],
   "source": [
    "d = import_file('../../Data/AustinCityLimits.csv', 8)\n",
    "\n",
    "# Build a sorted list from the dictionary\n",
    "lst = build_list(d)\n",
    "for pair in lst[:10]:\n",
    "    print(pair)"
   ]
  },
  {
   "cell_type": "markdown",
   "metadata": {},
   "source": [
    "## I see\n",
    "\n",
    "```python\n",
    "[68, 'Rock/Folk/Indie']\n",
    "[18, 'Country']\n",
    "[17, 'Singer-Songwriter']\n",
    "[13, 'Jazz/Blues']\n",
    "```"
   ]
  }
 ],
 "metadata": {
  "kernelspec": {
   "display_name": "Python 3",
   "language": "python",
   "name": "python3"
  },
  "language_info": {
   "codemirror_mode": {
    "name": "ipython",
    "version": 3
   },
   "file_extension": ".py",
   "mimetype": "text/x-python",
   "name": "python",
   "nbconvert_exporter": "python",
   "pygments_lexer": "ipython3",
   "version": "3.8.8"
  }
 },
 "nbformat": 4,
 "nbformat_minor": 1
}
