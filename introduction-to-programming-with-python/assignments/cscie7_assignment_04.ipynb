{
 "cells": [
  {
   "cell_type": "markdown",
   "metadata": {},
   "source": [
    "# Homework 4\n",
    "## Fill in your name"
   ]
  },
  {
   "cell_type": "code",
   "execution_count": 1,
   "metadata": {},
   "outputs": [],
   "source": [
    "first_name = \"Roxanne\"\n",
    "last_name = \"Saewong\"\n",
    "nick_name = \"Roxy\"\n",
    "\n",
    "assert(len(first_name) != 0), \"First name is missing\"\n",
    "assert(len(last_name)  != 0), \"Last name is missing\"\n",
    "assert(len(nick_name)  != 0), \"Nickname is missing\""
   ]
  },
  {
   "cell_type": "markdown",
   "metadata": {},
   "source": [
    "## This assignment uses an idiom called Filtering\n",
    "\n",
    "**Filtering** - running through a sequence of items, and testing each item with a Boolean function.  \n",
    "\n",
    "We filter your luggage at the airport.  We look at each item in your suitcase, and stop you if you have a gun, explosives, or a bottle of water.  \n",
    "\n",
    "*We use filtering to decide if we should let you board*\n",
    "\n",
    "We filter our reciepts after a trip.  We can charge the meals and the room to the company, but can't charge the tickets to see Buddy Guy.  \n",
    "\n",
    "*We are filtering to find the sublist of items to claim*"
   ]
  },
  {
   "cell_type": "markdown",
   "metadata": {},
   "source": [
    "## Problem 1"
   ]
  },
  {
   "cell_type": "markdown",
   "metadata": {},
   "source": [
    "## is_vowel()\n",
    "\n",
    "Is this character a vowel?  \n",
    "\n",
    "This function takes a string and returns a Boolean.\n",
    "\n",
    "```python\n",
    "    def is_vowel(ch: str) -> bool:\n",
    "```\n",
    "\n",
    "*Hint: Study the Unit Tests*"
   ]
  },
  {
   "cell_type": "markdown",
   "metadata": {},
   "source": [
    "<div class=\"alert alert-block alert-info\">\n",
    "Fill in your function definition in the cell below.\n",
    "</div>"
   ]
  },
  {
   "cell_type": "code",
   "execution_count": 16,
   "metadata": {},
   "outputs": [
    {
     "name": "stdout",
     "output_type": "stream",
     "text": [
      "a is a vowel.\n",
      "z is not a vowel.\n",
      "This is not a character.\n"
     ]
    }
   ],
   "source": [
    "def is_vowel(ch: str) -> bool:\n",
    "    \"\"\"Check if this character is a vowel\"\"\"\n",
    "    if len(ch) != 1: \n",
    "        print(\"This is not a character.\")\n",
    "        ## Jump out of if-statement\n",
    "        return \n",
    "    vowels = ['A', 'E', 'I', 'O', 'U']\n",
    "    up_ch = ch.upper()\n",
    "    boo = False \n",
    "    if up_ch in vowels: \n",
    "        print(f\"{ch} is a vowel.\")\n",
    "        boo = True \n",
    "    else: \n",
    "        print(f\"{ch} is not a vowel.\")\n",
    "#     print(boo)\n",
    "    return boo\n",
    "\n",
    "is_vowel('a')\n",
    "is_vowel('z')\n",
    "is_vowel('abc')"
   ]
  },
  {
   "cell_type": "markdown",
   "metadata": {},
   "source": [
    "### Test cases for is_vowel()"
   ]
  },
  {
   "cell_type": "markdown",
   "metadata": {},
   "source": [
    "<div class=\"alert alert-block alert-danger\">\n",
    "Run the cell below to call your function.\n",
    "</div>"
   ]
  },
  {
   "cell_type": "code",
   "execution_count": 17,
   "metadata": {},
   "outputs": [
    {
     "name": "stdout",
     "output_type": "stream",
     "text": [
      "a is a vowel.\n",
      "e is a vowel.\n",
      "i is a vowel.\n",
      "o is a vowel.\n",
      "u is a vowel.\n",
      "A is a vowel.\n",
      "E is a vowel.\n",
      "I is a vowel.\n",
      "O is a vowel.\n",
      "U is a vowel.\n",
      "b is not a vowel.\n",
      "B is not a vowel.\n",
      "c is not a vowel.\n",
      "C is not a vowel.\n",
      "d is not a vowel.\n",
      "D is not a vowel.\n",
      "f is not a vowel.\n",
      "F is not a vowel.\n",
      "g is not a vowel.\n",
      "G is not a vowel.\n",
      "h is not a vowel.\n",
      "H is not a vowel.\n",
      "j is not a vowel.\n",
      "J is not a vowel.\n",
      "k is not a vowel.\n",
      "K is not a vowel.\n",
      "l is not a vowel.\n",
      "L is not a vowel.\n",
      "m is not a vowel.\n",
      "M is not a vowel.\n",
      "n is not a vowel.\n",
      "N is not a vowel.\n",
      "p is not a vowel.\n",
      "P is not a vowel.\n",
      "q is not a vowel.\n",
      "Q is not a vowel.\n",
      "r is not a vowel.\n",
      "R is not a vowel.\n",
      "s is not a vowel.\n",
      "S is not a vowel.\n",
      "t is not a vowel.\n",
      "T is not a vowel.\n",
      "v is not a vowel.\n",
      "V is not a vowel.\n",
      "w is not a vowel.\n",
      "W is not a vowel.\n",
      "x is not a vowel.\n",
      "X is not a vowel.\n",
      "y is not a vowel.\n",
      "Y is not a vowel.\n",
      "z is not a vowel.\n",
      "Z is not a vowel.\n",
      "Success!\n"
     ]
    }
   ],
   "source": [
    "import string\n",
    "\n",
    "def validate_vowel():\n",
    "    for ch in 'aeiouAEIOU':\n",
    "        assert is_vowel(ch), f\"'{ch}' should be a vowel\"\n",
    "\n",
    "    for ch in string.ascii_lowercase:\n",
    "        if ch not in 'aeiou':\n",
    "            assert not is_vowel(ch), f\"'{ch}' is not a vowel\"\n",
    "            assert not is_vowel(ch.upper()), f\"'{ch.upper()}' is not a vowel\"\n",
    "            \n",
    "    print('Success!')\n",
    "\n",
    "validate_vowel()"
   ]
  },
  {
   "cell_type": "markdown",
   "metadata": {},
   "source": [
    "### Our Unit Test uses filtering\n",
    "\n",
    "In this unit test, we run through a list of vowels looking for a counterexample.  "
   ]
  },
  {
   "cell_type": "markdown",
   "metadata": {},
   "source": [
    "## Problem 2: has_all_vowels()\n",
    "\n",
    "Does the string contain all the vowels?\n",
    "\n",
    "This function takes a string and returns a Boolean.\n",
    "\n",
    "```python\n",
    "    def has_all_vowels(word: str) -> bool:\n",
    "```"
   ]
  },
  {
   "cell_type": "markdown",
   "metadata": {},
   "source": [
    "<div class=\"alert alert-block alert-info\">\n",
    "Fill in your function definition in the cell below.\n",
    "</div>"
   ]
  },
  {
   "cell_type": "code",
   "execution_count": 22,
   "metadata": {},
   "outputs": [
    {
     "name": "stdout",
     "output_type": "stream",
     "text": [
      "True\n",
      "False\n",
      "False\n"
     ]
    },
    {
     "data": {
      "text/plain": [
       "False"
      ]
     },
     "execution_count": 22,
     "metadata": {},
     "output_type": "execute_result"
    }
   ],
   "source": [
    "def has_all_vowels(word: str) -> bool:\n",
    "    \"\"\"Check if this word has all the vowels\"\"\"\n",
    "    vowels = \"aeiou\"\n",
    "    boo = False \n",
    "    for v in vowels: \n",
    "        if v in word.lower(): \n",
    "            # print(f\"{v} is in the word \\\"{word}\\\"\")\n",
    "            boo = True \n",
    "        else: \n",
    "            # print(f\"{v} is missing in the word \\\"{word}\\\"\") \n",
    "            boo = False\n",
    "            ## Jump out of for-loop \n",
    "            break \n",
    "    print(boo) \n",
    "    return boo\n",
    "\n",
    "has_all_vowels(\"vexatious\")\n",
    "has_all_vowels(\"anxious\")\n",
    "has_all_vowels(\"xyz\")"
   ]
  },
  {
   "cell_type": "markdown",
   "metadata": {},
   "source": [
    "### Test cases for has_all_vowels()"
   ]
  },
  {
   "cell_type": "markdown",
   "metadata": {},
   "source": [
    "<div class=\"alert alert-block alert-danger\">\n",
    "Run the cell below to call your function.\n",
    "</div>"
   ]
  },
  {
   "cell_type": "code",
   "execution_count": 23,
   "metadata": {},
   "outputs": [
    {
     "name": "stdout",
     "output_type": "stream",
     "text": [
      "True\n",
      "True\n",
      "False\n",
      "False\n",
      "False\n",
      "False\n",
      "False\n",
      "False\n",
      "False\n",
      "Success!\n"
     ]
    }
   ],
   "source": [
    "def validate_all_vowels():\n",
    "    assert has_all_vowels('vexatious'), \"'vexatious' has all the vowels\"\n",
    "    assert has_all_vowels('VEXATIOUS'), \"'VEXATIOUS' has all the vowels\"\n",
    "\n",
    "    # Now remove one vowel at a time\n",
    "    # Each function call should return False\n",
    "    assert not has_all_vowels('aaaaaeeeeeiiiiioooo'), \"Missing 'u'\"\n",
    "    assert not has_all_vowels('aaeio'), \"Missing 'u'\"\n",
    "    assert not has_all_vowels('vxatious'), \"Missing 'e'\"\n",
    "    assert not has_all_vowels('vextious'), \"Missing 'a'\"\n",
    "    assert not has_all_vowels('vexatous'), \"Missing 'i'\"\n",
    "    assert not has_all_vowels('vexatius'), \"Missing 'o'\"\n",
    "    assert not has_all_vowels('vexatios'), \"Missing 'u'\"\n",
    "\n",
    "    print('Success!')\n",
    "    \n",
    "validate_all_vowels()"
   ]
  },
  {
   "cell_type": "markdown",
   "metadata": {},
   "source": [
    "## Problem 3: is_all_vowels()\n",
    "\n",
    "Is every character in a string a vowel?\n",
    "\n",
    "This function takes a string and returns a Boolean.\n",
    "\n",
    "```python\n",
    "    def is_all_vowels(word: str) -> bool:\n",
    "```"
   ]
  },
  {
   "cell_type": "markdown",
   "metadata": {},
   "source": [
    "<div class=\"alert alert-block alert-info\">\n",
    "Fill in your function definition in the cell below.\n",
    "</div>"
   ]
  },
  {
   "cell_type": "code",
   "execution_count": 6,
   "metadata": {},
   "outputs": [
    {
     "name": "stdout",
     "output_type": "stream",
     "text": [
      "True\n",
      "True\n",
      "True\n",
      "False\n"
     ]
    },
    {
     "data": {
      "text/plain": [
       "False"
      ]
     },
     "execution_count": 6,
     "metadata": {},
     "output_type": "execute_result"
    }
   ],
   "source": [
    "def is_all_vowels(word: str) -> bool: \n",
    "    \"\"\"Check if every character in the string is a vowel\"\"\"\n",
    "    vowels = \"AEIOU\"\n",
    "    boo = False \n",
    "    for ch in word.upper(): \n",
    "        if ch not in vowels: \n",
    "            boo = False \n",
    "            ## Jump out of for-loop \n",
    "            break  \n",
    "        else: \n",
    "            boo = True\n",
    "    print(boo) \n",
    "    return boo\n",
    "\n",
    "is_all_vowels(\"aeiou\")\n",
    "is_all_vowels(\"AEIOU\")\n",
    "is_all_vowels(\"AEIOUaeiou\")\n",
    "is_all_vowels(\"ree\")"
   ]
  },
  {
   "cell_type": "markdown",
   "metadata": {},
   "source": [
    "### Test case for is_all_vowels()"
   ]
  },
  {
   "cell_type": "markdown",
   "metadata": {},
   "source": [
    "<div class=\"alert alert-block alert-danger\">\n",
    "Run the cell below to call your function.\n",
    "</div>"
   ]
  },
  {
   "cell_type": "code",
   "execution_count": 7,
   "metadata": {},
   "outputs": [
    {
     "name": "stdout",
     "output_type": "stream",
     "text": [
      "True\n",
      "True\n",
      "True\n",
      "False\n",
      "False\n",
      "False\n",
      "False\n",
      "Success!\n"
     ]
    }
   ],
   "source": [
    "def validate_is_all_vowels():\n",
    "    assert is_all_vowels('aie'), \"'aie' is all vowels\"\n",
    "    assert is_all_vowels('Aie'), \"'Aie' is all vowels\"\n",
    "    assert is_all_vowels('AeIoU'), \"'AeIoU' is all vowels\"\n",
    "\n",
    "    assert not is_all_vowels('kaie'), \"has a k\"\n",
    "    assert not is_all_vowels('akie'), \"has a k\"\n",
    "    assert not is_all_vowels('aike'), \"has a k\"\n",
    "    assert not is_all_vowels('aiek'), \"has a k\"\n",
    "    \n",
    "    print('Success!')\n",
    "    \n",
    "validate_is_all_vowels()"
   ]
  },
  {
   "cell_type": "markdown",
   "metadata": {},
   "source": [
    "## Problem 4: is_palindrome()"
   ]
  },
  {
   "cell_type": "markdown",
   "metadata": {},
   "source": [
    "### Write a function that decides if a word is a palindrome.  \n",
    "\n",
    "Is the word the same, read forwards or backwards, like madam or Radar?\n",
    "\n",
    "Your function is_palindrome() should take a string and return a Boolean\n",
    "\n",
    "```python\n",
    "    def is_palindrome(word: str) -> bool:\n",
    "```"
   ]
  },
  {
   "cell_type": "markdown",
   "metadata": {},
   "source": [
    "<div class=\"alert alert-block alert-info\">\n",
    "Fill in your function definition in the cell below.\n",
    "</div>"
   ]
  },
  {
   "cell_type": "code",
   "execution_count": 8,
   "metadata": {},
   "outputs": [
    {
     "data": {
      "text/plain": [
       "False"
      ]
     },
     "execution_count": 8,
     "metadata": {},
     "output_type": "execute_result"
    }
   ],
   "source": [
    "def is_palindrome(word: str) -> bool: \n",
    "    \"\"\"Check if this word is a palindrome\"\"\"\n",
    "    word = word.lower()\n",
    "    boo = False \n",
    "    if word == word[::-1]: \n",
    "        boo = True \n",
    "#     print(boo)\n",
    "    return boo\n",
    "\n",
    "is_palindrome(\"Madam\")\n",
    "is_palindrome(\"level\")\n",
    "is_palindrome(\"nOOn\")\n",
    "is_palindrome('A')\n",
    "is_palindrome(\"Python\")"
   ]
  },
  {
   "cell_type": "markdown",
   "metadata": {},
   "source": [
    "### Test cases for is_palindrome"
   ]
  },
  {
   "cell_type": "markdown",
   "metadata": {},
   "source": [
    "<div class=\"alert alert-block alert-danger\">\n",
    "Run the cell below to call your function.\n",
    "</div>"
   ]
  },
  {
   "cell_type": "code",
   "execution_count": 9,
   "metadata": {},
   "outputs": [
    {
     "name": "stdout",
     "output_type": "stream",
     "text": [
      "Success!\n"
     ]
    }
   ],
   "source": [
    "def validate_palindrome():\n",
    "    lst = ['A', 'radar', 'Radar', 'Ada', 'madaM']\n",
    "    for word in lst:\n",
    "        assert is_palindrome(word), f\"'{word}' is a palindrome\"\n",
    "    lst = ['adar', 'loop', 'leal']\n",
    "    for word in lst:\n",
    "        assert not is_palindrome(word), f\"'{word}' is not a palindrome\"\n",
    "    print('Success!')\n",
    "\n",
    "validate_palindrome()"
   ]
  },
  {
   "cell_type": "markdown",
   "metadata": {},
   "source": [
    "## Problem 5: Crossword Puzzle"
   ]
  },
  {
   "cell_type": "markdown",
   "metadata": {},
   "source": [
    "### is_match() detects five letter words 'aXXXt'.\n",
    "\n",
    "Your function is_match() should take a string and return a Boolean telling us if it is a five letter word that starts with 'a' and ends with 't'.\n",
    "\n",
    "\n",
    "```python\n",
    "    def is_match(word: str) -> bool:\n",
    "```"
   ]
  },
  {
   "cell_type": "markdown",
   "metadata": {},
   "source": [
    "<div class=\"alert alert-block alert-info\">\n",
    "Fill in your function definition in the cell below.\n",
    "</div>"
   ]
  },
  {
   "cell_type": "code",
   "execution_count": 10,
   "metadata": {},
   "outputs": [],
   "source": [
    "def is_match(word: str) -> bool: \n",
    "    \"\"\"Check if this word is 5 letters, starts with 'a' and ends with 't'\"\"\"\n",
    "    word = word.lower()\n",
    "    boo = False \n",
    "    if (len(word)==5) and (word[0]=='a') and (word[-1]=='t'): \n",
    "        boo = True \n",
    "#     print(boo)\n",
    "    return boo"
   ]
  },
  {
   "cell_type": "markdown",
   "metadata": {},
   "source": [
    "<div class=\"alert alert-block alert-danger\">\n",
    "Run the cell below to call your function.\n",
    "</div>"
   ]
  },
  {
   "cell_type": "code",
   "execution_count": 11,
   "metadata": {},
   "outputs": [
    {
     "name": "stdout",
     "output_type": "stream",
     "text": [
      "Success!\n"
     ]
    }
   ],
   "source": [
    "def validate_match():\n",
    "    for word in ['A', 'Radar', 'at', 'splat', 'adotp']:\n",
    "        assert not is_match(word), f\"'{word}' is not a match\"\n",
    "        \n",
    "    for word in ['adopt', 'agent', 'argot', 'avast', 'adult']:\n",
    "        assert is_match(word), f\"'{word}' should be a match\"\n",
    " \n",
    "    print('Success!')\n",
    "\n",
    "validate_match()"
   ]
  },
  {
   "cell_type": "markdown",
   "metadata": {},
   "source": [
    "## Problem 6: Find all matches in the Dictionary"
   ]
  },
  {
   "cell_type": "markdown",
   "metadata": {},
   "source": [
    "### Write a function that takes a Boolean function and a filename and prints the matches\n",
    "\n",
    "Open the file words.txt, and find all five letter words that start with 'a' and end in 't'.\n",
    "\n",
    "Your function find_match() should take a function and a filename and return a list of strings.\n",
    "\n",
    "The function you pass in to find_match should take a string and return a Boolean.  \n",
    "\n",
    "We can use Python's Type Hints to describe the interface.  This looks complicated, but this is a complicated idea.\n",
    "\n",
    "```python\n",
    "    f: Callable[[str], bool]\n",
    "```\n",
    "says: the parameter f is a function (Callable) that takes a string and returns a Boolean.\n",
    "\n",
    "The return value for find_match() is:\n",
    "\n",
    "```python\n",
    "    -> List[str]:\n",
    "```\n",
    "which means \"The function returns a list of strings\".\n",
    "\n",
    "The full description is:\n",
    "\n",
    "```python\n",
    "    from typing import List, Callable\n",
    "    \n",
    "    def find_match(f: Callable[[str], bool], filename: str) -> List[str]:\n",
    "```"
   ]
  },
  {
   "cell_type": "markdown",
   "metadata": {},
   "source": [
    "<div class=\"alert alert-block alert-info\">\n",
    "Fill in your function definition in the cell below.\n",
    "</div>"
   ]
  },
  {
   "cell_type": "code",
   "execution_count": 12,
   "metadata": {},
   "outputs": [],
   "source": [
    "from typing import List, Callable\n",
    "\n",
    "# Write a function that uses your is_match() to filter the contents of words.txt \n",
    "# find_match() takes a function: pass in your function is_match()\n",
    "# find_match should return a list holding the words in the file words.txt that satify the function passed in\n",
    "\n",
    "def find_match(func: Callable[[str], bool], filename: str) -> List[str]:\n",
    "    \"\"\"This function returns a list of all lines matching the condition that function func() checks\"\"\"\n",
    "    word_list = []\n",
    "    with open(filename) as text_file:\n",
    "        for line in text_file: \n",
    "            word = line.strip()\n",
    "            if func(word): \n",
    "                word_list.append(word)\n",
    "    return word_list "
   ]
  },
  {
   "cell_type": "markdown",
   "metadata": {},
   "source": [
    "<div class=\"alert alert-block alert-danger\">\n",
    "Run the cell below to call your function.\n",
    "    \n",
    "Be sure you have Downey's **words.txt** in the same directory as your notebook\n",
    "</div>"
   ]
  },
  {
   "cell_type": "code",
   "execution_count": 13,
   "metadata": {},
   "outputs": [
    {
     "name": "stdout",
     "output_type": "stream",
     "text": [
      "38\n",
      "['abaft', 'abbot', 'abort', 'about', 'adapt', 'adept', 'admit', 'adopt', 'adult', 'adust', 'afoot', 'afrit', 'agent', 'agist', 'aglet', 'alant', 'alert', 'alist', 'allot', 'aloft', 'ambit', 'ament', 'amort', 'anent', 'angst', 'apart', 'aport', 'argot', 'arhat', 'armet', 'ascot', 'asset', 'atilt', 'audit', 'aught', 'avast', 'avert', 'await']\n"
     ]
    }
   ],
   "source": [
    "# Call your function to find the matches \n",
    "\n",
    "lst = find_match(is_match, \"words.txt\")\n",
    "\n",
    "print(len(lst))\n",
    "print(lst)"
   ]
  },
  {
   "cell_type": "markdown",
   "metadata": {},
   "source": [
    "## Problem 7: Find the palindromes in words.txt.\n",
    "\n",
    "Use your function from Problem 6, but use is_palindrome(), the Boolean function you defined in problem 4, as the filter.  \n",
    "\n",
    "You should be able to use your work from problems 4 and 6 without changing them\n",
    "\n",
    "<div class=\"alert alert-block alert-danger\">\n",
    "Be sure you have Downey's **words.txt** in the same directory as your notebook.\n",
    "    \n",
    "Print the number of palindromes in the file.\n",
    "\n",
    "Print the first 10 palindromes in the file.\n",
    "</div>"
   ]
  },
  {
   "cell_type": "code",
   "execution_count": 14,
   "metadata": {},
   "outputs": [
    {
     "name": "stdout",
     "output_type": "stream",
     "text": [
      "91\n",
      "['aa', 'aba', 'aga', 'aha', 'ala', 'alula', 'ama', 'ana', 'anna', 'ava']\n"
     ]
    }
   ],
   "source": [
    "# Write a Python fragment that uses your work from problems 4 and 6\n",
    "\n",
    "palindromes = find_match(is_palindrome, \"words.txt\")\n",
    "\n",
    "print(len(palindromes))\n",
    "print(palindromes[:10])"
   ]
  },
  {
   "cell_type": "markdown",
   "metadata": {},
   "source": [
    "# Post Mortem"
   ]
  },
  {
   "cell_type": "markdown",
   "metadata": {},
   "source": [
    "<div class=\"alert alert-block alert-info\">\n",
    "\n",
    "How long did it take you to solve this problem set?\n",
    "\n",
    "Did anything confuse you or cause difficulty?\n",
    "</div>"
   ]
  },
  {
   "cell_type": "code",
   "execution_count": 15,
   "metadata": {},
   "outputs": [],
   "source": [
    "# About 5 hours. "
   ]
  }
 ],
 "metadata": {
  "kernelspec": {
   "display_name": "Python 3",
   "language": "python",
   "name": "python3"
  },
  "language_info": {
   "codemirror_mode": {
    "name": "ipython",
    "version": 3
   },
   "file_extension": ".py",
   "mimetype": "text/x-python",
   "name": "python",
   "nbconvert_exporter": "python",
   "pygments_lexer": "ipython3",
   "version": "3.8.8"
  }
 },
 "nbformat": 4,
 "nbformat_minor": 1
}
