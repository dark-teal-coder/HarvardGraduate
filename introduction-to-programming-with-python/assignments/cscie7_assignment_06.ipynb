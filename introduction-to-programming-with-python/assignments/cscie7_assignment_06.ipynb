{
 "cells": [
  {
   "cell_type": "markdown",
   "metadata": {},
   "source": [
    "# Homework 6: Fall 2020\n",
    "## Fill in your name"
   ]
  },
  {
   "cell_type": "code",
   "execution_count": 1,
   "metadata": {},
   "outputs": [],
   "source": [
    "first_name = \"Roxanne\"\n",
    "last_name = \"Saewong\"\n",
    "nick_name = \"Roxy\"\n",
    "\n",
    "assert(len(first_name) != 0)\n",
    "assert(len(last_name)  != 0)\n",
    "assert(len(nick_name)  != 0)"
   ]
  },
  {
   "cell_type": "markdown",
   "metadata": {},
   "source": [
    "## Problem 1:  Game Scores\n",
    "\n",
    "You are writing a library for a video game.  Each user has a list of all their scores.  \n",
    "\n",
    "You must take a list of scores, and return the most recent score, the best score, and the top three scores.\n",
    "\n",
    "Hint: To find the top three, investigate the Python list method sort() and function sorted()"
   ]
  },
  {
   "cell_type": "markdown",
   "metadata": {},
   "source": [
    "<div class=\"alert alert-block alert-info\">\n",
    "Fill in your function below.\n",
    "</div>"
   ]
  },
  {
   "cell_type": "code",
   "execution_count": 2,
   "metadata": {},
   "outputs": [],
   "source": [
    "from typing import List\n",
    "\n",
    "def recent(scores: List[int]) -> int:\n",
    "    \"\"\"This function returns the most recent score in a list\"\"\"\n",
    "    return scores[-1]\n",
    "\n",
    "\n",
    "def best(scores: List[int]) -> int: \n",
    "    \"\"\"This function returns the best score in a list\"\"\"\n",
    "    return max(scores)\n",
    "\n",
    "\n",
    "def top_triple(scores: List[int]) -> List[int]:\n",
    "    \"\"\"This function returns the 3 best scores in a list\"\"\"\n",
    "    sorted_scores = sorted(scores, reverse=True)\n",
    "    return sorted_scores[:3]"
   ]
  },
  {
   "cell_type": "markdown",
   "metadata": {},
   "source": [
    "### Test cases for Game Scores"
   ]
  },
  {
   "cell_type": "code",
   "execution_count": 3,
   "metadata": {},
   "outputs": [
    {
     "data": {
      "text/plain": [
       "'Success!'"
      ]
     },
     "execution_count": 3,
     "metadata": {},
     "output_type": "execute_result"
    }
   ],
   "source": [
    "def test_game_scores():\n",
    "    assert recent([100, 0, 90, 30]) == 30\n",
    "    assert best([40, 100, 70]) == 100\n",
    "    \n",
    "    \n",
    "    scores = [10, 30, 90, 30, 100, 20, 10, 0, 30, 40, 40, 70, 33]  \n",
    "    assert recent(scores) == 33\n",
    "    assert top_triple(scores) == [100, 90, 70]\n",
    "    assert best(scores) == 100\n",
    "    assert recent(scores) == 33, \"Did you reorder the list?\"\n",
    "    \n",
    "    assert top_triple([20, 10, 30]) == [30, 20, 10]\n",
    "    assert top_triple([40, 20, 40, 30]) == [40, 40, 30] \n",
    "    assert top_triple([30, 70]) == [70, 30] \n",
    "    assert top_triple([30]) == [30] \n",
    "    assert top_triple([]) == [] \n",
    "    \n",
    "    return('Success!')\n",
    "\n",
    "test_game_scores()"
   ]
  },
  {
   "cell_type": "markdown",
   "metadata": {},
   "source": [
    "## Problem 2: Mystical Listicle\n",
    "\n",
    "You are given a list.  Some of the items in the list are themselves lists.  Sublists will not contain lists.  \n",
    "\n",
    "Return a list of the items in order.\n",
    "\n",
    "You can use the method isinstance() to tell if an item is a list."
   ]
  },
  {
   "cell_type": "code",
   "execution_count": 4,
   "metadata": {},
   "outputs": [
    {
     "name": "stdout",
     "output_type": "stream",
     "text": [
      "[2]\n",
      "[3, 4]\n"
     ]
    }
   ],
   "source": [
    "## Demo of isinstance()\n",
    "\n",
    "lst = [1, [2], [3, 4]]\n",
    "\n",
    "for item in lst:\n",
    "    if isinstance(item, list):\n",
    "        print(item)"
   ]
  },
  {
   "cell_type": "markdown",
   "metadata": {},
   "source": [
    "<div class=\"alert alert-block alert-info\">\n",
    "Fill in your function below.\n",
    "</div>"
   ]
  },
  {
   "cell_type": "code",
   "execution_count": 5,
   "metadata": {},
   "outputs": [],
   "source": [
    "from typing import List\n",
    "\n",
    "def listicle(lst: List) -> List:\n",
    "    \"\"\"This function removes sublists and returns an integer list\"\"\"\n",
    "    results = []\n",
    "    for item in lst: \n",
    "        if isinstance(item, list):\n",
    "            results.extend(item)\n",
    "        else: \n",
    "            results.append(item)\n",
    "    return results "
   ]
  },
  {
   "cell_type": "markdown",
   "metadata": {},
   "source": [
    "### Unit Tests"
   ]
  },
  {
   "cell_type": "code",
   "execution_count": 6,
   "metadata": {},
   "outputs": [
    {
     "name": "stdout",
     "output_type": "stream",
     "text": [
      "Success!\n"
     ]
    }
   ],
   "source": [
    "def test_listicle():\n",
    "    assert listicle([]) == []\n",
    "    assert listicle([1]) == [1]\n",
    "    assert listicle([0, 1, 2]) == [0, 1, 2]\n",
    "    assert listicle([1, [2]]) == [1, 2]\n",
    "    assert listicle([[1], 2]) == [1, 2]\n",
    "    assert listicle([1, [2, 3, 4, 5, 6, 7], 8]) == [1, 2, 3, 4, 5, 6, 7, 8]\n",
    "    assert listicle([[]]) == []  \n",
    "    assert listicle([1, []]) == [1] \n",
    "    assert listicle([1, [], 2]) == [1, 2] \n",
    "    \n",
    "    print('Success!')\n",
    "    \n",
    "test_listicle()\n",
    "    "
   ]
  },
  {
   "cell_type": "markdown",
   "metadata": {},
   "source": [
    "## Problem 3: Parentheses\n",
    "### Decide if a string contains valid nested parentheses\n",
    "\n",
    "You are given a string consisting only of parentheses - (, ), {, }, [, and ]. Write a Boolean function is_valid_parens() that takes a string and decides if it consists of valid nested parenthesis.\n",
    "\n",
    "Hint: Your function should take open parentheses, such as '(',  and 'push it on a stack' and should take closing parentheses, and pop the stack and compare.  If the close parenthesis doesn't match the open parenthesis on top of the stack, the string is invalid.  If the stack is empty too soon, or is not empty when you finish the string, the string is invalid.  \n",
    "\n",
    "You can read about stacks here: \n",
    "\n",
    "https://en.wikipedia.org/wiki/Stack_(abstract_data_type)\n",
    "\n",
    "Implement your stack with a list, pushing and poping the final element.  "
   ]
  },
  {
   "cell_type": "markdown",
   "metadata": {},
   "source": [
    "<div class=\"alert alert-block alert-info\">\n",
    "Fill in your function below.\n",
    "</div>"
   ]
  },
  {
   "cell_type": "code",
   "execution_count": 7,
   "metadata": {},
   "outputs": [],
   "source": [
    "#  '{()[{}]}' is valid:    return True\n",
    "#  '{()[{}}' is not:       return False\n",
    "def is_valid_parens(string: str) -> bool:\n",
    "    \"\"\"This function checks if the string is a well-nested set of parentheses\"\"\"\n",
    "    stack = []\n",
    "    opening_parens = ['(', '[', '{']\n",
    "    closing_parens = [')', ']', '}']\n",
    "    ## Exceptional: empty string\n",
    "    if len(string) == 0: \n",
    "        return True \n",
    "    ## Exceptional: the 1st character in the string isn't an opening parenthesis \n",
    "    elif string[0] not in opening_parens: \n",
    "        return False \n",
    "    ## For regular cases\n",
    "    else: \n",
    "        for ch in string: \n",
    "            ## If the character is an opening parenthesis \n",
    "            if ch in opening_parens: \n",
    "                stack.append(ch)\n",
    "            ## If the character is a closing parenthesis \n",
    "            else: \n",
    "                ## Remove the last item pushed to the stack \n",
    "                last_item = stack.pop()\n",
    "                ## If it is the last character in the string and there's more in the stack\n",
    "                if (ch == string[-1]) and (len(stack) > 0): \n",
    "                    return False \n",
    "                elif closing_parens.index(ch) != opening_parens.index(last_item): \n",
    "                    print(closing_parens.index(ch), opening_parens.index(last_item))\n",
    "                    return False \n",
    "    return True "
   ]
  },
  {
   "cell_type": "markdown",
   "metadata": {},
   "source": [
    "### Test case for is_valid_parens()"
   ]
  },
  {
   "cell_type": "code",
   "execution_count": 8,
   "metadata": {},
   "outputs": [
    {
     "ename": "AssertionError",
     "evalue": "",
     "output_type": "error",
     "traceback": [
      "\u001b[1;31m---------------------------------------------------------------------------\u001b[0m",
      "\u001b[1;31mAssertionError\u001b[0m                            Traceback (most recent call last)",
      "\u001b[1;32m<ipython-input-8-d29744fee958>\u001b[0m in \u001b[0;36m<module>\u001b[1;34m\u001b[0m\n\u001b[0;32m     19\u001b[0m     \u001b[1;32mreturn\u001b[0m \u001b[1;34m'Success!'\u001b[0m\u001b[1;33m\u001b[0m\u001b[1;33m\u001b[0m\u001b[0m\n\u001b[0;32m     20\u001b[0m \u001b[1;33m\u001b[0m\u001b[0m\n\u001b[1;32m---> 21\u001b[1;33m \u001b[0mtest_parens\u001b[0m\u001b[1;33m(\u001b[0m\u001b[1;33m)\u001b[0m\u001b[1;33m\u001b[0m\u001b[1;33m\u001b[0m\u001b[0m\n\u001b[0m",
      "\u001b[1;32m<ipython-input-8-d29744fee958>\u001b[0m in \u001b[0;36mtest_parens\u001b[1;34m()\u001b[0m\n\u001b[0;32m      2\u001b[0m     \u001b[1;32massert\u001b[0m\u001b[1;33m(\u001b[0m\u001b[0mis_valid_parens\u001b[0m\u001b[1;33m(\u001b[0m\u001b[1;34m\"\"\u001b[0m\u001b[1;33m)\u001b[0m\u001b[1;33m)\u001b[0m\u001b[1;33m\u001b[0m\u001b[1;33m\u001b[0m\u001b[0m\n\u001b[0;32m      3\u001b[0m     \u001b[1;32massert\u001b[0m\u001b[1;33m(\u001b[0m\u001b[0mis_valid_parens\u001b[0m\u001b[1;33m(\u001b[0m\u001b[1;34m\"[]\"\u001b[0m\u001b[1;33m)\u001b[0m\u001b[1;33m)\u001b[0m\u001b[1;33m\u001b[0m\u001b[1;33m\u001b[0m\u001b[0m\n\u001b[1;32m----> 4\u001b[1;33m     \u001b[1;32massert\u001b[0m\u001b[1;33m(\u001b[0m\u001b[0mis_valid_parens\u001b[0m\u001b[1;33m(\u001b[0m\u001b[1;34m'{()[{}]}'\u001b[0m\u001b[1;33m)\u001b[0m\u001b[1;33m)\u001b[0m\u001b[1;33m\u001b[0m\u001b[1;33m\u001b[0m\u001b[0m\n\u001b[0m\u001b[0;32m      5\u001b[0m     \u001b[1;32massert\u001b[0m\u001b[1;33m(\u001b[0m\u001b[0mis_valid_parens\u001b[0m\u001b[1;33m(\u001b[0m\u001b[1;34m\"{}\"\u001b[0m\u001b[1;33m)\u001b[0m\u001b[1;33m)\u001b[0m\u001b[1;33m\u001b[0m\u001b[1;33m\u001b[0m\u001b[0m\n\u001b[0;32m      6\u001b[0m     \u001b[1;32massert\u001b[0m\u001b[1;33m(\u001b[0m\u001b[0mis_valid_parens\u001b[0m\u001b[1;33m(\u001b[0m\u001b[1;34m\"{[]}\"\u001b[0m\u001b[1;33m)\u001b[0m\u001b[1;33m)\u001b[0m\u001b[1;33m\u001b[0m\u001b[1;33m\u001b[0m\u001b[0m\n",
      "\u001b[1;31mAssertionError\u001b[0m: "
     ]
    }
   ],
   "source": [
    "def test_parens():\n",
    "    assert(is_valid_parens(\"\"))\n",
    "    assert(is_valid_parens(\"[]\"))\n",
    "    assert(is_valid_parens('{()[{}]}'))\n",
    "    assert(is_valid_parens(\"{}\"))\n",
    "    assert(is_valid_parens(\"{[]}\"))\n",
    "    assert(is_valid_parens(\"{}[]\"))\n",
    "    assert(is_valid_parens(\"([{}({}[])])\"))\n",
    "\n",
    "    assert not is_valid_parens('{()[{}}]'), 'Interlaced parentheses'\n",
    "    assert not is_valid_parens(\"[[\"), \"Unmatched opens\"\n",
    "    assert not is_valid_parens(\"}{\"), \"Unmatched close\"\n",
    "    assert not is_valid_parens(\"{]\"), \"Mismatched parentheses\"\n",
    "    assert not is_valid_parens(\"{[])\"), \"Mismatched parentheses\"\n",
    "    assert not is_valid_parens(\"{[)][]}\"), \"Mismatched parentheses\"\n",
    "    assert not is_valid_parens(\"([{])\"), \"Mismatched parentheses\"\n",
    "    assert not is_valid_parens(\"[({]})\"), \"Mismatched parentheses\"\n",
    "    \n",
    "    return 'Success!'\n",
    "\n",
    "test_parens()"
   ]
  },
  {
   "cell_type": "markdown",
   "metadata": {},
   "source": [
    "## Problem 4: Find Large Files\n",
    "\n",
    "Write a function that takes a directory and a size in bytes, \n",
    "and returns a list of files in the directory or below that \n",
    "are larger than the size.  \n",
    "\n",
    "*For example, you can use this function to look for files larger than 1 Meg below your Home directory.*\n",
    "\n",
    "You will find a Python function that gives you the size of a file in the os.path library: \n",
    "\n",
    "https://pymotw.com/3/os.path/"
   ]
  },
  {
   "cell_type": "markdown",
   "metadata": {},
   "source": [
    "<div class=\"alert alert-block alert-info\">\n",
    "Fill in your function below.\n",
    "</div>"
   ]
  },
  {
   "cell_type": "code",
   "execution_count": 9,
   "metadata": {},
   "outputs": [],
   "source": [
    "import os\n",
    "\n",
    "def find_large_files(dirname: str, filesize: int) -> List[str]: \n",
    "    \"\"\"This function returns a list of all files in the given directory that are larger than the file size\"\"\"\n",
    "    large_files_list = []\n",
    "    for root, dirs, files in os.walk(dirname):\n",
    "        for name in files:\n",
    "            # print(os.path.join(root, name))\n",
    "            this_file_size = os.path.getsize(os.path.join(root, name)) \n",
    "            if this_file_size > filesize: \n",
    "                large_files_list.append(name)\n",
    "    \n",
    "    print(\"large_files_list:\", large_files_list)\n",
    "    return large_files_list"
   ]
  },
  {
   "cell_type": "markdown",
   "metadata": {},
   "source": [
    "### Show your program in action\n",
    "Give the parameters and show the results for your program\n",
    "\n",
    "I looked for files larger than a Megabyte found below the directory one step up.   "
   ]
  },
  {
   "cell_type": "code",
   "execution_count": 10,
   "metadata": {},
   "outputs": [
    {
     "name": "stdout",
     "output_type": "stream",
     "text": [
      "large_files_list: ['Advanced_python(reference).ipynb', 'Day4.ipynb', 'UCI_Credit_Card.csv', 'words.txt', 'Advanced_python(reference)-checkpoint.ipynb', 'Day4-checkpoint.ipynb']\n",
      "6\n",
      "Advanced_python(reference).ipynb\n",
      "Day4.ipynb\n",
      "UCI_Credit_Card.csv\n",
      "words.txt\n",
      "Advanced_python(reference)-checkpoint.ipynb\n",
      "Day4-checkpoint.ipynb\n"
     ]
    }
   ],
   "source": [
    "large_files_list = find_large_files('.', 1048576)\n",
    "print(len(large_files_list))\n",
    "\n",
    "for path in large_files_list:\n",
    "    print(path)"
   ]
  },
  {
   "cell_type": "markdown",
   "metadata": {},
   "source": [
    "## Problem 5: Wine and Beer\n",
    "\n",
    "Find the top beer and wine suppliers listed in a CSV file.\n",
    "\n",
    "The CSV file Beer_Wine.csv lists beer and wine suppliers to one state. Each line of the file records a different supplier, and includes a 5 or 9 digit zip code. When you see a 9-digit zip code, truncate the last 4 digits.  Find the 5-digit zip codes that hold the most suppliers to the state. \n",
    "\n",
    "Your function should return a list of lists, with the frequency and the zip code. Organize the list in decreasing order of frequency.\n",
    "Here are three items from my list of 720 zip codes\n",
    "```python\n",
    "    [ ... [9, '65616'], [8, '94573'], [8, '63103'] ...]\n",
    "```\n",
    "This tells me that Branson, Missouri, has 9 beer or wine suppliers to the state, and Rutherford, California, has 8.\n",
    "Print the number of suppliers and the zip code for the 10 most common zip codes in the file.\n",
    "\n",
    "Use the csv library to read the textfile. Use the idiom \"Dictionary as a Counter\" (section 11.1 of Downey) to count the number of times you see each zip code. Traverse the Dictionary and build a list of lists, and use the functions sort() or sorted() to organize your list so the most common zip codes are first.\n",
    "\n",
    "To validate your results, you can check the three zip codes above, and you can use Google to map the zip code to a location and check that that is a likely source for wine or beer."
   ]
  },
  {
   "cell_type": "markdown",
   "metadata": {},
   "source": [
    "<div class=\"alert alert-block alert-info\">\n",
    "Fill in your function below.\n",
    "</div>"
   ]
  },
  {
   "cell_type": "code",
   "execution_count": 11,
   "metadata": {},
   "outputs": [],
   "source": [
    "from typing import List\n",
    "import csv \n",
    "\n",
    "def count_zips(zip_codes: List[str]) -> dict: \n",
    "    counts = {}\n",
    "    for code in zip_codes:\n",
    "        if code in counts: \n",
    "            counts[code] = counts[code] + 1\n",
    "        else:\n",
    "            counts[code] = 1\n",
    "    return counts\n",
    "\n",
    "\n",
    "def list_zips(filename: str) -> List: \n",
    "    suppliers = []\n",
    "    try:\n",
    "        with open(filename, 'r') as file:\n",
    "            for row in file: \n",
    "                ## Split using comma from the right 4 times \n",
    "                suppliers.append(row.strip().rsplit(\",\", 4))\n",
    "        ## Remove the header row  \n",
    "        suppliers.pop(0)\n",
    "        ## For those zip codes with 9 digits, remove the last 4 - keep the first 5 \n",
    "        for supplier in suppliers: \n",
    "            zip_code = supplier[-4]\n",
    "            if len(zip_code) == 9: \n",
    "                supplier[supplier.index(zip_code)] = zip_code[0:5]\n",
    "        zip_codes = []\n",
    "        for supplier in suppliers: \n",
    "            zip_codes.append(supplier[-4])\n",
    "        zip_freq_dict = count_zips(zip_codes)\n",
    "        zip_freq = []\n",
    "        for item in zip_freq_dict.items(): \n",
    "            zip_freq.append([item[1], item[0]])\n",
    "        ## Descending sort\n",
    "        zip_freq.sort(reverse=True)\n",
    "        # print(zip_freq)\n",
    "        return zip_freq\n",
    "    except FileNotFoundError:\n",
    "        print(f\"{filename} cannot be found!\")\n",
    "    except:\n",
    "        print(f\"{filename} cannot be opened!\")"
   ]
  },
  {
   "cell_type": "code",
   "execution_count": 12,
   "metadata": {},
   "outputs": [
    {
     "name": "stdout",
     "output_type": "stream",
     "text": [
      "720\n",
      "[[54, '94558'], [41, '94574'], [27, '95448'], [18, '95476'], [18, '94515'], [16, '95472'], [16, '93446'], [12, '95403'], [11, '99362'], [11, '94562']]\n"
     ]
    }
   ],
   "source": [
    "zip_freq_list = list_zips(\"Beer_Wine.csv\")\n",
    "\n",
    "print(len(zip_freq_list))\n",
    "print(zip_freq_list[:10])"
   ]
  },
  {
   "cell_type": "markdown",
   "metadata": {},
   "source": [
    "## Find the longest sequence of consecutive zip codes\n",
    "\n",
    "64110, 64111, and 64112 are all Zip codes found in the file.\n",
    "\n",
    "Find the longest sequence of consecutive zip codes in the file.  If two sequences have the same length, print the first one.  "
   ]
  },
  {
   "cell_type": "code",
   "execution_count": 32,
   "metadata": {},
   "outputs": [],
   "source": [
    "from typing import List\n",
    "import sys\n",
    "\n",
    "\n",
    "def get_zip_codes(zip_freq_list) -> List[int]:\n",
    "    ## Zip codes as integers\n",
    "    for zip_f in zip_freq_list: \n",
    "        zip_f = int(zip_f[1])\n",
    "    # print(zip_freq_list)\n",
    "    return zip_freq_list\n",
    "\n",
    "\n",
    "def find_longest_sequence(zips_int_list: List[int], list_size: int) -> str:\n",
    "    # Indices of elements\n",
    "    indices = {i:0 for i in range(13)}\n",
    "    # Length of the longest subsequence that ends with zips_int_list[i]\n",
    "    zero_list = [0 for i in range(list_size)]\n",
    "    maximum = -sys.maxsize - 1\n",
    "    index = -1\n",
    "    ## For all elements\n",
    "    for i in range(list_size): \n",
    "        print(zips_int_list[i])\n",
    "        if (zips_int_list[i] - 1) in indices:\n",
    "            # Last index of zips_int_list[i]-1\n",
    "            last_i = indices[zips_int_list[i] - 1] - 1\n",
    "            zero_list[i] = 1 + zero_list[last_i]\n",
    "        else:\n",
    "            zero_list[i] = 1\n",
    "        # Index as 1-index to check for occurrence, hence 0-th index will be impossible to check\n",
    "        indices[zips_int_list[i]] = i + 1\n",
    "        # Get the longest length\n",
    "        if maximum < zero_list[i]:\n",
    "            maximum = zero_list[i]\n",
    "            index = i\n",
    "    # Last element of sequence: zips_int_list[index]\n",
    "    # Length of subsequence is \"maximum\" \n",
    "    seq = \"\"\n",
    "    for cur in range((zips_int_list[index]-maximum+1), (zips_int_list[index]+1), 1):\n",
    "        seq += str(cur) + \" \"\n",
    "    return seq"
   ]
  },
  {
   "cell_type": "markdown",
   "metadata": {},
   "source": [
    "## Print the zip codes in the longest consecutive sequence in the file"
   ]
  },
  {
   "cell_type": "code",
   "execution_count": 33,
   "metadata": {},
   "outputs": [
    {
     "name": "stdout",
     "output_type": "stream",
     "text": [
      "[54, '94558']\n"
     ]
    },
    {
     "ename": "TypeError",
     "evalue": "unsupported operand type(s) for -: 'list' and 'int'",
     "output_type": "error",
     "traceback": [
      "\u001b[1;31m---------------------------------------------------------------------------\u001b[0m",
      "\u001b[1;31mTypeError\u001b[0m                                 Traceback (most recent call last)",
      "\u001b[1;32m<ipython-input-33-e74a7ebd0441>\u001b[0m in \u001b[0;36m<module>\u001b[1;34m\u001b[0m\n\u001b[0;32m      2\u001b[0m \u001b[1;31m# print(zips_int_list)\u001b[0m\u001b[1;33m\u001b[0m\u001b[1;33m\u001b[0m\u001b[1;33m\u001b[0m\u001b[0m\n\u001b[0;32m      3\u001b[0m \u001b[0mlist_size\u001b[0m \u001b[1;33m=\u001b[0m \u001b[0mlen\u001b[0m\u001b[1;33m(\u001b[0m\u001b[0mzips_int_list\u001b[0m\u001b[1;33m)\u001b[0m\u001b[1;33m\u001b[0m\u001b[1;33m\u001b[0m\u001b[0m\n\u001b[1;32m----> 4\u001b[1;33m \u001b[0mseq\u001b[0m \u001b[1;33m=\u001b[0m \u001b[0mfind_longest_sequence\u001b[0m\u001b[1;33m(\u001b[0m\u001b[0mzips_int_list\u001b[0m\u001b[1;33m,\u001b[0m \u001b[0mlist_size\u001b[0m\u001b[1;33m)\u001b[0m\u001b[1;33m\u001b[0m\u001b[1;33m\u001b[0m\u001b[0m\n\u001b[0m\u001b[0;32m      5\u001b[0m \u001b[0mprint\u001b[0m\u001b[1;33m(\u001b[0m\u001b[0mseq\u001b[0m\u001b[1;33m)\u001b[0m\u001b[1;33m\u001b[0m\u001b[1;33m\u001b[0m\u001b[0m\n",
      "\u001b[1;32m<ipython-input-32-c4f71582ae52>\u001b[0m in \u001b[0;36mfind_longest_sequence\u001b[1;34m(zips_int_list, list_size)\u001b[0m\n\u001b[0;32m     21\u001b[0m     \u001b[1;32mfor\u001b[0m \u001b[0mi\u001b[0m \u001b[1;32min\u001b[0m \u001b[0mrange\u001b[0m\u001b[1;33m(\u001b[0m\u001b[0mlist_size\u001b[0m\u001b[1;33m)\u001b[0m\u001b[1;33m:\u001b[0m\u001b[1;33m\u001b[0m\u001b[1;33m\u001b[0m\u001b[0m\n\u001b[0;32m     22\u001b[0m         \u001b[0mprint\u001b[0m\u001b[1;33m(\u001b[0m\u001b[0mzips_int_list\u001b[0m\u001b[1;33m[\u001b[0m\u001b[0mi\u001b[0m\u001b[1;33m]\u001b[0m\u001b[1;33m)\u001b[0m\u001b[1;33m\u001b[0m\u001b[1;33m\u001b[0m\u001b[0m\n\u001b[1;32m---> 23\u001b[1;33m         \u001b[1;32mif\u001b[0m \u001b[1;33m(\u001b[0m\u001b[0mzips_int_list\u001b[0m\u001b[1;33m[\u001b[0m\u001b[0mi\u001b[0m\u001b[1;33m]\u001b[0m \u001b[1;33m-\u001b[0m \u001b[1;36m1\u001b[0m\u001b[1;33m)\u001b[0m \u001b[1;32min\u001b[0m \u001b[0mindices\u001b[0m\u001b[1;33m:\u001b[0m\u001b[1;33m\u001b[0m\u001b[1;33m\u001b[0m\u001b[0m\n\u001b[0m\u001b[0;32m     24\u001b[0m             \u001b[1;31m# Last index of zips_int_list[i]-1\u001b[0m\u001b[1;33m\u001b[0m\u001b[1;33m\u001b[0m\u001b[1;33m\u001b[0m\u001b[0m\n\u001b[0;32m     25\u001b[0m             \u001b[0mlast_i\u001b[0m \u001b[1;33m=\u001b[0m \u001b[0mindices\u001b[0m\u001b[1;33m[\u001b[0m\u001b[0mzips_int_list\u001b[0m\u001b[1;33m[\u001b[0m\u001b[0mi\u001b[0m\u001b[1;33m]\u001b[0m \u001b[1;33m-\u001b[0m \u001b[1;36m1\u001b[0m\u001b[1;33m]\u001b[0m \u001b[1;33m-\u001b[0m \u001b[1;36m1\u001b[0m\u001b[1;33m\u001b[0m\u001b[1;33m\u001b[0m\u001b[0m\n",
      "\u001b[1;31mTypeError\u001b[0m: unsupported operand type(s) for -: 'list' and 'int'"
     ]
    }
   ],
   "source": [
    "zips_int_list = get_zip_codes(zip_freq_list)\n",
    "# print(zips_int_list)\n",
    "list_size = len(zips_int_list)\n",
    "seq = find_longest_sequence(zips_int_list, list_size)\n",
    "print(seq)"
   ]
  },
  {
   "cell_type": "markdown",
   "metadata": {},
   "source": [
    "# Post Mortem"
   ]
  },
  {
   "cell_type": "markdown",
   "metadata": {},
   "source": [
    "How long did it take you to solve this problem set?\n",
    "\n",
    "Did anything confuse you or cause difficulty?"
   ]
  },
  {
   "cell_type": "code",
   "execution_count": null,
   "metadata": {},
   "outputs": [],
   "source": [
    "## 2021-10-11 02:59:10 to 2021-10-11 06:30:53\n",
    "## 2021-10-12 21:49:52 to "
   ]
  }
 ],
 "metadata": {
  "kernelspec": {
   "display_name": "Python 3.8.12 ('base')",
   "language": "python",
   "name": "python3"
  },
  "language_info": {
   "codemirror_mode": {
    "name": "ipython",
    "version": 3
   },
   "file_extension": ".py",
   "mimetype": "text/x-python",
   "name": "python",
   "nbconvert_exporter": "python",
   "pygments_lexer": "ipython3",
   "version": "3.8.12"
  },
  "vscode": {
   "interpreter": {
    "hash": "2011e8f1b66e4ca782a16183c079a9a8ceaa771eb94b3143f514bb5560527e59"
   }
  }
 },
 "nbformat": 4,
 "nbformat_minor": 1
}
