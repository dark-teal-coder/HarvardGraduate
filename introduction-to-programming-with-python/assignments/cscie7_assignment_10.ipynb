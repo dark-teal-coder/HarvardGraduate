{
 "cells": [
  {
   "cell_type": "markdown",
   "metadata": {},
   "source": [
    "# CSCI E 7 Homework 10\n",
    "\n",
    "## 2021"
   ]
  },
  {
   "cell_type": "markdown",
   "metadata": {},
   "source": [
    "## Fill in your name"
   ]
  },
  {
   "cell_type": "code",
   "execution_count": 1,
   "metadata": {},
   "outputs": [
    {
     "name": "stdout",
     "output_type": "stream",
     "text": [
      "PREESA SAEWONG REE\n"
     ]
    }
   ],
   "source": [
    "first_name = \"Roxanne\"\n",
    "last_name = \"Saewong\"\n",
    "nick_name = \"Roxy\"\n",
    "\n",
    "assert(len(first_name) != 0), \"First name is missing\"\n",
    "assert(len(last_name)  != 0), \"Last name is missing\"\n",
    "assert(len(nick_name)  != 0), \"Nickname is missing\""
   ]
  },
  {
   "cell_type": "markdown",
   "metadata": {},
   "source": [
    "# Problem 1: Subslice\n",
    "\n",
    "List A is a subslice of list B if you can find x and y such that\n",
    "```python\n",
    "A = B[x:y]\n",
    "```\n",
    "Write a function that decides if A is a subslice of B"
   ]
  },
  {
   "cell_type": "code",
   "execution_count": 2,
   "metadata": {},
   "outputs": [],
   "source": [
    "from typing import List \n",
    "\n",
    "def is_subslice(list_a: List, list_b: List) -> bool:\n",
    "    \"\"\"Check if list A is a subslice of list B\"\"\"\n",
    "    flag = False\n",
    "    ## Case 01: When list A is empty, it's a subslice of list B. \n",
    "    if len(list_a) == 0: \n",
    "        flag = True \n",
    "    ## Case 02: If list A is longer than list B, A can't be a subslice of B. \n",
    "    elif len(list_a) > len(list_b):\n",
    "        flag = False \n",
    "    ## Case 03: If 0 < length of list A <= length of list B. \n",
    "    else: \n",
    "        try: \n",
    "            for i in range(len(list_a)): \n",
    "                if list_a[i] == list_b[list_b.index(list_a[0]) + i]: \n",
    "                    print(f\"Current item in list A: {list_a[i]}\")\n",
    "                    print(f\"Corresponding item in list B: {list_b[list_b.index(list_a[0]) + i]}\")\n",
    "                    flag = True \n",
    "#                 else: \n",
    "#                     flag = False \n",
    "#                     break \n",
    "                ## When finishing with the last item, break out of the loop \n",
    "                if i == len(list_a) - 1: \n",
    "                    break\n",
    "        except IndexError: \n",
    "            flag = False \n",
    "    return flag\n",
    "\n",
    "    ## Case 03: Else, list A can only be as long as or shorter than list B. \n",
    "#     else: \n",
    "#         ## Case 03A: If list A and list B have the same length, we can also say list A is a subslice of list B. \n",
    "#         if list_a == list_b: \n",
    "#             flag = True \n",
    "#         ## Case 03B: List A must be shorter than list B. \n",
    "#         else: \n",
    "#             ## Check if all items in list A are in list B, then check if they're in the same sequence in both list A and list B. \n",
    "#             if(all(a in list_b for a in list_a)): \n",
    "#             n = len(list_a)\n",
    "#             for i in range(len(list_b) - n): \n",
    "#                 if list_a == list_b[i:i + n]: \n",
    "#                     flag = True \n",
    "#             for a in list_a: \n",
    "#                 i_a = list_a.index(a)\n",
    "#                 i_b = list_b.index(a)\n",
    "#                 if i_a == list_a[-1]: \n",
    "#                     break \n",
    "#                 if i_b - i_a == (i_b + 1) - (i_a + 1):  \n",
    "#                     flag = True \n",
    "#             for a in list_a: \n",
    "#                 if a in list_b: \n",
    "#                     ## Index of the next item after the current\n",
    "#                     i_next = list_b.index(a) + 1\n",
    "#                     if list_a[i_next] == list_b[i_next]: \n",
    "#                         flag = True \n"
   ]
  },
  {
   "cell_type": "markdown",
   "metadata": {},
   "source": [
    "### Unit Tests"
   ]
  },
  {
   "cell_type": "code",
   "execution_count": 3,
   "metadata": {},
   "outputs": [
    {
     "name": "stdout",
     "output_type": "stream",
     "text": [
      "Current item in list A: 1\n",
      "Corresponding item in list B: 1\n",
      "Current item in list A: 2\n",
      "Corresponding item in list B: 2\n",
      "Current item in list A: 3\n",
      "Corresponding item in list B: 3\n",
      "Current item in list A: 3\n",
      "Corresponding item in list B: 3\n",
      "Current item in list A: 4\n",
      "Corresponding item in list B: 4\n",
      "Current item in list A: 5\n",
      "Corresponding item in list B: 5\n",
      "Current item in list A: 5\n",
      "Corresponding item in list B: 5\n",
      "Current item in list A: 3\n",
      "Corresponding item in list B: 3\n",
      "Current item in list A: 4\n",
      "Corresponding item in list B: 4\n",
      "Current item in list A: 1\n",
      "Corresponding item in list B: 1\n",
      "Current item in list A: 2\n",
      "Corresponding item in list B: 2\n",
      "Current item in list A: 3\n",
      "Corresponding item in list B: 3\n",
      "Current item in list A: 1\n",
      "Corresponding item in list B: 1\n",
      "Current item in list A: 2\n",
      "Corresponding item in list B: 2\n",
      "Current item in list A: 1\n",
      "Corresponding item in list B: 1\n",
      "Current item in list A: 1\n",
      "Corresponding item in list B: 1\n"
     ]
    },
    {
     "ename": "AssertionError",
     "evalue": "",
     "output_type": "error",
     "traceback": [
      "\u001b[1;31m---------------------------------------------------------------------------\u001b[0m",
      "\u001b[1;31mAssertionError\u001b[0m                            Traceback (most recent call last)",
      "\u001b[1;32m<ipython-input-3-4e9f5c504176>\u001b[0m in \u001b[0;36m<module>\u001b[1;34m\u001b[0m\n\u001b[0;32m     16\u001b[0m     \u001b[0mprint\u001b[0m\u001b[1;33m(\u001b[0m\u001b[1;34m'Success!'\u001b[0m\u001b[1;33m)\u001b[0m\u001b[1;33m\u001b[0m\u001b[1;33m\u001b[0m\u001b[0m\n\u001b[0;32m     17\u001b[0m \u001b[1;33m\u001b[0m\u001b[0m\n\u001b[1;32m---> 18\u001b[1;33m \u001b[0mtest_subslice\u001b[0m\u001b[1;33m(\u001b[0m\u001b[1;33m)\u001b[0m\u001b[1;33m\u001b[0m\u001b[1;33m\u001b[0m\u001b[0m\n\u001b[0m",
      "\u001b[1;32m<ipython-input-3-4e9f5c504176>\u001b[0m in \u001b[0;36mtest_subslice\u001b[1;34m()\u001b[0m\n\u001b[0;32m     12\u001b[0m     \u001b[1;32massert\u001b[0m\u001b[1;33m(\u001b[0m\u001b[1;32mnot\u001b[0m \u001b[0mis_subslice\u001b[0m\u001b[1;33m(\u001b[0m\u001b[1;33m[\u001b[0m\u001b[1;36m1\u001b[0m\u001b[1;33m,\u001b[0m \u001b[1;36m2\u001b[0m\u001b[1;33m]\u001b[0m\u001b[1;33m,\u001b[0m \u001b[1;33m[\u001b[0m\u001b[1;36m2\u001b[0m\u001b[1;33m,\u001b[0m \u001b[1;36m1\u001b[0m\u001b[1;33m]\u001b[0m\u001b[1;33m)\u001b[0m\u001b[1;33m)\u001b[0m\u001b[1;33m\u001b[0m\u001b[1;33m\u001b[0m\u001b[0m\n\u001b[0;32m     13\u001b[0m     \u001b[1;32massert\u001b[0m\u001b[1;33m(\u001b[0m\u001b[1;32mnot\u001b[0m \u001b[0mis_subslice\u001b[0m\u001b[1;33m(\u001b[0m\u001b[1;33m[\u001b[0m\u001b[1;36m1\u001b[0m\u001b[1;33m,\u001b[0m \u001b[1;36m2\u001b[0m\u001b[1;33m,\u001b[0m \u001b[1;36m3\u001b[0m\u001b[1;33m,\u001b[0m \u001b[1;36m4\u001b[0m\u001b[1;33m,\u001b[0m \u001b[1;36m5\u001b[0m\u001b[1;33m]\u001b[0m\u001b[1;33m,\u001b[0m \u001b[1;33m[\u001b[0m\u001b[1;36m2\u001b[0m\u001b[1;33m,\u001b[0m \u001b[1;36m3\u001b[0m\u001b[1;33m,\u001b[0m \u001b[1;36m4\u001b[0m\u001b[1;33m]\u001b[0m\u001b[1;33m)\u001b[0m\u001b[1;33m)\u001b[0m\u001b[1;33m\u001b[0m\u001b[1;33m\u001b[0m\u001b[0m\n\u001b[1;32m---> 14\u001b[1;33m     \u001b[1;32massert\u001b[0m\u001b[1;33m(\u001b[0m\u001b[1;32mnot\u001b[0m \u001b[0mis_subslice\u001b[0m\u001b[1;33m(\u001b[0m\u001b[1;33m[\u001b[0m\u001b[1;36m1\u001b[0m\u001b[1;33m,\u001b[0m \u001b[1;36m3\u001b[0m\u001b[1;33m,\u001b[0m \u001b[1;36m5\u001b[0m\u001b[1;33m]\u001b[0m\u001b[1;33m,\u001b[0m \u001b[1;33m[\u001b[0m\u001b[1;36m1\u001b[0m\u001b[1;33m,\u001b[0m \u001b[1;36m2\u001b[0m\u001b[1;33m,\u001b[0m \u001b[1;36m3\u001b[0m\u001b[1;33m,\u001b[0m \u001b[1;36m4\u001b[0m\u001b[1;33m,\u001b[0m \u001b[1;36m5\u001b[0m\u001b[1;33m]\u001b[0m\u001b[1;33m)\u001b[0m\u001b[1;33m)\u001b[0m \u001b[1;31m# This is a subset, but isn't a subslice\u001b[0m\u001b[1;33m\u001b[0m\u001b[1;33m\u001b[0m\u001b[0m\n\u001b[0m\u001b[0;32m     15\u001b[0m \u001b[1;33m\u001b[0m\u001b[0m\n\u001b[0;32m     16\u001b[0m     \u001b[0mprint\u001b[0m\u001b[1;33m(\u001b[0m\u001b[1;34m'Success!'\u001b[0m\u001b[1;33m)\u001b[0m\u001b[1;33m\u001b[0m\u001b[1;33m\u001b[0m\u001b[0m\n",
      "\u001b[1;31mAssertionError\u001b[0m: "
     ]
    }
   ],
   "source": [
    "def test_subslice():\n",
    "    assert(is_subslice([], []))\n",
    "    assert(is_subslice([], [1, 2, 3, 4, 5]))\n",
    "    assert(is_subslice([1, 2, 3], [1, 2, 3, 4, 5]))\n",
    "    assert(is_subslice([3, 4, 5], [1, 2, 3, 4, 5]))\n",
    "    assert(is_subslice([5, 3, 4], [5, 1, 2, 5, 3, 4, 5, 3, 2, 1]))\n",
    "    assert(is_subslice([], [1, 2, 3, 4, 5]))\n",
    "    assert(is_subslice([3, 4], [1, 2, 3, 4, 5]))\n",
    "    assert(is_subslice([1, 2, 3], [1, 2, 3]))\n",
    "    assert(is_subslice([1, 2, 3], [1, 2, 1, 2, 3, 4, 5])) # If at first you don't succeed\n",
    "    assert(not is_subslice([1, 2], [12]))\n",
    "    assert(not is_subslice([1, 2], [2, 1]))\n",
    "    assert(not is_subslice([1, 2, 3, 4, 5], [2, 3, 4]))\n",
    "    assert(not is_subslice([1, 3, 5], [1, 2, 3, 4, 5])) # This is a subset, but isn't a subslice\n",
    "    \n",
    "    print('Success!')\n",
    "    \n",
    "test_subslice()"
   ]
  },
  {
   "cell_type": "markdown",
   "metadata": {},
   "source": [
    "# Problem 2: Word Lengths\n",
    "We are interested in the distribution of word lengths in English words.  We will use our file words.txt.  \n",
    "\n",
    "Write a function wordLengths() that takes a path to a list of words and returns a list with tuples holding the number of words of each word length.\n",
    "\n",
    "Sort your list by length of word.\n",
    "\n",
    "Here are my partial results: words.txt holds 85 words of length 2, 908 words of length 3, and 3 words of length 21.\n",
    "```python\n",
    "    [(2, 85), (3, 908), ... (21, 3)]\n",
    "```"
   ]
  },
  {
   "cell_type": "code",
   "execution_count": 4,
   "metadata": {},
   "outputs": [],
   "source": [
    "from typing import List\n",
    "\n",
    "\n",
    "def read_file(filepath: str) -> List: \n",
    "    try: \n",
    "        with open(filepath, 'r') as file:\n",
    "            data = [line.strip() for line in file]\n",
    "        # print(len(data), data)\n",
    "        return data \n",
    "    except FileNotFoundError: \n",
    "        print(f\"The file {filepath} cannot be found.\")\n",
    "    except: \n",
    "        print(f\"An error occurs while reading in the file {filepath}\")\n",
    "    return []\n",
    "\n",
    "\n",
    "def wordLengths(filepath: str) -> List:\n",
    "    \"\"\"This function returns the sorted list of the number of words of each length.\"\"\"\n",
    "    data_list = read_file(filepath) \n",
    "    ## Start counting \n",
    "    counts = {}\n",
    "    for item in data_list:\n",
    "        if len(item) in counts: \n",
    "            counts[len(item)] += 1 \n",
    "        else: \n",
    "            counts[len(item)] = 1 \n",
    "    ## Sort the dictionary by its values (the 2nd item of each tuple in the list) in the reversed order \n",
    "    ## Key parameter to specify a function to be called on each list element prior to making comparisons\n",
    "    return sorted(counts.items(), key=lambda x: x[0], reverse=False)\n"
   ]
  },
  {
   "cell_type": "markdown",
   "metadata": {},
   "source": [
    "### Unit Tests"
   ]
  },
  {
   "cell_type": "code",
   "execution_count": 5,
   "metadata": {},
   "outputs": [
    {
     "name": "stdout",
     "output_type": "stream",
     "text": [
      "[(2, 85), (3, 908), (4, 3686), (5, 8258), (6, 14374), (7, 21727), (8, 26447), (9, 16658), (10, 9199), (11, 5296), (12, 3166), (13, 1960), (14, 1023), (15, 557), (16, 261), (17, 132), (18, 48), (19, 16), (20, 5), (21, 3)]\n",
      "(2, 85)\n",
      "\n",
      "Success!\n"
     ]
    }
   ],
   "source": [
    "## Change this to point to your copy of words.txt\n",
    "filepath = 'words.txt'\n",
    "\n",
    "def test_wordLengths(filepath):\n",
    "    lst = wordLengths(filepath)\n",
    "    print(lst)\n",
    "    \n",
    "    print(lst[0])\n",
    "    assert lst[0] == (2, 85)\n",
    "    assert lst[1] == (3, 908)\n",
    "    assert lst[5] == (7, 21727)\n",
    "    assert lst[-1] == (21, 3)\n",
    "    \n",
    "    print('\\nSuccess!')\n",
    "\n",
    "test_wordLengths(filepath)"
   ]
  },
  {
   "cell_type": "markdown",
   "metadata": {},
   "source": [
    "# Problem 3: Draw a bar chart of the word lengths\n",
    "\n",
    "Use matplotlib to draw a bar chart of the word lengths.  You may want to peek at the documentation\n",
    "\n",
    "https://matplotlib.org/3.3.1/gallery/pyplots/pyplot_text.html#sphx-glr-gallery-pyplots-pyplot-text-py\n",
    "\n",
    "or at this tutorial\n",
    "\n",
    "https://datatofish.com/bar-chart-python-matplotlib/\n",
    "\n",
    "You may want to start with the vidoes I posted in Modules/Video Links/Libraries\n",
    "\n",
    "Your bar chart should lineup with your results from problem 1."
   ]
  },
  {
   "cell_type": "code",
   "execution_count": 6,
   "metadata": {},
   "outputs": [
    {
     "name": "stdout",
     "output_type": "stream",
     "text": [
      "[(2, 85), (3, 908), (4, 3686), (5, 8258), (6, 14374), (7, 21727), (8, 26447), (9, 16658), (10, 9199), (11, 5296), (12, 3166), (13, 1960), (14, 1023), (15, 557), (16, 261), (17, 132), (18, 48), (19, 16), (20, 5), (21, 3)]\n"
     ]
    }
   ],
   "source": [
    "import matplotlib.pyplot as plt\n",
    "\n",
    "\n",
    "word_len_freq = wordLengths('words.txt')\n",
    "print(word_len_freq)\n",
    "\n",
    "def plot_bar_chart(filepath):\n",
    "    \"\"\"This function plots a histogram of word lengths.\"\"\"\n",
    "    word_len = [length[0] for length in word_len_freq]\n",
    "    freq = [freq[1] for freq in word_len_freq]\n",
    "    # print(word_len)\n",
    "    # print(freq)\n",
    "    ## Start plotting the bar chart \n",
    "    plt.bar(word_len, freq)\n",
    "    plt.title('Word Length Frequency Bar Chart')\n",
    "    plt.xlabel('Word Length')\n",
    "    plt.ylabel('Frequency')\n",
    "    plt.show()\n"
   ]
  },
  {
   "cell_type": "markdown",
   "metadata": {},
   "source": [
    "### Unit Test"
   ]
  },
  {
   "cell_type": "code",
   "execution_count": 7,
   "metadata": {},
   "outputs": [
    {
     "data": {
      "image/png": "[encoded data removed]",
      "text/plain": [
       "<Figure size 432x288 with 1 Axes>"
      ]
     },
     "metadata": {
      "needs_background": "light"
     },
     "output_type": "display_data"
    }
   ],
   "source": [
    "## Use the variable filepath defined above\n",
    "\n",
    "plot_bar_chart('words.txt')"
   ]
  },
  {
   "cell_type": "markdown",
   "metadata": {},
   "source": [
    "# Problem 4: Count Pairs\n",
    "\n",
    "Write a program to count the frequency of each pair of letters in a Fasta file holding a DNA sequence.\n",
    "\n",
    "Fasta files have a one line header describing the source, and a sequence of lines with information.  \n",
    "They are used to hold DNA or Amino Acid sequences.  \n",
    "\n",
    "For example, the file pACYC184.fasta holds a DNA sequence of length 4245, which starts as\n",
    "\n",
    "```python\n",
    "GAATTCCGG...\n",
    "```\n",
    "\n",
    "That holds the pairs GA, AA, AT, TT, TC, CC, CG, GG, ...\n",
    "\n",
    "You could store your data in a 2D array, a list of 4 lists of length 4, \n",
    "or you could store your data in a Dictionary mapping strings of length 2 to integers.    \n",
    "\n",
    "Count the frequency of each pair, and print a chart.  For pACYC184.fasta, the chart should look like this:\n",
    "\n",
    "```python\n",
    "        A       G       C       T \n",
    "A     251     212     231     262 \n",
    "G     229     287     361     216 \n",
    "C     288     312     291     276 \n",
    "T     188     282     284     274 \n",
    "```\n",
    "The function print_pair_count() has 'print' in the title, so you may print from the function.\n",
    "\n",
    "from typing import ListI suggest having functions to read the data, count the pairs, and print the chart.  "
   ]
  },
  {
   "cell_type": "code",
   "execution_count": 8,
   "metadata": {},
   "outputs": [
    {
     "name": "stdout",
     "output_type": "stream",
     "text": [
      " \tA\tC\tG\tT\t\n",
      "A\t251\t231\t212\t262\t\n",
      "C\t288\t291\t312\t276\t\n",
      "G\t229\t361\t287\t216\t\n",
      "T\t188\t284\t282\t274\t\n"
     ]
    }
   ],
   "source": [
    "from typing import List\n",
    "\n",
    "\n",
    "def read_file(filepath: str) -> str: \n",
    "    \"\"\"This function takes a Fasta file and returns the DNA code as a string.\"\"\"\n",
    "    try: \n",
    "        with open(filepath, 'r') as file:\n",
    "            data = [line.strip() for line in file]\n",
    "        ## Remove the header row \n",
    "        data = data[1:]\n",
    "        ## Remove empty strings in the list and join into a string \n",
    "        data = ''.join([datum for datum in data if datum])\n",
    "        # print(len(data), data)\n",
    "        return data \n",
    "    except FileNotFoundError: \n",
    "        print(f\"The file {filename} cannot be found.\")\n",
    "    except: \n",
    "        print(f\"An error occurs while reading in the file {filename}\")\n",
    "    return ''\n",
    "\n",
    "\n",
    "def count_freq(dna_seq_list: List[str]) -> dict:\n",
    "    \"\"\"This function takes a list of strings, counts and returns the frequence of each unique pair.\"\"\"\n",
    "    counts = {}\n",
    "    for code in dna_seq_list:\n",
    "        if code in counts:\n",
    "            counts[code] = counts[code] + 1\n",
    "        else:\n",
    "            counts[code] = 1\n",
    "    return counts\n",
    "\n",
    "\n",
    "def print_pair_count(filename):\n",
    "    \"\"\"This function prints a chart showing frequency of base pairs in Fasta file\"\"\"\n",
    "    dna_seq = read_file(filename)\n",
    "    ## Get all the unique letters of the DNA code string  \n",
    "    dna_code = sorted(list(set(dna_seq)), reverse=False) \n",
    "    ## Cut the long string into pairs of letter combination \n",
    "    dna_seq_list = [dna_seq[i] + dna_seq[i+1] for i in range(0, len(dna_seq)-1)]\n",
    "    # print(dna_seq_list)\n",
    "    dna_pair_freq = count_freq(dna_seq_list)\n",
    "    # print(dna_pair_freq)\n",
    "    \n",
    "    ## Leave the 1st column on the 1st row empty\n",
    "    print(' ', end='\\t')\n",
    "    ## Print column names/headers \n",
    "    for letter in dna_code: \n",
    "        print(letter, end='\\t')\n",
    "    ## Go to the next line \n",
    "    print()\n",
    "    \n",
    "    ## Show the data row by row \n",
    "    for row, key in zip(dna_code, dna_pair_freq):\n",
    "        ## Print a DNA letter as row name\n",
    "        print(row, end='\\t')\n",
    "        ## Print frequences on this row \n",
    "        for col in dna_code: \n",
    "            print(dna_pair_freq[row + col], end='\\t')\n",
    "        ## Go to the next line \n",
    "        print()\n",
    "\n",
    "\n",
    "print_pair_count('pACYC184.fasta')"
   ]
  },
  {
   "cell_type": "markdown",
   "metadata": {},
   "source": [
    "### Unit Tests\n",
    "\n",
    "You will need to have copies of the three datasets in your directory.  \n",
    "\n",
    "Be sure to check the lengths of your strings: you don't want the newlines from the file included in your strings."
   ]
  },
  {
   "cell_type": "markdown",
   "metadata": {},
   "source": [
    "## Run your program on the datasets below"
   ]
  },
  {
   "cell_type": "code",
   "execution_count": 9,
   "metadata": {},
   "outputs": [
    {
     "name": "stdout",
     "output_type": "stream",
     "text": [
      " \tA\tC\tG\tT\t\n",
      "A\t859\t560\t623\t629\t\n",
      "C\t639\t565\t550\t599\t\n",
      "G\t626\t627\t582\t557\t\n",
      "T\t546\t601\t638\t786\t\n"
     ]
    }
   ],
   "source": [
    "print_pair_count('pKLMF-FX.fasta')  # string of length 9988"
   ]
  },
  {
   "cell_type": "code",
   "execution_count": 10,
   "metadata": {},
   "outputs": [
    {
     "name": "stdout",
     "output_type": "stream",
     "text": [
      " \tA\tC\tG\tT\t\n",
      "A\t338006\t256773\t238013\t309950\t\n",
      "C\t325327\t271821\t346793\t236149\t\n",
      "G\t267384\t384102\t270252\t255699\t\n",
      "T\t212024\t267395\t322379\t339584\t\n"
     ]
    }
   ],
   "source": [
    "print_pair_count('ecoli.fasta')     # string of length 4641652"
   ]
  },
  {
   "cell_type": "code",
   "execution_count": 11,
   "metadata": {},
   "outputs": [
    {
     "name": "stdout",
     "output_type": "stream",
     "text": [
      " \tA\tC\tG\tT\t\n",
      "A\t2364973\t1594610\t2360439\t1797885\t\n",
      "C\t2414606\t2237613\t513594\t2358130\t\n",
      "G\t1906206\t1784420\t2238900\t1590558\t\n",
      "T\t1432121\t1907300\t2407152\t2355793\t\n"
     ]
    }
   ],
   "source": [
    "print_pair_count('Human22.fasta')   # string of length 31264301"
   ]
  },
  {
   "cell_type": "markdown",
   "metadata": {},
   "source": [
    "Does anything seem odd in the last table?"
   ]
  },
  {
   "cell_type": "markdown",
   "metadata": {},
   "source": [
    "# Problem 5: The Extension School\n",
    "Use Beautiful Soup to examine the base landing page https://www.extension.harvard.edu\n",
    "\n",
    "How many links are there?\n",
    "\n",
    "Links may be relatve or absolute:\n",
    "    /academics/programs/academic-gap-year/ is a relative link: you get an absolute link by adding the base\n",
    "            \n",
    "    https://www.extension.harvard.edu/academics/programs/academic-gap-year/\n",
    "    \n",
    "How many links are relative?  How many are relative, and how many are absolute?\n",
    "\n",
    "(Why would a relative path be useful?)\n",
    "\n",
    "How many links appear twice?\n",
    "\n",
    "Which links appear three times?  "
   ]
  },
  {
   "cell_type": "markdown",
   "metadata": {},
   "source": [
    "## Find all the links"
   ]
  },
  {
   "cell_type": "code",
   "execution_count": 12,
   "metadata": {},
   "outputs": [],
   "source": [
    "import requests\n",
    "from bs4 import BeautifulSoup\n",
    "\n",
    "url = \"https://www.extension.harvard.edu/academics/programs/academic-gap-year/\"\n",
    "page = requests.get(url)\n",
    "soup = BeautifulSoup(page.content, \"html.parser\")\n",
    "# print(soup)\n",
    "\n",
    "url_list = []\n",
    "\n",
    "for a in soup.find_all('a', href=True):\n",
    "    url_list.append(a['href'])"
   ]
  },
  {
   "cell_type": "markdown",
   "metadata": {},
   "source": [
    "## How many links are there?"
   ]
  },
  {
   "cell_type": "code",
   "execution_count": 13,
   "metadata": {},
   "outputs": [
    {
     "name": "stdout",
     "output_type": "stream",
     "text": [
      "There are altogether 113 URLs on https://www.extension.harvard.edu/academics/programs/academic-gap-year/. Check out the URL list:\n",
      "['#content', '/about/news-press/covid-19-updates/', 'https://extension.harvard.edu', 'https://extension.harvard.edu/academics/', '/academics/programs/take-a-course/', 'https://extension.harvard.edu/academics/academics-graduate-degrees/', 'https://extension.harvard.edu/academics/graduate-certificates/', 'https://extension.harvard.edu/academics/undergraduate-degree-and-certificates/', 'https://extension.harvard.edu/academics/programs/premedical-program/', '/academics/programs/academic-gap-year/', 'https://extension.harvard.edu/registration-admissions/', 'https://extension.harvard.edu/registration-admissions/course-registration/', 'https://extension.harvard.edu/registration-admissions/degree-program-admissions/', 'https://extension.harvard.edu/registration-admissions/pursuing-a-certificate/', 'https://extension.harvard.edu/for-students/', '/academics/programs/premedical-program/applying-to-premedical-program/', '/registration-admissions/academic-calendar/', 'https://extension.harvard.edu/paying-for-school/', 'https://extension.harvard.edu/paying-for-school/payment-options-policies/', 'https://extension.harvard.edu/paying-for-school/financial-aid/', 'https://extension.harvard.edu/paying-for-school/financial-wellness/', 'https://extension.harvard.edu/about/', 'https://extension.harvard.edu/about/student-stories/', 'https://extension.harvard.edu/about/meet-the-dean/', 'https://extension.harvard.edu/about/online-learning/', 'https://extension.harvard.edu/about/why-harvard-extension-school/', 'https://extension.harvard.edu/blog/', 'https://extension.harvard.edu/events/', 'https://extension.harvard.edu/about/news-press/', 'https://extension.harvard.edu/login/', '/request-information/', 'https://extension.harvard.edu/search/', 'https://extension.harvard.edu', 'https://extension.harvard.edu/search/', 'https://extension.harvard.edu/academics/', '/academics/programs/take-a-course/', 'https://extension.harvard.edu/academics/graduate-certificates/', 'https://extension.harvard.edu/academics/academics-graduate-degrees/', 'https://extension.harvard.edu/academics/undergraduate-degree-and-certificates/', 'https://extension.harvard.edu/academics/programs/premedical-program/', 'https://courses.dce.harvard.edu/extension', 'https://extension.harvard.edu/registration-admissions/', 'https://extension.harvard.edu/registration-admissions/course-registration/', 'https://extension.harvard.edu/registration-admissions/degree-program-admissions/', 'https://extension.harvard.edu/registration-admissions/pursuing-a-certificate/', 'https://extension.harvard.edu/for-students/', 'https://extension.harvard.edu/registration-admissions/international-student-registration-admissions/', '/registration-admissions/academic-calendar/', 'https://extension.harvard.edu/forms/', 'https://extension.harvard.edu/paying-for-school/', 'https://extension.harvard.edu/paying-for-school/payment-options-policies/', 'https://extension.harvard.edu/paying-for-school/financial-aid/', 'https://extension.harvard.edu/paying-for-school/financial-wellness/', 'https://extension.harvard.edu/about/', 'https://extension.harvard.edu/about/student-stories/', 'https://extension.harvard.edu/about/meet-the-dean/', 'https://extension.harvard.edu/about/online-learning/', 'https://extension.harvard.edu/about/why-harvard-extension-school/', 'https://extension.harvard.edu/blog/', 'https://extension.harvard.edu/contact/', 'https://extension.harvard.edu/events/', 'https://extension.harvard.edu/about/news-press/', 'https://extension.harvard.edu/media-photo/', 'https://extension.harvard.edu/for-students/', 'https://extension.harvard.edu/for-students/support-and-services/', 'https://extension.harvard.edu/for-students/student-policies-conduct/', 'https://alumni.extension.harvard.edu/', 'https://extension.harvard.edu/website-archives/', 'https://dce.harvard.edu/privacy-statement/', 'https://courses.dce.harvard.edu/extension', '/login/', 'https://twitter.com/HarvardEXT', 'https://www.facebook.com/HarvardExtension', 'https://www.youtube.com/user/HarvardExtension', 'https://www.instagram.com/harvardextension/', '/academics', 'https://courses.dce.harvard.edu/', '#outcomes', '#admissions-requirements', '#courses', 'https://courses.dce.harvard.edu/', 'https://courses.dce.harvard.edu/extension', '/for-students/support-and-services/libraries/', '/for-students/support-and-services/academic-skills-building/', '/for-students/support-and-services/career-services/', '/for-students/support-and-services/math-question-center/', '/for-students/support-and-services/the-writing-center/', 'https://www.extension.harvard.edu/registration-admissions/course-registration', 'https://www.extension.harvard.edu/academics/academic-gap-year/academic-gap-year-faqs', 'https://dceweb.harvard.edu/prod/gowlogn3.taf?splash=extension', 'https://www.extension.harvard.edu/academic-calendar', 'https://extension.harvard.edu/academics/programs/academic-gap-year/academic-gap-year-faqs/', 'https://courses.dce.harvard.edu/', 'https://extension.harvard.edu/request-information/', 'https://courses.dce.harvard.edu/extension', '/login/', '/website-archives/', 'https://twitter.com/HarvardEXT', 'https://www.facebook.com/HarvardExtension', 'https://www.instagram.com/harvardextension/', 'https://www.youtube.com/user/HarvardExtension', 'https://dce.harvard.edu', 'https://extension.harvard.edu', 'https://summer.harvard.edu', 'https://professional.dce.harvard.edu', 'https://hilr.dce.harvard.edu', 'https://dce.harvard.edu', 'https://dce.harvard.edu/privacy-statement/', 'https://extension.harvard.edu/for-students/support-and-services/accessibility-services/', 'https://extension.harvard.edu/for-students/student-policies-conduct/rights-regulations/', 'https://accessibility.huit.harvard.edu/digital-accessibility-policy', 'https://www.harvard.edu/', '#']\n"
     ]
    }
   ],
   "source": [
    "## 113 links \n",
    "print(f\"There are altogether {len(url_list)} URLs on {url}. Check out the URL list:\\n{url_list}\")"
   ]
  },
  {
   "cell_type": "markdown",
   "metadata": {},
   "source": [
    "## How many are relative links?"
   ]
  },
  {
   "cell_type": "code",
   "execution_count": 14,
   "metadata": {},
   "outputs": [
    {
     "name": "stdout",
     "output_type": "stream",
     "text": [
      "There are altogether 91 absolute links. Thus, there are 22 relative links.\n"
     ]
    }
   ],
   "source": [
    "## 22 relative links \n",
    "rel_url_count = 0\n",
    "for url in url_list: \n",
    "    if url.startswith(\"https://\"): \n",
    "        rel_url_count += 1\n",
    "\n",
    "print(f\"There are altogether {rel_url_count} absolute links. Thus, there are {len(url_list) - rel_url_count} relative links.\")"
   ]
  },
  {
   "cell_type": "markdown",
   "metadata": {},
   "source": [
    "## How many links appear exactly twice?"
   ]
  },
  {
   "cell_type": "code",
   "execution_count": 15,
   "metadata": {},
   "outputs": [],
   "source": [
    "import collections\n",
    "\n",
    "\n",
    "counter = collections.Counter(url_list)\n",
    "url_freq = dict(counter)\n",
    "# print(url_freq)"
   ]
  },
  {
   "cell_type": "code",
   "execution_count": 16,
   "metadata": {},
   "outputs": [
    {
     "name": "stdout",
     "output_type": "stream",
     "text": [
      "There are 31 links that appear twice.\n"
     ]
    }
   ],
   "source": [
    "count_twice = 0 \n",
    "for v in url_freq.values(): \n",
    "    if v == 2: \n",
    "        count_twice += 1 \n",
    "\n",
    "print(f\"There are {count_twice} links that appear twice.\")"
   ]
  },
  {
   "cell_type": "markdown",
   "metadata": {},
   "source": [
    "## Which links appear three or more times?"
   ]
  },
  {
   "cell_type": "code",
   "execution_count": 17,
   "metadata": {},
   "outputs": [
    {
     "name": "stdout",
     "output_type": "stream",
     "text": [
      "There are 4 links that appear more than twice.\n"
     ]
    }
   ],
   "source": [
    "count_multiple = 0 \n",
    "for v in url_freq.values(): \n",
    "    if v >= 3: \n",
    "        count_multiple += 1 \n",
    "\n",
    "print(f\"There are {count_multiple} links that appear more than twice.\")"
   ]
  },
  {
   "cell_type": "markdown",
   "metadata": {},
   "source": [
    "# Post Mortem\n",
    "## How long did it take you to solve this problem set?\n",
    "## Did anything confuse you or cause difficulty?"
   ]
  },
  {
   "cell_type": "code",
   "execution_count": 18,
   "metadata": {},
   "outputs": [],
   "source": [
    "## Problem 1 got me stumped. \n",
    "## 2 days \n",
    "## 2021-11-07 16:32:26 to 2021-11-07 22:22:41\n",
    "## 2021-11-08 01:42:32 to 2021-11-08 05:28:39\n",
    "## 2021-11-08 16:14:02 to 2021-11-08 17:15:00\n",
    "## 2021-11-08 00:36:31 to 2021-11-08 03:48:19"
   ]
  },
  {
   "cell_type": "code",
   "execution_count": null,
   "metadata": {},
   "outputs": [],
   "source": []
  }
 ],
 "metadata": {
  "kernelspec": {
   "display_name": "Python 3",
   "language": "python",
   "name": "python3"
  },
  "language_info": {
   "codemirror_mode": {
    "name": "ipython",
    "version": 3
   },
   "file_extension": ".py",
   "mimetype": "text/x-python",
   "name": "python",
   "nbconvert_exporter": "python",
   "pygments_lexer": "ipython3",
   "version": "3.8.8"
  }
 },
 "nbformat": 4,
 "nbformat_minor": 1
}
