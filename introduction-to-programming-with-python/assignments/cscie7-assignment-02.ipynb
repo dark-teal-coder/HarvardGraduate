{
 "cells": [
  {
   "cell_type": "markdown",
   "metadata": {},
   "source": [
    "# Homework 2"
   ]
  },
  {
   "cell_type": "markdown",
   "metadata": {},
   "source": [
    "## Due Sept 13, 2021, 4PM EST\n",
    "\n",
    "## This assignment is all about functions.  DRY  (Don't Repeat Yourself)\n",
    "## Get comfortable with functions!\n"
   ]
  },
  {
   "cell_type": "code",
   "execution_count": 1,
   "metadata": {},
   "outputs": [],
   "source": [
    "# Fill in your name\n",
    "\n",
    "first_name = 'PREESA'\n",
    "last_name = 'SAEWONG'\n",
    "\n",
    "assert len(first_name) != 0, \"First name is blank\"\n",
    "assert len(last_name) != 0, \"Last name is blank\""
   ]
  },
  {
   "cell_type": "markdown",
   "metadata": {},
   "source": [
    "## Problem 1: Make HTML elements (25 points)\n",
    "\n",
    "HTML uses 'tags' to markup webpages.  You can read about them here\n",
    "\n",
    "https://www.geeksforgeeks.org/most-commonly-used-tags-in-html/\n",
    "\n",
    "We aren't ready to pull a webpage apart, but we can start to paste one together.  \n",
    "\n",
    "Write a function make_element() which takes two strings, 'tag' and 'body', and returns an HTML element.\n",
    "\n",
    "We can use Python's Type Hints to describe the parameters and return value.  \n",
    "\n",
    "```python\n",
    "    def make_element(tag: str, body: str) -> str:\n",
    "```\n",
    "\n",
    "This says that the function takes two strings, tag and body, and returns a string.  \n",
    "\n",
    "If the tag was 'i' and the body was 'very', you would return the HTML string for putting *very* in italics\n",
    "\n",
    "```python\n",
    "    '<i>very</i>'\n",
    "```"
   ]
  },
  {
   "cell_type": "markdown",
   "metadata": {},
   "source": [
    "<div class=\"alert alert-block alert-info\">\n",
    "Fill in your function definition in the cell below.\n",
    "    \n",
    "You could solve this with string addition, but f-string formatting is more powerful and more compact.  I use them in some of the Unit Tests.  \n",
    "    \n",
    "Here is one discussion of f-strings formatting:\n",
    "    \n",
    "    https://www.geeksforgeeks.org/formatted-string-literals-f-strings-python/\n",
    "    \n",
    "</div>"
   ]
  },
  {
   "cell_type": "code",
   "execution_count": 2,
   "metadata": {},
   "outputs": [],
   "source": [
    "def make_element(tag:str, body:str):\n",
    "    return f\"<{tag}>{body}</{tag}>\""
   ]
  },
  {
   "cell_type": "markdown",
   "metadata": {},
   "source": [
    "<div class=\"alert alert-block alert-danger\">\n",
    "Run the cell below to test your function.\n",
    "</div>"
   ]
  },
  {
   "cell_type": "code",
   "execution_count": 3,
   "metadata": {},
   "outputs": [
    {
     "data": {
      "text/plain": [
       "'<i>very</i>'"
      ]
     },
     "execution_count": 3,
     "metadata": {},
     "output_type": "execute_result"
    }
   ],
   "source": [
    "make_element('i', 'very')"
   ]
  },
  {
   "cell_type": "markdown",
   "metadata": {},
   "source": [
    "### Unit tests for make_tags()"
   ]
  },
  {
   "cell_type": "code",
   "execution_count": 4,
   "metadata": {},
   "outputs": [
    {
     "name": "stdout",
     "output_type": "stream",
     "text": [
      "Success!\n"
     ]
    }
   ],
   "source": [
    "def validate_make_tag():\n",
    "    assert make_element('i', 'very') == '<i>very</i>', \"Expected '<i>very</i>'\"\n",
    "    assert make_element('html', 'In production') == '<html>In production</html>', \"Expected '<html>In production</html>'\"\n",
    "    assert make_element('head', 'Tale') == '<head>Tale</head>', \"Expected '<head>Tale</head>'\"\n",
    "    assert make_element('title', 'Heavyweight Champion') == '<title>Heavyweight Champion</title>', \"Expected '<title>Heavyweight Champion</title>'\"\n",
    "\n",
    "    print('Success!')\n",
    "    \n",
    "validate_make_tag()"
   ]
  },
  {
   "cell_type": "markdown",
   "metadata": {},
   "source": [
    "## Problem 2: Sleep In (20 points)\n",
    "\n",
    "When I am working, I get up at 6AM.  \n",
    "\n",
    "I sleep in on vacation and I sleep in on the weekends.\n",
    "\n",
    "Write a Boolean function which takes two Boolean parameters, weekday, and vacation.\n",
    "\n",
    "```python\n",
    "    def sleep_in(weekday: bool, vacation: bool) -> bool:\n",
    "```\n",
    "\n",
    "You should return **True** if I would sleep in, and **False** if I need to get up early and work.  \n",
    "\n",
    "Hint: *Your function should return a Boolean expression based on the two Booleans, **weekday** and **vacation**.*"
   ]
  },
  {
   "cell_type": "markdown",
   "metadata": {},
   "source": [
    "<div class=\"alert alert-block alert-info\">\n",
    "Fill in your function definition in the cell below.\n",
    "</div>"
   ]
  },
  {
   "cell_type": "code",
   "execution_count": 5,
   "metadata": {},
   "outputs": [],
   "source": [
    "def sleep_in(weekday:bool, vacation:bool):\n",
    "    return not weekday or vacation"
   ]
  },
  {
   "cell_type": "markdown",
   "metadata": {},
   "source": [
    "### Unit tests for sleep_in()"
   ]
  },
  {
   "cell_type": "markdown",
   "metadata": {},
   "source": [
    "<div class=\"alert alert-block alert-danger\">\n",
    "Run the cell below to call your function.\n",
    "</div>"
   ]
  },
  {
   "cell_type": "code",
   "execution_count": 6,
   "metadata": {},
   "outputs": [
    {
     "name": "stdout",
     "output_type": "stream",
     "text": [
      "Success!\n"
     ]
    }
   ],
   "source": [
    "def validate_sleep_in():\n",
    "    assert sleep_in(True, True), \"I can sleep on Vacation!\"\n",
    "    assert sleep_in(False, True),\"I can sleep on the weekends and on Vacation!\"\n",
    "    assert not sleep_in(True, False), \"I have to get up during the work week!\"\n",
    "    assert sleep_in(False, False), \"I can sleep on the weekends!\"\n",
    "\n",
    "    print('Success!')\n",
    "\n",
    "validate_sleep_in()"
   ]
  },
  {
   "cell_type": "markdown",
   "metadata": {},
   "source": [
    "## Problem 3: Justify yourself! (25 points)\n",
    "\n",
    "Your goal is to right justify a line of text.  \n",
    "\n",
    "Write a function named right_justify() that takes a string named text as a parameter and returns a string of length 70 that begins with blanks and ends with the string text.  See the example in the comments below.  \n",
    "\n",
    "```python\n",
    "    def right_justify(text: str) -> str:\n",
    "        pass\n",
    "```\n",
    "\n",
    "Hint: Use string concatenation and repetition and the Python function len().  Do not use loops or other ideas we haven't discussed yet."
   ]
  },
  {
   "cell_type": "markdown",
   "metadata": {},
   "source": [
    "<div class=\"alert alert-block alert-info\">\n",
    "Fill in your function definition in the cell below.\n",
    "</div>"
   ]
  },
  {
   "cell_type": "code",
   "execution_count": 7,
   "metadata": {},
   "outputs": [],
   "source": [
    "# right_justify('monty') should return a string of length 70, ending with monty:\n",
    "# returns: '                                                                 monty'\n",
    "def right_justify(text:str):\n",
    "    return f\"{' '*(70-len(text))}{text}\""
   ]
  },
  {
   "cell_type": "markdown",
   "metadata": {},
   "source": [
    "### Does it work?\n",
    "\n",
    "What strings might make your functions's task difficult? "
   ]
  },
  {
   "cell_type": "markdown",
   "metadata": {},
   "source": [
    "<div class=\"alert alert-block alert-info\">\n",
    "Provide three examples of strings that would be hard to justify\n",
    "</div>"
   ]
  },
  {
   "cell_type": "code",
   "execution_count": 8,
   "metadata": {},
   "outputs": [
    {
     "name": "stdout",
     "output_type": "stream",
     "text": [
      "0123456789012345678901234567890123456789012345678901234567890123456789\n",
      "xxxxxxxxxxxxxxxxxxxxxxxxxxxxxxxxxxxxxxxxxxxxxxxxxxxxxxxxxxxxxxxxxxxxxxxxxxxxxxxx\n",
      "xxxxxxxxxxxxxxxxxxxxxxxxxxxxxxxxxxxxxxxxxxxxxxxxxxxxxxxxxxxxxxxxxxxxxx\n",
      "                                                                      \n",
      "0123456789012345678901234567890123456789012345678901234567890123456789\n"
     ]
    }
   ],
   "source": [
    "# What strings would be hard to justify?\n",
    "print('0123456789'*7)\n",
    "# Strings with the length more than 70\n",
    "print(right_justify('x'*80))\n",
    "# Strings with the exact length of 70\n",
    "print(right_justify('x'*70))\n",
    "# Strings with a space character as it shows nothing \n",
    "print(right_justify(' '))\n",
    "print('0123456789'*7)"
   ]
  },
  {
   "cell_type": "markdown",
   "metadata": {},
   "source": [
    "<div class=\"alert alert-block alert-danger\">\n",
    "Run the two cells below to test your function.\n",
    "</div>"
   ]
  },
  {
   "cell_type": "code",
   "execution_count": 9,
   "metadata": {},
   "outputs": [
    {
     "name": "stdout",
     "output_type": "stream",
     "text": [
      "0123456789012345678901234567890123456789012345678901234567890123456789\n",
      "                                                                 monty\n",
      "                                                                   one\n",
      "                                                                   two\n",
      "                                                                 three\n"
     ]
    }
   ],
   "source": [
    "# Print a ruler to check your results\n",
    "print('0123456789' * 7)\n",
    "\n",
    "# Test your routine on my example\n",
    "print(right_justify('monty'))\n",
    "\n",
    "# Add some test cases below - replace my strings with more interesting test cases\n",
    "print(right_justify('one'))\n",
    "print(right_justify('two'))\n",
    "print(right_justify('three'))"
   ]
  },
  {
   "cell_type": "markdown",
   "metadata": {},
   "source": [
    "### Unit tests for justify()"
   ]
  },
  {
   "cell_type": "markdown",
   "metadata": {},
   "source": [
    "<div class=\"alert alert-block alert-danger\">\n",
    "Now run the Unit Tests to check your work\n",
    "</div>"
   ]
  },
  {
   "cell_type": "code",
   "execution_count": 10,
   "metadata": {},
   "outputs": [
    {
     "name": "stdout",
     "output_type": "stream",
     "text": [
      "Success!\n"
     ]
    }
   ],
   "source": [
    "def validate_justify(before: str):\n",
    "    after = right_justify(before)\n",
    "    assert len(after) == 70, f\"Wrong length {len(after)} after justifying {before}.\"\n",
    "    if (before): \n",
    "        assert before == after[-len(before):], f\"Should find '{before}' on right end.\"\n",
    "    length = 70 - len(before)\n",
    "    if length > 0:\n",
    "        assert ' '*length == after[:length], f\"Should find blanks on left end.\"\n",
    "\n",
    "def validate_suite():\n",
    "    validate_justify(' ')\n",
    "    validate_justify('one')\n",
    "    validate_justify('two')\n",
    "    validate_justify('three')\n",
    "    validate_justify('Monty')\n",
    "    validate_justify('Project Oxygen shocked everyone by concluding that, among the eight...')\n",
    "    validate_justify('')\n",
    "\n",
    "    print('Success!')\n",
    "\n",
    "validate_suite()"
   ]
  },
  {
   "cell_type": "markdown",
   "metadata": {},
   "source": [
    "## Problem 4: Boxed in (25 points)\n",
    "\n",
    "### A) Write a function that draws a 2 x 2 grid like this using what we have learned so far.\n",
    "\n",
    "### *Don't use loops of any kind - we haven't covered them yet.*  \n",
    "\n",
    "\n",
    "```python\n",
    "+-----+-----+\n",
    "|     |     |\n",
    "|     |     |\n",
    "|     |     |\n",
    "+-----+-----+\n",
    "|     |     |\n",
    "|     |     |\n",
    "|     |     |\n",
    "+-----+-----+\n",
    "```\n",
    "\n",
    "### B) Write a function that draws a 4 x 4 grid:\n",
    "\n",
    "```python\n",
    "+-----+-----+-----+-----+\n",
    "|     |     |     |     |\n",
    "|     |     |     |     |\n",
    "|     |     |     |     |\n",
    "+-----+-----+-----+-----+\n",
    "|     |     |     |     |\n",
    "|     |     |     |     |\n",
    "|     |     |     |     |\n",
    "+-----+-----+-----+-----+\n",
    "|     |     |     |     |\n",
    "|     |     |     |     |\n",
    "|     |     |     |     |\n",
    "+-----+-----+-----+-----+\n",
    "|     |     |     |     |\n",
    "|     |     |     |     |\n",
    "|     |     |     |     |\n",
    "+-----+-----+-----+-----+\n",
    "```\n",
    "\n",
    "This  is an exercise in creating reusable components.  It should be done using only the statements and other features we have learned so far.  That is, no loops of any kind should be used.  \n",
    "\n",
    "### Here are two ways to solve this problem.  I prefer mine to Downey's\n",
    "\n",
    "### Hint 1: Downey's approach\n",
    "\n",
    "Downey notes that to print more than one value on a line, you can print a comma-separated sequence of values:\n",
    "\n",
    "```python\n",
    "    print('+', '-')\n",
    "```\n",
    "By default, print advances to the next line, but you can override that behavior and put something else at the end, like this:\n",
    "\n",
    "```python\n",
    "    print('+', end='')\n",
    "    print('-')\n",
    "```\n",
    "\n",
    "The output of these statements is '+-' on the same line, as you can see by running the cell below.  The output from the next print statement would begin on the next line."
   ]
  },
  {
   "cell_type": "code",
   "execution_count": 11,
   "metadata": {},
   "outputs": [
    {
     "name": "stdout",
     "output_type": "stream",
     "text": [
      "+\n",
      "-\n",
      "\n",
      "+-\n"
     ]
    }
   ],
   "source": [
    "# Example for Hint 1 A\n",
    "# Produces two lines: default behavior is to print value followed by a newline\n",
    "print('+')\n",
    "print('-')\n",
    "\n",
    "# Add a blank line to set off the next line\n",
    "print() \n",
    "\n",
    "# Produces one line\n",
    "print('+', end='')   # Turn off newline\n",
    "print('-')"
   ]
  },
  {
   "cell_type": "markdown",
   "metadata": {},
   "source": [
    "### Hint 2: Alternative approach\n",
    "\n",
    "I like to assemble components of each line of the output as a long string and print that rather than printing each piece.  \n",
    "\n",
    "Lines are combined to return one string that holds the whole figure, which the caller can print. \n",
    "\n",
    "Here is an obfuscated example of how this works.  Each call to combine() produces a new line of the figure, and we add the lines together. \n",
    "\n",
    "It may be hard to predict the outcome, but I hope the method used to assemble the result is clear.  "
   ]
  },
  {
   "cell_type": "code",
   "execution_count": 12,
   "metadata": {},
   "outputs": [],
   "source": [
    "def combine(s):\n",
    "    return s + s[::-1][1:] + \"\\n\"\n",
    "\n",
    "def kilroy():\n",
    "    a = \"        ||\"\n",
    "    b = \"_(-Ooo----\"\n",
    "    c = \"       (o \"\n",
    "\n",
    "    result = combine(a) + combine(c) + combine(b[::-1])\n",
    "    \n",
    "    return result"
   ]
  },
  {
   "cell_type": "markdown",
   "metadata": {},
   "source": [
    "<div class=\"alert alert-block alert-info\">\n",
    "Predict what kilroy() returns before running the cell below.\n",
    "</div>"
   ]
  },
  {
   "cell_type": "code",
   "execution_count": 13,
   "metadata": {},
   "outputs": [
    {
     "name": "stdout",
     "output_type": "stream",
     "text": [
      "        |||        \n",
      "       (o o(       \n",
      "----ooO-(_(-Ooo----\n",
      "\n"
     ]
    }
   ],
   "source": [
    "print(kilroy())"
   ]
  },
  {
   "cell_type": "markdown",
   "metadata": {},
   "source": [
    "### Hint 3: Can you write one function that solves both 4A and 4B?"
   ]
  },
  {
   "cell_type": "markdown",
   "metadata": {},
   "source": [
    "## Your Solution:"
   ]
  },
  {
   "cell_type": "markdown",
   "metadata": {},
   "source": [
    "<div class=\"alert alert-block alert-danger\">\n",
    "Fill in your function to print a 2x2 grid in the cell below and call it.\n",
    "    \n",
    "We expect to see the 2x2 box below the cell.\n",
    "</div>"
   ]
  },
  {
   "cell_type": "code",
   "execution_count": 14,
   "metadata": {},
   "outputs": [
    {
     "name": "stdout",
     "output_type": "stream",
     "text": [
      "+-----+-----+\n",
      "|     |     |\n",
      "|     |     |\n",
      "|     |     |\n",
      "+-----+-----+\n",
      "|     |     |\n",
      "|     |     |\n",
      "|     |     |\n",
      "+-----+-----+\n"
     ]
    }
   ],
   "source": [
    "# 4A: Write a function to print a 2x2 grid\n",
    "\n",
    "def draw_ver_2(): \n",
    "    print('|     '*2, '|', '\\n', sep='', end='')\n",
    "\n",
    "def draw_hor_2():\n",
    "    print('+-----'*2, '+', '\\n', sep='', end='')\n",
    "    \n",
    "def print_grid_2():\n",
    "    for i in range(2): \n",
    "        draw_hor_2()\n",
    "        draw_ver_2()\n",
    "        draw_ver_2()\n",
    "        draw_ver_2()\n",
    "    draw_hor_2()\n",
    "\n",
    "print_grid_2()"
   ]
  },
  {
   "cell_type": "markdown",
   "metadata": {},
   "source": [
    "<div class=\"alert alert-block alert-danger\">\n",
    "Fill in your function to print a 4x4 grid in the cell below and call it.\n",
    "    \n",
    "We expect to see the 4x4 box below the cell.\n",
    "</div>"
   ]
  },
  {
   "cell_type": "code",
   "execution_count": 15,
   "metadata": {},
   "outputs": [
    {
     "name": "stdout",
     "output_type": "stream",
     "text": [
      "+-----+-----+-----+-----+\n",
      "|     |     |     |     |\n",
      "|     |     |     |     |\n",
      "|     |     |     |     |\n",
      "+-----+-----+-----+-----+\n",
      "|     |     |     |     |\n",
      "|     |     |     |     |\n",
      "|     |     |     |     |\n",
      "+-----+-----+-----+-----+\n",
      "|     |     |     |     |\n",
      "|     |     |     |     |\n",
      "|     |     |     |     |\n",
      "+-----+-----+-----+-----+\n",
      "|     |     |     |     |\n",
      "|     |     |     |     |\n",
      "|     |     |     |     |\n",
      "+-----+-----+-----+-----+\n"
     ]
    }
   ],
   "source": [
    "# 4B: Write a function to to print a 4x4 grid\n",
    "\n",
    "def draw_ver_4(): \n",
    "    print('|     '*4, '|', '\\n', sep='', end='')\n",
    "\n",
    "def draw_hor_4():\n",
    "    print('+-----'*4, '+', '\\n', sep='', end='')\n",
    "    \n",
    "def print_grid_4():\n",
    "    for i in range(4): \n",
    "        draw_hor_4()\n",
    "        draw_ver_4()\n",
    "        draw_ver_4()\n",
    "        draw_ver_4()\n",
    "    draw_hor_4()\n",
    "\n",
    "print_grid_4()"
   ]
  },
  {
   "cell_type": "markdown",
   "metadata": {},
   "source": [
    "<div class=\"alert alert-block alert-info\">\n",
    "# 4C: can you write one function to draw grids of arbitrary sizes?\n",
    "</div>"
   ]
  },
  {
   "cell_type": "code",
   "execution_count": 16,
   "metadata": {},
   "outputs": [
    {
     "name": "stdout",
     "output_type": "stream",
     "text": [
      "+-----+-----+-----+\n",
      "|     |     |     |\n",
      "|     |     |     |\n",
      "|     |     |     |\n",
      "+-----+-----+-----+\n",
      "|     |     |     |\n",
      "|     |     |     |\n",
      "|     |     |     |\n",
      "+-----+-----+-----+\n",
      "|     |     |     |\n",
      "|     |     |     |\n",
      "|     |     |     |\n",
      "+-----+-----+-----+\n",
      "+-----+-----+-----+-----+-----+-----+\n",
      "|     |     |     |     |     |     |\n",
      "|     |     |     |     |     |     |\n",
      "|     |     |     |     |     |     |\n",
      "+-----+-----+-----+-----+-----+-----+\n",
      "|     |     |     |     |     |     |\n",
      "|     |     |     |     |     |     |\n",
      "|     |     |     |     |     |     |\n",
      "+-----+-----+-----+-----+-----+-----+\n",
      "|     |     |     |     |     |     |\n",
      "|     |     |     |     |     |     |\n",
      "|     |     |     |     |     |     |\n",
      "+-----+-----+-----+-----+-----+-----+\n",
      "|     |     |     |     |     |     |\n",
      "|     |     |     |     |     |     |\n",
      "|     |     |     |     |     |     |\n",
      "+-----+-----+-----+-----+-----+-----+\n",
      "|     |     |     |     |     |     |\n",
      "|     |     |     |     |     |     |\n",
      "|     |     |     |     |     |     |\n",
      "+-----+-----+-----+-----+-----+-----+\n",
      "|     |     |     |     |     |     |\n",
      "|     |     |     |     |     |     |\n",
      "|     |     |     |     |     |     |\n",
      "+-----+-----+-----+-----+-----+-----+\n"
     ]
    }
   ],
   "source": [
    "def draw_ver(num): \n",
    "    print('|     '*num, '|', '\\n', sep='', end='')\n",
    "\n",
    "def draw_hor(num):\n",
    "    print('+-----'*num, '+', '\\n', sep='', end='')\n",
    "    \n",
    "def print_grid(num:int):\n",
    "    for i in range(num): \n",
    "        draw_hor(num)\n",
    "        draw_ver(num)\n",
    "        draw_ver(num)\n",
    "        draw_ver(num)\n",
    "    draw_hor(num)\n",
    "\n",
    "# Testing: \n",
    "print_grid(3)\n",
    "print_grid(6)"
   ]
  },
  {
   "cell_type": "markdown",
   "metadata": {},
   "source": [
    "# Problem 5 ( 5 points)\n",
    "\n",
    "Describe how you would solve the following problem.  \n",
    "\n",
    "Given an absolute pathname that may include . or .. , return the shortest standardized path.\n",
    "\n",
    "For example, given \n",
    "```python\n",
    "path = \"/usr/bin/../bin/./scripts/../\"\n",
    "```\n",
    "return \"/usr/bin/\".\n",
    "\n",
    "'.' means the current directory, and '..' means the parent directory.  Thus \"/bin/./ is still /bin, and /bin/../bin/ is \"descend into directory bin, go back up one level, and descend again into bin\", so it is also still /bin/\n",
    "\n",
    "A useful Python string method we will learn is split().  path.split() would return a list of the components.  Try the cell below to see how this works"
   ]
  },
  {
   "cell_type": "code",
   "execution_count": 17,
   "metadata": {},
   "outputs": [
    {
     "data": {
      "text/plain": [
       "['', 'usr', 'bin', '..', 'bin', '.', 'scripts', '..', '']"
      ]
     },
     "execution_count": 17,
     "metadata": {},
     "output_type": "execute_result"
    }
   ],
   "source": [
    "path=\"/usr/bin/../bin/./scripts/../\"\n",
    "path.split('/')"
   ]
  },
  {
   "cell_type": "markdown",
   "metadata": {},
   "source": [
    "The same trick works on DOS directory names.  We just need to \"escape\" the escape character '\\\\' by repeating it. "
   ]
  },
  {
   "cell_type": "code",
   "execution_count": 18,
   "metadata": {},
   "outputs": [
    {
     "data": {
      "text/plain": [
       "['C:', 'Documents', 'Newsletters', '..', 'Newsletters', '.', 'Summer2018.pdf']"
      ]
     },
     "execution_count": 18,
     "metadata": {},
     "output_type": "execute_result"
    }
   ],
   "source": [
    "path = \"C:\\\\Documents\\\\Newsletters\\\\..\\\\Newsletters\\\\.\\\\Summer2018.pdf\"\n",
    "path.split('\\\\')"
   ]
  },
  {
   "cell_type": "markdown",
   "metadata": {},
   "source": [
    "The shortest standardized path in this case is:\n",
    "\n",
    "C:\\Documents\\Newsletters\\Summer2018.pdf"
   ]
  },
  {
   "cell_type": "code",
   "execution_count": 19,
   "metadata": {},
   "outputs": [
    {
     "name": "stdout",
     "output_type": "stream",
     "text": [
      "/usr/bin/bin/scripts/\n"
     ]
    }
   ],
   "source": [
    "# 1) Determine the path separator ('/' or '\\\\') and concatenate '.' to it \n",
    "# 2) Replace \"..\" with \".\"\n",
    "# 3) Replace the separator with an empty string \n",
    "path1 = \"/usr/bin/../bin/./scripts/../\"\n",
    "path2 = \"C:\\\\Documents\\\\Newsletters\\\\..\\\\Newsletters\\\\.\\\\Summer2018.pdf\"\n",
    "path = path1\n",
    "sep1 = '/'\n",
    "sep2 = '\\\\'\n",
    "sep = sep1 + '.'\n",
    "path = path.replace('..', '.')\n",
    "path = path.replace(sep, '')\n",
    "print(path)"
   ]
  },
  {
   "cell_type": "markdown",
   "metadata": {},
   "source": [
    "# Post mortem"
   ]
  },
  {
   "cell_type": "markdown",
   "metadata": {},
   "source": [
    "<div class=\"alert alert-block alert-info\">\n",
    "How long did it take you to solve this problem set?\n",
    "\n",
    "Did anything confuse you or cause difficulty?\n",
    "</div>"
   ]
  },
  {
   "cell_type": "code",
   "execution_count": 20,
   "metadata": {},
   "outputs": [],
   "source": [
    "# Your thoughts?\n",
    "# 4 HOURS! It's more difficult without conditionals or loops allowed. "
   ]
  }
 ],
 "metadata": {
  "kernelspec": {
   "display_name": "Python 3",
   "language": "python",
   "name": "python3"
  },
  "language_info": {
   "codemirror_mode": {
    "name": "ipython",
    "version": 3
   },
   "file_extension": ".py",
   "mimetype": "text/x-python",
   "name": "python",
   "nbconvert_exporter": "python",
   "pygments_lexer": "ipython3",
   "version": "3.8.8"
  }
 },
 "nbformat": 4,
 "nbformat_minor": 1
}
