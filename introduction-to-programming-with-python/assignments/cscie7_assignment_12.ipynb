{
 "cells": [
  {
   "cell_type": "markdown",
   "metadata": {},
   "source": [
    "# Homework 12\n",
    "\n",
    "## Due Nov 28th, 4PM EST, 2021"
   ]
  },
  {
   "cell_type": "markdown",
   "metadata": {},
   "source": [
    "Fill in your name"
   ]
  },
  {
   "cell_type": "code",
   "execution_count": 2,
   "metadata": {},
   "outputs": [],
   "source": [
    "first_name = \"Roxanne\"\n",
    "last_name = \"Saewong\"\n",
    "nick_name = \"Roxy\"\n",
    "\n",
    "assert(len(first_name) != 0), \"First name is missing\"\n",
    "assert(len(last_name)  != 0), \"Last name is missing\"\n",
    "assert(len(nick_name)  != 0), \"Nickname is missing\""
   ]
  },
  {
   "cell_type": "markdown",
   "metadata": {},
   "source": [
    "# 1) WiFi in Boston\n",
    "\n",
    "The file wifi.csv lists municipal wifi networks in Boston. Plot the location of the networks listed using Latitude and Longitude."
   ]
  },
  {
   "cell_type": "code",
   "execution_count": 3,
   "metadata": {},
   "outputs": [
    {
     "data": {
      "application/vnd.plotly.v1+json": {
       "config": {
        "plotlyServerURL": "https://plot.ly"
       },
       "data": [
        {
         "geo": "geo",
         "hovertemplate": "<b>%{hovertext}</b><br><br>latitude=%{lat}<br>longitude=%{lon}<extra></extra>",
         "hovertext": [
          "1 City Hall Square, Boston, MA",
          "1 Parish St., Dorchester, MA",
          "10 Gove St., East Boston MA",
          "100 Jewish War Veterans Drive, Boston, MA",
          "11 Charles St., Dorchester, MA",
          "110 Atlantic Ave., Boston, MA",
          "1163 Columbia Rd., South  Boston, MA",
          "1179 River St., Hyde Park, MA",
          "1187 Columbia Rd., South Boston, MA",
          "1249 Hyde Park Ave., Hyde Park, MA",
          "125 Magazine St., Roxbury, MA",
          "135 Humboldt Ave., Roxbury, MA",
          "1406 Columbia Rd., South Boston, MA",
          "150 Norfolk Ave., Roxbury, MA",
          "154 Maverick St., East Boston",
          "160 Florence St., Roslindale, MA",
          "174 Dudley St., Roxbury, MA",
          "175 Dudley St., Roxbury, MA",
          "1870 Columbus Ave., Roxbury, MA",
          "189 Glenway St., Dorchester, MA",
          "1990 Columbus Ave., Roxbury, MA",
          "20 South St, Jamaica Plain",
          "201 Sumner St, East Boston",
          "205 Townsend St., Roxbury, MA",
          "239 Sumner St., East Boston, MA",
          "240 Medford St., Charlestown, MA",
          "2400 Washington St., Roxbury, MA",
          "25 Warren St, Brighton MA",
          "26 Central Ave., Hyde Park, MA",
          "27 Maple St., Hyde Park, MA",
          "270 Columbia Rd., Roxbury, MA",
          "2730 Washington St., Roxbury, MA",
          "276 Meridian St., East Boston, MA",
          "2875 Washington St., Roxbury, MA",
          "339 Dudley St., Roxbury, MA",
          "35 Brookford St., Roxbury, MA",
          "35 Harvard Ave., Hyde Park, MA",
          "35 Westville St., Dorchester, MA",
          "360 Old Colony Ave., South Boston, MA",
          "40 Armington St., Allston, MA",
          "40 Gibson St., Dorchester, MA",
          "40 School St., Dorchester, MA",
          "41 Geneva Ave., Roxbury, MA",
          "420 West St., Hyde Park, MA",
          "4246 Washington St., Roslindale MA",
          "425 Faneuil St., Brighton, MA",
          "460 Cambridge St., Allston, MA",
          "476 Blue Hill Ave., Roxbury, MA",
          "500 Columbia Rd., Dorchester, MA",
          "507 Jamaicaway, Jamaica Plain, MA",
          "55 South St, Jamaica Plain",
          "6 Cummings Highway, Roslindale, MA",
          "6 Shirley St., Roxbury, MA",
          "60 Fairmount Ave., Hyde Park, MA",
          "60 Washington St., Dorchester, MA",
          "641 Columbia Rd., Dorchester, MA",
          "65 Warren St., Roxbury, MA",
          "683 Warren St., Roxbury, MA",
          "69 Paris St., East Boston MA",
          "745 E. 7th St., South Boston, MA",
          "746 Centre St, Jamaica Plain",
          "761 Centre St, Jamaica Plain",
          "77 Lawrence Ave., Roxbury, MA",
          "77 Mt. Ida Rd., Dorchester, MA",
          "8 Stanwood St., Roxbury, MA",
          "85 Bradgon St., Roxbury, MA",
          "85 Olney St., Dorchester, MA",
          "88-98 Linden St., Dorchester, MA",
          "906 Albany St., Roxbury, MA",
          "95 G St., South Boston, MA",
          "Bird St. & Glendale St., Dorchester, MA",
          "Boston Common, Boston, MA",
          "Columbia Terrace & Columbia Rd., Roxbury, MA",
          "Cross St. & Atlantic St., Boston, MA",
          "Dennis St. & Winthrop St., Roxbury, MA",
          "Devon St. & Columbia Rd., Roxbury, MA",
          "Faneuil Hall Square, Boston, MA",
          "Farragut Rd. & Day Blvd., South Boston, MA",
          "Firth St. & Washington St., Roslindale, MA",
          "Harold St. & Waumbeck St., Roxbury, MA",
          "Lawrence Ave. & Magnolia St., Roxbury, MA",
          "Oldfields Rd. & Columbia Rd., Roxbury, MA",
          "Rockland St., Roxbury, MA",
          "Sunderland St. & 429 Blue Hill Ave., Roxbury, MA",
          "Warren St. & Moreland St., Roxbury, MA",
          "Wayland St. & Balfour St., Roxbury, MA"
         ],
         "lat": [
          42.3606151,
          42.30831005,
          42.37239016,
          42.3041345,
          42.3009705,
          42.36138914,
          42.32906795,
          42.25638343,
          42.32946061,
          42.25638388,
          42.32745461,
          42.31522687,
          42.33007312,
          42.32607835,
          42.36984835,
          42.28751394,
          42.32893711,
          42.32860794,
          42.31838208,
          42.29658622,
          42.31530555,
          42.30875975,
          42.36890386,
          42.31631732,
          42.368114,
          42.3802111,
          42.32835762,
          42.34919075,
          42.25730853,
          42.25516829,
          42.30887173,
          42.32222152,
          42.37653764,
          42.32034514,
          42.32663925,
          42.31801665,
          42.25713781,
          42.29982849,
          42.32989685,
          42.35224962,
          42.29797442,
          42.29654762,
          42.30793355,
          42.26848743,
          42.28560284,
          42.35122457,
          42.35380191,
          42.30866503,
          42.31469869,
          42.31585334,
          42.30823044,
          42.28613364,
          42.32355143,
          42.25506146,
          42.30698189,
          42.31838143,
          42.3280116,
          42.3096584,
          42.37106903,
          42.33192779,
          42.31051775,
          42.31002577,
          42.31115385,
          42.30377602,
          42.31022806,
          42.3191397,
          42.30548124,
          42.30515979,
          42.33047266,
          42.33252393,
          42.31352079,
          42.35583966,
          42.30956057,
          42.36090948,
          42.32282145,
          42.3075824,
          42.35995336,
          42.33307386,
          42.28864618,
          42.31544155,
          42.31063045,
          42.30643942,
          42.32274624,
          42.31027963,
          42.32596515,
          42.31416172
         ],
         "legendgroup": "",
         "lon": [
          -71.05837045,
          -71.06097644,
          -71.03830185,
          -71.09810293,
          -71.06195297,
          -71.05197815,
          -71.05144635,
          -71.12108478,
          -71.05139743,
          -71.12435277,
          -71.06880421,
          -71.08806348,
          -71.0440921,
          -71.07103427,
          -71.03798915,
          -71.12249685,
          -71.08240248,
          -71.08275653,
          -71.09795398,
          -71.08065459,
          -71.09734609,
          -71.11514356,
          -71.03970408,
          -71.08508393,
          -71.03856443,
          -71.06086944,
          -71.08424272,
          -71.14610407,
          -71.12122426,
          -71.12236327,
          -71.07478522,
          -71.09028814,
          -71.03961049,
          -71.09454526,
          -71.07677141,
          -71.0757695,
          -71.12218985,
          -71.07066118,
          -71.05260443,
          -71.13754912,
          -71.05920503,
          -71.07521522,
          -71.08138004,
          -71.13174271,
          -71.1286116,
          -71.16817528,
          -71.13618164,
          -71.08296771,
          -71.0678022,
          -71.11748671,
          -71.11558427,
          -71.1282495,
          -71.07272586,
          -71.11977914,
          -71.08127069,
          -71.06323371,
          -71.08341096,
          -71.08289331,
          -71.03841026,
          -71.03003244,
          -71.11453964,
          -71.1152111,
          -71.07642169,
          -71.06343194,
          -71.08177681,
          -71.09938869,
          -71.07387168,
          -71.06166031,
          -71.07772778,
          -71.04506842,
          -71.07004218,
          -71.06551582,
          -71.07320815,
          -71.05276275,
          -71.07500234,
          -71.07614778,
          -71.05384135,
          -71.02482895,
          -71.12575829,
          -71.09100819,
          -71.07439604,
          -71.07771594,
          -71.08695167,
          -71.08199675,
          -71.08334123,
          -71.07640669
         ],
         "marker": {
          "color": "#636efa",
          "symbol": "circle"
         },
         "mode": "markers",
         "name": "",
         "showlegend": false,
         "type": "scattergeo"
        }
       ],
       "layout": {
        "autosize": true,
        "geo": {
         "center": {},
         "countrycolor": "Black",
         "domain": {
          "x": [
           0,
           1
          ],
          "y": [
           0,
           1
          ]
         },
         "fitbounds": "locations",
         "scope": "usa",
         "showcountries": true,
         "showsubunits": true,
         "subunitcolor": "#008080"
        },
        "legend": {
         "tracegroupgap": 0
        },
        "margin": {
         "b": 20,
         "l": 20,
         "r": 20,
         "t": 20
        },
        "template": {
         "data": {
          "bar": [
           {
            "error_x": {
             "color": "#2a3f5f"
            },
            "error_y": {
             "color": "#2a3f5f"
            },
            "marker": {
             "line": {
              "color": "#E5ECF6",
              "width": 0.5
             },
             "pattern": {
              "fillmode": "overlay",
              "size": 10,
              "solidity": 0.2
             }
            },
            "type": "bar"
           }
          ],
          "barpolar": [
           {
            "marker": {
             "line": {
              "color": "#E5ECF6",
              "width": 0.5
             },
             "pattern": {
              "fillmode": "overlay",
              "size": 10,
              "solidity": 0.2
             }
            },
            "type": "barpolar"
           }
          ],
          "carpet": [
           {
            "aaxis": {
             "endlinecolor": "#2a3f5f",
             "gridcolor": "white",
             "linecolor": "white",
             "minorgridcolor": "white",
             "startlinecolor": "#2a3f5f"
            },
            "baxis": {
             "endlinecolor": "#2a3f5f",
             "gridcolor": "white",
             "linecolor": "white",
             "minorgridcolor": "white",
             "startlinecolor": "#2a3f5f"
            },
            "type": "carpet"
           }
          ],
          "choropleth": [
           {
            "colorbar": {
             "outlinewidth": 0,
             "ticks": ""
            },
            "type": "choropleth"
           }
          ],
          "contour": [
           {
            "colorbar": {
             "outlinewidth": 0,
             "ticks": ""
            },
            "colorscale": [
             [
              0,
              "#0d0887"
             ],
             [
              0.1111111111111111,
              "#46039f"
             ],
             [
              0.2222222222222222,
              "#7201a8"
             ],
             [
              0.3333333333333333,
              "#9c179e"
             ],
             [
              0.4444444444444444,
              "#bd3786"
             ],
             [
              0.5555555555555556,
              "#d8576b"
             ],
             [
              0.6666666666666666,
              "#ed7953"
             ],
             [
              0.7777777777777778,
              "#fb9f3a"
             ],
             [
              0.8888888888888888,
              "#fdca26"
             ],
             [
              1,
              "#f0f921"
             ]
            ],
            "type": "contour"
           }
          ],
          "contourcarpet": [
           {
            "colorbar": {
             "outlinewidth": 0,
             "ticks": ""
            },
            "type": "contourcarpet"
           }
          ],
          "heatmap": [
           {
            "colorbar": {
             "outlinewidth": 0,
             "ticks": ""
            },
            "colorscale": [
             [
              0,
              "#0d0887"
             ],
             [
              0.1111111111111111,
              "#46039f"
             ],
             [
              0.2222222222222222,
              "#7201a8"
             ],
             [
              0.3333333333333333,
              "#9c179e"
             ],
             [
              0.4444444444444444,
              "#bd3786"
             ],
             [
              0.5555555555555556,
              "#d8576b"
             ],
             [
              0.6666666666666666,
              "#ed7953"
             ],
             [
              0.7777777777777778,
              "#fb9f3a"
             ],
             [
              0.8888888888888888,
              "#fdca26"
             ],
             [
              1,
              "#f0f921"
             ]
            ],
            "type": "heatmap"
           }
          ],
          "heatmapgl": [
           {
            "colorbar": {
             "outlinewidth": 0,
             "ticks": ""
            },
            "colorscale": [
             [
              0,
              "#0d0887"
             ],
             [
              0.1111111111111111,
              "#46039f"
             ],
             [
              0.2222222222222222,
              "#7201a8"
             ],
             [
              0.3333333333333333,
              "#9c179e"
             ],
             [
              0.4444444444444444,
              "#bd3786"
             ],
             [
              0.5555555555555556,
              "#d8576b"
             ],
             [
              0.6666666666666666,
              "#ed7953"
             ],
             [
              0.7777777777777778,
              "#fb9f3a"
             ],
             [
              0.8888888888888888,
              "#fdca26"
             ],
             [
              1,
              "#f0f921"
             ]
            ],
            "type": "heatmapgl"
           }
          ],
          "histogram": [
           {
            "marker": {
             "pattern": {
              "fillmode": "overlay",
              "size": 10,
              "solidity": 0.2
             }
            },
            "type": "histogram"
           }
          ],
          "histogram2d": [
           {
            "colorbar": {
             "outlinewidth": 0,
             "ticks": ""
            },
            "colorscale": [
             [
              0,
              "#0d0887"
             ],
             [
              0.1111111111111111,
              "#46039f"
             ],
             [
              0.2222222222222222,
              "#7201a8"
             ],
             [
              0.3333333333333333,
              "#9c179e"
             ],
             [
              0.4444444444444444,
              "#bd3786"
             ],
             [
              0.5555555555555556,
              "#d8576b"
             ],
             [
              0.6666666666666666,
              "#ed7953"
             ],
             [
              0.7777777777777778,
              "#fb9f3a"
             ],
             [
              0.8888888888888888,
              "#fdca26"
             ],
             [
              1,
              "#f0f921"
             ]
            ],
            "type": "histogram2d"
           }
          ],
          "histogram2dcontour": [
           {
            "colorbar": {
             "outlinewidth": 0,
             "ticks": ""
            },
            "colorscale": [
             [
              0,
              "#0d0887"
             ],
             [
              0.1111111111111111,
              "#46039f"
             ],
             [
              0.2222222222222222,
              "#7201a8"
             ],
             [
              0.3333333333333333,
              "#9c179e"
             ],
             [
              0.4444444444444444,
              "#bd3786"
             ],
             [
              0.5555555555555556,
              "#d8576b"
             ],
             [
              0.6666666666666666,
              "#ed7953"
             ],
             [
              0.7777777777777778,
              "#fb9f3a"
             ],
             [
              0.8888888888888888,
              "#fdca26"
             ],
             [
              1,
              "#f0f921"
             ]
            ],
            "type": "histogram2dcontour"
           }
          ],
          "mesh3d": [
           {
            "colorbar": {
             "outlinewidth": 0,
             "ticks": ""
            },
            "type": "mesh3d"
           }
          ],
          "parcoords": [
           {
            "line": {
             "colorbar": {
              "outlinewidth": 0,
              "ticks": ""
             }
            },
            "type": "parcoords"
           }
          ],
          "pie": [
           {
            "automargin": true,
            "type": "pie"
           }
          ],
          "scatter": [
           {
            "marker": {
             "colorbar": {
              "outlinewidth": 0,
              "ticks": ""
             }
            },
            "type": "scatter"
           }
          ],
          "scatter3d": [
           {
            "line": {
             "colorbar": {
              "outlinewidth": 0,
              "ticks": ""
             }
            },
            "marker": {
             "colorbar": {
              "outlinewidth": 0,
              "ticks": ""
             }
            },
            "type": "scatter3d"
           }
          ],
          "scattercarpet": [
           {
            "marker": {
             "colorbar": {
              "outlinewidth": 0,
              "ticks": ""
             }
            },
            "type": "scattercarpet"
           }
          ],
          "scattergeo": [
           {
            "marker": {
             "colorbar": {
              "outlinewidth": 0,
              "ticks": ""
             }
            },
            "type": "scattergeo"
           }
          ],
          "scattergl": [
           {
            "marker": {
             "colorbar": {
              "outlinewidth": 0,
              "ticks": ""
             }
            },
            "type": "scattergl"
           }
          ],
          "scattermapbox": [
           {
            "marker": {
             "colorbar": {
              "outlinewidth": 0,
              "ticks": ""
             }
            },
            "type": "scattermapbox"
           }
          ],
          "scatterpolar": [
           {
            "marker": {
             "colorbar": {
              "outlinewidth": 0,
              "ticks": ""
             }
            },
            "type": "scatterpolar"
           }
          ],
          "scatterpolargl": [
           {
            "marker": {
             "colorbar": {
              "outlinewidth": 0,
              "ticks": ""
             }
            },
            "type": "scatterpolargl"
           }
          ],
          "scatterternary": [
           {
            "marker": {
             "colorbar": {
              "outlinewidth": 0,
              "ticks": ""
             }
            },
            "type": "scatterternary"
           }
          ],
          "surface": [
           {
            "colorbar": {
             "outlinewidth": 0,
             "ticks": ""
            },
            "colorscale": [
             [
              0,
              "#0d0887"
             ],
             [
              0.1111111111111111,
              "#46039f"
             ],
             [
              0.2222222222222222,
              "#7201a8"
             ],
             [
              0.3333333333333333,
              "#9c179e"
             ],
             [
              0.4444444444444444,
              "#bd3786"
             ],
             [
              0.5555555555555556,
              "#d8576b"
             ],
             [
              0.6666666666666666,
              "#ed7953"
             ],
             [
              0.7777777777777778,
              "#fb9f3a"
             ],
             [
              0.8888888888888888,
              "#fdca26"
             ],
             [
              1,
              "#f0f921"
             ]
            ],
            "type": "surface"
           }
          ],
          "table": [
           {
            "cells": {
             "fill": {
              "color": "#EBF0F8"
             },
             "line": {
              "color": "white"
             }
            },
            "header": {
             "fill": {
              "color": "#C8D4E3"
             },
             "line": {
              "color": "white"
             }
            },
            "type": "table"
           }
          ]
         },
         "layout": {
          "annotationdefaults": {
           "arrowcolor": "#2a3f5f",
           "arrowhead": 0,
           "arrowwidth": 1
          },
          "autotypenumbers": "strict",
          "coloraxis": {
           "colorbar": {
            "outlinewidth": 0,
            "ticks": ""
           }
          },
          "colorscale": {
           "diverging": [
            [
             0,
             "#8e0152"
            ],
            [
             0.1,
             "#c51b7d"
            ],
            [
             0.2,
             "#de77ae"
            ],
            [
             0.3,
             "#f1b6da"
            ],
            [
             0.4,
             "#fde0ef"
            ],
            [
             0.5,
             "#f7f7f7"
            ],
            [
             0.6,
             "#e6f5d0"
            ],
            [
             0.7,
             "#b8e186"
            ],
            [
             0.8,
             "#7fbc41"
            ],
            [
             0.9,
             "#4d9221"
            ],
            [
             1,
             "#276419"
            ]
           ],
           "sequential": [
            [
             0,
             "#0d0887"
            ],
            [
             0.1111111111111111,
             "#46039f"
            ],
            [
             0.2222222222222222,
             "#7201a8"
            ],
            [
             0.3333333333333333,
             "#9c179e"
            ],
            [
             0.4444444444444444,
             "#bd3786"
            ],
            [
             0.5555555555555556,
             "#d8576b"
            ],
            [
             0.6666666666666666,
             "#ed7953"
            ],
            [
             0.7777777777777778,
             "#fb9f3a"
            ],
            [
             0.8888888888888888,
             "#fdca26"
            ],
            [
             1,
             "#f0f921"
            ]
           ],
           "sequentialminus": [
            [
             0,
             "#0d0887"
            ],
            [
             0.1111111111111111,
             "#46039f"
            ],
            [
             0.2222222222222222,
             "#7201a8"
            ],
            [
             0.3333333333333333,
             "#9c179e"
            ],
            [
             0.4444444444444444,
             "#bd3786"
            ],
            [
             0.5555555555555556,
             "#d8576b"
            ],
            [
             0.6666666666666666,
             "#ed7953"
            ],
            [
             0.7777777777777778,
             "#fb9f3a"
            ],
            [
             0.8888888888888888,
             "#fdca26"
            ],
            [
             1,
             "#f0f921"
            ]
           ]
          },
          "colorway": [
           "#636efa",
           "#EF553B",
           "#00cc96",
           "#ab63fa",
           "#FFA15A",
           "#19d3f3",
           "#FF6692",
           "#B6E880",
           "#FF97FF",
           "#FECB52"
          ],
          "font": {
           "color": "#2a3f5f"
          },
          "geo": {
           "bgcolor": "white",
           "lakecolor": "white",
           "landcolor": "#E5ECF6",
           "showlakes": true,
           "showland": true,
           "subunitcolor": "white"
          },
          "hoverlabel": {
           "align": "left"
          },
          "hovermode": "closest",
          "mapbox": {
           "style": "light"
          },
          "paper_bgcolor": "white",
          "plot_bgcolor": "#E5ECF6",
          "polar": {
           "angularaxis": {
            "gridcolor": "white",
            "linecolor": "white",
            "ticks": ""
           },
           "bgcolor": "#E5ECF6",
           "radialaxis": {
            "gridcolor": "white",
            "linecolor": "white",
            "ticks": ""
           }
          },
          "scene": {
           "xaxis": {
            "backgroundcolor": "#E5ECF6",
            "gridcolor": "white",
            "gridwidth": 2,
            "linecolor": "white",
            "showbackground": true,
            "ticks": "",
            "zerolinecolor": "white"
           },
           "yaxis": {
            "backgroundcolor": "#E5ECF6",
            "gridcolor": "white",
            "gridwidth": 2,
            "linecolor": "white",
            "showbackground": true,
            "ticks": "",
            "zerolinecolor": "white"
           },
           "zaxis": {
            "backgroundcolor": "#E5ECF6",
            "gridcolor": "white",
            "gridwidth": 2,
            "linecolor": "white",
            "showbackground": true,
            "ticks": "",
            "zerolinecolor": "white"
           }
          },
          "shapedefaults": {
           "line": {
            "color": "#2a3f5f"
           }
          },
          "ternary": {
           "aaxis": {
            "gridcolor": "white",
            "linecolor": "white",
            "ticks": ""
           },
           "baxis": {
            "gridcolor": "white",
            "linecolor": "white",
            "ticks": ""
           },
           "bgcolor": "#E5ECF6",
           "caxis": {
            "gridcolor": "white",
            "linecolor": "white",
            "ticks": ""
           }
          },
          "title": {
           "x": 0.05
          },
          "xaxis": {
           "automargin": true,
           "gridcolor": "white",
           "linecolor": "white",
           "ticks": "",
           "title": {
            "standoff": 15
           },
           "zerolinecolor": "white",
           "zerolinewidth": 2
          },
          "yaxis": {
           "automargin": true,
           "gridcolor": "white",
           "linecolor": "white",
           "ticks": "",
           "title": {
            "standoff": 15
           },
           "zerolinecolor": "white",
           "zerolinewidth": 2
          }
         }
        },
        "title": {
         "pad": {
          "b": 10,
          "l": 10,
          "r": 10,
          "t": 10
         },
         "text": "Boston Wi-fi",
         "x": 0.5,
         "y": 1
        },
        "width": 800
       }
      }
     },
     "metadata": {},
     "output_type": "display_data"
    }
   ],
   "source": [
    "import plotly.express as px\n",
    "import pandas as pd\n",
    "import os \n",
    "\n",
    "\n",
    "## Use Pandas to read in data \n",
    "df = pd.read_csv(f\"{os.getcwd()}\\..\\data\\wifi.csv\", header=0)\n",
    "## Unify the headers \n",
    "df.columns = df.columns.str.lower()\n",
    "# print(df.head())\n",
    "\n",
    "def plot_scatter(df):\n",
    "    ## Ref.: https://plotly.com/python-api-reference/generated/plotly.express.scatter_geo \n",
    "    fig = px.scatter_geo(df, lat='latitude', lon='longitude', hover_name='address', width=800)\n",
    "    ## Ref.: https://plotly.com/python/map-configuration/\n",
    "    ## Ref.: https://plotly.com/python/reference/layout/geo/\n",
    "    # update_geos(center=dict(lon=-71.1, lat=42.32))\n",
    "    fig.update_geos(fitbounds='locations', scope='usa', showcountries=True, countrycolor='Black', showsubunits=True, subunitcolor='#008080')\n",
    "    ## Ref.: https://plotly.com/python/reference/layout/\n",
    "    fig.update_layout(title={'pad':{'r':10, 't':10, 'l':10, 'b':10}, 'text':'Boston Wi-fi', 'x':0.5, 'y':1}, \n",
    "        autosize=True, margin={'r':20, 't':20, 'l':20, 'b':20})\n",
    "    fig.show()\n",
    "\n",
    "\n",
    "plot_scatter(df)"
   ]
  },
  {
   "cell_type": "markdown",
   "metadata": {},
   "source": [
    "# 2) Which towns have the most Wifi?\n",
    "\n",
    "Create a horizontal bar chart showing the number of Wifi networks listed for each town listed.\n",
    "\n",
    "List the towns as 'Dorchester', rather than 'Dorchester, MA'.\n",
    "\n",
    "The address field may need grooming. "
   ]
  },
  {
   "cell_type": "code",
   "execution_count": 4,
   "metadata": {},
   "outputs": [
    {
     "name": "stdout",
     "output_type": "stream",
     "text": [
      "86 ['Boston', 'Dorchester', 'East Boston', 'Boston', 'Dorchester', 'Boston', 'South Boston', 'Hyde Park', 'South Boston', 'Hyde Park', 'Roxbury', 'Roxbury', 'South Boston', 'Roxbury', 'East Boston', 'Roslindale', 'Roxbury', 'Roxbury', 'Roxbury', 'Dorchester', 'Roxbury', 'Jamaica Plain', 'East Boston', 'Roxbury', 'East Boston', 'Charlestown', 'Roxbury', 'Brighton', 'Hyde Park', 'Hyde Park', 'Roxbury', 'Roxbury', 'East Boston', 'Roxbury', 'Roxbury', 'Roxbury', 'Hyde Park', 'Dorchester', 'South Boston', 'Allston', 'Dorchester', 'Dorchester', 'Roxbury', 'Hyde Park', 'Roslindale', 'Brighton', 'Allston', 'Roxbury', 'Dorchester', 'Jamaica Plain', 'Jamaica Plain', 'Roslindale', 'Roxbury', 'Hyde Park', 'Dorchester', 'Dorchester', 'Roxbury', 'Roxbury', 'East Boston', 'South Boston', 'Jamaica Plain', 'Jamaica Plain', 'Roxbury', 'Dorchester', 'Roxbury', 'Roxbury', 'Dorchester', 'Dorchester', 'Roxbury', 'South Boston', 'Dorchester', 'Boston', 'Roxbury', 'Boston', 'Roxbury', 'Roxbury', 'Boston', 'South Boston', 'Roslindale', 'Roxbury', 'Roxbury', 'Roxbury', 'Roxbury', 'Roxbury', 'Roxbury', 'Roxbury']\n"
     ]
    },
    {
     "data": {
      "image/png": "[encoded data removed]",
      "text/plain": [
       "<Figure size 432x288 with 1 Axes>"
      ]
     },
     "metadata": {
      "needs_background": "light"
     },
     "output_type": "display_data"
    }
   ],
   "source": [
    "import matplotlib.pyplot as plt\n",
    "import pandas as pd \n",
    "import numpy as np\n",
    "import re\n",
    "\n",
    "\n",
    "def plot_histogram(df):\n",
    "    \"\"\"This function plots a bar histogram showing WiFi networks per town.\"\"\"\n",
    "    ## Data cleaning \n",
    "    addresses = df['address'].tolist()\n",
    "    addresses = [ad.replace(', MA', '').replace(' MA', '').rsplit(',', 1) for ad in addresses]\n",
    "    addresses = [re.sub(' +', ' ', ad[-1].strip()) for ad in addresses]\n",
    "    print(len(addresses), addresses)\n",
    "    df['town'] = pd.DataFrame(addresses)\n",
    "    # print(df.head())\n",
    "\n",
    "    ## Plotting \n",
    "    ## Ref.: https://matplotlib.org/stable/api/_as_gen/matplotlib.pyplot.hist.html\n",
    "    plt.hist(df['town'], bins=len(df['town'].unique()), histtype='bar', align='mid', orientation='horizontal', rwidth=0.8, color='#008080')\n",
    "    plt.grid(axis='x', alpha=0.75)\n",
    "    plt.title('WiFi Networks in Different Areas/Towns')\n",
    "    plt.xlabel('Frequency')\n",
    "    plt.ylabel('Areas')\n",
    "    plt.show()\n",
    "\n",
    "\n",
    "plot_histogram(df)"
   ]
  },
  {
   "cell_type": "markdown",
   "metadata": {},
   "source": [
    "# 3) Sorting Employees\n",
    "\n",
    "We wish to take an unordered list of Employees, and get a list sorted by Company and Id.\n",
    "\n",
    "Everyone who works at 'Springfield Department of Motor Vehicles' should be in one group. \n",
    "Everyone who works at 'Springfield Nuclear Power' would be in another group, later in the list, \n",
    "and everyone who works from the Mafia would be in a group earlier in the list. \n",
    "Within each group, we want to see the low ID numbers before this high ones.\n",
    "\n",
    "For this problem, we do not want you to write a sorting program. You will use Python's sort.   \n",
    "You need to define the magic method dunder lt() for the class Employee. \n",
    "Once that is done, calling Python's sorted() on a list of Employees will return a sorted list.\n",
    "\n",
    "### Add to the cell below.  "
   ]
  },
  {
   "cell_type": "code",
   "execution_count": 5,
   "metadata": {},
   "outputs": [],
   "source": [
    "class Person:\n",
    "\n",
    "    def __init__(self, first, last):\n",
    "        self.firstname = first.capitalize()\n",
    "        self.lastname = last.capitalize()\n",
    "\n",
    "    def __str__(self):\n",
    "        return f\"{self.firstname} {self.lastname}\" \n",
    "\n",
    "class Employee(Person):\n",
    "\n",
    "    def __init__(self, first, last, company, id):\n",
    "        ## Call the superclass to set common information\n",
    "        super().__init__(first, last)\n",
    "        self.id = id\n",
    "        self.company = company\n",
    "\n",
    "    def __str__(self):\n",
    "        ## Call the superclass to display common information\n",
    "        return f\"{super().__str__()}, {str(self.id)} at {self.company}\"\n",
    "\n",
    "    ## Ref.: https://docs.python.org/3/library/operator.html\n",
    "    ## Ref.: https://docs.python.org/3/reference/datamodel.html#customization    \n",
    "    def __lt__(self, other): \n",
    "        ## Ref.: https://www.geeksforgeeks.org/sorting-objects-of-user-defined-class-in-python/\n",
    "        return (self.company, self.id) < (other.company, other.id)"
   ]
  },
  {
   "cell_type": "markdown",
   "metadata": {},
   "source": [
    "## Unit Test"
   ]
  },
  {
   "cell_type": "code",
   "execution_count": 6,
   "metadata": {},
   "outputs": [
    {
     "name": "stdout",
     "output_type": "stream",
     "text": [
      "Homer Simpson, 1005 at Springfield Nuclear Power\n",
      "Barney Gumble, 1 at Plow King\n",
      "Clancy Wiggum, 1 at Police Department\n",
      "Edna Krabapple, 39 at Springfield Elementary School\n",
      "Seymour Skinner, 1 at Springfield Elementary School\n",
      "Charles Burns, 1 at Springfield Nuclear Power\n",
      "Waylon Smithers, 2 at Springfield Nuclear Power\n",
      "Patty Bouvier, 39 at Springfield Department of Motor Vehicles\n",
      "Selma Bouvier, 38 at Springfield Department of Motor Vehicles\n",
      "Robert Terwilliger, 31 at Channel 6\n",
      "Herschel Krustofsky, 2 at Channel 6\n",
      "Lois Pennycandy, 46 at Channel 6\n",
      "Johnny Cevasco, 2 at Mafia\n",
      "Fat Tony, 1 at Mafia\n",
      "Max Legman, 3 at Mafia\n",
      "Louie Walters, 4 at Mafia\n",
      "====================================================================================================\n",
      "Herschel Krustofsky, 2 at Channel 6\n",
      "Robert Terwilliger, 31 at Channel 6\n",
      "Lois Pennycandy, 46 at Channel 6\n",
      "Fat Tony, 1 at Mafia\n",
      "Johnny Cevasco, 2 at Mafia\n",
      "Max Legman, 3 at Mafia\n",
      "Louie Walters, 4 at Mafia\n",
      "Barney Gumble, 1 at Plow King\n",
      "Clancy Wiggum, 1 at Police Department\n",
      "Selma Bouvier, 38 at Springfield Department of Motor Vehicles\n",
      "Patty Bouvier, 39 at Springfield Department of Motor Vehicles\n",
      "Seymour Skinner, 1 at Springfield Elementary School\n",
      "Edna Krabapple, 39 at Springfield Elementary School\n",
      "Charles Burns, 1 at Springfield Nuclear Power\n",
      "Waylon Smithers, 2 at Springfield Nuclear Power\n",
      "Homer Simpson, 1005 at Springfield Nuclear Power\n",
      "Success!\n"
     ]
    }
   ],
   "source": [
    "lst = [\n",
    "    Employee('Homer', 'Simpson', 'Springfield Nuclear Power', 1005),\n",
    "    Employee('Barney', 'Gumble', 'Plow King', 1),\n",
    "    Employee('Clancy', 'Wiggum', 'Police Department', 1),\n",
    "    Employee('Edna', 'Krabapple', 'Springfield Elementary School', 39),\n",
    "    Employee('Seymour', 'Skinner', 'Springfield Elementary School', 1),\n",
    "    Employee('Charles', 'Burns', 'Springfield Nuclear Power', 1),\n",
    "    Employee('Waylon', 'Smithers', 'Springfield Nuclear Power', 2),\n",
    "    Employee('Patty', 'Bouvier', 'Springfield Department of Motor Vehicles', 39),\n",
    "    Employee('Selma', 'Bouvier', 'Springfield Department of Motor Vehicles', 38),\n",
    "    Employee('Robert', 'Terwilliger', 'Channel 6', 31),\n",
    "    Employee('Herschel', 'Krustofsky', 'Channel 6', 2),\n",
    "    Employee('Lois', 'Pennycandy', 'Channel 6', 46),\n",
    "    Employee('Johnny', 'Cevasco', 'Mafia', 2),\n",
    "    Employee('Fat', 'Tony', 'Mafia', 1),\n",
    "    Employee('Max', 'Legman', 'Mafia', 3 ),\n",
    "    Employee('Louie', 'Walters', 'Mafia', 4)\n",
    "    ]\n",
    "\n",
    "for emp in lst:\n",
    "    print(emp)\n",
    "    \n",
    "print('='*100)\n",
    "\n",
    "# Sort the people\n",
    "lst = sorted(lst)\n",
    "\n",
    "# Check that the list is sorted\n",
    "for first, second in zip(lst[:-1], lst[1:]):\n",
    "    assert (first.company, first.id) < (second.company, second.id)\n",
    "\n",
    "for emp in lst:\n",
    "    print(emp)\n",
    "\n",
    "print(\"Success!\")"
   ]
  },
  {
   "cell_type": "markdown",
   "metadata": {},
   "source": [
    "# 4) Phone Numbers\n",
    "\n",
    "The \"North American Numbering Plan\" (NANP) is a telephone numbering system used by many countries in North America. All NANP-countries share the same international country code: `1`.\n",
    "\n",
    "You are to create a class that takes a string and returns an object holding a valid NANP phone number.  \n",
    "\n",
    "NANP numbers are ten-digit numbers consisting of a three-digit area code and a seven-digit local number. The first three digits of the local number are the \"exchange code\", and the four-digit number which follows is the \"subscriber number\".\n",
    "\n",
    "The format is usually represented as (NXX)-NXX-XXXX where `N` is any digit from 2 through 9 and `X` is any digit from 0 through 9.\n",
    "\n",
    "Your task is to clean up differently formatted telephone numbers by removing punctuation and the country code (1) if present.  \n",
    "\n",
    "For example, the strings below \n",
    "\n",
    "```python\n",
    "    +1 (617) 495-4024\n",
    "\n",
    "    617-495-4024\n",
    "\n",
    "    1 617 495 4024\n",
    "\n",
    "    617.495.4024\n",
    "```\n",
    "\n",
    "should all produce an object that is printed as (617) 495-4024\n",
    "\n",
    "## ValueErrors\n",
    "\n",
    "If you are asked to create a phone number that does not meet the pattern above, you should throw a ValueError with a string explaining the problem.  We run through 5 different problems below: each should generate a different error message.    \n",
    "\n",
    "For example, for the third string below, you might say:\n",
    "\n",
    "```python\n",
    "     raise ValueError(f'Invalid Country Code: {code}')\n",
    "```\n",
    "\n",
    "### Here are the 5 errors should be able to catch\n",
    "\n",
    "```python\n",
    "    +1 (617) 495-40247 has too many digits\n",
    "\n",
    "    (617) 495-402 has too few digits\n",
    "\n",
    "    +2 (617) 495-4024 has the wrong country code, 2\n",
    "\n",
    "    (017) 495-4024 has an illegal area code, 017\n",
    "\n",
    "    (617) 195-4024 has an illegal exchange code, 195\n",
    "```"
   ]
  },
  {
   "cell_type": "code",
   "execution_count": 7,
   "metadata": {},
   "outputs": [],
   "source": [
    "class Phone(object):\n",
    "    \"\"\"A NANP phone number\"\"\"\n",
    "    \n",
    "    def __init__(self, phone_number: str):\n",
    "        self.phone_number = phone_number\n",
    "        \n",
    "    def __str__(self) -> str: \n",
    "        return f\"{self.phone_number}\" "
   ]
  },
  {
   "cell_type": "markdown",
   "metadata": {},
   "source": [
    "## Unit Tests"
   ]
  },
  {
   "cell_type": "code",
   "execution_count": 8,
   "metadata": {},
   "outputs": [
    {
     "ename": "AssertionError",
     "evalue": "",
     "output_type": "error",
     "traceback": [
      "\u001b[1;31m---------------------------------------------------------------------------\u001b[0m",
      "\u001b[1;31mAssertionError\u001b[0m                            Traceback (most recent call last)",
      "\u001b[1;32m~\\AppData\\Local\\Temp/ipykernel_19444/3754263283.py\u001b[0m in \u001b[0;36m<module>\u001b[1;34m\u001b[0m\n\u001b[0;32m     12\u001b[0m     \u001b[0mprint\u001b[0m\u001b[1;33m(\u001b[0m\u001b[1;34m'Success!'\u001b[0m\u001b[1;33m)\u001b[0m\u001b[1;33m\u001b[0m\u001b[1;33m\u001b[0m\u001b[0m\n\u001b[0;32m     13\u001b[0m \u001b[1;33m\u001b[0m\u001b[0m\n\u001b[1;32m---> 14\u001b[1;33m \u001b[0mtest_phone_numbers\u001b[0m\u001b[1;33m(\u001b[0m\u001b[1;33m)\u001b[0m\u001b[1;33m\u001b[0m\u001b[1;33m\u001b[0m\u001b[0m\n\u001b[0m",
      "\u001b[1;32m~\\AppData\\Local\\Temp/ipykernel_19444/3754263283.py\u001b[0m in \u001b[0;36mtest_phone_numbers\u001b[1;34m()\u001b[0m\n\u001b[0;32m      4\u001b[0m \u001b[1;33m\u001b[0m\u001b[0m\n\u001b[0;32m      5\u001b[0m     \u001b[1;31m# Valid NANP Phone numbers\u001b[0m\u001b[1;33m\u001b[0m\u001b[1;33m\u001b[0m\u001b[1;33m\u001b[0m\u001b[0m\n\u001b[1;32m----> 6\u001b[1;33m     \u001b[1;32massert\u001b[0m \u001b[0mPhone\u001b[0m\u001b[1;33m(\u001b[0m\u001b[1;34m\"+1 (617) 495-4024\"\u001b[0m\u001b[1;33m)\u001b[0m\u001b[1;33m.\u001b[0m\u001b[0m__str__\u001b[0m\u001b[1;33m(\u001b[0m\u001b[1;33m)\u001b[0m \u001b[1;33m==\u001b[0m \u001b[1;34m\"(617) 495-4024\"\u001b[0m\u001b[1;33m\u001b[0m\u001b[1;33m\u001b[0m\u001b[0m\n\u001b[0m\u001b[0;32m      7\u001b[0m     \u001b[1;32massert\u001b[0m \u001b[0mPhone\u001b[0m\u001b[1;33m(\u001b[0m\u001b[1;34m\"617-495-4024\"\u001b[0m\u001b[1;33m)\u001b[0m\u001b[1;33m.\u001b[0m\u001b[0m__str__\u001b[0m\u001b[1;33m(\u001b[0m\u001b[1;33m)\u001b[0m \u001b[1;33m==\u001b[0m \u001b[1;34m\"(617) 495-4024\"\u001b[0m\u001b[1;33m\u001b[0m\u001b[1;33m\u001b[0m\u001b[0m\n\u001b[0;32m      8\u001b[0m     \u001b[1;32massert\u001b[0m \u001b[0mPhone\u001b[0m\u001b[1;33m(\u001b[0m\u001b[1;34m\"1 617 495 4024\"\u001b[0m\u001b[1;33m)\u001b[0m\u001b[1;33m.\u001b[0m\u001b[0m__str__\u001b[0m\u001b[1;33m(\u001b[0m\u001b[1;33m)\u001b[0m \u001b[1;33m==\u001b[0m \u001b[1;34m\"(617) 495-4024\"\u001b[0m\u001b[1;33m\u001b[0m\u001b[1;33m\u001b[0m\u001b[0m\n",
      "\u001b[1;31mAssertionError\u001b[0m: "
     ]
    }
   ],
   "source": [
    "def test_phone_numbers():\n",
    "    number = Phone(\"(223) 456-7890\")\n",
    "    assert number.__str__() == \"(223) 456-7890\"\n",
    "\n",
    "    # Valid NANP Phone numbers\n",
    "    assert Phone(\"+1 (617) 495-4024\").__str__() == \"(617) 495-4024\"\n",
    "    assert Phone(\"617-495-4024\").__str__() == \"(617) 495-4024\"\n",
    "    assert Phone(\"1 617 495 4024\").__str__() == \"(617) 495-4024\"\n",
    "    assert Phone(\"617.495.4024\").__str__() == \"(617) 495-4024\"\n",
    "    assert Phone(\"6174954024\").__str__() == \"(617) 495-4024\"\n",
    "\n",
    "    print('Success!')\n",
    "\n",
    "test_phone_numbers()"
   ]
  },
  {
   "cell_type": "markdown",
   "metadata": {},
   "source": [
    "## Unit Tests of your Exceptions"
   ]
  },
  {
   "cell_type": "code",
   "execution_count": null,
   "metadata": {},
   "outputs": [],
   "source": [
    "def test_phone_errors():\n",
    "\n",
    "    # Illegal NANP numbers: You should raise a ValueError Exception\n",
    "    try:\n",
    "        number = Phone(\"+1 (617) 495-40247\")\n",
    "        assert(1 == 0)    # Should not get here\n",
    "    except ValueError:\n",
    "        pass\n",
    "\n",
    "    try:\n",
    "        number = Phone(\"(617) 495-402\")\n",
    "        assert(1 == 0)    # Should not get here\n",
    "    except ValueError:\n",
    "        pass\n",
    "\n",
    "    try:\n",
    "        number = Phone(\"+2 (617) 495-4024\")\n",
    "        assert(1 == 0)    # Should not get here\n",
    "    except ValueError:\n",
    "        pass\n",
    "\n",
    "    try:\n",
    "        number = Phone(\"(017) 495-4024\")\n",
    "        assert(1 == 0)    # Should not get here\n",
    "    except ValueError:\n",
    "        pass\n",
    "\n",
    "    try:\n",
    "        number = Phone(\"(617) 195-4024\")\n",
    "        assert(1 == 0)    # Should not get here\n",
    "    except ValueError:\n",
    "        pass\n",
    "\n",
    "    print(\"Success!\")\n",
    "\n",
    "test_phone_errors()"
   ]
  },
  {
   "cell_type": "markdown",
   "metadata": {},
   "source": [
    "## Show us your exception messages\n",
    "There should be different messages for each different error"
   ]
  },
  {
   "cell_type": "code",
   "execution_count": null,
   "metadata": {},
   "outputs": [],
   "source": [
    "number = Phone(\"+1 (617) 495-40247\")"
   ]
  },
  {
   "cell_type": "code",
   "execution_count": null,
   "metadata": {},
   "outputs": [],
   "source": [
    "number = Phone(\"(617) 495-402\")"
   ]
  },
  {
   "cell_type": "code",
   "execution_count": null,
   "metadata": {},
   "outputs": [],
   "source": [
    "number = Phone(\"+2 (617) 495-4024\")"
   ]
  },
  {
   "cell_type": "code",
   "execution_count": null,
   "metadata": {},
   "outputs": [],
   "source": [
    "number = Phone(\"(017) 495-4024\")"
   ]
  },
  {
   "cell_type": "code",
   "execution_count": null,
   "metadata": {},
   "outputs": [],
   "source": [
    "number = Phone(\"(617) 195-4024\")"
   ]
  },
  {
   "cell_type": "markdown",
   "metadata": {},
   "source": [
    "# Post Mortem\n",
    "## How long did it take you to solve this problem set?\n",
    "## Did anything confuse you or cause difficulty?"
   ]
  },
  {
   "cell_type": "code",
   "execution_count": null,
   "metadata": {},
   "outputs": [],
   "source": [
    "# Two entire days "
   ]
  }
 ],
 "metadata": {
  "kernelspec": {
   "display_name": "Python 3 (ipykernel)",
   "language": "python",
   "name": "python3"
  },
  "language_info": {
   "codemirror_mode": {
    "name": "ipython",
    "version": 3
   },
   "file_extension": ".py",
   "mimetype": "text/x-python",
   "name": "python",
   "nbconvert_exporter": "python",
   "pygments_lexer": "ipython3",
   "version": "3.8.12"
  }
 },
 "nbformat": 4,
 "nbformat_minor": 1
}
