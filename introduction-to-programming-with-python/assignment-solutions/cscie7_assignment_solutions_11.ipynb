{
 "cells": [
  {
   "cell_type": "markdown",
   "metadata": {},
   "source": [
    "# Homework 11\n",
    "## Due Nov 16th, 2020"
   ]
  },
  {
   "cell_type": "markdown",
   "metadata": {},
   "source": [
    "# 1) Four or more\n",
    "\n",
    "You goal is to find the words in Downey's words.txt that have 4 consecutive vowels.  (That is, four vowels in a row)\n",
    "\n",
    "Write a Regular Expression that matches 4 vowels in a row, and use it to search the word list."
   ]
  },
  {
   "cell_type": "code",
   "execution_count": null,
   "metadata": {},
   "outputs": [],
   "source": [
    "import re\n",
    "\n",
    "def four_or_more(phrase: str) -> bool:\n",
    "    \"\"\"Does this string have 4 vowels in a row?\"\"\"\n",
    "    m = re.search(r'[aeiou]{4}', phrase.lower())\n",
    "    return m != None\n",
    "\n",
    "# Basic testing\n",
    "print(four_or_more('aei'))\n",
    "print(four_or_more('xaeioz'))"
   ]
  },
  {
   "cell_type": "markdown",
   "metadata": {},
   "source": [
    "## Reuse our filtering routine"
   ]
  },
  {
   "cell_type": "code",
   "execution_count": null,
   "metadata": {},
   "outputs": [],
   "source": [
    "def filter(fileName, func):\n",
    "    \"\"\"Return strings that match\"\"\"\n",
    "    result = []\n",
    "\n",
    "    try:                             # Try to open file: EFAP\n",
    "        with open(fileName, 'rt') as f:\n",
    "            for line in f:\n",
    "                line = line.strip()\n",
    "                if func(line):\n",
    "                    result.append(line) \n",
    "    \n",
    "    except FileNotFoundError:\n",
    "        print(\"No such file\", fileName)\n",
    "\n",
    "    return result"
   ]
  },
  {
   "cell_type": "code",
   "execution_count": null,
   "metadata": {},
   "outputs": [],
   "source": [
    "print(filter('../../Programs/words.txt', four_or_more))"
   ]
  },
  {
   "cell_type": "markdown",
   "metadata": {},
   "source": [
    "# 2) Valid Integers\n",
    "\n",
    "Write a RE that decides if a string holds a valid integer.  "
   ]
  },
  {
   "cell_type": "code",
   "execution_count": null,
   "metadata": {},
   "outputs": [],
   "source": [
    "def is_integer(s: str) -> bool:\n",
    "    \"\"\"Is this string a valid integer?\"\"\"\n",
    "    m = re.search(r'^[+-]?\\d+$', s)\n",
    "    return m != None\n",
    "\n",
    "# Basic tests\n",
    "print(is_integer('-123'))\n",
    "print(is_integer(' -123'))\n",
    "print(is_integer('-123 '))"
   ]
  },
  {
   "cell_type": "markdown",
   "metadata": {},
   "source": [
    "## Unit Tests"
   ]
  },
  {
   "cell_type": "code",
   "execution_count": null,
   "metadata": {},
   "outputs": [],
   "source": [
    "def test_is_integer():\n",
    "    assert is_integer(\"5\")\n",
    "    assert not is_integer(\"a5\")\n",
    "    assert not is_integer(\"5a\")\n",
    "    assert is_integer(\"5000\")\n",
    "    assert is_integer(\"-999\")\n",
    "    assert is_integer(\"+999\")\n",
    "    assert not is_integer(\"-+999\")        ## Added two tests we should pass\n",
    "    assert not is_integer(\"+-999\")\n",
    "    assert is_integer(\"00\")\n",
    "    assert not is_integer(\"0.0\")\n",
    "    assert not is_integer(\"-\")\n",
    "    assert not is_integer(\" 5\")\n",
    "    assert not is_integer(\"\")\n",
    "    \n",
    "    print('Success!!')\n",
    "    \n",
    "test_is_integer()"
   ]
  },
  {
   "cell_type": "markdown",
   "metadata": {},
   "source": [
    "# 3) Graph Global Mile records\n",
    "\n",
    "Take a look at the data here: you can harvest it from the web, or use a CSV file we'll provide.  \n",
    "\n",
    "https://github.com/KarenWest/FundamentalsOfDataAnalysisInLanguageR/blob/master/WorldRecords.csv\n",
    "\n",
    "We haven't discussed many of the points below: you will need to explore the documentation on your own. \n",
    "\n",
    "https://matplotlib.org/3.2.1/contents.html\n",
    "    \n",
    "The CSV file has many records. \n",
    "Plot the world records for the mile.  Let X be the year and Y be the time in seconds.  \n",
    "\n",
    "Map the Mens and Womens records on the same graph in different colors.\n",
    "\n",
    "Since records for men and women were set in different years, you won't be able to use plot().  Use a scatter plot instead.\n",
    "\n",
    "Make sure your X and Y values are numbers, rather than the strings in the table.  \n",
    "Include labels for the X and Y axis, and a legend telling us what the colors mean.\n",
    "\n",
    "Include a horizontal line at y = 240: the 4 minute barrier has been a touchstone and a benchmark for years.    \n",
    "\n",
    "You will want the Y axis to include 0 so that we can judge the times relative to the time it takes to run a mile, but you don't want to include the origin: you don't want to go back to 0 AD.  We don't have good records until the 20th century.  \n",
    "\n",
    "### Hint: here are some matplotlib calls to investigate\n",
    "\n",
    "```python\n",
    "    plt.scatter()     # Be sure to investigate the optional parameters\n",
    "    plt.legend()\n",
    "    plt.xlabel()\n",
    "    plt.ylabel()\n",
    "    plt.ylim()\n",
    "```"
   ]
  },
  {
   "cell_type": "code",
   "execution_count": null,
   "metadata": {},
   "outputs": [],
   "source": [
    "#### Plot Mile Records\n",
    "#\n",
    "# Jeff Parker   April 2020\n",
    "\n",
    "import csv\n",
    "from collections import defaultdict\n",
    "import matplotlib.pyplot as plt\n",
    "\n",
    "def import_file(fileName):\n",
    "    \"\"\"Takes a filename, returns a list of mile records\"\"\"\n",
    "\n",
    "    try:                             # Try to open file: EFAP\n",
    "        with open(fileName, 'rt') as f:\n",
    "            reader = csv.reader(f)\n",
    "\n",
    "            # Get all matching lines\n",
    "            return [row for row in reader if 'Mile' in row[0]]\n",
    "        \n",
    "    except FileNotFoundError:\n",
    "        print(\"No such file\", fileName)\n",
    "        return [] "
   ]
  },
  {
   "cell_type": "code",
   "execution_count": null,
   "metadata": {},
   "outputs": [],
   "source": [
    "import_file('foobar')"
   ]
  },
  {
   "cell_type": "code",
   "execution_count": null,
   "metadata": {},
   "outputs": [],
   "source": [
    "## Use a Unix command to look at the file\n",
    "\n",
    "! head '../../Data/WorldRecords.csv' "
   ]
  },
  {
   "cell_type": "code",
   "execution_count": null,
   "metadata": {},
   "outputs": [],
   "source": [
    "def plot_results(lst):\n",
    "    \"\"\"Take a list of records and create scatter plots\"\"\"\n",
    "    \n",
    "    four_minutes = 4 * 60\n",
    "    \n",
    "    # Build lists\n",
    "    x1, y1 = [], []\n",
    "    x2, y2 = [], []\n",
    "    for row in lst:\n",
    "        time = float(row[2])          # Time in seconds\n",
    "        year = int(row[6])\n",
    "        if 'Men' in row[0]:\n",
    "             x1.append(year)\n",
    "             y1.append(time)\n",
    "        elif 'Women' in row[0]:\n",
    "             x2.append(year)\n",
    "             y2.append(time)\n",
    "\n",
    "    # Create the scatter plots\n",
    "    plt.scatter(x1, y1, c='r', label='Men')\n",
    "    plt.scatter(x2, y2, c='b', label='Women')\n",
    "    \n",
    "    # Put floor and ceiling on chart\n",
    "    plt.ylim(ymin=0, ymax=300)\n",
    "    \n",
    "    # Label the chart\n",
    "    plt.xlabel('Year')\n",
    "    plt.ylabel('Time to run a mile in seconds')\n",
    "    plt.title('World Records for running a Mile')\n",
    "    \n",
    "    # 4 minute mark\n",
    "    low, high = plt.xlim()\n",
    "    plt.hlines(four_minutes, low, high, colors='g', linestyles='solid', label='4 minutes')\n",
    "    \n",
    "    # Build the legend\n",
    "    plt.legend()\n",
    "    plt.show()"
   ]
  },
  {
   "cell_type": "code",
   "execution_count": null,
   "metadata": {},
   "outputs": [],
   "source": [
    "lst   = import_file('../../Data/WorldRecords.csv')\n",
    "plot_results(lst)"
   ]
  },
  {
   "cell_type": "markdown",
   "metadata": {},
   "source": [
    "# 4) People\n",
    "\n",
    "We define a class Person which describes a citizen with a name.\n",
    "Students and Employees are subclasses of Persons.\n",
    "\n",
    "You will need to redefine, or override, methods for the subclasses to make the tests below pass.\n",
    "\n",
    "We have made a start defining a Student, but have done nothing for Employee.  Read the Unit Tests to see what you will need to add or change.  "
   ]
  },
  {
   "cell_type": "code",
   "execution_count": null,
   "metadata": {},
   "outputs": [],
   "source": [
    "class Person:\n",
    "\n",
    "    def __init__(self, first, last):\n",
    "        self.firstname = first\n",
    "        self.lastname = last\n",
    "\n",
    "    def __str__(self):\n",
    "        return self.firstname + \" \" + self.lastname\n",
    "\n",
    "    def __eq__(self, other):\n",
    "        return (self.firstname == other.firstname) \\\n",
    "            and (self.lastname == other.lastname)\n",
    "\n",
    "    def is_employed(self):\n",
    "        return False\n",
    "\n",
    "\n",
    "class Student(Person):\n",
    "    \"Person who is a student\"\n",
    "\n",
    "    def __init__(self, first, last, school, id):\n",
    "        # Call Superclass to set common information\n",
    "        super().__init__(first, last)\n",
    "        self.school = school\n",
    "        self.id = id\n",
    "\n",
    "    def __str__(self):\n",
    "        # Call Superclass to dispaly common information\n",
    "        return super().__str__() + \", \" + str(self.id) + ' at ' + self.school\n",
    "\n",
    "    def __eq__(self, other):\n",
    "        return super().__eq__(other) and (self.id == other.id) and (self.school == other.school)\n",
    "\n",
    "class Employee(Person):\n",
    "    \"Person who is employed\"\n",
    "    def __init__(self, first, last, company, id):\n",
    "        pass"
   ]
  },
  {
   "cell_type": "markdown",
   "metadata": {},
   "source": [
    "## My Solution"
   ]
  },
  {
   "cell_type": "code",
   "execution_count": null,
   "metadata": {},
   "outputs": [],
   "source": [
    "class Person:\n",
    "\n",
    "    def __init__(self, first, last):\n",
    "        self.firstname = first.capitalize() # jdp - Capitalize names\n",
    "        self.lastname = last.capitalize()   # jdp\n",
    "\n",
    "        \n",
    "    def __str__(self):\n",
    "        return self.firstname + \" \" + self.lastname\n",
    "    \n",
    "\n",
    "    def __eq__(self, other):\n",
    "        return (self.firstname == other.firstname) \\\n",
    "            and (self.lastname == other.lastname)\n",
    "    \n",
    "\n",
    "    def is_employed(self):\n",
    "        return False\n",
    "\n",
    "\n",
    "\n",
    "class Student(Person):\n",
    "    \"Person who is a student\"\n",
    "\n",
    "    def __init__(self, first, last, school, id):\n",
    "        # Call Superclass to set common information\n",
    "        super().__init__(first, last)\n",
    "        self.school = school\n",
    "        self.id = id\n",
    "        \n",
    "\n",
    "    def __str__(self):\n",
    "        # Call Superclass to dispaly common information\n",
    "        return super().__str__() + \", \" + str(self.id) + ' at ' + self.school\n",
    "    \n",
    "\n",
    "    def __eq__(self, other):\n",
    "        if not isinstance(other, Student):     # Don't compare apples and oranges - jdp\n",
    "            return False\n",
    "        return super().__eq__(other) and (self.id == other.id) and (self.school == other.school)\n",
    "\n",
    "    \n",
    "class Employee(Person):                        # All routines below added - jdp\n",
    "    \"Person who is employed\"\n",
    "    def __init__(self, first, last, company, id):\n",
    "        super().__init__(first, last)\n",
    "        self.company = company\n",
    "        self.id = id\n",
    "        \n",
    "        \n",
    "    def __str__(self):\n",
    "        # Call Superclass to dispaly common information\n",
    "        return super().__str__() + \", \" + str(self.id) + ' at ' + self.company\n",
    "\n",
    "    \n",
    "    def __eq__(self, other):\n",
    "        if not isinstance(other, Employee):       # Don't compare apples and oranges\n",
    "            return False\n",
    "        return super().__eq__(other) and (self.id == other.id) and (self.company == other.company)\n",
    "    \n",
    "    \n",
    "    def is_employed(self):\n",
    "        return True"
   ]
  },
  {
   "cell_type": "markdown",
   "metadata": {},
   "source": [
    "## Unit Tests for Person"
   ]
  },
  {
   "cell_type": "code",
   "execution_count": null,
   "metadata": {},
   "outputs": [],
   "source": [
    "def test_person():\n",
    "    \n",
    "    # People\n",
    "    man1 = Person(\"Homer\", \"Simpson\")\n",
    "    man2 = Person(\"homer\", \"simpson\")\n",
    "    assert man1 == man2\n",
    "    assert not man1.is_employed()\n",
    "    assert man1.__str__() == 'Homer Simpson'\n",
    "    assert man2.__str__() == 'Homer Simpson'\n",
    "    \n",
    "    # Students\n",
    "    woman1 = Student(\"Marge\", \"Simpson\", 'Simmons', 107)\n",
    "    woman2 = Student(\"Marge\", \"Simpson\", 'Wheelock', 153)\n",
    "    assert woman1.__str__() == \"Marge Simpson, 107 at Simmons\"\n",
    "    assert woman2.__str__() == \"Marge Simpson, 153 at Wheelock\"\n",
    "    assert not woman1 == woman2\n",
    "\n",
    "    # Employees\n",
    "    moe1 = Employee(\"Moe\", \"Szyslak\", 'Tavern', 153)\n",
    "    assert moe1.__str__() == \"Moe Szyslak, 153 at Tavern\"\n",
    "    assert not moe1 == woman2\n",
    "\n",
    "    moe = Employee(\"Moe\", \"Szyslak\", 'Tavern', 153)\n",
    "    assert moe.__str__() == \"Moe Szyslak, 153 at Tavern\"\n",
    "    assert not moe == woman2\n",
    "\n",
    "    waylon = Employee(\"Waylon\", \"Smithers\", \"Springfield Power\", 2)\n",
    "    assert not moe == waylon\n",
    "   \n",
    "    # Cross Check\n",
    "    moe2 = Student(\"Moe\", \"Szyslak\", 'BC', 153)\n",
    "    assert moe2.__str__() == \"Moe Szyslak, 153 at BC\"\n",
    "    assert not moe == moe2\n",
    "    assert not moe2 == moe\n",
    "\n",
    "    print(\"Success!\")\n",
    "    \n",
    "test_person()"
   ]
  }
 ],
 "metadata": {
  "kernelspec": {
   "display_name": "Python 3",
   "language": "python",
   "name": "python3"
  },
  "language_info": {
   "codemirror_mode": {
    "name": "ipython",
    "version": 3
   },
   "file_extension": ".py",
   "mimetype": "text/x-python",
   "name": "python",
   "nbconvert_exporter": "python",
   "pygments_lexer": "ipython3",
   "version": "3.8.10"
  }
 },
 "nbformat": 4,
 "nbformat_minor": 1
}
